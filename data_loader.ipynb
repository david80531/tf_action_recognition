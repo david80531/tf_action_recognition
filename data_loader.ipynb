{
 "cells": [
  {
   "cell_type": "code",
   "execution_count": 2,
   "metadata": {},
   "outputs": [
    {
     "name": "stderr",
     "output_type": "stream",
     "text": [
      "[2018-07-27 15:37:57,902] [TfPoseEstimator] [INFO] loading graph from /home/MPLab/mplab006/tf_action_recognition/models/graph/mobilenet_thin/graph_opt.pb(default size=320x240)\n",
      "[2018-07-27 15:37:59,955] [TfPoseEstimator-Video] [DEBUG] initialization mobilenet_thin : /home/MPLab/mplab006/tf_action_recognition/models/graph/mobilenet_thin/graph_opt.pb\n"
     ]
    },
    {
     "name": "stdout",
     "output_type": "stream",
     "text": [
      "inferencing video:  v_PlayingCello_g01_c01.avi  from  PlayingCello  directory\n"
     ]
    },
    {
     "name": "stderr",
     "output_type": "stream",
     "text": [
      "[2018-07-27 15:38:00,849] [TfPoseEstimator-Video] [DEBUG] initialization mobilenet_thin : /home/MPLab/mplab006/tf_action_recognition/models/graph/mobilenet_thin/graph_opt.pb\n"
     ]
    },
    {
     "name": "stdout",
     "output_type": "stream",
     "text": [
      "video  v_PlayingCello_g01_c01.avi  inferenced done.\n",
      "# of finished videos:  1\n",
      "# of finished directories:  0\n",
      "inferencing video:  v_PlayingCello_g01_c02.avi  from  PlayingCello  directory\n"
     ]
    },
    {
     "name": "stderr",
     "output_type": "stream",
     "text": [
      "[2018-07-27 15:38:01,719] [TfPoseEstimator-Video] [DEBUG] initialization mobilenet_thin : /home/MPLab/mplab006/tf_action_recognition/models/graph/mobilenet_thin/graph_opt.pb\n"
     ]
    },
    {
     "name": "stdout",
     "output_type": "stream",
     "text": [
      "video  v_PlayingCello_g01_c02.avi  inferenced done.\n",
      "# of finished videos:  2\n",
      "# of finished directories:  0\n",
      "inferencing video:  v_PlayingCello_g01_c03.avi  from  PlayingCello  directory\n"
     ]
    },
    {
     "name": "stderr",
     "output_type": "stream",
     "text": [
      "[2018-07-27 15:38:02,603] [TfPoseEstimator-Video] [DEBUG] initialization mobilenet_thin : /home/MPLab/mplab006/tf_action_recognition/models/graph/mobilenet_thin/graph_opt.pb\n"
     ]
    },
    {
     "name": "stdout",
     "output_type": "stream",
     "text": [
      "video  v_PlayingCello_g01_c03.avi  inferenced done.\n",
      "# of finished videos:  3\n",
      "# of finished directories:  0\n",
      "inferencing video:  v_PlayingCello_g01_c04.avi  from  PlayingCello  directory\n"
     ]
    },
    {
     "name": "stderr",
     "output_type": "stream",
     "text": [
      "[2018-07-27 15:38:03,484] [TfPoseEstimator-Video] [DEBUG] initialization mobilenet_thin : /home/MPLab/mplab006/tf_action_recognition/models/graph/mobilenet_thin/graph_opt.pb\n"
     ]
    },
    {
     "name": "stdout",
     "output_type": "stream",
     "text": [
      "video  v_PlayingCello_g01_c04.avi  inferenced done.\n",
      "# of finished videos:  4\n",
      "# of finished directories:  0\n",
      "inferencing video:  v_PlayingCello_g01_c05.avi  from  PlayingCello  directory\n"
     ]
    },
    {
     "name": "stderr",
     "output_type": "stream",
     "text": [
      "[2018-07-27 15:38:04,375] [TfPoseEstimator-Video] [DEBUG] initialization mobilenet_thin : /home/MPLab/mplab006/tf_action_recognition/models/graph/mobilenet_thin/graph_opt.pb\n"
     ]
    },
    {
     "name": "stdout",
     "output_type": "stream",
     "text": [
      "video  v_PlayingCello_g01_c05.avi  inferenced done.\n",
      "# of finished videos:  5\n",
      "# of finished directories:  0\n",
      "inferencing video:  v_PlayingCello_g01_c06.avi  from  PlayingCello  directory\n"
     ]
    },
    {
     "name": "stderr",
     "output_type": "stream",
     "text": [
      "[2018-07-27 15:38:05,268] [TfPoseEstimator-Video] [DEBUG] initialization mobilenet_thin : /home/MPLab/mplab006/tf_action_recognition/models/graph/mobilenet_thin/graph_opt.pb\n"
     ]
    },
    {
     "name": "stdout",
     "output_type": "stream",
     "text": [
      "video  v_PlayingCello_g01_c06.avi  inferenced done.\n",
      "# of finished videos:  6\n",
      "# of finished directories:  0\n",
      "inferencing video:  v_PlayingCello_g01_c07.avi  from  PlayingCello  directory\n"
     ]
    },
    {
     "name": "stderr",
     "output_type": "stream",
     "text": [
      "[2018-07-27 15:38:06,151] [TfPoseEstimator-Video] [DEBUG] initialization mobilenet_thin : /home/MPLab/mplab006/tf_action_recognition/models/graph/mobilenet_thin/graph_opt.pb\n"
     ]
    },
    {
     "name": "stdout",
     "output_type": "stream",
     "text": [
      "video  v_PlayingCello_g01_c07.avi  inferenced done.\n",
      "# of finished videos:  7\n",
      "# of finished directories:  0\n",
      "inferencing video:  v_PlayingCello_g02_c01.avi  from  PlayingCello  directory\n"
     ]
    },
    {
     "name": "stderr",
     "output_type": "stream",
     "text": [
      "[2018-07-27 15:38:07,058] [TfPoseEstimator-Video] [DEBUG] initialization mobilenet_thin : /home/MPLab/mplab006/tf_action_recognition/models/graph/mobilenet_thin/graph_opt.pb\n"
     ]
    },
    {
     "name": "stdout",
     "output_type": "stream",
     "text": [
      "video  v_PlayingCello_g02_c01.avi  inferenced done.\n",
      "# of finished videos:  8\n",
      "# of finished directories:  0\n",
      "inferencing video:  v_PlayingCello_g02_c02.avi  from  PlayingCello  directory\n"
     ]
    },
    {
     "name": "stderr",
     "output_type": "stream",
     "text": [
      "[2018-07-27 15:38:07,945] [TfPoseEstimator-Video] [DEBUG] initialization mobilenet_thin : /home/MPLab/mplab006/tf_action_recognition/models/graph/mobilenet_thin/graph_opt.pb\n"
     ]
    },
    {
     "name": "stdout",
     "output_type": "stream",
     "text": [
      "video  v_PlayingCello_g02_c02.avi  inferenced done.\n",
      "# of finished videos:  9\n",
      "# of finished directories:  0\n",
      "inferencing video:  v_PlayingCello_g02_c03.avi  from  PlayingCello  directory\n"
     ]
    },
    {
     "name": "stderr",
     "output_type": "stream",
     "text": [
      "[2018-07-27 15:38:08,805] [TfPoseEstimator-Video] [DEBUG] initialization mobilenet_thin : /home/MPLab/mplab006/tf_action_recognition/models/graph/mobilenet_thin/graph_opt.pb\n"
     ]
    },
    {
     "name": "stdout",
     "output_type": "stream",
     "text": [
      "video  v_PlayingCello_g02_c03.avi  inferenced done.\n",
      "# of finished videos:  10\n",
      "# of finished directories:  0\n",
      "inferencing video:  v_PlayingCello_g02_c04.avi  from  PlayingCello  directory\n"
     ]
    },
    {
     "name": "stderr",
     "output_type": "stream",
     "text": [
      "[2018-07-27 15:38:09,695] [TfPoseEstimator-Video] [DEBUG] initialization mobilenet_thin : /home/MPLab/mplab006/tf_action_recognition/models/graph/mobilenet_thin/graph_opt.pb\n"
     ]
    },
    {
     "name": "stdout",
     "output_type": "stream",
     "text": [
      "video  v_PlayingCello_g02_c04.avi  inferenced done.\n",
      "# of finished videos:  11\n",
      "# of finished directories:  0\n",
      "inferencing video:  v_PlayingCello_g02_c05.avi  from  PlayingCello  directory\n"
     ]
    },
    {
     "name": "stderr",
     "output_type": "stream",
     "text": [
      "[2018-07-27 15:38:10,533] [TfPoseEstimator-Video] [DEBUG] initialization mobilenet_thin : /home/MPLab/mplab006/tf_action_recognition/models/graph/mobilenet_thin/graph_opt.pb\n"
     ]
    },
    {
     "name": "stdout",
     "output_type": "stream",
     "text": [
      "video  v_PlayingCello_g02_c05.avi  inferenced done.\n",
      "# of finished videos:  12\n",
      "# of finished directories:  0\n",
      "inferencing video:  v_PlayingCello_g02_c06.avi  from  PlayingCello  directory\n"
     ]
    },
    {
     "name": "stderr",
     "output_type": "stream",
     "text": [
      "[2018-07-27 15:38:11,406] [TfPoseEstimator-Video] [DEBUG] initialization mobilenet_thin : /home/MPLab/mplab006/tf_action_recognition/models/graph/mobilenet_thin/graph_opt.pb\n"
     ]
    },
    {
     "name": "stdout",
     "output_type": "stream",
     "text": [
      "video  v_PlayingCello_g02_c06.avi  inferenced done.\n",
      "# of finished videos:  13\n",
      "# of finished directories:  0\n",
      "inferencing video:  v_PlayingCello_g02_c07.avi  from  PlayingCello  directory\n"
     ]
    },
    {
     "name": "stderr",
     "output_type": "stream",
     "text": [
      "[2018-07-27 15:38:12,255] [TfPoseEstimator-Video] [DEBUG] initialization mobilenet_thin : /home/MPLab/mplab006/tf_action_recognition/models/graph/mobilenet_thin/graph_opt.pb\n"
     ]
    },
    {
     "name": "stdout",
     "output_type": "stream",
     "text": [
      "video  v_PlayingCello_g02_c07.avi  inferenced done.\n",
      "# of finished videos:  14\n",
      "# of finished directories:  0\n",
      "inferencing video:  v_PlayingCello_g03_c01.avi  from  PlayingCello  directory\n"
     ]
    },
    {
     "name": "stderr",
     "output_type": "stream",
     "text": [
      "[2018-07-27 15:38:13,107] [TfPoseEstimator-Video] [DEBUG] initialization mobilenet_thin : /home/MPLab/mplab006/tf_action_recognition/models/graph/mobilenet_thin/graph_opt.pb\n"
     ]
    },
    {
     "name": "stdout",
     "output_type": "stream",
     "text": [
      "video  v_PlayingCello_g03_c01.avi  inferenced done.\n",
      "# of finished videos:  15\n",
      "# of finished directories:  0\n",
      "inferencing video:  v_PlayingCello_g03_c02.avi  from  PlayingCello  directory\n"
     ]
    },
    {
     "name": "stderr",
     "output_type": "stream",
     "text": [
      "[2018-07-27 15:38:13,969] [TfPoseEstimator-Video] [DEBUG] initialization mobilenet_thin : /home/MPLab/mplab006/tf_action_recognition/models/graph/mobilenet_thin/graph_opt.pb\n"
     ]
    },
    {
     "name": "stdout",
     "output_type": "stream",
     "text": [
      "video  v_PlayingCello_g03_c02.avi  inferenced done.\n",
      "# of finished videos:  16\n",
      "# of finished directories:  0\n",
      "inferencing video:  v_PlayingCello_g03_c03.avi  from  PlayingCello  directory\n"
     ]
    },
    {
     "name": "stderr",
     "output_type": "stream",
     "text": [
      "[2018-07-27 15:38:14,806] [TfPoseEstimator-Video] [DEBUG] initialization mobilenet_thin : /home/MPLab/mplab006/tf_action_recognition/models/graph/mobilenet_thin/graph_opt.pb\n"
     ]
    },
    {
     "name": "stdout",
     "output_type": "stream",
     "text": [
      "video  v_PlayingCello_g03_c03.avi  inferenced done.\n",
      "# of finished videos:  17\n",
      "# of finished directories:  0\n",
      "inferencing video:  v_PlayingCello_g03_c04.avi  from  PlayingCello  directory\n"
     ]
    },
    {
     "name": "stderr",
     "output_type": "stream",
     "text": [
      "[2018-07-27 15:38:15,701] [TfPoseEstimator-Video] [DEBUG] initialization mobilenet_thin : /home/MPLab/mplab006/tf_action_recognition/models/graph/mobilenet_thin/graph_opt.pb\n"
     ]
    },
    {
     "name": "stdout",
     "output_type": "stream",
     "text": [
      "video  v_PlayingCello_g03_c04.avi  inferenced done.\n",
      "# of finished videos:  18\n",
      "# of finished directories:  0\n",
      "inferencing video:  v_PlayingCello_g04_c01.avi  from  PlayingCello  directory\n"
     ]
    },
    {
     "name": "stderr",
     "output_type": "stream",
     "text": [
      "[2018-07-27 15:38:16,590] [TfPoseEstimator-Video] [DEBUG] initialization mobilenet_thin : /home/MPLab/mplab006/tf_action_recognition/models/graph/mobilenet_thin/graph_opt.pb\n"
     ]
    },
    {
     "name": "stdout",
     "output_type": "stream",
     "text": [
      "video  v_PlayingCello_g04_c01.avi  inferenced done.\n",
      "# of finished videos:  19\n",
      "# of finished directories:  0\n",
      "inferencing video:  v_PlayingCello_g04_c02.avi  from  PlayingCello  directory\n"
     ]
    },
    {
     "name": "stderr",
     "output_type": "stream",
     "text": [
      "[2018-07-27 15:38:17,481] [TfPoseEstimator-Video] [DEBUG] initialization mobilenet_thin : /home/MPLab/mplab006/tf_action_recognition/models/graph/mobilenet_thin/graph_opt.pb\n"
     ]
    },
    {
     "name": "stdout",
     "output_type": "stream",
     "text": [
      "video  v_PlayingCello_g04_c02.avi  inferenced done.\n",
      "# of finished videos:  20\n",
      "# of finished directories:  0\n",
      "inferencing video:  v_PlayingCello_g04_c03.avi  from  PlayingCello  directory\n"
     ]
    },
    {
     "name": "stderr",
     "output_type": "stream",
     "text": [
      "[2018-07-27 15:38:18,331] [TfPoseEstimator-Video] [DEBUG] initialization mobilenet_thin : /home/MPLab/mplab006/tf_action_recognition/models/graph/mobilenet_thin/graph_opt.pb\n"
     ]
    },
    {
     "name": "stdout",
     "output_type": "stream",
     "text": [
      "video  v_PlayingCello_g04_c03.avi  inferenced done.\n",
      "# of finished videos:  21\n",
      "# of finished directories:  0\n",
      "inferencing video:  v_PlayingCello_g04_c04.avi  from  PlayingCello  directory\n"
     ]
    },
    {
     "name": "stderr",
     "output_type": "stream",
     "text": [
      "[2018-07-27 15:38:19,180] [TfPoseEstimator-Video] [DEBUG] initialization mobilenet_thin : /home/MPLab/mplab006/tf_action_recognition/models/graph/mobilenet_thin/graph_opt.pb\n"
     ]
    },
    {
     "name": "stdout",
     "output_type": "stream",
     "text": [
      "video  v_PlayingCello_g04_c04.avi  inferenced done.\n",
      "# of finished videos:  22\n",
      "# of finished directories:  0\n",
      "inferencing video:  v_PlayingCello_g04_c05.avi  from  PlayingCello  directory\n"
     ]
    },
    {
     "name": "stderr",
     "output_type": "stream",
     "text": [
      "[2018-07-27 15:38:20,045] [TfPoseEstimator-Video] [DEBUG] initialization mobilenet_thin : /home/MPLab/mplab006/tf_action_recognition/models/graph/mobilenet_thin/graph_opt.pb\n"
     ]
    },
    {
     "name": "stdout",
     "output_type": "stream",
     "text": [
      "video  v_PlayingCello_g04_c05.avi  inferenced done.\n",
      "# of finished videos:  23\n",
      "# of finished directories:  0\n",
      "inferencing video:  v_PlayingCello_g04_c06.avi  from  PlayingCello  directory\n"
     ]
    },
    {
     "name": "stderr",
     "output_type": "stream",
     "text": [
      "[2018-07-27 15:38:20,888] [TfPoseEstimator-Video] [DEBUG] initialization mobilenet_thin : /home/MPLab/mplab006/tf_action_recognition/models/graph/mobilenet_thin/graph_opt.pb\n"
     ]
    },
    {
     "name": "stdout",
     "output_type": "stream",
     "text": [
      "video  v_PlayingCello_g04_c06.avi  inferenced done.\n",
      "# of finished videos:  24\n",
      "# of finished directories:  0\n",
      "inferencing video:  v_PlayingCello_g04_c07.avi  from  PlayingCello  directory\n"
     ]
    },
    {
     "name": "stderr",
     "output_type": "stream",
     "text": [
      "[2018-07-27 15:38:21,738] [TfPoseEstimator-Video] [DEBUG] initialization mobilenet_thin : /home/MPLab/mplab006/tf_action_recognition/models/graph/mobilenet_thin/graph_opt.pb\n"
     ]
    },
    {
     "name": "stdout",
     "output_type": "stream",
     "text": [
      "video  v_PlayingCello_g04_c07.avi  inferenced done.\n",
      "# of finished videos:  25\n",
      "# of finished directories:  0\n",
      "inferencing video:  v_PlayingCello_g05_c01.avi  from  PlayingCello  directory\n"
     ]
    },
    {
     "name": "stderr",
     "output_type": "stream",
     "text": [
      "[2018-07-27 15:38:22,580] [TfPoseEstimator-Video] [DEBUG] initialization mobilenet_thin : /home/MPLab/mplab006/tf_action_recognition/models/graph/mobilenet_thin/graph_opt.pb\n"
     ]
    },
    {
     "name": "stdout",
     "output_type": "stream",
     "text": [
      "video  v_PlayingCello_g05_c01.avi  inferenced done.\n",
      "# of finished videos:  26\n",
      "# of finished directories:  0\n",
      "inferencing video:  v_PlayingCello_g05_c02.avi  from  PlayingCello  directory\n"
     ]
    },
    {
     "name": "stderr",
     "output_type": "stream",
     "text": [
      "[2018-07-27 15:38:23,455] [TfPoseEstimator-Video] [DEBUG] initialization mobilenet_thin : /home/MPLab/mplab006/tf_action_recognition/models/graph/mobilenet_thin/graph_opt.pb\n"
     ]
    },
    {
     "name": "stdout",
     "output_type": "stream",
     "text": [
      "video  v_PlayingCello_g05_c02.avi  inferenced done.\n",
      "# of finished videos:  27\n",
      "# of finished directories:  0\n",
      "inferencing video:  v_PlayingCello_g05_c03.avi  from  PlayingCello  directory\n"
     ]
    },
    {
     "name": "stderr",
     "output_type": "stream",
     "text": [
      "[2018-07-27 15:38:24,303] [TfPoseEstimator-Video] [DEBUG] initialization mobilenet_thin : /home/MPLab/mplab006/tf_action_recognition/models/graph/mobilenet_thin/graph_opt.pb\n"
     ]
    },
    {
     "name": "stdout",
     "output_type": "stream",
     "text": [
      "video  v_PlayingCello_g05_c03.avi  inferenced done.\n",
      "# of finished videos:  28\n",
      "# of finished directories:  0\n",
      "inferencing video:  v_PlayingCello_g05_c04.avi  from  PlayingCello  directory\n"
     ]
    },
    {
     "name": "stderr",
     "output_type": "stream",
     "text": [
      "[2018-07-27 15:38:25,161] [TfPoseEstimator-Video] [DEBUG] initialization mobilenet_thin : /home/MPLab/mplab006/tf_action_recognition/models/graph/mobilenet_thin/graph_opt.pb\n"
     ]
    },
    {
     "name": "stdout",
     "output_type": "stream",
     "text": [
      "video  v_PlayingCello_g05_c04.avi  inferenced done.\n",
      "# of finished videos:  29\n",
      "# of finished directories:  0\n",
      "inferencing video:  v_PlayingCello_g05_c05.avi  from  PlayingCello  directory\n"
     ]
    },
    {
     "name": "stderr",
     "output_type": "stream",
     "text": [
      "[2018-07-27 15:38:26,027] [TfPoseEstimator-Video] [DEBUG] initialization mobilenet_thin : /home/MPLab/mplab006/tf_action_recognition/models/graph/mobilenet_thin/graph_opt.pb\n"
     ]
    },
    {
     "name": "stdout",
     "output_type": "stream",
     "text": [
      "video  v_PlayingCello_g05_c05.avi  inferenced done.\n",
      "# of finished videos:  30\n",
      "# of finished directories:  0\n",
      "inferencing video:  v_PlayingCello_g05_c06.avi  from  PlayingCello  directory\n"
     ]
    },
    {
     "name": "stderr",
     "output_type": "stream",
     "text": [
      "[2018-07-27 15:38:26,877] [TfPoseEstimator-Video] [DEBUG] initialization mobilenet_thin : /home/MPLab/mplab006/tf_action_recognition/models/graph/mobilenet_thin/graph_opt.pb\n"
     ]
    },
    {
     "name": "stdout",
     "output_type": "stream",
     "text": [
      "video  v_PlayingCello_g05_c06.avi  inferenced done.\n",
      "# of finished videos:  31\n",
      "# of finished directories:  0\n",
      "inferencing video:  v_PlayingCello_g05_c07.avi  from  PlayingCello  directory\n"
     ]
    },
    {
     "name": "stderr",
     "output_type": "stream",
     "text": [
      "[2018-07-27 15:38:27,744] [TfPoseEstimator-Video] [DEBUG] initialization mobilenet_thin : /home/MPLab/mplab006/tf_action_recognition/models/graph/mobilenet_thin/graph_opt.pb\n"
     ]
    },
    {
     "name": "stdout",
     "output_type": "stream",
     "text": [
      "video  v_PlayingCello_g05_c07.avi  inferenced done.\n",
      "# of finished videos:  32\n",
      "# of finished directories:  0\n",
      "inferencing video:  v_PlayingCello_g06_c01.avi  from  PlayingCello  directory\n"
     ]
    },
    {
     "name": "stderr",
     "output_type": "stream",
     "text": [
      "[2018-07-27 15:38:28,604] [TfPoseEstimator-Video] [DEBUG] initialization mobilenet_thin : /home/MPLab/mplab006/tf_action_recognition/models/graph/mobilenet_thin/graph_opt.pb\n"
     ]
    },
    {
     "name": "stdout",
     "output_type": "stream",
     "text": [
      "video  v_PlayingCello_g06_c01.avi  inferenced done.\n",
      "# of finished videos:  33\n",
      "# of finished directories:  0\n",
      "inferencing video:  v_PlayingCello_g06_c02.avi  from  PlayingCello  directory\n"
     ]
    },
    {
     "name": "stderr",
     "output_type": "stream",
     "text": [
      "[2018-07-27 15:38:29,453] [TfPoseEstimator-Video] [DEBUG] initialization mobilenet_thin : /home/MPLab/mplab006/tf_action_recognition/models/graph/mobilenet_thin/graph_opt.pb\n"
     ]
    },
    {
     "name": "stdout",
     "output_type": "stream",
     "text": [
      "video  v_PlayingCello_g06_c02.avi  inferenced done.\n",
      "# of finished videos:  34\n",
      "# of finished directories:  0\n",
      "inferencing video:  v_PlayingCello_g06_c03.avi  from  PlayingCello  directory\n"
     ]
    },
    {
     "name": "stderr",
     "output_type": "stream",
     "text": [
      "[2018-07-27 15:38:30,389] [TfPoseEstimator-Video] [DEBUG] initialization mobilenet_thin : /home/MPLab/mplab006/tf_action_recognition/models/graph/mobilenet_thin/graph_opt.pb\n"
     ]
    },
    {
     "name": "stdout",
     "output_type": "stream",
     "text": [
      "video  v_PlayingCello_g06_c03.avi  inferenced done.\n",
      "# of finished videos:  35\n",
      "# of finished directories:  0\n",
      "inferencing video:  v_PlayingCello_g06_c04.avi  from  PlayingCello  directory\n"
     ]
    },
    {
     "name": "stderr",
     "output_type": "stream",
     "text": [
      "[2018-07-27 15:38:31,286] [TfPoseEstimator-Video] [DEBUG] initialization mobilenet_thin : /home/MPLab/mplab006/tf_action_recognition/models/graph/mobilenet_thin/graph_opt.pb\n"
     ]
    },
    {
     "name": "stdout",
     "output_type": "stream",
     "text": [
      "video  v_PlayingCello_g06_c04.avi  inferenced done.\n",
      "# of finished videos:  36\n",
      "# of finished directories:  0\n",
      "inferencing video:  v_PlayingCello_g06_c05.avi  from  PlayingCello  directory\n"
     ]
    },
    {
     "name": "stderr",
     "output_type": "stream",
     "text": [
      "[2018-07-27 15:38:32,179] [TfPoseEstimator-Video] [DEBUG] initialization mobilenet_thin : /home/MPLab/mplab006/tf_action_recognition/models/graph/mobilenet_thin/graph_opt.pb\n"
     ]
    },
    {
     "name": "stdout",
     "output_type": "stream",
     "text": [
      "video  v_PlayingCello_g06_c05.avi  inferenced done.\n",
      "# of finished videos:  37\n",
      "# of finished directories:  0\n",
      "inferencing video:  v_PlayingCello_g06_c06.avi  from  PlayingCello  directory\n"
     ]
    },
    {
     "name": "stderr",
     "output_type": "stream",
     "text": [
      "[2018-07-27 15:38:33,018] [TfPoseEstimator-Video] [DEBUG] initialization mobilenet_thin : /home/MPLab/mplab006/tf_action_recognition/models/graph/mobilenet_thin/graph_opt.pb\n"
     ]
    },
    {
     "name": "stdout",
     "output_type": "stream",
     "text": [
      "video  v_PlayingCello_g06_c06.avi  inferenced done.\n",
      "# of finished videos:  38\n",
      "# of finished directories:  0\n",
      "inferencing video:  v_PlayingCello_g06_c07.avi  from  PlayingCello  directory\n"
     ]
    },
    {
     "name": "stderr",
     "output_type": "stream",
     "text": [
      "[2018-07-27 15:38:33,918] [TfPoseEstimator-Video] [DEBUG] initialization mobilenet_thin : /home/MPLab/mplab006/tf_action_recognition/models/graph/mobilenet_thin/graph_opt.pb\n"
     ]
    },
    {
     "name": "stdout",
     "output_type": "stream",
     "text": [
      "video  v_PlayingCello_g06_c07.avi  inferenced done.\n",
      "# of finished videos:  39\n",
      "# of finished directories:  0\n",
      "inferencing video:  v_PlayingCello_g07_c01.avi  from  PlayingCello  directory\n"
     ]
    },
    {
     "name": "stderr",
     "output_type": "stream",
     "text": [
      "[2018-07-27 15:38:34,823] [TfPoseEstimator-Video] [DEBUG] initialization mobilenet_thin : /home/MPLab/mplab006/tf_action_recognition/models/graph/mobilenet_thin/graph_opt.pb\n"
     ]
    },
    {
     "name": "stdout",
     "output_type": "stream",
     "text": [
      "video  v_PlayingCello_g07_c01.avi  inferenced done.\n",
      "# of finished videos:  40\n",
      "# of finished directories:  0\n",
      "inferencing video:  v_PlayingCello_g07_c02.avi  from  PlayingCello  directory\n"
     ]
    },
    {
     "name": "stderr",
     "output_type": "stream",
     "text": [
      "[2018-07-27 15:38:35,685] [TfPoseEstimator-Video] [DEBUG] initialization mobilenet_thin : /home/MPLab/mplab006/tf_action_recognition/models/graph/mobilenet_thin/graph_opt.pb\n"
     ]
    },
    {
     "name": "stdout",
     "output_type": "stream",
     "text": [
      "video  v_PlayingCello_g07_c02.avi  inferenced done.\n",
      "# of finished videos:  41\n",
      "# of finished directories:  0\n",
      "inferencing video:  v_PlayingCello_g07_c03.avi  from  PlayingCello  directory\n"
     ]
    },
    {
     "name": "stderr",
     "output_type": "stream",
     "text": [
      "[2018-07-27 15:38:36,574] [TfPoseEstimator-Video] [DEBUG] initialization mobilenet_thin : /home/MPLab/mplab006/tf_action_recognition/models/graph/mobilenet_thin/graph_opt.pb\n"
     ]
    },
    {
     "name": "stdout",
     "output_type": "stream",
     "text": [
      "video  v_PlayingCello_g07_c03.avi  inferenced done.\n",
      "# of finished videos:  42\n",
      "# of finished directories:  0\n",
      "inferencing video:  v_PlayingCello_g07_c04.avi  from  PlayingCello  directory\n"
     ]
    },
    {
     "name": "stderr",
     "output_type": "stream",
     "text": [
      "[2018-07-27 15:38:37,426] [TfPoseEstimator-Video] [DEBUG] initialization mobilenet_thin : /home/MPLab/mplab006/tf_action_recognition/models/graph/mobilenet_thin/graph_opt.pb\n"
     ]
    },
    {
     "name": "stdout",
     "output_type": "stream",
     "text": [
      "video  v_PlayingCello_g07_c04.avi  inferenced done.\n",
      "# of finished videos:  43\n",
      "# of finished directories:  0\n",
      "inferencing video:  v_PlayingCello_g07_c05.avi  from  PlayingCello  directory\n"
     ]
    },
    {
     "name": "stderr",
     "output_type": "stream",
     "text": [
      "[2018-07-27 15:38:38,340] [TfPoseEstimator-Video] [DEBUG] initialization mobilenet_thin : /home/MPLab/mplab006/tf_action_recognition/models/graph/mobilenet_thin/graph_opt.pb\n"
     ]
    },
    {
     "name": "stdout",
     "output_type": "stream",
     "text": [
      "video  v_PlayingCello_g07_c05.avi  inferenced done.\n",
      "# of finished videos:  44\n",
      "# of finished directories:  0\n",
      "inferencing video:  v_PlayingCello_g08_c01.avi  from  PlayingCello  directory\n"
     ]
    },
    {
     "name": "stderr",
     "output_type": "stream",
     "text": [
      "[2018-07-27 15:38:39,223] [TfPoseEstimator-Video] [DEBUG] initialization mobilenet_thin : /home/MPLab/mplab006/tf_action_recognition/models/graph/mobilenet_thin/graph_opt.pb\n"
     ]
    },
    {
     "name": "stdout",
     "output_type": "stream",
     "text": [
      "video  v_PlayingCello_g08_c01.avi  inferenced done.\n",
      "# of finished videos:  45\n",
      "# of finished directories:  0\n",
      "inferencing video:  v_PlayingCello_g08_c02.avi  from  PlayingCello  directory\n"
     ]
    },
    {
     "name": "stderr",
     "output_type": "stream",
     "text": [
      "[2018-07-27 15:38:40,125] [TfPoseEstimator-Video] [DEBUG] initialization mobilenet_thin : /home/MPLab/mplab006/tf_action_recognition/models/graph/mobilenet_thin/graph_opt.pb\n"
     ]
    },
    {
     "name": "stdout",
     "output_type": "stream",
     "text": [
      "video  v_PlayingCello_g08_c02.avi  inferenced done.\n",
      "# of finished videos:  46\n",
      "# of finished directories:  0\n",
      "inferencing video:  v_PlayingCello_g08_c03.avi  from  PlayingCello  directory\n"
     ]
    },
    {
     "name": "stderr",
     "output_type": "stream",
     "text": [
      "[2018-07-27 15:38:41,060] [TfPoseEstimator-Video] [DEBUG] initialization mobilenet_thin : /home/MPLab/mplab006/tf_action_recognition/models/graph/mobilenet_thin/graph_opt.pb\n"
     ]
    },
    {
     "name": "stdout",
     "output_type": "stream",
     "text": [
      "video  v_PlayingCello_g08_c03.avi  inferenced done.\n",
      "# of finished videos:  47\n",
      "# of finished directories:  0\n",
      "inferencing video:  v_PlayingCello_g08_c04.avi  from  PlayingCello  directory\n"
     ]
    },
    {
     "name": "stderr",
     "output_type": "stream",
     "text": [
      "[2018-07-27 15:38:41,968] [TfPoseEstimator-Video] [DEBUG] initialization mobilenet_thin : /home/MPLab/mplab006/tf_action_recognition/models/graph/mobilenet_thin/graph_opt.pb\n"
     ]
    },
    {
     "name": "stdout",
     "output_type": "stream",
     "text": [
      "video  v_PlayingCello_g08_c04.avi  inferenced done.\n",
      "# of finished videos:  48\n",
      "# of finished directories:  0\n",
      "inferencing video:  v_PlayingCello_g08_c05.avi  from  PlayingCello  directory\n"
     ]
    },
    {
     "name": "stderr",
     "output_type": "stream",
     "text": [
      "[2018-07-27 15:38:42,879] [TfPoseEstimator-Video] [DEBUG] initialization mobilenet_thin : /home/MPLab/mplab006/tf_action_recognition/models/graph/mobilenet_thin/graph_opt.pb\n"
     ]
    },
    {
     "name": "stdout",
     "output_type": "stream",
     "text": [
      "video  v_PlayingCello_g08_c05.avi  inferenced done.\n",
      "# of finished videos:  49\n",
      "# of finished directories:  0\n",
      "inferencing video:  v_PlayingCello_g08_c06.avi  from  PlayingCello  directory\n"
     ]
    },
    {
     "name": "stderr",
     "output_type": "stream",
     "text": [
      "[2018-07-27 15:38:43,791] [TfPoseEstimator-Video] [DEBUG] initialization mobilenet_thin : /home/MPLab/mplab006/tf_action_recognition/models/graph/mobilenet_thin/graph_opt.pb\n"
     ]
    },
    {
     "name": "stdout",
     "output_type": "stream",
     "text": [
      "video  v_PlayingCello_g08_c06.avi  inferenced done.\n",
      "# of finished videos:  50\n",
      "# of finished directories:  0\n",
      "inferencing video:  v_PlayingCello_g09_c01.avi  from  PlayingCello  directory\n"
     ]
    },
    {
     "name": "stderr",
     "output_type": "stream",
     "text": [
      "[2018-07-27 15:38:44,693] [TfPoseEstimator-Video] [DEBUG] initialization mobilenet_thin : /home/MPLab/mplab006/tf_action_recognition/models/graph/mobilenet_thin/graph_opt.pb\n"
     ]
    },
    {
     "name": "stdout",
     "output_type": "stream",
     "text": [
      "video  v_PlayingCello_g09_c01.avi  inferenced done.\n",
      "# of finished videos:  51\n",
      "# of finished directories:  0\n",
      "inferencing video:  v_PlayingCello_g09_c02.avi  from  PlayingCello  directory\n"
     ]
    },
    {
     "name": "stderr",
     "output_type": "stream",
     "text": [
      "[2018-07-27 15:38:45,582] [TfPoseEstimator-Video] [DEBUG] initialization mobilenet_thin : /home/MPLab/mplab006/tf_action_recognition/models/graph/mobilenet_thin/graph_opt.pb\n"
     ]
    },
    {
     "name": "stdout",
     "output_type": "stream",
     "text": [
      "video  v_PlayingCello_g09_c02.avi  inferenced done.\n",
      "# of finished videos:  52\n",
      "# of finished directories:  0\n",
      "inferencing video:  v_PlayingCello_g09_c03.avi  from  PlayingCello  directory\n"
     ]
    },
    {
     "name": "stderr",
     "output_type": "stream",
     "text": [
      "[2018-07-27 15:38:46,491] [TfPoseEstimator-Video] [DEBUG] initialization mobilenet_thin : /home/MPLab/mplab006/tf_action_recognition/models/graph/mobilenet_thin/graph_opt.pb\n"
     ]
    },
    {
     "name": "stdout",
     "output_type": "stream",
     "text": [
      "video  v_PlayingCello_g09_c03.avi  inferenced done.\n",
      "# of finished videos:  53\n",
      "# of finished directories:  0\n",
      "inferencing video:  v_PlayingCello_g09_c04.avi  from  PlayingCello  directory\n"
     ]
    },
    {
     "name": "stderr",
     "output_type": "stream",
     "text": [
      "[2018-07-27 15:38:47,376] [TfPoseEstimator-Video] [DEBUG] initialization mobilenet_thin : /home/MPLab/mplab006/tf_action_recognition/models/graph/mobilenet_thin/graph_opt.pb\n"
     ]
    },
    {
     "name": "stdout",
     "output_type": "stream",
     "text": [
      "video  v_PlayingCello_g09_c04.avi  inferenced done.\n",
      "# of finished videos:  54\n",
      "# of finished directories:  0\n",
      "inferencing video:  v_PlayingCello_g09_c05.avi  from  PlayingCello  directory\n"
     ]
    },
    {
     "name": "stderr",
     "output_type": "stream",
     "text": [
      "[2018-07-27 15:38:48,268] [TfPoseEstimator-Video] [DEBUG] initialization mobilenet_thin : /home/MPLab/mplab006/tf_action_recognition/models/graph/mobilenet_thin/graph_opt.pb\n"
     ]
    },
    {
     "name": "stdout",
     "output_type": "stream",
     "text": [
      "video  v_PlayingCello_g09_c05.avi  inferenced done.\n",
      "# of finished videos:  55\n",
      "# of finished directories:  0\n",
      "inferencing video:  v_PlayingCello_g09_c06.avi  from  PlayingCello  directory\n"
     ]
    },
    {
     "name": "stderr",
     "output_type": "stream",
     "text": [
      "[2018-07-27 15:38:49,166] [TfPoseEstimator-Video] [DEBUG] initialization mobilenet_thin : /home/MPLab/mplab006/tf_action_recognition/models/graph/mobilenet_thin/graph_opt.pb\n"
     ]
    },
    {
     "name": "stdout",
     "output_type": "stream",
     "text": [
      "video  v_PlayingCello_g09_c06.avi  inferenced done.\n",
      "# of finished videos:  56\n",
      "# of finished directories:  0\n",
      "inferencing video:  v_PlayingCello_g09_c07.avi  from  PlayingCello  directory\n"
     ]
    },
    {
     "name": "stderr",
     "output_type": "stream",
     "text": [
      "[2018-07-27 15:38:50,009] [TfPoseEstimator-Video] [DEBUG] initialization mobilenet_thin : /home/MPLab/mplab006/tf_action_recognition/models/graph/mobilenet_thin/graph_opt.pb\n"
     ]
    },
    {
     "name": "stdout",
     "output_type": "stream",
     "text": [
      "video  v_PlayingCello_g09_c07.avi  inferenced done.\n",
      "# of finished videos:  57\n",
      "# of finished directories:  0\n",
      "inferencing video:  v_PlayingCello_g10_c01.avi  from  PlayingCello  directory\n"
     ]
    },
    {
     "name": "stderr",
     "output_type": "stream",
     "text": [
      "[2018-07-27 15:38:50,869] [TfPoseEstimator-Video] [DEBUG] initialization mobilenet_thin : /home/MPLab/mplab006/tf_action_recognition/models/graph/mobilenet_thin/graph_opt.pb\n"
     ]
    },
    {
     "name": "stdout",
     "output_type": "stream",
     "text": [
      "video  v_PlayingCello_g10_c01.avi  inferenced done.\n",
      "# of finished videos:  58\n",
      "# of finished directories:  0\n",
      "inferencing video:  v_PlayingCello_g10_c02.avi  from  PlayingCello  directory\n"
     ]
    },
    {
     "name": "stderr",
     "output_type": "stream",
     "text": [
      "[2018-07-27 15:38:51,753] [TfPoseEstimator-Video] [DEBUG] initialization mobilenet_thin : /home/MPLab/mplab006/tf_action_recognition/models/graph/mobilenet_thin/graph_opt.pb\n"
     ]
    },
    {
     "name": "stdout",
     "output_type": "stream",
     "text": [
      "video  v_PlayingCello_g10_c02.avi  inferenced done.\n",
      "# of finished videos:  59\n",
      "# of finished directories:  0\n",
      "inferencing video:  v_PlayingCello_g10_c03.avi  from  PlayingCello  directory\n"
     ]
    },
    {
     "name": "stderr",
     "output_type": "stream",
     "text": [
      "[2018-07-27 15:38:52,608] [TfPoseEstimator-Video] [DEBUG] initialization mobilenet_thin : /home/MPLab/mplab006/tf_action_recognition/models/graph/mobilenet_thin/graph_opt.pb\n"
     ]
    },
    {
     "name": "stdout",
     "output_type": "stream",
     "text": [
      "video  v_PlayingCello_g10_c03.avi  inferenced done.\n",
      "# of finished videos:  60\n",
      "# of finished directories:  0\n",
      "inferencing video:  v_PlayingCello_g10_c04.avi  from  PlayingCello  directory\n"
     ]
    },
    {
     "name": "stderr",
     "output_type": "stream",
     "text": [
      "[2018-07-27 15:38:53,504] [TfPoseEstimator-Video] [DEBUG] initialization mobilenet_thin : /home/MPLab/mplab006/tf_action_recognition/models/graph/mobilenet_thin/graph_opt.pb\n"
     ]
    },
    {
     "name": "stdout",
     "output_type": "stream",
     "text": [
      "video  v_PlayingCello_g10_c04.avi  inferenced done.\n",
      "# of finished videos:  61\n",
      "# of finished directories:  0\n",
      "inferencing video:  v_PlayingCello_g10_c05.avi  from  PlayingCello  directory\n"
     ]
    },
    {
     "name": "stderr",
     "output_type": "stream",
     "text": [
      "[2018-07-27 15:38:54,372] [TfPoseEstimator-Video] [DEBUG] initialization mobilenet_thin : /home/MPLab/mplab006/tf_action_recognition/models/graph/mobilenet_thin/graph_opt.pb\n"
     ]
    },
    {
     "name": "stdout",
     "output_type": "stream",
     "text": [
      "video  v_PlayingCello_g10_c05.avi  inferenced done.\n",
      "# of finished videos:  62\n",
      "# of finished directories:  0\n",
      "inferencing video:  v_PlayingCello_g10_c06.avi  from  PlayingCello  directory\n"
     ]
    },
    {
     "name": "stderr",
     "output_type": "stream",
     "text": [
      "[2018-07-27 15:38:55,269] [TfPoseEstimator-Video] [DEBUG] initialization mobilenet_thin : /home/MPLab/mplab006/tf_action_recognition/models/graph/mobilenet_thin/graph_opt.pb\n"
     ]
    },
    {
     "name": "stdout",
     "output_type": "stream",
     "text": [
      "video  v_PlayingCello_g10_c06.avi  inferenced done.\n",
      "# of finished videos:  63\n",
      "# of finished directories:  0\n",
      "inferencing video:  v_PlayingCello_g10_c07.avi  from  PlayingCello  directory\n"
     ]
    },
    {
     "name": "stderr",
     "output_type": "stream",
     "text": [
      "[2018-07-27 15:38:56,122] [TfPoseEstimator-Video] [DEBUG] initialization mobilenet_thin : /home/MPLab/mplab006/tf_action_recognition/models/graph/mobilenet_thin/graph_opt.pb\n"
     ]
    },
    {
     "name": "stdout",
     "output_type": "stream",
     "text": [
      "video  v_PlayingCello_g10_c07.avi  inferenced done.\n",
      "# of finished videos:  64\n",
      "# of finished directories:  0\n",
      "inferencing video:  v_PlayingCello_g11_c01.avi  from  PlayingCello  directory\n"
     ]
    },
    {
     "name": "stderr",
     "output_type": "stream",
     "text": [
      "[2018-07-27 15:38:56,986] [TfPoseEstimator-Video] [DEBUG] initialization mobilenet_thin : /home/MPLab/mplab006/tf_action_recognition/models/graph/mobilenet_thin/graph_opt.pb\n"
     ]
    },
    {
     "name": "stdout",
     "output_type": "stream",
     "text": [
      "video  v_PlayingCello_g11_c01.avi  inferenced done.\n",
      "# of finished videos:  65\n",
      "# of finished directories:  0\n",
      "inferencing video:  v_PlayingCello_g11_c02.avi  from  PlayingCello  directory\n"
     ]
    },
    {
     "name": "stderr",
     "output_type": "stream",
     "text": [
      "[2018-07-27 15:38:57,849] [TfPoseEstimator-Video] [DEBUG] initialization mobilenet_thin : /home/MPLab/mplab006/tf_action_recognition/models/graph/mobilenet_thin/graph_opt.pb\n"
     ]
    },
    {
     "name": "stdout",
     "output_type": "stream",
     "text": [
      "video  v_PlayingCello_g11_c02.avi  inferenced done.\n",
      "# of finished videos:  66\n",
      "# of finished directories:  0\n",
      "inferencing video:  v_PlayingCello_g11_c03.avi  from  PlayingCello  directory\n"
     ]
    },
    {
     "name": "stderr",
     "output_type": "stream",
     "text": [
      "[2018-07-27 15:38:58,759] [TfPoseEstimator-Video] [DEBUG] initialization mobilenet_thin : /home/MPLab/mplab006/tf_action_recognition/models/graph/mobilenet_thin/graph_opt.pb\n"
     ]
    },
    {
     "name": "stdout",
     "output_type": "stream",
     "text": [
      "video  v_PlayingCello_g11_c03.avi  inferenced done.\n",
      "# of finished videos:  67\n",
      "# of finished directories:  0\n",
      "inferencing video:  v_PlayingCello_g11_c04.avi  from  PlayingCello  directory\n"
     ]
    },
    {
     "name": "stderr",
     "output_type": "stream",
     "text": [
      "[2018-07-27 15:38:59,633] [TfPoseEstimator-Video] [DEBUG] initialization mobilenet_thin : /home/MPLab/mplab006/tf_action_recognition/models/graph/mobilenet_thin/graph_opt.pb\n"
     ]
    },
    {
     "name": "stdout",
     "output_type": "stream",
     "text": [
      "video  v_PlayingCello_g11_c04.avi  inferenced done.\n",
      "# of finished videos:  68\n",
      "# of finished directories:  0\n",
      "inferencing video:  v_PlayingCello_g11_c05.avi  from  PlayingCello  directory\n"
     ]
    },
    {
     "name": "stderr",
     "output_type": "stream",
     "text": [
      "[2018-07-27 15:39:00,485] [TfPoseEstimator-Video] [DEBUG] initialization mobilenet_thin : /home/MPLab/mplab006/tf_action_recognition/models/graph/mobilenet_thin/graph_opt.pb\n"
     ]
    },
    {
     "name": "stdout",
     "output_type": "stream",
     "text": [
      "video  v_PlayingCello_g11_c05.avi  inferenced done.\n",
      "# of finished videos:  69\n",
      "# of finished directories:  0\n",
      "inferencing video:  v_PlayingCello_g11_c06.avi  from  PlayingCello  directory\n"
     ]
    },
    {
     "name": "stderr",
     "output_type": "stream",
     "text": [
      "[2018-07-27 15:39:01,338] [TfPoseEstimator-Video] [DEBUG] initialization mobilenet_thin : /home/MPLab/mplab006/tf_action_recognition/models/graph/mobilenet_thin/graph_opt.pb\n"
     ]
    },
    {
     "name": "stdout",
     "output_type": "stream",
     "text": [
      "video  v_PlayingCello_g11_c06.avi  inferenced done.\n",
      "# of finished videos:  70\n",
      "# of finished directories:  0\n",
      "inferencing video:  v_PlayingCello_g11_c07.avi  from  PlayingCello  directory\n"
     ]
    },
    {
     "name": "stderr",
     "output_type": "stream",
     "text": [
      "[2018-07-27 15:39:02,199] [TfPoseEstimator-Video] [DEBUG] initialization mobilenet_thin : /home/MPLab/mplab006/tf_action_recognition/models/graph/mobilenet_thin/graph_opt.pb\n"
     ]
    },
    {
     "name": "stdout",
     "output_type": "stream",
     "text": [
      "video  v_PlayingCello_g11_c07.avi  inferenced done.\n",
      "# of finished videos:  71\n",
      "# of finished directories:  0\n",
      "inferencing video:  v_PlayingCello_g12_c01.avi  from  PlayingCello  directory\n"
     ]
    },
    {
     "name": "stderr",
     "output_type": "stream",
     "text": [
      "[2018-07-27 15:39:03,070] [TfPoseEstimator-Video] [DEBUG] initialization mobilenet_thin : /home/MPLab/mplab006/tf_action_recognition/models/graph/mobilenet_thin/graph_opt.pb\n"
     ]
    },
    {
     "name": "stdout",
     "output_type": "stream",
     "text": [
      "video  v_PlayingCello_g12_c01.avi  inferenced done.\n",
      "# of finished videos:  72\n",
      "# of finished directories:  0\n",
      "inferencing video:  v_PlayingCello_g12_c02.avi  from  PlayingCello  directory\n"
     ]
    },
    {
     "name": "stderr",
     "output_type": "stream",
     "text": [
      "[2018-07-27 15:39:03,987] [TfPoseEstimator-Video] [DEBUG] initialization mobilenet_thin : /home/MPLab/mplab006/tf_action_recognition/models/graph/mobilenet_thin/graph_opt.pb\n"
     ]
    },
    {
     "name": "stdout",
     "output_type": "stream",
     "text": [
      "video  v_PlayingCello_g12_c02.avi  inferenced done.\n",
      "# of finished videos:  73\n",
      "# of finished directories:  0\n",
      "inferencing video:  v_PlayingCello_g12_c03.avi  from  PlayingCello  directory\n"
     ]
    },
    {
     "name": "stderr",
     "output_type": "stream",
     "text": [
      "[2018-07-27 15:39:04,876] [TfPoseEstimator-Video] [DEBUG] initialization mobilenet_thin : /home/MPLab/mplab006/tf_action_recognition/models/graph/mobilenet_thin/graph_opt.pb\n"
     ]
    },
    {
     "name": "stdout",
     "output_type": "stream",
     "text": [
      "video  v_PlayingCello_g12_c03.avi  inferenced done.\n",
      "# of finished videos:  74\n",
      "# of finished directories:  0\n",
      "inferencing video:  v_PlayingCello_g12_c04.avi  from  PlayingCello  directory\n"
     ]
    },
    {
     "name": "stderr",
     "output_type": "stream",
     "text": [
      "[2018-07-27 15:39:05,759] [TfPoseEstimator-Video] [DEBUG] initialization mobilenet_thin : /home/MPLab/mplab006/tf_action_recognition/models/graph/mobilenet_thin/graph_opt.pb\n"
     ]
    },
    {
     "name": "stdout",
     "output_type": "stream",
     "text": [
      "video  v_PlayingCello_g12_c04.avi  inferenced done.\n",
      "# of finished videos:  75\n",
      "# of finished directories:  0\n",
      "inferencing video:  v_PlayingCello_g12_c05.avi  from  PlayingCello  directory\n"
     ]
    },
    {
     "name": "stderr",
     "output_type": "stream",
     "text": [
      "[2018-07-27 15:39:06,660] [TfPoseEstimator-Video] [DEBUG] initialization mobilenet_thin : /home/MPLab/mplab006/tf_action_recognition/models/graph/mobilenet_thin/graph_opt.pb\n"
     ]
    },
    {
     "name": "stdout",
     "output_type": "stream",
     "text": [
      "video  v_PlayingCello_g12_c05.avi  inferenced done.\n",
      "# of finished videos:  76\n",
      "# of finished directories:  0\n",
      "inferencing video:  v_PlayingCello_g12_c06.avi  from  PlayingCello  directory\n"
     ]
    },
    {
     "name": "stderr",
     "output_type": "stream",
     "text": [
      "[2018-07-27 15:39:07,535] [TfPoseEstimator-Video] [DEBUG] initialization mobilenet_thin : /home/MPLab/mplab006/tf_action_recognition/models/graph/mobilenet_thin/graph_opt.pb\n"
     ]
    },
    {
     "name": "stdout",
     "output_type": "stream",
     "text": [
      "video  v_PlayingCello_g12_c06.avi  inferenced done.\n",
      "# of finished videos:  77\n",
      "# of finished directories:  0\n",
      "inferencing video:  v_PlayingCello_g12_c07.avi  from  PlayingCello  directory\n"
     ]
    },
    {
     "name": "stderr",
     "output_type": "stream",
     "text": [
      "[2018-07-27 15:39:08,429] [TfPoseEstimator-Video] [DEBUG] initialization mobilenet_thin : /home/MPLab/mplab006/tf_action_recognition/models/graph/mobilenet_thin/graph_opt.pb\n"
     ]
    },
    {
     "name": "stdout",
     "output_type": "stream",
     "text": [
      "video  v_PlayingCello_g12_c07.avi  inferenced done.\n",
      "# of finished videos:  78\n",
      "# of finished directories:  0\n",
      "inferencing video:  v_PlayingCello_g13_c01.avi  from  PlayingCello  directory\n"
     ]
    },
    {
     "name": "stderr",
     "output_type": "stream",
     "text": [
      "[2018-07-27 15:39:09,279] [TfPoseEstimator-Video] [DEBUG] initialization mobilenet_thin : /home/MPLab/mplab006/tf_action_recognition/models/graph/mobilenet_thin/graph_opt.pb\n"
     ]
    },
    {
     "name": "stdout",
     "output_type": "stream",
     "text": [
      "video  v_PlayingCello_g13_c01.avi  inferenced done.\n",
      "# of finished videos:  79\n",
      "# of finished directories:  0\n",
      "inferencing video:  v_PlayingCello_g13_c02.avi  from  PlayingCello  directory\n"
     ]
    },
    {
     "name": "stderr",
     "output_type": "stream",
     "text": [
      "[2018-07-27 15:39:10,141] [TfPoseEstimator-Video] [DEBUG] initialization mobilenet_thin : /home/MPLab/mplab006/tf_action_recognition/models/graph/mobilenet_thin/graph_opt.pb\n"
     ]
    },
    {
     "name": "stdout",
     "output_type": "stream",
     "text": [
      "video  v_PlayingCello_g13_c02.avi  inferenced done.\n",
      "# of finished videos:  80\n",
      "# of finished directories:  0\n",
      "inferencing video:  v_PlayingCello_g13_c03.avi  from  PlayingCello  directory\n"
     ]
    },
    {
     "name": "stderr",
     "output_type": "stream",
     "text": [
      "[2018-07-27 15:39:11,012] [TfPoseEstimator-Video] [DEBUG] initialization mobilenet_thin : /home/MPLab/mplab006/tf_action_recognition/models/graph/mobilenet_thin/graph_opt.pb\n"
     ]
    },
    {
     "name": "stdout",
     "output_type": "stream",
     "text": [
      "video  v_PlayingCello_g13_c03.avi  inferenced done.\n",
      "# of finished videos:  81\n",
      "# of finished directories:  0\n",
      "inferencing video:  v_PlayingCello_g13_c04.avi  from  PlayingCello  directory\n"
     ]
    },
    {
     "name": "stderr",
     "output_type": "stream",
     "text": [
      "[2018-07-27 15:39:11,908] [TfPoseEstimator-Video] [DEBUG] initialization mobilenet_thin : /home/MPLab/mplab006/tf_action_recognition/models/graph/mobilenet_thin/graph_opt.pb\n"
     ]
    },
    {
     "name": "stdout",
     "output_type": "stream",
     "text": [
      "video  v_PlayingCello_g13_c04.avi  inferenced done.\n",
      "# of finished videos:  82\n",
      "# of finished directories:  0\n",
      "inferencing video:  v_PlayingCello_g13_c05.avi  from  PlayingCello  directory\n"
     ]
    },
    {
     "name": "stderr",
     "output_type": "stream",
     "text": [
      "[2018-07-27 15:39:12,797] [TfPoseEstimator-Video] [DEBUG] initialization mobilenet_thin : /home/MPLab/mplab006/tf_action_recognition/models/graph/mobilenet_thin/graph_opt.pb\n"
     ]
    },
    {
     "name": "stdout",
     "output_type": "stream",
     "text": [
      "video  v_PlayingCello_g13_c05.avi  inferenced done.\n",
      "# of finished videos:  83\n",
      "# of finished directories:  0\n",
      "inferencing video:  v_PlayingCello_g13_c06.avi  from  PlayingCello  directory\n"
     ]
    },
    {
     "name": "stderr",
     "output_type": "stream",
     "text": [
      "[2018-07-27 15:39:13,692] [TfPoseEstimator-Video] [DEBUG] initialization mobilenet_thin : /home/MPLab/mplab006/tf_action_recognition/models/graph/mobilenet_thin/graph_opt.pb\n"
     ]
    },
    {
     "name": "stdout",
     "output_type": "stream",
     "text": [
      "video  v_PlayingCello_g13_c06.avi  inferenced done.\n",
      "# of finished videos:  84\n",
      "# of finished directories:  0\n",
      "inferencing video:  v_PlayingCello_g13_c07.avi  from  PlayingCello  directory\n"
     ]
    },
    {
     "name": "stderr",
     "output_type": "stream",
     "text": [
      "[2018-07-27 15:39:14,592] [TfPoseEstimator-Video] [DEBUG] initialization mobilenet_thin : /home/MPLab/mplab006/tf_action_recognition/models/graph/mobilenet_thin/graph_opt.pb\n"
     ]
    },
    {
     "name": "stdout",
     "output_type": "stream",
     "text": [
      "video  v_PlayingCello_g13_c07.avi  inferenced done.\n",
      "# of finished videos:  85\n",
      "# of finished directories:  0\n",
      "inferencing video:  v_PlayingCello_g14_c01.avi  from  PlayingCello  directory\n"
     ]
    },
    {
     "name": "stderr",
     "output_type": "stream",
     "text": [
      "[2018-07-27 15:39:15,453] [TfPoseEstimator-Video] [DEBUG] initialization mobilenet_thin : /home/MPLab/mplab006/tf_action_recognition/models/graph/mobilenet_thin/graph_opt.pb\n"
     ]
    },
    {
     "name": "stdout",
     "output_type": "stream",
     "text": [
      "video  v_PlayingCello_g14_c01.avi  inferenced done.\n",
      "# of finished videos:  86\n",
      "# of finished directories:  0\n",
      "inferencing video:  v_PlayingCello_g14_c02.avi  from  PlayingCello  directory\n"
     ]
    },
    {
     "name": "stderr",
     "output_type": "stream",
     "text": [
      "[2018-07-27 15:39:16,315] [TfPoseEstimator-Video] [DEBUG] initialization mobilenet_thin : /home/MPLab/mplab006/tf_action_recognition/models/graph/mobilenet_thin/graph_opt.pb\n"
     ]
    },
    {
     "name": "stdout",
     "output_type": "stream",
     "text": [
      "video  v_PlayingCello_g14_c02.avi  inferenced done.\n",
      "# of finished videos:  87\n",
      "# of finished directories:  0\n",
      "inferencing video:  v_PlayingCello_g14_c03.avi  from  PlayingCello  directory\n"
     ]
    },
    {
     "name": "stderr",
     "output_type": "stream",
     "text": [
      "[2018-07-27 15:39:17,207] [TfPoseEstimator-Video] [DEBUG] initialization mobilenet_thin : /home/MPLab/mplab006/tf_action_recognition/models/graph/mobilenet_thin/graph_opt.pb\n"
     ]
    },
    {
     "name": "stdout",
     "output_type": "stream",
     "text": [
      "video  v_PlayingCello_g14_c03.avi  inferenced done.\n",
      "# of finished videos:  88\n",
      "# of finished directories:  0\n",
      "inferencing video:  v_PlayingCello_g14_c04.avi  from  PlayingCello  directory\n"
     ]
    },
    {
     "name": "stderr",
     "output_type": "stream",
     "text": [
      "[2018-07-27 15:39:18,070] [TfPoseEstimator-Video] [DEBUG] initialization mobilenet_thin : /home/MPLab/mplab006/tf_action_recognition/models/graph/mobilenet_thin/graph_opt.pb\n"
     ]
    },
    {
     "name": "stdout",
     "output_type": "stream",
     "text": [
      "video  v_PlayingCello_g14_c04.avi  inferenced done.\n",
      "# of finished videos:  89\n",
      "# of finished directories:  0\n",
      "inferencing video:  v_PlayingCello_g15_c01.avi  from  PlayingCello  directory\n"
     ]
    },
    {
     "name": "stderr",
     "output_type": "stream",
     "text": [
      "[2018-07-27 15:39:18,966] [TfPoseEstimator-Video] [DEBUG] initialization mobilenet_thin : /home/MPLab/mplab006/tf_action_recognition/models/graph/mobilenet_thin/graph_opt.pb\n"
     ]
    },
    {
     "name": "stdout",
     "output_type": "stream",
     "text": [
      "video  v_PlayingCello_g15_c01.avi  inferenced done.\n",
      "# of finished videos:  90\n",
      "# of finished directories:  0\n",
      "inferencing video:  v_PlayingCello_g15_c02.avi  from  PlayingCello  directory\n"
     ]
    },
    {
     "name": "stderr",
     "output_type": "stream",
     "text": [
      "[2018-07-27 15:39:19,828] [TfPoseEstimator-Video] [DEBUG] initialization mobilenet_thin : /home/MPLab/mplab006/tf_action_recognition/models/graph/mobilenet_thin/graph_opt.pb\n"
     ]
    },
    {
     "name": "stdout",
     "output_type": "stream",
     "text": [
      "video  v_PlayingCello_g15_c02.avi  inferenced done.\n",
      "# of finished videos:  91\n",
      "# of finished directories:  0\n",
      "inferencing video:  v_PlayingCello_g15_c03.avi  from  PlayingCello  directory\n"
     ]
    },
    {
     "name": "stderr",
     "output_type": "stream",
     "text": [
      "[2018-07-27 15:39:20,703] [TfPoseEstimator-Video] [DEBUG] initialization mobilenet_thin : /home/MPLab/mplab006/tf_action_recognition/models/graph/mobilenet_thin/graph_opt.pb\n"
     ]
    },
    {
     "name": "stdout",
     "output_type": "stream",
     "text": [
      "video  v_PlayingCello_g15_c03.avi  inferenced done.\n",
      "# of finished videos:  92\n",
      "# of finished directories:  0\n",
      "inferencing video:  v_PlayingCello_g15_c04.avi  from  PlayingCello  directory\n"
     ]
    },
    {
     "name": "stderr",
     "output_type": "stream",
     "text": [
      "[2018-07-27 15:39:21,606] [TfPoseEstimator-Video] [DEBUG] initialization mobilenet_thin : /home/MPLab/mplab006/tf_action_recognition/models/graph/mobilenet_thin/graph_opt.pb\n"
     ]
    },
    {
     "name": "stdout",
     "output_type": "stream",
     "text": [
      "video  v_PlayingCello_g15_c04.avi  inferenced done.\n",
      "# of finished videos:  93\n",
      "# of finished directories:  0\n",
      "inferencing video:  v_PlayingCello_g15_c05.avi  from  PlayingCello  directory\n"
     ]
    },
    {
     "name": "stderr",
     "output_type": "stream",
     "text": [
      "[2018-07-27 15:39:22,497] [TfPoseEstimator-Video] [DEBUG] initialization mobilenet_thin : /home/MPLab/mplab006/tf_action_recognition/models/graph/mobilenet_thin/graph_opt.pb\n"
     ]
    },
    {
     "name": "stdout",
     "output_type": "stream",
     "text": [
      "video  v_PlayingCello_g15_c05.avi  inferenced done.\n",
      "# of finished videos:  94\n",
      "# of finished directories:  0\n",
      "inferencing video:  v_PlayingCello_g15_c06.avi  from  PlayingCello  directory\n"
     ]
    },
    {
     "name": "stderr",
     "output_type": "stream",
     "text": [
      "[2018-07-27 15:39:23,366] [TfPoseEstimator-Video] [DEBUG] initialization mobilenet_thin : /home/MPLab/mplab006/tf_action_recognition/models/graph/mobilenet_thin/graph_opt.pb\n"
     ]
    },
    {
     "name": "stdout",
     "output_type": "stream",
     "text": [
      "video  v_PlayingCello_g15_c06.avi  inferenced done.\n",
      "# of finished videos:  95\n",
      "# of finished directories:  0\n",
      "inferencing video:  v_PlayingCello_g15_c07.avi  from  PlayingCello  directory\n"
     ]
    },
    {
     "name": "stderr",
     "output_type": "stream",
     "text": [
      "[2018-07-27 15:39:24,244] [TfPoseEstimator-Video] [DEBUG] initialization mobilenet_thin : /home/MPLab/mplab006/tf_action_recognition/models/graph/mobilenet_thin/graph_opt.pb\n"
     ]
    },
    {
     "name": "stdout",
     "output_type": "stream",
     "text": [
      "video  v_PlayingCello_g15_c07.avi  inferenced done.\n",
      "# of finished videos:  96\n",
      "# of finished directories:  0\n",
      "inferencing video:  v_PlayingCello_g16_c01.avi  from  PlayingCello  directory\n"
     ]
    },
    {
     "name": "stderr",
     "output_type": "stream",
     "text": [
      "[2018-07-27 15:39:25,123] [TfPoseEstimator-Video] [DEBUG] initialization mobilenet_thin : /home/MPLab/mplab006/tf_action_recognition/models/graph/mobilenet_thin/graph_opt.pb\n"
     ]
    },
    {
     "name": "stdout",
     "output_type": "stream",
     "text": [
      "video  v_PlayingCello_g16_c01.avi  inferenced done.\n",
      "# of finished videos:  97\n",
      "# of finished directories:  0\n",
      "inferencing video:  v_PlayingCello_g16_c02.avi  from  PlayingCello  directory\n"
     ]
    },
    {
     "name": "stderr",
     "output_type": "stream",
     "text": [
      "[2018-07-27 15:39:26,035] [TfPoseEstimator-Video] [DEBUG] initialization mobilenet_thin : /home/MPLab/mplab006/tf_action_recognition/models/graph/mobilenet_thin/graph_opt.pb\n"
     ]
    },
    {
     "name": "stdout",
     "output_type": "stream",
     "text": [
      "video  v_PlayingCello_g16_c02.avi  inferenced done.\n",
      "# of finished videos:  98\n",
      "# of finished directories:  0\n",
      "inferencing video:  v_PlayingCello_g16_c03.avi  from  PlayingCello  directory\n"
     ]
    },
    {
     "name": "stderr",
     "output_type": "stream",
     "text": [
      "[2018-07-27 15:39:26,938] [TfPoseEstimator-Video] [DEBUG] initialization mobilenet_thin : /home/MPLab/mplab006/tf_action_recognition/models/graph/mobilenet_thin/graph_opt.pb\n"
     ]
    },
    {
     "name": "stdout",
     "output_type": "stream",
     "text": [
      "video  v_PlayingCello_g16_c03.avi  inferenced done.\n",
      "# of finished videos:  99\n",
      "# of finished directories:  0\n",
      "inferencing video:  v_PlayingCello_g16_c04.avi  from  PlayingCello  directory\n"
     ]
    },
    {
     "name": "stderr",
     "output_type": "stream",
     "text": [
      "[2018-07-27 15:39:27,795] [TfPoseEstimator-Video] [DEBUG] initialization mobilenet_thin : /home/MPLab/mplab006/tf_action_recognition/models/graph/mobilenet_thin/graph_opt.pb\n"
     ]
    },
    {
     "name": "stdout",
     "output_type": "stream",
     "text": [
      "video  v_PlayingCello_g16_c04.avi  inferenced done.\n",
      "# of finished videos:  100\n",
      "# of finished directories:  0\n",
      "inferencing video:  v_PlayingCello_g16_c05.avi  from  PlayingCello  directory\n"
     ]
    },
    {
     "name": "stderr",
     "output_type": "stream",
     "text": [
      "[2018-07-27 15:39:28,670] [TfPoseEstimator-Video] [DEBUG] initialization mobilenet_thin : /home/MPLab/mplab006/tf_action_recognition/models/graph/mobilenet_thin/graph_opt.pb\n"
     ]
    },
    {
     "name": "stdout",
     "output_type": "stream",
     "text": [
      "video  v_PlayingCello_g16_c05.avi  inferenced done.\n",
      "# of finished videos:  101\n",
      "# of finished directories:  0\n",
      "inferencing video:  v_PlayingCello_g16_c06.avi  from  PlayingCello  directory\n"
     ]
    },
    {
     "name": "stderr",
     "output_type": "stream",
     "text": [
      "[2018-07-27 15:39:29,514] [TfPoseEstimator-Video] [DEBUG] initialization mobilenet_thin : /home/MPLab/mplab006/tf_action_recognition/models/graph/mobilenet_thin/graph_opt.pb\n"
     ]
    },
    {
     "name": "stdout",
     "output_type": "stream",
     "text": [
      "video  v_PlayingCello_g16_c06.avi  inferenced done.\n",
      "# of finished videos:  102\n",
      "# of finished directories:  0\n",
      "inferencing video:  v_PlayingCello_g16_c07.avi  from  PlayingCello  directory\n"
     ]
    },
    {
     "name": "stderr",
     "output_type": "stream",
     "text": [
      "[2018-07-27 15:39:30,361] [TfPoseEstimator-Video] [DEBUG] initialization mobilenet_thin : /home/MPLab/mplab006/tf_action_recognition/models/graph/mobilenet_thin/graph_opt.pb\n"
     ]
    },
    {
     "name": "stdout",
     "output_type": "stream",
     "text": [
      "video  v_PlayingCello_g16_c07.avi  inferenced done.\n",
      "# of finished videos:  103\n",
      "# of finished directories:  0\n",
      "inferencing video:  v_PlayingCello_g17_c01.avi  from  PlayingCello  directory\n"
     ]
    },
    {
     "name": "stderr",
     "output_type": "stream",
     "text": [
      "[2018-07-27 15:39:31,235] [TfPoseEstimator-Video] [DEBUG] initialization mobilenet_thin : /home/MPLab/mplab006/tf_action_recognition/models/graph/mobilenet_thin/graph_opt.pb\n"
     ]
    },
    {
     "name": "stdout",
     "output_type": "stream",
     "text": [
      "video  v_PlayingCello_g17_c01.avi  inferenced done.\n",
      "# of finished videos:  104\n",
      "# of finished directories:  0\n",
      "inferencing video:  v_PlayingCello_g17_c02.avi  from  PlayingCello  directory\n"
     ]
    },
    {
     "name": "stderr",
     "output_type": "stream",
     "text": [
      "[2018-07-27 15:39:32,119] [TfPoseEstimator-Video] [DEBUG] initialization mobilenet_thin : /home/MPLab/mplab006/tf_action_recognition/models/graph/mobilenet_thin/graph_opt.pb\n"
     ]
    },
    {
     "name": "stdout",
     "output_type": "stream",
     "text": [
      "video  v_PlayingCello_g17_c02.avi  inferenced done.\n",
      "# of finished videos:  105\n",
      "# of finished directories:  0\n",
      "inferencing video:  v_PlayingCello_g17_c03.avi  from  PlayingCello  directory\n"
     ]
    },
    {
     "name": "stderr",
     "output_type": "stream",
     "text": [
      "[2018-07-27 15:39:32,965] [TfPoseEstimator-Video] [DEBUG] initialization mobilenet_thin : /home/MPLab/mplab006/tf_action_recognition/models/graph/mobilenet_thin/graph_opt.pb\n"
     ]
    },
    {
     "name": "stdout",
     "output_type": "stream",
     "text": [
      "video  v_PlayingCello_g17_c03.avi  inferenced done.\n",
      "# of finished videos:  106\n",
      "# of finished directories:  0\n",
      "inferencing video:  v_PlayingCello_g17_c04.avi  from  PlayingCello  directory\n"
     ]
    },
    {
     "name": "stderr",
     "output_type": "stream",
     "text": [
      "[2018-07-27 15:39:33,817] [TfPoseEstimator-Video] [DEBUG] initialization mobilenet_thin : /home/MPLab/mplab006/tf_action_recognition/models/graph/mobilenet_thin/graph_opt.pb\n"
     ]
    },
    {
     "name": "stdout",
     "output_type": "stream",
     "text": [
      "video  v_PlayingCello_g17_c04.avi  inferenced done.\n",
      "# of finished videos:  107\n",
      "# of finished directories:  0\n",
      "inferencing video:  v_PlayingCello_g17_c05.avi  from  PlayingCello  directory\n"
     ]
    },
    {
     "name": "stderr",
     "output_type": "stream",
     "text": [
      "[2018-07-27 15:39:34,653] [TfPoseEstimator-Video] [DEBUG] initialization mobilenet_thin : /home/MPLab/mplab006/tf_action_recognition/models/graph/mobilenet_thin/graph_opt.pb\n"
     ]
    },
    {
     "name": "stdout",
     "output_type": "stream",
     "text": [
      "video  v_PlayingCello_g17_c05.avi  inferenced done.\n",
      "# of finished videos:  108\n",
      "# of finished directories:  0\n",
      "inferencing video:  v_PlayingCello_g17_c06.avi  from  PlayingCello  directory\n"
     ]
    },
    {
     "name": "stderr",
     "output_type": "stream",
     "text": [
      "[2018-07-27 15:39:35,515] [TfPoseEstimator-Video] [DEBUG] initialization mobilenet_thin : /home/MPLab/mplab006/tf_action_recognition/models/graph/mobilenet_thin/graph_opt.pb\n"
     ]
    },
    {
     "name": "stdout",
     "output_type": "stream",
     "text": [
      "video  v_PlayingCello_g17_c06.avi  inferenced done.\n",
      "# of finished videos:  109\n",
      "# of finished directories:  0\n",
      "inferencing video:  v_PlayingCello_g17_c07.avi  from  PlayingCello  directory\n"
     ]
    },
    {
     "name": "stderr",
     "output_type": "stream",
     "text": [
      "[2018-07-27 15:39:36,341] [TfPoseEstimator-Video] [DEBUG] initialization mobilenet_thin : /home/MPLab/mplab006/tf_action_recognition/models/graph/mobilenet_thin/graph_opt.pb\n"
     ]
    },
    {
     "name": "stdout",
     "output_type": "stream",
     "text": [
      "video  v_PlayingCello_g17_c07.avi  inferenced done.\n",
      "# of finished videos:  110\n",
      "# of finished directories:  0\n",
      "inferencing video:  v_PlayingCello_g18_c01.avi  from  PlayingCello  directory\n"
     ]
    },
    {
     "name": "stderr",
     "output_type": "stream",
     "text": [
      "[2018-07-27 15:39:37,252] [TfPoseEstimator-Video] [DEBUG] initialization mobilenet_thin : /home/MPLab/mplab006/tf_action_recognition/models/graph/mobilenet_thin/graph_opt.pb\n"
     ]
    },
    {
     "name": "stdout",
     "output_type": "stream",
     "text": [
      "video  v_PlayingCello_g18_c01.avi  inferenced done.\n",
      "# of finished videos:  111\n",
      "# of finished directories:  0\n",
      "inferencing video:  v_PlayingCello_g18_c02.avi  from  PlayingCello  directory\n"
     ]
    },
    {
     "name": "stderr",
     "output_type": "stream",
     "text": [
      "[2018-07-27 15:39:38,164] [TfPoseEstimator-Video] [DEBUG] initialization mobilenet_thin : /home/MPLab/mplab006/tf_action_recognition/models/graph/mobilenet_thin/graph_opt.pb\n"
     ]
    },
    {
     "name": "stdout",
     "output_type": "stream",
     "text": [
      "video  v_PlayingCello_g18_c02.avi  inferenced done.\n",
      "# of finished videos:  112\n",
      "# of finished directories:  0\n",
      "inferencing video:  v_PlayingCello_g18_c03.avi  from  PlayingCello  directory\n"
     ]
    },
    {
     "name": "stderr",
     "output_type": "stream",
     "text": [
      "[2018-07-27 15:39:39,032] [TfPoseEstimator-Video] [DEBUG] initialization mobilenet_thin : /home/MPLab/mplab006/tf_action_recognition/models/graph/mobilenet_thin/graph_opt.pb\n"
     ]
    },
    {
     "name": "stdout",
     "output_type": "stream",
     "text": [
      "video  v_PlayingCello_g18_c03.avi  inferenced done.\n",
      "# of finished videos:  113\n",
      "# of finished directories:  0\n",
      "inferencing video:  v_PlayingCello_g18_c04.avi  from  PlayingCello  directory\n"
     ]
    },
    {
     "name": "stderr",
     "output_type": "stream",
     "text": [
      "[2018-07-27 15:39:39,910] [TfPoseEstimator-Video] [DEBUG] initialization mobilenet_thin : /home/MPLab/mplab006/tf_action_recognition/models/graph/mobilenet_thin/graph_opt.pb\n"
     ]
    },
    {
     "name": "stdout",
     "output_type": "stream",
     "text": [
      "video  v_PlayingCello_g18_c04.avi  inferenced done.\n",
      "# of finished videos:  114\n",
      "# of finished directories:  0\n",
      "inferencing video:  v_PlayingCello_g18_c05.avi  from  PlayingCello  directory\n"
     ]
    },
    {
     "name": "stderr",
     "output_type": "stream",
     "text": [
      "[2018-07-27 15:39:40,772] [TfPoseEstimator-Video] [DEBUG] initialization mobilenet_thin : /home/MPLab/mplab006/tf_action_recognition/models/graph/mobilenet_thin/graph_opt.pb\n"
     ]
    },
    {
     "name": "stdout",
     "output_type": "stream",
     "text": [
      "video  v_PlayingCello_g18_c05.avi  inferenced done.\n",
      "# of finished videos:  115\n",
      "# of finished directories:  0\n",
      "inferencing video:  v_PlayingCello_g18_c06.avi  from  PlayingCello  directory\n"
     ]
    },
    {
     "name": "stderr",
     "output_type": "stream",
     "text": [
      "[2018-07-27 15:39:41,680] [TfPoseEstimator-Video] [DEBUG] initialization mobilenet_thin : /home/MPLab/mplab006/tf_action_recognition/models/graph/mobilenet_thin/graph_opt.pb\n"
     ]
    },
    {
     "name": "stdout",
     "output_type": "stream",
     "text": [
      "video  v_PlayingCello_g18_c06.avi  inferenced done.\n",
      "# of finished videos:  116\n",
      "# of finished directories:  0\n",
      "inferencing video:  v_PlayingCello_g18_c07.avi  from  PlayingCello  directory\n"
     ]
    },
    {
     "name": "stderr",
     "output_type": "stream",
     "text": [
      "[2018-07-27 15:39:42,543] [TfPoseEstimator-Video] [DEBUG] initialization mobilenet_thin : /home/MPLab/mplab006/tf_action_recognition/models/graph/mobilenet_thin/graph_opt.pb\n"
     ]
    },
    {
     "name": "stdout",
     "output_type": "stream",
     "text": [
      "video  v_PlayingCello_g18_c07.avi  inferenced done.\n",
      "# of finished videos:  117\n",
      "# of finished directories:  0\n",
      "inferencing video:  v_PlayingCello_g19_c01.avi  from  PlayingCello  directory\n"
     ]
    },
    {
     "name": "stderr",
     "output_type": "stream",
     "text": [
      "[2018-07-27 15:39:43,431] [TfPoseEstimator-Video] [DEBUG] initialization mobilenet_thin : /home/MPLab/mplab006/tf_action_recognition/models/graph/mobilenet_thin/graph_opt.pb\n"
     ]
    },
    {
     "name": "stdout",
     "output_type": "stream",
     "text": [
      "video  v_PlayingCello_g19_c01.avi  inferenced done.\n",
      "# of finished videos:  118\n",
      "# of finished directories:  0\n",
      "inferencing video:  v_PlayingCello_g19_c02.avi  from  PlayingCello  directory\n"
     ]
    },
    {
     "name": "stderr",
     "output_type": "stream",
     "text": [
      "[2018-07-27 15:39:44,290] [TfPoseEstimator-Video] [DEBUG] initialization mobilenet_thin : /home/MPLab/mplab006/tf_action_recognition/models/graph/mobilenet_thin/graph_opt.pb\n"
     ]
    },
    {
     "name": "stdout",
     "output_type": "stream",
     "text": [
      "video  v_PlayingCello_g19_c02.avi  inferenced done.\n",
      "# of finished videos:  119\n",
      "# of finished directories:  0\n",
      "inferencing video:  v_PlayingCello_g19_c03.avi  from  PlayingCello  directory\n"
     ]
    },
    {
     "name": "stderr",
     "output_type": "stream",
     "text": [
      "[2018-07-27 15:39:45,130] [TfPoseEstimator-Video] [DEBUG] initialization mobilenet_thin : /home/MPLab/mplab006/tf_action_recognition/models/graph/mobilenet_thin/graph_opt.pb\n"
     ]
    },
    {
     "name": "stdout",
     "output_type": "stream",
     "text": [
      "video  v_PlayingCello_g19_c03.avi  inferenced done.\n",
      "# of finished videos:  120\n",
      "# of finished directories:  0\n",
      "inferencing video:  v_PlayingCello_g19_c04.avi  from  PlayingCello  directory\n"
     ]
    },
    {
     "name": "stderr",
     "output_type": "stream",
     "text": [
      "[2018-07-27 15:39:46,039] [TfPoseEstimator-Video] [DEBUG] initialization mobilenet_thin : /home/MPLab/mplab006/tf_action_recognition/models/graph/mobilenet_thin/graph_opt.pb\n"
     ]
    },
    {
     "name": "stdout",
     "output_type": "stream",
     "text": [
      "video  v_PlayingCello_g19_c04.avi  inferenced done.\n",
      "# of finished videos:  121\n",
      "# of finished directories:  0\n",
      "inferencing video:  v_PlayingCello_g19_c05.avi  from  PlayingCello  directory\n"
     ]
    },
    {
     "name": "stderr",
     "output_type": "stream",
     "text": [
      "[2018-07-27 15:39:46,886] [TfPoseEstimator-Video] [DEBUG] initialization mobilenet_thin : /home/MPLab/mplab006/tf_action_recognition/models/graph/mobilenet_thin/graph_opt.pb\n"
     ]
    },
    {
     "name": "stdout",
     "output_type": "stream",
     "text": [
      "video  v_PlayingCello_g19_c05.avi  inferenced done.\n",
      "# of finished videos:  122\n",
      "# of finished directories:  0\n",
      "inferencing video:  v_PlayingCello_g19_c06.avi  from  PlayingCello  directory\n"
     ]
    },
    {
     "name": "stderr",
     "output_type": "stream",
     "text": [
      "[2018-07-27 15:39:47,788] [TfPoseEstimator-Video] [DEBUG] initialization mobilenet_thin : /home/MPLab/mplab006/tf_action_recognition/models/graph/mobilenet_thin/graph_opt.pb\n"
     ]
    },
    {
     "name": "stdout",
     "output_type": "stream",
     "text": [
      "video  v_PlayingCello_g19_c06.avi  inferenced done.\n",
      "# of finished videos:  123\n",
      "# of finished directories:  0\n",
      "inferencing video:  v_PlayingCello_g19_c07.avi  from  PlayingCello  directory\n"
     ]
    },
    {
     "name": "stderr",
     "output_type": "stream",
     "text": [
      "[2018-07-27 15:39:48,687] [TfPoseEstimator-Video] [DEBUG] initialization mobilenet_thin : /home/MPLab/mplab006/tf_action_recognition/models/graph/mobilenet_thin/graph_opt.pb\n"
     ]
    },
    {
     "name": "stdout",
     "output_type": "stream",
     "text": [
      "video  v_PlayingCello_g19_c07.avi  inferenced done.\n",
      "# of finished videos:  124\n",
      "# of finished directories:  0\n",
      "inferencing video:  v_PlayingCello_g20_c01.avi  from  PlayingCello  directory\n"
     ]
    },
    {
     "name": "stderr",
     "output_type": "stream",
     "text": [
      "[2018-07-27 15:39:49,550] [TfPoseEstimator-Video] [DEBUG] initialization mobilenet_thin : /home/MPLab/mplab006/tf_action_recognition/models/graph/mobilenet_thin/graph_opt.pb\n"
     ]
    },
    {
     "name": "stdout",
     "output_type": "stream",
     "text": [
      "video  v_PlayingCello_g20_c01.avi  inferenced done.\n",
      "# of finished videos:  125\n",
      "# of finished directories:  0\n",
      "inferencing video:  v_PlayingCello_g20_c02.avi  from  PlayingCello  directory\n"
     ]
    },
    {
     "name": "stderr",
     "output_type": "stream",
     "text": [
      "[2018-07-27 15:39:50,379] [TfPoseEstimator-Video] [DEBUG] initialization mobilenet_thin : /home/MPLab/mplab006/tf_action_recognition/models/graph/mobilenet_thin/graph_opt.pb\n"
     ]
    },
    {
     "name": "stdout",
     "output_type": "stream",
     "text": [
      "video  v_PlayingCello_g20_c02.avi  inferenced done.\n",
      "# of finished videos:  126\n",
      "# of finished directories:  0\n",
      "inferencing video:  v_PlayingCello_g20_c03.avi  from  PlayingCello  directory\n"
     ]
    },
    {
     "name": "stderr",
     "output_type": "stream",
     "text": [
      "[2018-07-27 15:39:51,289] [TfPoseEstimator-Video] [DEBUG] initialization mobilenet_thin : /home/MPLab/mplab006/tf_action_recognition/models/graph/mobilenet_thin/graph_opt.pb\n"
     ]
    },
    {
     "name": "stdout",
     "output_type": "stream",
     "text": [
      "video  v_PlayingCello_g20_c03.avi  inferenced done.\n",
      "# of finished videos:  127\n",
      "# of finished directories:  0\n",
      "inferencing video:  v_PlayingCello_g20_c04.avi  from  PlayingCello  directory\n"
     ]
    },
    {
     "name": "stderr",
     "output_type": "stream",
     "text": [
      "[2018-07-27 15:39:52,150] [TfPoseEstimator-Video] [DEBUG] initialization mobilenet_thin : /home/MPLab/mplab006/tf_action_recognition/models/graph/mobilenet_thin/graph_opt.pb\n"
     ]
    },
    {
     "name": "stdout",
     "output_type": "stream",
     "text": [
      "video  v_PlayingCello_g20_c04.avi  inferenced done.\n",
      "# of finished videos:  128\n",
      "# of finished directories:  0\n",
      "inferencing video:  v_PlayingCello_g20_c05.avi  from  PlayingCello  directory\n"
     ]
    },
    {
     "name": "stderr",
     "output_type": "stream",
     "text": [
      "[2018-07-27 15:39:53,046] [TfPoseEstimator-Video] [DEBUG] initialization mobilenet_thin : /home/MPLab/mplab006/tf_action_recognition/models/graph/mobilenet_thin/graph_opt.pb\n"
     ]
    },
    {
     "name": "stdout",
     "output_type": "stream",
     "text": [
      "video  v_PlayingCello_g20_c05.avi  inferenced done.\n",
      "# of finished videos:  129\n",
      "# of finished directories:  0\n",
      "inferencing video:  v_PlayingCello_g20_c06.avi  from  PlayingCello  directory\n"
     ]
    },
    {
     "name": "stderr",
     "output_type": "stream",
     "text": [
      "[2018-07-27 15:39:53,916] [TfPoseEstimator-Video] [DEBUG] initialization mobilenet_thin : /home/MPLab/mplab006/tf_action_recognition/models/graph/mobilenet_thin/graph_opt.pb\n"
     ]
    },
    {
     "name": "stdout",
     "output_type": "stream",
     "text": [
      "video  v_PlayingCello_g20_c06.avi  inferenced done.\n",
      "# of finished videos:  130\n",
      "# of finished directories:  0\n",
      "inferencing video:  v_PlayingCello_g20_c07.avi  from  PlayingCello  directory\n"
     ]
    },
    {
     "name": "stderr",
     "output_type": "stream",
     "text": [
      "[2018-07-27 15:39:54,803] [TfPoseEstimator-Video] [DEBUG] initialization mobilenet_thin : /home/MPLab/mplab006/tf_action_recognition/models/graph/mobilenet_thin/graph_opt.pb\n"
     ]
    },
    {
     "name": "stdout",
     "output_type": "stream",
     "text": [
      "video  v_PlayingCello_g20_c07.avi  inferenced done.\n",
      "# of finished videos:  131\n",
      "# of finished directories:  0\n",
      "inferencing video:  v_PlayingCello_g21_c01.avi  from  PlayingCello  directory\n"
     ]
    },
    {
     "name": "stderr",
     "output_type": "stream",
     "text": [
      "[2018-07-27 15:39:55,637] [TfPoseEstimator-Video] [DEBUG] initialization mobilenet_thin : /home/MPLab/mplab006/tf_action_recognition/models/graph/mobilenet_thin/graph_opt.pb\n"
     ]
    },
    {
     "name": "stdout",
     "output_type": "stream",
     "text": [
      "video  v_PlayingCello_g21_c01.avi  inferenced done.\n",
      "# of finished videos:  132\n",
      "# of finished directories:  0\n",
      "inferencing video:  v_PlayingCello_g21_c02.avi  from  PlayingCello  directory\n"
     ]
    },
    {
     "name": "stderr",
     "output_type": "stream",
     "text": [
      "[2018-07-27 15:39:56,523] [TfPoseEstimator-Video] [DEBUG] initialization mobilenet_thin : /home/MPLab/mplab006/tf_action_recognition/models/graph/mobilenet_thin/graph_opt.pb\n"
     ]
    },
    {
     "name": "stdout",
     "output_type": "stream",
     "text": [
      "video  v_PlayingCello_g21_c02.avi  inferenced done.\n",
      "# of finished videos:  133\n",
      "# of finished directories:  0\n",
      "inferencing video:  v_PlayingCello_g21_c03.avi  from  PlayingCello  directory\n"
     ]
    },
    {
     "name": "stderr",
     "output_type": "stream",
     "text": [
      "[2018-07-27 15:39:57,380] [TfPoseEstimator-Video] [DEBUG] initialization mobilenet_thin : /home/MPLab/mplab006/tf_action_recognition/models/graph/mobilenet_thin/graph_opt.pb\n"
     ]
    },
    {
     "name": "stdout",
     "output_type": "stream",
     "text": [
      "video  v_PlayingCello_g21_c03.avi  inferenced done.\n",
      "# of finished videos:  134\n",
      "# of finished directories:  0\n",
      "inferencing video:  v_PlayingCello_g21_c04.avi  from  PlayingCello  directory\n"
     ]
    },
    {
     "name": "stderr",
     "output_type": "stream",
     "text": [
      "[2018-07-27 15:39:58,227] [TfPoseEstimator-Video] [DEBUG] initialization mobilenet_thin : /home/MPLab/mplab006/tf_action_recognition/models/graph/mobilenet_thin/graph_opt.pb\n"
     ]
    },
    {
     "name": "stdout",
     "output_type": "stream",
     "text": [
      "video  v_PlayingCello_g21_c04.avi  inferenced done.\n",
      "# of finished videos:  135\n",
      "# of finished directories:  0\n",
      "inferencing video:  v_PlayingCello_g21_c05.avi  from  PlayingCello  directory\n"
     ]
    },
    {
     "name": "stderr",
     "output_type": "stream",
     "text": [
      "[2018-07-27 15:39:59,119] [TfPoseEstimator-Video] [DEBUG] initialization mobilenet_thin : /home/MPLab/mplab006/tf_action_recognition/models/graph/mobilenet_thin/graph_opt.pb\n"
     ]
    },
    {
     "name": "stdout",
     "output_type": "stream",
     "text": [
      "video  v_PlayingCello_g21_c05.avi  inferenced done.\n",
      "# of finished videos:  136\n",
      "# of finished directories:  0\n",
      "inferencing video:  v_PlayingCello_g22_c01.avi  from  PlayingCello  directory\n"
     ]
    },
    {
     "name": "stderr",
     "output_type": "stream",
     "text": [
      "[2018-07-27 15:39:59,998] [TfPoseEstimator-Video] [DEBUG] initialization mobilenet_thin : /home/MPLab/mplab006/tf_action_recognition/models/graph/mobilenet_thin/graph_opt.pb\n"
     ]
    },
    {
     "name": "stdout",
     "output_type": "stream",
     "text": [
      "video  v_PlayingCello_g22_c01.avi  inferenced done.\n",
      "# of finished videos:  137\n",
      "# of finished directories:  0\n",
      "inferencing video:  v_PlayingCello_g22_c02.avi  from  PlayingCello  directory\n"
     ]
    },
    {
     "name": "stderr",
     "output_type": "stream",
     "text": [
      "[2018-07-27 15:40:00,892] [TfPoseEstimator-Video] [DEBUG] initialization mobilenet_thin : /home/MPLab/mplab006/tf_action_recognition/models/graph/mobilenet_thin/graph_opt.pb\n"
     ]
    },
    {
     "name": "stdout",
     "output_type": "stream",
     "text": [
      "video  v_PlayingCello_g22_c02.avi  inferenced done.\n",
      "# of finished videos:  138\n",
      "# of finished directories:  0\n",
      "inferencing video:  v_PlayingCello_g22_c03.avi  from  PlayingCello  directory\n"
     ]
    },
    {
     "name": "stderr",
     "output_type": "stream",
     "text": [
      "[2018-07-27 15:40:01,748] [TfPoseEstimator-Video] [DEBUG] initialization mobilenet_thin : /home/MPLab/mplab006/tf_action_recognition/models/graph/mobilenet_thin/graph_opt.pb\n"
     ]
    },
    {
     "name": "stdout",
     "output_type": "stream",
     "text": [
      "video  v_PlayingCello_g22_c03.avi  inferenced done.\n",
      "# of finished videos:  139\n",
      "# of finished directories:  0\n",
      "inferencing video:  v_PlayingCello_g22_c04.avi  from  PlayingCello  directory\n"
     ]
    },
    {
     "name": "stderr",
     "output_type": "stream",
     "text": [
      "[2018-07-27 15:40:02,597] [TfPoseEstimator-Video] [DEBUG] initialization mobilenet_thin : /home/MPLab/mplab006/tf_action_recognition/models/graph/mobilenet_thin/graph_opt.pb\n"
     ]
    },
    {
     "name": "stdout",
     "output_type": "stream",
     "text": [
      "video  v_PlayingCello_g22_c04.avi  inferenced done.\n",
      "# of finished videos:  140\n",
      "# of finished directories:  0\n",
      "inferencing video:  v_PlayingCello_g22_c05.avi  from  PlayingCello  directory\n"
     ]
    },
    {
     "name": "stderr",
     "output_type": "stream",
     "text": [
      "[2018-07-27 15:40:03,456] [TfPoseEstimator-Video] [DEBUG] initialization mobilenet_thin : /home/MPLab/mplab006/tf_action_recognition/models/graph/mobilenet_thin/graph_opt.pb\n"
     ]
    },
    {
     "name": "stdout",
     "output_type": "stream",
     "text": [
      "video  v_PlayingCello_g22_c05.avi  inferenced done.\n",
      "# of finished videos:  141\n",
      "# of finished directories:  0\n",
      "inferencing video:  v_PlayingCello_g22_c06.avi  from  PlayingCello  directory\n"
     ]
    },
    {
     "name": "stderr",
     "output_type": "stream",
     "text": [
      "[2018-07-27 15:40:04,342] [TfPoseEstimator-Video] [DEBUG] initialization mobilenet_thin : /home/MPLab/mplab006/tf_action_recognition/models/graph/mobilenet_thin/graph_opt.pb\n"
     ]
    },
    {
     "name": "stdout",
     "output_type": "stream",
     "text": [
      "video  v_PlayingCello_g22_c06.avi  inferenced done.\n",
      "# of finished videos:  142\n",
      "# of finished directories:  0\n",
      "inferencing video:  v_PlayingCello_g22_c07.avi  from  PlayingCello  directory\n"
     ]
    },
    {
     "name": "stderr",
     "output_type": "stream",
     "text": [
      "[2018-07-27 15:40:05,196] [TfPoseEstimator-Video] [DEBUG] initialization mobilenet_thin : /home/MPLab/mplab006/tf_action_recognition/models/graph/mobilenet_thin/graph_opt.pb\n"
     ]
    },
    {
     "name": "stdout",
     "output_type": "stream",
     "text": [
      "video  v_PlayingCello_g22_c07.avi  inferenced done.\n",
      "# of finished videos:  143\n",
      "# of finished directories:  0\n",
      "inferencing video:  v_PlayingCello_g23_c01.avi  from  PlayingCello  directory\n"
     ]
    },
    {
     "name": "stderr",
     "output_type": "stream",
     "text": [
      "[2018-07-27 15:40:06,076] [TfPoseEstimator-Video] [DEBUG] initialization mobilenet_thin : /home/MPLab/mplab006/tf_action_recognition/models/graph/mobilenet_thin/graph_opt.pb\n"
     ]
    },
    {
     "name": "stdout",
     "output_type": "stream",
     "text": [
      "video  v_PlayingCello_g23_c01.avi  inferenced done.\n",
      "# of finished videos:  144\n",
      "# of finished directories:  0\n",
      "inferencing video:  v_PlayingCello_g23_c02.avi  from  PlayingCello  directory\n"
     ]
    },
    {
     "name": "stderr",
     "output_type": "stream",
     "text": [
      "[2018-07-27 15:40:06,981] [TfPoseEstimator-Video] [DEBUG] initialization mobilenet_thin : /home/MPLab/mplab006/tf_action_recognition/models/graph/mobilenet_thin/graph_opt.pb\n"
     ]
    },
    {
     "name": "stdout",
     "output_type": "stream",
     "text": [
      "video  v_PlayingCello_g23_c02.avi  inferenced done.\n",
      "# of finished videos:  145\n",
      "# of finished directories:  0\n",
      "inferencing video:  v_PlayingCello_g23_c03.avi  from  PlayingCello  directory\n"
     ]
    },
    {
     "name": "stderr",
     "output_type": "stream",
     "text": [
      "[2018-07-27 15:40:07,855] [TfPoseEstimator-Video] [DEBUG] initialization mobilenet_thin : /home/MPLab/mplab006/tf_action_recognition/models/graph/mobilenet_thin/graph_opt.pb\n"
     ]
    },
    {
     "name": "stdout",
     "output_type": "stream",
     "text": [
      "video  v_PlayingCello_g23_c03.avi  inferenced done.\n",
      "# of finished videos:  146\n",
      "# of finished directories:  0\n",
      "inferencing video:  v_PlayingCello_g23_c04.avi  from  PlayingCello  directory\n"
     ]
    },
    {
     "name": "stderr",
     "output_type": "stream",
     "text": [
      "[2018-07-27 15:40:08,728] [TfPoseEstimator-Video] [DEBUG] initialization mobilenet_thin : /home/MPLab/mplab006/tf_action_recognition/models/graph/mobilenet_thin/graph_opt.pb\n"
     ]
    },
    {
     "name": "stdout",
     "output_type": "stream",
     "text": [
      "video  v_PlayingCello_g23_c04.avi  inferenced done.\n",
      "# of finished videos:  147\n",
      "# of finished directories:  0\n",
      "inferencing video:  v_PlayingCello_g23_c05.avi  from  PlayingCello  directory\n"
     ]
    },
    {
     "name": "stderr",
     "output_type": "stream",
     "text": [
      "[2018-07-27 15:40:09,594] [TfPoseEstimator-Video] [DEBUG] initialization mobilenet_thin : /home/MPLab/mplab006/tf_action_recognition/models/graph/mobilenet_thin/graph_opt.pb\n"
     ]
    },
    {
     "name": "stdout",
     "output_type": "stream",
     "text": [
      "video  v_PlayingCello_g23_c05.avi  inferenced done.\n",
      "# of finished videos:  148\n",
      "# of finished directories:  0\n",
      "inferencing video:  v_PlayingCello_g23_c06.avi  from  PlayingCello  directory\n"
     ]
    },
    {
     "name": "stderr",
     "output_type": "stream",
     "text": [
      "[2018-07-27 15:40:10,463] [TfPoseEstimator-Video] [DEBUG] initialization mobilenet_thin : /home/MPLab/mplab006/tf_action_recognition/models/graph/mobilenet_thin/graph_opt.pb\n"
     ]
    },
    {
     "name": "stdout",
     "output_type": "stream",
     "text": [
      "video  v_PlayingCello_g23_c06.avi  inferenced done.\n",
      "# of finished videos:  149\n",
      "# of finished directories:  0\n",
      "inferencing video:  v_PlayingCello_g23_c07.avi  from  PlayingCello  directory\n"
     ]
    },
    {
     "name": "stderr",
     "output_type": "stream",
     "text": [
      "[2018-07-27 15:40:11,365] [TfPoseEstimator-Video] [DEBUG] initialization mobilenet_thin : /home/MPLab/mplab006/tf_action_recognition/models/graph/mobilenet_thin/graph_opt.pb\n"
     ]
    },
    {
     "name": "stdout",
     "output_type": "stream",
     "text": [
      "video  v_PlayingCello_g23_c07.avi  inferenced done.\n",
      "# of finished videos:  150\n",
      "# of finished directories:  0\n",
      "inferencing video:  v_PlayingCello_g24_c01.avi  from  PlayingCello  directory\n"
     ]
    },
    {
     "name": "stderr",
     "output_type": "stream",
     "text": [
      "[2018-07-27 15:40:12,219] [TfPoseEstimator-Video] [DEBUG] initialization mobilenet_thin : /home/MPLab/mplab006/tf_action_recognition/models/graph/mobilenet_thin/graph_opt.pb\n"
     ]
    },
    {
     "name": "stdout",
     "output_type": "stream",
     "text": [
      "video  v_PlayingCello_g24_c01.avi  inferenced done.\n",
      "# of finished videos:  151\n",
      "# of finished directories:  0\n",
      "inferencing video:  v_PlayingCello_g24_c02.avi  from  PlayingCello  directory\n"
     ]
    },
    {
     "name": "stderr",
     "output_type": "stream",
     "text": [
      "[2018-07-27 15:40:13,062] [TfPoseEstimator-Video] [DEBUG] initialization mobilenet_thin : /home/MPLab/mplab006/tf_action_recognition/models/graph/mobilenet_thin/graph_opt.pb\n"
     ]
    },
    {
     "name": "stdout",
     "output_type": "stream",
     "text": [
      "video  v_PlayingCello_g24_c02.avi  inferenced done.\n",
      "# of finished videos:  152\n",
      "# of finished directories:  0\n",
      "inferencing video:  v_PlayingCello_g24_c03.avi  from  PlayingCello  directory\n"
     ]
    },
    {
     "name": "stderr",
     "output_type": "stream",
     "text": [
      "[2018-07-27 15:40:13,902] [TfPoseEstimator-Video] [DEBUG] initialization mobilenet_thin : /home/MPLab/mplab006/tf_action_recognition/models/graph/mobilenet_thin/graph_opt.pb\n"
     ]
    },
    {
     "name": "stdout",
     "output_type": "stream",
     "text": [
      "video  v_PlayingCello_g24_c03.avi  inferenced done.\n",
      "# of finished videos:  153\n",
      "# of finished directories:  0\n",
      "inferencing video:  v_PlayingCello_g24_c04.avi  from  PlayingCello  directory\n"
     ]
    },
    {
     "name": "stderr",
     "output_type": "stream",
     "text": [
      "[2018-07-27 15:40:14,746] [TfPoseEstimator-Video] [DEBUG] initialization mobilenet_thin : /home/MPLab/mplab006/tf_action_recognition/models/graph/mobilenet_thin/graph_opt.pb\n"
     ]
    },
    {
     "name": "stdout",
     "output_type": "stream",
     "text": [
      "video  v_PlayingCello_g24_c04.avi  inferenced done.\n",
      "# of finished videos:  154\n",
      "# of finished directories:  0\n",
      "inferencing video:  v_PlayingCello_g24_c05.avi  from  PlayingCello  directory\n"
     ]
    },
    {
     "name": "stderr",
     "output_type": "stream",
     "text": [
      "[2018-07-27 15:40:15,603] [TfPoseEstimator-Video] [DEBUG] initialization mobilenet_thin : /home/MPLab/mplab006/tf_action_recognition/models/graph/mobilenet_thin/graph_opt.pb\n"
     ]
    },
    {
     "name": "stdout",
     "output_type": "stream",
     "text": [
      "video  v_PlayingCello_g24_c05.avi  inferenced done.\n",
      "# of finished videos:  155\n",
      "# of finished directories:  0\n",
      "inferencing video:  v_PlayingCello_g24_c06.avi  from  PlayingCello  directory\n"
     ]
    },
    {
     "name": "stderr",
     "output_type": "stream",
     "text": [
      "[2018-07-27 15:40:16,452] [TfPoseEstimator-Video] [DEBUG] initialization mobilenet_thin : /home/MPLab/mplab006/tf_action_recognition/models/graph/mobilenet_thin/graph_opt.pb\n"
     ]
    },
    {
     "name": "stdout",
     "output_type": "stream",
     "text": [
      "video  v_PlayingCello_g24_c06.avi  inferenced done.\n",
      "# of finished videos:  156\n",
      "# of finished directories:  0\n",
      "inferencing video:  v_PlayingCello_g24_c07.avi  from  PlayingCello  directory\n"
     ]
    },
    {
     "name": "stderr",
     "output_type": "stream",
     "text": [
      "[2018-07-27 15:40:17,333] [TfPoseEstimator-Video] [DEBUG] initialization mobilenet_thin : /home/MPLab/mplab006/tf_action_recognition/models/graph/mobilenet_thin/graph_opt.pb\n"
     ]
    },
    {
     "name": "stdout",
     "output_type": "stream",
     "text": [
      "video  v_PlayingCello_g24_c07.avi  inferenced done.\n",
      "# of finished videos:  157\n",
      "# of finished directories:  0\n",
      "inferencing video:  v_PlayingCello_g25_c01.avi  from  PlayingCello  directory\n"
     ]
    },
    {
     "name": "stderr",
     "output_type": "stream",
     "text": [
      "[2018-07-27 15:40:18,185] [TfPoseEstimator-Video] [DEBUG] initialization mobilenet_thin : /home/MPLab/mplab006/tf_action_recognition/models/graph/mobilenet_thin/graph_opt.pb\n"
     ]
    },
    {
     "name": "stdout",
     "output_type": "stream",
     "text": [
      "video  v_PlayingCello_g25_c01.avi  inferenced done.\n",
      "# of finished videos:  158\n",
      "# of finished directories:  0\n",
      "inferencing video:  v_PlayingCello_g25_c02.avi  from  PlayingCello  directory\n"
     ]
    },
    {
     "name": "stderr",
     "output_type": "stream",
     "text": [
      "[2018-07-27 15:40:19,031] [TfPoseEstimator-Video] [DEBUG] initialization mobilenet_thin : /home/MPLab/mplab006/tf_action_recognition/models/graph/mobilenet_thin/graph_opt.pb\n"
     ]
    },
    {
     "name": "stdout",
     "output_type": "stream",
     "text": [
      "video  v_PlayingCello_g25_c02.avi  inferenced done.\n",
      "# of finished videos:  159\n",
      "# of finished directories:  0\n",
      "inferencing video:  v_PlayingCello_g25_c03.avi  from  PlayingCello  directory\n"
     ]
    },
    {
     "name": "stderr",
     "output_type": "stream",
     "text": [
      "[2018-07-27 15:40:19,886] [TfPoseEstimator-Video] [DEBUG] initialization mobilenet_thin : /home/MPLab/mplab006/tf_action_recognition/models/graph/mobilenet_thin/graph_opt.pb\n"
     ]
    },
    {
     "name": "stdout",
     "output_type": "stream",
     "text": [
      "video  v_PlayingCello_g25_c03.avi  inferenced done.\n",
      "# of finished videos:  160\n",
      "# of finished directories:  0\n",
      "inferencing video:  v_PlayingCello_g25_c04.avi  from  PlayingCello  directory\n"
     ]
    },
    {
     "name": "stderr",
     "output_type": "stream",
     "text": [
      "[2018-07-27 15:40:20,760] [TfPoseEstimator-Video] [DEBUG] initialization mobilenet_thin : /home/MPLab/mplab006/tf_action_recognition/models/graph/mobilenet_thin/graph_opt.pb\n"
     ]
    },
    {
     "name": "stdout",
     "output_type": "stream",
     "text": [
      "video  v_PlayingCello_g25_c04.avi  inferenced done.\n",
      "# of finished videos:  161\n",
      "# of finished directories:  0\n",
      "inferencing video:  v_PlayingCello_g25_c05.avi  from  PlayingCello  directory\n"
     ]
    },
    {
     "name": "stderr",
     "output_type": "stream",
     "text": [
      "[2018-07-27 15:40:21,615] [TfPoseEstimator-Video] [DEBUG] initialization mobilenet_thin : /home/MPLab/mplab006/tf_action_recognition/models/graph/mobilenet_thin/graph_opt.pb\n"
     ]
    },
    {
     "name": "stdout",
     "output_type": "stream",
     "text": [
      "video  v_PlayingCello_g25_c05.avi  inferenced done.\n",
      "# of finished videos:  162\n",
      "# of finished directories:  0\n",
      "inferencing video:  v_PlayingCello_g25_c06.avi  from  PlayingCello  directory\n"
     ]
    },
    {
     "name": "stderr",
     "output_type": "stream",
     "text": [
      "[2018-07-27 15:40:22,521] [TfPoseEstimator-Video] [DEBUG] initialization mobilenet_thin : /home/MPLab/mplab006/tf_action_recognition/models/graph/mobilenet_thin/graph_opt.pb\n"
     ]
    },
    {
     "name": "stdout",
     "output_type": "stream",
     "text": [
      "video  v_PlayingCello_g25_c06.avi  inferenced done.\n",
      "# of finished videos:  163\n",
      "# of finished directories:  0\n",
      "inferencing video:  v_PlayingCello_g25_c07.avi  from  PlayingCello  directory\n"
     ]
    },
    {
     "name": "stderr",
     "output_type": "stream",
     "text": [
      "[2018-07-27 15:40:23,420] [TfPoseEstimator-Video] [DEBUG] initialization mobilenet_thin : /home/MPLab/mplab006/tf_action_recognition/models/graph/mobilenet_thin/graph_opt.pb\n"
     ]
    },
    {
     "name": "stdout",
     "output_type": "stream",
     "text": [
      "video  v_PlayingCello_g25_c07.avi  inferenced done.\n",
      "# of finished videos:  164\n",
      "# of finished directories:  0\n",
      "inferencing video:  v_PlayingDaf_g01_c01.avi  from  PlayingDaf  directory\n"
     ]
    },
    {
     "name": "stderr",
     "output_type": "stream",
     "text": [
      "[2018-07-27 15:40:24,319] [TfPoseEstimator-Video] [DEBUG] initialization mobilenet_thin : /home/MPLab/mplab006/tf_action_recognition/models/graph/mobilenet_thin/graph_opt.pb\n"
     ]
    },
    {
     "name": "stdout",
     "output_type": "stream",
     "text": [
      "video  v_PlayingDaf_g01_c01.avi  inferenced done.\n",
      "# of finished videos:  1\n",
      "# of finished directories:  1\n",
      "inferencing video:  v_PlayingDaf_g01_c02.avi  from  PlayingDaf  directory\n"
     ]
    },
    {
     "name": "stderr",
     "output_type": "stream",
     "text": [
      "[2018-07-27 15:40:25,155] [TfPoseEstimator-Video] [DEBUG] initialization mobilenet_thin : /home/MPLab/mplab006/tf_action_recognition/models/graph/mobilenet_thin/graph_opt.pb\n"
     ]
    },
    {
     "name": "stdout",
     "output_type": "stream",
     "text": [
      "video  v_PlayingDaf_g01_c02.avi  inferenced done.\n",
      "# of finished videos:  2\n",
      "# of finished directories:  1\n",
      "inferencing video:  v_PlayingDaf_g01_c03.avi  from  PlayingDaf  directory\n"
     ]
    },
    {
     "name": "stderr",
     "output_type": "stream",
     "text": [
      "[2018-07-27 15:40:26,015] [TfPoseEstimator-Video] [DEBUG] initialization mobilenet_thin : /home/MPLab/mplab006/tf_action_recognition/models/graph/mobilenet_thin/graph_opt.pb\n"
     ]
    },
    {
     "name": "stdout",
     "output_type": "stream",
     "text": [
      "video  v_PlayingDaf_g01_c03.avi  inferenced done.\n",
      "# of finished videos:  3\n",
      "# of finished directories:  1\n",
      "inferencing video:  v_PlayingDaf_g01_c04.avi  from  PlayingDaf  directory\n"
     ]
    },
    {
     "name": "stderr",
     "output_type": "stream",
     "text": [
      "[2018-07-27 15:40:26,924] [TfPoseEstimator-Video] [DEBUG] initialization mobilenet_thin : /home/MPLab/mplab006/tf_action_recognition/models/graph/mobilenet_thin/graph_opt.pb\n"
     ]
    },
    {
     "name": "stdout",
     "output_type": "stream",
     "text": [
      "video  v_PlayingDaf_g01_c04.avi  inferenced done.\n",
      "# of finished videos:  4\n",
      "# of finished directories:  1\n",
      "inferencing video:  v_PlayingDaf_g02_c01.avi  from  PlayingDaf  directory\n"
     ]
    },
    {
     "name": "stderr",
     "output_type": "stream",
     "text": [
      "[2018-07-27 15:40:27,800] [TfPoseEstimator-Video] [DEBUG] initialization mobilenet_thin : /home/MPLab/mplab006/tf_action_recognition/models/graph/mobilenet_thin/graph_opt.pb\n"
     ]
    },
    {
     "name": "stdout",
     "output_type": "stream",
     "text": [
      "video  v_PlayingDaf_g02_c01.avi  inferenced done.\n",
      "# of finished videos:  5\n",
      "# of finished directories:  1\n",
      "inferencing video:  v_PlayingDaf_g02_c02.avi  from  PlayingDaf  directory\n"
     ]
    },
    {
     "name": "stderr",
     "output_type": "stream",
     "text": [
      "[2018-07-27 15:40:28,714] [TfPoseEstimator-Video] [DEBUG] initialization mobilenet_thin : /home/MPLab/mplab006/tf_action_recognition/models/graph/mobilenet_thin/graph_opt.pb\n"
     ]
    },
    {
     "name": "stdout",
     "output_type": "stream",
     "text": [
      "video  v_PlayingDaf_g02_c02.avi  inferenced done.\n",
      "# of finished videos:  6\n",
      "# of finished directories:  1\n",
      "inferencing video:  v_PlayingDaf_g02_c03.avi  from  PlayingDaf  directory\n"
     ]
    },
    {
     "name": "stderr",
     "output_type": "stream",
     "text": [
      "[2018-07-27 15:40:29,620] [TfPoseEstimator-Video] [DEBUG] initialization mobilenet_thin : /home/MPLab/mplab006/tf_action_recognition/models/graph/mobilenet_thin/graph_opt.pb\n"
     ]
    },
    {
     "name": "stdout",
     "output_type": "stream",
     "text": [
      "video  v_PlayingDaf_g02_c03.avi  inferenced done.\n",
      "# of finished videos:  7\n",
      "# of finished directories:  1\n",
      "inferencing video:  v_PlayingDaf_g02_c04.avi  from  PlayingDaf  directory\n"
     ]
    },
    {
     "name": "stderr",
     "output_type": "stream",
     "text": [
      "[2018-07-27 15:40:30,489] [TfPoseEstimator-Video] [DEBUG] initialization mobilenet_thin : /home/MPLab/mplab006/tf_action_recognition/models/graph/mobilenet_thin/graph_opt.pb\n"
     ]
    },
    {
     "name": "stdout",
     "output_type": "stream",
     "text": [
      "video  v_PlayingDaf_g02_c04.avi  inferenced done.\n",
      "# of finished videos:  8\n",
      "# of finished directories:  1\n",
      "inferencing video:  v_PlayingDaf_g02_c05.avi  from  PlayingDaf  directory\n"
     ]
    },
    {
     "name": "stderr",
     "output_type": "stream",
     "text": [
      "[2018-07-27 15:40:31,490] [TfPoseEstimator-Video] [DEBUG] initialization mobilenet_thin : /home/MPLab/mplab006/tf_action_recognition/models/graph/mobilenet_thin/graph_opt.pb\n"
     ]
    },
    {
     "name": "stdout",
     "output_type": "stream",
     "text": [
      "video  v_PlayingDaf_g02_c05.avi  inferenced done.\n",
      "# of finished videos:  9\n",
      "# of finished directories:  1\n",
      "inferencing video:  v_PlayingDaf_g02_c06.avi  from  PlayingDaf  directory\n"
     ]
    },
    {
     "name": "stderr",
     "output_type": "stream",
     "text": [
      "[2018-07-27 15:40:32,400] [TfPoseEstimator-Video] [DEBUG] initialization mobilenet_thin : /home/MPLab/mplab006/tf_action_recognition/models/graph/mobilenet_thin/graph_opt.pb\n"
     ]
    },
    {
     "name": "stdout",
     "output_type": "stream",
     "text": [
      "video  v_PlayingDaf_g02_c06.avi  inferenced done.\n",
      "# of finished videos:  10\n",
      "# of finished directories:  1\n",
      "inferencing video:  v_PlayingDaf_g02_c07.avi  from  PlayingDaf  directory\n"
     ]
    },
    {
     "name": "stderr",
     "output_type": "stream",
     "text": [
      "[2018-07-27 15:40:33,308] [TfPoseEstimator-Video] [DEBUG] initialization mobilenet_thin : /home/MPLab/mplab006/tf_action_recognition/models/graph/mobilenet_thin/graph_opt.pb\n"
     ]
    },
    {
     "name": "stdout",
     "output_type": "stream",
     "text": [
      "video  v_PlayingDaf_g02_c07.avi  inferenced done.\n",
      "# of finished videos:  11\n",
      "# of finished directories:  1\n",
      "inferencing video:  v_PlayingDaf_g03_c01.avi  from  PlayingDaf  directory\n"
     ]
    },
    {
     "name": "stderr",
     "output_type": "stream",
     "text": [
      "[2018-07-27 15:40:34,201] [TfPoseEstimator-Video] [DEBUG] initialization mobilenet_thin : /home/MPLab/mplab006/tf_action_recognition/models/graph/mobilenet_thin/graph_opt.pb\n"
     ]
    },
    {
     "name": "stdout",
     "output_type": "stream",
     "text": [
      "video  v_PlayingDaf_g03_c01.avi  inferenced done.\n",
      "# of finished videos:  12\n",
      "# of finished directories:  1\n",
      "inferencing video:  v_PlayingDaf_g03_c02.avi  from  PlayingDaf  directory\n"
     ]
    },
    {
     "name": "stderr",
     "output_type": "stream",
     "text": [
      "[2018-07-27 15:40:35,049] [TfPoseEstimator-Video] [DEBUG] initialization mobilenet_thin : /home/MPLab/mplab006/tf_action_recognition/models/graph/mobilenet_thin/graph_opt.pb\n"
     ]
    },
    {
     "name": "stdout",
     "output_type": "stream",
     "text": [
      "video  v_PlayingDaf_g03_c02.avi  inferenced done.\n",
      "# of finished videos:  13\n",
      "# of finished directories:  1\n",
      "inferencing video:  v_PlayingDaf_g03_c03.avi  from  PlayingDaf  directory\n"
     ]
    },
    {
     "name": "stderr",
     "output_type": "stream",
     "text": [
      "[2018-07-27 15:40:35,896] [TfPoseEstimator-Video] [DEBUG] initialization mobilenet_thin : /home/MPLab/mplab006/tf_action_recognition/models/graph/mobilenet_thin/graph_opt.pb\n"
     ]
    },
    {
     "name": "stdout",
     "output_type": "stream",
     "text": [
      "video  v_PlayingDaf_g03_c03.avi  inferenced done.\n",
      "# of finished videos:  14\n",
      "# of finished directories:  1\n",
      "inferencing video:  v_PlayingDaf_g03_c04.avi  from  PlayingDaf  directory\n"
     ]
    },
    {
     "name": "stderr",
     "output_type": "stream",
     "text": [
      "[2018-07-27 15:40:36,749] [TfPoseEstimator-Video] [DEBUG] initialization mobilenet_thin : /home/MPLab/mplab006/tf_action_recognition/models/graph/mobilenet_thin/graph_opt.pb\n"
     ]
    },
    {
     "name": "stdout",
     "output_type": "stream",
     "text": [
      "video  v_PlayingDaf_g03_c04.avi  inferenced done.\n",
      "# of finished videos:  15\n",
      "# of finished directories:  1\n",
      "inferencing video:  v_PlayingDaf_g04_c01.avi  from  PlayingDaf  directory\n"
     ]
    },
    {
     "name": "stderr",
     "output_type": "stream",
     "text": [
      "[2018-07-27 15:40:37,610] [TfPoseEstimator-Video] [DEBUG] initialization mobilenet_thin : /home/MPLab/mplab006/tf_action_recognition/models/graph/mobilenet_thin/graph_opt.pb\n"
     ]
    },
    {
     "name": "stdout",
     "output_type": "stream",
     "text": [
      "video  v_PlayingDaf_g04_c01.avi  inferenced done.\n",
      "# of finished videos:  16\n",
      "# of finished directories:  1\n",
      "inferencing video:  v_PlayingDaf_g04_c02.avi  from  PlayingDaf  directory\n"
     ]
    },
    {
     "name": "stderr",
     "output_type": "stream",
     "text": [
      "[2018-07-27 15:40:38,473] [TfPoseEstimator-Video] [DEBUG] initialization mobilenet_thin : /home/MPLab/mplab006/tf_action_recognition/models/graph/mobilenet_thin/graph_opt.pb\n"
     ]
    },
    {
     "name": "stdout",
     "output_type": "stream",
     "text": [
      "video  v_PlayingDaf_g04_c02.avi  inferenced done.\n",
      "# of finished videos:  17\n",
      "# of finished directories:  1\n",
      "inferencing video:  v_PlayingDaf_g04_c03.avi  from  PlayingDaf  directory\n"
     ]
    },
    {
     "name": "stderr",
     "output_type": "stream",
     "text": [
      "[2018-07-27 15:40:39,305] [TfPoseEstimator-Video] [DEBUG] initialization mobilenet_thin : /home/MPLab/mplab006/tf_action_recognition/models/graph/mobilenet_thin/graph_opt.pb\n"
     ]
    },
    {
     "name": "stdout",
     "output_type": "stream",
     "text": [
      "video  v_PlayingDaf_g04_c03.avi  inferenced done.\n",
      "# of finished videos:  18\n",
      "# of finished directories:  1\n",
      "inferencing video:  v_PlayingDaf_g04_c04.avi  from  PlayingDaf  directory\n"
     ]
    },
    {
     "name": "stderr",
     "output_type": "stream",
     "text": [
      "[2018-07-27 15:40:40,153] [TfPoseEstimator-Video] [DEBUG] initialization mobilenet_thin : /home/MPLab/mplab006/tf_action_recognition/models/graph/mobilenet_thin/graph_opt.pb\n"
     ]
    },
    {
     "name": "stdout",
     "output_type": "stream",
     "text": [
      "video  v_PlayingDaf_g04_c04.avi  inferenced done.\n",
      "# of finished videos:  19\n",
      "# of finished directories:  1\n",
      "inferencing video:  v_PlayingDaf_g04_c05.avi  from  PlayingDaf  directory\n"
     ]
    },
    {
     "name": "stderr",
     "output_type": "stream",
     "text": [
      "[2018-07-27 15:40:40,999] [TfPoseEstimator-Video] [DEBUG] initialization mobilenet_thin : /home/MPLab/mplab006/tf_action_recognition/models/graph/mobilenet_thin/graph_opt.pb\n"
     ]
    },
    {
     "name": "stdout",
     "output_type": "stream",
     "text": [
      "video  v_PlayingDaf_g04_c05.avi  inferenced done.\n",
      "# of finished videos:  20\n",
      "# of finished directories:  1\n",
      "inferencing video:  v_PlayingDaf_g04_c06.avi  from  PlayingDaf  directory\n"
     ]
    },
    {
     "name": "stderr",
     "output_type": "stream",
     "text": [
      "[2018-07-27 15:40:41,823] [TfPoseEstimator-Video] [DEBUG] initialization mobilenet_thin : /home/MPLab/mplab006/tf_action_recognition/models/graph/mobilenet_thin/graph_opt.pb\n"
     ]
    },
    {
     "name": "stdout",
     "output_type": "stream",
     "text": [
      "video  v_PlayingDaf_g04_c06.avi  inferenced done.\n",
      "# of finished videos:  21\n",
      "# of finished directories:  1\n",
      "inferencing video:  v_PlayingDaf_g04_c07.avi  from  PlayingDaf  directory\n"
     ]
    },
    {
     "name": "stderr",
     "output_type": "stream",
     "text": [
      "[2018-07-27 15:40:42,677] [TfPoseEstimator-Video] [DEBUG] initialization mobilenet_thin : /home/MPLab/mplab006/tf_action_recognition/models/graph/mobilenet_thin/graph_opt.pb\n"
     ]
    },
    {
     "name": "stdout",
     "output_type": "stream",
     "text": [
      "video  v_PlayingDaf_g04_c07.avi  inferenced done.\n",
      "# of finished videos:  22\n",
      "# of finished directories:  1\n",
      "inferencing video:  v_PlayingDaf_g05_c01.avi  from  PlayingDaf  directory\n"
     ]
    },
    {
     "name": "stderr",
     "output_type": "stream",
     "text": [
      "[2018-07-27 15:40:43,527] [TfPoseEstimator-Video] [DEBUG] initialization mobilenet_thin : /home/MPLab/mplab006/tf_action_recognition/models/graph/mobilenet_thin/graph_opt.pb\n"
     ]
    },
    {
     "name": "stdout",
     "output_type": "stream",
     "text": [
      "video  v_PlayingDaf_g05_c01.avi  inferenced done.\n",
      "# of finished videos:  23\n",
      "# of finished directories:  1\n",
      "inferencing video:  v_PlayingDaf_g05_c02.avi  from  PlayingDaf  directory\n"
     ]
    },
    {
     "name": "stderr",
     "output_type": "stream",
     "text": [
      "[2018-07-27 15:40:44,408] [TfPoseEstimator-Video] [DEBUG] initialization mobilenet_thin : /home/MPLab/mplab006/tf_action_recognition/models/graph/mobilenet_thin/graph_opt.pb\n"
     ]
    },
    {
     "name": "stdout",
     "output_type": "stream",
     "text": [
      "video  v_PlayingDaf_g05_c02.avi  inferenced done.\n",
      "# of finished videos:  24\n",
      "# of finished directories:  1\n",
      "inferencing video:  v_PlayingDaf_g05_c03.avi  from  PlayingDaf  directory\n"
     ]
    },
    {
     "name": "stderr",
     "output_type": "stream",
     "text": [
      "[2018-07-27 15:40:45,296] [TfPoseEstimator-Video] [DEBUG] initialization mobilenet_thin : /home/MPLab/mplab006/tf_action_recognition/models/graph/mobilenet_thin/graph_opt.pb\n"
     ]
    },
    {
     "name": "stdout",
     "output_type": "stream",
     "text": [
      "video  v_PlayingDaf_g05_c03.avi  inferenced done.\n",
      "# of finished videos:  25\n",
      "# of finished directories:  1\n",
      "inferencing video:  v_PlayingDaf_g05_c04.avi  from  PlayingDaf  directory\n"
     ]
    },
    {
     "name": "stderr",
     "output_type": "stream",
     "text": [
      "[2018-07-27 15:40:46,200] [TfPoseEstimator-Video] [DEBUG] initialization mobilenet_thin : /home/MPLab/mplab006/tf_action_recognition/models/graph/mobilenet_thin/graph_opt.pb\n"
     ]
    },
    {
     "name": "stdout",
     "output_type": "stream",
     "text": [
      "video  v_PlayingDaf_g05_c04.avi  inferenced done.\n",
      "# of finished videos:  26\n",
      "# of finished directories:  1\n",
      "inferencing video:  v_PlayingDaf_g05_c05.avi  from  PlayingDaf  directory\n"
     ]
    },
    {
     "name": "stderr",
     "output_type": "stream",
     "text": [
      "[2018-07-27 15:40:47,091] [TfPoseEstimator-Video] [DEBUG] initialization mobilenet_thin : /home/MPLab/mplab006/tf_action_recognition/models/graph/mobilenet_thin/graph_opt.pb\n"
     ]
    },
    {
     "name": "stdout",
     "output_type": "stream",
     "text": [
      "video  v_PlayingDaf_g05_c05.avi  inferenced done.\n",
      "# of finished videos:  27\n",
      "# of finished directories:  1\n",
      "inferencing video:  v_PlayingDaf_g05_c06.avi  from  PlayingDaf  directory\n"
     ]
    },
    {
     "name": "stderr",
     "output_type": "stream",
     "text": [
      "[2018-07-27 15:40:47,957] [TfPoseEstimator-Video] [DEBUG] initialization mobilenet_thin : /home/MPLab/mplab006/tf_action_recognition/models/graph/mobilenet_thin/graph_opt.pb\n"
     ]
    },
    {
     "name": "stdout",
     "output_type": "stream",
     "text": [
      "video  v_PlayingDaf_g05_c06.avi  inferenced done.\n",
      "# of finished videos:  28\n",
      "# of finished directories:  1\n",
      "inferencing video:  v_PlayingDaf_g05_c07.avi  from  PlayingDaf  directory\n"
     ]
    },
    {
     "name": "stderr",
     "output_type": "stream",
     "text": [
      "[2018-07-27 15:40:48,789] [TfPoseEstimator-Video] [DEBUG] initialization mobilenet_thin : /home/MPLab/mplab006/tf_action_recognition/models/graph/mobilenet_thin/graph_opt.pb\n"
     ]
    },
    {
     "name": "stdout",
     "output_type": "stream",
     "text": [
      "video  v_PlayingDaf_g05_c07.avi  inferenced done.\n",
      "# of finished videos:  29\n",
      "# of finished directories:  1\n",
      "inferencing video:  v_PlayingDaf_g06_c01.avi  from  PlayingDaf  directory\n"
     ]
    },
    {
     "name": "stderr",
     "output_type": "stream",
     "text": [
      "[2018-07-27 15:40:49,706] [TfPoseEstimator-Video] [DEBUG] initialization mobilenet_thin : /home/MPLab/mplab006/tf_action_recognition/models/graph/mobilenet_thin/graph_opt.pb\n"
     ]
    },
    {
     "name": "stdout",
     "output_type": "stream",
     "text": [
      "video  v_PlayingDaf_g06_c01.avi  inferenced done.\n",
      "# of finished videos:  30\n",
      "# of finished directories:  1\n",
      "inferencing video:  v_PlayingDaf_g06_c02.avi  from  PlayingDaf  directory\n"
     ]
    },
    {
     "name": "stderr",
     "output_type": "stream",
     "text": [
      "[2018-07-27 15:40:50,599] [TfPoseEstimator-Video] [DEBUG] initialization mobilenet_thin : /home/MPLab/mplab006/tf_action_recognition/models/graph/mobilenet_thin/graph_opt.pb\n"
     ]
    },
    {
     "name": "stdout",
     "output_type": "stream",
     "text": [
      "video  v_PlayingDaf_g06_c02.avi  inferenced done.\n",
      "# of finished videos:  31\n",
      "# of finished directories:  1\n",
      "inferencing video:  v_PlayingDaf_g06_c03.avi  from  PlayingDaf  directory\n"
     ]
    },
    {
     "name": "stderr",
     "output_type": "stream",
     "text": [
      "[2018-07-27 15:40:51,516] [TfPoseEstimator-Video] [DEBUG] initialization mobilenet_thin : /home/MPLab/mplab006/tf_action_recognition/models/graph/mobilenet_thin/graph_opt.pb\n"
     ]
    },
    {
     "name": "stdout",
     "output_type": "stream",
     "text": [
      "video  v_PlayingDaf_g06_c03.avi  inferenced done.\n",
      "# of finished videos:  32\n",
      "# of finished directories:  1\n",
      "inferencing video:  v_PlayingDaf_g06_c04.avi  from  PlayingDaf  directory\n"
     ]
    },
    {
     "name": "stderr",
     "output_type": "stream",
     "text": [
      "[2018-07-27 15:40:52,379] [TfPoseEstimator-Video] [DEBUG] initialization mobilenet_thin : /home/MPLab/mplab006/tf_action_recognition/models/graph/mobilenet_thin/graph_opt.pb\n"
     ]
    },
    {
     "name": "stdout",
     "output_type": "stream",
     "text": [
      "video  v_PlayingDaf_g06_c04.avi  inferenced done.\n",
      "# of finished videos:  33\n",
      "# of finished directories:  1\n",
      "inferencing video:  v_PlayingDaf_g06_c05.avi  from  PlayingDaf  directory\n"
     ]
    },
    {
     "name": "stderr",
     "output_type": "stream",
     "text": [
      "[2018-07-27 15:40:53,252] [TfPoseEstimator-Video] [DEBUG] initialization mobilenet_thin : /home/MPLab/mplab006/tf_action_recognition/models/graph/mobilenet_thin/graph_opt.pb\n"
     ]
    },
    {
     "name": "stdout",
     "output_type": "stream",
     "text": [
      "video  v_PlayingDaf_g06_c05.avi  inferenced done.\n",
      "# of finished videos:  34\n",
      "# of finished directories:  1\n",
      "inferencing video:  v_PlayingDaf_g06_c06.avi  from  PlayingDaf  directory\n"
     ]
    },
    {
     "name": "stderr",
     "output_type": "stream",
     "text": [
      "[2018-07-27 15:40:54,127] [TfPoseEstimator-Video] [DEBUG] initialization mobilenet_thin : /home/MPLab/mplab006/tf_action_recognition/models/graph/mobilenet_thin/graph_opt.pb\n"
     ]
    },
    {
     "name": "stdout",
     "output_type": "stream",
     "text": [
      "video  v_PlayingDaf_g06_c06.avi  inferenced done.\n",
      "# of finished videos:  35\n",
      "# of finished directories:  1\n",
      "inferencing video:  v_PlayingDaf_g06_c07.avi  from  PlayingDaf  directory\n"
     ]
    },
    {
     "name": "stderr",
     "output_type": "stream",
     "text": [
      "[2018-07-27 15:40:54,987] [TfPoseEstimator-Video] [DEBUG] initialization mobilenet_thin : /home/MPLab/mplab006/tf_action_recognition/models/graph/mobilenet_thin/graph_opt.pb\n"
     ]
    },
    {
     "name": "stdout",
     "output_type": "stream",
     "text": [
      "video  v_PlayingDaf_g06_c07.avi  inferenced done.\n",
      "# of finished videos:  36\n",
      "# of finished directories:  1\n",
      "inferencing video:  v_PlayingDaf_g07_c01.avi  from  PlayingDaf  directory\n"
     ]
    },
    {
     "name": "stderr",
     "output_type": "stream",
     "text": [
      "[2018-07-27 15:40:55,877] [TfPoseEstimator-Video] [DEBUG] initialization mobilenet_thin : /home/MPLab/mplab006/tf_action_recognition/models/graph/mobilenet_thin/graph_opt.pb\n"
     ]
    },
    {
     "name": "stdout",
     "output_type": "stream",
     "text": [
      "video  v_PlayingDaf_g07_c01.avi  inferenced done.\n",
      "# of finished videos:  37\n",
      "# of finished directories:  1\n",
      "inferencing video:  v_PlayingDaf_g07_c02.avi  from  PlayingDaf  directory\n"
     ]
    },
    {
     "name": "stderr",
     "output_type": "stream",
     "text": [
      "[2018-07-27 15:40:56,791] [TfPoseEstimator-Video] [DEBUG] initialization mobilenet_thin : /home/MPLab/mplab006/tf_action_recognition/models/graph/mobilenet_thin/graph_opt.pb\n"
     ]
    },
    {
     "name": "stdout",
     "output_type": "stream",
     "text": [
      "video  v_PlayingDaf_g07_c02.avi  inferenced done.\n",
      "# of finished videos:  38\n",
      "# of finished directories:  1\n",
      "inferencing video:  v_PlayingDaf_g07_c03.avi  from  PlayingDaf  directory\n"
     ]
    },
    {
     "name": "stderr",
     "output_type": "stream",
     "text": [
      "[2018-07-27 15:40:57,690] [TfPoseEstimator-Video] [DEBUG] initialization mobilenet_thin : /home/MPLab/mplab006/tf_action_recognition/models/graph/mobilenet_thin/graph_opt.pb\n"
     ]
    },
    {
     "name": "stdout",
     "output_type": "stream",
     "text": [
      "video  v_PlayingDaf_g07_c03.avi  inferenced done.\n",
      "# of finished videos:  39\n",
      "# of finished directories:  1\n",
      "inferencing video:  v_PlayingDaf_g07_c04.avi  from  PlayingDaf  directory\n"
     ]
    },
    {
     "name": "stderr",
     "output_type": "stream",
     "text": [
      "[2018-07-27 15:40:58,596] [TfPoseEstimator-Video] [DEBUG] initialization mobilenet_thin : /home/MPLab/mplab006/tf_action_recognition/models/graph/mobilenet_thin/graph_opt.pb\n"
     ]
    },
    {
     "name": "stdout",
     "output_type": "stream",
     "text": [
      "video  v_PlayingDaf_g07_c04.avi  inferenced done.\n",
      "# of finished videos:  40\n",
      "# of finished directories:  1\n",
      "inferencing video:  v_PlayingDaf_g07_c05.avi  from  PlayingDaf  directory\n"
     ]
    },
    {
     "name": "stderr",
     "output_type": "stream",
     "text": [
      "[2018-07-27 15:40:59,527] [TfPoseEstimator-Video] [DEBUG] initialization mobilenet_thin : /home/MPLab/mplab006/tf_action_recognition/models/graph/mobilenet_thin/graph_opt.pb\n"
     ]
    },
    {
     "name": "stdout",
     "output_type": "stream",
     "text": [
      "video  v_PlayingDaf_g07_c05.avi  inferenced done.\n",
      "# of finished videos:  41\n",
      "# of finished directories:  1\n",
      "inferencing video:  v_PlayingDaf_g08_c01.avi  from  PlayingDaf  directory\n"
     ]
    },
    {
     "name": "stderr",
     "output_type": "stream",
     "text": [
      "[2018-07-27 15:41:00,372] [TfPoseEstimator-Video] [DEBUG] initialization mobilenet_thin : /home/MPLab/mplab006/tf_action_recognition/models/graph/mobilenet_thin/graph_opt.pb\n"
     ]
    },
    {
     "name": "stdout",
     "output_type": "stream",
     "text": [
      "video  v_PlayingDaf_g08_c01.avi  inferenced done.\n",
      "# of finished videos:  42\n",
      "# of finished directories:  1\n",
      "inferencing video:  v_PlayingDaf_g08_c02.avi  from  PlayingDaf  directory\n"
     ]
    },
    {
     "name": "stderr",
     "output_type": "stream",
     "text": [
      "[2018-07-27 15:41:01,265] [TfPoseEstimator-Video] [DEBUG] initialization mobilenet_thin : /home/MPLab/mplab006/tf_action_recognition/models/graph/mobilenet_thin/graph_opt.pb\n"
     ]
    },
    {
     "name": "stdout",
     "output_type": "stream",
     "text": [
      "video  v_PlayingDaf_g08_c02.avi  inferenced done.\n",
      "# of finished videos:  43\n",
      "# of finished directories:  1\n",
      "inferencing video:  v_PlayingDaf_g08_c03.avi  from  PlayingDaf  directory\n"
     ]
    },
    {
     "name": "stderr",
     "output_type": "stream",
     "text": [
      "[2018-07-27 15:41:02,156] [TfPoseEstimator-Video] [DEBUG] initialization mobilenet_thin : /home/MPLab/mplab006/tf_action_recognition/models/graph/mobilenet_thin/graph_opt.pb\n"
     ]
    },
    {
     "name": "stdout",
     "output_type": "stream",
     "text": [
      "video  v_PlayingDaf_g08_c03.avi  inferenced done.\n",
      "# of finished videos:  44\n",
      "# of finished directories:  1\n",
      "inferencing video:  v_PlayingDaf_g08_c04.avi  from  PlayingDaf  directory\n"
     ]
    },
    {
     "name": "stderr",
     "output_type": "stream",
     "text": [
      "[2018-07-27 15:41:03,003] [TfPoseEstimator-Video] [DEBUG] initialization mobilenet_thin : /home/MPLab/mplab006/tf_action_recognition/models/graph/mobilenet_thin/graph_opt.pb\n"
     ]
    },
    {
     "name": "stdout",
     "output_type": "stream",
     "text": [
      "video  v_PlayingDaf_g08_c04.avi  inferenced done.\n",
      "# of finished videos:  45\n",
      "# of finished directories:  1\n",
      "inferencing video:  v_PlayingDaf_g08_c05.avi  from  PlayingDaf  directory\n"
     ]
    },
    {
     "name": "stderr",
     "output_type": "stream",
     "text": [
      "[2018-07-27 15:41:03,904] [TfPoseEstimator-Video] [DEBUG] initialization mobilenet_thin : /home/MPLab/mplab006/tf_action_recognition/models/graph/mobilenet_thin/graph_opt.pb\n"
     ]
    },
    {
     "name": "stdout",
     "output_type": "stream",
     "text": [
      "video  v_PlayingDaf_g08_c05.avi  inferenced done.\n",
      "# of finished videos:  46\n",
      "# of finished directories:  1\n",
      "inferencing video:  v_PlayingDaf_g08_c06.avi  from  PlayingDaf  directory\n"
     ]
    },
    {
     "name": "stderr",
     "output_type": "stream",
     "text": [
      "[2018-07-27 15:41:04,813] [TfPoseEstimator-Video] [DEBUG] initialization mobilenet_thin : /home/MPLab/mplab006/tf_action_recognition/models/graph/mobilenet_thin/graph_opt.pb\n"
     ]
    },
    {
     "name": "stdout",
     "output_type": "stream",
     "text": [
      "video  v_PlayingDaf_g08_c06.avi  inferenced done.\n",
      "# of finished videos:  47\n",
      "# of finished directories:  1\n",
      "inferencing video:  v_PlayingDaf_g08_c07.avi  from  PlayingDaf  directory\n"
     ]
    },
    {
     "name": "stderr",
     "output_type": "stream",
     "text": [
      "[2018-07-27 15:41:05,669] [TfPoseEstimator-Video] [DEBUG] initialization mobilenet_thin : /home/MPLab/mplab006/tf_action_recognition/models/graph/mobilenet_thin/graph_opt.pb\n"
     ]
    },
    {
     "name": "stdout",
     "output_type": "stream",
     "text": [
      "video  v_PlayingDaf_g08_c07.avi  inferenced done.\n",
      "# of finished videos:  48\n",
      "# of finished directories:  1\n",
      "inferencing video:  v_PlayingDaf_g09_c01.avi  from  PlayingDaf  directory\n"
     ]
    },
    {
     "name": "stderr",
     "output_type": "stream",
     "text": [
      "[2018-07-27 15:41:06,528] [TfPoseEstimator-Video] [DEBUG] initialization mobilenet_thin : /home/MPLab/mplab006/tf_action_recognition/models/graph/mobilenet_thin/graph_opt.pb\n"
     ]
    },
    {
     "name": "stdout",
     "output_type": "stream",
     "text": [
      "video  v_PlayingDaf_g09_c01.avi  inferenced done.\n",
      "# of finished videos:  49\n",
      "# of finished directories:  1\n",
      "inferencing video:  v_PlayingDaf_g09_c02.avi  from  PlayingDaf  directory\n"
     ]
    },
    {
     "name": "stderr",
     "output_type": "stream",
     "text": [
      "[2018-07-27 15:41:07,382] [TfPoseEstimator-Video] [DEBUG] initialization mobilenet_thin : /home/MPLab/mplab006/tf_action_recognition/models/graph/mobilenet_thin/graph_opt.pb\n"
     ]
    },
    {
     "name": "stdout",
     "output_type": "stream",
     "text": [
      "video  v_PlayingDaf_g09_c02.avi  inferenced done.\n",
      "# of finished videos:  50\n",
      "# of finished directories:  1\n",
      "inferencing video:  v_PlayingDaf_g09_c03.avi  from  PlayingDaf  directory\n"
     ]
    },
    {
     "name": "stderr",
     "output_type": "stream",
     "text": [
      "[2018-07-27 15:41:08,253] [TfPoseEstimator-Video] [DEBUG] initialization mobilenet_thin : /home/MPLab/mplab006/tf_action_recognition/models/graph/mobilenet_thin/graph_opt.pb\n"
     ]
    },
    {
     "name": "stdout",
     "output_type": "stream",
     "text": [
      "video  v_PlayingDaf_g09_c03.avi  inferenced done.\n",
      "# of finished videos:  51\n",
      "# of finished directories:  1\n",
      "inferencing video:  v_PlayingDaf_g09_c04.avi  from  PlayingDaf  directory\n"
     ]
    },
    {
     "name": "stderr",
     "output_type": "stream",
     "text": [
      "[2018-07-27 15:41:09,178] [TfPoseEstimator-Video] [DEBUG] initialization mobilenet_thin : /home/MPLab/mplab006/tf_action_recognition/models/graph/mobilenet_thin/graph_opt.pb\n"
     ]
    },
    {
     "name": "stdout",
     "output_type": "stream",
     "text": [
      "video  v_PlayingDaf_g09_c04.avi  inferenced done.\n",
      "# of finished videos:  52\n",
      "# of finished directories:  1\n",
      "inferencing video:  v_PlayingDaf_g09_c05.avi  from  PlayingDaf  directory\n"
     ]
    },
    {
     "name": "stderr",
     "output_type": "stream",
     "text": [
      "[2018-07-27 15:41:10,074] [TfPoseEstimator-Video] [DEBUG] initialization mobilenet_thin : /home/MPLab/mplab006/tf_action_recognition/models/graph/mobilenet_thin/graph_opt.pb\n"
     ]
    },
    {
     "name": "stdout",
     "output_type": "stream",
     "text": [
      "video  v_PlayingDaf_g09_c05.avi  inferenced done.\n",
      "# of finished videos:  53\n",
      "# of finished directories:  1\n",
      "inferencing video:  v_PlayingDaf_g10_c01.avi  from  PlayingDaf  directory\n"
     ]
    },
    {
     "name": "stderr",
     "output_type": "stream",
     "text": [
      "[2018-07-27 15:41:10,978] [TfPoseEstimator-Video] [DEBUG] initialization mobilenet_thin : /home/MPLab/mplab006/tf_action_recognition/models/graph/mobilenet_thin/graph_opt.pb\n"
     ]
    },
    {
     "name": "stdout",
     "output_type": "stream",
     "text": [
      "video  v_PlayingDaf_g10_c01.avi  inferenced done.\n",
      "# of finished videos:  54\n",
      "# of finished directories:  1\n",
      "inferencing video:  v_PlayingDaf_g10_c02.avi  from  PlayingDaf  directory\n"
     ]
    },
    {
     "name": "stderr",
     "output_type": "stream",
     "text": [
      "[2018-07-27 15:41:11,851] [TfPoseEstimator-Video] [DEBUG] initialization mobilenet_thin : /home/MPLab/mplab006/tf_action_recognition/models/graph/mobilenet_thin/graph_opt.pb\n"
     ]
    },
    {
     "name": "stdout",
     "output_type": "stream",
     "text": [
      "video  v_PlayingDaf_g10_c02.avi  inferenced done.\n",
      "# of finished videos:  55\n",
      "# of finished directories:  1\n",
      "inferencing video:  v_PlayingDaf_g10_c03.avi  from  PlayingDaf  directory\n"
     ]
    },
    {
     "name": "stderr",
     "output_type": "stream",
     "text": [
      "[2018-07-27 15:41:12,706] [TfPoseEstimator-Video] [DEBUG] initialization mobilenet_thin : /home/MPLab/mplab006/tf_action_recognition/models/graph/mobilenet_thin/graph_opt.pb\n"
     ]
    },
    {
     "name": "stdout",
     "output_type": "stream",
     "text": [
      "video  v_PlayingDaf_g10_c03.avi  inferenced done.\n",
      "# of finished videos:  56\n",
      "# of finished directories:  1\n",
      "inferencing video:  v_PlayingDaf_g10_c04.avi  from  PlayingDaf  directory\n"
     ]
    },
    {
     "name": "stderr",
     "output_type": "stream",
     "text": [
      "[2018-07-27 15:41:13,633] [TfPoseEstimator-Video] [DEBUG] initialization mobilenet_thin : /home/MPLab/mplab006/tf_action_recognition/models/graph/mobilenet_thin/graph_opt.pb\n"
     ]
    },
    {
     "name": "stdout",
     "output_type": "stream",
     "text": [
      "video  v_PlayingDaf_g10_c04.avi  inferenced done.\n",
      "# of finished videos:  57\n",
      "# of finished directories:  1\n",
      "inferencing video:  v_PlayingDaf_g10_c05.avi  from  PlayingDaf  directory\n"
     ]
    },
    {
     "name": "stderr",
     "output_type": "stream",
     "text": [
      "[2018-07-27 15:41:14,486] [TfPoseEstimator-Video] [DEBUG] initialization mobilenet_thin : /home/MPLab/mplab006/tf_action_recognition/models/graph/mobilenet_thin/graph_opt.pb\n"
     ]
    },
    {
     "name": "stdout",
     "output_type": "stream",
     "text": [
      "video  v_PlayingDaf_g10_c05.avi  inferenced done.\n",
      "# of finished videos:  58\n",
      "# of finished directories:  1\n",
      "inferencing video:  v_PlayingDaf_g10_c06.avi  from  PlayingDaf  directory\n"
     ]
    },
    {
     "name": "stderr",
     "output_type": "stream",
     "text": [
      "[2018-07-27 15:41:15,354] [TfPoseEstimator-Video] [DEBUG] initialization mobilenet_thin : /home/MPLab/mplab006/tf_action_recognition/models/graph/mobilenet_thin/graph_opt.pb\n"
     ]
    },
    {
     "name": "stdout",
     "output_type": "stream",
     "text": [
      "video  v_PlayingDaf_g10_c06.avi  inferenced done.\n",
      "# of finished videos:  59\n",
      "# of finished directories:  1\n",
      "inferencing video:  v_PlayingDaf_g10_c07.avi  from  PlayingDaf  directory\n"
     ]
    },
    {
     "name": "stderr",
     "output_type": "stream",
     "text": [
      "[2018-07-27 15:41:16,245] [TfPoseEstimator-Video] [DEBUG] initialization mobilenet_thin : /home/MPLab/mplab006/tf_action_recognition/models/graph/mobilenet_thin/graph_opt.pb\n"
     ]
    },
    {
     "name": "stdout",
     "output_type": "stream",
     "text": [
      "video  v_PlayingDaf_g10_c07.avi  inferenced done.\n",
      "# of finished videos:  60\n",
      "# of finished directories:  1\n",
      "inferencing video:  v_PlayingDaf_g11_c01.avi  from  PlayingDaf  directory\n"
     ]
    },
    {
     "name": "stderr",
     "output_type": "stream",
     "text": [
      "[2018-07-27 15:41:17,153] [TfPoseEstimator-Video] [DEBUG] initialization mobilenet_thin : /home/MPLab/mplab006/tf_action_recognition/models/graph/mobilenet_thin/graph_opt.pb\n"
     ]
    },
    {
     "name": "stdout",
     "output_type": "stream",
     "text": [
      "video  v_PlayingDaf_g11_c01.avi  inferenced done.\n",
      "# of finished videos:  61\n",
      "# of finished directories:  1\n",
      "inferencing video:  v_PlayingDaf_g11_c02.avi  from  PlayingDaf  directory\n"
     ]
    },
    {
     "name": "stderr",
     "output_type": "stream",
     "text": [
      "[2018-07-27 15:41:18,018] [TfPoseEstimator-Video] [DEBUG] initialization mobilenet_thin : /home/MPLab/mplab006/tf_action_recognition/models/graph/mobilenet_thin/graph_opt.pb\n"
     ]
    },
    {
     "name": "stdout",
     "output_type": "stream",
     "text": [
      "video  v_PlayingDaf_g11_c02.avi  inferenced done.\n",
      "# of finished videos:  62\n",
      "# of finished directories:  1\n",
      "inferencing video:  v_PlayingDaf_g11_c03.avi  from  PlayingDaf  directory\n"
     ]
    },
    {
     "name": "stderr",
     "output_type": "stream",
     "text": [
      "[2018-07-27 15:41:18,866] [TfPoseEstimator-Video] [DEBUG] initialization mobilenet_thin : /home/MPLab/mplab006/tf_action_recognition/models/graph/mobilenet_thin/graph_opt.pb\n"
     ]
    },
    {
     "name": "stdout",
     "output_type": "stream",
     "text": [
      "video  v_PlayingDaf_g11_c03.avi  inferenced done.\n",
      "# of finished videos:  63\n",
      "# of finished directories:  1\n",
      "inferencing video:  v_PlayingDaf_g11_c04.avi  from  PlayingDaf  directory\n"
     ]
    },
    {
     "name": "stderr",
     "output_type": "stream",
     "text": [
      "[2018-07-27 15:41:19,717] [TfPoseEstimator-Video] [DEBUG] initialization mobilenet_thin : /home/MPLab/mplab006/tf_action_recognition/models/graph/mobilenet_thin/graph_opt.pb\n"
     ]
    },
    {
     "name": "stdout",
     "output_type": "stream",
     "text": [
      "video  v_PlayingDaf_g11_c04.avi  inferenced done.\n",
      "# of finished videos:  64\n",
      "# of finished directories:  1\n",
      "inferencing video:  v_PlayingDaf_g11_c05.avi  from  PlayingDaf  directory\n"
     ]
    },
    {
     "name": "stderr",
     "output_type": "stream",
     "text": [
      "[2018-07-27 15:41:20,612] [TfPoseEstimator-Video] [DEBUG] initialization mobilenet_thin : /home/MPLab/mplab006/tf_action_recognition/models/graph/mobilenet_thin/graph_opt.pb\n"
     ]
    },
    {
     "name": "stdout",
     "output_type": "stream",
     "text": [
      "video  v_PlayingDaf_g11_c05.avi  inferenced done.\n",
      "# of finished videos:  65\n",
      "# of finished directories:  1\n",
      "inferencing video:  v_PlayingDaf_g11_c06.avi  from  PlayingDaf  directory\n"
     ]
    },
    {
     "name": "stderr",
     "output_type": "stream",
     "text": [
      "[2018-07-27 15:41:21,478] [TfPoseEstimator-Video] [DEBUG] initialization mobilenet_thin : /home/MPLab/mplab006/tf_action_recognition/models/graph/mobilenet_thin/graph_opt.pb\n"
     ]
    },
    {
     "name": "stdout",
     "output_type": "stream",
     "text": [
      "video  v_PlayingDaf_g11_c06.avi  inferenced done.\n",
      "# of finished videos:  66\n",
      "# of finished directories:  1\n",
      "inferencing video:  v_PlayingDaf_g12_c01.avi  from  PlayingDaf  directory\n"
     ]
    },
    {
     "name": "stderr",
     "output_type": "stream",
     "text": [
      "[2018-07-27 15:41:22,330] [TfPoseEstimator-Video] [DEBUG] initialization mobilenet_thin : /home/MPLab/mplab006/tf_action_recognition/models/graph/mobilenet_thin/graph_opt.pb\n"
     ]
    },
    {
     "name": "stdout",
     "output_type": "stream",
     "text": [
      "video  v_PlayingDaf_g12_c01.avi  inferenced done.\n",
      "# of finished videos:  67\n",
      "# of finished directories:  1\n",
      "inferencing video:  v_PlayingDaf_g12_c02.avi  from  PlayingDaf  directory\n"
     ]
    },
    {
     "name": "stderr",
     "output_type": "stream",
     "text": [
      "[2018-07-27 15:41:23,230] [TfPoseEstimator-Video] [DEBUG] initialization mobilenet_thin : /home/MPLab/mplab006/tf_action_recognition/models/graph/mobilenet_thin/graph_opt.pb\n"
     ]
    },
    {
     "name": "stdout",
     "output_type": "stream",
     "text": [
      "video  v_PlayingDaf_g12_c02.avi  inferenced done.\n",
      "# of finished videos:  68\n",
      "# of finished directories:  1\n",
      "inferencing video:  v_PlayingDaf_g12_c03.avi  from  PlayingDaf  directory\n"
     ]
    },
    {
     "name": "stderr",
     "output_type": "stream",
     "text": [
      "[2018-07-27 15:41:24,064] [TfPoseEstimator-Video] [DEBUG] initialization mobilenet_thin : /home/MPLab/mplab006/tf_action_recognition/models/graph/mobilenet_thin/graph_opt.pb\n"
     ]
    },
    {
     "name": "stdout",
     "output_type": "stream",
     "text": [
      "video  v_PlayingDaf_g12_c03.avi  inferenced done.\n",
      "# of finished videos:  69\n",
      "# of finished directories:  1\n",
      "inferencing video:  v_PlayingDaf_g12_c04.avi  from  PlayingDaf  directory\n"
     ]
    },
    {
     "name": "stderr",
     "output_type": "stream",
     "text": [
      "[2018-07-27 15:41:24,925] [TfPoseEstimator-Video] [DEBUG] initialization mobilenet_thin : /home/MPLab/mplab006/tf_action_recognition/models/graph/mobilenet_thin/graph_opt.pb\n"
     ]
    },
    {
     "name": "stdout",
     "output_type": "stream",
     "text": [
      "video  v_PlayingDaf_g12_c04.avi  inferenced done.\n",
      "# of finished videos:  70\n",
      "# of finished directories:  1\n",
      "inferencing video:  v_PlayingDaf_g12_c05.avi  from  PlayingDaf  directory\n"
     ]
    },
    {
     "name": "stderr",
     "output_type": "stream",
     "text": [
      "[2018-07-27 15:41:25,771] [TfPoseEstimator-Video] [DEBUG] initialization mobilenet_thin : /home/MPLab/mplab006/tf_action_recognition/models/graph/mobilenet_thin/graph_opt.pb\n"
     ]
    },
    {
     "name": "stdout",
     "output_type": "stream",
     "text": [
      "video  v_PlayingDaf_g12_c05.avi  inferenced done.\n",
      "# of finished videos:  71\n",
      "# of finished directories:  1\n",
      "inferencing video:  v_PlayingDaf_g13_c01.avi  from  PlayingDaf  directory\n"
     ]
    },
    {
     "name": "stderr",
     "output_type": "stream",
     "text": [
      "[2018-07-27 15:41:26,668] [TfPoseEstimator-Video] [DEBUG] initialization mobilenet_thin : /home/MPLab/mplab006/tf_action_recognition/models/graph/mobilenet_thin/graph_opt.pb\n"
     ]
    },
    {
     "name": "stdout",
     "output_type": "stream",
     "text": [
      "video  v_PlayingDaf_g13_c01.avi  inferenced done.\n",
      "# of finished videos:  72\n",
      "# of finished directories:  1\n",
      "inferencing video:  v_PlayingDaf_g13_c02.avi  from  PlayingDaf  directory\n"
     ]
    },
    {
     "name": "stderr",
     "output_type": "stream",
     "text": [
      "[2018-07-27 15:41:27,519] [TfPoseEstimator-Video] [DEBUG] initialization mobilenet_thin : /home/MPLab/mplab006/tf_action_recognition/models/graph/mobilenet_thin/graph_opt.pb\n"
     ]
    },
    {
     "name": "stdout",
     "output_type": "stream",
     "text": [
      "video  v_PlayingDaf_g13_c02.avi  inferenced done.\n",
      "# of finished videos:  73\n",
      "# of finished directories:  1\n",
      "inferencing video:  v_PlayingDaf_g13_c03.avi  from  PlayingDaf  directory\n"
     ]
    },
    {
     "name": "stderr",
     "output_type": "stream",
     "text": [
      "[2018-07-27 15:41:28,384] [TfPoseEstimator-Video] [DEBUG] initialization mobilenet_thin : /home/MPLab/mplab006/tf_action_recognition/models/graph/mobilenet_thin/graph_opt.pb\n"
     ]
    },
    {
     "name": "stdout",
     "output_type": "stream",
     "text": [
      "video  v_PlayingDaf_g13_c03.avi  inferenced done.\n",
      "# of finished videos:  74\n",
      "# of finished directories:  1\n",
      "inferencing video:  v_PlayingDaf_g13_c04.avi  from  PlayingDaf  directory\n"
     ]
    },
    {
     "name": "stderr",
     "output_type": "stream",
     "text": [
      "[2018-07-27 15:41:29,241] [TfPoseEstimator-Video] [DEBUG] initialization mobilenet_thin : /home/MPLab/mplab006/tf_action_recognition/models/graph/mobilenet_thin/graph_opt.pb\n"
     ]
    },
    {
     "name": "stdout",
     "output_type": "stream",
     "text": [
      "video  v_PlayingDaf_g13_c04.avi  inferenced done.\n",
      "# of finished videos:  75\n",
      "# of finished directories:  1\n",
      "inferencing video:  v_PlayingDaf_g14_c01.avi  from  PlayingDaf  directory\n"
     ]
    },
    {
     "name": "stderr",
     "output_type": "stream",
     "text": [
      "[2018-07-27 15:41:30,123] [TfPoseEstimator-Video] [DEBUG] initialization mobilenet_thin : /home/MPLab/mplab006/tf_action_recognition/models/graph/mobilenet_thin/graph_opt.pb\n"
     ]
    },
    {
     "name": "stdout",
     "output_type": "stream",
     "text": [
      "video  v_PlayingDaf_g14_c01.avi  inferenced done.\n",
      "# of finished videos:  76\n",
      "# of finished directories:  1\n",
      "inferencing video:  v_PlayingDaf_g14_c02.avi  from  PlayingDaf  directory\n"
     ]
    },
    {
     "name": "stderr",
     "output_type": "stream",
     "text": [
      "[2018-07-27 15:41:31,031] [TfPoseEstimator-Video] [DEBUG] initialization mobilenet_thin : /home/MPLab/mplab006/tf_action_recognition/models/graph/mobilenet_thin/graph_opt.pb\n"
     ]
    },
    {
     "name": "stdout",
     "output_type": "stream",
     "text": [
      "video  v_PlayingDaf_g14_c02.avi  inferenced done.\n",
      "# of finished videos:  77\n",
      "# of finished directories:  1\n",
      "inferencing video:  v_PlayingDaf_g14_c03.avi  from  PlayingDaf  directory\n"
     ]
    },
    {
     "name": "stderr",
     "output_type": "stream",
     "text": [
      "[2018-07-27 15:41:31,856] [TfPoseEstimator-Video] [DEBUG] initialization mobilenet_thin : /home/MPLab/mplab006/tf_action_recognition/models/graph/mobilenet_thin/graph_opt.pb\n"
     ]
    },
    {
     "name": "stdout",
     "output_type": "stream",
     "text": [
      "video  v_PlayingDaf_g14_c03.avi  inferenced done.\n",
      "# of finished videos:  78\n",
      "# of finished directories:  1\n",
      "inferencing video:  v_PlayingDaf_g14_c04.avi  from  PlayingDaf  directory\n"
     ]
    },
    {
     "name": "stderr",
     "output_type": "stream",
     "text": [
      "[2018-07-27 15:41:32,698] [TfPoseEstimator-Video] [DEBUG] initialization mobilenet_thin : /home/MPLab/mplab006/tf_action_recognition/models/graph/mobilenet_thin/graph_opt.pb\n"
     ]
    },
    {
     "name": "stdout",
     "output_type": "stream",
     "text": [
      "video  v_PlayingDaf_g14_c04.avi  inferenced done.\n",
      "# of finished videos:  79\n",
      "# of finished directories:  1\n",
      "inferencing video:  v_PlayingDaf_g14_c05.avi  from  PlayingDaf  directory\n"
     ]
    },
    {
     "name": "stderr",
     "output_type": "stream",
     "text": [
      "[2018-07-27 15:41:33,525] [TfPoseEstimator-Video] [DEBUG] initialization mobilenet_thin : /home/MPLab/mplab006/tf_action_recognition/models/graph/mobilenet_thin/graph_opt.pb\n"
     ]
    },
    {
     "name": "stdout",
     "output_type": "stream",
     "text": [
      "video  v_PlayingDaf_g14_c05.avi  inferenced done.\n",
      "# of finished videos:  80\n",
      "# of finished directories:  1\n",
      "inferencing video:  v_PlayingDaf_g14_c06.avi  from  PlayingDaf  directory\n"
     ]
    },
    {
     "name": "stderr",
     "output_type": "stream",
     "text": [
      "[2018-07-27 15:41:34,375] [TfPoseEstimator-Video] [DEBUG] initialization mobilenet_thin : /home/MPLab/mplab006/tf_action_recognition/models/graph/mobilenet_thin/graph_opt.pb\n"
     ]
    },
    {
     "name": "stdout",
     "output_type": "stream",
     "text": [
      "video  v_PlayingDaf_g14_c06.avi  inferenced done.\n",
      "# of finished videos:  81\n",
      "# of finished directories:  1\n",
      "inferencing video:  v_PlayingDaf_g14_c07.avi  from  PlayingDaf  directory\n"
     ]
    },
    {
     "name": "stderr",
     "output_type": "stream",
     "text": [
      "[2018-07-27 15:41:35,220] [TfPoseEstimator-Video] [DEBUG] initialization mobilenet_thin : /home/MPLab/mplab006/tf_action_recognition/models/graph/mobilenet_thin/graph_opt.pb\n"
     ]
    },
    {
     "name": "stdout",
     "output_type": "stream",
     "text": [
      "video  v_PlayingDaf_g14_c07.avi  inferenced done.\n",
      "# of finished videos:  82\n",
      "# of finished directories:  1\n",
      "inferencing video:  v_PlayingDaf_g15_c01.avi  from  PlayingDaf  directory\n"
     ]
    },
    {
     "name": "stderr",
     "output_type": "stream",
     "text": [
      "[2018-07-27 15:41:36,081] [TfPoseEstimator-Video] [DEBUG] initialization mobilenet_thin : /home/MPLab/mplab006/tf_action_recognition/models/graph/mobilenet_thin/graph_opt.pb\n"
     ]
    },
    {
     "name": "stdout",
     "output_type": "stream",
     "text": [
      "video  v_PlayingDaf_g15_c01.avi  inferenced done.\n",
      "# of finished videos:  83\n",
      "# of finished directories:  1\n",
      "inferencing video:  v_PlayingDaf_g15_c02.avi  from  PlayingDaf  directory\n"
     ]
    },
    {
     "name": "stderr",
     "output_type": "stream",
     "text": [
      "[2018-07-27 15:41:36,930] [TfPoseEstimator-Video] [DEBUG] initialization mobilenet_thin : /home/MPLab/mplab006/tf_action_recognition/models/graph/mobilenet_thin/graph_opt.pb\n"
     ]
    },
    {
     "name": "stdout",
     "output_type": "stream",
     "text": [
      "video  v_PlayingDaf_g15_c02.avi  inferenced done.\n",
      "# of finished videos:  84\n",
      "# of finished directories:  1\n",
      "inferencing video:  v_PlayingDaf_g15_c03.avi  from  PlayingDaf  directory\n"
     ]
    },
    {
     "name": "stderr",
     "output_type": "stream",
     "text": [
      "[2018-07-27 15:41:37,767] [TfPoseEstimator-Video] [DEBUG] initialization mobilenet_thin : /home/MPLab/mplab006/tf_action_recognition/models/graph/mobilenet_thin/graph_opt.pb\n"
     ]
    },
    {
     "name": "stdout",
     "output_type": "stream",
     "text": [
      "video  v_PlayingDaf_g15_c03.avi  inferenced done.\n",
      "# of finished videos:  85\n",
      "# of finished directories:  1\n",
      "inferencing video:  v_PlayingDaf_g15_c04.avi  from  PlayingDaf  directory\n"
     ]
    },
    {
     "name": "stderr",
     "output_type": "stream",
     "text": [
      "[2018-07-27 15:41:38,620] [TfPoseEstimator-Video] [DEBUG] initialization mobilenet_thin : /home/MPLab/mplab006/tf_action_recognition/models/graph/mobilenet_thin/graph_opt.pb\n"
     ]
    },
    {
     "name": "stdout",
     "output_type": "stream",
     "text": [
      "video  v_PlayingDaf_g15_c04.avi  inferenced done.\n",
      "# of finished videos:  86\n",
      "# of finished directories:  1\n",
      "inferencing video:  v_PlayingDaf_g15_c05.avi  from  PlayingDaf  directory\n"
     ]
    },
    {
     "name": "stderr",
     "output_type": "stream",
     "text": [
      "[2018-07-27 15:41:39,467] [TfPoseEstimator-Video] [DEBUG] initialization mobilenet_thin : /home/MPLab/mplab006/tf_action_recognition/models/graph/mobilenet_thin/graph_opt.pb\n"
     ]
    },
    {
     "name": "stdout",
     "output_type": "stream",
     "text": [
      "video  v_PlayingDaf_g15_c05.avi  inferenced done.\n",
      "# of finished videos:  87\n",
      "# of finished directories:  1\n",
      "inferencing video:  v_PlayingDaf_g15_c06.avi  from  PlayingDaf  directory\n"
     ]
    },
    {
     "name": "stderr",
     "output_type": "stream",
     "text": [
      "[2018-07-27 15:41:40,313] [TfPoseEstimator-Video] [DEBUG] initialization mobilenet_thin : /home/MPLab/mplab006/tf_action_recognition/models/graph/mobilenet_thin/graph_opt.pb\n"
     ]
    },
    {
     "name": "stdout",
     "output_type": "stream",
     "text": [
      "video  v_PlayingDaf_g15_c06.avi  inferenced done.\n",
      "# of finished videos:  88\n",
      "# of finished directories:  1\n",
      "inferencing video:  v_PlayingDaf_g15_c07.avi  from  PlayingDaf  directory\n"
     ]
    },
    {
     "name": "stderr",
     "output_type": "stream",
     "text": [
      "[2018-07-27 15:41:41,165] [TfPoseEstimator-Video] [DEBUG] initialization mobilenet_thin : /home/MPLab/mplab006/tf_action_recognition/models/graph/mobilenet_thin/graph_opt.pb\n"
     ]
    },
    {
     "name": "stdout",
     "output_type": "stream",
     "text": [
      "video  v_PlayingDaf_g15_c07.avi  inferenced done.\n",
      "# of finished videos:  89\n",
      "# of finished directories:  1\n",
      "inferencing video:  v_PlayingDaf_g16_c01.avi  from  PlayingDaf  directory\n"
     ]
    },
    {
     "name": "stderr",
     "output_type": "stream",
     "text": [
      "[2018-07-27 15:41:42,038] [TfPoseEstimator-Video] [DEBUG] initialization mobilenet_thin : /home/MPLab/mplab006/tf_action_recognition/models/graph/mobilenet_thin/graph_opt.pb\n"
     ]
    },
    {
     "name": "stdout",
     "output_type": "stream",
     "text": [
      "video  v_PlayingDaf_g16_c01.avi  inferenced done.\n",
      "# of finished videos:  90\n",
      "# of finished directories:  1\n",
      "inferencing video:  v_PlayingDaf_g16_c02.avi  from  PlayingDaf  directory\n"
     ]
    },
    {
     "name": "stderr",
     "output_type": "stream",
     "text": [
      "[2018-07-27 15:41:42,895] [TfPoseEstimator-Video] [DEBUG] initialization mobilenet_thin : /home/MPLab/mplab006/tf_action_recognition/models/graph/mobilenet_thin/graph_opt.pb\n"
     ]
    },
    {
     "name": "stdout",
     "output_type": "stream",
     "text": [
      "video  v_PlayingDaf_g16_c02.avi  inferenced done.\n",
      "# of finished videos:  91\n",
      "# of finished directories:  1\n",
      "inferencing video:  v_PlayingDaf_g16_c03.avi  from  PlayingDaf  directory\n"
     ]
    },
    {
     "name": "stderr",
     "output_type": "stream",
     "text": [
      "[2018-07-27 15:41:43,756] [TfPoseEstimator-Video] [DEBUG] initialization mobilenet_thin : /home/MPLab/mplab006/tf_action_recognition/models/graph/mobilenet_thin/graph_opt.pb\n"
     ]
    },
    {
     "name": "stdout",
     "output_type": "stream",
     "text": [
      "video  v_PlayingDaf_g16_c03.avi  inferenced done.\n",
      "# of finished videos:  92\n",
      "# of finished directories:  1\n",
      "inferencing video:  v_PlayingDaf_g16_c04.avi  from  PlayingDaf  directory\n"
     ]
    },
    {
     "name": "stderr",
     "output_type": "stream",
     "text": [
      "[2018-07-27 15:41:44,599] [TfPoseEstimator-Video] [DEBUG] initialization mobilenet_thin : /home/MPLab/mplab006/tf_action_recognition/models/graph/mobilenet_thin/graph_opt.pb\n"
     ]
    },
    {
     "name": "stdout",
     "output_type": "stream",
     "text": [
      "video  v_PlayingDaf_g16_c04.avi  inferenced done.\n",
      "# of finished videos:  93\n",
      "# of finished directories:  1\n",
      "inferencing video:  v_PlayingDaf_g16_c05.avi  from  PlayingDaf  directory\n"
     ]
    },
    {
     "name": "stderr",
     "output_type": "stream",
     "text": [
      "[2018-07-27 15:41:45,476] [TfPoseEstimator-Video] [DEBUG] initialization mobilenet_thin : /home/MPLab/mplab006/tf_action_recognition/models/graph/mobilenet_thin/graph_opt.pb\n"
     ]
    },
    {
     "name": "stdout",
     "output_type": "stream",
     "text": [
      "video  v_PlayingDaf_g16_c05.avi  inferenced done.\n",
      "# of finished videos:  94\n",
      "# of finished directories:  1\n",
      "inferencing video:  v_PlayingDaf_g16_c06.avi  from  PlayingDaf  directory\n"
     ]
    },
    {
     "name": "stderr",
     "output_type": "stream",
     "text": [
      "[2018-07-27 15:41:46,324] [TfPoseEstimator-Video] [DEBUG] initialization mobilenet_thin : /home/MPLab/mplab006/tf_action_recognition/models/graph/mobilenet_thin/graph_opt.pb\n"
     ]
    },
    {
     "name": "stdout",
     "output_type": "stream",
     "text": [
      "video  v_PlayingDaf_g16_c06.avi  inferenced done.\n",
      "# of finished videos:  95\n",
      "# of finished directories:  1\n",
      "inferencing video:  v_PlayingDaf_g17_c01.avi  from  PlayingDaf  directory\n"
     ]
    },
    {
     "name": "stderr",
     "output_type": "stream",
     "text": [
      "[2018-07-27 15:41:47,231] [TfPoseEstimator-Video] [DEBUG] initialization mobilenet_thin : /home/MPLab/mplab006/tf_action_recognition/models/graph/mobilenet_thin/graph_opt.pb\n"
     ]
    },
    {
     "name": "stdout",
     "output_type": "stream",
     "text": [
      "video  v_PlayingDaf_g17_c01.avi  inferenced done.\n",
      "# of finished videos:  96\n",
      "# of finished directories:  1\n",
      "inferencing video:  v_PlayingDaf_g17_c02.avi  from  PlayingDaf  directory\n"
     ]
    },
    {
     "name": "stderr",
     "output_type": "stream",
     "text": [
      "[2018-07-27 15:41:48,083] [TfPoseEstimator-Video] [DEBUG] initialization mobilenet_thin : /home/MPLab/mplab006/tf_action_recognition/models/graph/mobilenet_thin/graph_opt.pb\n"
     ]
    },
    {
     "name": "stdout",
     "output_type": "stream",
     "text": [
      "video  v_PlayingDaf_g17_c02.avi  inferenced done.\n",
      "# of finished videos:  97\n",
      "# of finished directories:  1\n",
      "inferencing video:  v_PlayingDaf_g17_c03.avi  from  PlayingDaf  directory\n"
     ]
    },
    {
     "name": "stderr",
     "output_type": "stream",
     "text": [
      "[2018-07-27 15:41:48,946] [TfPoseEstimator-Video] [DEBUG] initialization mobilenet_thin : /home/MPLab/mplab006/tf_action_recognition/models/graph/mobilenet_thin/graph_opt.pb\n"
     ]
    },
    {
     "name": "stdout",
     "output_type": "stream",
     "text": [
      "video  v_PlayingDaf_g17_c03.avi  inferenced done.\n",
      "# of finished videos:  98\n",
      "# of finished directories:  1\n",
      "inferencing video:  v_PlayingDaf_g17_c04.avi  from  PlayingDaf  directory\n"
     ]
    },
    {
     "name": "stderr",
     "output_type": "stream",
     "text": [
      "[2018-07-27 15:41:49,796] [TfPoseEstimator-Video] [DEBUG] initialization mobilenet_thin : /home/MPLab/mplab006/tf_action_recognition/models/graph/mobilenet_thin/graph_opt.pb\n"
     ]
    },
    {
     "name": "stdout",
     "output_type": "stream",
     "text": [
      "video  v_PlayingDaf_g17_c04.avi  inferenced done.\n",
      "# of finished videos:  99\n",
      "# of finished directories:  1\n",
      "inferencing video:  v_PlayingDaf_g18_c01.avi  from  PlayingDaf  directory\n"
     ]
    },
    {
     "name": "stderr",
     "output_type": "stream",
     "text": [
      "[2018-07-27 15:41:50,691] [TfPoseEstimator-Video] [DEBUG] initialization mobilenet_thin : /home/MPLab/mplab006/tf_action_recognition/models/graph/mobilenet_thin/graph_opt.pb\n"
     ]
    },
    {
     "name": "stdout",
     "output_type": "stream",
     "text": [
      "video  v_PlayingDaf_g18_c01.avi  inferenced done.\n",
      "# of finished videos:  100\n",
      "# of finished directories:  1\n",
      "inferencing video:  v_PlayingDaf_g18_c02.avi  from  PlayingDaf  directory\n"
     ]
    },
    {
     "name": "stderr",
     "output_type": "stream",
     "text": [
      "[2018-07-27 15:41:51,532] [TfPoseEstimator-Video] [DEBUG] initialization mobilenet_thin : /home/MPLab/mplab006/tf_action_recognition/models/graph/mobilenet_thin/graph_opt.pb\n"
     ]
    },
    {
     "name": "stdout",
     "output_type": "stream",
     "text": [
      "video  v_PlayingDaf_g18_c02.avi  inferenced done.\n",
      "# of finished videos:  101\n",
      "# of finished directories:  1\n",
      "inferencing video:  v_PlayingDaf_g18_c03.avi  from  PlayingDaf  directory\n"
     ]
    },
    {
     "name": "stderr",
     "output_type": "stream",
     "text": [
      "[2018-07-27 15:41:52,453] [TfPoseEstimator-Video] [DEBUG] initialization mobilenet_thin : /home/MPLab/mplab006/tf_action_recognition/models/graph/mobilenet_thin/graph_opt.pb\n"
     ]
    },
    {
     "name": "stdout",
     "output_type": "stream",
     "text": [
      "video  v_PlayingDaf_g18_c03.avi  inferenced done.\n",
      "# of finished videos:  102\n",
      "# of finished directories:  1\n",
      "inferencing video:  v_PlayingDaf_g18_c04.avi  from  PlayingDaf  directory\n"
     ]
    },
    {
     "name": "stderr",
     "output_type": "stream",
     "text": [
      "[2018-07-27 15:41:53,301] [TfPoseEstimator-Video] [DEBUG] initialization mobilenet_thin : /home/MPLab/mplab006/tf_action_recognition/models/graph/mobilenet_thin/graph_opt.pb\n"
     ]
    },
    {
     "name": "stdout",
     "output_type": "stream",
     "text": [
      "video  v_PlayingDaf_g18_c04.avi  inferenced done.\n",
      "# of finished videos:  103\n",
      "# of finished directories:  1\n",
      "inferencing video:  v_PlayingDaf_g18_c05.avi  from  PlayingDaf  directory\n"
     ]
    },
    {
     "name": "stderr",
     "output_type": "stream",
     "text": [
      "[2018-07-27 15:41:54,142] [TfPoseEstimator-Video] [DEBUG] initialization mobilenet_thin : /home/MPLab/mplab006/tf_action_recognition/models/graph/mobilenet_thin/graph_opt.pb\n"
     ]
    },
    {
     "name": "stdout",
     "output_type": "stream",
     "text": [
      "video  v_PlayingDaf_g18_c05.avi  inferenced done.\n",
      "# of finished videos:  104\n",
      "# of finished directories:  1\n",
      "inferencing video:  v_PlayingDaf_g18_c06.avi  from  PlayingDaf  directory\n"
     ]
    },
    {
     "name": "stderr",
     "output_type": "stream",
     "text": [
      "[2018-07-27 15:41:54,993] [TfPoseEstimator-Video] [DEBUG] initialization mobilenet_thin : /home/MPLab/mplab006/tf_action_recognition/models/graph/mobilenet_thin/graph_opt.pb\n"
     ]
    },
    {
     "name": "stdout",
     "output_type": "stream",
     "text": [
      "video  v_PlayingDaf_g18_c06.avi  inferenced done.\n",
      "# of finished videos:  105\n",
      "# of finished directories:  1\n",
      "inferencing video:  v_PlayingDaf_g18_c07.avi  from  PlayingDaf  directory\n"
     ]
    },
    {
     "name": "stderr",
     "output_type": "stream",
     "text": [
      "[2018-07-27 15:41:55,850] [TfPoseEstimator-Video] [DEBUG] initialization mobilenet_thin : /home/MPLab/mplab006/tf_action_recognition/models/graph/mobilenet_thin/graph_opt.pb\n"
     ]
    },
    {
     "name": "stdout",
     "output_type": "stream",
     "text": [
      "video  v_PlayingDaf_g18_c07.avi  inferenced done.\n",
      "# of finished videos:  106\n",
      "# of finished directories:  1\n",
      "inferencing video:  v_PlayingDaf_g19_c01.avi  from  PlayingDaf  directory\n"
     ]
    },
    {
     "name": "stderr",
     "output_type": "stream",
     "text": [
      "[2018-07-27 15:41:56,720] [TfPoseEstimator-Video] [DEBUG] initialization mobilenet_thin : /home/MPLab/mplab006/tf_action_recognition/models/graph/mobilenet_thin/graph_opt.pb\n"
     ]
    },
    {
     "name": "stdout",
     "output_type": "stream",
     "text": [
      "video  v_PlayingDaf_g19_c01.avi  inferenced done.\n",
      "# of finished videos:  107\n",
      "# of finished directories:  1\n",
      "inferencing video:  v_PlayingDaf_g19_c02.avi  from  PlayingDaf  directory\n"
     ]
    },
    {
     "name": "stderr",
     "output_type": "stream",
     "text": [
      "[2018-07-27 15:41:57,597] [TfPoseEstimator-Video] [DEBUG] initialization mobilenet_thin : /home/MPLab/mplab006/tf_action_recognition/models/graph/mobilenet_thin/graph_opt.pb\n"
     ]
    },
    {
     "name": "stdout",
     "output_type": "stream",
     "text": [
      "video  v_PlayingDaf_g19_c02.avi  inferenced done.\n",
      "# of finished videos:  108\n",
      "# of finished directories:  1\n",
      "inferencing video:  v_PlayingDaf_g19_c03.avi  from  PlayingDaf  directory\n"
     ]
    },
    {
     "name": "stderr",
     "output_type": "stream",
     "text": [
      "[2018-07-27 15:41:58,470] [TfPoseEstimator-Video] [DEBUG] initialization mobilenet_thin : /home/MPLab/mplab006/tf_action_recognition/models/graph/mobilenet_thin/graph_opt.pb\n"
     ]
    },
    {
     "name": "stdout",
     "output_type": "stream",
     "text": [
      "video  v_PlayingDaf_g19_c03.avi  inferenced done.\n",
      "# of finished videos:  109\n",
      "# of finished directories:  1\n",
      "inferencing video:  v_PlayingDaf_g19_c04.avi  from  PlayingDaf  directory\n"
     ]
    },
    {
     "name": "stderr",
     "output_type": "stream",
     "text": [
      "[2018-07-27 15:41:59,322] [TfPoseEstimator-Video] [DEBUG] initialization mobilenet_thin : /home/MPLab/mplab006/tf_action_recognition/models/graph/mobilenet_thin/graph_opt.pb\n"
     ]
    },
    {
     "name": "stdout",
     "output_type": "stream",
     "text": [
      "video  v_PlayingDaf_g19_c04.avi  inferenced done.\n",
      "# of finished videos:  110\n",
      "# of finished directories:  1\n",
      "inferencing video:  v_PlayingDaf_g19_c05.avi  from  PlayingDaf  directory\n"
     ]
    },
    {
     "name": "stderr",
     "output_type": "stream",
     "text": [
      "[2018-07-27 15:42:00,244] [TfPoseEstimator-Video] [DEBUG] initialization mobilenet_thin : /home/MPLab/mplab006/tf_action_recognition/models/graph/mobilenet_thin/graph_opt.pb\n"
     ]
    },
    {
     "name": "stdout",
     "output_type": "stream",
     "text": [
      "video  v_PlayingDaf_g19_c05.avi  inferenced done.\n",
      "# of finished videos:  111\n",
      "# of finished directories:  1\n",
      "inferencing video:  v_PlayingDaf_g19_c06.avi  from  PlayingDaf  directory\n"
     ]
    },
    {
     "name": "stderr",
     "output_type": "stream",
     "text": [
      "[2018-07-27 15:42:01,156] [TfPoseEstimator-Video] [DEBUG] initialization mobilenet_thin : /home/MPLab/mplab006/tf_action_recognition/models/graph/mobilenet_thin/graph_opt.pb\n"
     ]
    },
    {
     "name": "stdout",
     "output_type": "stream",
     "text": [
      "video  v_PlayingDaf_g19_c06.avi  inferenced done.\n",
      "# of finished videos:  112\n",
      "# of finished directories:  1\n",
      "inferencing video:  v_PlayingDaf_g19_c07.avi  from  PlayingDaf  directory\n"
     ]
    },
    {
     "name": "stderr",
     "output_type": "stream",
     "text": [
      "[2018-07-27 15:42:02,070] [TfPoseEstimator-Video] [DEBUG] initialization mobilenet_thin : /home/MPLab/mplab006/tf_action_recognition/models/graph/mobilenet_thin/graph_opt.pb\n"
     ]
    },
    {
     "name": "stdout",
     "output_type": "stream",
     "text": [
      "video  v_PlayingDaf_g19_c07.avi  inferenced done.\n",
      "# of finished videos:  113\n",
      "# of finished directories:  1\n",
      "inferencing video:  v_PlayingDaf_g20_c01.avi  from  PlayingDaf  directory\n"
     ]
    },
    {
     "name": "stderr",
     "output_type": "stream",
     "text": [
      "[2018-07-27 15:42:02,938] [TfPoseEstimator-Video] [DEBUG] initialization mobilenet_thin : /home/MPLab/mplab006/tf_action_recognition/models/graph/mobilenet_thin/graph_opt.pb\n"
     ]
    },
    {
     "name": "stdout",
     "output_type": "stream",
     "text": [
      "video  v_PlayingDaf_g20_c01.avi  inferenced done.\n",
      "# of finished videos:  114\n",
      "# of finished directories:  1\n",
      "inferencing video:  v_PlayingDaf_g20_c02.avi  from  PlayingDaf  directory\n"
     ]
    },
    {
     "name": "stderr",
     "output_type": "stream",
     "text": [
      "[2018-07-27 15:42:03,832] [TfPoseEstimator-Video] [DEBUG] initialization mobilenet_thin : /home/MPLab/mplab006/tf_action_recognition/models/graph/mobilenet_thin/graph_opt.pb\n"
     ]
    },
    {
     "name": "stdout",
     "output_type": "stream",
     "text": [
      "video  v_PlayingDaf_g20_c02.avi  inferenced done.\n",
      "# of finished videos:  115\n",
      "# of finished directories:  1\n",
      "inferencing video:  v_PlayingDaf_g20_c03.avi  from  PlayingDaf  directory\n"
     ]
    },
    {
     "name": "stderr",
     "output_type": "stream",
     "text": [
      "[2018-07-27 15:42:04,681] [TfPoseEstimator-Video] [DEBUG] initialization mobilenet_thin : /home/MPLab/mplab006/tf_action_recognition/models/graph/mobilenet_thin/graph_opt.pb\n"
     ]
    },
    {
     "name": "stdout",
     "output_type": "stream",
     "text": [
      "video  v_PlayingDaf_g20_c03.avi  inferenced done.\n",
      "# of finished videos:  116\n",
      "# of finished directories:  1\n",
      "inferencing video:  v_PlayingDaf_g20_c04.avi  from  PlayingDaf  directory\n"
     ]
    },
    {
     "name": "stderr",
     "output_type": "stream",
     "text": [
      "[2018-07-27 15:42:05,523] [TfPoseEstimator-Video] [DEBUG] initialization mobilenet_thin : /home/MPLab/mplab006/tf_action_recognition/models/graph/mobilenet_thin/graph_opt.pb\n"
     ]
    },
    {
     "name": "stdout",
     "output_type": "stream",
     "text": [
      "video  v_PlayingDaf_g20_c04.avi  inferenced done.\n",
      "# of finished videos:  117\n",
      "# of finished directories:  1\n",
      "inferencing video:  v_PlayingDaf_g20_c05.avi  from  PlayingDaf  directory\n"
     ]
    },
    {
     "name": "stderr",
     "output_type": "stream",
     "text": [
      "[2018-07-27 15:42:06,409] [TfPoseEstimator-Video] [DEBUG] initialization mobilenet_thin : /home/MPLab/mplab006/tf_action_recognition/models/graph/mobilenet_thin/graph_opt.pb\n"
     ]
    },
    {
     "name": "stdout",
     "output_type": "stream",
     "text": [
      "video  v_PlayingDaf_g20_c05.avi  inferenced done.\n",
      "# of finished videos:  118\n",
      "# of finished directories:  1\n",
      "inferencing video:  v_PlayingDaf_g20_c06.avi  from  PlayingDaf  directory\n"
     ]
    },
    {
     "name": "stderr",
     "output_type": "stream",
     "text": [
      "[2018-07-27 15:42:07,255] [TfPoseEstimator-Video] [DEBUG] initialization mobilenet_thin : /home/MPLab/mplab006/tf_action_recognition/models/graph/mobilenet_thin/graph_opt.pb\n"
     ]
    },
    {
     "name": "stdout",
     "output_type": "stream",
     "text": [
      "video  v_PlayingDaf_g20_c06.avi  inferenced done.\n",
      "# of finished videos:  119\n",
      "# of finished directories:  1\n",
      "inferencing video:  v_PlayingDaf_g20_c07.avi  from  PlayingDaf  directory\n"
     ]
    },
    {
     "name": "stderr",
     "output_type": "stream",
     "text": [
      "[2018-07-27 15:42:08,110] [TfPoseEstimator-Video] [DEBUG] initialization mobilenet_thin : /home/MPLab/mplab006/tf_action_recognition/models/graph/mobilenet_thin/graph_opt.pb\n"
     ]
    },
    {
     "name": "stdout",
     "output_type": "stream",
     "text": [
      "video  v_PlayingDaf_g20_c07.avi  inferenced done.\n",
      "# of finished videos:  120\n",
      "# of finished directories:  1\n",
      "inferencing video:  v_PlayingDaf_g21_c01.avi  from  PlayingDaf  directory\n"
     ]
    },
    {
     "name": "stderr",
     "output_type": "stream",
     "text": [
      "[2018-07-27 15:42:08,951] [TfPoseEstimator-Video] [DEBUG] initialization mobilenet_thin : /home/MPLab/mplab006/tf_action_recognition/models/graph/mobilenet_thin/graph_opt.pb\n"
     ]
    },
    {
     "name": "stdout",
     "output_type": "stream",
     "text": [
      "video  v_PlayingDaf_g21_c01.avi  inferenced done.\n",
      "# of finished videos:  121\n",
      "# of finished directories:  1\n",
      "inferencing video:  v_PlayingDaf_g21_c02.avi  from  PlayingDaf  directory\n"
     ]
    },
    {
     "name": "stderr",
     "output_type": "stream",
     "text": [
      "[2018-07-27 15:42:09,799] [TfPoseEstimator-Video] [DEBUG] initialization mobilenet_thin : /home/MPLab/mplab006/tf_action_recognition/models/graph/mobilenet_thin/graph_opt.pb\n"
     ]
    },
    {
     "name": "stdout",
     "output_type": "stream",
     "text": [
      "video  v_PlayingDaf_g21_c02.avi  inferenced done.\n",
      "# of finished videos:  122\n",
      "# of finished directories:  1\n",
      "inferencing video:  v_PlayingDaf_g21_c03.avi  from  PlayingDaf  directory\n"
     ]
    },
    {
     "name": "stderr",
     "output_type": "stream",
     "text": [
      "[2018-07-27 15:42:10,628] [TfPoseEstimator-Video] [DEBUG] initialization mobilenet_thin : /home/MPLab/mplab006/tf_action_recognition/models/graph/mobilenet_thin/graph_opt.pb\n"
     ]
    },
    {
     "name": "stdout",
     "output_type": "stream",
     "text": [
      "video  v_PlayingDaf_g21_c03.avi  inferenced done.\n",
      "# of finished videos:  123\n",
      "# of finished directories:  1\n",
      "inferencing video:  v_PlayingDaf_g21_c04.avi  from  PlayingDaf  directory\n"
     ]
    },
    {
     "name": "stderr",
     "output_type": "stream",
     "text": [
      "[2018-07-27 15:42:11,469] [TfPoseEstimator-Video] [DEBUG] initialization mobilenet_thin : /home/MPLab/mplab006/tf_action_recognition/models/graph/mobilenet_thin/graph_opt.pb\n"
     ]
    },
    {
     "name": "stdout",
     "output_type": "stream",
     "text": [
      "video  v_PlayingDaf_g21_c04.avi  inferenced done.\n",
      "# of finished videos:  124\n",
      "# of finished directories:  1\n",
      "inferencing video:  v_PlayingDaf_g21_c05.avi  from  PlayingDaf  directory\n"
     ]
    },
    {
     "name": "stderr",
     "output_type": "stream",
     "text": [
      "[2018-07-27 15:42:12,301] [TfPoseEstimator-Video] [DEBUG] initialization mobilenet_thin : /home/MPLab/mplab006/tf_action_recognition/models/graph/mobilenet_thin/graph_opt.pb\n"
     ]
    },
    {
     "name": "stdout",
     "output_type": "stream",
     "text": [
      "video  v_PlayingDaf_g21_c05.avi  inferenced done.\n",
      "# of finished videos:  125\n",
      "# of finished directories:  1\n",
      "inferencing video:  v_PlayingDaf_g21_c06.avi  from  PlayingDaf  directory\n"
     ]
    },
    {
     "name": "stderr",
     "output_type": "stream",
     "text": [
      "[2018-07-27 15:42:13,151] [TfPoseEstimator-Video] [DEBUG] initialization mobilenet_thin : /home/MPLab/mplab006/tf_action_recognition/models/graph/mobilenet_thin/graph_opt.pb\n"
     ]
    },
    {
     "name": "stdout",
     "output_type": "stream",
     "text": [
      "video  v_PlayingDaf_g21_c06.avi  inferenced done.\n",
      "# of finished videos:  126\n",
      "# of finished directories:  1\n",
      "inferencing video:  v_PlayingDaf_g21_c07.avi  from  PlayingDaf  directory\n"
     ]
    },
    {
     "name": "stderr",
     "output_type": "stream",
     "text": [
      "[2018-07-27 15:42:13,996] [TfPoseEstimator-Video] [DEBUG] initialization mobilenet_thin : /home/MPLab/mplab006/tf_action_recognition/models/graph/mobilenet_thin/graph_opt.pb\n"
     ]
    },
    {
     "name": "stdout",
     "output_type": "stream",
     "text": [
      "video  v_PlayingDaf_g21_c07.avi  inferenced done.\n",
      "# of finished videos:  127\n",
      "# of finished directories:  1\n",
      "inferencing video:  v_PlayingDaf_g22_c01.avi  from  PlayingDaf  directory\n"
     ]
    },
    {
     "name": "stderr",
     "output_type": "stream",
     "text": [
      "[2018-07-27 15:42:14,828] [TfPoseEstimator-Video] [DEBUG] initialization mobilenet_thin : /home/MPLab/mplab006/tf_action_recognition/models/graph/mobilenet_thin/graph_opt.pb\n"
     ]
    },
    {
     "name": "stdout",
     "output_type": "stream",
     "text": [
      "video  v_PlayingDaf_g22_c01.avi  inferenced done.\n",
      "# of finished videos:  128\n",
      "# of finished directories:  1\n",
      "inferencing video:  v_PlayingDaf_g22_c02.avi  from  PlayingDaf  directory\n"
     ]
    },
    {
     "name": "stderr",
     "output_type": "stream",
     "text": [
      "[2018-07-27 15:42:15,709] [TfPoseEstimator-Video] [DEBUG] initialization mobilenet_thin : /home/MPLab/mplab006/tf_action_recognition/models/graph/mobilenet_thin/graph_opt.pb\n"
     ]
    },
    {
     "name": "stdout",
     "output_type": "stream",
     "text": [
      "video  v_PlayingDaf_g22_c02.avi  inferenced done.\n",
      "# of finished videos:  129\n",
      "# of finished directories:  1\n",
      "inferencing video:  v_PlayingDaf_g22_c03.avi  from  PlayingDaf  directory\n"
     ]
    },
    {
     "name": "stderr",
     "output_type": "stream",
     "text": [
      "[2018-07-27 15:42:16,594] [TfPoseEstimator-Video] [DEBUG] initialization mobilenet_thin : /home/MPLab/mplab006/tf_action_recognition/models/graph/mobilenet_thin/graph_opt.pb\n"
     ]
    },
    {
     "name": "stdout",
     "output_type": "stream",
     "text": [
      "video  v_PlayingDaf_g22_c03.avi  inferenced done.\n",
      "# of finished videos:  130\n",
      "# of finished directories:  1\n",
      "inferencing video:  v_PlayingDaf_g22_c04.avi  from  PlayingDaf  directory\n"
     ]
    },
    {
     "name": "stderr",
     "output_type": "stream",
     "text": [
      "[2018-07-27 15:42:17,481] [TfPoseEstimator-Video] [DEBUG] initialization mobilenet_thin : /home/MPLab/mplab006/tf_action_recognition/models/graph/mobilenet_thin/graph_opt.pb\n"
     ]
    },
    {
     "name": "stdout",
     "output_type": "stream",
     "text": [
      "video  v_PlayingDaf_g22_c04.avi  inferenced done.\n",
      "# of finished videos:  131\n",
      "# of finished directories:  1\n",
      "inferencing video:  v_PlayingDaf_g22_c05.avi  from  PlayingDaf  directory\n"
     ]
    },
    {
     "name": "stderr",
     "output_type": "stream",
     "text": [
      "[2018-07-27 15:42:18,338] [TfPoseEstimator-Video] [DEBUG] initialization mobilenet_thin : /home/MPLab/mplab006/tf_action_recognition/models/graph/mobilenet_thin/graph_opt.pb\n"
     ]
    },
    {
     "name": "stdout",
     "output_type": "stream",
     "text": [
      "video  v_PlayingDaf_g22_c05.avi  inferenced done.\n",
      "# of finished videos:  132\n",
      "# of finished directories:  1\n",
      "inferencing video:  v_PlayingDaf_g22_c06.avi  from  PlayingDaf  directory\n"
     ]
    },
    {
     "name": "stderr",
     "output_type": "stream",
     "text": [
      "[2018-07-27 15:42:19,205] [TfPoseEstimator-Video] [DEBUG] initialization mobilenet_thin : /home/MPLab/mplab006/tf_action_recognition/models/graph/mobilenet_thin/graph_opt.pb\n"
     ]
    },
    {
     "name": "stdout",
     "output_type": "stream",
     "text": [
      "video  v_PlayingDaf_g22_c06.avi  inferenced done.\n",
      "# of finished videos:  133\n",
      "# of finished directories:  1\n",
      "inferencing video:  v_PlayingDaf_g22_c07.avi  from  PlayingDaf  directory\n"
     ]
    },
    {
     "name": "stderr",
     "output_type": "stream",
     "text": [
      "[2018-07-27 15:42:20,055] [TfPoseEstimator-Video] [DEBUG] initialization mobilenet_thin : /home/MPLab/mplab006/tf_action_recognition/models/graph/mobilenet_thin/graph_opt.pb\n"
     ]
    },
    {
     "name": "stdout",
     "output_type": "stream",
     "text": [
      "video  v_PlayingDaf_g22_c07.avi  inferenced done.\n",
      "# of finished videos:  134\n",
      "# of finished directories:  1\n",
      "inferencing video:  v_PlayingDaf_g23_c01.avi  from  PlayingDaf  directory\n"
     ]
    },
    {
     "name": "stderr",
     "output_type": "stream",
     "text": [
      "[2018-07-27 15:42:20,903] [TfPoseEstimator-Video] [DEBUG] initialization mobilenet_thin : /home/MPLab/mplab006/tf_action_recognition/models/graph/mobilenet_thin/graph_opt.pb\n"
     ]
    },
    {
     "name": "stdout",
     "output_type": "stream",
     "text": [
      "video  v_PlayingDaf_g23_c01.avi  inferenced done.\n",
      "# of finished videos:  135\n",
      "# of finished directories:  1\n",
      "inferencing video:  v_PlayingDaf_g23_c02.avi  from  PlayingDaf  directory\n"
     ]
    },
    {
     "name": "stderr",
     "output_type": "stream",
     "text": [
      "[2018-07-27 15:42:21,777] [TfPoseEstimator-Video] [DEBUG] initialization mobilenet_thin : /home/MPLab/mplab006/tf_action_recognition/models/graph/mobilenet_thin/graph_opt.pb\n"
     ]
    },
    {
     "name": "stdout",
     "output_type": "stream",
     "text": [
      "video  v_PlayingDaf_g23_c02.avi  inferenced done.\n",
      "# of finished videos:  136\n",
      "# of finished directories:  1\n",
      "inferencing video:  v_PlayingDaf_g23_c03.avi  from  PlayingDaf  directory\n"
     ]
    },
    {
     "name": "stderr",
     "output_type": "stream",
     "text": [
      "[2018-07-27 15:42:22,664] [TfPoseEstimator-Video] [DEBUG] initialization mobilenet_thin : /home/MPLab/mplab006/tf_action_recognition/models/graph/mobilenet_thin/graph_opt.pb\n"
     ]
    },
    {
     "name": "stdout",
     "output_type": "stream",
     "text": [
      "video  v_PlayingDaf_g23_c03.avi  inferenced done.\n",
      "# of finished videos:  137\n",
      "# of finished directories:  1\n",
      "inferencing video:  v_PlayingDaf_g23_c04.avi  from  PlayingDaf  directory\n"
     ]
    },
    {
     "name": "stderr",
     "output_type": "stream",
     "text": [
      "[2018-07-27 15:42:23,525] [TfPoseEstimator-Video] [DEBUG] initialization mobilenet_thin : /home/MPLab/mplab006/tf_action_recognition/models/graph/mobilenet_thin/graph_opt.pb\n"
     ]
    },
    {
     "name": "stdout",
     "output_type": "stream",
     "text": [
      "video  v_PlayingDaf_g23_c04.avi  inferenced done.\n",
      "# of finished videos:  138\n",
      "# of finished directories:  1\n",
      "inferencing video:  v_PlayingDaf_g23_c05.avi  from  PlayingDaf  directory\n"
     ]
    },
    {
     "name": "stderr",
     "output_type": "stream",
     "text": [
      "[2018-07-27 15:42:24,365] [TfPoseEstimator-Video] [DEBUG] initialization mobilenet_thin : /home/MPLab/mplab006/tf_action_recognition/models/graph/mobilenet_thin/graph_opt.pb\n"
     ]
    },
    {
     "name": "stdout",
     "output_type": "stream",
     "text": [
      "video  v_PlayingDaf_g23_c05.avi  inferenced done.\n",
      "# of finished videos:  139\n",
      "# of finished directories:  1\n",
      "inferencing video:  v_PlayingDaf_g23_c06.avi  from  PlayingDaf  directory\n"
     ]
    },
    {
     "name": "stderr",
     "output_type": "stream",
     "text": [
      "[2018-07-27 15:42:25,236] [TfPoseEstimator-Video] [DEBUG] initialization mobilenet_thin : /home/MPLab/mplab006/tf_action_recognition/models/graph/mobilenet_thin/graph_opt.pb\n"
     ]
    },
    {
     "name": "stdout",
     "output_type": "stream",
     "text": [
      "video  v_PlayingDaf_g23_c06.avi  inferenced done.\n",
      "# of finished videos:  140\n",
      "# of finished directories:  1\n",
      "inferencing video:  v_PlayingDaf_g24_c01.avi  from  PlayingDaf  directory\n"
     ]
    },
    {
     "name": "stderr",
     "output_type": "stream",
     "text": [
      "[2018-07-27 15:42:26,093] [TfPoseEstimator-Video] [DEBUG] initialization mobilenet_thin : /home/MPLab/mplab006/tf_action_recognition/models/graph/mobilenet_thin/graph_opt.pb\n"
     ]
    },
    {
     "name": "stdout",
     "output_type": "stream",
     "text": [
      "video  v_PlayingDaf_g24_c01.avi  inferenced done.\n",
      "# of finished videos:  141\n",
      "# of finished directories:  1\n",
      "inferencing video:  v_PlayingDaf_g24_c02.avi  from  PlayingDaf  directory\n"
     ]
    },
    {
     "name": "stderr",
     "output_type": "stream",
     "text": [
      "[2018-07-27 15:42:26,944] [TfPoseEstimator-Video] [DEBUG] initialization mobilenet_thin : /home/MPLab/mplab006/tf_action_recognition/models/graph/mobilenet_thin/graph_opt.pb\n"
     ]
    },
    {
     "name": "stdout",
     "output_type": "stream",
     "text": [
      "video  v_PlayingDaf_g24_c02.avi  inferenced done.\n",
      "# of finished videos:  142\n",
      "# of finished directories:  1\n",
      "inferencing video:  v_PlayingDaf_g24_c03.avi  from  PlayingDaf  directory\n"
     ]
    },
    {
     "name": "stderr",
     "output_type": "stream",
     "text": [
      "[2018-07-27 15:42:27,803] [TfPoseEstimator-Video] [DEBUG] initialization mobilenet_thin : /home/MPLab/mplab006/tf_action_recognition/models/graph/mobilenet_thin/graph_opt.pb\n"
     ]
    },
    {
     "name": "stdout",
     "output_type": "stream",
     "text": [
      "video  v_PlayingDaf_g24_c03.avi  inferenced done.\n",
      "# of finished videos:  143\n",
      "# of finished directories:  1\n",
      "inferencing video:  v_PlayingDaf_g24_c04.avi  from  PlayingDaf  directory\n"
     ]
    },
    {
     "name": "stderr",
     "output_type": "stream",
     "text": [
      "[2018-07-27 15:42:28,706] [TfPoseEstimator-Video] [DEBUG] initialization mobilenet_thin : /home/MPLab/mplab006/tf_action_recognition/models/graph/mobilenet_thin/graph_opt.pb\n"
     ]
    },
    {
     "name": "stdout",
     "output_type": "stream",
     "text": [
      "video  v_PlayingDaf_g24_c04.avi  inferenced done.\n",
      "# of finished videos:  144\n",
      "# of finished directories:  1\n",
      "inferencing video:  v_PlayingDaf_g25_c01.avi  from  PlayingDaf  directory\n"
     ]
    },
    {
     "name": "stderr",
     "output_type": "stream",
     "text": [
      "[2018-07-27 15:42:29,559] [TfPoseEstimator-Video] [DEBUG] initialization mobilenet_thin : /home/MPLab/mplab006/tf_action_recognition/models/graph/mobilenet_thin/graph_opt.pb\n"
     ]
    },
    {
     "name": "stdout",
     "output_type": "stream",
     "text": [
      "video  v_PlayingDaf_g25_c01.avi  inferenced done.\n",
      "# of finished videos:  145\n",
      "# of finished directories:  1\n",
      "inferencing video:  v_PlayingDaf_g25_c02.avi  from  PlayingDaf  directory\n"
     ]
    },
    {
     "name": "stderr",
     "output_type": "stream",
     "text": [
      "[2018-07-27 15:42:30,405] [TfPoseEstimator-Video] [DEBUG] initialization mobilenet_thin : /home/MPLab/mplab006/tf_action_recognition/models/graph/mobilenet_thin/graph_opt.pb\n"
     ]
    },
    {
     "name": "stdout",
     "output_type": "stream",
     "text": [
      "video  v_PlayingDaf_g25_c02.avi  inferenced done.\n",
      "# of finished videos:  146\n",
      "# of finished directories:  1\n",
      "inferencing video:  v_PlayingDaf_g25_c03.avi  from  PlayingDaf  directory\n"
     ]
    },
    {
     "name": "stderr",
     "output_type": "stream",
     "text": [
      "[2018-07-27 15:42:31,491] [TfPoseEstimator-Video] [DEBUG] initialization mobilenet_thin : /home/MPLab/mplab006/tf_action_recognition/models/graph/mobilenet_thin/graph_opt.pb\n"
     ]
    },
    {
     "name": "stdout",
     "output_type": "stream",
     "text": [
      "video  v_PlayingDaf_g25_c03.avi  inferenced done.\n",
      "# of finished videos:  147\n",
      "# of finished directories:  1\n",
      "inferencing video:  v_PlayingDaf_g25_c04.avi  from  PlayingDaf  directory\n"
     ]
    },
    {
     "name": "stderr",
     "output_type": "stream",
     "text": [
      "[2018-07-27 15:42:32,441] [TfPoseEstimator-Video] [DEBUG] initialization mobilenet_thin : /home/MPLab/mplab006/tf_action_recognition/models/graph/mobilenet_thin/graph_opt.pb\n"
     ]
    },
    {
     "name": "stdout",
     "output_type": "stream",
     "text": [
      "video  v_PlayingDaf_g25_c04.avi  inferenced done.\n",
      "# of finished videos:  148\n",
      "# of finished directories:  1\n",
      "inferencing video:  v_PlayingDaf_g25_c05.avi  from  PlayingDaf  directory\n"
     ]
    },
    {
     "name": "stderr",
     "output_type": "stream",
     "text": [
      "[2018-07-27 15:42:33,300] [TfPoseEstimator-Video] [DEBUG] initialization mobilenet_thin : /home/MPLab/mplab006/tf_action_recognition/models/graph/mobilenet_thin/graph_opt.pb\n"
     ]
    },
    {
     "name": "stdout",
     "output_type": "stream",
     "text": [
      "video  v_PlayingDaf_g25_c05.avi  inferenced done.\n",
      "# of finished videos:  149\n",
      "# of finished directories:  1\n",
      "inferencing video:  v_PlayingDaf_g25_c06.avi  from  PlayingDaf  directory\n"
     ]
    },
    {
     "name": "stderr",
     "output_type": "stream",
     "text": [
      "[2018-07-27 15:42:34,148] [TfPoseEstimator-Video] [DEBUG] initialization mobilenet_thin : /home/MPLab/mplab006/tf_action_recognition/models/graph/mobilenet_thin/graph_opt.pb\n"
     ]
    },
    {
     "name": "stdout",
     "output_type": "stream",
     "text": [
      "video  v_PlayingDaf_g25_c06.avi  inferenced done.\n",
      "# of finished videos:  150\n",
      "# of finished directories:  1\n",
      "inferencing video:  v_PlayingDaf_g25_c07.avi  from  PlayingDaf  directory\n"
     ]
    },
    {
     "name": "stderr",
     "output_type": "stream",
     "text": [
      "[2018-07-27 15:42:35,039] [TfPoseEstimator-Video] [DEBUG] initialization mobilenet_thin : /home/MPLab/mplab006/tf_action_recognition/models/graph/mobilenet_thin/graph_opt.pb\n"
     ]
    },
    {
     "name": "stdout",
     "output_type": "stream",
     "text": [
      "video  v_PlayingDaf_g25_c07.avi  inferenced done.\n",
      "# of finished videos:  151\n",
      "# of finished directories:  1\n",
      "inferencing video:  v_PlayingDhol_g01_c01.avi  from  PlayingDhol  directory\n"
     ]
    },
    {
     "name": "stderr",
     "output_type": "stream",
     "text": [
      "[2018-07-27 15:42:35,951] [TfPoseEstimator-Video] [DEBUG] initialization mobilenet_thin : /home/MPLab/mplab006/tf_action_recognition/models/graph/mobilenet_thin/graph_opt.pb\n"
     ]
    },
    {
     "name": "stdout",
     "output_type": "stream",
     "text": [
      "video  v_PlayingDhol_g01_c01.avi  inferenced done.\n",
      "# of finished videos:  1\n",
      "# of finished directories:  2\n",
      "inferencing video:  v_PlayingDhol_g01_c02.avi  from  PlayingDhol  directory\n"
     ]
    },
    {
     "name": "stderr",
     "output_type": "stream",
     "text": [
      "[2018-07-27 15:42:36,828] [TfPoseEstimator-Video] [DEBUG] initialization mobilenet_thin : /home/MPLab/mplab006/tf_action_recognition/models/graph/mobilenet_thin/graph_opt.pb\n"
     ]
    },
    {
     "name": "stdout",
     "output_type": "stream",
     "text": [
      "video  v_PlayingDhol_g01_c02.avi  inferenced done.\n",
      "# of finished videos:  2\n",
      "# of finished directories:  2\n",
      "inferencing video:  v_PlayingDhol_g01_c03.avi  from  PlayingDhol  directory\n"
     ]
    },
    {
     "name": "stderr",
     "output_type": "stream",
     "text": [
      "[2018-07-27 15:42:37,715] [TfPoseEstimator-Video] [DEBUG] initialization mobilenet_thin : /home/MPLab/mplab006/tf_action_recognition/models/graph/mobilenet_thin/graph_opt.pb\n"
     ]
    },
    {
     "name": "stdout",
     "output_type": "stream",
     "text": [
      "video  v_PlayingDhol_g01_c03.avi  inferenced done.\n",
      "# of finished videos:  3\n",
      "# of finished directories:  2\n",
      "inferencing video:  v_PlayingDhol_g01_c04.avi  from  PlayingDhol  directory\n"
     ]
    },
    {
     "name": "stderr",
     "output_type": "stream",
     "text": [
      "[2018-07-27 15:42:38,640] [TfPoseEstimator-Video] [DEBUG] initialization mobilenet_thin : /home/MPLab/mplab006/tf_action_recognition/models/graph/mobilenet_thin/graph_opt.pb\n"
     ]
    },
    {
     "name": "stdout",
     "output_type": "stream",
     "text": [
      "video  v_PlayingDhol_g01_c04.avi  inferenced done.\n",
      "# of finished videos:  4\n",
      "# of finished directories:  2\n",
      "inferencing video:  v_PlayingDhol_g01_c05.avi  from  PlayingDhol  directory\n"
     ]
    },
    {
     "name": "stderr",
     "output_type": "stream",
     "text": [
      "[2018-07-27 15:42:39,518] [TfPoseEstimator-Video] [DEBUG] initialization mobilenet_thin : /home/MPLab/mplab006/tf_action_recognition/models/graph/mobilenet_thin/graph_opt.pb\n"
     ]
    },
    {
     "name": "stdout",
     "output_type": "stream",
     "text": [
      "video  v_PlayingDhol_g01_c05.avi  inferenced done.\n",
      "# of finished videos:  5\n",
      "# of finished directories:  2\n",
      "inferencing video:  v_PlayingDhol_g01_c06.avi  from  PlayingDhol  directory\n"
     ]
    },
    {
     "name": "stderr",
     "output_type": "stream",
     "text": [
      "[2018-07-27 15:42:40,403] [TfPoseEstimator-Video] [DEBUG] initialization mobilenet_thin : /home/MPLab/mplab006/tf_action_recognition/models/graph/mobilenet_thin/graph_opt.pb\n"
     ]
    },
    {
     "name": "stdout",
     "output_type": "stream",
     "text": [
      "video  v_PlayingDhol_g01_c06.avi  inferenced done.\n",
      "# of finished videos:  6\n",
      "# of finished directories:  2\n",
      "inferencing video:  v_PlayingDhol_g01_c07.avi  from  PlayingDhol  directory\n"
     ]
    },
    {
     "name": "stderr",
     "output_type": "stream",
     "text": [
      "[2018-07-27 15:42:41,278] [TfPoseEstimator-Video] [DEBUG] initialization mobilenet_thin : /home/MPLab/mplab006/tf_action_recognition/models/graph/mobilenet_thin/graph_opt.pb\n"
     ]
    },
    {
     "name": "stdout",
     "output_type": "stream",
     "text": [
      "video  v_PlayingDhol_g01_c07.avi  inferenced done.\n",
      "# of finished videos:  7\n",
      "# of finished directories:  2\n",
      "inferencing video:  v_PlayingDhol_g02_c01.avi  from  PlayingDhol  directory\n"
     ]
    },
    {
     "name": "stderr",
     "output_type": "stream",
     "text": [
      "[2018-07-27 15:42:42,161] [TfPoseEstimator-Video] [DEBUG] initialization mobilenet_thin : /home/MPLab/mplab006/tf_action_recognition/models/graph/mobilenet_thin/graph_opt.pb\n"
     ]
    },
    {
     "name": "stdout",
     "output_type": "stream",
     "text": [
      "video  v_PlayingDhol_g02_c01.avi  inferenced done.\n",
      "# of finished videos:  8\n",
      "# of finished directories:  2\n",
      "inferencing video:  v_PlayingDhol_g02_c02.avi  from  PlayingDhol  directory\n"
     ]
    },
    {
     "name": "stderr",
     "output_type": "stream",
     "text": [
      "[2018-07-27 15:42:43,003] [TfPoseEstimator-Video] [DEBUG] initialization mobilenet_thin : /home/MPLab/mplab006/tf_action_recognition/models/graph/mobilenet_thin/graph_opt.pb\n"
     ]
    },
    {
     "name": "stdout",
     "output_type": "stream",
     "text": [
      "video  v_PlayingDhol_g02_c02.avi  inferenced done.\n",
      "# of finished videos:  9\n",
      "# of finished directories:  2\n",
      "inferencing video:  v_PlayingDhol_g02_c03.avi  from  PlayingDhol  directory\n"
     ]
    },
    {
     "name": "stderr",
     "output_type": "stream",
     "text": [
      "[2018-07-27 15:42:43,889] [TfPoseEstimator-Video] [DEBUG] initialization mobilenet_thin : /home/MPLab/mplab006/tf_action_recognition/models/graph/mobilenet_thin/graph_opt.pb\n"
     ]
    },
    {
     "name": "stdout",
     "output_type": "stream",
     "text": [
      "video  v_PlayingDhol_g02_c03.avi  inferenced done.\n",
      "# of finished videos:  10\n",
      "# of finished directories:  2\n",
      "inferencing video:  v_PlayingDhol_g02_c04.avi  from  PlayingDhol  directory\n"
     ]
    },
    {
     "name": "stderr",
     "output_type": "stream",
     "text": [
      "[2018-07-27 15:42:44,737] [TfPoseEstimator-Video] [DEBUG] initialization mobilenet_thin : /home/MPLab/mplab006/tf_action_recognition/models/graph/mobilenet_thin/graph_opt.pb\n"
     ]
    },
    {
     "name": "stdout",
     "output_type": "stream",
     "text": [
      "video  v_PlayingDhol_g02_c04.avi  inferenced done.\n",
      "# of finished videos:  11\n",
      "# of finished directories:  2\n",
      "inferencing video:  v_PlayingDhol_g02_c05.avi  from  PlayingDhol  directory\n"
     ]
    },
    {
     "name": "stderr",
     "output_type": "stream",
     "text": [
      "[2018-07-27 15:42:45,648] [TfPoseEstimator-Video] [DEBUG] initialization mobilenet_thin : /home/MPLab/mplab006/tf_action_recognition/models/graph/mobilenet_thin/graph_opt.pb\n"
     ]
    },
    {
     "name": "stdout",
     "output_type": "stream",
     "text": [
      "video  v_PlayingDhol_g02_c05.avi  inferenced done.\n",
      "# of finished videos:  12\n",
      "# of finished directories:  2\n",
      "inferencing video:  v_PlayingDhol_g02_c06.avi  from  PlayingDhol  directory\n"
     ]
    },
    {
     "name": "stderr",
     "output_type": "stream",
     "text": [
      "[2018-07-27 15:42:46,536] [TfPoseEstimator-Video] [DEBUG] initialization mobilenet_thin : /home/MPLab/mplab006/tf_action_recognition/models/graph/mobilenet_thin/graph_opt.pb\n"
     ]
    },
    {
     "name": "stdout",
     "output_type": "stream",
     "text": [
      "video  v_PlayingDhol_g02_c06.avi  inferenced done.\n",
      "# of finished videos:  13\n",
      "# of finished directories:  2\n",
      "inferencing video:  v_PlayingDhol_g02_c07.avi  from  PlayingDhol  directory\n"
     ]
    },
    {
     "name": "stderr",
     "output_type": "stream",
     "text": [
      "[2018-07-27 15:42:47,436] [TfPoseEstimator-Video] [DEBUG] initialization mobilenet_thin : /home/MPLab/mplab006/tf_action_recognition/models/graph/mobilenet_thin/graph_opt.pb\n"
     ]
    },
    {
     "name": "stdout",
     "output_type": "stream",
     "text": [
      "video  v_PlayingDhol_g02_c07.avi  inferenced done.\n",
      "# of finished videos:  14\n",
      "# of finished directories:  2\n",
      "inferencing video:  v_PlayingDhol_g03_c01.avi  from  PlayingDhol  directory\n"
     ]
    },
    {
     "name": "stderr",
     "output_type": "stream",
     "text": [
      "[2018-07-27 15:42:48,281] [TfPoseEstimator-Video] [DEBUG] initialization mobilenet_thin : /home/MPLab/mplab006/tf_action_recognition/models/graph/mobilenet_thin/graph_opt.pb\n"
     ]
    },
    {
     "name": "stdout",
     "output_type": "stream",
     "text": [
      "video  v_PlayingDhol_g03_c01.avi  inferenced done.\n",
      "# of finished videos:  15\n",
      "# of finished directories:  2\n",
      "inferencing video:  v_PlayingDhol_g03_c02.avi  from  PlayingDhol  directory\n"
     ]
    },
    {
     "name": "stderr",
     "output_type": "stream",
     "text": [
      "[2018-07-27 15:42:49,121] [TfPoseEstimator-Video] [DEBUG] initialization mobilenet_thin : /home/MPLab/mplab006/tf_action_recognition/models/graph/mobilenet_thin/graph_opt.pb\n"
     ]
    },
    {
     "name": "stdout",
     "output_type": "stream",
     "text": [
      "video  v_PlayingDhol_g03_c02.avi  inferenced done.\n",
      "# of finished videos:  16\n",
      "# of finished directories:  2\n",
      "inferencing video:  v_PlayingDhol_g03_c03.avi  from  PlayingDhol  directory\n"
     ]
    },
    {
     "name": "stderr",
     "output_type": "stream",
     "text": [
      "[2018-07-27 15:42:49,981] [TfPoseEstimator-Video] [DEBUG] initialization mobilenet_thin : /home/MPLab/mplab006/tf_action_recognition/models/graph/mobilenet_thin/graph_opt.pb\n"
     ]
    },
    {
     "name": "stdout",
     "output_type": "stream",
     "text": [
      "video  v_PlayingDhol_g03_c03.avi  inferenced done.\n",
      "# of finished videos:  17\n",
      "# of finished directories:  2\n",
      "inferencing video:  v_PlayingDhol_g03_c04.avi  from  PlayingDhol  directory\n"
     ]
    },
    {
     "name": "stderr",
     "output_type": "stream",
     "text": [
      "[2018-07-27 15:42:50,846] [TfPoseEstimator-Video] [DEBUG] initialization mobilenet_thin : /home/MPLab/mplab006/tf_action_recognition/models/graph/mobilenet_thin/graph_opt.pb\n"
     ]
    },
    {
     "name": "stdout",
     "output_type": "stream",
     "text": [
      "video  v_PlayingDhol_g03_c04.avi  inferenced done.\n",
      "# of finished videos:  18\n",
      "# of finished directories:  2\n",
      "inferencing video:  v_PlayingDhol_g03_c05.avi  from  PlayingDhol  directory\n"
     ]
    },
    {
     "name": "stderr",
     "output_type": "stream",
     "text": [
      "[2018-07-27 15:42:51,721] [TfPoseEstimator-Video] [DEBUG] initialization mobilenet_thin : /home/MPLab/mplab006/tf_action_recognition/models/graph/mobilenet_thin/graph_opt.pb\n"
     ]
    },
    {
     "name": "stdout",
     "output_type": "stream",
     "text": [
      "video  v_PlayingDhol_g03_c05.avi  inferenced done.\n",
      "# of finished videos:  19\n",
      "# of finished directories:  2\n",
      "inferencing video:  v_PlayingDhol_g03_c06.avi  from  PlayingDhol  directory\n"
     ]
    },
    {
     "name": "stderr",
     "output_type": "stream",
     "text": [
      "[2018-07-27 15:42:52,576] [TfPoseEstimator-Video] [DEBUG] initialization mobilenet_thin : /home/MPLab/mplab006/tf_action_recognition/models/graph/mobilenet_thin/graph_opt.pb\n"
     ]
    },
    {
     "name": "stdout",
     "output_type": "stream",
     "text": [
      "video  v_PlayingDhol_g03_c06.avi  inferenced done.\n",
      "# of finished videos:  20\n",
      "# of finished directories:  2\n",
      "inferencing video:  v_PlayingDhol_g03_c07.avi  from  PlayingDhol  directory\n"
     ]
    },
    {
     "name": "stderr",
     "output_type": "stream",
     "text": [
      "[2018-07-27 15:42:53,406] [TfPoseEstimator-Video] [DEBUG] initialization mobilenet_thin : /home/MPLab/mplab006/tf_action_recognition/models/graph/mobilenet_thin/graph_opt.pb\n"
     ]
    },
    {
     "name": "stdout",
     "output_type": "stream",
     "text": [
      "video  v_PlayingDhol_g03_c07.avi  inferenced done.\n",
      "# of finished videos:  21\n",
      "# of finished directories:  2\n",
      "inferencing video:  v_PlayingDhol_g04_c01.avi  from  PlayingDhol  directory\n"
     ]
    },
    {
     "name": "stderr",
     "output_type": "stream",
     "text": [
      "[2018-07-27 15:42:54,256] [TfPoseEstimator-Video] [DEBUG] initialization mobilenet_thin : /home/MPLab/mplab006/tf_action_recognition/models/graph/mobilenet_thin/graph_opt.pb\n"
     ]
    },
    {
     "name": "stdout",
     "output_type": "stream",
     "text": [
      "video  v_PlayingDhol_g04_c01.avi  inferenced done.\n",
      "# of finished videos:  22\n",
      "# of finished directories:  2\n",
      "inferencing video:  v_PlayingDhol_g04_c02.avi  from  PlayingDhol  directory\n"
     ]
    },
    {
     "name": "stderr",
     "output_type": "stream",
     "text": [
      "[2018-07-27 15:42:55,139] [TfPoseEstimator-Video] [DEBUG] initialization mobilenet_thin : /home/MPLab/mplab006/tf_action_recognition/models/graph/mobilenet_thin/graph_opt.pb\n"
     ]
    },
    {
     "name": "stdout",
     "output_type": "stream",
     "text": [
      "video  v_PlayingDhol_g04_c02.avi  inferenced done.\n",
      "# of finished videos:  23\n",
      "# of finished directories:  2\n",
      "inferencing video:  v_PlayingDhol_g04_c03.avi  from  PlayingDhol  directory\n"
     ]
    },
    {
     "name": "stderr",
     "output_type": "stream",
     "text": [
      "[2018-07-27 15:42:55,991] [TfPoseEstimator-Video] [DEBUG] initialization mobilenet_thin : /home/MPLab/mplab006/tf_action_recognition/models/graph/mobilenet_thin/graph_opt.pb\n"
     ]
    },
    {
     "name": "stdout",
     "output_type": "stream",
     "text": [
      "video  v_PlayingDhol_g04_c03.avi  inferenced done.\n",
      "# of finished videos:  24\n",
      "# of finished directories:  2\n",
      "inferencing video:  v_PlayingDhol_g04_c04.avi  from  PlayingDhol  directory\n"
     ]
    },
    {
     "name": "stderr",
     "output_type": "stream",
     "text": [
      "[2018-07-27 15:42:56,820] [TfPoseEstimator-Video] [DEBUG] initialization mobilenet_thin : /home/MPLab/mplab006/tf_action_recognition/models/graph/mobilenet_thin/graph_opt.pb\n"
     ]
    },
    {
     "name": "stdout",
     "output_type": "stream",
     "text": [
      "video  v_PlayingDhol_g04_c04.avi  inferenced done.\n",
      "# of finished videos:  25\n",
      "# of finished directories:  2\n",
      "inferencing video:  v_PlayingDhol_g04_c05.avi  from  PlayingDhol  directory\n"
     ]
    },
    {
     "name": "stderr",
     "output_type": "stream",
     "text": [
      "[2018-07-27 15:42:57,664] [TfPoseEstimator-Video] [DEBUG] initialization mobilenet_thin : /home/MPLab/mplab006/tf_action_recognition/models/graph/mobilenet_thin/graph_opt.pb\n"
     ]
    },
    {
     "name": "stdout",
     "output_type": "stream",
     "text": [
      "video  v_PlayingDhol_g04_c05.avi  inferenced done.\n",
      "# of finished videos:  26\n",
      "# of finished directories:  2\n",
      "inferencing video:  v_PlayingDhol_g04_c06.avi  from  PlayingDhol  directory\n"
     ]
    },
    {
     "name": "stderr",
     "output_type": "stream",
     "text": [
      "[2018-07-27 15:42:58,563] [TfPoseEstimator-Video] [DEBUG] initialization mobilenet_thin : /home/MPLab/mplab006/tf_action_recognition/models/graph/mobilenet_thin/graph_opt.pb\n"
     ]
    },
    {
     "name": "stdout",
     "output_type": "stream",
     "text": [
      "video  v_PlayingDhol_g04_c06.avi  inferenced done.\n",
      "# of finished videos:  27\n",
      "# of finished directories:  2\n",
      "inferencing video:  v_PlayingDhol_g04_c07.avi  from  PlayingDhol  directory\n"
     ]
    },
    {
     "name": "stderr",
     "output_type": "stream",
     "text": [
      "[2018-07-27 15:42:59,448] [TfPoseEstimator-Video] [DEBUG] initialization mobilenet_thin : /home/MPLab/mplab006/tf_action_recognition/models/graph/mobilenet_thin/graph_opt.pb\n"
     ]
    },
    {
     "name": "stdout",
     "output_type": "stream",
     "text": [
      "video  v_PlayingDhol_g04_c07.avi  inferenced done.\n",
      "# of finished videos:  28\n",
      "# of finished directories:  2\n",
      "inferencing video:  v_PlayingDhol_g05_c01.avi  from  PlayingDhol  directory\n"
     ]
    },
    {
     "name": "stderr",
     "output_type": "stream",
     "text": [
      "[2018-07-27 15:43:00,366] [TfPoseEstimator-Video] [DEBUG] initialization mobilenet_thin : /home/MPLab/mplab006/tf_action_recognition/models/graph/mobilenet_thin/graph_opt.pb\n"
     ]
    },
    {
     "name": "stdout",
     "output_type": "stream",
     "text": [
      "video  v_PlayingDhol_g05_c01.avi  inferenced done.\n",
      "# of finished videos:  29\n",
      "# of finished directories:  2\n",
      "inferencing video:  v_PlayingDhol_g05_c02.avi  from  PlayingDhol  directory\n"
     ]
    },
    {
     "name": "stderr",
     "output_type": "stream",
     "text": [
      "[2018-07-27 15:43:01,255] [TfPoseEstimator-Video] [DEBUG] initialization mobilenet_thin : /home/MPLab/mplab006/tf_action_recognition/models/graph/mobilenet_thin/graph_opt.pb\n"
     ]
    },
    {
     "name": "stdout",
     "output_type": "stream",
     "text": [
      "video  v_PlayingDhol_g05_c02.avi  inferenced done.\n",
      "# of finished videos:  30\n",
      "# of finished directories:  2\n",
      "inferencing video:  v_PlayingDhol_g05_c03.avi  from  PlayingDhol  directory\n"
     ]
    },
    {
     "name": "stderr",
     "output_type": "stream",
     "text": [
      "[2018-07-27 15:43:02,146] [TfPoseEstimator-Video] [DEBUG] initialization mobilenet_thin : /home/MPLab/mplab006/tf_action_recognition/models/graph/mobilenet_thin/graph_opt.pb\n"
     ]
    },
    {
     "name": "stdout",
     "output_type": "stream",
     "text": [
      "video  v_PlayingDhol_g05_c03.avi  inferenced done.\n",
      "# of finished videos:  31\n",
      "# of finished directories:  2\n",
      "inferencing video:  v_PlayingDhol_g05_c04.avi  from  PlayingDhol  directory\n"
     ]
    },
    {
     "name": "stderr",
     "output_type": "stream",
     "text": [
      "[2018-07-27 15:43:02,999] [TfPoseEstimator-Video] [DEBUG] initialization mobilenet_thin : /home/MPLab/mplab006/tf_action_recognition/models/graph/mobilenet_thin/graph_opt.pb\n"
     ]
    },
    {
     "name": "stdout",
     "output_type": "stream",
     "text": [
      "video  v_PlayingDhol_g05_c04.avi  inferenced done.\n",
      "# of finished videos:  32\n",
      "# of finished directories:  2\n",
      "inferencing video:  v_PlayingDhol_g05_c05.avi  from  PlayingDhol  directory\n"
     ]
    },
    {
     "name": "stderr",
     "output_type": "stream",
     "text": [
      "[2018-07-27 15:43:03,873] [TfPoseEstimator-Video] [DEBUG] initialization mobilenet_thin : /home/MPLab/mplab006/tf_action_recognition/models/graph/mobilenet_thin/graph_opt.pb\n"
     ]
    },
    {
     "name": "stdout",
     "output_type": "stream",
     "text": [
      "video  v_PlayingDhol_g05_c05.avi  inferenced done.\n",
      "# of finished videos:  33\n",
      "# of finished directories:  2\n",
      "inferencing video:  v_PlayingDhol_g05_c06.avi  from  PlayingDhol  directory\n"
     ]
    },
    {
     "name": "stderr",
     "output_type": "stream",
     "text": [
      "[2018-07-27 15:43:04,746] [TfPoseEstimator-Video] [DEBUG] initialization mobilenet_thin : /home/MPLab/mplab006/tf_action_recognition/models/graph/mobilenet_thin/graph_opt.pb\n"
     ]
    },
    {
     "name": "stdout",
     "output_type": "stream",
     "text": [
      "video  v_PlayingDhol_g05_c06.avi  inferenced done.\n",
      "# of finished videos:  34\n",
      "# of finished directories:  2\n",
      "inferencing video:  v_PlayingDhol_g05_c07.avi  from  PlayingDhol  directory\n"
     ]
    },
    {
     "name": "stderr",
     "output_type": "stream",
     "text": [
      "[2018-07-27 15:43:05,654] [TfPoseEstimator-Video] [DEBUG] initialization mobilenet_thin : /home/MPLab/mplab006/tf_action_recognition/models/graph/mobilenet_thin/graph_opt.pb\n"
     ]
    },
    {
     "name": "stdout",
     "output_type": "stream",
     "text": [
      "video  v_PlayingDhol_g05_c07.avi  inferenced done.\n",
      "# of finished videos:  35\n",
      "# of finished directories:  2\n",
      "inferencing video:  v_PlayingDhol_g06_c01.avi  from  PlayingDhol  directory\n"
     ]
    },
    {
     "name": "stderr",
     "output_type": "stream",
     "text": [
      "[2018-07-27 15:43:06,510] [TfPoseEstimator-Video] [DEBUG] initialization mobilenet_thin : /home/MPLab/mplab006/tf_action_recognition/models/graph/mobilenet_thin/graph_opt.pb\n"
     ]
    },
    {
     "name": "stdout",
     "output_type": "stream",
     "text": [
      "video  v_PlayingDhol_g06_c01.avi  inferenced done.\n",
      "# of finished videos:  36\n",
      "# of finished directories:  2\n",
      "inferencing video:  v_PlayingDhol_g06_c02.avi  from  PlayingDhol  directory\n"
     ]
    },
    {
     "name": "stderr",
     "output_type": "stream",
     "text": [
      "[2018-07-27 15:43:07,402] [TfPoseEstimator-Video] [DEBUG] initialization mobilenet_thin : /home/MPLab/mplab006/tf_action_recognition/models/graph/mobilenet_thin/graph_opt.pb\n"
     ]
    },
    {
     "name": "stdout",
     "output_type": "stream",
     "text": [
      "video  v_PlayingDhol_g06_c02.avi  inferenced done.\n",
      "# of finished videos:  37\n",
      "# of finished directories:  2\n",
      "inferencing video:  v_PlayingDhol_g06_c03.avi  from  PlayingDhol  directory\n"
     ]
    },
    {
     "name": "stderr",
     "output_type": "stream",
     "text": [
      "[2018-07-27 15:43:08,231] [TfPoseEstimator-Video] [DEBUG] initialization mobilenet_thin : /home/MPLab/mplab006/tf_action_recognition/models/graph/mobilenet_thin/graph_opt.pb\n"
     ]
    },
    {
     "name": "stdout",
     "output_type": "stream",
     "text": [
      "video  v_PlayingDhol_g06_c03.avi  inferenced done.\n",
      "# of finished videos:  38\n",
      "# of finished directories:  2\n",
      "inferencing video:  v_PlayingDhol_g06_c04.avi  from  PlayingDhol  directory\n"
     ]
    },
    {
     "name": "stderr",
     "output_type": "stream",
     "text": [
      "[2018-07-27 15:43:09,067] [TfPoseEstimator-Video] [DEBUG] initialization mobilenet_thin : /home/MPLab/mplab006/tf_action_recognition/models/graph/mobilenet_thin/graph_opt.pb\n"
     ]
    },
    {
     "name": "stdout",
     "output_type": "stream",
     "text": [
      "video  v_PlayingDhol_g06_c04.avi  inferenced done.\n",
      "# of finished videos:  39\n",
      "# of finished directories:  2\n",
      "inferencing video:  v_PlayingDhol_g06_c05.avi  from  PlayingDhol  directory\n"
     ]
    },
    {
     "name": "stderr",
     "output_type": "stream",
     "text": [
      "[2018-07-27 15:43:09,909] [TfPoseEstimator-Video] [DEBUG] initialization mobilenet_thin : /home/MPLab/mplab006/tf_action_recognition/models/graph/mobilenet_thin/graph_opt.pb\n"
     ]
    },
    {
     "name": "stdout",
     "output_type": "stream",
     "text": [
      "video  v_PlayingDhol_g06_c05.avi  inferenced done.\n",
      "# of finished videos:  40\n",
      "# of finished directories:  2\n",
      "inferencing video:  v_PlayingDhol_g06_c06.avi  from  PlayingDhol  directory\n"
     ]
    },
    {
     "name": "stderr",
     "output_type": "stream",
     "text": [
      "[2018-07-27 15:43:10,801] [TfPoseEstimator-Video] [DEBUG] initialization mobilenet_thin : /home/MPLab/mplab006/tf_action_recognition/models/graph/mobilenet_thin/graph_opt.pb\n"
     ]
    },
    {
     "name": "stdout",
     "output_type": "stream",
     "text": [
      "video  v_PlayingDhol_g06_c06.avi  inferenced done.\n",
      "# of finished videos:  41\n",
      "# of finished directories:  2\n",
      "inferencing video:  v_PlayingDhol_g06_c07.avi  from  PlayingDhol  directory\n"
     ]
    },
    {
     "name": "stderr",
     "output_type": "stream",
     "text": [
      "[2018-07-27 15:43:11,654] [TfPoseEstimator-Video] [DEBUG] initialization mobilenet_thin : /home/MPLab/mplab006/tf_action_recognition/models/graph/mobilenet_thin/graph_opt.pb\n"
     ]
    },
    {
     "name": "stdout",
     "output_type": "stream",
     "text": [
      "video  v_PlayingDhol_g06_c07.avi  inferenced done.\n",
      "# of finished videos:  42\n",
      "# of finished directories:  2\n",
      "inferencing video:  v_PlayingDhol_g07_c01.avi  from  PlayingDhol  directory\n"
     ]
    },
    {
     "name": "stderr",
     "output_type": "stream",
     "text": [
      "[2018-07-27 15:43:12,497] [TfPoseEstimator-Video] [DEBUG] initialization mobilenet_thin : /home/MPLab/mplab006/tf_action_recognition/models/graph/mobilenet_thin/graph_opt.pb\n"
     ]
    },
    {
     "name": "stdout",
     "output_type": "stream",
     "text": [
      "video  v_PlayingDhol_g07_c01.avi  inferenced done.\n",
      "# of finished videos:  43\n",
      "# of finished directories:  2\n",
      "inferencing video:  v_PlayingDhol_g07_c02.avi  from  PlayingDhol  directory\n"
     ]
    },
    {
     "name": "stderr",
     "output_type": "stream",
     "text": [
      "[2018-07-27 15:43:13,342] [TfPoseEstimator-Video] [DEBUG] initialization mobilenet_thin : /home/MPLab/mplab006/tf_action_recognition/models/graph/mobilenet_thin/graph_opt.pb\n"
     ]
    },
    {
     "name": "stdout",
     "output_type": "stream",
     "text": [
      "video  v_PlayingDhol_g07_c02.avi  inferenced done.\n",
      "# of finished videos:  44\n",
      "# of finished directories:  2\n",
      "inferencing video:  v_PlayingDhol_g07_c03.avi  from  PlayingDhol  directory\n"
     ]
    },
    {
     "name": "stderr",
     "output_type": "stream",
     "text": [
      "[2018-07-27 15:43:14,247] [TfPoseEstimator-Video] [DEBUG] initialization mobilenet_thin : /home/MPLab/mplab006/tf_action_recognition/models/graph/mobilenet_thin/graph_opt.pb\n"
     ]
    },
    {
     "name": "stdout",
     "output_type": "stream",
     "text": [
      "video  v_PlayingDhol_g07_c03.avi  inferenced done.\n",
      "# of finished videos:  45\n",
      "# of finished directories:  2\n",
      "inferencing video:  v_PlayingDhol_g07_c04.avi  from  PlayingDhol  directory\n"
     ]
    },
    {
     "name": "stderr",
     "output_type": "stream",
     "text": [
      "[2018-07-27 15:43:15,126] [TfPoseEstimator-Video] [DEBUG] initialization mobilenet_thin : /home/MPLab/mplab006/tf_action_recognition/models/graph/mobilenet_thin/graph_opt.pb\n"
     ]
    },
    {
     "name": "stdout",
     "output_type": "stream",
     "text": [
      "video  v_PlayingDhol_g07_c04.avi  inferenced done.\n",
      "# of finished videos:  46\n",
      "# of finished directories:  2\n",
      "inferencing video:  v_PlayingDhol_g07_c05.avi  from  PlayingDhol  directory\n"
     ]
    },
    {
     "name": "stderr",
     "output_type": "stream",
     "text": [
      "[2018-07-27 15:43:16,013] [TfPoseEstimator-Video] [DEBUG] initialization mobilenet_thin : /home/MPLab/mplab006/tf_action_recognition/models/graph/mobilenet_thin/graph_opt.pb\n"
     ]
    },
    {
     "name": "stdout",
     "output_type": "stream",
     "text": [
      "video  v_PlayingDhol_g07_c05.avi  inferenced done.\n",
      "# of finished videos:  47\n",
      "# of finished directories:  2\n",
      "inferencing video:  v_PlayingDhol_g07_c06.avi  from  PlayingDhol  directory\n"
     ]
    },
    {
     "name": "stderr",
     "output_type": "stream",
     "text": [
      "[2018-07-27 15:43:16,861] [TfPoseEstimator-Video] [DEBUG] initialization mobilenet_thin : /home/MPLab/mplab006/tf_action_recognition/models/graph/mobilenet_thin/graph_opt.pb\n"
     ]
    },
    {
     "name": "stdout",
     "output_type": "stream",
     "text": [
      "video  v_PlayingDhol_g07_c06.avi  inferenced done.\n",
      "# of finished videos:  48\n",
      "# of finished directories:  2\n",
      "inferencing video:  v_PlayingDhol_g07_c07.avi  from  PlayingDhol  directory\n"
     ]
    },
    {
     "name": "stderr",
     "output_type": "stream",
     "text": [
      "[2018-07-27 15:43:17,712] [TfPoseEstimator-Video] [DEBUG] initialization mobilenet_thin : /home/MPLab/mplab006/tf_action_recognition/models/graph/mobilenet_thin/graph_opt.pb\n"
     ]
    },
    {
     "name": "stdout",
     "output_type": "stream",
     "text": [
      "video  v_PlayingDhol_g07_c07.avi  inferenced done.\n",
      "# of finished videos:  49\n",
      "# of finished directories:  2\n",
      "inferencing video:  v_PlayingDhol_g08_c01.avi  from  PlayingDhol  directory\n"
     ]
    },
    {
     "name": "stderr",
     "output_type": "stream",
     "text": [
      "[2018-07-27 15:43:18,562] [TfPoseEstimator-Video] [DEBUG] initialization mobilenet_thin : /home/MPLab/mplab006/tf_action_recognition/models/graph/mobilenet_thin/graph_opt.pb\n"
     ]
    },
    {
     "name": "stdout",
     "output_type": "stream",
     "text": [
      "video  v_PlayingDhol_g08_c01.avi  inferenced done.\n",
      "# of finished videos:  50\n",
      "# of finished directories:  2\n",
      "inferencing video:  v_PlayingDhol_g08_c02.avi  from  PlayingDhol  directory\n"
     ]
    },
    {
     "name": "stderr",
     "output_type": "stream",
     "text": [
      "[2018-07-27 15:43:19,421] [TfPoseEstimator-Video] [DEBUG] initialization mobilenet_thin : /home/MPLab/mplab006/tf_action_recognition/models/graph/mobilenet_thin/graph_opt.pb\n"
     ]
    },
    {
     "name": "stdout",
     "output_type": "stream",
     "text": [
      "video  v_PlayingDhol_g08_c02.avi  inferenced done.\n",
      "# of finished videos:  51\n",
      "# of finished directories:  2\n",
      "inferencing video:  v_PlayingDhol_g08_c03.avi  from  PlayingDhol  directory\n"
     ]
    },
    {
     "name": "stderr",
     "output_type": "stream",
     "text": [
      "[2018-07-27 15:43:20,281] [TfPoseEstimator-Video] [DEBUG] initialization mobilenet_thin : /home/MPLab/mplab006/tf_action_recognition/models/graph/mobilenet_thin/graph_opt.pb\n"
     ]
    },
    {
     "name": "stdout",
     "output_type": "stream",
     "text": [
      "video  v_PlayingDhol_g08_c03.avi  inferenced done.\n",
      "# of finished videos:  52\n",
      "# of finished directories:  2\n",
      "inferencing video:  v_PlayingDhol_g08_c04.avi  from  PlayingDhol  directory\n"
     ]
    },
    {
     "name": "stderr",
     "output_type": "stream",
     "text": [
      "[2018-07-27 15:43:21,149] [TfPoseEstimator-Video] [DEBUG] initialization mobilenet_thin : /home/MPLab/mplab006/tf_action_recognition/models/graph/mobilenet_thin/graph_opt.pb\n"
     ]
    },
    {
     "name": "stdout",
     "output_type": "stream",
     "text": [
      "video  v_PlayingDhol_g08_c04.avi  inferenced done.\n",
      "# of finished videos:  53\n",
      "# of finished directories:  2\n",
      "inferencing video:  v_PlayingDhol_g08_c05.avi  from  PlayingDhol  directory\n"
     ]
    },
    {
     "name": "stderr",
     "output_type": "stream",
     "text": [
      "[2018-07-27 15:43:22,031] [TfPoseEstimator-Video] [DEBUG] initialization mobilenet_thin : /home/MPLab/mplab006/tf_action_recognition/models/graph/mobilenet_thin/graph_opt.pb\n"
     ]
    },
    {
     "name": "stdout",
     "output_type": "stream",
     "text": [
      "video  v_PlayingDhol_g08_c05.avi  inferenced done.\n",
      "# of finished videos:  54\n",
      "# of finished directories:  2\n",
      "inferencing video:  v_PlayingDhol_g08_c06.avi  from  PlayingDhol  directory\n"
     ]
    },
    {
     "name": "stderr",
     "output_type": "stream",
     "text": [
      "[2018-07-27 15:43:22,940] [TfPoseEstimator-Video] [DEBUG] initialization mobilenet_thin : /home/MPLab/mplab006/tf_action_recognition/models/graph/mobilenet_thin/graph_opt.pb\n"
     ]
    },
    {
     "name": "stdout",
     "output_type": "stream",
     "text": [
      "video  v_PlayingDhol_g08_c06.avi  inferenced done.\n",
      "# of finished videos:  55\n",
      "# of finished directories:  2\n",
      "inferencing video:  v_PlayingDhol_g08_c07.avi  from  PlayingDhol  directory\n"
     ]
    },
    {
     "name": "stderr",
     "output_type": "stream",
     "text": [
      "[2018-07-27 15:43:23,795] [TfPoseEstimator-Video] [DEBUG] initialization mobilenet_thin : /home/MPLab/mplab006/tf_action_recognition/models/graph/mobilenet_thin/graph_opt.pb\n"
     ]
    },
    {
     "name": "stdout",
     "output_type": "stream",
     "text": [
      "video  v_PlayingDhol_g08_c07.avi  inferenced done.\n",
      "# of finished videos:  56\n",
      "# of finished directories:  2\n",
      "inferencing video:  v_PlayingDhol_g09_c01.avi  from  PlayingDhol  directory\n"
     ]
    },
    {
     "name": "stderr",
     "output_type": "stream",
     "text": [
      "[2018-07-27 15:43:24,708] [TfPoseEstimator-Video] [DEBUG] initialization mobilenet_thin : /home/MPLab/mplab006/tf_action_recognition/models/graph/mobilenet_thin/graph_opt.pb\n"
     ]
    },
    {
     "name": "stdout",
     "output_type": "stream",
     "text": [
      "video  v_PlayingDhol_g09_c01.avi  inferenced done.\n",
      "# of finished videos:  57\n",
      "# of finished directories:  2\n",
      "inferencing video:  v_PlayingDhol_g09_c02.avi  from  PlayingDhol  directory\n"
     ]
    },
    {
     "name": "stderr",
     "output_type": "stream",
     "text": [
      "[2018-07-27 15:43:25,579] [TfPoseEstimator-Video] [DEBUG] initialization mobilenet_thin : /home/MPLab/mplab006/tf_action_recognition/models/graph/mobilenet_thin/graph_opt.pb\n"
     ]
    },
    {
     "name": "stdout",
     "output_type": "stream",
     "text": [
      "video  v_PlayingDhol_g09_c02.avi  inferenced done.\n",
      "# of finished videos:  58\n",
      "# of finished directories:  2\n",
      "inferencing video:  v_PlayingDhol_g09_c03.avi  from  PlayingDhol  directory\n"
     ]
    },
    {
     "name": "stderr",
     "output_type": "stream",
     "text": [
      "[2018-07-27 15:43:26,438] [TfPoseEstimator-Video] [DEBUG] initialization mobilenet_thin : /home/MPLab/mplab006/tf_action_recognition/models/graph/mobilenet_thin/graph_opt.pb\n"
     ]
    },
    {
     "name": "stdout",
     "output_type": "stream",
     "text": [
      "video  v_PlayingDhol_g09_c03.avi  inferenced done.\n",
      "# of finished videos:  59\n",
      "# of finished directories:  2\n",
      "inferencing video:  v_PlayingDhol_g09_c04.avi  from  PlayingDhol  directory\n"
     ]
    },
    {
     "name": "stderr",
     "output_type": "stream",
     "text": [
      "[2018-07-27 15:43:27,300] [TfPoseEstimator-Video] [DEBUG] initialization mobilenet_thin : /home/MPLab/mplab006/tf_action_recognition/models/graph/mobilenet_thin/graph_opt.pb\n"
     ]
    },
    {
     "name": "stdout",
     "output_type": "stream",
     "text": [
      "video  v_PlayingDhol_g09_c04.avi  inferenced done.\n",
      "# of finished videos:  60\n",
      "# of finished directories:  2\n",
      "inferencing video:  v_PlayingDhol_g09_c05.avi  from  PlayingDhol  directory\n"
     ]
    },
    {
     "name": "stderr",
     "output_type": "stream",
     "text": [
      "[2018-07-27 15:43:28,210] [TfPoseEstimator-Video] [DEBUG] initialization mobilenet_thin : /home/MPLab/mplab006/tf_action_recognition/models/graph/mobilenet_thin/graph_opt.pb\n"
     ]
    },
    {
     "name": "stdout",
     "output_type": "stream",
     "text": [
      "video  v_PlayingDhol_g09_c05.avi  inferenced done.\n",
      "# of finished videos:  61\n",
      "# of finished directories:  2\n",
      "inferencing video:  v_PlayingDhol_g09_c06.avi  from  PlayingDhol  directory\n"
     ]
    },
    {
     "name": "stderr",
     "output_type": "stream",
     "text": [
      "[2018-07-27 15:43:29,130] [TfPoseEstimator-Video] [DEBUG] initialization mobilenet_thin : /home/MPLab/mplab006/tf_action_recognition/models/graph/mobilenet_thin/graph_opt.pb\n"
     ]
    },
    {
     "name": "stdout",
     "output_type": "stream",
     "text": [
      "video  v_PlayingDhol_g09_c06.avi  inferenced done.\n",
      "# of finished videos:  62\n",
      "# of finished directories:  2\n",
      "inferencing video:  v_PlayingDhol_g09_c07.avi  from  PlayingDhol  directory\n"
     ]
    },
    {
     "name": "stderr",
     "output_type": "stream",
     "text": [
      "[2018-07-27 15:43:30,014] [TfPoseEstimator-Video] [DEBUG] initialization mobilenet_thin : /home/MPLab/mplab006/tf_action_recognition/models/graph/mobilenet_thin/graph_opt.pb\n"
     ]
    },
    {
     "name": "stdout",
     "output_type": "stream",
     "text": [
      "video  v_PlayingDhol_g09_c07.avi  inferenced done.\n",
      "# of finished videos:  63\n",
      "# of finished directories:  2\n",
      "inferencing video:  v_PlayingDhol_g10_c01.avi  from  PlayingDhol  directory\n"
     ]
    },
    {
     "name": "stderr",
     "output_type": "stream",
     "text": [
      "[2018-07-27 15:43:30,895] [TfPoseEstimator-Video] [DEBUG] initialization mobilenet_thin : /home/MPLab/mplab006/tf_action_recognition/models/graph/mobilenet_thin/graph_opt.pb\n"
     ]
    },
    {
     "name": "stdout",
     "output_type": "stream",
     "text": [
      "video  v_PlayingDhol_g10_c01.avi  inferenced done.\n",
      "# of finished videos:  64\n",
      "# of finished directories:  2\n",
      "inferencing video:  v_PlayingDhol_g10_c02.avi  from  PlayingDhol  directory\n"
     ]
    },
    {
     "name": "stderr",
     "output_type": "stream",
     "text": [
      "[2018-07-27 15:43:31,827] [TfPoseEstimator-Video] [DEBUG] initialization mobilenet_thin : /home/MPLab/mplab006/tf_action_recognition/models/graph/mobilenet_thin/graph_opt.pb\n"
     ]
    },
    {
     "name": "stdout",
     "output_type": "stream",
     "text": [
      "video  v_PlayingDhol_g10_c02.avi  inferenced done.\n",
      "# of finished videos:  65\n",
      "# of finished directories:  2\n",
      "inferencing video:  v_PlayingDhol_g10_c03.avi  from  PlayingDhol  directory\n"
     ]
    },
    {
     "name": "stderr",
     "output_type": "stream",
     "text": [
      "[2018-07-27 15:43:32,691] [TfPoseEstimator-Video] [DEBUG] initialization mobilenet_thin : /home/MPLab/mplab006/tf_action_recognition/models/graph/mobilenet_thin/graph_opt.pb\n"
     ]
    },
    {
     "name": "stdout",
     "output_type": "stream",
     "text": [
      "video  v_PlayingDhol_g10_c03.avi  inferenced done.\n",
      "# of finished videos:  66\n",
      "# of finished directories:  2\n",
      "inferencing video:  v_PlayingDhol_g10_c04.avi  from  PlayingDhol  directory\n"
     ]
    },
    {
     "name": "stderr",
     "output_type": "stream",
     "text": [
      "[2018-07-27 15:43:33,598] [TfPoseEstimator-Video] [DEBUG] initialization mobilenet_thin : /home/MPLab/mplab006/tf_action_recognition/models/graph/mobilenet_thin/graph_opt.pb\n"
     ]
    },
    {
     "name": "stdout",
     "output_type": "stream",
     "text": [
      "video  v_PlayingDhol_g10_c04.avi  inferenced done.\n",
      "# of finished videos:  67\n",
      "# of finished directories:  2\n",
      "inferencing video:  v_PlayingDhol_g10_c05.avi  from  PlayingDhol  directory\n"
     ]
    },
    {
     "name": "stderr",
     "output_type": "stream",
     "text": [
      "[2018-07-27 15:43:34,498] [TfPoseEstimator-Video] [DEBUG] initialization mobilenet_thin : /home/MPLab/mplab006/tf_action_recognition/models/graph/mobilenet_thin/graph_opt.pb\n"
     ]
    },
    {
     "name": "stdout",
     "output_type": "stream",
     "text": [
      "video  v_PlayingDhol_g10_c05.avi  inferenced done.\n",
      "# of finished videos:  68\n",
      "# of finished directories:  2\n",
      "inferencing video:  v_PlayingDhol_g10_c06.avi  from  PlayingDhol  directory\n"
     ]
    },
    {
     "name": "stderr",
     "output_type": "stream",
     "text": [
      "[2018-07-27 15:43:35,378] [TfPoseEstimator-Video] [DEBUG] initialization mobilenet_thin : /home/MPLab/mplab006/tf_action_recognition/models/graph/mobilenet_thin/graph_opt.pb\n"
     ]
    },
    {
     "name": "stdout",
     "output_type": "stream",
     "text": [
      "video  v_PlayingDhol_g10_c06.avi  inferenced done.\n",
      "# of finished videos:  69\n",
      "# of finished directories:  2\n",
      "inferencing video:  v_PlayingDhol_g10_c07.avi  from  PlayingDhol  directory\n"
     ]
    },
    {
     "name": "stderr",
     "output_type": "stream",
     "text": [
      "[2018-07-27 15:43:36,259] [TfPoseEstimator-Video] [DEBUG] initialization mobilenet_thin : /home/MPLab/mplab006/tf_action_recognition/models/graph/mobilenet_thin/graph_opt.pb\n"
     ]
    },
    {
     "name": "stdout",
     "output_type": "stream",
     "text": [
      "video  v_PlayingDhol_g10_c07.avi  inferenced done.\n",
      "# of finished videos:  70\n",
      "# of finished directories:  2\n",
      "inferencing video:  v_PlayingDhol_g11_c01.avi  from  PlayingDhol  directory\n"
     ]
    },
    {
     "name": "stderr",
     "output_type": "stream",
     "text": [
      "[2018-07-27 15:43:37,093] [TfPoseEstimator-Video] [DEBUG] initialization mobilenet_thin : /home/MPLab/mplab006/tf_action_recognition/models/graph/mobilenet_thin/graph_opt.pb\n"
     ]
    },
    {
     "name": "stdout",
     "output_type": "stream",
     "text": [
      "video  v_PlayingDhol_g11_c01.avi  inferenced done.\n",
      "# of finished videos:  71\n",
      "# of finished directories:  2\n",
      "inferencing video:  v_PlayingDhol_g11_c02.avi  from  PlayingDhol  directory\n"
     ]
    },
    {
     "name": "stderr",
     "output_type": "stream",
     "text": [
      "[2018-07-27 15:43:37,936] [TfPoseEstimator-Video] [DEBUG] initialization mobilenet_thin : /home/MPLab/mplab006/tf_action_recognition/models/graph/mobilenet_thin/graph_opt.pb\n"
     ]
    },
    {
     "name": "stdout",
     "output_type": "stream",
     "text": [
      "video  v_PlayingDhol_g11_c02.avi  inferenced done.\n",
      "# of finished videos:  72\n",
      "# of finished directories:  2\n",
      "inferencing video:  v_PlayingDhol_g11_c03.avi  from  PlayingDhol  directory\n"
     ]
    },
    {
     "name": "stderr",
     "output_type": "stream",
     "text": [
      "[2018-07-27 15:43:38,780] [TfPoseEstimator-Video] [DEBUG] initialization mobilenet_thin : /home/MPLab/mplab006/tf_action_recognition/models/graph/mobilenet_thin/graph_opt.pb\n"
     ]
    },
    {
     "name": "stdout",
     "output_type": "stream",
     "text": [
      "video  v_PlayingDhol_g11_c03.avi  inferenced done.\n",
      "# of finished videos:  73\n",
      "# of finished directories:  2\n",
      "inferencing video:  v_PlayingDhol_g11_c04.avi  from  PlayingDhol  directory\n"
     ]
    },
    {
     "name": "stderr",
     "output_type": "stream",
     "text": [
      "[2018-07-27 15:43:39,667] [TfPoseEstimator-Video] [DEBUG] initialization mobilenet_thin : /home/MPLab/mplab006/tf_action_recognition/models/graph/mobilenet_thin/graph_opt.pb\n"
     ]
    },
    {
     "name": "stdout",
     "output_type": "stream",
     "text": [
      "video  v_PlayingDhol_g11_c04.avi  inferenced done.\n",
      "# of finished videos:  74\n",
      "# of finished directories:  2\n",
      "inferencing video:  v_PlayingDhol_g11_c05.avi  from  PlayingDhol  directory\n"
     ]
    },
    {
     "name": "stderr",
     "output_type": "stream",
     "text": [
      "[2018-07-27 15:43:40,517] [TfPoseEstimator-Video] [DEBUG] initialization mobilenet_thin : /home/MPLab/mplab006/tf_action_recognition/models/graph/mobilenet_thin/graph_opt.pb\n"
     ]
    },
    {
     "name": "stdout",
     "output_type": "stream",
     "text": [
      "video  v_PlayingDhol_g11_c05.avi  inferenced done.\n",
      "# of finished videos:  75\n",
      "# of finished directories:  2\n",
      "inferencing video:  v_PlayingDhol_g11_c06.avi  from  PlayingDhol  directory\n"
     ]
    },
    {
     "name": "stderr",
     "output_type": "stream",
     "text": [
      "[2018-07-27 15:43:41,411] [TfPoseEstimator-Video] [DEBUG] initialization mobilenet_thin : /home/MPLab/mplab006/tf_action_recognition/models/graph/mobilenet_thin/graph_opt.pb\n"
     ]
    },
    {
     "name": "stdout",
     "output_type": "stream",
     "text": [
      "video  v_PlayingDhol_g11_c06.avi  inferenced done.\n",
      "# of finished videos:  76\n",
      "# of finished directories:  2\n",
      "inferencing video:  v_PlayingDhol_g11_c07.avi  from  PlayingDhol  directory\n"
     ]
    },
    {
     "name": "stderr",
     "output_type": "stream",
     "text": [
      "[2018-07-27 15:43:42,268] [TfPoseEstimator-Video] [DEBUG] initialization mobilenet_thin : /home/MPLab/mplab006/tf_action_recognition/models/graph/mobilenet_thin/graph_opt.pb\n"
     ]
    },
    {
     "name": "stdout",
     "output_type": "stream",
     "text": [
      "video  v_PlayingDhol_g11_c07.avi  inferenced done.\n",
      "# of finished videos:  77\n",
      "# of finished directories:  2\n",
      "inferencing video:  v_PlayingDhol_g12_c01.avi  from  PlayingDhol  directory\n"
     ]
    },
    {
     "name": "stderr",
     "output_type": "stream",
     "text": [
      "[2018-07-27 15:43:43,105] [TfPoseEstimator-Video] [DEBUG] initialization mobilenet_thin : /home/MPLab/mplab006/tf_action_recognition/models/graph/mobilenet_thin/graph_opt.pb\n"
     ]
    },
    {
     "name": "stdout",
     "output_type": "stream",
     "text": [
      "video  v_PlayingDhol_g12_c01.avi  inferenced done.\n",
      "# of finished videos:  78\n",
      "# of finished directories:  2\n",
      "inferencing video:  v_PlayingDhol_g12_c02.avi  from  PlayingDhol  directory\n"
     ]
    },
    {
     "name": "stderr",
     "output_type": "stream",
     "text": [
      "[2018-07-27 15:43:43,953] [TfPoseEstimator-Video] [DEBUG] initialization mobilenet_thin : /home/MPLab/mplab006/tf_action_recognition/models/graph/mobilenet_thin/graph_opt.pb\n"
     ]
    },
    {
     "name": "stdout",
     "output_type": "stream",
     "text": [
      "video  v_PlayingDhol_g12_c02.avi  inferenced done.\n",
      "# of finished videos:  79\n",
      "# of finished directories:  2\n",
      "inferencing video:  v_PlayingDhol_g12_c03.avi  from  PlayingDhol  directory\n"
     ]
    },
    {
     "name": "stderr",
     "output_type": "stream",
     "text": [
      "[2018-07-27 15:43:44,800] [TfPoseEstimator-Video] [DEBUG] initialization mobilenet_thin : /home/MPLab/mplab006/tf_action_recognition/models/graph/mobilenet_thin/graph_opt.pb\n"
     ]
    },
    {
     "name": "stdout",
     "output_type": "stream",
     "text": [
      "video  v_PlayingDhol_g12_c03.avi  inferenced done.\n",
      "# of finished videos:  80\n",
      "# of finished directories:  2\n",
      "inferencing video:  v_PlayingDhol_g12_c04.avi  from  PlayingDhol  directory\n"
     ]
    },
    {
     "name": "stderr",
     "output_type": "stream",
     "text": [
      "[2018-07-27 15:43:45,702] [TfPoseEstimator-Video] [DEBUG] initialization mobilenet_thin : /home/MPLab/mplab006/tf_action_recognition/models/graph/mobilenet_thin/graph_opt.pb\n"
     ]
    },
    {
     "name": "stdout",
     "output_type": "stream",
     "text": [
      "video  v_PlayingDhol_g12_c04.avi  inferenced done.\n",
      "# of finished videos:  81\n",
      "# of finished directories:  2\n",
      "inferencing video:  v_PlayingDhol_g12_c05.avi  from  PlayingDhol  directory\n"
     ]
    },
    {
     "name": "stderr",
     "output_type": "stream",
     "text": [
      "[2018-07-27 15:43:46,556] [TfPoseEstimator-Video] [DEBUG] initialization mobilenet_thin : /home/MPLab/mplab006/tf_action_recognition/models/graph/mobilenet_thin/graph_opt.pb\n"
     ]
    },
    {
     "name": "stdout",
     "output_type": "stream",
     "text": [
      "video  v_PlayingDhol_g12_c05.avi  inferenced done.\n",
      "# of finished videos:  82\n",
      "# of finished directories:  2\n",
      "inferencing video:  v_PlayingDhol_g12_c06.avi  from  PlayingDhol  directory\n"
     ]
    },
    {
     "name": "stderr",
     "output_type": "stream",
     "text": [
      "[2018-07-27 15:43:47,401] [TfPoseEstimator-Video] [DEBUG] initialization mobilenet_thin : /home/MPLab/mplab006/tf_action_recognition/models/graph/mobilenet_thin/graph_opt.pb\n"
     ]
    },
    {
     "name": "stdout",
     "output_type": "stream",
     "text": [
      "video  v_PlayingDhol_g12_c06.avi  inferenced done.\n",
      "# of finished videos:  83\n",
      "# of finished directories:  2\n",
      "inferencing video:  v_PlayingDhol_g13_c01.avi  from  PlayingDhol  directory\n"
     ]
    },
    {
     "name": "stderr",
     "output_type": "stream",
     "text": [
      "[2018-07-27 15:43:48,272] [TfPoseEstimator-Video] [DEBUG] initialization mobilenet_thin : /home/MPLab/mplab006/tf_action_recognition/models/graph/mobilenet_thin/graph_opt.pb\n"
     ]
    },
    {
     "name": "stdout",
     "output_type": "stream",
     "text": [
      "video  v_PlayingDhol_g13_c01.avi  inferenced done.\n",
      "# of finished videos:  84\n",
      "# of finished directories:  2\n",
      "inferencing video:  v_PlayingDhol_g13_c02.avi  from  PlayingDhol  directory\n"
     ]
    },
    {
     "name": "stderr",
     "output_type": "stream",
     "text": [
      "[2018-07-27 15:43:49,140] [TfPoseEstimator-Video] [DEBUG] initialization mobilenet_thin : /home/MPLab/mplab006/tf_action_recognition/models/graph/mobilenet_thin/graph_opt.pb\n"
     ]
    },
    {
     "name": "stdout",
     "output_type": "stream",
     "text": [
      "video  v_PlayingDhol_g13_c02.avi  inferenced done.\n",
      "# of finished videos:  85\n",
      "# of finished directories:  2\n",
      "inferencing video:  v_PlayingDhol_g13_c03.avi  from  PlayingDhol  directory\n"
     ]
    },
    {
     "name": "stderr",
     "output_type": "stream",
     "text": [
      "[2018-07-27 15:43:50,046] [TfPoseEstimator-Video] [DEBUG] initialization mobilenet_thin : /home/MPLab/mplab006/tf_action_recognition/models/graph/mobilenet_thin/graph_opt.pb\n"
     ]
    },
    {
     "name": "stdout",
     "output_type": "stream",
     "text": [
      "video  v_PlayingDhol_g13_c03.avi  inferenced done.\n",
      "# of finished videos:  86\n",
      "# of finished directories:  2\n",
      "inferencing video:  v_PlayingDhol_g13_c04.avi  from  PlayingDhol  directory\n"
     ]
    },
    {
     "name": "stderr",
     "output_type": "stream",
     "text": [
      "[2018-07-27 15:43:50,924] [TfPoseEstimator-Video] [DEBUG] initialization mobilenet_thin : /home/MPLab/mplab006/tf_action_recognition/models/graph/mobilenet_thin/graph_opt.pb\n"
     ]
    },
    {
     "name": "stdout",
     "output_type": "stream",
     "text": [
      "video  v_PlayingDhol_g13_c04.avi  inferenced done.\n",
      "# of finished videos:  87\n",
      "# of finished directories:  2\n",
      "inferencing video:  v_PlayingDhol_g13_c05.avi  from  PlayingDhol  directory\n"
     ]
    },
    {
     "name": "stderr",
     "output_type": "stream",
     "text": [
      "[2018-07-27 15:43:51,821] [TfPoseEstimator-Video] [DEBUG] initialization mobilenet_thin : /home/MPLab/mplab006/tf_action_recognition/models/graph/mobilenet_thin/graph_opt.pb\n"
     ]
    },
    {
     "name": "stdout",
     "output_type": "stream",
     "text": [
      "video  v_PlayingDhol_g13_c05.avi  inferenced done.\n",
      "# of finished videos:  88\n",
      "# of finished directories:  2\n",
      "inferencing video:  v_PlayingDhol_g13_c06.avi  from  PlayingDhol  directory\n"
     ]
    },
    {
     "name": "stderr",
     "output_type": "stream",
     "text": [
      "[2018-07-27 15:43:52,736] [TfPoseEstimator-Video] [DEBUG] initialization mobilenet_thin : /home/MPLab/mplab006/tf_action_recognition/models/graph/mobilenet_thin/graph_opt.pb\n"
     ]
    },
    {
     "name": "stdout",
     "output_type": "stream",
     "text": [
      "video  v_PlayingDhol_g13_c06.avi  inferenced done.\n",
      "# of finished videos:  89\n",
      "# of finished directories:  2\n",
      "inferencing video:  v_PlayingDhol_g13_c07.avi  from  PlayingDhol  directory\n"
     ]
    },
    {
     "name": "stderr",
     "output_type": "stream",
     "text": [
      "[2018-07-27 15:43:53,586] [TfPoseEstimator-Video] [DEBUG] initialization mobilenet_thin : /home/MPLab/mplab006/tf_action_recognition/models/graph/mobilenet_thin/graph_opt.pb\n"
     ]
    },
    {
     "name": "stdout",
     "output_type": "stream",
     "text": [
      "video  v_PlayingDhol_g13_c07.avi  inferenced done.\n",
      "# of finished videos:  90\n",
      "# of finished directories:  2\n",
      "inferencing video:  v_PlayingDhol_g14_c01.avi  from  PlayingDhol  directory\n"
     ]
    },
    {
     "name": "stderr",
     "output_type": "stream",
     "text": [
      "[2018-07-27 15:43:54,435] [TfPoseEstimator-Video] [DEBUG] initialization mobilenet_thin : /home/MPLab/mplab006/tf_action_recognition/models/graph/mobilenet_thin/graph_opt.pb\n"
     ]
    },
    {
     "name": "stdout",
     "output_type": "stream",
     "text": [
      "video  v_PlayingDhol_g14_c01.avi  inferenced done.\n",
      "# of finished videos:  91\n",
      "# of finished directories:  2\n",
      "inferencing video:  v_PlayingDhol_g14_c02.avi  from  PlayingDhol  directory\n"
     ]
    },
    {
     "name": "stderr",
     "output_type": "stream",
     "text": [
      "[2018-07-27 15:43:55,293] [TfPoseEstimator-Video] [DEBUG] initialization mobilenet_thin : /home/MPLab/mplab006/tf_action_recognition/models/graph/mobilenet_thin/graph_opt.pb\n"
     ]
    },
    {
     "name": "stdout",
     "output_type": "stream",
     "text": [
      "video  v_PlayingDhol_g14_c02.avi  inferenced done.\n",
      "# of finished videos:  92\n",
      "# of finished directories:  2\n",
      "inferencing video:  v_PlayingDhol_g14_c03.avi  from  PlayingDhol  directory\n"
     ]
    },
    {
     "name": "stderr",
     "output_type": "stream",
     "text": [
      "[2018-07-27 15:43:56,141] [TfPoseEstimator-Video] [DEBUG] initialization mobilenet_thin : /home/MPLab/mplab006/tf_action_recognition/models/graph/mobilenet_thin/graph_opt.pb\n"
     ]
    },
    {
     "name": "stdout",
     "output_type": "stream",
     "text": [
      "video  v_PlayingDhol_g14_c03.avi  inferenced done.\n",
      "# of finished videos:  93\n",
      "# of finished directories:  2\n",
      "inferencing video:  v_PlayingDhol_g14_c04.avi  from  PlayingDhol  directory\n"
     ]
    },
    {
     "name": "stderr",
     "output_type": "stream",
     "text": [
      "[2018-07-27 15:43:57,020] [TfPoseEstimator-Video] [DEBUG] initialization mobilenet_thin : /home/MPLab/mplab006/tf_action_recognition/models/graph/mobilenet_thin/graph_opt.pb\n"
     ]
    },
    {
     "name": "stdout",
     "output_type": "stream",
     "text": [
      "video  v_PlayingDhol_g14_c04.avi  inferenced done.\n",
      "# of finished videos:  94\n",
      "# of finished directories:  2\n",
      "inferencing video:  v_PlayingDhol_g14_c05.avi  from  PlayingDhol  directory\n"
     ]
    },
    {
     "name": "stderr",
     "output_type": "stream",
     "text": [
      "[2018-07-27 15:43:57,905] [TfPoseEstimator-Video] [DEBUG] initialization mobilenet_thin : /home/MPLab/mplab006/tf_action_recognition/models/graph/mobilenet_thin/graph_opt.pb\n"
     ]
    },
    {
     "name": "stdout",
     "output_type": "stream",
     "text": [
      "video  v_PlayingDhol_g14_c05.avi  inferenced done.\n",
      "# of finished videos:  95\n",
      "# of finished directories:  2\n",
      "inferencing video:  v_PlayingDhol_g14_c06.avi  from  PlayingDhol  directory\n"
     ]
    },
    {
     "name": "stderr",
     "output_type": "stream",
     "text": [
      "[2018-07-27 15:43:58,753] [TfPoseEstimator-Video] [DEBUG] initialization mobilenet_thin : /home/MPLab/mplab006/tf_action_recognition/models/graph/mobilenet_thin/graph_opt.pb\n"
     ]
    },
    {
     "name": "stdout",
     "output_type": "stream",
     "text": [
      "video  v_PlayingDhol_g14_c06.avi  inferenced done.\n",
      "# of finished videos:  96\n",
      "# of finished directories:  2\n",
      "inferencing video:  v_PlayingDhol_g14_c07.avi  from  PlayingDhol  directory\n"
     ]
    },
    {
     "name": "stderr",
     "output_type": "stream",
     "text": [
      "[2018-07-27 15:43:59,604] [TfPoseEstimator-Video] [DEBUG] initialization mobilenet_thin : /home/MPLab/mplab006/tf_action_recognition/models/graph/mobilenet_thin/graph_opt.pb\n"
     ]
    },
    {
     "name": "stdout",
     "output_type": "stream",
     "text": [
      "video  v_PlayingDhol_g14_c07.avi  inferenced done.\n",
      "# of finished videos:  97\n",
      "# of finished directories:  2\n",
      "inferencing video:  v_PlayingDhol_g15_c01.avi  from  PlayingDhol  directory\n"
     ]
    },
    {
     "name": "stderr",
     "output_type": "stream",
     "text": [
      "[2018-07-27 15:44:00,501] [TfPoseEstimator-Video] [DEBUG] initialization mobilenet_thin : /home/MPLab/mplab006/tf_action_recognition/models/graph/mobilenet_thin/graph_opt.pb\n"
     ]
    },
    {
     "name": "stdout",
     "output_type": "stream",
     "text": [
      "video  v_PlayingDhol_g15_c01.avi  inferenced done.\n",
      "# of finished videos:  98\n",
      "# of finished directories:  2\n",
      "inferencing video:  v_PlayingDhol_g15_c02.avi  from  PlayingDhol  directory\n"
     ]
    },
    {
     "name": "stderr",
     "output_type": "stream",
     "text": [
      "[2018-07-27 15:44:01,403] [TfPoseEstimator-Video] [DEBUG] initialization mobilenet_thin : /home/MPLab/mplab006/tf_action_recognition/models/graph/mobilenet_thin/graph_opt.pb\n"
     ]
    },
    {
     "name": "stdout",
     "output_type": "stream",
     "text": [
      "video  v_PlayingDhol_g15_c02.avi  inferenced done.\n",
      "# of finished videos:  99\n",
      "# of finished directories:  2\n",
      "inferencing video:  v_PlayingDhol_g15_c03.avi  from  PlayingDhol  directory\n"
     ]
    },
    {
     "name": "stderr",
     "output_type": "stream",
     "text": [
      "[2018-07-27 15:44:02,291] [TfPoseEstimator-Video] [DEBUG] initialization mobilenet_thin : /home/MPLab/mplab006/tf_action_recognition/models/graph/mobilenet_thin/graph_opt.pb\n"
     ]
    },
    {
     "name": "stdout",
     "output_type": "stream",
     "text": [
      "video  v_PlayingDhol_g15_c03.avi  inferenced done.\n",
      "# of finished videos:  100\n",
      "# of finished directories:  2\n",
      "inferencing video:  v_PlayingDhol_g15_c04.avi  from  PlayingDhol  directory\n"
     ]
    },
    {
     "name": "stderr",
     "output_type": "stream",
     "text": [
      "[2018-07-27 15:44:03,155] [TfPoseEstimator-Video] [DEBUG] initialization mobilenet_thin : /home/MPLab/mplab006/tf_action_recognition/models/graph/mobilenet_thin/graph_opt.pb\n"
     ]
    },
    {
     "name": "stdout",
     "output_type": "stream",
     "text": [
      "video  v_PlayingDhol_g15_c04.avi  inferenced done.\n",
      "# of finished videos:  101\n",
      "# of finished directories:  2\n",
      "inferencing video:  v_PlayingDhol_g16_c01.avi  from  PlayingDhol  directory\n"
     ]
    },
    {
     "name": "stderr",
     "output_type": "stream",
     "text": [
      "[2018-07-27 15:44:04,037] [TfPoseEstimator-Video] [DEBUG] initialization mobilenet_thin : /home/MPLab/mplab006/tf_action_recognition/models/graph/mobilenet_thin/graph_opt.pb\n"
     ]
    },
    {
     "name": "stdout",
     "output_type": "stream",
     "text": [
      "video  v_PlayingDhol_g16_c01.avi  inferenced done.\n",
      "# of finished videos:  102\n",
      "# of finished directories:  2\n",
      "inferencing video:  v_PlayingDhol_g16_c02.avi  from  PlayingDhol  directory\n"
     ]
    },
    {
     "name": "stderr",
     "output_type": "stream",
     "text": [
      "[2018-07-27 15:44:04,877] [TfPoseEstimator-Video] [DEBUG] initialization mobilenet_thin : /home/MPLab/mplab006/tf_action_recognition/models/graph/mobilenet_thin/graph_opt.pb\n"
     ]
    },
    {
     "name": "stdout",
     "output_type": "stream",
     "text": [
      "video  v_PlayingDhol_g16_c02.avi  inferenced done.\n",
      "# of finished videos:  103\n",
      "# of finished directories:  2\n",
      "inferencing video:  v_PlayingDhol_g16_c03.avi  from  PlayingDhol  directory\n"
     ]
    },
    {
     "name": "stderr",
     "output_type": "stream",
     "text": [
      "[2018-07-27 15:44:05,768] [TfPoseEstimator-Video] [DEBUG] initialization mobilenet_thin : /home/MPLab/mplab006/tf_action_recognition/models/graph/mobilenet_thin/graph_opt.pb\n"
     ]
    },
    {
     "name": "stdout",
     "output_type": "stream",
     "text": [
      "video  v_PlayingDhol_g16_c03.avi  inferenced done.\n",
      "# of finished videos:  104\n",
      "# of finished directories:  2\n",
      "inferencing video:  v_PlayingDhol_g16_c04.avi  from  PlayingDhol  directory\n"
     ]
    },
    {
     "name": "stderr",
     "output_type": "stream",
     "text": [
      "[2018-07-27 15:44:06,634] [TfPoseEstimator-Video] [DEBUG] initialization mobilenet_thin : /home/MPLab/mplab006/tf_action_recognition/models/graph/mobilenet_thin/graph_opt.pb\n"
     ]
    },
    {
     "name": "stdout",
     "output_type": "stream",
     "text": [
      "video  v_PlayingDhol_g16_c04.avi  inferenced done.\n",
      "# of finished videos:  105\n",
      "# of finished directories:  2\n",
      "inferencing video:  v_PlayingDhol_g16_c05.avi  from  PlayingDhol  directory\n"
     ]
    },
    {
     "name": "stderr",
     "output_type": "stream",
     "text": [
      "[2018-07-27 15:44:07,542] [TfPoseEstimator-Video] [DEBUG] initialization mobilenet_thin : /home/MPLab/mplab006/tf_action_recognition/models/graph/mobilenet_thin/graph_opt.pb\n"
     ]
    },
    {
     "name": "stdout",
     "output_type": "stream",
     "text": [
      "video  v_PlayingDhol_g16_c05.avi  inferenced done.\n",
      "# of finished videos:  106\n",
      "# of finished directories:  2\n",
      "inferencing video:  v_PlayingDhol_g16_c06.avi  from  PlayingDhol  directory\n"
     ]
    },
    {
     "name": "stderr",
     "output_type": "stream",
     "text": [
      "[2018-07-27 15:44:08,447] [TfPoseEstimator-Video] [DEBUG] initialization mobilenet_thin : /home/MPLab/mplab006/tf_action_recognition/models/graph/mobilenet_thin/graph_opt.pb\n"
     ]
    },
    {
     "name": "stdout",
     "output_type": "stream",
     "text": [
      "video  v_PlayingDhol_g16_c06.avi  inferenced done.\n",
      "# of finished videos:  107\n",
      "# of finished directories:  2\n",
      "inferencing video:  v_PlayingDhol_g17_c01.avi  from  PlayingDhol  directory\n"
     ]
    },
    {
     "name": "stderr",
     "output_type": "stream",
     "text": [
      "[2018-07-27 15:44:09,312] [TfPoseEstimator-Video] [DEBUG] initialization mobilenet_thin : /home/MPLab/mplab006/tf_action_recognition/models/graph/mobilenet_thin/graph_opt.pb\n"
     ]
    },
    {
     "name": "stdout",
     "output_type": "stream",
     "text": [
      "video  v_PlayingDhol_g17_c01.avi  inferenced done.\n",
      "# of finished videos:  108\n",
      "# of finished directories:  2\n",
      "inferencing video:  v_PlayingDhol_g17_c02.avi  from  PlayingDhol  directory\n"
     ]
    },
    {
     "name": "stderr",
     "output_type": "stream",
     "text": [
      "[2018-07-27 15:44:10,179] [TfPoseEstimator-Video] [DEBUG] initialization mobilenet_thin : /home/MPLab/mplab006/tf_action_recognition/models/graph/mobilenet_thin/graph_opt.pb\n"
     ]
    },
    {
     "name": "stdout",
     "output_type": "stream",
     "text": [
      "video  v_PlayingDhol_g17_c02.avi  inferenced done.\n",
      "# of finished videos:  109\n",
      "# of finished directories:  2\n",
      "inferencing video:  v_PlayingDhol_g17_c03.avi  from  PlayingDhol  directory\n"
     ]
    },
    {
     "name": "stderr",
     "output_type": "stream",
     "text": [
      "[2018-07-27 15:44:11,005] [TfPoseEstimator-Video] [DEBUG] initialization mobilenet_thin : /home/MPLab/mplab006/tf_action_recognition/models/graph/mobilenet_thin/graph_opt.pb\n"
     ]
    },
    {
     "name": "stdout",
     "output_type": "stream",
     "text": [
      "video  v_PlayingDhol_g17_c03.avi  inferenced done.\n",
      "# of finished videos:  110\n",
      "# of finished directories:  2\n",
      "inferencing video:  v_PlayingDhol_g17_c04.avi  from  PlayingDhol  directory\n"
     ]
    },
    {
     "name": "stderr",
     "output_type": "stream",
     "text": [
      "[2018-07-27 15:44:11,875] [TfPoseEstimator-Video] [DEBUG] initialization mobilenet_thin : /home/MPLab/mplab006/tf_action_recognition/models/graph/mobilenet_thin/graph_opt.pb\n"
     ]
    },
    {
     "name": "stdout",
     "output_type": "stream",
     "text": [
      "video  v_PlayingDhol_g17_c04.avi  inferenced done.\n",
      "# of finished videos:  111\n",
      "# of finished directories:  2\n",
      "inferencing video:  v_PlayingDhol_g17_c05.avi  from  PlayingDhol  directory\n"
     ]
    },
    {
     "name": "stderr",
     "output_type": "stream",
     "text": [
      "[2018-07-27 15:44:12,745] [TfPoseEstimator-Video] [DEBUG] initialization mobilenet_thin : /home/MPLab/mplab006/tf_action_recognition/models/graph/mobilenet_thin/graph_opt.pb\n"
     ]
    },
    {
     "name": "stdout",
     "output_type": "stream",
     "text": [
      "video  v_PlayingDhol_g17_c05.avi  inferenced done.\n",
      "# of finished videos:  112\n",
      "# of finished directories:  2\n",
      "inferencing video:  v_PlayingDhol_g17_c06.avi  from  PlayingDhol  directory\n"
     ]
    },
    {
     "name": "stderr",
     "output_type": "stream",
     "text": [
      "[2018-07-27 15:44:13,602] [TfPoseEstimator-Video] [DEBUG] initialization mobilenet_thin : /home/MPLab/mplab006/tf_action_recognition/models/graph/mobilenet_thin/graph_opt.pb\n"
     ]
    },
    {
     "name": "stdout",
     "output_type": "stream",
     "text": [
      "video  v_PlayingDhol_g17_c06.avi  inferenced done.\n",
      "# of finished videos:  113\n",
      "# of finished directories:  2\n",
      "inferencing video:  v_PlayingDhol_g17_c07.avi  from  PlayingDhol  directory\n"
     ]
    },
    {
     "name": "stderr",
     "output_type": "stream",
     "text": [
      "[2018-07-27 15:44:14,468] [TfPoseEstimator-Video] [DEBUG] initialization mobilenet_thin : /home/MPLab/mplab006/tf_action_recognition/models/graph/mobilenet_thin/graph_opt.pb\n"
     ]
    },
    {
     "name": "stdout",
     "output_type": "stream",
     "text": [
      "video  v_PlayingDhol_g17_c07.avi  inferenced done.\n",
      "# of finished videos:  114\n",
      "# of finished directories:  2\n",
      "inferencing video:  v_PlayingDhol_g18_c01.avi  from  PlayingDhol  directory\n"
     ]
    },
    {
     "name": "stderr",
     "output_type": "stream",
     "text": [
      "[2018-07-27 15:44:15,377] [TfPoseEstimator-Video] [DEBUG] initialization mobilenet_thin : /home/MPLab/mplab006/tf_action_recognition/models/graph/mobilenet_thin/graph_opt.pb\n"
     ]
    },
    {
     "name": "stdout",
     "output_type": "stream",
     "text": [
      "video  v_PlayingDhol_g18_c01.avi  inferenced done.\n",
      "# of finished videos:  115\n",
      "# of finished directories:  2\n",
      "inferencing video:  v_PlayingDhol_g18_c02.avi  from  PlayingDhol  directory\n"
     ]
    },
    {
     "name": "stderr",
     "output_type": "stream",
     "text": [
      "[2018-07-27 15:44:16,273] [TfPoseEstimator-Video] [DEBUG] initialization mobilenet_thin : /home/MPLab/mplab006/tf_action_recognition/models/graph/mobilenet_thin/graph_opt.pb\n"
     ]
    },
    {
     "name": "stdout",
     "output_type": "stream",
     "text": [
      "video  v_PlayingDhol_g18_c02.avi  inferenced done.\n",
      "# of finished videos:  116\n",
      "# of finished directories:  2\n",
      "inferencing video:  v_PlayingDhol_g18_c03.avi  from  PlayingDhol  directory\n"
     ]
    },
    {
     "name": "stderr",
     "output_type": "stream",
     "text": [
      "[2018-07-27 15:44:17,191] [TfPoseEstimator-Video] [DEBUG] initialization mobilenet_thin : /home/MPLab/mplab006/tf_action_recognition/models/graph/mobilenet_thin/graph_opt.pb\n"
     ]
    },
    {
     "name": "stdout",
     "output_type": "stream",
     "text": [
      "video  v_PlayingDhol_g18_c03.avi  inferenced done.\n",
      "# of finished videos:  117\n",
      "# of finished directories:  2\n",
      "inferencing video:  v_PlayingDhol_g18_c04.avi  from  PlayingDhol  directory\n"
     ]
    },
    {
     "name": "stderr",
     "output_type": "stream",
     "text": [
      "[2018-07-27 15:44:18,072] [TfPoseEstimator-Video] [DEBUG] initialization mobilenet_thin : /home/MPLab/mplab006/tf_action_recognition/models/graph/mobilenet_thin/graph_opt.pb\n"
     ]
    },
    {
     "name": "stdout",
     "output_type": "stream",
     "text": [
      "video  v_PlayingDhol_g18_c04.avi  inferenced done.\n",
      "# of finished videos:  118\n",
      "# of finished directories:  2\n",
      "inferencing video:  v_PlayingDhol_g18_c05.avi  from  PlayingDhol  directory\n"
     ]
    },
    {
     "name": "stderr",
     "output_type": "stream",
     "text": [
      "[2018-07-27 15:44:18,946] [TfPoseEstimator-Video] [DEBUG] initialization mobilenet_thin : /home/MPLab/mplab006/tf_action_recognition/models/graph/mobilenet_thin/graph_opt.pb\n"
     ]
    },
    {
     "name": "stdout",
     "output_type": "stream",
     "text": [
      "video  v_PlayingDhol_g18_c05.avi  inferenced done.\n",
      "# of finished videos:  119\n",
      "# of finished directories:  2\n",
      "inferencing video:  v_PlayingDhol_g18_c06.avi  from  PlayingDhol  directory\n"
     ]
    },
    {
     "name": "stderr",
     "output_type": "stream",
     "text": [
      "[2018-07-27 15:44:19,798] [TfPoseEstimator-Video] [DEBUG] initialization mobilenet_thin : /home/MPLab/mplab006/tf_action_recognition/models/graph/mobilenet_thin/graph_opt.pb\n"
     ]
    },
    {
     "name": "stdout",
     "output_type": "stream",
     "text": [
      "video  v_PlayingDhol_g18_c06.avi  inferenced done.\n",
      "# of finished videos:  120\n",
      "# of finished directories:  2\n",
      "inferencing video:  v_PlayingDhol_g19_c01.avi  from  PlayingDhol  directory\n"
     ]
    },
    {
     "name": "stderr",
     "output_type": "stream",
     "text": [
      "[2018-07-27 15:44:20,720] [TfPoseEstimator-Video] [DEBUG] initialization mobilenet_thin : /home/MPLab/mplab006/tf_action_recognition/models/graph/mobilenet_thin/graph_opt.pb\n"
     ]
    },
    {
     "name": "stdout",
     "output_type": "stream",
     "text": [
      "video  v_PlayingDhol_g19_c01.avi  inferenced done.\n",
      "# of finished videos:  121\n",
      "# of finished directories:  2\n",
      "inferencing video:  v_PlayingDhol_g19_c02.avi  from  PlayingDhol  directory\n"
     ]
    },
    {
     "name": "stderr",
     "output_type": "stream",
     "text": [
      "[2018-07-27 15:44:21,578] [TfPoseEstimator-Video] [DEBUG] initialization mobilenet_thin : /home/MPLab/mplab006/tf_action_recognition/models/graph/mobilenet_thin/graph_opt.pb\n"
     ]
    },
    {
     "name": "stdout",
     "output_type": "stream",
     "text": [
      "video  v_PlayingDhol_g19_c02.avi  inferenced done.\n",
      "# of finished videos:  122\n",
      "# of finished directories:  2\n",
      "inferencing video:  v_PlayingDhol_g19_c03.avi  from  PlayingDhol  directory\n"
     ]
    },
    {
     "name": "stderr",
     "output_type": "stream",
     "text": [
      "[2018-07-27 15:44:22,445] [TfPoseEstimator-Video] [DEBUG] initialization mobilenet_thin : /home/MPLab/mplab006/tf_action_recognition/models/graph/mobilenet_thin/graph_opt.pb\n"
     ]
    },
    {
     "name": "stdout",
     "output_type": "stream",
     "text": [
      "video  v_PlayingDhol_g19_c03.avi  inferenced done.\n",
      "# of finished videos:  123\n",
      "# of finished directories:  2\n",
      "inferencing video:  v_PlayingDhol_g19_c04.avi  from  PlayingDhol  directory\n"
     ]
    },
    {
     "name": "stderr",
     "output_type": "stream",
     "text": [
      "[2018-07-27 15:44:23,312] [TfPoseEstimator-Video] [DEBUG] initialization mobilenet_thin : /home/MPLab/mplab006/tf_action_recognition/models/graph/mobilenet_thin/graph_opt.pb\n"
     ]
    },
    {
     "name": "stdout",
     "output_type": "stream",
     "text": [
      "video  v_PlayingDhol_g19_c04.avi  inferenced done.\n",
      "# of finished videos:  124\n",
      "# of finished directories:  2\n",
      "inferencing video:  v_PlayingDhol_g19_c05.avi  from  PlayingDhol  directory\n"
     ]
    },
    {
     "name": "stderr",
     "output_type": "stream",
     "text": [
      "[2018-07-27 15:44:24,190] [TfPoseEstimator-Video] [DEBUG] initialization mobilenet_thin : /home/MPLab/mplab006/tf_action_recognition/models/graph/mobilenet_thin/graph_opt.pb\n"
     ]
    },
    {
     "name": "stdout",
     "output_type": "stream",
     "text": [
      "video  v_PlayingDhol_g19_c05.avi  inferenced done.\n",
      "# of finished videos:  125\n",
      "# of finished directories:  2\n",
      "inferencing video:  v_PlayingDhol_g19_c06.avi  from  PlayingDhol  directory\n"
     ]
    },
    {
     "name": "stderr",
     "output_type": "stream",
     "text": [
      "[2018-07-27 15:44:25,043] [TfPoseEstimator-Video] [DEBUG] initialization mobilenet_thin : /home/MPLab/mplab006/tf_action_recognition/models/graph/mobilenet_thin/graph_opt.pb\n"
     ]
    },
    {
     "name": "stdout",
     "output_type": "stream",
     "text": [
      "video  v_PlayingDhol_g19_c06.avi  inferenced done.\n",
      "# of finished videos:  126\n",
      "# of finished directories:  2\n",
      "inferencing video:  v_PlayingDhol_g19_c07.avi  from  PlayingDhol  directory\n"
     ]
    },
    {
     "name": "stderr",
     "output_type": "stream",
     "text": [
      "[2018-07-27 15:44:25,909] [TfPoseEstimator-Video] [DEBUG] initialization mobilenet_thin : /home/MPLab/mplab006/tf_action_recognition/models/graph/mobilenet_thin/graph_opt.pb\n"
     ]
    },
    {
     "name": "stdout",
     "output_type": "stream",
     "text": [
      "video  v_PlayingDhol_g19_c07.avi  inferenced done.\n",
      "# of finished videos:  127\n",
      "# of finished directories:  2\n",
      "inferencing video:  v_PlayingDhol_g20_c01.avi  from  PlayingDhol  directory\n"
     ]
    },
    {
     "name": "stderr",
     "output_type": "stream",
     "text": [
      "[2018-07-27 15:44:26,760] [TfPoseEstimator-Video] [DEBUG] initialization mobilenet_thin : /home/MPLab/mplab006/tf_action_recognition/models/graph/mobilenet_thin/graph_opt.pb\n"
     ]
    },
    {
     "name": "stdout",
     "output_type": "stream",
     "text": [
      "video  v_PlayingDhol_g20_c01.avi  inferenced done.\n",
      "# of finished videos:  128\n",
      "# of finished directories:  2\n",
      "inferencing video:  v_PlayingDhol_g20_c02.avi  from  PlayingDhol  directory\n"
     ]
    },
    {
     "name": "stderr",
     "output_type": "stream",
     "text": [
      "[2018-07-27 15:44:27,610] [TfPoseEstimator-Video] [DEBUG] initialization mobilenet_thin : /home/MPLab/mplab006/tf_action_recognition/models/graph/mobilenet_thin/graph_opt.pb\n"
     ]
    },
    {
     "name": "stdout",
     "output_type": "stream",
     "text": [
      "video  v_PlayingDhol_g20_c02.avi  inferenced done.\n",
      "# of finished videos:  129\n",
      "# of finished directories:  2\n",
      "inferencing video:  v_PlayingDhol_g20_c03.avi  from  PlayingDhol  directory\n"
     ]
    },
    {
     "name": "stderr",
     "output_type": "stream",
     "text": [
      "[2018-07-27 15:44:28,447] [TfPoseEstimator-Video] [DEBUG] initialization mobilenet_thin : /home/MPLab/mplab006/tf_action_recognition/models/graph/mobilenet_thin/graph_opt.pb\n"
     ]
    },
    {
     "name": "stdout",
     "output_type": "stream",
     "text": [
      "video  v_PlayingDhol_g20_c03.avi  inferenced done.\n",
      "# of finished videos:  130\n",
      "# of finished directories:  2\n",
      "inferencing video:  v_PlayingDhol_g20_c04.avi  from  PlayingDhol  directory\n"
     ]
    },
    {
     "name": "stderr",
     "output_type": "stream",
     "text": [
      "[2018-07-27 15:44:29,333] [TfPoseEstimator-Video] [DEBUG] initialization mobilenet_thin : /home/MPLab/mplab006/tf_action_recognition/models/graph/mobilenet_thin/graph_opt.pb\n"
     ]
    },
    {
     "name": "stdout",
     "output_type": "stream",
     "text": [
      "video  v_PlayingDhol_g20_c04.avi  inferenced done.\n",
      "# of finished videos:  131\n",
      "# of finished directories:  2\n",
      "inferencing video:  v_PlayingDhol_g21_c01.avi  from  PlayingDhol  directory\n"
     ]
    },
    {
     "name": "stderr",
     "output_type": "stream",
     "text": [
      "[2018-07-27 15:44:30,255] [TfPoseEstimator-Video] [DEBUG] initialization mobilenet_thin : /home/MPLab/mplab006/tf_action_recognition/models/graph/mobilenet_thin/graph_opt.pb\n"
     ]
    },
    {
     "name": "stdout",
     "output_type": "stream",
     "text": [
      "video  v_PlayingDhol_g21_c01.avi  inferenced done.\n",
      "# of finished videos:  132\n",
      "# of finished directories:  2\n",
      "inferencing video:  v_PlayingDhol_g21_c02.avi  from  PlayingDhol  directory\n"
     ]
    },
    {
     "name": "stderr",
     "output_type": "stream",
     "text": [
      "[2018-07-27 15:44:31,370] [TfPoseEstimator-Video] [DEBUG] initialization mobilenet_thin : /home/MPLab/mplab006/tf_action_recognition/models/graph/mobilenet_thin/graph_opt.pb\n"
     ]
    },
    {
     "name": "stdout",
     "output_type": "stream",
     "text": [
      "video  v_PlayingDhol_g21_c02.avi  inferenced done.\n",
      "# of finished videos:  133\n",
      "# of finished directories:  2\n",
      "inferencing video:  v_PlayingDhol_g21_c03.avi  from  PlayingDhol  directory\n"
     ]
    },
    {
     "name": "stderr",
     "output_type": "stream",
     "text": [
      "[2018-07-27 15:44:32,329] [TfPoseEstimator-Video] [DEBUG] initialization mobilenet_thin : /home/MPLab/mplab006/tf_action_recognition/models/graph/mobilenet_thin/graph_opt.pb\n"
     ]
    },
    {
     "name": "stdout",
     "output_type": "stream",
     "text": [
      "video  v_PlayingDhol_g21_c03.avi  inferenced done.\n",
      "# of finished videos:  134\n",
      "# of finished directories:  2\n",
      "inferencing video:  v_PlayingDhol_g21_c04.avi  from  PlayingDhol  directory\n"
     ]
    },
    {
     "name": "stderr",
     "output_type": "stream",
     "text": [
      "[2018-07-27 15:44:33,210] [TfPoseEstimator-Video] [DEBUG] initialization mobilenet_thin : /home/MPLab/mplab006/tf_action_recognition/models/graph/mobilenet_thin/graph_opt.pb\n"
     ]
    },
    {
     "name": "stdout",
     "output_type": "stream",
     "text": [
      "video  v_PlayingDhol_g21_c04.avi  inferenced done.\n",
      "# of finished videos:  135\n",
      "# of finished directories:  2\n",
      "inferencing video:  v_PlayingDhol_g21_c05.avi  from  PlayingDhol  directory\n"
     ]
    },
    {
     "name": "stderr",
     "output_type": "stream",
     "text": [
      "[2018-07-27 15:44:34,109] [TfPoseEstimator-Video] [DEBUG] initialization mobilenet_thin : /home/MPLab/mplab006/tf_action_recognition/models/graph/mobilenet_thin/graph_opt.pb\n"
     ]
    },
    {
     "name": "stdout",
     "output_type": "stream",
     "text": [
      "video  v_PlayingDhol_g21_c05.avi  inferenced done.\n",
      "# of finished videos:  136\n",
      "# of finished directories:  2\n",
      "inferencing video:  v_PlayingDhol_g21_c06.avi  from  PlayingDhol  directory\n"
     ]
    },
    {
     "name": "stderr",
     "output_type": "stream",
     "text": [
      "[2018-07-27 15:44:34,955] [TfPoseEstimator-Video] [DEBUG] initialization mobilenet_thin : /home/MPLab/mplab006/tf_action_recognition/models/graph/mobilenet_thin/graph_opt.pb\n"
     ]
    },
    {
     "name": "stdout",
     "output_type": "stream",
     "text": [
      "video  v_PlayingDhol_g21_c06.avi  inferenced done.\n",
      "# of finished videos:  137\n",
      "# of finished directories:  2\n",
      "inferencing video:  v_PlayingDhol_g21_c07.avi  from  PlayingDhol  directory\n"
     ]
    },
    {
     "name": "stderr",
     "output_type": "stream",
     "text": [
      "[2018-07-27 15:44:35,806] [TfPoseEstimator-Video] [DEBUG] initialization mobilenet_thin : /home/MPLab/mplab006/tf_action_recognition/models/graph/mobilenet_thin/graph_opt.pb\n"
     ]
    },
    {
     "name": "stdout",
     "output_type": "stream",
     "text": [
      "video  v_PlayingDhol_g21_c07.avi  inferenced done.\n",
      "# of finished videos:  138\n",
      "# of finished directories:  2\n",
      "inferencing video:  v_PlayingDhol_g22_c01.avi  from  PlayingDhol  directory\n"
     ]
    },
    {
     "name": "stderr",
     "output_type": "stream",
     "text": [
      "[2018-07-27 15:44:36,688] [TfPoseEstimator-Video] [DEBUG] initialization mobilenet_thin : /home/MPLab/mplab006/tf_action_recognition/models/graph/mobilenet_thin/graph_opt.pb\n"
     ]
    },
    {
     "name": "stdout",
     "output_type": "stream",
     "text": [
      "video  v_PlayingDhol_g22_c01.avi  inferenced done.\n",
      "# of finished videos:  139\n",
      "# of finished directories:  2\n",
      "inferencing video:  v_PlayingDhol_g22_c02.avi  from  PlayingDhol  directory\n"
     ]
    },
    {
     "name": "stderr",
     "output_type": "stream",
     "text": [
      "[2018-07-27 15:44:37,565] [TfPoseEstimator-Video] [DEBUG] initialization mobilenet_thin : /home/MPLab/mplab006/tf_action_recognition/models/graph/mobilenet_thin/graph_opt.pb\n"
     ]
    },
    {
     "name": "stdout",
     "output_type": "stream",
     "text": [
      "video  v_PlayingDhol_g22_c02.avi  inferenced done.\n",
      "# of finished videos:  140\n",
      "# of finished directories:  2\n",
      "inferencing video:  v_PlayingDhol_g22_c03.avi  from  PlayingDhol  directory\n"
     ]
    },
    {
     "name": "stderr",
     "output_type": "stream",
     "text": [
      "[2018-07-27 15:44:38,453] [TfPoseEstimator-Video] [DEBUG] initialization mobilenet_thin : /home/MPLab/mplab006/tf_action_recognition/models/graph/mobilenet_thin/graph_opt.pb\n"
     ]
    },
    {
     "name": "stdout",
     "output_type": "stream",
     "text": [
      "video  v_PlayingDhol_g22_c03.avi  inferenced done.\n",
      "# of finished videos:  141\n",
      "# of finished directories:  2\n",
      "inferencing video:  v_PlayingDhol_g22_c04.avi  from  PlayingDhol  directory\n"
     ]
    },
    {
     "name": "stderr",
     "output_type": "stream",
     "text": [
      "[2018-07-27 15:44:39,330] [TfPoseEstimator-Video] [DEBUG] initialization mobilenet_thin : /home/MPLab/mplab006/tf_action_recognition/models/graph/mobilenet_thin/graph_opt.pb\n"
     ]
    },
    {
     "name": "stdout",
     "output_type": "stream",
     "text": [
      "video  v_PlayingDhol_g22_c04.avi  inferenced done.\n",
      "# of finished videos:  142\n",
      "# of finished directories:  2\n",
      "inferencing video:  v_PlayingDhol_g22_c05.avi  from  PlayingDhol  directory\n"
     ]
    },
    {
     "name": "stderr",
     "output_type": "stream",
     "text": [
      "[2018-07-27 15:44:40,235] [TfPoseEstimator-Video] [DEBUG] initialization mobilenet_thin : /home/MPLab/mplab006/tf_action_recognition/models/graph/mobilenet_thin/graph_opt.pb\n"
     ]
    },
    {
     "name": "stdout",
     "output_type": "stream",
     "text": [
      "video  v_PlayingDhol_g22_c05.avi  inferenced done.\n",
      "# of finished videos:  143\n",
      "# of finished directories:  2\n",
      "inferencing video:  v_PlayingDhol_g22_c06.avi  from  PlayingDhol  directory\n"
     ]
    },
    {
     "name": "stderr",
     "output_type": "stream",
     "text": [
      "[2018-07-27 15:44:41,122] [TfPoseEstimator-Video] [DEBUG] initialization mobilenet_thin : /home/MPLab/mplab006/tf_action_recognition/models/graph/mobilenet_thin/graph_opt.pb\n"
     ]
    },
    {
     "name": "stdout",
     "output_type": "stream",
     "text": [
      "video  v_PlayingDhol_g22_c06.avi  inferenced done.\n",
      "# of finished videos:  144\n",
      "# of finished directories:  2\n",
      "inferencing video:  v_PlayingDhol_g22_c07.avi  from  PlayingDhol  directory\n"
     ]
    },
    {
     "name": "stderr",
     "output_type": "stream",
     "text": [
      "[2018-07-27 15:44:41,981] [TfPoseEstimator-Video] [DEBUG] initialization mobilenet_thin : /home/MPLab/mplab006/tf_action_recognition/models/graph/mobilenet_thin/graph_opt.pb\n"
     ]
    },
    {
     "name": "stdout",
     "output_type": "stream",
     "text": [
      "video  v_PlayingDhol_g22_c07.avi  inferenced done.\n",
      "# of finished videos:  145\n",
      "# of finished directories:  2\n",
      "inferencing video:  v_PlayingDhol_g23_c01.avi  from  PlayingDhol  directory\n"
     ]
    },
    {
     "name": "stderr",
     "output_type": "stream",
     "text": [
      "[2018-07-27 15:44:42,868] [TfPoseEstimator-Video] [DEBUG] initialization mobilenet_thin : /home/MPLab/mplab006/tf_action_recognition/models/graph/mobilenet_thin/graph_opt.pb\n"
     ]
    },
    {
     "name": "stdout",
     "output_type": "stream",
     "text": [
      "video  v_PlayingDhol_g23_c01.avi  inferenced done.\n",
      "# of finished videos:  146\n",
      "# of finished directories:  2\n",
      "inferencing video:  v_PlayingDhol_g23_c02.avi  from  PlayingDhol  directory\n"
     ]
    },
    {
     "name": "stderr",
     "output_type": "stream",
     "text": [
      "[2018-07-27 15:44:43,748] [TfPoseEstimator-Video] [DEBUG] initialization mobilenet_thin : /home/MPLab/mplab006/tf_action_recognition/models/graph/mobilenet_thin/graph_opt.pb\n"
     ]
    },
    {
     "name": "stdout",
     "output_type": "stream",
     "text": [
      "video  v_PlayingDhol_g23_c02.avi  inferenced done.\n",
      "# of finished videos:  147\n",
      "# of finished directories:  2\n",
      "inferencing video:  v_PlayingDhol_g23_c03.avi  from  PlayingDhol  directory\n"
     ]
    },
    {
     "name": "stderr",
     "output_type": "stream",
     "text": [
      "[2018-07-27 15:44:44,618] [TfPoseEstimator-Video] [DEBUG] initialization mobilenet_thin : /home/MPLab/mplab006/tf_action_recognition/models/graph/mobilenet_thin/graph_opt.pb\n"
     ]
    },
    {
     "name": "stdout",
     "output_type": "stream",
     "text": [
      "video  v_PlayingDhol_g23_c03.avi  inferenced done.\n",
      "# of finished videos:  148\n",
      "# of finished directories:  2\n",
      "inferencing video:  v_PlayingDhol_g23_c04.avi  from  PlayingDhol  directory\n"
     ]
    },
    {
     "name": "stderr",
     "output_type": "stream",
     "text": [
      "[2018-07-27 15:44:45,490] [TfPoseEstimator-Video] [DEBUG] initialization mobilenet_thin : /home/MPLab/mplab006/tf_action_recognition/models/graph/mobilenet_thin/graph_opt.pb\n"
     ]
    },
    {
     "name": "stdout",
     "output_type": "stream",
     "text": [
      "video  v_PlayingDhol_g23_c04.avi  inferenced done.\n",
      "# of finished videos:  149\n",
      "# of finished directories:  2\n",
      "inferencing video:  v_PlayingDhol_g23_c05.avi  from  PlayingDhol  directory\n"
     ]
    },
    {
     "name": "stderr",
     "output_type": "stream",
     "text": [
      "[2018-07-27 15:44:46,322] [TfPoseEstimator-Video] [DEBUG] initialization mobilenet_thin : /home/MPLab/mplab006/tf_action_recognition/models/graph/mobilenet_thin/graph_opt.pb\n"
     ]
    },
    {
     "name": "stdout",
     "output_type": "stream",
     "text": [
      "video  v_PlayingDhol_g23_c05.avi  inferenced done.\n",
      "# of finished videos:  150\n",
      "# of finished directories:  2\n",
      "inferencing video:  v_PlayingDhol_g23_c06.avi  from  PlayingDhol  directory\n"
     ]
    },
    {
     "name": "stderr",
     "output_type": "stream",
     "text": [
      "[2018-07-27 15:44:47,217] [TfPoseEstimator-Video] [DEBUG] initialization mobilenet_thin : /home/MPLab/mplab006/tf_action_recognition/models/graph/mobilenet_thin/graph_opt.pb\n"
     ]
    },
    {
     "name": "stdout",
     "output_type": "stream",
     "text": [
      "video  v_PlayingDhol_g23_c06.avi  inferenced done.\n",
      "# of finished videos:  151\n",
      "# of finished directories:  2\n",
      "inferencing video:  v_PlayingDhol_g23_c07.avi  from  PlayingDhol  directory\n"
     ]
    },
    {
     "name": "stderr",
     "output_type": "stream",
     "text": [
      "[2018-07-27 15:44:48,091] [TfPoseEstimator-Video] [DEBUG] initialization mobilenet_thin : /home/MPLab/mplab006/tf_action_recognition/models/graph/mobilenet_thin/graph_opt.pb\n"
     ]
    },
    {
     "name": "stdout",
     "output_type": "stream",
     "text": [
      "video  v_PlayingDhol_g23_c07.avi  inferenced done.\n",
      "# of finished videos:  152\n",
      "# of finished directories:  2\n",
      "inferencing video:  v_PlayingDhol_g24_c01.avi  from  PlayingDhol  directory\n"
     ]
    },
    {
     "name": "stderr",
     "output_type": "stream",
     "text": [
      "[2018-07-27 15:44:49,008] [TfPoseEstimator-Video] [DEBUG] initialization mobilenet_thin : /home/MPLab/mplab006/tf_action_recognition/models/graph/mobilenet_thin/graph_opt.pb\n"
     ]
    },
    {
     "name": "stdout",
     "output_type": "stream",
     "text": [
      "video  v_PlayingDhol_g24_c01.avi  inferenced done.\n",
      "# of finished videos:  153\n",
      "# of finished directories:  2\n",
      "inferencing video:  v_PlayingDhol_g24_c02.avi  from  PlayingDhol  directory\n"
     ]
    },
    {
     "name": "stderr",
     "output_type": "stream",
     "text": [
      "[2018-07-27 15:44:49,912] [TfPoseEstimator-Video] [DEBUG] initialization mobilenet_thin : /home/MPLab/mplab006/tf_action_recognition/models/graph/mobilenet_thin/graph_opt.pb\n"
     ]
    },
    {
     "name": "stdout",
     "output_type": "stream",
     "text": [
      "video  v_PlayingDhol_g24_c02.avi  inferenced done.\n",
      "# of finished videos:  154\n",
      "# of finished directories:  2\n",
      "inferencing video:  v_PlayingDhol_g24_c03.avi  from  PlayingDhol  directory\n"
     ]
    },
    {
     "name": "stderr",
     "output_type": "stream",
     "text": [
      "[2018-07-27 15:44:50,777] [TfPoseEstimator-Video] [DEBUG] initialization mobilenet_thin : /home/MPLab/mplab006/tf_action_recognition/models/graph/mobilenet_thin/graph_opt.pb\n"
     ]
    },
    {
     "name": "stdout",
     "output_type": "stream",
     "text": [
      "video  v_PlayingDhol_g24_c03.avi  inferenced done.\n",
      "# of finished videos:  155\n",
      "# of finished directories:  2\n",
      "inferencing video:  v_PlayingDhol_g24_c04.avi  from  PlayingDhol  directory\n"
     ]
    },
    {
     "name": "stderr",
     "output_type": "stream",
     "text": [
      "[2018-07-27 15:44:51,689] [TfPoseEstimator-Video] [DEBUG] initialization mobilenet_thin : /home/MPLab/mplab006/tf_action_recognition/models/graph/mobilenet_thin/graph_opt.pb\n"
     ]
    },
    {
     "name": "stdout",
     "output_type": "stream",
     "text": [
      "video  v_PlayingDhol_g24_c04.avi  inferenced done.\n",
      "# of finished videos:  156\n",
      "# of finished directories:  2\n",
      "inferencing video:  v_PlayingDhol_g24_c05.avi  from  PlayingDhol  directory\n"
     ]
    },
    {
     "name": "stderr",
     "output_type": "stream",
     "text": [
      "[2018-07-27 15:44:52,576] [TfPoseEstimator-Video] [DEBUG] initialization mobilenet_thin : /home/MPLab/mplab006/tf_action_recognition/models/graph/mobilenet_thin/graph_opt.pb\n"
     ]
    },
    {
     "name": "stdout",
     "output_type": "stream",
     "text": [
      "video  v_PlayingDhol_g24_c05.avi  inferenced done.\n",
      "# of finished videos:  157\n",
      "# of finished directories:  2\n",
      "inferencing video:  v_PlayingDhol_g25_c01.avi  from  PlayingDhol  directory\n"
     ]
    },
    {
     "name": "stderr",
     "output_type": "stream",
     "text": [
      "[2018-07-27 15:44:53,448] [TfPoseEstimator-Video] [DEBUG] initialization mobilenet_thin : /home/MPLab/mplab006/tf_action_recognition/models/graph/mobilenet_thin/graph_opt.pb\n"
     ]
    },
    {
     "name": "stdout",
     "output_type": "stream",
     "text": [
      "video  v_PlayingDhol_g25_c01.avi  inferenced done.\n",
      "# of finished videos:  158\n",
      "# of finished directories:  2\n",
      "inferencing video:  v_PlayingDhol_g25_c02.avi  from  PlayingDhol  directory\n"
     ]
    },
    {
     "name": "stderr",
     "output_type": "stream",
     "text": [
      "[2018-07-27 15:44:54,362] [TfPoseEstimator-Video] [DEBUG] initialization mobilenet_thin : /home/MPLab/mplab006/tf_action_recognition/models/graph/mobilenet_thin/graph_opt.pb\n"
     ]
    },
    {
     "name": "stdout",
     "output_type": "stream",
     "text": [
      "video  v_PlayingDhol_g25_c02.avi  inferenced done.\n",
      "# of finished videos:  159\n",
      "# of finished directories:  2\n",
      "inferencing video:  v_PlayingDhol_g25_c03.avi  from  PlayingDhol  directory\n"
     ]
    },
    {
     "name": "stderr",
     "output_type": "stream",
     "text": [
      "[2018-07-27 15:44:55,230] [TfPoseEstimator-Video] [DEBUG] initialization mobilenet_thin : /home/MPLab/mplab006/tf_action_recognition/models/graph/mobilenet_thin/graph_opt.pb\n"
     ]
    },
    {
     "name": "stdout",
     "output_type": "stream",
     "text": [
      "video  v_PlayingDhol_g25_c03.avi  inferenced done.\n",
      "# of finished videos:  160\n",
      "# of finished directories:  2\n",
      "inferencing video:  v_PlayingDhol_g25_c04.avi  from  PlayingDhol  directory\n"
     ]
    },
    {
     "name": "stderr",
     "output_type": "stream",
     "text": [
      "[2018-07-27 15:44:56,153] [TfPoseEstimator-Video] [DEBUG] initialization mobilenet_thin : /home/MPLab/mplab006/tf_action_recognition/models/graph/mobilenet_thin/graph_opt.pb\n"
     ]
    },
    {
     "name": "stdout",
     "output_type": "stream",
     "text": [
      "video  v_PlayingDhol_g25_c04.avi  inferenced done.\n",
      "# of finished videos:  161\n",
      "# of finished directories:  2\n",
      "inferencing video:  v_PlayingDhol_g25_c05.avi  from  PlayingDhol  directory\n"
     ]
    },
    {
     "name": "stderr",
     "output_type": "stream",
     "text": [
      "[2018-07-27 15:44:57,019] [TfPoseEstimator-Video] [DEBUG] initialization mobilenet_thin : /home/MPLab/mplab006/tf_action_recognition/models/graph/mobilenet_thin/graph_opt.pb\n"
     ]
    },
    {
     "name": "stdout",
     "output_type": "stream",
     "text": [
      "video  v_PlayingDhol_g25_c05.avi  inferenced done.\n",
      "# of finished videos:  162\n",
      "# of finished directories:  2\n",
      "inferencing video:  v_PlayingDhol_g25_c06.avi  from  PlayingDhol  directory\n"
     ]
    },
    {
     "name": "stderr",
     "output_type": "stream",
     "text": [
      "[2018-07-27 15:44:57,871] [TfPoseEstimator-Video] [DEBUG] initialization mobilenet_thin : /home/MPLab/mplab006/tf_action_recognition/models/graph/mobilenet_thin/graph_opt.pb\n"
     ]
    },
    {
     "name": "stdout",
     "output_type": "stream",
     "text": [
      "video  v_PlayingDhol_g25_c06.avi  inferenced done.\n",
      "# of finished videos:  163\n",
      "# of finished directories:  2\n",
      "inferencing video:  v_PlayingDhol_g25_c07.avi  from  PlayingDhol  directory\n"
     ]
    },
    {
     "name": "stderr",
     "output_type": "stream",
     "text": [
      "[2018-07-27 15:44:58,756] [TfPoseEstimator-Video] [DEBUG] initialization mobilenet_thin : /home/MPLab/mplab006/tf_action_recognition/models/graph/mobilenet_thin/graph_opt.pb\n"
     ]
    },
    {
     "name": "stdout",
     "output_type": "stream",
     "text": [
      "video  v_PlayingDhol_g25_c07.avi  inferenced done.\n",
      "# of finished videos:  164\n",
      "# of finished directories:  2\n",
      "inferencing video:  v_PlayingFlute_g01_c01.avi  from  PlayingFlute  directory\n"
     ]
    },
    {
     "name": "stderr",
     "output_type": "stream",
     "text": [
      "[2018-07-27 15:44:59,636] [TfPoseEstimator-Video] [DEBUG] initialization mobilenet_thin : /home/MPLab/mplab006/tf_action_recognition/models/graph/mobilenet_thin/graph_opt.pb\n"
     ]
    },
    {
     "name": "stdout",
     "output_type": "stream",
     "text": [
      "video  v_PlayingFlute_g01_c01.avi  inferenced done.\n",
      "# of finished videos:  1\n",
      "# of finished directories:  3\n",
      "inferencing video:  v_PlayingFlute_g01_c02.avi  from  PlayingFlute  directory\n"
     ]
    },
    {
     "name": "stderr",
     "output_type": "stream",
     "text": [
      "[2018-07-27 15:45:00,524] [TfPoseEstimator-Video] [DEBUG] initialization mobilenet_thin : /home/MPLab/mplab006/tf_action_recognition/models/graph/mobilenet_thin/graph_opt.pb\n"
     ]
    },
    {
     "name": "stdout",
     "output_type": "stream",
     "text": [
      "video  v_PlayingFlute_g01_c02.avi  inferenced done.\n",
      "# of finished videos:  2\n",
      "# of finished directories:  3\n",
      "inferencing video:  v_PlayingFlute_g01_c03.avi  from  PlayingFlute  directory\n"
     ]
    },
    {
     "name": "stderr",
     "output_type": "stream",
     "text": [
      "[2018-07-27 15:45:01,415] [TfPoseEstimator-Video] [DEBUG] initialization mobilenet_thin : /home/MPLab/mplab006/tf_action_recognition/models/graph/mobilenet_thin/graph_opt.pb\n"
     ]
    },
    {
     "name": "stdout",
     "output_type": "stream",
     "text": [
      "video  v_PlayingFlute_g01_c03.avi  inferenced done.\n",
      "# of finished videos:  3\n",
      "# of finished directories:  3\n",
      "inferencing video:  v_PlayingFlute_g01_c04.avi  from  PlayingFlute  directory\n"
     ]
    },
    {
     "name": "stderr",
     "output_type": "stream",
     "text": [
      "[2018-07-27 15:45:02,274] [TfPoseEstimator-Video] [DEBUG] initialization mobilenet_thin : /home/MPLab/mplab006/tf_action_recognition/models/graph/mobilenet_thin/graph_opt.pb\n"
     ]
    },
    {
     "name": "stdout",
     "output_type": "stream",
     "text": [
      "video  v_PlayingFlute_g01_c04.avi  inferenced done.\n",
      "# of finished videos:  4\n",
      "# of finished directories:  3\n",
      "inferencing video:  v_PlayingFlute_g01_c05.avi  from  PlayingFlute  directory\n"
     ]
    },
    {
     "name": "stderr",
     "output_type": "stream",
     "text": [
      "[2018-07-27 15:45:03,178] [TfPoseEstimator-Video] [DEBUG] initialization mobilenet_thin : /home/MPLab/mplab006/tf_action_recognition/models/graph/mobilenet_thin/graph_opt.pb\n"
     ]
    },
    {
     "name": "stdout",
     "output_type": "stream",
     "text": [
      "video  v_PlayingFlute_g01_c05.avi  inferenced done.\n",
      "# of finished videos:  5\n",
      "# of finished directories:  3\n",
      "inferencing video:  v_PlayingFlute_g01_c06.avi  from  PlayingFlute  directory\n"
     ]
    },
    {
     "name": "stderr",
     "output_type": "stream",
     "text": [
      "[2018-07-27 15:45:04,047] [TfPoseEstimator-Video] [DEBUG] initialization mobilenet_thin : /home/MPLab/mplab006/tf_action_recognition/models/graph/mobilenet_thin/graph_opt.pb\n"
     ]
    },
    {
     "name": "stdout",
     "output_type": "stream",
     "text": [
      "video  v_PlayingFlute_g01_c06.avi  inferenced done.\n",
      "# of finished videos:  6\n",
      "# of finished directories:  3\n",
      "inferencing video:  v_PlayingFlute_g01_c07.avi  from  PlayingFlute  directory\n"
     ]
    },
    {
     "name": "stderr",
     "output_type": "stream",
     "text": [
      "[2018-07-27 15:45:04,975] [TfPoseEstimator-Video] [DEBUG] initialization mobilenet_thin : /home/MPLab/mplab006/tf_action_recognition/models/graph/mobilenet_thin/graph_opt.pb\n"
     ]
    },
    {
     "name": "stdout",
     "output_type": "stream",
     "text": [
      "video  v_PlayingFlute_g01_c07.avi  inferenced done.\n",
      "# of finished videos:  7\n",
      "# of finished directories:  3\n",
      "inferencing video:  v_PlayingFlute_g02_c01.avi  from  PlayingFlute  directory\n"
     ]
    },
    {
     "name": "stderr",
     "output_type": "stream",
     "text": [
      "[2018-07-27 15:45:05,816] [TfPoseEstimator-Video] [DEBUG] initialization mobilenet_thin : /home/MPLab/mplab006/tf_action_recognition/models/graph/mobilenet_thin/graph_opt.pb\n"
     ]
    },
    {
     "name": "stdout",
     "output_type": "stream",
     "text": [
      "video  v_PlayingFlute_g02_c01.avi  inferenced done.\n",
      "# of finished videos:  8\n",
      "# of finished directories:  3\n",
      "inferencing video:  v_PlayingFlute_g02_c02.avi  from  PlayingFlute  directory\n"
     ]
    },
    {
     "name": "stderr",
     "output_type": "stream",
     "text": [
      "[2018-07-27 15:45:06,661] [TfPoseEstimator-Video] [DEBUG] initialization mobilenet_thin : /home/MPLab/mplab006/tf_action_recognition/models/graph/mobilenet_thin/graph_opt.pb\n"
     ]
    },
    {
     "name": "stdout",
     "output_type": "stream",
     "text": [
      "video  v_PlayingFlute_g02_c02.avi  inferenced done.\n",
      "# of finished videos:  9\n",
      "# of finished directories:  3\n",
      "inferencing video:  v_PlayingFlute_g02_c03.avi  from  PlayingFlute  directory\n"
     ]
    },
    {
     "name": "stderr",
     "output_type": "stream",
     "text": [
      "[2018-07-27 15:45:07,526] [TfPoseEstimator-Video] [DEBUG] initialization mobilenet_thin : /home/MPLab/mplab006/tf_action_recognition/models/graph/mobilenet_thin/graph_opt.pb\n"
     ]
    },
    {
     "name": "stdout",
     "output_type": "stream",
     "text": [
      "video  v_PlayingFlute_g02_c03.avi  inferenced done.\n",
      "# of finished videos:  10\n",
      "# of finished directories:  3\n",
      "inferencing video:  v_PlayingFlute_g02_c04.avi  from  PlayingFlute  directory\n"
     ]
    },
    {
     "name": "stderr",
     "output_type": "stream",
     "text": [
      "[2018-07-27 15:45:08,438] [TfPoseEstimator-Video] [DEBUG] initialization mobilenet_thin : /home/MPLab/mplab006/tf_action_recognition/models/graph/mobilenet_thin/graph_opt.pb\n"
     ]
    },
    {
     "name": "stdout",
     "output_type": "stream",
     "text": [
      "video  v_PlayingFlute_g02_c04.avi  inferenced done.\n",
      "# of finished videos:  11\n",
      "# of finished directories:  3\n",
      "inferencing video:  v_PlayingFlute_g02_c05.avi  from  PlayingFlute  directory\n"
     ]
    },
    {
     "name": "stderr",
     "output_type": "stream",
     "text": [
      "[2018-07-27 15:45:09,339] [TfPoseEstimator-Video] [DEBUG] initialization mobilenet_thin : /home/MPLab/mplab006/tf_action_recognition/models/graph/mobilenet_thin/graph_opt.pb\n"
     ]
    },
    {
     "name": "stdout",
     "output_type": "stream",
     "text": [
      "video  v_PlayingFlute_g02_c05.avi  inferenced done.\n",
      "# of finished videos:  12\n",
      "# of finished directories:  3\n",
      "inferencing video:  v_PlayingFlute_g02_c06.avi  from  PlayingFlute  directory\n"
     ]
    },
    {
     "name": "stderr",
     "output_type": "stream",
     "text": [
      "[2018-07-27 15:45:10,171] [TfPoseEstimator-Video] [DEBUG] initialization mobilenet_thin : /home/MPLab/mplab006/tf_action_recognition/models/graph/mobilenet_thin/graph_opt.pb\n"
     ]
    },
    {
     "name": "stdout",
     "output_type": "stream",
     "text": [
      "video  v_PlayingFlute_g02_c06.avi  inferenced done.\n",
      "# of finished videos:  13\n",
      "# of finished directories:  3\n",
      "inferencing video:  v_PlayingFlute_g02_c07.avi  from  PlayingFlute  directory\n"
     ]
    },
    {
     "name": "stderr",
     "output_type": "stream",
     "text": [
      "[2018-07-27 15:45:11,045] [TfPoseEstimator-Video] [DEBUG] initialization mobilenet_thin : /home/MPLab/mplab006/tf_action_recognition/models/graph/mobilenet_thin/graph_opt.pb\n"
     ]
    },
    {
     "name": "stdout",
     "output_type": "stream",
     "text": [
      "video  v_PlayingFlute_g02_c07.avi  inferenced done.\n",
      "# of finished videos:  14\n",
      "# of finished directories:  3\n",
      "inferencing video:  v_PlayingFlute_g03_c01.avi  from  PlayingFlute  directory\n"
     ]
    },
    {
     "name": "stderr",
     "output_type": "stream",
     "text": [
      "[2018-07-27 15:45:11,895] [TfPoseEstimator-Video] [DEBUG] initialization mobilenet_thin : /home/MPLab/mplab006/tf_action_recognition/models/graph/mobilenet_thin/graph_opt.pb\n"
     ]
    },
    {
     "name": "stdout",
     "output_type": "stream",
     "text": [
      "video  v_PlayingFlute_g03_c01.avi  inferenced done.\n",
      "# of finished videos:  15\n",
      "# of finished directories:  3\n",
      "inferencing video:  v_PlayingFlute_g03_c02.avi  from  PlayingFlute  directory\n"
     ]
    },
    {
     "name": "stderr",
     "output_type": "stream",
     "text": [
      "[2018-07-27 15:45:12,806] [TfPoseEstimator-Video] [DEBUG] initialization mobilenet_thin : /home/MPLab/mplab006/tf_action_recognition/models/graph/mobilenet_thin/graph_opt.pb\n"
     ]
    },
    {
     "name": "stdout",
     "output_type": "stream",
     "text": [
      "video  v_PlayingFlute_g03_c02.avi  inferenced done.\n",
      "# of finished videos:  16\n",
      "# of finished directories:  3\n",
      "inferencing video:  v_PlayingFlute_g03_c03.avi  from  PlayingFlute  directory\n"
     ]
    },
    {
     "name": "stderr",
     "output_type": "stream",
     "text": [
      "[2018-07-27 15:45:13,693] [TfPoseEstimator-Video] [DEBUG] initialization mobilenet_thin : /home/MPLab/mplab006/tf_action_recognition/models/graph/mobilenet_thin/graph_opt.pb\n"
     ]
    },
    {
     "name": "stdout",
     "output_type": "stream",
     "text": [
      "video  v_PlayingFlute_g03_c03.avi  inferenced done.\n",
      "# of finished videos:  17\n",
      "# of finished directories:  3\n",
      "inferencing video:  v_PlayingFlute_g03_c04.avi  from  PlayingFlute  directory\n"
     ]
    },
    {
     "name": "stderr",
     "output_type": "stream",
     "text": [
      "[2018-07-27 15:45:14,575] [TfPoseEstimator-Video] [DEBUG] initialization mobilenet_thin : /home/MPLab/mplab006/tf_action_recognition/models/graph/mobilenet_thin/graph_opt.pb\n"
     ]
    },
    {
     "name": "stdout",
     "output_type": "stream",
     "text": [
      "video  v_PlayingFlute_g03_c04.avi  inferenced done.\n",
      "# of finished videos:  18\n",
      "# of finished directories:  3\n",
      "inferencing video:  v_PlayingFlute_g03_c05.avi  from  PlayingFlute  directory\n"
     ]
    },
    {
     "name": "stderr",
     "output_type": "stream",
     "text": [
      "[2018-07-27 15:45:15,423] [TfPoseEstimator-Video] [DEBUG] initialization mobilenet_thin : /home/MPLab/mplab006/tf_action_recognition/models/graph/mobilenet_thin/graph_opt.pb\n"
     ]
    },
    {
     "name": "stdout",
     "output_type": "stream",
     "text": [
      "video  v_PlayingFlute_g03_c05.avi  inferenced done.\n",
      "# of finished videos:  19\n",
      "# of finished directories:  3\n",
      "inferencing video:  v_PlayingFlute_g03_c06.avi  from  PlayingFlute  directory\n"
     ]
    },
    {
     "name": "stderr",
     "output_type": "stream",
     "text": [
      "[2018-07-27 15:45:16,259] [TfPoseEstimator-Video] [DEBUG] initialization mobilenet_thin : /home/MPLab/mplab006/tf_action_recognition/models/graph/mobilenet_thin/graph_opt.pb\n"
     ]
    },
    {
     "name": "stdout",
     "output_type": "stream",
     "text": [
      "video  v_PlayingFlute_g03_c06.avi  inferenced done.\n",
      "# of finished videos:  20\n",
      "# of finished directories:  3\n",
      "inferencing video:  v_PlayingFlute_g03_c07.avi  from  PlayingFlute  directory\n"
     ]
    },
    {
     "name": "stderr",
     "output_type": "stream",
     "text": [
      "[2018-07-27 15:45:17,106] [TfPoseEstimator-Video] [DEBUG] initialization mobilenet_thin : /home/MPLab/mplab006/tf_action_recognition/models/graph/mobilenet_thin/graph_opt.pb\n"
     ]
    },
    {
     "name": "stdout",
     "output_type": "stream",
     "text": [
      "video  v_PlayingFlute_g03_c07.avi  inferenced done.\n",
      "# of finished videos:  21\n",
      "# of finished directories:  3\n",
      "inferencing video:  v_PlayingFlute_g04_c01.avi  from  PlayingFlute  directory\n"
     ]
    },
    {
     "name": "stderr",
     "output_type": "stream",
     "text": [
      "[2018-07-27 15:45:17,964] [TfPoseEstimator-Video] [DEBUG] initialization mobilenet_thin : /home/MPLab/mplab006/tf_action_recognition/models/graph/mobilenet_thin/graph_opt.pb\n"
     ]
    },
    {
     "name": "stdout",
     "output_type": "stream",
     "text": [
      "video  v_PlayingFlute_g04_c01.avi  inferenced done.\n",
      "# of finished videos:  22\n",
      "# of finished directories:  3\n",
      "inferencing video:  v_PlayingFlute_g04_c02.avi  from  PlayingFlute  directory\n"
     ]
    },
    {
     "name": "stderr",
     "output_type": "stream",
     "text": [
      "[2018-07-27 15:45:18,858] [TfPoseEstimator-Video] [DEBUG] initialization mobilenet_thin : /home/MPLab/mplab006/tf_action_recognition/models/graph/mobilenet_thin/graph_opt.pb\n"
     ]
    },
    {
     "name": "stdout",
     "output_type": "stream",
     "text": [
      "video  v_PlayingFlute_g04_c02.avi  inferenced done.\n",
      "# of finished videos:  23\n",
      "# of finished directories:  3\n",
      "inferencing video:  v_PlayingFlute_g04_c03.avi  from  PlayingFlute  directory\n"
     ]
    },
    {
     "name": "stderr",
     "output_type": "stream",
     "text": [
      "[2018-07-27 15:45:19,711] [TfPoseEstimator-Video] [DEBUG] initialization mobilenet_thin : /home/MPLab/mplab006/tf_action_recognition/models/graph/mobilenet_thin/graph_opt.pb\n"
     ]
    },
    {
     "name": "stdout",
     "output_type": "stream",
     "text": [
      "video  v_PlayingFlute_g04_c03.avi  inferenced done.\n",
      "# of finished videos:  24\n",
      "# of finished directories:  3\n",
      "inferencing video:  v_PlayingFlute_g04_c04.avi  from  PlayingFlute  directory\n"
     ]
    },
    {
     "name": "stderr",
     "output_type": "stream",
     "text": [
      "[2018-07-27 15:45:20,602] [TfPoseEstimator-Video] [DEBUG] initialization mobilenet_thin : /home/MPLab/mplab006/tf_action_recognition/models/graph/mobilenet_thin/graph_opt.pb\n"
     ]
    },
    {
     "name": "stdout",
     "output_type": "stream",
     "text": [
      "video  v_PlayingFlute_g04_c04.avi  inferenced done.\n",
      "# of finished videos:  25\n",
      "# of finished directories:  3\n",
      "inferencing video:  v_PlayingFlute_g04_c05.avi  from  PlayingFlute  directory\n"
     ]
    },
    {
     "name": "stderr",
     "output_type": "stream",
     "text": [
      "[2018-07-27 15:45:21,485] [TfPoseEstimator-Video] [DEBUG] initialization mobilenet_thin : /home/MPLab/mplab006/tf_action_recognition/models/graph/mobilenet_thin/graph_opt.pb\n"
     ]
    },
    {
     "name": "stdout",
     "output_type": "stream",
     "text": [
      "video  v_PlayingFlute_g04_c05.avi  inferenced done.\n",
      "# of finished videos:  26\n",
      "# of finished directories:  3\n",
      "inferencing video:  v_PlayingFlute_g04_c06.avi  from  PlayingFlute  directory\n"
     ]
    },
    {
     "name": "stderr",
     "output_type": "stream",
     "text": [
      "[2018-07-27 15:45:22,351] [TfPoseEstimator-Video] [DEBUG] initialization mobilenet_thin : /home/MPLab/mplab006/tf_action_recognition/models/graph/mobilenet_thin/graph_opt.pb\n"
     ]
    },
    {
     "name": "stdout",
     "output_type": "stream",
     "text": [
      "video  v_PlayingFlute_g04_c06.avi  inferenced done.\n",
      "# of finished videos:  27\n",
      "# of finished directories:  3\n",
      "inferencing video:  v_PlayingFlute_g04_c07.avi  from  PlayingFlute  directory\n"
     ]
    },
    {
     "name": "stderr",
     "output_type": "stream",
     "text": [
      "[2018-07-27 15:45:23,219] [TfPoseEstimator-Video] [DEBUG] initialization mobilenet_thin : /home/MPLab/mplab006/tf_action_recognition/models/graph/mobilenet_thin/graph_opt.pb\n"
     ]
    },
    {
     "name": "stdout",
     "output_type": "stream",
     "text": [
      "video  v_PlayingFlute_g04_c07.avi  inferenced done.\n",
      "# of finished videos:  28\n",
      "# of finished directories:  3\n",
      "inferencing video:  v_PlayingFlute_g05_c01.avi  from  PlayingFlute  directory\n"
     ]
    },
    {
     "name": "stderr",
     "output_type": "stream",
     "text": [
      "[2018-07-27 15:45:24,071] [TfPoseEstimator-Video] [DEBUG] initialization mobilenet_thin : /home/MPLab/mplab006/tf_action_recognition/models/graph/mobilenet_thin/graph_opt.pb\n"
     ]
    },
    {
     "name": "stdout",
     "output_type": "stream",
     "text": [
      "video  v_PlayingFlute_g05_c01.avi  inferenced done.\n",
      "# of finished videos:  29\n",
      "# of finished directories:  3\n",
      "inferencing video:  v_PlayingFlute_g05_c02.avi  from  PlayingFlute  directory\n"
     ]
    },
    {
     "name": "stderr",
     "output_type": "stream",
     "text": [
      "[2018-07-27 15:45:24,942] [TfPoseEstimator-Video] [DEBUG] initialization mobilenet_thin : /home/MPLab/mplab006/tf_action_recognition/models/graph/mobilenet_thin/graph_opt.pb\n"
     ]
    },
    {
     "name": "stdout",
     "output_type": "stream",
     "text": [
      "video  v_PlayingFlute_g05_c02.avi  inferenced done.\n",
      "# of finished videos:  30\n",
      "# of finished directories:  3\n",
      "inferencing video:  v_PlayingFlute_g05_c03.avi  from  PlayingFlute  directory\n"
     ]
    },
    {
     "name": "stderr",
     "output_type": "stream",
     "text": [
      "[2018-07-27 15:45:25,798] [TfPoseEstimator-Video] [DEBUG] initialization mobilenet_thin : /home/MPLab/mplab006/tf_action_recognition/models/graph/mobilenet_thin/graph_opt.pb\n"
     ]
    },
    {
     "name": "stdout",
     "output_type": "stream",
     "text": [
      "video  v_PlayingFlute_g05_c03.avi  inferenced done.\n",
      "# of finished videos:  31\n",
      "# of finished directories:  3\n",
      "inferencing video:  v_PlayingFlute_g05_c04.avi  from  PlayingFlute  directory\n"
     ]
    },
    {
     "name": "stderr",
     "output_type": "stream",
     "text": [
      "[2018-07-27 15:45:26,650] [TfPoseEstimator-Video] [DEBUG] initialization mobilenet_thin : /home/MPLab/mplab006/tf_action_recognition/models/graph/mobilenet_thin/graph_opt.pb\n"
     ]
    },
    {
     "name": "stdout",
     "output_type": "stream",
     "text": [
      "video  v_PlayingFlute_g05_c04.avi  inferenced done.\n",
      "# of finished videos:  32\n",
      "# of finished directories:  3\n",
      "inferencing video:  v_PlayingFlute_g05_c05.avi  from  PlayingFlute  directory\n"
     ]
    },
    {
     "name": "stderr",
     "output_type": "stream",
     "text": [
      "[2018-07-27 15:45:27,496] [TfPoseEstimator-Video] [DEBUG] initialization mobilenet_thin : /home/MPLab/mplab006/tf_action_recognition/models/graph/mobilenet_thin/graph_opt.pb\n"
     ]
    },
    {
     "name": "stdout",
     "output_type": "stream",
     "text": [
      "video  v_PlayingFlute_g05_c05.avi  inferenced done.\n",
      "# of finished videos:  33\n",
      "# of finished directories:  3\n",
      "inferencing video:  v_PlayingFlute_g05_c06.avi  from  PlayingFlute  directory\n"
     ]
    },
    {
     "name": "stderr",
     "output_type": "stream",
     "text": [
      "[2018-07-27 15:45:28,349] [TfPoseEstimator-Video] [DEBUG] initialization mobilenet_thin : /home/MPLab/mplab006/tf_action_recognition/models/graph/mobilenet_thin/graph_opt.pb\n"
     ]
    },
    {
     "name": "stdout",
     "output_type": "stream",
     "text": [
      "video  v_PlayingFlute_g05_c06.avi  inferenced done.\n",
      "# of finished videos:  34\n",
      "# of finished directories:  3\n",
      "inferencing video:  v_PlayingFlute_g05_c07.avi  from  PlayingFlute  directory\n"
     ]
    },
    {
     "name": "stderr",
     "output_type": "stream",
     "text": [
      "[2018-07-27 15:45:29,192] [TfPoseEstimator-Video] [DEBUG] initialization mobilenet_thin : /home/MPLab/mplab006/tf_action_recognition/models/graph/mobilenet_thin/graph_opt.pb\n"
     ]
    },
    {
     "name": "stdout",
     "output_type": "stream",
     "text": [
      "video  v_PlayingFlute_g05_c07.avi  inferenced done.\n",
      "# of finished videos:  35\n",
      "# of finished directories:  3\n",
      "inferencing video:  v_PlayingFlute_g06_c01.avi  from  PlayingFlute  directory\n"
     ]
    },
    {
     "name": "stderr",
     "output_type": "stream",
     "text": [
      "[2018-07-27 15:45:30,057] [TfPoseEstimator-Video] [DEBUG] initialization mobilenet_thin : /home/MPLab/mplab006/tf_action_recognition/models/graph/mobilenet_thin/graph_opt.pb\n"
     ]
    },
    {
     "name": "stdout",
     "output_type": "stream",
     "text": [
      "video  v_PlayingFlute_g06_c01.avi  inferenced done.\n",
      "# of finished videos:  36\n",
      "# of finished directories:  3\n",
      "inferencing video:  v_PlayingFlute_g06_c02.avi  from  PlayingFlute  directory\n"
     ]
    },
    {
     "name": "stderr",
     "output_type": "stream",
     "text": [
      "[2018-07-27 15:45:30,937] [TfPoseEstimator-Video] [DEBUG] initialization mobilenet_thin : /home/MPLab/mplab006/tf_action_recognition/models/graph/mobilenet_thin/graph_opt.pb\n"
     ]
    },
    {
     "name": "stdout",
     "output_type": "stream",
     "text": [
      "video  v_PlayingFlute_g06_c02.avi  inferenced done.\n",
      "# of finished videos:  37\n",
      "# of finished directories:  3\n",
      "inferencing video:  v_PlayingFlute_g06_c03.avi  from  PlayingFlute  directory\n"
     ]
    },
    {
     "name": "stderr",
     "output_type": "stream",
     "text": [
      "[2018-07-27 15:45:31,851] [TfPoseEstimator-Video] [DEBUG] initialization mobilenet_thin : /home/MPLab/mplab006/tf_action_recognition/models/graph/mobilenet_thin/graph_opt.pb\n"
     ]
    },
    {
     "name": "stdout",
     "output_type": "stream",
     "text": [
      "video  v_PlayingFlute_g06_c03.avi  inferenced done.\n",
      "# of finished videos:  38\n",
      "# of finished directories:  3\n",
      "inferencing video:  v_PlayingFlute_g06_c04.avi  from  PlayingFlute  directory\n"
     ]
    },
    {
     "name": "stderr",
     "output_type": "stream",
     "text": [
      "[2018-07-27 15:45:32,769] [TfPoseEstimator-Video] [DEBUG] initialization mobilenet_thin : /home/MPLab/mplab006/tf_action_recognition/models/graph/mobilenet_thin/graph_opt.pb\n"
     ]
    },
    {
     "name": "stdout",
     "output_type": "stream",
     "text": [
      "video  v_PlayingFlute_g06_c04.avi  inferenced done.\n",
      "# of finished videos:  39\n",
      "# of finished directories:  3\n",
      "inferencing video:  v_PlayingFlute_g06_c05.avi  from  PlayingFlute  directory\n"
     ]
    },
    {
     "name": "stderr",
     "output_type": "stream",
     "text": [
      "[2018-07-27 15:45:33,648] [TfPoseEstimator-Video] [DEBUG] initialization mobilenet_thin : /home/MPLab/mplab006/tf_action_recognition/models/graph/mobilenet_thin/graph_opt.pb\n"
     ]
    },
    {
     "name": "stdout",
     "output_type": "stream",
     "text": [
      "video  v_PlayingFlute_g06_c05.avi  inferenced done.\n",
      "# of finished videos:  40\n",
      "# of finished directories:  3\n",
      "inferencing video:  v_PlayingFlute_g06_c06.avi  from  PlayingFlute  directory\n"
     ]
    },
    {
     "name": "stderr",
     "output_type": "stream",
     "text": [
      "[2018-07-27 15:45:34,565] [TfPoseEstimator-Video] [DEBUG] initialization mobilenet_thin : /home/MPLab/mplab006/tf_action_recognition/models/graph/mobilenet_thin/graph_opt.pb\n"
     ]
    },
    {
     "name": "stdout",
     "output_type": "stream",
     "text": [
      "video  v_PlayingFlute_g06_c06.avi  inferenced done.\n",
      "# of finished videos:  41\n",
      "# of finished directories:  3\n",
      "inferencing video:  v_PlayingFlute_g07_c01.avi  from  PlayingFlute  directory\n"
     ]
    },
    {
     "name": "stderr",
     "output_type": "stream",
     "text": [
      "[2018-07-27 15:45:35,452] [TfPoseEstimator-Video] [DEBUG] initialization mobilenet_thin : /home/MPLab/mplab006/tf_action_recognition/models/graph/mobilenet_thin/graph_opt.pb\n"
     ]
    },
    {
     "name": "stdout",
     "output_type": "stream",
     "text": [
      "video  v_PlayingFlute_g07_c01.avi  inferenced done.\n",
      "# of finished videos:  42\n",
      "# of finished directories:  3\n",
      "inferencing video:  v_PlayingFlute_g07_c02.avi  from  PlayingFlute  directory\n"
     ]
    },
    {
     "name": "stderr",
     "output_type": "stream",
     "text": [
      "[2018-07-27 15:45:36,335] [TfPoseEstimator-Video] [DEBUG] initialization mobilenet_thin : /home/MPLab/mplab006/tf_action_recognition/models/graph/mobilenet_thin/graph_opt.pb\n"
     ]
    },
    {
     "name": "stdout",
     "output_type": "stream",
     "text": [
      "video  v_PlayingFlute_g07_c02.avi  inferenced done.\n",
      "# of finished videos:  43\n",
      "# of finished directories:  3\n",
      "inferencing video:  v_PlayingFlute_g07_c03.avi  from  PlayingFlute  directory\n"
     ]
    },
    {
     "name": "stderr",
     "output_type": "stream",
     "text": [
      "[2018-07-27 15:45:37,235] [TfPoseEstimator-Video] [DEBUG] initialization mobilenet_thin : /home/MPLab/mplab006/tf_action_recognition/models/graph/mobilenet_thin/graph_opt.pb\n"
     ]
    },
    {
     "name": "stdout",
     "output_type": "stream",
     "text": [
      "video  v_PlayingFlute_g07_c03.avi  inferenced done.\n",
      "# of finished videos:  44\n",
      "# of finished directories:  3\n",
      "inferencing video:  v_PlayingFlute_g07_c04.avi  from  PlayingFlute  directory\n"
     ]
    },
    {
     "name": "stderr",
     "output_type": "stream",
     "text": [
      "[2018-07-27 15:45:38,105] [TfPoseEstimator-Video] [DEBUG] initialization mobilenet_thin : /home/MPLab/mplab006/tf_action_recognition/models/graph/mobilenet_thin/graph_opt.pb\n"
     ]
    },
    {
     "name": "stdout",
     "output_type": "stream",
     "text": [
      "video  v_PlayingFlute_g07_c04.avi  inferenced done.\n",
      "# of finished videos:  45\n",
      "# of finished directories:  3\n",
      "inferencing video:  v_PlayingFlute_g07_c05.avi  from  PlayingFlute  directory\n"
     ]
    },
    {
     "name": "stderr",
     "output_type": "stream",
     "text": [
      "[2018-07-27 15:45:38,990] [TfPoseEstimator-Video] [DEBUG] initialization mobilenet_thin : /home/MPLab/mplab006/tf_action_recognition/models/graph/mobilenet_thin/graph_opt.pb\n"
     ]
    },
    {
     "name": "stdout",
     "output_type": "stream",
     "text": [
      "video  v_PlayingFlute_g07_c05.avi  inferenced done.\n",
      "# of finished videos:  46\n",
      "# of finished directories:  3\n",
      "inferencing video:  v_PlayingFlute_g07_c06.avi  from  PlayingFlute  directory\n"
     ]
    },
    {
     "name": "stderr",
     "output_type": "stream",
     "text": [
      "[2018-07-27 15:45:39,863] [TfPoseEstimator-Video] [DEBUG] initialization mobilenet_thin : /home/MPLab/mplab006/tf_action_recognition/models/graph/mobilenet_thin/graph_opt.pb\n"
     ]
    },
    {
     "name": "stdout",
     "output_type": "stream",
     "text": [
      "video  v_PlayingFlute_g07_c06.avi  inferenced done.\n",
      "# of finished videos:  47\n",
      "# of finished directories:  3\n",
      "inferencing video:  v_PlayingFlute_g07_c07.avi  from  PlayingFlute  directory\n"
     ]
    },
    {
     "name": "stderr",
     "output_type": "stream",
     "text": [
      "[2018-07-27 15:45:40,728] [TfPoseEstimator-Video] [DEBUG] initialization mobilenet_thin : /home/MPLab/mplab006/tf_action_recognition/models/graph/mobilenet_thin/graph_opt.pb\n"
     ]
    },
    {
     "name": "stdout",
     "output_type": "stream",
     "text": [
      "video  v_PlayingFlute_g07_c07.avi  inferenced done.\n",
      "# of finished videos:  48\n",
      "# of finished directories:  3\n",
      "inferencing video:  v_PlayingFlute_g08_c01.avi  from  PlayingFlute  directory\n"
     ]
    },
    {
     "name": "stderr",
     "output_type": "stream",
     "text": [
      "[2018-07-27 15:45:41,641] [TfPoseEstimator-Video] [DEBUG] initialization mobilenet_thin : /home/MPLab/mplab006/tf_action_recognition/models/graph/mobilenet_thin/graph_opt.pb\n"
     ]
    },
    {
     "name": "stdout",
     "output_type": "stream",
     "text": [
      "video  v_PlayingFlute_g08_c01.avi  inferenced done.\n",
      "# of finished videos:  49\n",
      "# of finished directories:  3\n",
      "inferencing video:  v_PlayingFlute_g08_c02.avi  from  PlayingFlute  directory\n"
     ]
    },
    {
     "name": "stderr",
     "output_type": "stream",
     "text": [
      "[2018-07-27 15:45:42,580] [TfPoseEstimator-Video] [DEBUG] initialization mobilenet_thin : /home/MPLab/mplab006/tf_action_recognition/models/graph/mobilenet_thin/graph_opt.pb\n"
     ]
    },
    {
     "name": "stdout",
     "output_type": "stream",
     "text": [
      "video  v_PlayingFlute_g08_c02.avi  inferenced done.\n",
      "# of finished videos:  50\n",
      "# of finished directories:  3\n",
      "inferencing video:  v_PlayingFlute_g08_c03.avi  from  PlayingFlute  directory\n"
     ]
    },
    {
     "name": "stderr",
     "output_type": "stream",
     "text": [
      "[2018-07-27 15:45:43,462] [TfPoseEstimator-Video] [DEBUG] initialization mobilenet_thin : /home/MPLab/mplab006/tf_action_recognition/models/graph/mobilenet_thin/graph_opt.pb\n"
     ]
    },
    {
     "name": "stdout",
     "output_type": "stream",
     "text": [
      "video  v_PlayingFlute_g08_c03.avi  inferenced done.\n",
      "# of finished videos:  51\n",
      "# of finished directories:  3\n",
      "inferencing video:  v_PlayingFlute_g08_c04.avi  from  PlayingFlute  directory\n"
     ]
    },
    {
     "name": "stderr",
     "output_type": "stream",
     "text": [
      "[2018-07-27 15:45:44,355] [TfPoseEstimator-Video] [DEBUG] initialization mobilenet_thin : /home/MPLab/mplab006/tf_action_recognition/models/graph/mobilenet_thin/graph_opt.pb\n"
     ]
    },
    {
     "name": "stdout",
     "output_type": "stream",
     "text": [
      "video  v_PlayingFlute_g08_c04.avi  inferenced done.\n",
      "# of finished videos:  52\n",
      "# of finished directories:  3\n",
      "inferencing video:  v_PlayingFlute_g08_c05.avi  from  PlayingFlute  directory\n"
     ]
    },
    {
     "name": "stderr",
     "output_type": "stream",
     "text": [
      "[2018-07-27 15:45:45,239] [TfPoseEstimator-Video] [DEBUG] initialization mobilenet_thin : /home/MPLab/mplab006/tf_action_recognition/models/graph/mobilenet_thin/graph_opt.pb\n"
     ]
    },
    {
     "name": "stdout",
     "output_type": "stream",
     "text": [
      "video  v_PlayingFlute_g08_c05.avi  inferenced done.\n",
      "# of finished videos:  53\n",
      "# of finished directories:  3\n",
      "inferencing video:  v_PlayingFlute_g08_c06.avi  from  PlayingFlute  directory\n"
     ]
    },
    {
     "name": "stderr",
     "output_type": "stream",
     "text": [
      "[2018-07-27 15:45:46,117] [TfPoseEstimator-Video] [DEBUG] initialization mobilenet_thin : /home/MPLab/mplab006/tf_action_recognition/models/graph/mobilenet_thin/graph_opt.pb\n"
     ]
    },
    {
     "name": "stdout",
     "output_type": "stream",
     "text": [
      "video  v_PlayingFlute_g08_c06.avi  inferenced done.\n",
      "# of finished videos:  54\n",
      "# of finished directories:  3\n",
      "inferencing video:  v_PlayingFlute_g08_c07.avi  from  PlayingFlute  directory\n"
     ]
    },
    {
     "name": "stderr",
     "output_type": "stream",
     "text": [
      "[2018-07-27 15:45:46,992] [TfPoseEstimator-Video] [DEBUG] initialization mobilenet_thin : /home/MPLab/mplab006/tf_action_recognition/models/graph/mobilenet_thin/graph_opt.pb\n"
     ]
    },
    {
     "name": "stdout",
     "output_type": "stream",
     "text": [
      "video  v_PlayingFlute_g08_c07.avi  inferenced done.\n",
      "# of finished videos:  55\n",
      "# of finished directories:  3\n",
      "inferencing video:  v_PlayingFlute_g09_c01.avi  from  PlayingFlute  directory\n"
     ]
    },
    {
     "name": "stderr",
     "output_type": "stream",
     "text": [
      "[2018-07-27 15:45:47,905] [TfPoseEstimator-Video] [DEBUG] initialization mobilenet_thin : /home/MPLab/mplab006/tf_action_recognition/models/graph/mobilenet_thin/graph_opt.pb\n"
     ]
    },
    {
     "name": "stdout",
     "output_type": "stream",
     "text": [
      "video  v_PlayingFlute_g09_c01.avi  inferenced done.\n",
      "# of finished videos:  56\n",
      "# of finished directories:  3\n",
      "inferencing video:  v_PlayingFlute_g09_c02.avi  from  PlayingFlute  directory\n"
     ]
    },
    {
     "name": "stderr",
     "output_type": "stream",
     "text": [
      "[2018-07-27 15:45:48,774] [TfPoseEstimator-Video] [DEBUG] initialization mobilenet_thin : /home/MPLab/mplab006/tf_action_recognition/models/graph/mobilenet_thin/graph_opt.pb\n"
     ]
    },
    {
     "name": "stdout",
     "output_type": "stream",
     "text": [
      "video  v_PlayingFlute_g09_c02.avi  inferenced done.\n",
      "# of finished videos:  57\n",
      "# of finished directories:  3\n",
      "inferencing video:  v_PlayingFlute_g09_c03.avi  from  PlayingFlute  directory\n"
     ]
    },
    {
     "name": "stderr",
     "output_type": "stream",
     "text": [
      "[2018-07-27 15:45:49,662] [TfPoseEstimator-Video] [DEBUG] initialization mobilenet_thin : /home/MPLab/mplab006/tf_action_recognition/models/graph/mobilenet_thin/graph_opt.pb\n"
     ]
    },
    {
     "name": "stdout",
     "output_type": "stream",
     "text": [
      "video  v_PlayingFlute_g09_c03.avi  inferenced done.\n",
      "# of finished videos:  58\n",
      "# of finished directories:  3\n",
      "inferencing video:  v_PlayingFlute_g09_c04.avi  from  PlayingFlute  directory\n"
     ]
    },
    {
     "name": "stderr",
     "output_type": "stream",
     "text": [
      "[2018-07-27 15:45:50,584] [TfPoseEstimator-Video] [DEBUG] initialization mobilenet_thin : /home/MPLab/mplab006/tf_action_recognition/models/graph/mobilenet_thin/graph_opt.pb\n"
     ]
    },
    {
     "name": "stdout",
     "output_type": "stream",
     "text": [
      "video  v_PlayingFlute_g09_c04.avi  inferenced done.\n",
      "# of finished videos:  59\n",
      "# of finished directories:  3\n",
      "inferencing video:  v_PlayingFlute_g09_c05.avi  from  PlayingFlute  directory\n"
     ]
    },
    {
     "name": "stderr",
     "output_type": "stream",
     "text": [
      "[2018-07-27 15:45:51,473] [TfPoseEstimator-Video] [DEBUG] initialization mobilenet_thin : /home/MPLab/mplab006/tf_action_recognition/models/graph/mobilenet_thin/graph_opt.pb\n"
     ]
    },
    {
     "name": "stdout",
     "output_type": "stream",
     "text": [
      "video  v_PlayingFlute_g09_c05.avi  inferenced done.\n",
      "# of finished videos:  60\n",
      "# of finished directories:  3\n",
      "inferencing video:  v_PlayingFlute_g09_c06.avi  from  PlayingFlute  directory\n"
     ]
    },
    {
     "name": "stderr",
     "output_type": "stream",
     "text": [
      "[2018-07-27 15:45:52,347] [TfPoseEstimator-Video] [DEBUG] initialization mobilenet_thin : /home/MPLab/mplab006/tf_action_recognition/models/graph/mobilenet_thin/graph_opt.pb\n"
     ]
    },
    {
     "name": "stdout",
     "output_type": "stream",
     "text": [
      "video  v_PlayingFlute_g09_c06.avi  inferenced done.\n",
      "# of finished videos:  61\n",
      "# of finished directories:  3\n",
      "inferencing video:  v_PlayingFlute_g09_c07.avi  from  PlayingFlute  directory\n"
     ]
    },
    {
     "name": "stderr",
     "output_type": "stream",
     "text": [
      "[2018-07-27 15:45:53,268] [TfPoseEstimator-Video] [DEBUG] initialization mobilenet_thin : /home/MPLab/mplab006/tf_action_recognition/models/graph/mobilenet_thin/graph_opt.pb\n"
     ]
    },
    {
     "name": "stdout",
     "output_type": "stream",
     "text": [
      "video  v_PlayingFlute_g09_c07.avi  inferenced done.\n",
      "# of finished videos:  62\n",
      "# of finished directories:  3\n",
      "inferencing video:  v_PlayingFlute_g10_c01.avi  from  PlayingFlute  directory\n"
     ]
    },
    {
     "name": "stderr",
     "output_type": "stream",
     "text": [
      "[2018-07-27 15:45:54,157] [TfPoseEstimator-Video] [DEBUG] initialization mobilenet_thin : /home/MPLab/mplab006/tf_action_recognition/models/graph/mobilenet_thin/graph_opt.pb\n"
     ]
    },
    {
     "name": "stdout",
     "output_type": "stream",
     "text": [
      "video  v_PlayingFlute_g10_c01.avi  inferenced done.\n",
      "# of finished videos:  63\n",
      "# of finished directories:  3\n",
      "inferencing video:  v_PlayingFlute_g10_c02.avi  from  PlayingFlute  directory\n"
     ]
    },
    {
     "name": "stderr",
     "output_type": "stream",
     "text": [
      "[2018-07-27 15:45:55,029] [TfPoseEstimator-Video] [DEBUG] initialization mobilenet_thin : /home/MPLab/mplab006/tf_action_recognition/models/graph/mobilenet_thin/graph_opt.pb\n"
     ]
    },
    {
     "name": "stdout",
     "output_type": "stream",
     "text": [
      "video  v_PlayingFlute_g10_c02.avi  inferenced done.\n",
      "# of finished videos:  64\n",
      "# of finished directories:  3\n",
      "inferencing video:  v_PlayingFlute_g10_c03.avi  from  PlayingFlute  directory\n"
     ]
    },
    {
     "name": "stderr",
     "output_type": "stream",
     "text": [
      "[2018-07-27 15:45:55,950] [TfPoseEstimator-Video] [DEBUG] initialization mobilenet_thin : /home/MPLab/mplab006/tf_action_recognition/models/graph/mobilenet_thin/graph_opt.pb\n"
     ]
    },
    {
     "name": "stdout",
     "output_type": "stream",
     "text": [
      "video  v_PlayingFlute_g10_c03.avi  inferenced done.\n",
      "# of finished videos:  65\n",
      "# of finished directories:  3\n",
      "inferencing video:  v_PlayingFlute_g10_c04.avi  from  PlayingFlute  directory\n"
     ]
    },
    {
     "name": "stderr",
     "output_type": "stream",
     "text": [
      "[2018-07-27 15:45:56,879] [TfPoseEstimator-Video] [DEBUG] initialization mobilenet_thin : /home/MPLab/mplab006/tf_action_recognition/models/graph/mobilenet_thin/graph_opt.pb\n"
     ]
    },
    {
     "name": "stdout",
     "output_type": "stream",
     "text": [
      "video  v_PlayingFlute_g10_c04.avi  inferenced done.\n",
      "# of finished videos:  66\n",
      "# of finished directories:  3\n",
      "inferencing video:  v_PlayingFlute_g10_c05.avi  from  PlayingFlute  directory\n"
     ]
    },
    {
     "name": "stderr",
     "output_type": "stream",
     "text": [
      "[2018-07-27 15:45:57,753] [TfPoseEstimator-Video] [DEBUG] initialization mobilenet_thin : /home/MPLab/mplab006/tf_action_recognition/models/graph/mobilenet_thin/graph_opt.pb\n"
     ]
    },
    {
     "name": "stdout",
     "output_type": "stream",
     "text": [
      "video  v_PlayingFlute_g10_c05.avi  inferenced done.\n",
      "# of finished videos:  67\n",
      "# of finished directories:  3\n",
      "inferencing video:  v_PlayingFlute_g10_c06.avi  from  PlayingFlute  directory\n"
     ]
    },
    {
     "name": "stderr",
     "output_type": "stream",
     "text": [
      "[2018-07-27 15:45:58,630] [TfPoseEstimator-Video] [DEBUG] initialization mobilenet_thin : /home/MPLab/mplab006/tf_action_recognition/models/graph/mobilenet_thin/graph_opt.pb\n"
     ]
    },
    {
     "name": "stdout",
     "output_type": "stream",
     "text": [
      "video  v_PlayingFlute_g10_c06.avi  inferenced done.\n",
      "# of finished videos:  68\n",
      "# of finished directories:  3\n",
      "inferencing video:  v_PlayingFlute_g11_c01.avi  from  PlayingFlute  directory\n"
     ]
    },
    {
     "name": "stderr",
     "output_type": "stream",
     "text": [
      "[2018-07-27 15:45:59,482] [TfPoseEstimator-Video] [DEBUG] initialization mobilenet_thin : /home/MPLab/mplab006/tf_action_recognition/models/graph/mobilenet_thin/graph_opt.pb\n"
     ]
    },
    {
     "name": "stdout",
     "output_type": "stream",
     "text": [
      "video  v_PlayingFlute_g11_c01.avi  inferenced done.\n",
      "# of finished videos:  69\n",
      "# of finished directories:  3\n",
      "inferencing video:  v_PlayingFlute_g11_c02.avi  from  PlayingFlute  directory\n"
     ]
    },
    {
     "name": "stderr",
     "output_type": "stream",
     "text": [
      "[2018-07-27 15:46:00,403] [TfPoseEstimator-Video] [DEBUG] initialization mobilenet_thin : /home/MPLab/mplab006/tf_action_recognition/models/graph/mobilenet_thin/graph_opt.pb\n"
     ]
    },
    {
     "name": "stdout",
     "output_type": "stream",
     "text": [
      "video  v_PlayingFlute_g11_c02.avi  inferenced done.\n",
      "# of finished videos:  70\n",
      "# of finished directories:  3\n",
      "inferencing video:  v_PlayingFlute_g11_c03.avi  from  PlayingFlute  directory\n"
     ]
    },
    {
     "name": "stderr",
     "output_type": "stream",
     "text": [
      "[2018-07-27 15:46:01,315] [TfPoseEstimator-Video] [DEBUG] initialization mobilenet_thin : /home/MPLab/mplab006/tf_action_recognition/models/graph/mobilenet_thin/graph_opt.pb\n"
     ]
    },
    {
     "name": "stdout",
     "output_type": "stream",
     "text": [
      "video  v_PlayingFlute_g11_c03.avi  inferenced done.\n",
      "# of finished videos:  71\n",
      "# of finished directories:  3\n",
      "inferencing video:  v_PlayingFlute_g11_c04.avi  from  PlayingFlute  directory\n"
     ]
    },
    {
     "name": "stderr",
     "output_type": "stream",
     "text": [
      "[2018-07-27 15:46:02,183] [TfPoseEstimator-Video] [DEBUG] initialization mobilenet_thin : /home/MPLab/mplab006/tf_action_recognition/models/graph/mobilenet_thin/graph_opt.pb\n"
     ]
    },
    {
     "name": "stdout",
     "output_type": "stream",
     "text": [
      "video  v_PlayingFlute_g11_c04.avi  inferenced done.\n",
      "# of finished videos:  72\n",
      "# of finished directories:  3\n",
      "inferencing video:  v_PlayingFlute_g11_c05.avi  from  PlayingFlute  directory\n"
     ]
    },
    {
     "name": "stderr",
     "output_type": "stream",
     "text": [
      "[2018-07-27 15:46:03,082] [TfPoseEstimator-Video] [DEBUG] initialization mobilenet_thin : /home/MPLab/mplab006/tf_action_recognition/models/graph/mobilenet_thin/graph_opt.pb\n"
     ]
    },
    {
     "name": "stdout",
     "output_type": "stream",
     "text": [
      "video  v_PlayingFlute_g11_c05.avi  inferenced done.\n",
      "# of finished videos:  73\n",
      "# of finished directories:  3\n",
      "inferencing video:  v_PlayingFlute_g11_c06.avi  from  PlayingFlute  directory\n"
     ]
    },
    {
     "name": "stderr",
     "output_type": "stream",
     "text": [
      "[2018-07-27 15:46:03,948] [TfPoseEstimator-Video] [DEBUG] initialization mobilenet_thin : /home/MPLab/mplab006/tf_action_recognition/models/graph/mobilenet_thin/graph_opt.pb\n"
     ]
    },
    {
     "name": "stdout",
     "output_type": "stream",
     "text": [
      "video  v_PlayingFlute_g11_c06.avi  inferenced done.\n",
      "# of finished videos:  74\n",
      "# of finished directories:  3\n",
      "inferencing video:  v_PlayingFlute_g12_c01.avi  from  PlayingFlute  directory\n"
     ]
    },
    {
     "name": "stderr",
     "output_type": "stream",
     "text": [
      "[2018-07-27 15:46:04,807] [TfPoseEstimator-Video] [DEBUG] initialization mobilenet_thin : /home/MPLab/mplab006/tf_action_recognition/models/graph/mobilenet_thin/graph_opt.pb\n"
     ]
    },
    {
     "name": "stdout",
     "output_type": "stream",
     "text": [
      "video  v_PlayingFlute_g12_c01.avi  inferenced done.\n",
      "# of finished videos:  75\n",
      "# of finished directories:  3\n",
      "inferencing video:  v_PlayingFlute_g12_c02.avi  from  PlayingFlute  directory\n"
     ]
    },
    {
     "name": "stderr",
     "output_type": "stream",
     "text": [
      "[2018-07-27 15:46:05,721] [TfPoseEstimator-Video] [DEBUG] initialization mobilenet_thin : /home/MPLab/mplab006/tf_action_recognition/models/graph/mobilenet_thin/graph_opt.pb\n"
     ]
    },
    {
     "name": "stdout",
     "output_type": "stream",
     "text": [
      "video  v_PlayingFlute_g12_c02.avi  inferenced done.\n",
      "# of finished videos:  76\n",
      "# of finished directories:  3\n",
      "inferencing video:  v_PlayingFlute_g12_c03.avi  from  PlayingFlute  directory\n"
     ]
    },
    {
     "name": "stderr",
     "output_type": "stream",
     "text": [
      "[2018-07-27 15:46:06,632] [TfPoseEstimator-Video] [DEBUG] initialization mobilenet_thin : /home/MPLab/mplab006/tf_action_recognition/models/graph/mobilenet_thin/graph_opt.pb\n"
     ]
    },
    {
     "name": "stdout",
     "output_type": "stream",
     "text": [
      "video  v_PlayingFlute_g12_c03.avi  inferenced done.\n",
      "# of finished videos:  77\n",
      "# of finished directories:  3\n",
      "inferencing video:  v_PlayingFlute_g12_c04.avi  from  PlayingFlute  directory\n"
     ]
    },
    {
     "name": "stderr",
     "output_type": "stream",
     "text": [
      "[2018-07-27 15:46:07,515] [TfPoseEstimator-Video] [DEBUG] initialization mobilenet_thin : /home/MPLab/mplab006/tf_action_recognition/models/graph/mobilenet_thin/graph_opt.pb\n"
     ]
    },
    {
     "name": "stdout",
     "output_type": "stream",
     "text": [
      "video  v_PlayingFlute_g12_c04.avi  inferenced done.\n",
      "# of finished videos:  78\n",
      "# of finished directories:  3\n",
      "inferencing video:  v_PlayingFlute_g12_c05.avi  from  PlayingFlute  directory\n"
     ]
    },
    {
     "name": "stderr",
     "output_type": "stream",
     "text": [
      "[2018-07-27 15:46:08,426] [TfPoseEstimator-Video] [DEBUG] initialization mobilenet_thin : /home/MPLab/mplab006/tf_action_recognition/models/graph/mobilenet_thin/graph_opt.pb\n"
     ]
    },
    {
     "name": "stdout",
     "output_type": "stream",
     "text": [
      "video  v_PlayingFlute_g12_c05.avi  inferenced done.\n",
      "# of finished videos:  79\n",
      "# of finished directories:  3\n",
      "inferencing video:  v_PlayingFlute_g13_c01.avi  from  PlayingFlute  directory\n"
     ]
    },
    {
     "name": "stderr",
     "output_type": "stream",
     "text": [
      "[2018-07-27 15:46:09,283] [TfPoseEstimator-Video] [DEBUG] initialization mobilenet_thin : /home/MPLab/mplab006/tf_action_recognition/models/graph/mobilenet_thin/graph_opt.pb\n"
     ]
    },
    {
     "name": "stdout",
     "output_type": "stream",
     "text": [
      "video  v_PlayingFlute_g13_c01.avi  inferenced done.\n",
      "# of finished videos:  80\n",
      "# of finished directories:  3\n",
      "inferencing video:  v_PlayingFlute_g13_c02.avi  from  PlayingFlute  directory\n"
     ]
    },
    {
     "name": "stderr",
     "output_type": "stream",
     "text": [
      "[2018-07-27 15:46:10,190] [TfPoseEstimator-Video] [DEBUG] initialization mobilenet_thin : /home/MPLab/mplab006/tf_action_recognition/models/graph/mobilenet_thin/graph_opt.pb\n"
     ]
    },
    {
     "name": "stdout",
     "output_type": "stream",
     "text": [
      "video  v_PlayingFlute_g13_c02.avi  inferenced done.\n",
      "# of finished videos:  81\n",
      "# of finished directories:  3\n",
      "inferencing video:  v_PlayingFlute_g13_c03.avi  from  PlayingFlute  directory\n"
     ]
    },
    {
     "name": "stderr",
     "output_type": "stream",
     "text": [
      "[2018-07-27 15:46:11,078] [TfPoseEstimator-Video] [DEBUG] initialization mobilenet_thin : /home/MPLab/mplab006/tf_action_recognition/models/graph/mobilenet_thin/graph_opt.pb\n"
     ]
    },
    {
     "name": "stdout",
     "output_type": "stream",
     "text": [
      "video  v_PlayingFlute_g13_c03.avi  inferenced done.\n",
      "# of finished videos:  82\n",
      "# of finished directories:  3\n",
      "inferencing video:  v_PlayingFlute_g13_c04.avi  from  PlayingFlute  directory\n"
     ]
    },
    {
     "name": "stderr",
     "output_type": "stream",
     "text": [
      "[2018-07-27 15:46:11,930] [TfPoseEstimator-Video] [DEBUG] initialization mobilenet_thin : /home/MPLab/mplab006/tf_action_recognition/models/graph/mobilenet_thin/graph_opt.pb\n"
     ]
    },
    {
     "name": "stdout",
     "output_type": "stream",
     "text": [
      "video  v_PlayingFlute_g13_c04.avi  inferenced done.\n",
      "# of finished videos:  83\n",
      "# of finished directories:  3\n",
      "inferencing video:  v_PlayingFlute_g13_c05.avi  from  PlayingFlute  directory\n"
     ]
    },
    {
     "name": "stderr",
     "output_type": "stream",
     "text": [
      "[2018-07-27 15:46:12,867] [TfPoseEstimator-Video] [DEBUG] initialization mobilenet_thin : /home/MPLab/mplab006/tf_action_recognition/models/graph/mobilenet_thin/graph_opt.pb\n"
     ]
    },
    {
     "name": "stdout",
     "output_type": "stream",
     "text": [
      "video  v_PlayingFlute_g13_c05.avi  inferenced done.\n",
      "# of finished videos:  84\n",
      "# of finished directories:  3\n",
      "inferencing video:  v_PlayingFlute_g14_c01.avi  from  PlayingFlute  directory\n"
     ]
    },
    {
     "name": "stderr",
     "output_type": "stream",
     "text": [
      "[2018-07-27 15:46:13,724] [TfPoseEstimator-Video] [DEBUG] initialization mobilenet_thin : /home/MPLab/mplab006/tf_action_recognition/models/graph/mobilenet_thin/graph_opt.pb\n"
     ]
    },
    {
     "name": "stdout",
     "output_type": "stream",
     "text": [
      "video  v_PlayingFlute_g14_c01.avi  inferenced done.\n",
      "# of finished videos:  85\n",
      "# of finished directories:  3\n",
      "inferencing video:  v_PlayingFlute_g14_c02.avi  from  PlayingFlute  directory\n"
     ]
    },
    {
     "name": "stderr",
     "output_type": "stream",
     "text": [
      "[2018-07-27 15:46:14,595] [TfPoseEstimator-Video] [DEBUG] initialization mobilenet_thin : /home/MPLab/mplab006/tf_action_recognition/models/graph/mobilenet_thin/graph_opt.pb\n"
     ]
    },
    {
     "name": "stdout",
     "output_type": "stream",
     "text": [
      "video  v_PlayingFlute_g14_c02.avi  inferenced done.\n",
      "# of finished videos:  86\n",
      "# of finished directories:  3\n",
      "inferencing video:  v_PlayingFlute_g14_c03.avi  from  PlayingFlute  directory\n"
     ]
    },
    {
     "name": "stderr",
     "output_type": "stream",
     "text": [
      "[2018-07-27 15:46:15,508] [TfPoseEstimator-Video] [DEBUG] initialization mobilenet_thin : /home/MPLab/mplab006/tf_action_recognition/models/graph/mobilenet_thin/graph_opt.pb\n"
     ]
    },
    {
     "name": "stdout",
     "output_type": "stream",
     "text": [
      "video  v_PlayingFlute_g14_c03.avi  inferenced done.\n",
      "# of finished videos:  87\n",
      "# of finished directories:  3\n",
      "inferencing video:  v_PlayingFlute_g14_c04.avi  from  PlayingFlute  directory\n"
     ]
    },
    {
     "name": "stderr",
     "output_type": "stream",
     "text": [
      "[2018-07-27 15:46:16,400] [TfPoseEstimator-Video] [DEBUG] initialization mobilenet_thin : /home/MPLab/mplab006/tf_action_recognition/models/graph/mobilenet_thin/graph_opt.pb\n"
     ]
    },
    {
     "name": "stdout",
     "output_type": "stream",
     "text": [
      "video  v_PlayingFlute_g14_c04.avi  inferenced done.\n",
      "# of finished videos:  88\n",
      "# of finished directories:  3\n",
      "inferencing video:  v_PlayingFlute_g14_c05.avi  from  PlayingFlute  directory\n"
     ]
    },
    {
     "name": "stderr",
     "output_type": "stream",
     "text": [
      "[2018-07-27 15:46:17,333] [TfPoseEstimator-Video] [DEBUG] initialization mobilenet_thin : /home/MPLab/mplab006/tf_action_recognition/models/graph/mobilenet_thin/graph_opt.pb\n"
     ]
    },
    {
     "name": "stdout",
     "output_type": "stream",
     "text": [
      "video  v_PlayingFlute_g14_c05.avi  inferenced done.\n",
      "# of finished videos:  89\n",
      "# of finished directories:  3\n",
      "inferencing video:  v_PlayingFlute_g14_c06.avi  from  PlayingFlute  directory\n"
     ]
    },
    {
     "name": "stderr",
     "output_type": "stream",
     "text": [
      "[2018-07-27 15:46:18,212] [TfPoseEstimator-Video] [DEBUG] initialization mobilenet_thin : /home/MPLab/mplab006/tf_action_recognition/models/graph/mobilenet_thin/graph_opt.pb\n"
     ]
    },
    {
     "name": "stdout",
     "output_type": "stream",
     "text": [
      "video  v_PlayingFlute_g14_c06.avi  inferenced done.\n",
      "# of finished videos:  90\n",
      "# of finished directories:  3\n",
      "inferencing video:  v_PlayingFlute_g15_c01.avi  from  PlayingFlute  directory\n"
     ]
    },
    {
     "name": "stderr",
     "output_type": "stream",
     "text": [
      "[2018-07-27 15:46:19,135] [TfPoseEstimator-Video] [DEBUG] initialization mobilenet_thin : /home/MPLab/mplab006/tf_action_recognition/models/graph/mobilenet_thin/graph_opt.pb\n"
     ]
    },
    {
     "name": "stdout",
     "output_type": "stream",
     "text": [
      "video  v_PlayingFlute_g15_c01.avi  inferenced done.\n",
      "# of finished videos:  91\n",
      "# of finished directories:  3\n",
      "inferencing video:  v_PlayingFlute_g15_c02.avi  from  PlayingFlute  directory\n"
     ]
    },
    {
     "name": "stderr",
     "output_type": "stream",
     "text": [
      "[2018-07-27 15:46:20,013] [TfPoseEstimator-Video] [DEBUG] initialization mobilenet_thin : /home/MPLab/mplab006/tf_action_recognition/models/graph/mobilenet_thin/graph_opt.pb\n"
     ]
    },
    {
     "name": "stdout",
     "output_type": "stream",
     "text": [
      "video  v_PlayingFlute_g15_c02.avi  inferenced done.\n",
      "# of finished videos:  92\n",
      "# of finished directories:  3\n",
      "inferencing video:  v_PlayingFlute_g15_c03.avi  from  PlayingFlute  directory\n"
     ]
    },
    {
     "name": "stderr",
     "output_type": "stream",
     "text": [
      "[2018-07-27 15:46:20,889] [TfPoseEstimator-Video] [DEBUG] initialization mobilenet_thin : /home/MPLab/mplab006/tf_action_recognition/models/graph/mobilenet_thin/graph_opt.pb\n"
     ]
    },
    {
     "name": "stdout",
     "output_type": "stream",
     "text": [
      "video  v_PlayingFlute_g15_c03.avi  inferenced done.\n",
      "# of finished videos:  93\n",
      "# of finished directories:  3\n",
      "inferencing video:  v_PlayingFlute_g15_c04.avi  from  PlayingFlute  directory\n"
     ]
    },
    {
     "name": "stderr",
     "output_type": "stream",
     "text": [
      "[2018-07-27 15:46:21,779] [TfPoseEstimator-Video] [DEBUG] initialization mobilenet_thin : /home/MPLab/mplab006/tf_action_recognition/models/graph/mobilenet_thin/graph_opt.pb\n"
     ]
    },
    {
     "name": "stdout",
     "output_type": "stream",
     "text": [
      "video  v_PlayingFlute_g15_c04.avi  inferenced done.\n",
      "# of finished videos:  94\n",
      "# of finished directories:  3\n",
      "inferencing video:  v_PlayingFlute_g15_c05.avi  from  PlayingFlute  directory\n"
     ]
    },
    {
     "name": "stderr",
     "output_type": "stream",
     "text": [
      "[2018-07-27 15:46:22,692] [TfPoseEstimator-Video] [DEBUG] initialization mobilenet_thin : /home/MPLab/mplab006/tf_action_recognition/models/graph/mobilenet_thin/graph_opt.pb\n"
     ]
    },
    {
     "name": "stdout",
     "output_type": "stream",
     "text": [
      "video  v_PlayingFlute_g15_c05.avi  inferenced done.\n",
      "# of finished videos:  95\n",
      "# of finished directories:  3\n",
      "inferencing video:  v_PlayingFlute_g15_c06.avi  from  PlayingFlute  directory\n"
     ]
    },
    {
     "name": "stderr",
     "output_type": "stream",
     "text": [
      "[2018-07-27 15:46:23,562] [TfPoseEstimator-Video] [DEBUG] initialization mobilenet_thin : /home/MPLab/mplab006/tf_action_recognition/models/graph/mobilenet_thin/graph_opt.pb\n"
     ]
    },
    {
     "name": "stdout",
     "output_type": "stream",
     "text": [
      "video  v_PlayingFlute_g15_c06.avi  inferenced done.\n",
      "# of finished videos:  96\n",
      "# of finished directories:  3\n",
      "inferencing video:  v_PlayingFlute_g15_c07.avi  from  PlayingFlute  directory\n"
     ]
    },
    {
     "name": "stderr",
     "output_type": "stream",
     "text": [
      "[2018-07-27 15:46:24,439] [TfPoseEstimator-Video] [DEBUG] initialization mobilenet_thin : /home/MPLab/mplab006/tf_action_recognition/models/graph/mobilenet_thin/graph_opt.pb\n"
     ]
    },
    {
     "name": "stdout",
     "output_type": "stream",
     "text": [
      "video  v_PlayingFlute_g15_c07.avi  inferenced done.\n",
      "# of finished videos:  97\n",
      "# of finished directories:  3\n",
      "inferencing video:  v_PlayingFlute_g16_c01.avi  from  PlayingFlute  directory\n"
     ]
    },
    {
     "name": "stderr",
     "output_type": "stream",
     "text": [
      "[2018-07-27 15:46:25,318] [TfPoseEstimator-Video] [DEBUG] initialization mobilenet_thin : /home/MPLab/mplab006/tf_action_recognition/models/graph/mobilenet_thin/graph_opt.pb\n"
     ]
    },
    {
     "name": "stdout",
     "output_type": "stream",
     "text": [
      "video  v_PlayingFlute_g16_c01.avi  inferenced done.\n",
      "# of finished videos:  98\n",
      "# of finished directories:  3\n",
      "inferencing video:  v_PlayingFlute_g16_c02.avi  from  PlayingFlute  directory\n"
     ]
    },
    {
     "name": "stderr",
     "output_type": "stream",
     "text": [
      "[2018-07-27 15:46:26,204] [TfPoseEstimator-Video] [DEBUG] initialization mobilenet_thin : /home/MPLab/mplab006/tf_action_recognition/models/graph/mobilenet_thin/graph_opt.pb\n"
     ]
    },
    {
     "name": "stdout",
     "output_type": "stream",
     "text": [
      "video  v_PlayingFlute_g16_c02.avi  inferenced done.\n",
      "# of finished videos:  99\n",
      "# of finished directories:  3\n",
      "inferencing video:  v_PlayingFlute_g16_c03.avi  from  PlayingFlute  directory\n"
     ]
    },
    {
     "name": "stderr",
     "output_type": "stream",
     "text": [
      "[2018-07-27 15:46:27,081] [TfPoseEstimator-Video] [DEBUG] initialization mobilenet_thin : /home/MPLab/mplab006/tf_action_recognition/models/graph/mobilenet_thin/graph_opt.pb\n"
     ]
    },
    {
     "name": "stdout",
     "output_type": "stream",
     "text": [
      "video  v_PlayingFlute_g16_c03.avi  inferenced done.\n",
      "# of finished videos:  100\n",
      "# of finished directories:  3\n",
      "inferencing video:  v_PlayingFlute_g16_c04.avi  from  PlayingFlute  directory\n"
     ]
    },
    {
     "name": "stderr",
     "output_type": "stream",
     "text": [
      "[2018-07-27 15:46:27,941] [TfPoseEstimator-Video] [DEBUG] initialization mobilenet_thin : /home/MPLab/mplab006/tf_action_recognition/models/graph/mobilenet_thin/graph_opt.pb\n"
     ]
    },
    {
     "name": "stdout",
     "output_type": "stream",
     "text": [
      "video  v_PlayingFlute_g16_c04.avi  inferenced done.\n",
      "# of finished videos:  101\n",
      "# of finished directories:  3\n",
      "inferencing video:  v_PlayingFlute_g16_c05.avi  from  PlayingFlute  directory\n"
     ]
    },
    {
     "name": "stderr",
     "output_type": "stream",
     "text": [
      "[2018-07-27 15:46:28,829] [TfPoseEstimator-Video] [DEBUG] initialization mobilenet_thin : /home/MPLab/mplab006/tf_action_recognition/models/graph/mobilenet_thin/graph_opt.pb\n"
     ]
    },
    {
     "name": "stdout",
     "output_type": "stream",
     "text": [
      "video  v_PlayingFlute_g16_c05.avi  inferenced done.\n",
      "# of finished videos:  102\n",
      "# of finished directories:  3\n",
      "inferencing video:  v_PlayingFlute_g16_c06.avi  from  PlayingFlute  directory\n"
     ]
    },
    {
     "name": "stderr",
     "output_type": "stream",
     "text": [
      "[2018-07-27 15:46:29,690] [TfPoseEstimator-Video] [DEBUG] initialization mobilenet_thin : /home/MPLab/mplab006/tf_action_recognition/models/graph/mobilenet_thin/graph_opt.pb\n"
     ]
    },
    {
     "name": "stdout",
     "output_type": "stream",
     "text": [
      "video  v_PlayingFlute_g16_c06.avi  inferenced done.\n",
      "# of finished videos:  103\n",
      "# of finished directories:  3\n",
      "inferencing video:  v_PlayingFlute_g17_c01.avi  from  PlayingFlute  directory\n"
     ]
    },
    {
     "name": "stderr",
     "output_type": "stream",
     "text": [
      "[2018-07-27 15:46:30,536] [TfPoseEstimator-Video] [DEBUG] initialization mobilenet_thin : /home/MPLab/mplab006/tf_action_recognition/models/graph/mobilenet_thin/graph_opt.pb\n"
     ]
    },
    {
     "name": "stdout",
     "output_type": "stream",
     "text": [
      "video  v_PlayingFlute_g17_c01.avi  inferenced done.\n",
      "# of finished videos:  104\n",
      "# of finished directories:  3\n",
      "inferencing video:  v_PlayingFlute_g17_c02.avi  from  PlayingFlute  directory\n"
     ]
    },
    {
     "name": "stderr",
     "output_type": "stream",
     "text": [
      "[2018-07-27 15:46:31,675] [TfPoseEstimator-Video] [DEBUG] initialization mobilenet_thin : /home/MPLab/mplab006/tf_action_recognition/models/graph/mobilenet_thin/graph_opt.pb\n"
     ]
    },
    {
     "name": "stdout",
     "output_type": "stream",
     "text": [
      "video  v_PlayingFlute_g17_c02.avi  inferenced done.\n",
      "# of finished videos:  105\n",
      "# of finished directories:  3\n",
      "inferencing video:  v_PlayingFlute_g17_c03.avi  from  PlayingFlute  directory\n"
     ]
    },
    {
     "name": "stderr",
     "output_type": "stream",
     "text": [
      "[2018-07-27 15:46:32,748] [TfPoseEstimator-Video] [DEBUG] initialization mobilenet_thin : /home/MPLab/mplab006/tf_action_recognition/models/graph/mobilenet_thin/graph_opt.pb\n"
     ]
    },
    {
     "name": "stdout",
     "output_type": "stream",
     "text": [
      "video  v_PlayingFlute_g17_c03.avi  inferenced done.\n",
      "# of finished videos:  106\n",
      "# of finished directories:  3\n",
      "inferencing video:  v_PlayingFlute_g17_c04.avi  from  PlayingFlute  directory\n"
     ]
    },
    {
     "name": "stderr",
     "output_type": "stream",
     "text": [
      "[2018-07-27 15:46:33,658] [TfPoseEstimator-Video] [DEBUG] initialization mobilenet_thin : /home/MPLab/mplab006/tf_action_recognition/models/graph/mobilenet_thin/graph_opt.pb\n"
     ]
    },
    {
     "name": "stdout",
     "output_type": "stream",
     "text": [
      "video  v_PlayingFlute_g17_c04.avi  inferenced done.\n",
      "# of finished videos:  107\n",
      "# of finished directories:  3\n",
      "inferencing video:  v_PlayingFlute_g17_c05.avi  from  PlayingFlute  directory\n"
     ]
    },
    {
     "name": "stderr",
     "output_type": "stream",
     "text": [
      "[2018-07-27 15:46:34,555] [TfPoseEstimator-Video] [DEBUG] initialization mobilenet_thin : /home/MPLab/mplab006/tf_action_recognition/models/graph/mobilenet_thin/graph_opt.pb\n"
     ]
    },
    {
     "name": "stdout",
     "output_type": "stream",
     "text": [
      "video  v_PlayingFlute_g17_c05.avi  inferenced done.\n",
      "# of finished videos:  108\n",
      "# of finished directories:  3\n",
      "inferencing video:  v_PlayingFlute_g17_c06.avi  from  PlayingFlute  directory\n"
     ]
    },
    {
     "name": "stderr",
     "output_type": "stream",
     "text": [
      "[2018-07-27 15:46:35,411] [TfPoseEstimator-Video] [DEBUG] initialization mobilenet_thin : /home/MPLab/mplab006/tf_action_recognition/models/graph/mobilenet_thin/graph_opt.pb\n"
     ]
    },
    {
     "name": "stdout",
     "output_type": "stream",
     "text": [
      "video  v_PlayingFlute_g17_c06.avi  inferenced done.\n",
      "# of finished videos:  109\n",
      "# of finished directories:  3\n",
      "inferencing video:  v_PlayingFlute_g17_c07.avi  from  PlayingFlute  directory\n"
     ]
    },
    {
     "name": "stderr",
     "output_type": "stream",
     "text": [
      "[2018-07-27 15:46:36,341] [TfPoseEstimator-Video] [DEBUG] initialization mobilenet_thin : /home/MPLab/mplab006/tf_action_recognition/models/graph/mobilenet_thin/graph_opt.pb\n"
     ]
    },
    {
     "name": "stdout",
     "output_type": "stream",
     "text": [
      "video  v_PlayingFlute_g17_c07.avi  inferenced done.\n",
      "# of finished videos:  110\n",
      "# of finished directories:  3\n",
      "inferencing video:  v_PlayingFlute_g18_c01.avi  from  PlayingFlute  directory\n"
     ]
    },
    {
     "name": "stderr",
     "output_type": "stream",
     "text": [
      "[2018-07-27 15:46:37,227] [TfPoseEstimator-Video] [DEBUG] initialization mobilenet_thin : /home/MPLab/mplab006/tf_action_recognition/models/graph/mobilenet_thin/graph_opt.pb\n"
     ]
    },
    {
     "name": "stdout",
     "output_type": "stream",
     "text": [
      "video  v_PlayingFlute_g18_c01.avi  inferenced done.\n",
      "# of finished videos:  111\n",
      "# of finished directories:  3\n",
      "inferencing video:  v_PlayingFlute_g18_c02.avi  from  PlayingFlute  directory\n"
     ]
    },
    {
     "name": "stderr",
     "output_type": "stream",
     "text": [
      "[2018-07-27 15:46:38,105] [TfPoseEstimator-Video] [DEBUG] initialization mobilenet_thin : /home/MPLab/mplab006/tf_action_recognition/models/graph/mobilenet_thin/graph_opt.pb\n"
     ]
    },
    {
     "name": "stdout",
     "output_type": "stream",
     "text": [
      "video  v_PlayingFlute_g18_c02.avi  inferenced done.\n",
      "# of finished videos:  112\n",
      "# of finished directories:  3\n",
      "inferencing video:  v_PlayingFlute_g18_c03.avi  from  PlayingFlute  directory\n"
     ]
    },
    {
     "name": "stderr",
     "output_type": "stream",
     "text": [
      "[2018-07-27 15:46:38,978] [TfPoseEstimator-Video] [DEBUG] initialization mobilenet_thin : /home/MPLab/mplab006/tf_action_recognition/models/graph/mobilenet_thin/graph_opt.pb\n"
     ]
    },
    {
     "name": "stdout",
     "output_type": "stream",
     "text": [
      "video  v_PlayingFlute_g18_c03.avi  inferenced done.\n",
      "# of finished videos:  113\n",
      "# of finished directories:  3\n",
      "inferencing video:  v_PlayingFlute_g18_c04.avi  from  PlayingFlute  directory\n"
     ]
    },
    {
     "name": "stderr",
     "output_type": "stream",
     "text": [
      "[2018-07-27 15:46:39,918] [TfPoseEstimator-Video] [DEBUG] initialization mobilenet_thin : /home/MPLab/mplab006/tf_action_recognition/models/graph/mobilenet_thin/graph_opt.pb\n"
     ]
    },
    {
     "name": "stdout",
     "output_type": "stream",
     "text": [
      "video  v_PlayingFlute_g18_c04.avi  inferenced done.\n",
      "# of finished videos:  114\n",
      "# of finished directories:  3\n",
      "inferencing video:  v_PlayingFlute_g18_c05.avi  from  PlayingFlute  directory\n"
     ]
    },
    {
     "name": "stderr",
     "output_type": "stream",
     "text": [
      "[2018-07-27 15:46:40,776] [TfPoseEstimator-Video] [DEBUG] initialization mobilenet_thin : /home/MPLab/mplab006/tf_action_recognition/models/graph/mobilenet_thin/graph_opt.pb\n"
     ]
    },
    {
     "name": "stdout",
     "output_type": "stream",
     "text": [
      "video  v_PlayingFlute_g18_c05.avi  inferenced done.\n",
      "# of finished videos:  115\n",
      "# of finished directories:  3\n",
      "inferencing video:  v_PlayingFlute_g19_c01.avi  from  PlayingFlute  directory\n"
     ]
    },
    {
     "name": "stderr",
     "output_type": "stream",
     "text": [
      "[2018-07-27 15:46:41,690] [TfPoseEstimator-Video] [DEBUG] initialization mobilenet_thin : /home/MPLab/mplab006/tf_action_recognition/models/graph/mobilenet_thin/graph_opt.pb\n"
     ]
    },
    {
     "name": "stdout",
     "output_type": "stream",
     "text": [
      "video  v_PlayingFlute_g19_c01.avi  inferenced done.\n",
      "# of finished videos:  116\n",
      "# of finished directories:  3\n",
      "inferencing video:  v_PlayingFlute_g19_c02.avi  from  PlayingFlute  directory\n"
     ]
    },
    {
     "name": "stderr",
     "output_type": "stream",
     "text": [
      "[2018-07-27 15:46:42,564] [TfPoseEstimator-Video] [DEBUG] initialization mobilenet_thin : /home/MPLab/mplab006/tf_action_recognition/models/graph/mobilenet_thin/graph_opt.pb\n"
     ]
    },
    {
     "name": "stdout",
     "output_type": "stream",
     "text": [
      "video  v_PlayingFlute_g19_c02.avi  inferenced done.\n",
      "# of finished videos:  117\n",
      "# of finished directories:  3\n",
      "inferencing video:  v_PlayingFlute_g19_c03.avi  from  PlayingFlute  directory\n"
     ]
    },
    {
     "name": "stderr",
     "output_type": "stream",
     "text": [
      "[2018-07-27 15:46:43,425] [TfPoseEstimator-Video] [DEBUG] initialization mobilenet_thin : /home/MPLab/mplab006/tf_action_recognition/models/graph/mobilenet_thin/graph_opt.pb\n"
     ]
    },
    {
     "name": "stdout",
     "output_type": "stream",
     "text": [
      "video  v_PlayingFlute_g19_c03.avi  inferenced done.\n",
      "# of finished videos:  118\n",
      "# of finished directories:  3\n",
      "inferencing video:  v_PlayingFlute_g19_c04.avi  from  PlayingFlute  directory\n"
     ]
    },
    {
     "name": "stderr",
     "output_type": "stream",
     "text": [
      "[2018-07-27 15:46:44,324] [TfPoseEstimator-Video] [DEBUG] initialization mobilenet_thin : /home/MPLab/mplab006/tf_action_recognition/models/graph/mobilenet_thin/graph_opt.pb\n"
     ]
    },
    {
     "name": "stdout",
     "output_type": "stream",
     "text": [
      "video  v_PlayingFlute_g19_c04.avi  inferenced done.\n",
      "# of finished videos:  119\n",
      "# of finished directories:  3\n",
      "inferencing video:  v_PlayingFlute_g19_c05.avi  from  PlayingFlute  directory\n"
     ]
    },
    {
     "name": "stderr",
     "output_type": "stream",
     "text": [
      "[2018-07-27 15:46:45,246] [TfPoseEstimator-Video] [DEBUG] initialization mobilenet_thin : /home/MPLab/mplab006/tf_action_recognition/models/graph/mobilenet_thin/graph_opt.pb\n"
     ]
    },
    {
     "name": "stdout",
     "output_type": "stream",
     "text": [
      "video  v_PlayingFlute_g19_c05.avi  inferenced done.\n",
      "# of finished videos:  120\n",
      "# of finished directories:  3\n",
      "inferencing video:  v_PlayingFlute_g19_c06.avi  from  PlayingFlute  directory\n"
     ]
    },
    {
     "name": "stderr",
     "output_type": "stream",
     "text": [
      "[2018-07-27 15:46:46,163] [TfPoseEstimator-Video] [DEBUG] initialization mobilenet_thin : /home/MPLab/mplab006/tf_action_recognition/models/graph/mobilenet_thin/graph_opt.pb\n"
     ]
    },
    {
     "name": "stdout",
     "output_type": "stream",
     "text": [
      "video  v_PlayingFlute_g19_c06.avi  inferenced done.\n",
      "# of finished videos:  121\n",
      "# of finished directories:  3\n",
      "inferencing video:  v_PlayingFlute_g19_c07.avi  from  PlayingFlute  directory\n"
     ]
    },
    {
     "name": "stderr",
     "output_type": "stream",
     "text": [
      "[2018-07-27 15:46:47,032] [TfPoseEstimator-Video] [DEBUG] initialization mobilenet_thin : /home/MPLab/mplab006/tf_action_recognition/models/graph/mobilenet_thin/graph_opt.pb\n"
     ]
    },
    {
     "name": "stdout",
     "output_type": "stream",
     "text": [
      "video  v_PlayingFlute_g19_c07.avi  inferenced done.\n",
      "# of finished videos:  122\n",
      "# of finished directories:  3\n",
      "inferencing video:  v_PlayingFlute_g20_c01.avi  from  PlayingFlute  directory\n"
     ]
    },
    {
     "name": "stderr",
     "output_type": "stream",
     "text": [
      "[2018-07-27 15:46:47,909] [TfPoseEstimator-Video] [DEBUG] initialization mobilenet_thin : /home/MPLab/mplab006/tf_action_recognition/models/graph/mobilenet_thin/graph_opt.pb\n"
     ]
    },
    {
     "name": "stdout",
     "output_type": "stream",
     "text": [
      "video  v_PlayingFlute_g20_c01.avi  inferenced done.\n",
      "# of finished videos:  123\n",
      "# of finished directories:  3\n",
      "inferencing video:  v_PlayingFlute_g20_c02.avi  from  PlayingFlute  directory\n"
     ]
    },
    {
     "name": "stderr",
     "output_type": "stream",
     "text": [
      "[2018-07-27 15:46:48,812] [TfPoseEstimator-Video] [DEBUG] initialization mobilenet_thin : /home/MPLab/mplab006/tf_action_recognition/models/graph/mobilenet_thin/graph_opt.pb\n"
     ]
    },
    {
     "name": "stdout",
     "output_type": "stream",
     "text": [
      "video  v_PlayingFlute_g20_c02.avi  inferenced done.\n",
      "# of finished videos:  124\n",
      "# of finished directories:  3\n",
      "inferencing video:  v_PlayingFlute_g20_c03.avi  from  PlayingFlute  directory\n"
     ]
    },
    {
     "name": "stderr",
     "output_type": "stream",
     "text": [
      "[2018-07-27 15:46:49,673] [TfPoseEstimator-Video] [DEBUG] initialization mobilenet_thin : /home/MPLab/mplab006/tf_action_recognition/models/graph/mobilenet_thin/graph_opt.pb\n"
     ]
    },
    {
     "name": "stdout",
     "output_type": "stream",
     "text": [
      "video  v_PlayingFlute_g20_c03.avi  inferenced done.\n",
      "# of finished videos:  125\n",
      "# of finished directories:  3\n",
      "inferencing video:  v_PlayingFlute_g20_c04.avi  from  PlayingFlute  directory\n"
     ]
    },
    {
     "name": "stderr",
     "output_type": "stream",
     "text": [
      "[2018-07-27 15:46:50,600] [TfPoseEstimator-Video] [DEBUG] initialization mobilenet_thin : /home/MPLab/mplab006/tf_action_recognition/models/graph/mobilenet_thin/graph_opt.pb\n"
     ]
    },
    {
     "name": "stdout",
     "output_type": "stream",
     "text": [
      "video  v_PlayingFlute_g20_c04.avi  inferenced done.\n",
      "# of finished videos:  126\n",
      "# of finished directories:  3\n",
      "inferencing video:  v_PlayingFlute_g21_c01.avi  from  PlayingFlute  directory\n"
     ]
    },
    {
     "name": "stderr",
     "output_type": "stream",
     "text": [
      "[2018-07-27 15:46:51,481] [TfPoseEstimator-Video] [DEBUG] initialization mobilenet_thin : /home/MPLab/mplab006/tf_action_recognition/models/graph/mobilenet_thin/graph_opt.pb\n"
     ]
    },
    {
     "name": "stdout",
     "output_type": "stream",
     "text": [
      "video  v_PlayingFlute_g21_c01.avi  inferenced done.\n",
      "# of finished videos:  127\n",
      "# of finished directories:  3\n",
      "inferencing video:  v_PlayingFlute_g21_c02.avi  from  PlayingFlute  directory\n"
     ]
    },
    {
     "name": "stderr",
     "output_type": "stream",
     "text": [
      "[2018-07-27 15:46:52,418] [TfPoseEstimator-Video] [DEBUG] initialization mobilenet_thin : /home/MPLab/mplab006/tf_action_recognition/models/graph/mobilenet_thin/graph_opt.pb\n"
     ]
    },
    {
     "name": "stdout",
     "output_type": "stream",
     "text": [
      "video  v_PlayingFlute_g21_c02.avi  inferenced done.\n",
      "# of finished videos:  128\n",
      "# of finished directories:  3\n",
      "inferencing video:  v_PlayingFlute_g21_c03.avi  from  PlayingFlute  directory\n"
     ]
    },
    {
     "name": "stderr",
     "output_type": "stream",
     "text": [
      "[2018-07-27 15:46:53,274] [TfPoseEstimator-Video] [DEBUG] initialization mobilenet_thin : /home/MPLab/mplab006/tf_action_recognition/models/graph/mobilenet_thin/graph_opt.pb\n"
     ]
    },
    {
     "name": "stdout",
     "output_type": "stream",
     "text": [
      "video  v_PlayingFlute_g21_c03.avi  inferenced done.\n",
      "# of finished videos:  129\n",
      "# of finished directories:  3\n",
      "inferencing video:  v_PlayingFlute_g21_c04.avi  from  PlayingFlute  directory\n"
     ]
    },
    {
     "name": "stderr",
     "output_type": "stream",
     "text": [
      "[2018-07-27 15:46:54,177] [TfPoseEstimator-Video] [DEBUG] initialization mobilenet_thin : /home/MPLab/mplab006/tf_action_recognition/models/graph/mobilenet_thin/graph_opt.pb\n"
     ]
    },
    {
     "name": "stdout",
     "output_type": "stream",
     "text": [
      "video  v_PlayingFlute_g21_c04.avi  inferenced done.\n",
      "# of finished videos:  130\n",
      "# of finished directories:  3\n",
      "inferencing video:  v_PlayingFlute_g21_c05.avi  from  PlayingFlute  directory\n"
     ]
    },
    {
     "name": "stderr",
     "output_type": "stream",
     "text": [
      "[2018-07-27 15:46:55,043] [TfPoseEstimator-Video] [DEBUG] initialization mobilenet_thin : /home/MPLab/mplab006/tf_action_recognition/models/graph/mobilenet_thin/graph_opt.pb\n"
     ]
    },
    {
     "name": "stdout",
     "output_type": "stream",
     "text": [
      "video  v_PlayingFlute_g21_c05.avi  inferenced done.\n",
      "# of finished videos:  131\n",
      "# of finished directories:  3\n",
      "inferencing video:  v_PlayingFlute_g21_c06.avi  from  PlayingFlute  directory\n"
     ]
    },
    {
     "name": "stderr",
     "output_type": "stream",
     "text": [
      "[2018-07-27 15:46:55,913] [TfPoseEstimator-Video] [DEBUG] initialization mobilenet_thin : /home/MPLab/mplab006/tf_action_recognition/models/graph/mobilenet_thin/graph_opt.pb\n"
     ]
    },
    {
     "name": "stdout",
     "output_type": "stream",
     "text": [
      "video  v_PlayingFlute_g21_c06.avi  inferenced done.\n",
      "# of finished videos:  132\n",
      "# of finished directories:  3\n",
      "inferencing video:  v_PlayingFlute_g22_c01.avi  from  PlayingFlute  directory\n"
     ]
    },
    {
     "name": "stderr",
     "output_type": "stream",
     "text": [
      "[2018-07-27 15:46:56,835] [TfPoseEstimator-Video] [DEBUG] initialization mobilenet_thin : /home/MPLab/mplab006/tf_action_recognition/models/graph/mobilenet_thin/graph_opt.pb\n"
     ]
    },
    {
     "name": "stdout",
     "output_type": "stream",
     "text": [
      "video  v_PlayingFlute_g22_c01.avi  inferenced done.\n",
      "# of finished videos:  133\n",
      "# of finished directories:  3\n",
      "inferencing video:  v_PlayingFlute_g22_c02.avi  from  PlayingFlute  directory\n"
     ]
    },
    {
     "name": "stderr",
     "output_type": "stream",
     "text": [
      "[2018-07-27 15:46:57,682] [TfPoseEstimator-Video] [DEBUG] initialization mobilenet_thin : /home/MPLab/mplab006/tf_action_recognition/models/graph/mobilenet_thin/graph_opt.pb\n"
     ]
    },
    {
     "name": "stdout",
     "output_type": "stream",
     "text": [
      "video  v_PlayingFlute_g22_c02.avi  inferenced done.\n",
      "# of finished videos:  134\n",
      "# of finished directories:  3\n",
      "inferencing video:  v_PlayingFlute_g22_c03.avi  from  PlayingFlute  directory\n"
     ]
    },
    {
     "name": "stderr",
     "output_type": "stream",
     "text": [
      "[2018-07-27 15:46:58,614] [TfPoseEstimator-Video] [DEBUG] initialization mobilenet_thin : /home/MPLab/mplab006/tf_action_recognition/models/graph/mobilenet_thin/graph_opt.pb\n"
     ]
    },
    {
     "name": "stdout",
     "output_type": "stream",
     "text": [
      "video  v_PlayingFlute_g22_c03.avi  inferenced done.\n",
      "# of finished videos:  135\n",
      "# of finished directories:  3\n",
      "inferencing video:  v_PlayingFlute_g22_c04.avi  from  PlayingFlute  directory\n"
     ]
    },
    {
     "name": "stderr",
     "output_type": "stream",
     "text": [
      "[2018-07-27 15:46:59,484] [TfPoseEstimator-Video] [DEBUG] initialization mobilenet_thin : /home/MPLab/mplab006/tf_action_recognition/models/graph/mobilenet_thin/graph_opt.pb\n"
     ]
    },
    {
     "name": "stdout",
     "output_type": "stream",
     "text": [
      "video  v_PlayingFlute_g22_c04.avi  inferenced done.\n",
      "# of finished videos:  136\n",
      "# of finished directories:  3\n",
      "inferencing video:  v_PlayingFlute_g22_c05.avi  from  PlayingFlute  directory\n"
     ]
    },
    {
     "name": "stderr",
     "output_type": "stream",
     "text": [
      "[2018-07-27 15:47:00,388] [TfPoseEstimator-Video] [DEBUG] initialization mobilenet_thin : /home/MPLab/mplab006/tf_action_recognition/models/graph/mobilenet_thin/graph_opt.pb\n"
     ]
    },
    {
     "name": "stdout",
     "output_type": "stream",
     "text": [
      "video  v_PlayingFlute_g22_c05.avi  inferenced done.\n",
      "# of finished videos:  137\n",
      "# of finished directories:  3\n",
      "inferencing video:  v_PlayingFlute_g23_c01.avi  from  PlayingFlute  directory\n"
     ]
    },
    {
     "name": "stderr",
     "output_type": "stream",
     "text": [
      "[2018-07-27 15:47:01,328] [TfPoseEstimator-Video] [DEBUG] initialization mobilenet_thin : /home/MPLab/mplab006/tf_action_recognition/models/graph/mobilenet_thin/graph_opt.pb\n"
     ]
    },
    {
     "name": "stdout",
     "output_type": "stream",
     "text": [
      "video  v_PlayingFlute_g23_c01.avi  inferenced done.\n",
      "# of finished videos:  138\n",
      "# of finished directories:  3\n",
      "inferencing video:  v_PlayingFlute_g23_c02.avi  from  PlayingFlute  directory\n"
     ]
    },
    {
     "name": "stderr",
     "output_type": "stream",
     "text": [
      "[2018-07-27 15:47:02,191] [TfPoseEstimator-Video] [DEBUG] initialization mobilenet_thin : /home/MPLab/mplab006/tf_action_recognition/models/graph/mobilenet_thin/graph_opt.pb\n"
     ]
    },
    {
     "name": "stdout",
     "output_type": "stream",
     "text": [
      "video  v_PlayingFlute_g23_c02.avi  inferenced done.\n",
      "# of finished videos:  139\n",
      "# of finished directories:  3\n",
      "inferencing video:  v_PlayingFlute_g23_c03.avi  from  PlayingFlute  directory\n"
     ]
    },
    {
     "name": "stderr",
     "output_type": "stream",
     "text": [
      "[2018-07-27 15:47:03,113] [TfPoseEstimator-Video] [DEBUG] initialization mobilenet_thin : /home/MPLab/mplab006/tf_action_recognition/models/graph/mobilenet_thin/graph_opt.pb\n"
     ]
    },
    {
     "name": "stdout",
     "output_type": "stream",
     "text": [
      "video  v_PlayingFlute_g23_c03.avi  inferenced done.\n",
      "# of finished videos:  140\n",
      "# of finished directories:  3\n",
      "inferencing video:  v_PlayingFlute_g23_c04.avi  from  PlayingFlute  directory\n"
     ]
    },
    {
     "name": "stderr",
     "output_type": "stream",
     "text": [
      "[2018-07-27 15:47:04,001] [TfPoseEstimator-Video] [DEBUG] initialization mobilenet_thin : /home/MPLab/mplab006/tf_action_recognition/models/graph/mobilenet_thin/graph_opt.pb\n"
     ]
    },
    {
     "name": "stdout",
     "output_type": "stream",
     "text": [
      "video  v_PlayingFlute_g23_c04.avi  inferenced done.\n",
      "# of finished videos:  141\n",
      "# of finished directories:  3\n",
      "inferencing video:  v_PlayingFlute_g23_c05.avi  from  PlayingFlute  directory\n"
     ]
    },
    {
     "name": "stderr",
     "output_type": "stream",
     "text": [
      "[2018-07-27 15:47:04,924] [TfPoseEstimator-Video] [DEBUG] initialization mobilenet_thin : /home/MPLab/mplab006/tf_action_recognition/models/graph/mobilenet_thin/graph_opt.pb\n"
     ]
    },
    {
     "name": "stdout",
     "output_type": "stream",
     "text": [
      "video  v_PlayingFlute_g23_c05.avi  inferenced done.\n",
      "# of finished videos:  142\n",
      "# of finished directories:  3\n",
      "inferencing video:  v_PlayingFlute_g23_c06.avi  from  PlayingFlute  directory\n"
     ]
    },
    {
     "name": "stderr",
     "output_type": "stream",
     "text": [
      "[2018-07-27 15:47:05,805] [TfPoseEstimator-Video] [DEBUG] initialization mobilenet_thin : /home/MPLab/mplab006/tf_action_recognition/models/graph/mobilenet_thin/graph_opt.pb\n"
     ]
    },
    {
     "name": "stdout",
     "output_type": "stream",
     "text": [
      "video  v_PlayingFlute_g23_c06.avi  inferenced done.\n",
      "# of finished videos:  143\n",
      "# of finished directories:  3\n",
      "inferencing video:  v_PlayingFlute_g24_c01.avi  from  PlayingFlute  directory\n"
     ]
    },
    {
     "name": "stderr",
     "output_type": "stream",
     "text": [
      "[2018-07-27 15:47:06,708] [TfPoseEstimator-Video] [DEBUG] initialization mobilenet_thin : /home/MPLab/mplab006/tf_action_recognition/models/graph/mobilenet_thin/graph_opt.pb\n"
     ]
    },
    {
     "name": "stdout",
     "output_type": "stream",
     "text": [
      "video  v_PlayingFlute_g24_c01.avi  inferenced done.\n",
      "# of finished videos:  144\n",
      "# of finished directories:  3\n",
      "inferencing video:  v_PlayingFlute_g24_c02.avi  from  PlayingFlute  directory\n"
     ]
    },
    {
     "name": "stderr",
     "output_type": "stream",
     "text": [
      "[2018-07-27 15:47:07,575] [TfPoseEstimator-Video] [DEBUG] initialization mobilenet_thin : /home/MPLab/mplab006/tf_action_recognition/models/graph/mobilenet_thin/graph_opt.pb\n"
     ]
    },
    {
     "name": "stdout",
     "output_type": "stream",
     "text": [
      "video  v_PlayingFlute_g24_c02.avi  inferenced done.\n",
      "# of finished videos:  145\n",
      "# of finished directories:  3\n",
      "inferencing video:  v_PlayingFlute_g24_c03.avi  from  PlayingFlute  directory\n"
     ]
    },
    {
     "name": "stderr",
     "output_type": "stream",
     "text": [
      "[2018-07-27 15:47:08,451] [TfPoseEstimator-Video] [DEBUG] initialization mobilenet_thin : /home/MPLab/mplab006/tf_action_recognition/models/graph/mobilenet_thin/graph_opt.pb\n"
     ]
    },
    {
     "name": "stdout",
     "output_type": "stream",
     "text": [
      "video  v_PlayingFlute_g24_c03.avi  inferenced done.\n",
      "# of finished videos:  146\n",
      "# of finished directories:  3\n",
      "inferencing video:  v_PlayingFlute_g24_c04.avi  from  PlayingFlute  directory\n"
     ]
    },
    {
     "name": "stderr",
     "output_type": "stream",
     "text": [
      "[2018-07-27 15:47:09,326] [TfPoseEstimator-Video] [DEBUG] initialization mobilenet_thin : /home/MPLab/mplab006/tf_action_recognition/models/graph/mobilenet_thin/graph_opt.pb\n"
     ]
    },
    {
     "name": "stdout",
     "output_type": "stream",
     "text": [
      "video  v_PlayingFlute_g24_c04.avi  inferenced done.\n",
      "# of finished videos:  147\n",
      "# of finished directories:  3\n",
      "inferencing video:  v_PlayingFlute_g24_c05.avi  from  PlayingFlute  directory\n"
     ]
    },
    {
     "name": "stderr",
     "output_type": "stream",
     "text": [
      "[2018-07-27 15:47:10,221] [TfPoseEstimator-Video] [DEBUG] initialization mobilenet_thin : /home/MPLab/mplab006/tf_action_recognition/models/graph/mobilenet_thin/graph_opt.pb\n"
     ]
    },
    {
     "name": "stdout",
     "output_type": "stream",
     "text": [
      "video  v_PlayingFlute_g24_c05.avi  inferenced done.\n",
      "# of finished videos:  148\n",
      "# of finished directories:  3\n",
      "inferencing video:  v_PlayingFlute_g25_c01.avi  from  PlayingFlute  directory\n"
     ]
    },
    {
     "name": "stderr",
     "output_type": "stream",
     "text": [
      "[2018-07-27 15:47:11,097] [TfPoseEstimator-Video] [DEBUG] initialization mobilenet_thin : /home/MPLab/mplab006/tf_action_recognition/models/graph/mobilenet_thin/graph_opt.pb\n"
     ]
    },
    {
     "name": "stdout",
     "output_type": "stream",
     "text": [
      "video  v_PlayingFlute_g25_c01.avi  inferenced done.\n",
      "# of finished videos:  149\n",
      "# of finished directories:  3\n",
      "inferencing video:  v_PlayingFlute_g25_c02.avi  from  PlayingFlute  directory\n"
     ]
    },
    {
     "name": "stderr",
     "output_type": "stream",
     "text": [
      "[2018-07-27 15:47:11,978] [TfPoseEstimator-Video] [DEBUG] initialization mobilenet_thin : /home/MPLab/mplab006/tf_action_recognition/models/graph/mobilenet_thin/graph_opt.pb\n"
     ]
    },
    {
     "name": "stdout",
     "output_type": "stream",
     "text": [
      "video  v_PlayingFlute_g25_c02.avi  inferenced done.\n",
      "# of finished videos:  150\n",
      "# of finished directories:  3\n",
      "inferencing video:  v_PlayingFlute_g25_c03.avi  from  PlayingFlute  directory\n"
     ]
    },
    {
     "name": "stderr",
     "output_type": "stream",
     "text": [
      "[2018-07-27 15:47:12,857] [TfPoseEstimator-Video] [DEBUG] initialization mobilenet_thin : /home/MPLab/mplab006/tf_action_recognition/models/graph/mobilenet_thin/graph_opt.pb\n"
     ]
    },
    {
     "name": "stdout",
     "output_type": "stream",
     "text": [
      "video  v_PlayingFlute_g25_c03.avi  inferenced done.\n",
      "# of finished videos:  151\n",
      "# of finished directories:  3\n",
      "inferencing video:  v_PlayingFlute_g25_c04.avi  from  PlayingFlute  directory\n"
     ]
    },
    {
     "name": "stderr",
     "output_type": "stream",
     "text": [
      "[2018-07-27 15:47:13,756] [TfPoseEstimator-Video] [DEBUG] initialization mobilenet_thin : /home/MPLab/mplab006/tf_action_recognition/models/graph/mobilenet_thin/graph_opt.pb\n"
     ]
    },
    {
     "name": "stdout",
     "output_type": "stream",
     "text": [
      "video  v_PlayingFlute_g25_c04.avi  inferenced done.\n",
      "# of finished videos:  152\n",
      "# of finished directories:  3\n",
      "inferencing video:  v_PlayingFlute_g25_c05.avi  from  PlayingFlute  directory\n"
     ]
    },
    {
     "name": "stderr",
     "output_type": "stream",
     "text": [
      "[2018-07-27 15:47:14,659] [TfPoseEstimator-Video] [DEBUG] initialization mobilenet_thin : /home/MPLab/mplab006/tf_action_recognition/models/graph/mobilenet_thin/graph_opt.pb\n"
     ]
    },
    {
     "name": "stdout",
     "output_type": "stream",
     "text": [
      "video  v_PlayingFlute_g25_c05.avi  inferenced done.\n",
      "# of finished videos:  153\n",
      "# of finished directories:  3\n",
      "inferencing video:  v_PlayingFlute_g25_c06.avi  from  PlayingFlute  directory\n"
     ]
    },
    {
     "name": "stderr",
     "output_type": "stream",
     "text": [
      "[2018-07-27 15:47:15,552] [TfPoseEstimator-Video] [DEBUG] initialization mobilenet_thin : /home/MPLab/mplab006/tf_action_recognition/models/graph/mobilenet_thin/graph_opt.pb\n"
     ]
    },
    {
     "name": "stdout",
     "output_type": "stream",
     "text": [
      "video  v_PlayingFlute_g25_c06.avi  inferenced done.\n",
      "# of finished videos:  154\n",
      "# of finished directories:  3\n",
      "inferencing video:  v_PlayingFlute_g25_c07.avi  from  PlayingFlute  directory\n"
     ]
    },
    {
     "name": "stderr",
     "output_type": "stream",
     "text": [
      "[2018-07-27 15:47:16,412] [TfPoseEstimator-Video] [DEBUG] initialization mobilenet_thin : /home/MPLab/mplab006/tf_action_recognition/models/graph/mobilenet_thin/graph_opt.pb\n"
     ]
    },
    {
     "name": "stdout",
     "output_type": "stream",
     "text": [
      "video  v_PlayingFlute_g25_c07.avi  inferenced done.\n",
      "# of finished videos:  155\n",
      "# of finished directories:  3\n",
      "inferencing video:  v_PlayingGuitar_g01_c01.avi  from  PlayingGuitar  directory\n"
     ]
    },
    {
     "name": "stderr",
     "output_type": "stream",
     "text": [
      "[2018-07-27 15:47:17,285] [TfPoseEstimator-Video] [DEBUG] initialization mobilenet_thin : /home/MPLab/mplab006/tf_action_recognition/models/graph/mobilenet_thin/graph_opt.pb\n"
     ]
    },
    {
     "name": "stdout",
     "output_type": "stream",
     "text": [
      "video  v_PlayingGuitar_g01_c01.avi  inferenced done.\n",
      "# of finished videos:  1\n",
      "# of finished directories:  4\n",
      "inferencing video:  v_PlayingGuitar_g01_c02.avi  from  PlayingGuitar  directory\n"
     ]
    },
    {
     "name": "stderr",
     "output_type": "stream",
     "text": [
      "[2018-07-27 15:47:18,168] [TfPoseEstimator-Video] [DEBUG] initialization mobilenet_thin : /home/MPLab/mplab006/tf_action_recognition/models/graph/mobilenet_thin/graph_opt.pb\n"
     ]
    },
    {
     "name": "stdout",
     "output_type": "stream",
     "text": [
      "video  v_PlayingGuitar_g01_c02.avi  inferenced done.\n",
      "# of finished videos:  2\n",
      "# of finished directories:  4\n",
      "inferencing video:  v_PlayingGuitar_g01_c03.avi  from  PlayingGuitar  directory\n"
     ]
    },
    {
     "name": "stderr",
     "output_type": "stream",
     "text": [
      "[2018-07-27 15:47:19,058] [TfPoseEstimator-Video] [DEBUG] initialization mobilenet_thin : /home/MPLab/mplab006/tf_action_recognition/models/graph/mobilenet_thin/graph_opt.pb\n"
     ]
    },
    {
     "name": "stdout",
     "output_type": "stream",
     "text": [
      "video  v_PlayingGuitar_g01_c03.avi  inferenced done.\n",
      "# of finished videos:  3\n",
      "# of finished directories:  4\n",
      "inferencing video:  v_PlayingGuitar_g01_c04.avi  from  PlayingGuitar  directory\n"
     ]
    },
    {
     "name": "stderr",
     "output_type": "stream",
     "text": [
      "[2018-07-27 15:47:19,900] [TfPoseEstimator-Video] [DEBUG] initialization mobilenet_thin : /home/MPLab/mplab006/tf_action_recognition/models/graph/mobilenet_thin/graph_opt.pb\n"
     ]
    },
    {
     "name": "stdout",
     "output_type": "stream",
     "text": [
      "video  v_PlayingGuitar_g01_c04.avi  inferenced done.\n",
      "# of finished videos:  4\n",
      "# of finished directories:  4\n",
      "inferencing video:  v_PlayingGuitar_g01_c05.avi  from  PlayingGuitar  directory\n"
     ]
    },
    {
     "name": "stderr",
     "output_type": "stream",
     "text": [
      "[2018-07-27 15:47:20,753] [TfPoseEstimator-Video] [DEBUG] initialization mobilenet_thin : /home/MPLab/mplab006/tf_action_recognition/models/graph/mobilenet_thin/graph_opt.pb\n"
     ]
    },
    {
     "name": "stdout",
     "output_type": "stream",
     "text": [
      "video  v_PlayingGuitar_g01_c05.avi  inferenced done.\n",
      "# of finished videos:  5\n",
      "# of finished directories:  4\n",
      "inferencing video:  v_PlayingGuitar_g01_c06.avi  from  PlayingGuitar  directory\n"
     ]
    },
    {
     "name": "stderr",
     "output_type": "stream",
     "text": [
      "[2018-07-27 15:47:21,614] [TfPoseEstimator-Video] [DEBUG] initialization mobilenet_thin : /home/MPLab/mplab006/tf_action_recognition/models/graph/mobilenet_thin/graph_opt.pb\n"
     ]
    },
    {
     "name": "stdout",
     "output_type": "stream",
     "text": [
      "video  v_PlayingGuitar_g01_c06.avi  inferenced done.\n",
      "# of finished videos:  6\n",
      "# of finished directories:  4\n",
      "inferencing video:  v_PlayingGuitar_g02_c01.avi  from  PlayingGuitar  directory\n"
     ]
    },
    {
     "name": "stderr",
     "output_type": "stream",
     "text": [
      "[2018-07-27 15:47:22,471] [TfPoseEstimator-Video] [DEBUG] initialization mobilenet_thin : /home/MPLab/mplab006/tf_action_recognition/models/graph/mobilenet_thin/graph_opt.pb\n"
     ]
    },
    {
     "name": "stdout",
     "output_type": "stream",
     "text": [
      "video  v_PlayingGuitar_g02_c01.avi  inferenced done.\n",
      "# of finished videos:  7\n",
      "# of finished directories:  4\n",
      "inferencing video:  v_PlayingGuitar_g02_c02.avi  from  PlayingGuitar  directory\n"
     ]
    },
    {
     "name": "stderr",
     "output_type": "stream",
     "text": [
      "[2018-07-27 15:47:23,366] [TfPoseEstimator-Video] [DEBUG] initialization mobilenet_thin : /home/MPLab/mplab006/tf_action_recognition/models/graph/mobilenet_thin/graph_opt.pb\n"
     ]
    },
    {
     "name": "stdout",
     "output_type": "stream",
     "text": [
      "video  v_PlayingGuitar_g02_c02.avi  inferenced done.\n",
      "# of finished videos:  8\n",
      "# of finished directories:  4\n",
      "inferencing video:  v_PlayingGuitar_g02_c03.avi  from  PlayingGuitar  directory\n"
     ]
    },
    {
     "name": "stderr",
     "output_type": "stream",
     "text": [
      "[2018-07-27 15:47:24,222] [TfPoseEstimator-Video] [DEBUG] initialization mobilenet_thin : /home/MPLab/mplab006/tf_action_recognition/models/graph/mobilenet_thin/graph_opt.pb\n"
     ]
    },
    {
     "name": "stdout",
     "output_type": "stream",
     "text": [
      "video  v_PlayingGuitar_g02_c03.avi  inferenced done.\n",
      "# of finished videos:  9\n",
      "# of finished directories:  4\n",
      "inferencing video:  v_PlayingGuitar_g02_c04.avi  from  PlayingGuitar  directory\n"
     ]
    },
    {
     "name": "stderr",
     "output_type": "stream",
     "text": [
      "[2018-07-27 15:47:25,092] [TfPoseEstimator-Video] [DEBUG] initialization mobilenet_thin : /home/MPLab/mplab006/tf_action_recognition/models/graph/mobilenet_thin/graph_opt.pb\n"
     ]
    },
    {
     "name": "stdout",
     "output_type": "stream",
     "text": [
      "video  v_PlayingGuitar_g02_c04.avi  inferenced done.\n",
      "# of finished videos:  10\n",
      "# of finished directories:  4\n",
      "inferencing video:  v_PlayingGuitar_g03_c01.avi  from  PlayingGuitar  directory\n"
     ]
    },
    {
     "name": "stderr",
     "output_type": "stream",
     "text": [
      "[2018-07-27 15:47:25,962] [TfPoseEstimator-Video] [DEBUG] initialization mobilenet_thin : /home/MPLab/mplab006/tf_action_recognition/models/graph/mobilenet_thin/graph_opt.pb\n"
     ]
    },
    {
     "name": "stdout",
     "output_type": "stream",
     "text": [
      "video  v_PlayingGuitar_g03_c01.avi  inferenced done.\n",
      "# of finished videos:  11\n",
      "# of finished directories:  4\n",
      "inferencing video:  v_PlayingGuitar_g03_c02.avi  from  PlayingGuitar  directory\n"
     ]
    },
    {
     "name": "stderr",
     "output_type": "stream",
     "text": [
      "[2018-07-27 15:47:26,820] [TfPoseEstimator-Video] [DEBUG] initialization mobilenet_thin : /home/MPLab/mplab006/tf_action_recognition/models/graph/mobilenet_thin/graph_opt.pb\n"
     ]
    },
    {
     "name": "stdout",
     "output_type": "stream",
     "text": [
      "video  v_PlayingGuitar_g03_c02.avi  inferenced done.\n",
      "# of finished videos:  12\n",
      "# of finished directories:  4\n",
      "inferencing video:  v_PlayingGuitar_g03_c03.avi  from  PlayingGuitar  directory\n"
     ]
    },
    {
     "name": "stderr",
     "output_type": "stream",
     "text": [
      "[2018-07-27 15:47:27,697] [TfPoseEstimator-Video] [DEBUG] initialization mobilenet_thin : /home/MPLab/mplab006/tf_action_recognition/models/graph/mobilenet_thin/graph_opt.pb\n"
     ]
    },
    {
     "name": "stdout",
     "output_type": "stream",
     "text": [
      "video  v_PlayingGuitar_g03_c03.avi  inferenced done.\n",
      "# of finished videos:  13\n",
      "# of finished directories:  4\n",
      "inferencing video:  v_PlayingGuitar_g03_c04.avi  from  PlayingGuitar  directory\n"
     ]
    },
    {
     "name": "stderr",
     "output_type": "stream",
     "text": [
      "[2018-07-27 15:47:28,564] [TfPoseEstimator-Video] [DEBUG] initialization mobilenet_thin : /home/MPLab/mplab006/tf_action_recognition/models/graph/mobilenet_thin/graph_opt.pb\n"
     ]
    },
    {
     "name": "stdout",
     "output_type": "stream",
     "text": [
      "video  v_PlayingGuitar_g03_c04.avi  inferenced done.\n",
      "# of finished videos:  14\n",
      "# of finished directories:  4\n",
      "inferencing video:  v_PlayingGuitar_g03_c05.avi  from  PlayingGuitar  directory\n"
     ]
    },
    {
     "name": "stderr",
     "output_type": "stream",
     "text": [
      "[2018-07-27 15:47:29,426] [TfPoseEstimator-Video] [DEBUG] initialization mobilenet_thin : /home/MPLab/mplab006/tf_action_recognition/models/graph/mobilenet_thin/graph_opt.pb\n"
     ]
    },
    {
     "name": "stdout",
     "output_type": "stream",
     "text": [
      "video  v_PlayingGuitar_g03_c05.avi  inferenced done.\n",
      "# of finished videos:  15\n",
      "# of finished directories:  4\n",
      "inferencing video:  v_PlayingGuitar_g03_c06.avi  from  PlayingGuitar  directory\n"
     ]
    },
    {
     "name": "stderr",
     "output_type": "stream",
     "text": [
      "[2018-07-27 15:47:30,255] [TfPoseEstimator-Video] [DEBUG] initialization mobilenet_thin : /home/MPLab/mplab006/tf_action_recognition/models/graph/mobilenet_thin/graph_opt.pb\n"
     ]
    },
    {
     "name": "stdout",
     "output_type": "stream",
     "text": [
      "video  v_PlayingGuitar_g03_c06.avi  inferenced done.\n",
      "# of finished videos:  16\n",
      "# of finished directories:  4\n",
      "inferencing video:  v_PlayingGuitar_g03_c07.avi  from  PlayingGuitar  directory\n"
     ]
    },
    {
     "name": "stderr",
     "output_type": "stream",
     "text": [
      "[2018-07-27 15:47:31,109] [TfPoseEstimator-Video] [DEBUG] initialization mobilenet_thin : /home/MPLab/mplab006/tf_action_recognition/models/graph/mobilenet_thin/graph_opt.pb\n"
     ]
    },
    {
     "name": "stdout",
     "output_type": "stream",
     "text": [
      "video  v_PlayingGuitar_g03_c07.avi  inferenced done.\n",
      "# of finished videos:  17\n",
      "# of finished directories:  4\n",
      "inferencing video:  v_PlayingGuitar_g04_c01.avi  from  PlayingGuitar  directory\n"
     ]
    },
    {
     "name": "stderr",
     "output_type": "stream",
     "text": [
      "[2018-07-27 15:47:31,988] [TfPoseEstimator-Video] [DEBUG] initialization mobilenet_thin : /home/MPLab/mplab006/tf_action_recognition/models/graph/mobilenet_thin/graph_opt.pb\n"
     ]
    },
    {
     "name": "stdout",
     "output_type": "stream",
     "text": [
      "video  v_PlayingGuitar_g04_c01.avi  inferenced done.\n",
      "# of finished videos:  18\n",
      "# of finished directories:  4\n",
      "inferencing video:  v_PlayingGuitar_g04_c02.avi  from  PlayingGuitar  directory\n"
     ]
    },
    {
     "name": "stderr",
     "output_type": "stream",
     "text": [
      "[2018-07-27 15:47:32,906] [TfPoseEstimator-Video] [DEBUG] initialization mobilenet_thin : /home/MPLab/mplab006/tf_action_recognition/models/graph/mobilenet_thin/graph_opt.pb\n"
     ]
    },
    {
     "name": "stdout",
     "output_type": "stream",
     "text": [
      "video  v_PlayingGuitar_g04_c02.avi  inferenced done.\n",
      "# of finished videos:  19\n",
      "# of finished directories:  4\n",
      "inferencing video:  v_PlayingGuitar_g04_c03.avi  from  PlayingGuitar  directory\n"
     ]
    },
    {
     "name": "stderr",
     "output_type": "stream",
     "text": [
      "[2018-07-27 15:47:33,790] [TfPoseEstimator-Video] [DEBUG] initialization mobilenet_thin : /home/MPLab/mplab006/tf_action_recognition/models/graph/mobilenet_thin/graph_opt.pb\n"
     ]
    },
    {
     "name": "stdout",
     "output_type": "stream",
     "text": [
      "video  v_PlayingGuitar_g04_c03.avi  inferenced done.\n",
      "# of finished videos:  20\n",
      "# of finished directories:  4\n",
      "inferencing video:  v_PlayingGuitar_g04_c04.avi  from  PlayingGuitar  directory\n"
     ]
    },
    {
     "name": "stderr",
     "output_type": "stream",
     "text": [
      "[2018-07-27 15:47:34,646] [TfPoseEstimator-Video] [DEBUG] initialization mobilenet_thin : /home/MPLab/mplab006/tf_action_recognition/models/graph/mobilenet_thin/graph_opt.pb\n"
     ]
    },
    {
     "name": "stdout",
     "output_type": "stream",
     "text": [
      "video  v_PlayingGuitar_g04_c04.avi  inferenced done.\n",
      "# of finished videos:  21\n",
      "# of finished directories:  4\n",
      "inferencing video:  v_PlayingGuitar_g04_c05.avi  from  PlayingGuitar  directory\n"
     ]
    },
    {
     "name": "stderr",
     "output_type": "stream",
     "text": [
      "[2018-07-27 15:47:35,495] [TfPoseEstimator-Video] [DEBUG] initialization mobilenet_thin : /home/MPLab/mplab006/tf_action_recognition/models/graph/mobilenet_thin/graph_opt.pb\n"
     ]
    },
    {
     "name": "stdout",
     "output_type": "stream",
     "text": [
      "video  v_PlayingGuitar_g04_c05.avi  inferenced done.\n",
      "# of finished videos:  22\n",
      "# of finished directories:  4\n",
      "inferencing video:  v_PlayingGuitar_g04_c06.avi  from  PlayingGuitar  directory\n"
     ]
    },
    {
     "name": "stderr",
     "output_type": "stream",
     "text": [
      "[2018-07-27 15:47:36,371] [TfPoseEstimator-Video] [DEBUG] initialization mobilenet_thin : /home/MPLab/mplab006/tf_action_recognition/models/graph/mobilenet_thin/graph_opt.pb\n"
     ]
    },
    {
     "name": "stdout",
     "output_type": "stream",
     "text": [
      "video  v_PlayingGuitar_g04_c06.avi  inferenced done.\n",
      "# of finished videos:  23\n",
      "# of finished directories:  4\n",
      "inferencing video:  v_PlayingGuitar_g04_c07.avi  from  PlayingGuitar  directory\n"
     ]
    },
    {
     "name": "stderr",
     "output_type": "stream",
     "text": [
      "[2018-07-27 15:47:37,250] [TfPoseEstimator-Video] [DEBUG] initialization mobilenet_thin : /home/MPLab/mplab006/tf_action_recognition/models/graph/mobilenet_thin/graph_opt.pb\n"
     ]
    },
    {
     "name": "stdout",
     "output_type": "stream",
     "text": [
      "video  v_PlayingGuitar_g04_c07.avi  inferenced done.\n",
      "# of finished videos:  24\n",
      "# of finished directories:  4\n",
      "inferencing video:  v_PlayingGuitar_g05_c01.avi  from  PlayingGuitar  directory\n"
     ]
    },
    {
     "name": "stderr",
     "output_type": "stream",
     "text": [
      "[2018-07-27 15:47:38,116] [TfPoseEstimator-Video] [DEBUG] initialization mobilenet_thin : /home/MPLab/mplab006/tf_action_recognition/models/graph/mobilenet_thin/graph_opt.pb\n"
     ]
    },
    {
     "name": "stdout",
     "output_type": "stream",
     "text": [
      "video  v_PlayingGuitar_g05_c01.avi  inferenced done.\n",
      "# of finished videos:  25\n",
      "# of finished directories:  4\n",
      "inferencing video:  v_PlayingGuitar_g05_c02.avi  from  PlayingGuitar  directory\n"
     ]
    },
    {
     "name": "stderr",
     "output_type": "stream",
     "text": [
      "[2018-07-27 15:47:39,044] [TfPoseEstimator-Video] [DEBUG] initialization mobilenet_thin : /home/MPLab/mplab006/tf_action_recognition/models/graph/mobilenet_thin/graph_opt.pb\n"
     ]
    },
    {
     "name": "stdout",
     "output_type": "stream",
     "text": [
      "video  v_PlayingGuitar_g05_c02.avi  inferenced done.\n",
      "# of finished videos:  26\n",
      "# of finished directories:  4\n",
      "inferencing video:  v_PlayingGuitar_g05_c03.avi  from  PlayingGuitar  directory\n"
     ]
    },
    {
     "name": "stderr",
     "output_type": "stream",
     "text": [
      "[2018-07-27 15:47:39,911] [TfPoseEstimator-Video] [DEBUG] initialization mobilenet_thin : /home/MPLab/mplab006/tf_action_recognition/models/graph/mobilenet_thin/graph_opt.pb\n"
     ]
    },
    {
     "name": "stdout",
     "output_type": "stream",
     "text": [
      "video  v_PlayingGuitar_g05_c03.avi  inferenced done.\n",
      "# of finished videos:  27\n",
      "# of finished directories:  4\n",
      "inferencing video:  v_PlayingGuitar_g05_c04.avi  from  PlayingGuitar  directory\n"
     ]
    },
    {
     "name": "stderr",
     "output_type": "stream",
     "text": [
      "[2018-07-27 15:47:40,793] [TfPoseEstimator-Video] [DEBUG] initialization mobilenet_thin : /home/MPLab/mplab006/tf_action_recognition/models/graph/mobilenet_thin/graph_opt.pb\n"
     ]
    },
    {
     "name": "stdout",
     "output_type": "stream",
     "text": [
      "video  v_PlayingGuitar_g05_c04.avi  inferenced done.\n",
      "# of finished videos:  28\n",
      "# of finished directories:  4\n",
      "inferencing video:  v_PlayingGuitar_g05_c05.avi  from  PlayingGuitar  directory\n"
     ]
    },
    {
     "name": "stderr",
     "output_type": "stream",
     "text": [
      "[2018-07-27 15:47:41,706] [TfPoseEstimator-Video] [DEBUG] initialization mobilenet_thin : /home/MPLab/mplab006/tf_action_recognition/models/graph/mobilenet_thin/graph_opt.pb\n"
     ]
    },
    {
     "name": "stdout",
     "output_type": "stream",
     "text": [
      "video  v_PlayingGuitar_g05_c05.avi  inferenced done.\n",
      "# of finished videos:  29\n",
      "# of finished directories:  4\n",
      "inferencing video:  v_PlayingGuitar_g06_c01.avi  from  PlayingGuitar  directory\n"
     ]
    },
    {
     "name": "stderr",
     "output_type": "stream",
     "text": [
      "[2018-07-27 15:47:42,565] [TfPoseEstimator-Video] [DEBUG] initialization mobilenet_thin : /home/MPLab/mplab006/tf_action_recognition/models/graph/mobilenet_thin/graph_opt.pb\n"
     ]
    },
    {
     "name": "stdout",
     "output_type": "stream",
     "text": [
      "video  v_PlayingGuitar_g06_c01.avi  inferenced done.\n",
      "# of finished videos:  30\n",
      "# of finished directories:  4\n",
      "inferencing video:  v_PlayingGuitar_g06_c02.avi  from  PlayingGuitar  directory\n"
     ]
    },
    {
     "name": "stderr",
     "output_type": "stream",
     "text": [
      "[2018-07-27 15:47:43,423] [TfPoseEstimator-Video] [DEBUG] initialization mobilenet_thin : /home/MPLab/mplab006/tf_action_recognition/models/graph/mobilenet_thin/graph_opt.pb\n"
     ]
    },
    {
     "name": "stdout",
     "output_type": "stream",
     "text": [
      "video  v_PlayingGuitar_g06_c02.avi  inferenced done.\n",
      "# of finished videos:  31\n",
      "# of finished directories:  4\n",
      "inferencing video:  v_PlayingGuitar_g06_c03.avi  from  PlayingGuitar  directory\n"
     ]
    },
    {
     "name": "stderr",
     "output_type": "stream",
     "text": [
      "[2018-07-27 15:47:44,294] [TfPoseEstimator-Video] [DEBUG] initialization mobilenet_thin : /home/MPLab/mplab006/tf_action_recognition/models/graph/mobilenet_thin/graph_opt.pb\n"
     ]
    },
    {
     "name": "stdout",
     "output_type": "stream",
     "text": [
      "video  v_PlayingGuitar_g06_c03.avi  inferenced done.\n",
      "# of finished videos:  32\n",
      "# of finished directories:  4\n",
      "inferencing video:  v_PlayingGuitar_g06_c04.avi  from  PlayingGuitar  directory\n"
     ]
    },
    {
     "name": "stderr",
     "output_type": "stream",
     "text": [
      "[2018-07-27 15:47:45,172] [TfPoseEstimator-Video] [DEBUG] initialization mobilenet_thin : /home/MPLab/mplab006/tf_action_recognition/models/graph/mobilenet_thin/graph_opt.pb\n"
     ]
    },
    {
     "name": "stdout",
     "output_type": "stream",
     "text": [
      "video  v_PlayingGuitar_g06_c04.avi  inferenced done.\n",
      "# of finished videos:  33\n",
      "# of finished directories:  4\n",
      "inferencing video:  v_PlayingGuitar_g06_c05.avi  from  PlayingGuitar  directory\n"
     ]
    },
    {
     "name": "stderr",
     "output_type": "stream",
     "text": [
      "[2018-07-27 15:47:46,061] [TfPoseEstimator-Video] [DEBUG] initialization mobilenet_thin : /home/MPLab/mplab006/tf_action_recognition/models/graph/mobilenet_thin/graph_opt.pb\n"
     ]
    },
    {
     "name": "stdout",
     "output_type": "stream",
     "text": [
      "video  v_PlayingGuitar_g06_c05.avi  inferenced done.\n",
      "# of finished videos:  34\n",
      "# of finished directories:  4\n",
      "inferencing video:  v_PlayingGuitar_g06_c06.avi  from  PlayingGuitar  directory\n"
     ]
    },
    {
     "name": "stderr",
     "output_type": "stream",
     "text": [
      "[2018-07-27 15:47:46,913] [TfPoseEstimator-Video] [DEBUG] initialization mobilenet_thin : /home/MPLab/mplab006/tf_action_recognition/models/graph/mobilenet_thin/graph_opt.pb\n"
     ]
    },
    {
     "name": "stdout",
     "output_type": "stream",
     "text": [
      "video  v_PlayingGuitar_g06_c06.avi  inferenced done.\n",
      "# of finished videos:  35\n",
      "# of finished directories:  4\n",
      "inferencing video:  v_PlayingGuitar_g06_c07.avi  from  PlayingGuitar  directory\n"
     ]
    },
    {
     "name": "stderr",
     "output_type": "stream",
     "text": [
      "[2018-07-27 15:47:47,758] [TfPoseEstimator-Video] [DEBUG] initialization mobilenet_thin : /home/MPLab/mplab006/tf_action_recognition/models/graph/mobilenet_thin/graph_opt.pb\n"
     ]
    },
    {
     "name": "stdout",
     "output_type": "stream",
     "text": [
      "video  v_PlayingGuitar_g06_c07.avi  inferenced done.\n",
      "# of finished videos:  36\n",
      "# of finished directories:  4\n",
      "inferencing video:  v_PlayingGuitar_g07_c01.avi  from  PlayingGuitar  directory\n"
     ]
    },
    {
     "name": "stderr",
     "output_type": "stream",
     "text": [
      "[2018-07-27 15:47:48,591] [TfPoseEstimator-Video] [DEBUG] initialization mobilenet_thin : /home/MPLab/mplab006/tf_action_recognition/models/graph/mobilenet_thin/graph_opt.pb\n"
     ]
    },
    {
     "name": "stdout",
     "output_type": "stream",
     "text": [
      "video  v_PlayingGuitar_g07_c01.avi  inferenced done.\n",
      "# of finished videos:  37\n",
      "# of finished directories:  4\n",
      "inferencing video:  v_PlayingGuitar_g07_c02.avi  from  PlayingGuitar  directory\n"
     ]
    },
    {
     "name": "stderr",
     "output_type": "stream",
     "text": [
      "[2018-07-27 15:47:49,452] [TfPoseEstimator-Video] [DEBUG] initialization mobilenet_thin : /home/MPLab/mplab006/tf_action_recognition/models/graph/mobilenet_thin/graph_opt.pb\n"
     ]
    },
    {
     "name": "stdout",
     "output_type": "stream",
     "text": [
      "video  v_PlayingGuitar_g07_c02.avi  inferenced done.\n",
      "# of finished videos:  38\n",
      "# of finished directories:  4\n",
      "inferencing video:  v_PlayingGuitar_g07_c03.avi  from  PlayingGuitar  directory\n"
     ]
    },
    {
     "name": "stderr",
     "output_type": "stream",
     "text": [
      "[2018-07-27 15:47:50,311] [TfPoseEstimator-Video] [DEBUG] initialization mobilenet_thin : /home/MPLab/mplab006/tf_action_recognition/models/graph/mobilenet_thin/graph_opt.pb\n"
     ]
    },
    {
     "name": "stdout",
     "output_type": "stream",
     "text": [
      "video  v_PlayingGuitar_g07_c03.avi  inferenced done.\n",
      "# of finished videos:  39\n",
      "# of finished directories:  4\n",
      "inferencing video:  v_PlayingGuitar_g07_c04.avi  from  PlayingGuitar  directory\n"
     ]
    },
    {
     "name": "stderr",
     "output_type": "stream",
     "text": [
      "[2018-07-27 15:47:51,177] [TfPoseEstimator-Video] [DEBUG] initialization mobilenet_thin : /home/MPLab/mplab006/tf_action_recognition/models/graph/mobilenet_thin/graph_opt.pb\n"
     ]
    },
    {
     "name": "stdout",
     "output_type": "stream",
     "text": [
      "video  v_PlayingGuitar_g07_c04.avi  inferenced done.\n",
      "# of finished videos:  40\n",
      "# of finished directories:  4\n",
      "inferencing video:  v_PlayingGuitar_g07_c05.avi  from  PlayingGuitar  directory\n"
     ]
    },
    {
     "name": "stderr",
     "output_type": "stream",
     "text": [
      "[2018-07-27 15:47:52,041] [TfPoseEstimator-Video] [DEBUG] initialization mobilenet_thin : /home/MPLab/mplab006/tf_action_recognition/models/graph/mobilenet_thin/graph_opt.pb\n"
     ]
    },
    {
     "name": "stdout",
     "output_type": "stream",
     "text": [
      "video  v_PlayingGuitar_g07_c05.avi  inferenced done.\n",
      "# of finished videos:  41\n",
      "# of finished directories:  4\n",
      "inferencing video:  v_PlayingGuitar_g07_c06.avi  from  PlayingGuitar  directory\n"
     ]
    },
    {
     "name": "stderr",
     "output_type": "stream",
     "text": [
      "[2018-07-27 15:47:52,886] [TfPoseEstimator-Video] [DEBUG] initialization mobilenet_thin : /home/MPLab/mplab006/tf_action_recognition/models/graph/mobilenet_thin/graph_opt.pb\n"
     ]
    },
    {
     "name": "stdout",
     "output_type": "stream",
     "text": [
      "video  v_PlayingGuitar_g07_c06.avi  inferenced done.\n",
      "# of finished videos:  42\n",
      "# of finished directories:  4\n",
      "inferencing video:  v_PlayingGuitar_g07_c07.avi  from  PlayingGuitar  directory\n"
     ]
    },
    {
     "name": "stderr",
     "output_type": "stream",
     "text": [
      "[2018-07-27 15:47:53,753] [TfPoseEstimator-Video] [DEBUG] initialization mobilenet_thin : /home/MPLab/mplab006/tf_action_recognition/models/graph/mobilenet_thin/graph_opt.pb\n"
     ]
    },
    {
     "name": "stdout",
     "output_type": "stream",
     "text": [
      "video  v_PlayingGuitar_g07_c07.avi  inferenced done.\n",
      "# of finished videos:  43\n",
      "# of finished directories:  4\n",
      "inferencing video:  v_PlayingGuitar_g08_c01.avi  from  PlayingGuitar  directory\n"
     ]
    },
    {
     "name": "stderr",
     "output_type": "stream",
     "text": [
      "[2018-07-27 15:47:54,628] [TfPoseEstimator-Video] [DEBUG] initialization mobilenet_thin : /home/MPLab/mplab006/tf_action_recognition/models/graph/mobilenet_thin/graph_opt.pb\n"
     ]
    },
    {
     "name": "stdout",
     "output_type": "stream",
     "text": [
      "video  v_PlayingGuitar_g08_c01.avi  inferenced done.\n",
      "# of finished videos:  44\n",
      "# of finished directories:  4\n",
      "inferencing video:  v_PlayingGuitar_g08_c02.avi  from  PlayingGuitar  directory\n"
     ]
    },
    {
     "name": "stderr",
     "output_type": "stream",
     "text": [
      "[2018-07-27 15:47:55,476] [TfPoseEstimator-Video] [DEBUG] initialization mobilenet_thin : /home/MPLab/mplab006/tf_action_recognition/models/graph/mobilenet_thin/graph_opt.pb\n"
     ]
    },
    {
     "name": "stdout",
     "output_type": "stream",
     "text": [
      "video  v_PlayingGuitar_g08_c02.avi  inferenced done.\n",
      "# of finished videos:  45\n",
      "# of finished directories:  4\n",
      "inferencing video:  v_PlayingGuitar_g08_c03.avi  from  PlayingGuitar  directory\n"
     ]
    },
    {
     "name": "stderr",
     "output_type": "stream",
     "text": [
      "[2018-07-27 15:47:56,333] [TfPoseEstimator-Video] [DEBUG] initialization mobilenet_thin : /home/MPLab/mplab006/tf_action_recognition/models/graph/mobilenet_thin/graph_opt.pb\n"
     ]
    },
    {
     "name": "stdout",
     "output_type": "stream",
     "text": [
      "video  v_PlayingGuitar_g08_c03.avi  inferenced done.\n",
      "# of finished videos:  46\n",
      "# of finished directories:  4\n",
      "inferencing video:  v_PlayingGuitar_g08_c04.avi  from  PlayingGuitar  directory\n"
     ]
    },
    {
     "name": "stderr",
     "output_type": "stream",
     "text": [
      "[2018-07-27 15:47:57,155] [TfPoseEstimator-Video] [DEBUG] initialization mobilenet_thin : /home/MPLab/mplab006/tf_action_recognition/models/graph/mobilenet_thin/graph_opt.pb\n"
     ]
    },
    {
     "name": "stdout",
     "output_type": "stream",
     "text": [
      "video  v_PlayingGuitar_g08_c04.avi  inferenced done.\n",
      "# of finished videos:  47\n",
      "# of finished directories:  4\n",
      "inferencing video:  v_PlayingGuitar_g08_c05.avi  from  PlayingGuitar  directory\n"
     ]
    },
    {
     "name": "stderr",
     "output_type": "stream",
     "text": [
      "[2018-07-27 15:47:58,019] [TfPoseEstimator-Video] [DEBUG] initialization mobilenet_thin : /home/MPLab/mplab006/tf_action_recognition/models/graph/mobilenet_thin/graph_opt.pb\n"
     ]
    },
    {
     "name": "stdout",
     "output_type": "stream",
     "text": [
      "video  v_PlayingGuitar_g08_c05.avi  inferenced done.\n",
      "# of finished videos:  48\n",
      "# of finished directories:  4\n",
      "inferencing video:  v_PlayingGuitar_g08_c06.avi  from  PlayingGuitar  directory\n"
     ]
    },
    {
     "name": "stderr",
     "output_type": "stream",
     "text": [
      "[2018-07-27 15:47:58,887] [TfPoseEstimator-Video] [DEBUG] initialization mobilenet_thin : /home/MPLab/mplab006/tf_action_recognition/models/graph/mobilenet_thin/graph_opt.pb\n"
     ]
    },
    {
     "name": "stdout",
     "output_type": "stream",
     "text": [
      "video  v_PlayingGuitar_g08_c06.avi  inferenced done.\n",
      "# of finished videos:  49\n",
      "# of finished directories:  4\n",
      "inferencing video:  v_PlayingGuitar_g08_c07.avi  from  PlayingGuitar  directory\n"
     ]
    },
    {
     "name": "stderr",
     "output_type": "stream",
     "text": [
      "[2018-07-27 15:47:59,730] [TfPoseEstimator-Video] [DEBUG] initialization mobilenet_thin : /home/MPLab/mplab006/tf_action_recognition/models/graph/mobilenet_thin/graph_opt.pb\n"
     ]
    },
    {
     "name": "stdout",
     "output_type": "stream",
     "text": [
      "video  v_PlayingGuitar_g08_c07.avi  inferenced done.\n",
      "# of finished videos:  50\n",
      "# of finished directories:  4\n",
      "inferencing video:  v_PlayingGuitar_g09_c01.avi  from  PlayingGuitar  directory\n"
     ]
    },
    {
     "name": "stderr",
     "output_type": "stream",
     "text": [
      "[2018-07-27 15:48:00,595] [TfPoseEstimator-Video] [DEBUG] initialization mobilenet_thin : /home/MPLab/mplab006/tf_action_recognition/models/graph/mobilenet_thin/graph_opt.pb\n"
     ]
    },
    {
     "name": "stdout",
     "output_type": "stream",
     "text": [
      "video  v_PlayingGuitar_g09_c01.avi  inferenced done.\n",
      "# of finished videos:  51\n",
      "# of finished directories:  4\n",
      "inferencing video:  v_PlayingGuitar_g09_c02.avi  from  PlayingGuitar  directory\n"
     ]
    },
    {
     "name": "stderr",
     "output_type": "stream",
     "text": [
      "[2018-07-27 15:48:01,472] [TfPoseEstimator-Video] [DEBUG] initialization mobilenet_thin : /home/MPLab/mplab006/tf_action_recognition/models/graph/mobilenet_thin/graph_opt.pb\n"
     ]
    },
    {
     "name": "stdout",
     "output_type": "stream",
     "text": [
      "video  v_PlayingGuitar_g09_c02.avi  inferenced done.\n",
      "# of finished videos:  52\n",
      "# of finished directories:  4\n",
      "inferencing video:  v_PlayingGuitar_g09_c03.avi  from  PlayingGuitar  directory\n"
     ]
    },
    {
     "name": "stderr",
     "output_type": "stream",
     "text": [
      "[2018-07-27 15:48:02,342] [TfPoseEstimator-Video] [DEBUG] initialization mobilenet_thin : /home/MPLab/mplab006/tf_action_recognition/models/graph/mobilenet_thin/graph_opt.pb\n"
     ]
    },
    {
     "name": "stdout",
     "output_type": "stream",
     "text": [
      "video  v_PlayingGuitar_g09_c03.avi  inferenced done.\n",
      "# of finished videos:  53\n",
      "# of finished directories:  4\n",
      "inferencing video:  v_PlayingGuitar_g09_c04.avi  from  PlayingGuitar  directory\n"
     ]
    },
    {
     "name": "stderr",
     "output_type": "stream",
     "text": [
      "[2018-07-27 15:48:03,206] [TfPoseEstimator-Video] [DEBUG] initialization mobilenet_thin : /home/MPLab/mplab006/tf_action_recognition/models/graph/mobilenet_thin/graph_opt.pb\n"
     ]
    },
    {
     "name": "stdout",
     "output_type": "stream",
     "text": [
      "video  v_PlayingGuitar_g09_c04.avi  inferenced done.\n",
      "# of finished videos:  54\n",
      "# of finished directories:  4\n",
      "inferencing video:  v_PlayingGuitar_g10_c01.avi  from  PlayingGuitar  directory\n"
     ]
    },
    {
     "name": "stderr",
     "output_type": "stream",
     "text": [
      "[2018-07-27 15:48:04,072] [TfPoseEstimator-Video] [DEBUG] initialization mobilenet_thin : /home/MPLab/mplab006/tf_action_recognition/models/graph/mobilenet_thin/graph_opt.pb\n"
     ]
    },
    {
     "name": "stdout",
     "output_type": "stream",
     "text": [
      "video  v_PlayingGuitar_g10_c01.avi  inferenced done.\n",
      "# of finished videos:  55\n",
      "# of finished directories:  4\n",
      "inferencing video:  v_PlayingGuitar_g10_c02.avi  from  PlayingGuitar  directory\n"
     ]
    },
    {
     "name": "stderr",
     "output_type": "stream",
     "text": [
      "[2018-07-27 15:48:04,945] [TfPoseEstimator-Video] [DEBUG] initialization mobilenet_thin : /home/MPLab/mplab006/tf_action_recognition/models/graph/mobilenet_thin/graph_opt.pb\n"
     ]
    },
    {
     "name": "stdout",
     "output_type": "stream",
     "text": [
      "video  v_PlayingGuitar_g10_c02.avi  inferenced done.\n",
      "# of finished videos:  56\n",
      "# of finished directories:  4\n",
      "inferencing video:  v_PlayingGuitar_g10_c03.avi  from  PlayingGuitar  directory\n"
     ]
    },
    {
     "name": "stderr",
     "output_type": "stream",
     "text": [
      "[2018-07-27 15:48:05,827] [TfPoseEstimator-Video] [DEBUG] initialization mobilenet_thin : /home/MPLab/mplab006/tf_action_recognition/models/graph/mobilenet_thin/graph_opt.pb\n"
     ]
    },
    {
     "name": "stdout",
     "output_type": "stream",
     "text": [
      "video  v_PlayingGuitar_g10_c03.avi  inferenced done.\n",
      "# of finished videos:  57\n",
      "# of finished directories:  4\n",
      "inferencing video:  v_PlayingGuitar_g10_c04.avi  from  PlayingGuitar  directory\n"
     ]
    },
    {
     "name": "stderr",
     "output_type": "stream",
     "text": [
      "[2018-07-27 15:48:06,687] [TfPoseEstimator-Video] [DEBUG] initialization mobilenet_thin : /home/MPLab/mplab006/tf_action_recognition/models/graph/mobilenet_thin/graph_opt.pb\n"
     ]
    },
    {
     "name": "stdout",
     "output_type": "stream",
     "text": [
      "video  v_PlayingGuitar_g10_c04.avi  inferenced done.\n",
      "# of finished videos:  58\n",
      "# of finished directories:  4\n",
      "inferencing video:  v_PlayingGuitar_g10_c05.avi  from  PlayingGuitar  directory\n"
     ]
    },
    {
     "name": "stderr",
     "output_type": "stream",
     "text": [
      "[2018-07-27 15:48:07,554] [TfPoseEstimator-Video] [DEBUG] initialization mobilenet_thin : /home/MPLab/mplab006/tf_action_recognition/models/graph/mobilenet_thin/graph_opt.pb\n"
     ]
    },
    {
     "name": "stdout",
     "output_type": "stream",
     "text": [
      "video  v_PlayingGuitar_g10_c05.avi  inferenced done.\n",
      "# of finished videos:  59\n",
      "# of finished directories:  4\n",
      "inferencing video:  v_PlayingGuitar_g10_c06.avi  from  PlayingGuitar  directory\n"
     ]
    },
    {
     "name": "stderr",
     "output_type": "stream",
     "text": [
      "[2018-07-27 15:48:08,423] [TfPoseEstimator-Video] [DEBUG] initialization mobilenet_thin : /home/MPLab/mplab006/tf_action_recognition/models/graph/mobilenet_thin/graph_opt.pb\n"
     ]
    },
    {
     "name": "stdout",
     "output_type": "stream",
     "text": [
      "video  v_PlayingGuitar_g10_c06.avi  inferenced done.\n",
      "# of finished videos:  60\n",
      "# of finished directories:  4\n",
      "inferencing video:  v_PlayingGuitar_g10_c07.avi  from  PlayingGuitar  directory\n"
     ]
    },
    {
     "name": "stderr",
     "output_type": "stream",
     "text": [
      "[2018-07-27 15:48:09,314] [TfPoseEstimator-Video] [DEBUG] initialization mobilenet_thin : /home/MPLab/mplab006/tf_action_recognition/models/graph/mobilenet_thin/graph_opt.pb\n"
     ]
    },
    {
     "name": "stdout",
     "output_type": "stream",
     "text": [
      "video  v_PlayingGuitar_g10_c07.avi  inferenced done.\n",
      "# of finished videos:  61\n",
      "# of finished directories:  4\n",
      "inferencing video:  v_PlayingGuitar_g11_c01.avi  from  PlayingGuitar  directory\n"
     ]
    },
    {
     "name": "stderr",
     "output_type": "stream",
     "text": [
      "[2018-07-27 15:48:10,181] [TfPoseEstimator-Video] [DEBUG] initialization mobilenet_thin : /home/MPLab/mplab006/tf_action_recognition/models/graph/mobilenet_thin/graph_opt.pb\n"
     ]
    },
    {
     "name": "stdout",
     "output_type": "stream",
     "text": [
      "video  v_PlayingGuitar_g11_c01.avi  inferenced done.\n",
      "# of finished videos:  62\n",
      "# of finished directories:  4\n",
      "inferencing video:  v_PlayingGuitar_g11_c02.avi  from  PlayingGuitar  directory\n"
     ]
    },
    {
     "name": "stderr",
     "output_type": "stream",
     "text": [
      "[2018-07-27 15:48:11,011] [TfPoseEstimator-Video] [DEBUG] initialization mobilenet_thin : /home/MPLab/mplab006/tf_action_recognition/models/graph/mobilenet_thin/graph_opt.pb\n"
     ]
    },
    {
     "name": "stdout",
     "output_type": "stream",
     "text": [
      "video  v_PlayingGuitar_g11_c02.avi  inferenced done.\n",
      "# of finished videos:  63\n",
      "# of finished directories:  4\n",
      "inferencing video:  v_PlayingGuitar_g11_c03.avi  from  PlayingGuitar  directory\n"
     ]
    },
    {
     "name": "stderr",
     "output_type": "stream",
     "text": [
      "[2018-07-27 15:48:11,863] [TfPoseEstimator-Video] [DEBUG] initialization mobilenet_thin : /home/MPLab/mplab006/tf_action_recognition/models/graph/mobilenet_thin/graph_opt.pb\n"
     ]
    },
    {
     "name": "stdout",
     "output_type": "stream",
     "text": [
      "video  v_PlayingGuitar_g11_c03.avi  inferenced done.\n",
      "# of finished videos:  64\n",
      "# of finished directories:  4\n",
      "inferencing video:  v_PlayingGuitar_g11_c04.avi  from  PlayingGuitar  directory\n"
     ]
    },
    {
     "name": "stderr",
     "output_type": "stream",
     "text": [
      "[2018-07-27 15:48:12,705] [TfPoseEstimator-Video] [DEBUG] initialization mobilenet_thin : /home/MPLab/mplab006/tf_action_recognition/models/graph/mobilenet_thin/graph_opt.pb\n"
     ]
    },
    {
     "name": "stdout",
     "output_type": "stream",
     "text": [
      "video  v_PlayingGuitar_g11_c04.avi  inferenced done.\n",
      "# of finished videos:  65\n",
      "# of finished directories:  4\n",
      "inferencing video:  v_PlayingGuitar_g11_c05.avi  from  PlayingGuitar  directory\n"
     ]
    },
    {
     "name": "stderr",
     "output_type": "stream",
     "text": [
      "[2018-07-27 15:48:13,545] [TfPoseEstimator-Video] [DEBUG] initialization mobilenet_thin : /home/MPLab/mplab006/tf_action_recognition/models/graph/mobilenet_thin/graph_opt.pb\n"
     ]
    },
    {
     "name": "stdout",
     "output_type": "stream",
     "text": [
      "video  v_PlayingGuitar_g11_c05.avi  inferenced done.\n",
      "# of finished videos:  66\n",
      "# of finished directories:  4\n",
      "inferencing video:  v_PlayingGuitar_g11_c06.avi  from  PlayingGuitar  directory\n"
     ]
    },
    {
     "name": "stderr",
     "output_type": "stream",
     "text": [
      "[2018-07-27 15:48:14,422] [TfPoseEstimator-Video] [DEBUG] initialization mobilenet_thin : /home/MPLab/mplab006/tf_action_recognition/models/graph/mobilenet_thin/graph_opt.pb\n"
     ]
    },
    {
     "name": "stdout",
     "output_type": "stream",
     "text": [
      "video  v_PlayingGuitar_g11_c06.avi  inferenced done.\n",
      "# of finished videos:  67\n",
      "# of finished directories:  4\n",
      "inferencing video:  v_PlayingGuitar_g11_c07.avi  from  PlayingGuitar  directory\n"
     ]
    },
    {
     "name": "stderr",
     "output_type": "stream",
     "text": [
      "[2018-07-27 15:48:15,273] [TfPoseEstimator-Video] [DEBUG] initialization mobilenet_thin : /home/MPLab/mplab006/tf_action_recognition/models/graph/mobilenet_thin/graph_opt.pb\n"
     ]
    },
    {
     "name": "stdout",
     "output_type": "stream",
     "text": [
      "video  v_PlayingGuitar_g11_c07.avi  inferenced done.\n",
      "# of finished videos:  68\n",
      "# of finished directories:  4\n",
      "inferencing video:  v_PlayingGuitar_g12_c01.avi  from  PlayingGuitar  directory\n"
     ]
    },
    {
     "name": "stderr",
     "output_type": "stream",
     "text": [
      "[2018-07-27 15:48:16,134] [TfPoseEstimator-Video] [DEBUG] initialization mobilenet_thin : /home/MPLab/mplab006/tf_action_recognition/models/graph/mobilenet_thin/graph_opt.pb\n"
     ]
    },
    {
     "name": "stdout",
     "output_type": "stream",
     "text": [
      "video  v_PlayingGuitar_g12_c01.avi  inferenced done.\n",
      "# of finished videos:  69\n",
      "# of finished directories:  4\n",
      "inferencing video:  v_PlayingGuitar_g12_c02.avi  from  PlayingGuitar  directory\n"
     ]
    },
    {
     "name": "stderr",
     "output_type": "stream",
     "text": [
      "[2018-07-27 15:48:17,002] [TfPoseEstimator-Video] [DEBUG] initialization mobilenet_thin : /home/MPLab/mplab006/tf_action_recognition/models/graph/mobilenet_thin/graph_opt.pb\n"
     ]
    },
    {
     "name": "stdout",
     "output_type": "stream",
     "text": [
      "video  v_PlayingGuitar_g12_c02.avi  inferenced done.\n",
      "# of finished videos:  70\n",
      "# of finished directories:  4\n",
      "inferencing video:  v_PlayingGuitar_g12_c03.avi  from  PlayingGuitar  directory\n"
     ]
    },
    {
     "name": "stderr",
     "output_type": "stream",
     "text": [
      "[2018-07-27 15:48:17,898] [TfPoseEstimator-Video] [DEBUG] initialization mobilenet_thin : /home/MPLab/mplab006/tf_action_recognition/models/graph/mobilenet_thin/graph_opt.pb\n"
     ]
    },
    {
     "name": "stdout",
     "output_type": "stream",
     "text": [
      "video  v_PlayingGuitar_g12_c03.avi  inferenced done.\n",
      "# of finished videos:  71\n",
      "# of finished directories:  4\n",
      "inferencing video:  v_PlayingGuitar_g12_c04.avi  from  PlayingGuitar  directory\n"
     ]
    },
    {
     "name": "stderr",
     "output_type": "stream",
     "text": [
      "[2018-07-27 15:48:18,756] [TfPoseEstimator-Video] [DEBUG] initialization mobilenet_thin : /home/MPLab/mplab006/tf_action_recognition/models/graph/mobilenet_thin/graph_opt.pb\n"
     ]
    },
    {
     "name": "stdout",
     "output_type": "stream",
     "text": [
      "video  v_PlayingGuitar_g12_c04.avi  inferenced done.\n",
      "# of finished videos:  72\n",
      "# of finished directories:  4\n",
      "inferencing video:  v_PlayingGuitar_g12_c05.avi  from  PlayingGuitar  directory\n"
     ]
    },
    {
     "name": "stderr",
     "output_type": "stream",
     "text": [
      "[2018-07-27 15:48:19,620] [TfPoseEstimator-Video] [DEBUG] initialization mobilenet_thin : /home/MPLab/mplab006/tf_action_recognition/models/graph/mobilenet_thin/graph_opt.pb\n"
     ]
    },
    {
     "name": "stdout",
     "output_type": "stream",
     "text": [
      "video  v_PlayingGuitar_g12_c05.avi  inferenced done.\n",
      "# of finished videos:  73\n",
      "# of finished directories:  4\n",
      "inferencing video:  v_PlayingGuitar_g12_c06.avi  from  PlayingGuitar  directory\n"
     ]
    },
    {
     "name": "stderr",
     "output_type": "stream",
     "text": [
      "[2018-07-27 15:48:20,483] [TfPoseEstimator-Video] [DEBUG] initialization mobilenet_thin : /home/MPLab/mplab006/tf_action_recognition/models/graph/mobilenet_thin/graph_opt.pb\n"
     ]
    },
    {
     "name": "stdout",
     "output_type": "stream",
     "text": [
      "video  v_PlayingGuitar_g12_c06.avi  inferenced done.\n",
      "# of finished videos:  74\n",
      "# of finished directories:  4\n",
      "inferencing video:  v_PlayingGuitar_g12_c07.avi  from  PlayingGuitar  directory\n"
     ]
    },
    {
     "name": "stderr",
     "output_type": "stream",
     "text": [
      "[2018-07-27 15:48:21,356] [TfPoseEstimator-Video] [DEBUG] initialization mobilenet_thin : /home/MPLab/mplab006/tf_action_recognition/models/graph/mobilenet_thin/graph_opt.pb\n"
     ]
    },
    {
     "name": "stdout",
     "output_type": "stream",
     "text": [
      "video  v_PlayingGuitar_g12_c07.avi  inferenced done.\n",
      "# of finished videos:  75\n",
      "# of finished directories:  4\n",
      "inferencing video:  v_PlayingGuitar_g13_c01.avi  from  PlayingGuitar  directory\n"
     ]
    },
    {
     "name": "stderr",
     "output_type": "stream",
     "text": [
      "[2018-07-27 15:48:22,222] [TfPoseEstimator-Video] [DEBUG] initialization mobilenet_thin : /home/MPLab/mplab006/tf_action_recognition/models/graph/mobilenet_thin/graph_opt.pb\n"
     ]
    },
    {
     "name": "stdout",
     "output_type": "stream",
     "text": [
      "video  v_PlayingGuitar_g13_c01.avi  inferenced done.\n",
      "# of finished videos:  76\n",
      "# of finished directories:  4\n",
      "inferencing video:  v_PlayingGuitar_g13_c02.avi  from  PlayingGuitar  directory\n"
     ]
    },
    {
     "name": "stderr",
     "output_type": "stream",
     "text": [
      "[2018-07-27 15:48:23,093] [TfPoseEstimator-Video] [DEBUG] initialization mobilenet_thin : /home/MPLab/mplab006/tf_action_recognition/models/graph/mobilenet_thin/graph_opt.pb\n"
     ]
    },
    {
     "name": "stdout",
     "output_type": "stream",
     "text": [
      "video  v_PlayingGuitar_g13_c02.avi  inferenced done.\n",
      "# of finished videos:  77\n",
      "# of finished directories:  4\n",
      "inferencing video:  v_PlayingGuitar_g13_c03.avi  from  PlayingGuitar  directory\n"
     ]
    },
    {
     "name": "stderr",
     "output_type": "stream",
     "text": [
      "[2018-07-27 15:48:23,957] [TfPoseEstimator-Video] [DEBUG] initialization mobilenet_thin : /home/MPLab/mplab006/tf_action_recognition/models/graph/mobilenet_thin/graph_opt.pb\n"
     ]
    },
    {
     "name": "stdout",
     "output_type": "stream",
     "text": [
      "video  v_PlayingGuitar_g13_c03.avi  inferenced done.\n",
      "# of finished videos:  78\n",
      "# of finished directories:  4\n",
      "inferencing video:  v_PlayingGuitar_g13_c04.avi  from  PlayingGuitar  directory\n"
     ]
    },
    {
     "name": "stderr",
     "output_type": "stream",
     "text": [
      "[2018-07-27 15:48:24,821] [TfPoseEstimator-Video] [DEBUG] initialization mobilenet_thin : /home/MPLab/mplab006/tf_action_recognition/models/graph/mobilenet_thin/graph_opt.pb\n"
     ]
    },
    {
     "name": "stdout",
     "output_type": "stream",
     "text": [
      "video  v_PlayingGuitar_g13_c04.avi  inferenced done.\n",
      "# of finished videos:  79\n",
      "# of finished directories:  4\n",
      "inferencing video:  v_PlayingGuitar_g13_c05.avi  from  PlayingGuitar  directory\n"
     ]
    },
    {
     "name": "stderr",
     "output_type": "stream",
     "text": [
      "[2018-07-27 15:48:25,705] [TfPoseEstimator-Video] [DEBUG] initialization mobilenet_thin : /home/MPLab/mplab006/tf_action_recognition/models/graph/mobilenet_thin/graph_opt.pb\n"
     ]
    },
    {
     "name": "stdout",
     "output_type": "stream",
     "text": [
      "video  v_PlayingGuitar_g13_c05.avi  inferenced done.\n",
      "# of finished videos:  80\n",
      "# of finished directories:  4\n",
      "inferencing video:  v_PlayingGuitar_g13_c06.avi  from  PlayingGuitar  directory\n"
     ]
    },
    {
     "name": "stderr",
     "output_type": "stream",
     "text": [
      "[2018-07-27 15:48:26,578] [TfPoseEstimator-Video] [DEBUG] initialization mobilenet_thin : /home/MPLab/mplab006/tf_action_recognition/models/graph/mobilenet_thin/graph_opt.pb\n"
     ]
    },
    {
     "name": "stdout",
     "output_type": "stream",
     "text": [
      "video  v_PlayingGuitar_g13_c06.avi  inferenced done.\n",
      "# of finished videos:  81\n",
      "# of finished directories:  4\n",
      "inferencing video:  v_PlayingGuitar_g13_c07.avi  from  PlayingGuitar  directory\n"
     ]
    },
    {
     "name": "stderr",
     "output_type": "stream",
     "text": [
      "[2018-07-27 15:48:27,431] [TfPoseEstimator-Video] [DEBUG] initialization mobilenet_thin : /home/MPLab/mplab006/tf_action_recognition/models/graph/mobilenet_thin/graph_opt.pb\n"
     ]
    },
    {
     "name": "stdout",
     "output_type": "stream",
     "text": [
      "video  v_PlayingGuitar_g13_c07.avi  inferenced done.\n",
      "# of finished videos:  82\n",
      "# of finished directories:  4\n",
      "inferencing video:  v_PlayingGuitar_g14_c01.avi  from  PlayingGuitar  directory\n"
     ]
    },
    {
     "name": "stderr",
     "output_type": "stream",
     "text": [
      "[2018-07-27 15:48:28,307] [TfPoseEstimator-Video] [DEBUG] initialization mobilenet_thin : /home/MPLab/mplab006/tf_action_recognition/models/graph/mobilenet_thin/graph_opt.pb\n"
     ]
    },
    {
     "name": "stdout",
     "output_type": "stream",
     "text": [
      "video  v_PlayingGuitar_g14_c01.avi  inferenced done.\n",
      "# of finished videos:  83\n",
      "# of finished directories:  4\n",
      "inferencing video:  v_PlayingGuitar_g14_c02.avi  from  PlayingGuitar  directory\n"
     ]
    },
    {
     "name": "stderr",
     "output_type": "stream",
     "text": [
      "[2018-07-27 15:48:29,195] [TfPoseEstimator-Video] [DEBUG] initialization mobilenet_thin : /home/MPLab/mplab006/tf_action_recognition/models/graph/mobilenet_thin/graph_opt.pb\n"
     ]
    },
    {
     "name": "stdout",
     "output_type": "stream",
     "text": [
      "video  v_PlayingGuitar_g14_c02.avi  inferenced done.\n",
      "# of finished videos:  84\n",
      "# of finished directories:  4\n",
      "inferencing video:  v_PlayingGuitar_g14_c03.avi  from  PlayingGuitar  directory\n"
     ]
    },
    {
     "name": "stderr",
     "output_type": "stream",
     "text": [
      "[2018-07-27 15:48:30,022] [TfPoseEstimator-Video] [DEBUG] initialization mobilenet_thin : /home/MPLab/mplab006/tf_action_recognition/models/graph/mobilenet_thin/graph_opt.pb\n"
     ]
    },
    {
     "name": "stdout",
     "output_type": "stream",
     "text": [
      "video  v_PlayingGuitar_g14_c03.avi  inferenced done.\n",
      "# of finished videos:  85\n",
      "# of finished directories:  4\n",
      "inferencing video:  v_PlayingGuitar_g14_c04.avi  from  PlayingGuitar  directory\n"
     ]
    },
    {
     "name": "stderr",
     "output_type": "stream",
     "text": [
      "[2018-07-27 15:48:31,087] [TfPoseEstimator-Video] [DEBUG] initialization mobilenet_thin : /home/MPLab/mplab006/tf_action_recognition/models/graph/mobilenet_thin/graph_opt.pb\n"
     ]
    },
    {
     "name": "stdout",
     "output_type": "stream",
     "text": [
      "video  v_PlayingGuitar_g14_c04.avi  inferenced done.\n",
      "# of finished videos:  86\n",
      "# of finished directories:  4\n",
      "inferencing video:  v_PlayingGuitar_g14_c05.avi  from  PlayingGuitar  directory\n"
     ]
    },
    {
     "name": "stderr",
     "output_type": "stream",
     "text": [
      "[2018-07-27 15:48:32,212] [TfPoseEstimator-Video] [DEBUG] initialization mobilenet_thin : /home/MPLab/mplab006/tf_action_recognition/models/graph/mobilenet_thin/graph_opt.pb\n"
     ]
    },
    {
     "name": "stdout",
     "output_type": "stream",
     "text": [
      "video  v_PlayingGuitar_g14_c05.avi  inferenced done.\n",
      "# of finished videos:  87\n",
      "# of finished directories:  4\n",
      "inferencing video:  v_PlayingGuitar_g14_c06.avi  from  PlayingGuitar  directory\n"
     ]
    },
    {
     "name": "stderr",
     "output_type": "stream",
     "text": [
      "[2018-07-27 15:48:33,203] [TfPoseEstimator-Video] [DEBUG] initialization mobilenet_thin : /home/MPLab/mplab006/tf_action_recognition/models/graph/mobilenet_thin/graph_opt.pb\n"
     ]
    },
    {
     "name": "stdout",
     "output_type": "stream",
     "text": [
      "video  v_PlayingGuitar_g14_c06.avi  inferenced done.\n",
      "# of finished videos:  88\n",
      "# of finished directories:  4\n",
      "inferencing video:  v_PlayingGuitar_g14_c07.avi  from  PlayingGuitar  directory\n"
     ]
    },
    {
     "name": "stderr",
     "output_type": "stream",
     "text": [
      "[2018-07-27 15:48:34,055] [TfPoseEstimator-Video] [DEBUG] initialization mobilenet_thin : /home/MPLab/mplab006/tf_action_recognition/models/graph/mobilenet_thin/graph_opt.pb\n"
     ]
    },
    {
     "name": "stdout",
     "output_type": "stream",
     "text": [
      "video  v_PlayingGuitar_g14_c07.avi  inferenced done.\n",
      "# of finished videos:  89\n",
      "# of finished directories:  4\n",
      "inferencing video:  v_PlayingGuitar_g15_c01.avi  from  PlayingGuitar  directory\n"
     ]
    },
    {
     "name": "stderr",
     "output_type": "stream",
     "text": [
      "[2018-07-27 15:48:34,914] [TfPoseEstimator-Video] [DEBUG] initialization mobilenet_thin : /home/MPLab/mplab006/tf_action_recognition/models/graph/mobilenet_thin/graph_opt.pb\n"
     ]
    },
    {
     "name": "stdout",
     "output_type": "stream",
     "text": [
      "video  v_PlayingGuitar_g15_c01.avi  inferenced done.\n",
      "# of finished videos:  90\n",
      "# of finished directories:  4\n",
      "inferencing video:  v_PlayingGuitar_g15_c02.avi  from  PlayingGuitar  directory\n"
     ]
    },
    {
     "name": "stderr",
     "output_type": "stream",
     "text": [
      "[2018-07-27 15:48:35,795] [TfPoseEstimator-Video] [DEBUG] initialization mobilenet_thin : /home/MPLab/mplab006/tf_action_recognition/models/graph/mobilenet_thin/graph_opt.pb\n"
     ]
    },
    {
     "name": "stdout",
     "output_type": "stream",
     "text": [
      "video  v_PlayingGuitar_g15_c02.avi  inferenced done.\n",
      "# of finished videos:  91\n",
      "# of finished directories:  4\n",
      "inferencing video:  v_PlayingGuitar_g15_c03.avi  from  PlayingGuitar  directory\n"
     ]
    },
    {
     "name": "stderr",
     "output_type": "stream",
     "text": [
      "[2018-07-27 15:48:36,661] [TfPoseEstimator-Video] [DEBUG] initialization mobilenet_thin : /home/MPLab/mplab006/tf_action_recognition/models/graph/mobilenet_thin/graph_opt.pb\n"
     ]
    },
    {
     "name": "stdout",
     "output_type": "stream",
     "text": [
      "video  v_PlayingGuitar_g15_c03.avi  inferenced done.\n",
      "# of finished videos:  92\n",
      "# of finished directories:  4\n",
      "inferencing video:  v_PlayingGuitar_g15_c04.avi  from  PlayingGuitar  directory\n"
     ]
    },
    {
     "name": "stderr",
     "output_type": "stream",
     "text": [
      "[2018-07-27 15:48:37,516] [TfPoseEstimator-Video] [DEBUG] initialization mobilenet_thin : /home/MPLab/mplab006/tf_action_recognition/models/graph/mobilenet_thin/graph_opt.pb\n"
     ]
    },
    {
     "name": "stdout",
     "output_type": "stream",
     "text": [
      "video  v_PlayingGuitar_g15_c04.avi  inferenced done.\n",
      "# of finished videos:  93\n",
      "# of finished directories:  4\n",
      "inferencing video:  v_PlayingGuitar_g15_c05.avi  from  PlayingGuitar  directory\n"
     ]
    },
    {
     "name": "stderr",
     "output_type": "stream",
     "text": [
      "[2018-07-27 15:48:38,384] [TfPoseEstimator-Video] [DEBUG] initialization mobilenet_thin : /home/MPLab/mplab006/tf_action_recognition/models/graph/mobilenet_thin/graph_opt.pb\n"
     ]
    },
    {
     "name": "stdout",
     "output_type": "stream",
     "text": [
      "video  v_PlayingGuitar_g15_c05.avi  inferenced done.\n",
      "# of finished videos:  94\n",
      "# of finished directories:  4\n",
      "inferencing video:  v_PlayingGuitar_g15_c06.avi  from  PlayingGuitar  directory\n"
     ]
    },
    {
     "name": "stderr",
     "output_type": "stream",
     "text": [
      "[2018-07-27 15:48:39,244] [TfPoseEstimator-Video] [DEBUG] initialization mobilenet_thin : /home/MPLab/mplab006/tf_action_recognition/models/graph/mobilenet_thin/graph_opt.pb\n"
     ]
    },
    {
     "name": "stdout",
     "output_type": "stream",
     "text": [
      "video  v_PlayingGuitar_g15_c06.avi  inferenced done.\n",
      "# of finished videos:  95\n",
      "# of finished directories:  4\n",
      "inferencing video:  v_PlayingGuitar_g15_c07.avi  from  PlayingGuitar  directory\n"
     ]
    },
    {
     "name": "stderr",
     "output_type": "stream",
     "text": [
      "[2018-07-27 15:48:40,091] [TfPoseEstimator-Video] [DEBUG] initialization mobilenet_thin : /home/MPLab/mplab006/tf_action_recognition/models/graph/mobilenet_thin/graph_opt.pb\n"
     ]
    },
    {
     "name": "stdout",
     "output_type": "stream",
     "text": [
      "video  v_PlayingGuitar_g15_c07.avi  inferenced done.\n",
      "# of finished videos:  96\n",
      "# of finished directories:  4\n",
      "inferencing video:  v_PlayingGuitar_g16_c01.avi  from  PlayingGuitar  directory\n"
     ]
    },
    {
     "name": "stderr",
     "output_type": "stream",
     "text": [
      "[2018-07-27 15:48:40,948] [TfPoseEstimator-Video] [DEBUG] initialization mobilenet_thin : /home/MPLab/mplab006/tf_action_recognition/models/graph/mobilenet_thin/graph_opt.pb\n"
     ]
    },
    {
     "name": "stdout",
     "output_type": "stream",
     "text": [
      "video  v_PlayingGuitar_g16_c01.avi  inferenced done.\n",
      "# of finished videos:  97\n",
      "# of finished directories:  4\n",
      "inferencing video:  v_PlayingGuitar_g16_c02.avi  from  PlayingGuitar  directory\n"
     ]
    },
    {
     "name": "stderr",
     "output_type": "stream",
     "text": [
      "[2018-07-27 15:48:41,784] [TfPoseEstimator-Video] [DEBUG] initialization mobilenet_thin : /home/MPLab/mplab006/tf_action_recognition/models/graph/mobilenet_thin/graph_opt.pb\n"
     ]
    },
    {
     "name": "stdout",
     "output_type": "stream",
     "text": [
      "video  v_PlayingGuitar_g16_c02.avi  inferenced done.\n",
      "# of finished videos:  98\n",
      "# of finished directories:  4\n",
      "inferencing video:  v_PlayingGuitar_g16_c03.avi  from  PlayingGuitar  directory\n"
     ]
    },
    {
     "name": "stderr",
     "output_type": "stream",
     "text": [
      "[2018-07-27 15:48:42,615] [TfPoseEstimator-Video] [DEBUG] initialization mobilenet_thin : /home/MPLab/mplab006/tf_action_recognition/models/graph/mobilenet_thin/graph_opt.pb\n"
     ]
    },
    {
     "name": "stdout",
     "output_type": "stream",
     "text": [
      "video  v_PlayingGuitar_g16_c03.avi  inferenced done.\n",
      "# of finished videos:  99\n",
      "# of finished directories:  4\n",
      "inferencing video:  v_PlayingGuitar_g16_c04.avi  from  PlayingGuitar  directory\n"
     ]
    },
    {
     "name": "stderr",
     "output_type": "stream",
     "text": [
      "[2018-07-27 15:48:43,485] [TfPoseEstimator-Video] [DEBUG] initialization mobilenet_thin : /home/MPLab/mplab006/tf_action_recognition/models/graph/mobilenet_thin/graph_opt.pb\n"
     ]
    },
    {
     "name": "stdout",
     "output_type": "stream",
     "text": [
      "video  v_PlayingGuitar_g16_c04.avi  inferenced done.\n",
      "# of finished videos:  100\n",
      "# of finished directories:  4\n",
      "inferencing video:  v_PlayingGuitar_g16_c05.avi  from  PlayingGuitar  directory\n"
     ]
    },
    {
     "name": "stderr",
     "output_type": "stream",
     "text": [
      "[2018-07-27 15:48:44,313] [TfPoseEstimator-Video] [DEBUG] initialization mobilenet_thin : /home/MPLab/mplab006/tf_action_recognition/models/graph/mobilenet_thin/graph_opt.pb\n"
     ]
    },
    {
     "name": "stdout",
     "output_type": "stream",
     "text": [
      "video  v_PlayingGuitar_g16_c05.avi  inferenced done.\n",
      "# of finished videos:  101\n",
      "# of finished directories:  4\n",
      "inferencing video:  v_PlayingGuitar_g16_c06.avi  from  PlayingGuitar  directory\n"
     ]
    },
    {
     "name": "stderr",
     "output_type": "stream",
     "text": [
      "[2018-07-27 15:48:45,138] [TfPoseEstimator-Video] [DEBUG] initialization mobilenet_thin : /home/MPLab/mplab006/tf_action_recognition/models/graph/mobilenet_thin/graph_opt.pb\n"
     ]
    },
    {
     "name": "stdout",
     "output_type": "stream",
     "text": [
      "video  v_PlayingGuitar_g16_c06.avi  inferenced done.\n",
      "# of finished videos:  102\n",
      "# of finished directories:  4\n",
      "inferencing video:  v_PlayingGuitar_g16_c07.avi  from  PlayingGuitar  directory\n"
     ]
    },
    {
     "name": "stderr",
     "output_type": "stream",
     "text": [
      "[2018-07-27 15:48:45,988] [TfPoseEstimator-Video] [DEBUG] initialization mobilenet_thin : /home/MPLab/mplab006/tf_action_recognition/models/graph/mobilenet_thin/graph_opt.pb\n"
     ]
    },
    {
     "name": "stdout",
     "output_type": "stream",
     "text": [
      "video  v_PlayingGuitar_g16_c07.avi  inferenced done.\n",
      "# of finished videos:  103\n",
      "# of finished directories:  4\n",
      "inferencing video:  v_PlayingGuitar_g17_c01.avi  from  PlayingGuitar  directory\n"
     ]
    },
    {
     "name": "stderr",
     "output_type": "stream",
     "text": [
      "[2018-07-27 15:48:46,832] [TfPoseEstimator-Video] [DEBUG] initialization mobilenet_thin : /home/MPLab/mplab006/tf_action_recognition/models/graph/mobilenet_thin/graph_opt.pb\n"
     ]
    },
    {
     "name": "stdout",
     "output_type": "stream",
     "text": [
      "video  v_PlayingGuitar_g17_c01.avi  inferenced done.\n",
      "# of finished videos:  104\n",
      "# of finished directories:  4\n",
      "inferencing video:  v_PlayingGuitar_g17_c02.avi  from  PlayingGuitar  directory\n"
     ]
    },
    {
     "name": "stderr",
     "output_type": "stream",
     "text": [
      "[2018-07-27 15:48:47,687] [TfPoseEstimator-Video] [DEBUG] initialization mobilenet_thin : /home/MPLab/mplab006/tf_action_recognition/models/graph/mobilenet_thin/graph_opt.pb\n"
     ]
    },
    {
     "name": "stdout",
     "output_type": "stream",
     "text": [
      "video  v_PlayingGuitar_g17_c02.avi  inferenced done.\n",
      "# of finished videos:  105\n",
      "# of finished directories:  4\n",
      "inferencing video:  v_PlayingGuitar_g17_c03.avi  from  PlayingGuitar  directory\n"
     ]
    },
    {
     "name": "stderr",
     "output_type": "stream",
     "text": [
      "[2018-07-27 15:48:48,525] [TfPoseEstimator-Video] [DEBUG] initialization mobilenet_thin : /home/MPLab/mplab006/tf_action_recognition/models/graph/mobilenet_thin/graph_opt.pb\n"
     ]
    },
    {
     "name": "stdout",
     "output_type": "stream",
     "text": [
      "video  v_PlayingGuitar_g17_c03.avi  inferenced done.\n",
      "# of finished videos:  106\n",
      "# of finished directories:  4\n",
      "inferencing video:  v_PlayingGuitar_g17_c04.avi  from  PlayingGuitar  directory\n"
     ]
    },
    {
     "name": "stderr",
     "output_type": "stream",
     "text": [
      "[2018-07-27 15:48:49,361] [TfPoseEstimator-Video] [DEBUG] initialization mobilenet_thin : /home/MPLab/mplab006/tf_action_recognition/models/graph/mobilenet_thin/graph_opt.pb\n"
     ]
    },
    {
     "name": "stdout",
     "output_type": "stream",
     "text": [
      "video  v_PlayingGuitar_g17_c04.avi  inferenced done.\n",
      "# of finished videos:  107\n",
      "# of finished directories:  4\n",
      "inferencing video:  v_PlayingGuitar_g17_c05.avi  from  PlayingGuitar  directory\n"
     ]
    },
    {
     "name": "stderr",
     "output_type": "stream",
     "text": [
      "[2018-07-27 15:48:50,203] [TfPoseEstimator-Video] [DEBUG] initialization mobilenet_thin : /home/MPLab/mplab006/tf_action_recognition/models/graph/mobilenet_thin/graph_opt.pb\n"
     ]
    },
    {
     "name": "stdout",
     "output_type": "stream",
     "text": [
      "video  v_PlayingGuitar_g17_c05.avi  inferenced done.\n",
      "# of finished videos:  108\n",
      "# of finished directories:  4\n",
      "inferencing video:  v_PlayingGuitar_g17_c06.avi  from  PlayingGuitar  directory\n"
     ]
    },
    {
     "name": "stderr",
     "output_type": "stream",
     "text": [
      "[2018-07-27 15:48:51,062] [TfPoseEstimator-Video] [DEBUG] initialization mobilenet_thin : /home/MPLab/mplab006/tf_action_recognition/models/graph/mobilenet_thin/graph_opt.pb\n"
     ]
    },
    {
     "name": "stdout",
     "output_type": "stream",
     "text": [
      "video  v_PlayingGuitar_g17_c06.avi  inferenced done.\n",
      "# of finished videos:  109\n",
      "# of finished directories:  4\n",
      "inferencing video:  v_PlayingGuitar_g17_c07.avi  from  PlayingGuitar  directory\n"
     ]
    },
    {
     "name": "stderr",
     "output_type": "stream",
     "text": [
      "[2018-07-27 15:48:51,884] [TfPoseEstimator-Video] [DEBUG] initialization mobilenet_thin : /home/MPLab/mplab006/tf_action_recognition/models/graph/mobilenet_thin/graph_opt.pb\n"
     ]
    },
    {
     "name": "stdout",
     "output_type": "stream",
     "text": [
      "video  v_PlayingGuitar_g17_c07.avi  inferenced done.\n",
      "# of finished videos:  110\n",
      "# of finished directories:  4\n",
      "inferencing video:  v_PlayingGuitar_g18_c01.avi  from  PlayingGuitar  directory\n"
     ]
    },
    {
     "name": "stderr",
     "output_type": "stream",
     "text": [
      "[2018-07-27 15:48:52,771] [TfPoseEstimator-Video] [DEBUG] initialization mobilenet_thin : /home/MPLab/mplab006/tf_action_recognition/models/graph/mobilenet_thin/graph_opt.pb\n"
     ]
    },
    {
     "name": "stdout",
     "output_type": "stream",
     "text": [
      "video  v_PlayingGuitar_g18_c01.avi  inferenced done.\n",
      "# of finished videos:  111\n",
      "# of finished directories:  4\n",
      "inferencing video:  v_PlayingGuitar_g18_c02.avi  from  PlayingGuitar  directory\n"
     ]
    },
    {
     "name": "stderr",
     "output_type": "stream",
     "text": [
      "[2018-07-27 15:48:53,639] [TfPoseEstimator-Video] [DEBUG] initialization mobilenet_thin : /home/MPLab/mplab006/tf_action_recognition/models/graph/mobilenet_thin/graph_opt.pb\n"
     ]
    },
    {
     "name": "stdout",
     "output_type": "stream",
     "text": [
      "video  v_PlayingGuitar_g18_c02.avi  inferenced done.\n",
      "# of finished videos:  112\n",
      "# of finished directories:  4\n",
      "inferencing video:  v_PlayingGuitar_g18_c03.avi  from  PlayingGuitar  directory\n"
     ]
    },
    {
     "name": "stderr",
     "output_type": "stream",
     "text": [
      "[2018-07-27 15:48:54,478] [TfPoseEstimator-Video] [DEBUG] initialization mobilenet_thin : /home/MPLab/mplab006/tf_action_recognition/models/graph/mobilenet_thin/graph_opt.pb\n"
     ]
    },
    {
     "name": "stdout",
     "output_type": "stream",
     "text": [
      "video  v_PlayingGuitar_g18_c03.avi  inferenced done.\n",
      "# of finished videos:  113\n",
      "# of finished directories:  4\n",
      "inferencing video:  v_PlayingGuitar_g18_c04.avi  from  PlayingGuitar  directory\n"
     ]
    },
    {
     "name": "stderr",
     "output_type": "stream",
     "text": [
      "[2018-07-27 15:48:55,342] [TfPoseEstimator-Video] [DEBUG] initialization mobilenet_thin : /home/MPLab/mplab006/tf_action_recognition/models/graph/mobilenet_thin/graph_opt.pb\n"
     ]
    },
    {
     "name": "stdout",
     "output_type": "stream",
     "text": [
      "video  v_PlayingGuitar_g18_c04.avi  inferenced done.\n",
      "# of finished videos:  114\n",
      "# of finished directories:  4\n",
      "inferencing video:  v_PlayingGuitar_g18_c05.avi  from  PlayingGuitar  directory\n"
     ]
    },
    {
     "name": "stderr",
     "output_type": "stream",
     "text": [
      "[2018-07-27 15:48:56,213] [TfPoseEstimator-Video] [DEBUG] initialization mobilenet_thin : /home/MPLab/mplab006/tf_action_recognition/models/graph/mobilenet_thin/graph_opt.pb\n"
     ]
    },
    {
     "name": "stdout",
     "output_type": "stream",
     "text": [
      "video  v_PlayingGuitar_g18_c05.avi  inferenced done.\n",
      "# of finished videos:  115\n",
      "# of finished directories:  4\n",
      "inferencing video:  v_PlayingGuitar_g18_c06.avi  from  PlayingGuitar  directory\n"
     ]
    },
    {
     "name": "stderr",
     "output_type": "stream",
     "text": [
      "[2018-07-27 15:48:57,065] [TfPoseEstimator-Video] [DEBUG] initialization mobilenet_thin : /home/MPLab/mplab006/tf_action_recognition/models/graph/mobilenet_thin/graph_opt.pb\n"
     ]
    },
    {
     "name": "stdout",
     "output_type": "stream",
     "text": [
      "video  v_PlayingGuitar_g18_c06.avi  inferenced done.\n",
      "# of finished videos:  116\n",
      "# of finished directories:  4\n",
      "inferencing video:  v_PlayingGuitar_g18_c07.avi  from  PlayingGuitar  directory\n"
     ]
    },
    {
     "name": "stderr",
     "output_type": "stream",
     "text": [
      "[2018-07-27 15:48:57,915] [TfPoseEstimator-Video] [DEBUG] initialization mobilenet_thin : /home/MPLab/mplab006/tf_action_recognition/models/graph/mobilenet_thin/graph_opt.pb\n"
     ]
    },
    {
     "name": "stdout",
     "output_type": "stream",
     "text": [
      "video  v_PlayingGuitar_g18_c07.avi  inferenced done.\n",
      "# of finished videos:  117\n",
      "# of finished directories:  4\n",
      "inferencing video:  v_PlayingGuitar_g19_c01.avi  from  PlayingGuitar  directory\n"
     ]
    },
    {
     "name": "stderr",
     "output_type": "stream",
     "text": [
      "[2018-07-27 15:48:58,815] [TfPoseEstimator-Video] [DEBUG] initialization mobilenet_thin : /home/MPLab/mplab006/tf_action_recognition/models/graph/mobilenet_thin/graph_opt.pb\n"
     ]
    },
    {
     "name": "stdout",
     "output_type": "stream",
     "text": [
      "video  v_PlayingGuitar_g19_c01.avi  inferenced done.\n",
      "# of finished videos:  118\n",
      "# of finished directories:  4\n",
      "inferencing video:  v_PlayingGuitar_g19_c02.avi  from  PlayingGuitar  directory\n"
     ]
    },
    {
     "name": "stderr",
     "output_type": "stream",
     "text": [
      "[2018-07-27 15:48:59,695] [TfPoseEstimator-Video] [DEBUG] initialization mobilenet_thin : /home/MPLab/mplab006/tf_action_recognition/models/graph/mobilenet_thin/graph_opt.pb\n"
     ]
    },
    {
     "name": "stdout",
     "output_type": "stream",
     "text": [
      "video  v_PlayingGuitar_g19_c02.avi  inferenced done.\n",
      "# of finished videos:  119\n",
      "# of finished directories:  4\n",
      "inferencing video:  v_PlayingGuitar_g19_c03.avi  from  PlayingGuitar  directory\n"
     ]
    },
    {
     "name": "stderr",
     "output_type": "stream",
     "text": [
      "[2018-07-27 15:49:00,560] [TfPoseEstimator-Video] [DEBUG] initialization mobilenet_thin : /home/MPLab/mplab006/tf_action_recognition/models/graph/mobilenet_thin/graph_opt.pb\n"
     ]
    },
    {
     "name": "stdout",
     "output_type": "stream",
     "text": [
      "video  v_PlayingGuitar_g19_c03.avi  inferenced done.\n",
      "# of finished videos:  120\n",
      "# of finished directories:  4\n",
      "inferencing video:  v_PlayingGuitar_g19_c04.avi  from  PlayingGuitar  directory\n"
     ]
    },
    {
     "name": "stderr",
     "output_type": "stream",
     "text": [
      "[2018-07-27 15:49:01,413] [TfPoseEstimator-Video] [DEBUG] initialization mobilenet_thin : /home/MPLab/mplab006/tf_action_recognition/models/graph/mobilenet_thin/graph_opt.pb\n"
     ]
    },
    {
     "name": "stdout",
     "output_type": "stream",
     "text": [
      "video  v_PlayingGuitar_g19_c04.avi  inferenced done.\n",
      "# of finished videos:  121\n",
      "# of finished directories:  4\n",
      "inferencing video:  v_PlayingGuitar_g19_c05.avi  from  PlayingGuitar  directory\n"
     ]
    },
    {
     "name": "stderr",
     "output_type": "stream",
     "text": [
      "[2018-07-27 15:49:02,299] [TfPoseEstimator-Video] [DEBUG] initialization mobilenet_thin : /home/MPLab/mplab006/tf_action_recognition/models/graph/mobilenet_thin/graph_opt.pb\n"
     ]
    },
    {
     "name": "stdout",
     "output_type": "stream",
     "text": [
      "video  v_PlayingGuitar_g19_c05.avi  inferenced done.\n",
      "# of finished videos:  122\n",
      "# of finished directories:  4\n",
      "inferencing video:  v_PlayingGuitar_g19_c06.avi  from  PlayingGuitar  directory\n"
     ]
    },
    {
     "name": "stderr",
     "output_type": "stream",
     "text": [
      "[2018-07-27 15:49:03,162] [TfPoseEstimator-Video] [DEBUG] initialization mobilenet_thin : /home/MPLab/mplab006/tf_action_recognition/models/graph/mobilenet_thin/graph_opt.pb\n"
     ]
    },
    {
     "name": "stdout",
     "output_type": "stream",
     "text": [
      "video  v_PlayingGuitar_g19_c06.avi  inferenced done.\n",
      "# of finished videos:  123\n",
      "# of finished directories:  4\n",
      "inferencing video:  v_PlayingGuitar_g19_c07.avi  from  PlayingGuitar  directory\n"
     ]
    },
    {
     "name": "stderr",
     "output_type": "stream",
     "text": [
      "[2018-07-27 15:49:04,001] [TfPoseEstimator-Video] [DEBUG] initialization mobilenet_thin : /home/MPLab/mplab006/tf_action_recognition/models/graph/mobilenet_thin/graph_opt.pb\n"
     ]
    },
    {
     "name": "stdout",
     "output_type": "stream",
     "text": [
      "video  v_PlayingGuitar_g19_c07.avi  inferenced done.\n",
      "# of finished videos:  124\n",
      "# of finished directories:  4\n",
      "inferencing video:  v_PlayingGuitar_g20_c01.avi  from  PlayingGuitar  directory\n"
     ]
    },
    {
     "name": "stderr",
     "output_type": "stream",
     "text": [
      "[2018-07-27 15:49:04,869] [TfPoseEstimator-Video] [DEBUG] initialization mobilenet_thin : /home/MPLab/mplab006/tf_action_recognition/models/graph/mobilenet_thin/graph_opt.pb\n"
     ]
    },
    {
     "name": "stdout",
     "output_type": "stream",
     "text": [
      "video  v_PlayingGuitar_g20_c01.avi  inferenced done.\n",
      "# of finished videos:  125\n",
      "# of finished directories:  4\n",
      "inferencing video:  v_PlayingGuitar_g20_c02.avi  from  PlayingGuitar  directory\n"
     ]
    },
    {
     "name": "stderr",
     "output_type": "stream",
     "text": [
      "[2018-07-27 15:49:05,714] [TfPoseEstimator-Video] [DEBUG] initialization mobilenet_thin : /home/MPLab/mplab006/tf_action_recognition/models/graph/mobilenet_thin/graph_opt.pb\n"
     ]
    },
    {
     "name": "stdout",
     "output_type": "stream",
     "text": [
      "video  v_PlayingGuitar_g20_c02.avi  inferenced done.\n",
      "# of finished videos:  126\n",
      "# of finished directories:  4\n",
      "inferencing video:  v_PlayingGuitar_g20_c03.avi  from  PlayingGuitar  directory\n"
     ]
    },
    {
     "name": "stderr",
     "output_type": "stream",
     "text": [
      "[2018-07-27 15:49:06,550] [TfPoseEstimator-Video] [DEBUG] initialization mobilenet_thin : /home/MPLab/mplab006/tf_action_recognition/models/graph/mobilenet_thin/graph_opt.pb\n"
     ]
    },
    {
     "name": "stdout",
     "output_type": "stream",
     "text": [
      "video  v_PlayingGuitar_g20_c03.avi  inferenced done.\n",
      "# of finished videos:  127\n",
      "# of finished directories:  4\n",
      "inferencing video:  v_PlayingGuitar_g20_c04.avi  from  PlayingGuitar  directory\n"
     ]
    },
    {
     "name": "stderr",
     "output_type": "stream",
     "text": [
      "[2018-07-27 15:49:07,403] [TfPoseEstimator-Video] [DEBUG] initialization mobilenet_thin : /home/MPLab/mplab006/tf_action_recognition/models/graph/mobilenet_thin/graph_opt.pb\n"
     ]
    },
    {
     "name": "stdout",
     "output_type": "stream",
     "text": [
      "video  v_PlayingGuitar_g20_c04.avi  inferenced done.\n",
      "# of finished videos:  128\n",
      "# of finished directories:  4\n",
      "inferencing video:  v_PlayingGuitar_g20_c05.avi  from  PlayingGuitar  directory\n"
     ]
    },
    {
     "name": "stderr",
     "output_type": "stream",
     "text": [
      "[2018-07-27 15:49:08,289] [TfPoseEstimator-Video] [DEBUG] initialization mobilenet_thin : /home/MPLab/mplab006/tf_action_recognition/models/graph/mobilenet_thin/graph_opt.pb\n"
     ]
    },
    {
     "name": "stdout",
     "output_type": "stream",
     "text": [
      "video  v_PlayingGuitar_g20_c05.avi  inferenced done.\n",
      "# of finished videos:  129\n",
      "# of finished directories:  4\n",
      "inferencing video:  v_PlayingGuitar_g20_c06.avi  from  PlayingGuitar  directory\n"
     ]
    },
    {
     "name": "stderr",
     "output_type": "stream",
     "text": [
      "[2018-07-27 15:49:09,160] [TfPoseEstimator-Video] [DEBUG] initialization mobilenet_thin : /home/MPLab/mplab006/tf_action_recognition/models/graph/mobilenet_thin/graph_opt.pb\n"
     ]
    },
    {
     "name": "stdout",
     "output_type": "stream",
     "text": [
      "video  v_PlayingGuitar_g20_c06.avi  inferenced done.\n",
      "# of finished videos:  130\n",
      "# of finished directories:  4\n",
      "inferencing video:  v_PlayingGuitar_g20_c07.avi  from  PlayingGuitar  directory\n"
     ]
    },
    {
     "name": "stderr",
     "output_type": "stream",
     "text": [
      "[2018-07-27 15:49:10,018] [TfPoseEstimator-Video] [DEBUG] initialization mobilenet_thin : /home/MPLab/mplab006/tf_action_recognition/models/graph/mobilenet_thin/graph_opt.pb\n"
     ]
    },
    {
     "name": "stdout",
     "output_type": "stream",
     "text": [
      "video  v_PlayingGuitar_g20_c07.avi  inferenced done.\n",
      "# of finished videos:  131\n",
      "# of finished directories:  4\n",
      "inferencing video:  v_PlayingGuitar_g21_c01.avi  from  PlayingGuitar  directory\n"
     ]
    },
    {
     "name": "stderr",
     "output_type": "stream",
     "text": [
      "[2018-07-27 15:49:10,901] [TfPoseEstimator-Video] [DEBUG] initialization mobilenet_thin : /home/MPLab/mplab006/tf_action_recognition/models/graph/mobilenet_thin/graph_opt.pb\n"
     ]
    },
    {
     "name": "stdout",
     "output_type": "stream",
     "text": [
      "video  v_PlayingGuitar_g21_c01.avi  inferenced done.\n",
      "# of finished videos:  132\n",
      "# of finished directories:  4\n",
      "inferencing video:  v_PlayingGuitar_g21_c02.avi  from  PlayingGuitar  directory\n"
     ]
    },
    {
     "name": "stderr",
     "output_type": "stream",
     "text": [
      "[2018-07-27 15:49:11,776] [TfPoseEstimator-Video] [DEBUG] initialization mobilenet_thin : /home/MPLab/mplab006/tf_action_recognition/models/graph/mobilenet_thin/graph_opt.pb\n"
     ]
    },
    {
     "name": "stdout",
     "output_type": "stream",
     "text": [
      "video  v_PlayingGuitar_g21_c02.avi  inferenced done.\n",
      "# of finished videos:  133\n",
      "# of finished directories:  4\n",
      "inferencing video:  v_PlayingGuitar_g21_c03.avi  from  PlayingGuitar  directory\n"
     ]
    },
    {
     "name": "stderr",
     "output_type": "stream",
     "text": [
      "[2018-07-27 15:49:12,633] [TfPoseEstimator-Video] [DEBUG] initialization mobilenet_thin : /home/MPLab/mplab006/tf_action_recognition/models/graph/mobilenet_thin/graph_opt.pb\n"
     ]
    },
    {
     "name": "stdout",
     "output_type": "stream",
     "text": [
      "video  v_PlayingGuitar_g21_c03.avi  inferenced done.\n",
      "# of finished videos:  134\n",
      "# of finished directories:  4\n",
      "inferencing video:  v_PlayingGuitar_g21_c04.avi  from  PlayingGuitar  directory\n"
     ]
    },
    {
     "name": "stderr",
     "output_type": "stream",
     "text": [
      "[2018-07-27 15:49:13,507] [TfPoseEstimator-Video] [DEBUG] initialization mobilenet_thin : /home/MPLab/mplab006/tf_action_recognition/models/graph/mobilenet_thin/graph_opt.pb\n"
     ]
    },
    {
     "name": "stdout",
     "output_type": "stream",
     "text": [
      "video  v_PlayingGuitar_g21_c04.avi  inferenced done.\n",
      "# of finished videos:  135\n",
      "# of finished directories:  4\n",
      "inferencing video:  v_PlayingGuitar_g21_c05.avi  from  PlayingGuitar  directory\n"
     ]
    },
    {
     "name": "stderr",
     "output_type": "stream",
     "text": [
      "[2018-07-27 15:49:14,363] [TfPoseEstimator-Video] [DEBUG] initialization mobilenet_thin : /home/MPLab/mplab006/tf_action_recognition/models/graph/mobilenet_thin/graph_opt.pb\n"
     ]
    },
    {
     "name": "stdout",
     "output_type": "stream",
     "text": [
      "video  v_PlayingGuitar_g21_c05.avi  inferenced done.\n",
      "# of finished videos:  136\n",
      "# of finished directories:  4\n",
      "inferencing video:  v_PlayingGuitar_g21_c06.avi  from  PlayingGuitar  directory\n"
     ]
    },
    {
     "name": "stderr",
     "output_type": "stream",
     "text": [
      "[2018-07-27 15:49:15,254] [TfPoseEstimator-Video] [DEBUG] initialization mobilenet_thin : /home/MPLab/mplab006/tf_action_recognition/models/graph/mobilenet_thin/graph_opt.pb\n"
     ]
    },
    {
     "name": "stdout",
     "output_type": "stream",
     "text": [
      "video  v_PlayingGuitar_g21_c06.avi  inferenced done.\n",
      "# of finished videos:  137\n",
      "# of finished directories:  4\n",
      "inferencing video:  v_PlayingGuitar_g22_c01.avi  from  PlayingGuitar  directory\n"
     ]
    },
    {
     "name": "stderr",
     "output_type": "stream",
     "text": [
      "[2018-07-27 15:49:16,088] [TfPoseEstimator-Video] [DEBUG] initialization mobilenet_thin : /home/MPLab/mplab006/tf_action_recognition/models/graph/mobilenet_thin/graph_opt.pb\n"
     ]
    },
    {
     "name": "stdout",
     "output_type": "stream",
     "text": [
      "video  v_PlayingGuitar_g22_c01.avi  inferenced done.\n",
      "# of finished videos:  138\n",
      "# of finished directories:  4\n",
      "inferencing video:  v_PlayingGuitar_g22_c02.avi  from  PlayingGuitar  directory\n"
     ]
    },
    {
     "name": "stderr",
     "output_type": "stream",
     "text": [
      "[2018-07-27 15:49:16,943] [TfPoseEstimator-Video] [DEBUG] initialization mobilenet_thin : /home/MPLab/mplab006/tf_action_recognition/models/graph/mobilenet_thin/graph_opt.pb\n"
     ]
    },
    {
     "name": "stdout",
     "output_type": "stream",
     "text": [
      "video  v_PlayingGuitar_g22_c02.avi  inferenced done.\n",
      "# of finished videos:  139\n",
      "# of finished directories:  4\n",
      "inferencing video:  v_PlayingGuitar_g22_c03.avi  from  PlayingGuitar  directory\n"
     ]
    },
    {
     "name": "stderr",
     "output_type": "stream",
     "text": [
      "[2018-07-27 15:49:17,792] [TfPoseEstimator-Video] [DEBUG] initialization mobilenet_thin : /home/MPLab/mplab006/tf_action_recognition/models/graph/mobilenet_thin/graph_opt.pb\n"
     ]
    },
    {
     "name": "stdout",
     "output_type": "stream",
     "text": [
      "video  v_PlayingGuitar_g22_c03.avi  inferenced done.\n",
      "# of finished videos:  140\n",
      "# of finished directories:  4\n",
      "inferencing video:  v_PlayingGuitar_g22_c04.avi  from  PlayingGuitar  directory\n"
     ]
    },
    {
     "name": "stderr",
     "output_type": "stream",
     "text": [
      "[2018-07-27 15:49:18,659] [TfPoseEstimator-Video] [DEBUG] initialization mobilenet_thin : /home/MPLab/mplab006/tf_action_recognition/models/graph/mobilenet_thin/graph_opt.pb\n"
     ]
    },
    {
     "name": "stdout",
     "output_type": "stream",
     "text": [
      "video  v_PlayingGuitar_g22_c04.avi  inferenced done.\n",
      "# of finished videos:  141\n",
      "# of finished directories:  4\n",
      "inferencing video:  v_PlayingGuitar_g22_c05.avi  from  PlayingGuitar  directory\n"
     ]
    },
    {
     "name": "stderr",
     "output_type": "stream",
     "text": [
      "[2018-07-27 15:49:19,511] [TfPoseEstimator-Video] [DEBUG] initialization mobilenet_thin : /home/MPLab/mplab006/tf_action_recognition/models/graph/mobilenet_thin/graph_opt.pb\n"
     ]
    },
    {
     "name": "stdout",
     "output_type": "stream",
     "text": [
      "video  v_PlayingGuitar_g22_c05.avi  inferenced done.\n",
      "# of finished videos:  142\n",
      "# of finished directories:  4\n",
      "inferencing video:  v_PlayingGuitar_g23_c01.avi  from  PlayingGuitar  directory\n"
     ]
    },
    {
     "name": "stderr",
     "output_type": "stream",
     "text": [
      "[2018-07-27 15:49:20,369] [TfPoseEstimator-Video] [DEBUG] initialization mobilenet_thin : /home/MPLab/mplab006/tf_action_recognition/models/graph/mobilenet_thin/graph_opt.pb\n"
     ]
    },
    {
     "name": "stdout",
     "output_type": "stream",
     "text": [
      "video  v_PlayingGuitar_g23_c01.avi  inferenced done.\n",
      "# of finished videos:  143\n",
      "# of finished directories:  4\n",
      "inferencing video:  v_PlayingGuitar_g23_c02.avi  from  PlayingGuitar  directory\n"
     ]
    },
    {
     "name": "stderr",
     "output_type": "stream",
     "text": [
      "[2018-07-27 15:49:21,263] [TfPoseEstimator-Video] [DEBUG] initialization mobilenet_thin : /home/MPLab/mplab006/tf_action_recognition/models/graph/mobilenet_thin/graph_opt.pb\n"
     ]
    },
    {
     "name": "stdout",
     "output_type": "stream",
     "text": [
      "video  v_PlayingGuitar_g23_c02.avi  inferenced done.\n",
      "# of finished videos:  144\n",
      "# of finished directories:  4\n",
      "inferencing video:  v_PlayingGuitar_g23_c03.avi  from  PlayingGuitar  directory\n"
     ]
    },
    {
     "name": "stderr",
     "output_type": "stream",
     "text": [
      "[2018-07-27 15:49:22,137] [TfPoseEstimator-Video] [DEBUG] initialization mobilenet_thin : /home/MPLab/mplab006/tf_action_recognition/models/graph/mobilenet_thin/graph_opt.pb\n"
     ]
    },
    {
     "name": "stdout",
     "output_type": "stream",
     "text": [
      "video  v_PlayingGuitar_g23_c03.avi  inferenced done.\n",
      "# of finished videos:  145\n",
      "# of finished directories:  4\n",
      "inferencing video:  v_PlayingGuitar_g23_c04.avi  from  PlayingGuitar  directory\n"
     ]
    },
    {
     "name": "stderr",
     "output_type": "stream",
     "text": [
      "[2018-07-27 15:49:22,986] [TfPoseEstimator-Video] [DEBUG] initialization mobilenet_thin : /home/MPLab/mplab006/tf_action_recognition/models/graph/mobilenet_thin/graph_opt.pb\n"
     ]
    },
    {
     "name": "stdout",
     "output_type": "stream",
     "text": [
      "video  v_PlayingGuitar_g23_c04.avi  inferenced done.\n",
      "# of finished videos:  146\n",
      "# of finished directories:  4\n",
      "inferencing video:  v_PlayingGuitar_g23_c05.avi  from  PlayingGuitar  directory\n"
     ]
    },
    {
     "name": "stderr",
     "output_type": "stream",
     "text": [
      "[2018-07-27 15:49:23,861] [TfPoseEstimator-Video] [DEBUG] initialization mobilenet_thin : /home/MPLab/mplab006/tf_action_recognition/models/graph/mobilenet_thin/graph_opt.pb\n"
     ]
    },
    {
     "name": "stdout",
     "output_type": "stream",
     "text": [
      "video  v_PlayingGuitar_g23_c05.avi  inferenced done.\n",
      "# of finished videos:  147\n",
      "# of finished directories:  4\n",
      "inferencing video:  v_PlayingGuitar_g23_c06.avi  from  PlayingGuitar  directory\n"
     ]
    },
    {
     "name": "stderr",
     "output_type": "stream",
     "text": [
      "[2018-07-27 15:49:24,729] [TfPoseEstimator-Video] [DEBUG] initialization mobilenet_thin : /home/MPLab/mplab006/tf_action_recognition/models/graph/mobilenet_thin/graph_opt.pb\n"
     ]
    },
    {
     "name": "stdout",
     "output_type": "stream",
     "text": [
      "video  v_PlayingGuitar_g23_c06.avi  inferenced done.\n",
      "# of finished videos:  148\n",
      "# of finished directories:  4\n",
      "inferencing video:  v_PlayingGuitar_g23_c07.avi  from  PlayingGuitar  directory\n"
     ]
    },
    {
     "name": "stderr",
     "output_type": "stream",
     "text": [
      "[2018-07-27 15:49:25,614] [TfPoseEstimator-Video] [DEBUG] initialization mobilenet_thin : /home/MPLab/mplab006/tf_action_recognition/models/graph/mobilenet_thin/graph_opt.pb\n"
     ]
    },
    {
     "name": "stdout",
     "output_type": "stream",
     "text": [
      "video  v_PlayingGuitar_g23_c07.avi  inferenced done.\n",
      "# of finished videos:  149\n",
      "# of finished directories:  4\n",
      "inferencing video:  v_PlayingGuitar_g24_c01.avi  from  PlayingGuitar  directory\n"
     ]
    },
    {
     "name": "stderr",
     "output_type": "stream",
     "text": [
      "[2018-07-27 15:49:26,470] [TfPoseEstimator-Video] [DEBUG] initialization mobilenet_thin : /home/MPLab/mplab006/tf_action_recognition/models/graph/mobilenet_thin/graph_opt.pb\n"
     ]
    },
    {
     "name": "stdout",
     "output_type": "stream",
     "text": [
      "video  v_PlayingGuitar_g24_c01.avi  inferenced done.\n",
      "# of finished videos:  150\n",
      "# of finished directories:  4\n",
      "inferencing video:  v_PlayingGuitar_g24_c02.avi  from  PlayingGuitar  directory\n"
     ]
    },
    {
     "name": "stderr",
     "output_type": "stream",
     "text": [
      "[2018-07-27 15:49:27,347] [TfPoseEstimator-Video] [DEBUG] initialization mobilenet_thin : /home/MPLab/mplab006/tf_action_recognition/models/graph/mobilenet_thin/graph_opt.pb\n"
     ]
    },
    {
     "name": "stdout",
     "output_type": "stream",
     "text": [
      "video  v_PlayingGuitar_g24_c02.avi  inferenced done.\n",
      "# of finished videos:  151\n",
      "# of finished directories:  4\n",
      "inferencing video:  v_PlayingGuitar_g24_c03.avi  from  PlayingGuitar  directory\n"
     ]
    },
    {
     "name": "stderr",
     "output_type": "stream",
     "text": [
      "[2018-07-27 15:49:28,225] [TfPoseEstimator-Video] [DEBUG] initialization mobilenet_thin : /home/MPLab/mplab006/tf_action_recognition/models/graph/mobilenet_thin/graph_opt.pb\n"
     ]
    },
    {
     "name": "stdout",
     "output_type": "stream",
     "text": [
      "video  v_PlayingGuitar_g24_c03.avi  inferenced done.\n",
      "# of finished videos:  152\n",
      "# of finished directories:  4\n",
      "inferencing video:  v_PlayingGuitar_g24_c04.avi  from  PlayingGuitar  directory\n"
     ]
    },
    {
     "name": "stderr",
     "output_type": "stream",
     "text": [
      "[2018-07-27 15:49:29,085] [TfPoseEstimator-Video] [DEBUG] initialization mobilenet_thin : /home/MPLab/mplab006/tf_action_recognition/models/graph/mobilenet_thin/graph_opt.pb\n"
     ]
    },
    {
     "name": "stdout",
     "output_type": "stream",
     "text": [
      "video  v_PlayingGuitar_g24_c04.avi  inferenced done.\n",
      "# of finished videos:  153\n",
      "# of finished directories:  4\n",
      "inferencing video:  v_PlayingGuitar_g25_c01.avi  from  PlayingGuitar  directory\n"
     ]
    },
    {
     "name": "stderr",
     "output_type": "stream",
     "text": [
      "[2018-07-27 15:49:29,919] [TfPoseEstimator-Video] [DEBUG] initialization mobilenet_thin : /home/MPLab/mplab006/tf_action_recognition/models/graph/mobilenet_thin/graph_opt.pb\n"
     ]
    },
    {
     "name": "stdout",
     "output_type": "stream",
     "text": [
      "video  v_PlayingGuitar_g25_c01.avi  inferenced done.\n",
      "# of finished videos:  154\n",
      "# of finished directories:  4\n",
      "inferencing video:  v_PlayingGuitar_g25_c02.avi  from  PlayingGuitar  directory\n"
     ]
    },
    {
     "name": "stderr",
     "output_type": "stream",
     "text": [
      "[2018-07-27 15:49:30,783] [TfPoseEstimator-Video] [DEBUG] initialization mobilenet_thin : /home/MPLab/mplab006/tf_action_recognition/models/graph/mobilenet_thin/graph_opt.pb\n"
     ]
    },
    {
     "name": "stdout",
     "output_type": "stream",
     "text": [
      "video  v_PlayingGuitar_g25_c02.avi  inferenced done.\n",
      "# of finished videos:  155\n",
      "# of finished directories:  4\n",
      "inferencing video:  v_PlayingGuitar_g25_c03.avi  from  PlayingGuitar  directory\n"
     ]
    },
    {
     "name": "stderr",
     "output_type": "stream",
     "text": [
      "[2018-07-27 15:49:31,650] [TfPoseEstimator-Video] [DEBUG] initialization mobilenet_thin : /home/MPLab/mplab006/tf_action_recognition/models/graph/mobilenet_thin/graph_opt.pb\n"
     ]
    },
    {
     "name": "stdout",
     "output_type": "stream",
     "text": [
      "video  v_PlayingGuitar_g25_c03.avi  inferenced done.\n",
      "# of finished videos:  156\n",
      "# of finished directories:  4\n",
      "inferencing video:  v_PlayingGuitar_g25_c04.avi  from  PlayingGuitar  directory\n"
     ]
    },
    {
     "name": "stderr",
     "output_type": "stream",
     "text": [
      "[2018-07-27 15:49:32,504] [TfPoseEstimator-Video] [DEBUG] initialization mobilenet_thin : /home/MPLab/mplab006/tf_action_recognition/models/graph/mobilenet_thin/graph_opt.pb\n"
     ]
    },
    {
     "name": "stdout",
     "output_type": "stream",
     "text": [
      "video  v_PlayingGuitar_g25_c04.avi  inferenced done.\n",
      "# of finished videos:  157\n",
      "# of finished directories:  4\n",
      "inferencing video:  v_PlayingGuitar_g25_c05.avi  from  PlayingGuitar  directory\n"
     ]
    },
    {
     "name": "stderr",
     "output_type": "stream",
     "text": [
      "[2018-07-27 15:49:33,357] [TfPoseEstimator-Video] [DEBUG] initialization mobilenet_thin : /home/MPLab/mplab006/tf_action_recognition/models/graph/mobilenet_thin/graph_opt.pb\n"
     ]
    },
    {
     "name": "stdout",
     "output_type": "stream",
     "text": [
      "video  v_PlayingGuitar_g25_c05.avi  inferenced done.\n",
      "# of finished videos:  158\n",
      "# of finished directories:  4\n",
      "inferencing video:  v_PlayingGuitar_g25_c06.avi  from  PlayingGuitar  directory\n"
     ]
    },
    {
     "name": "stderr",
     "output_type": "stream",
     "text": [
      "[2018-07-27 15:49:34,252] [TfPoseEstimator-Video] [DEBUG] initialization mobilenet_thin : /home/MPLab/mplab006/tf_action_recognition/models/graph/mobilenet_thin/graph_opt.pb\n"
     ]
    },
    {
     "name": "stdout",
     "output_type": "stream",
     "text": [
      "video  v_PlayingGuitar_g25_c06.avi  inferenced done.\n",
      "# of finished videos:  159\n",
      "# of finished directories:  4\n",
      "inferencing video:  v_PlayingGuitar_g25_c07.avi  from  PlayingGuitar  directory\n"
     ]
    },
    {
     "name": "stderr",
     "output_type": "stream",
     "text": [
      "[2018-07-27 15:49:35,103] [TfPoseEstimator-Video] [DEBUG] initialization mobilenet_thin : /home/MPLab/mplab006/tf_action_recognition/models/graph/mobilenet_thin/graph_opt.pb\n"
     ]
    },
    {
     "name": "stdout",
     "output_type": "stream",
     "text": [
      "video  v_PlayingGuitar_g25_c07.avi  inferenced done.\n",
      "# of finished videos:  160\n",
      "# of finished directories:  4\n",
      "inferencing video:  v_PlayingPiano_g01_c01.avi  from  PlayingPiano  directory\n"
     ]
    },
    {
     "name": "stderr",
     "output_type": "stream",
     "text": [
      "[2018-07-27 15:49:35,998] [TfPoseEstimator-Video] [DEBUG] initialization mobilenet_thin : /home/MPLab/mplab006/tf_action_recognition/models/graph/mobilenet_thin/graph_opt.pb\n"
     ]
    },
    {
     "name": "stdout",
     "output_type": "stream",
     "text": [
      "video  v_PlayingPiano_g01_c01.avi  inferenced done.\n",
      "# of finished videos:  1\n",
      "# of finished directories:  5\n",
      "inferencing video:  v_PlayingPiano_g01_c02.avi  from  PlayingPiano  directory\n"
     ]
    },
    {
     "name": "stderr",
     "output_type": "stream",
     "text": [
      "[2018-07-27 15:49:36,847] [TfPoseEstimator-Video] [DEBUG] initialization mobilenet_thin : /home/MPLab/mplab006/tf_action_recognition/models/graph/mobilenet_thin/graph_opt.pb\n"
     ]
    },
    {
     "name": "stdout",
     "output_type": "stream",
     "text": [
      "video  v_PlayingPiano_g01_c02.avi  inferenced done.\n",
      "# of finished videos:  2\n",
      "# of finished directories:  5\n",
      "inferencing video:  v_PlayingPiano_g01_c03.avi  from  PlayingPiano  directory\n"
     ]
    },
    {
     "name": "stderr",
     "output_type": "stream",
     "text": [
      "[2018-07-27 15:49:37,738] [TfPoseEstimator-Video] [DEBUG] initialization mobilenet_thin : /home/MPLab/mplab006/tf_action_recognition/models/graph/mobilenet_thin/graph_opt.pb\n"
     ]
    },
    {
     "name": "stdout",
     "output_type": "stream",
     "text": [
      "video  v_PlayingPiano_g01_c03.avi  inferenced done.\n",
      "# of finished videos:  3\n",
      "# of finished directories:  5\n",
      "inferencing video:  v_PlayingPiano_g01_c04.avi  from  PlayingPiano  directory\n"
     ]
    },
    {
     "name": "stderr",
     "output_type": "stream",
     "text": [
      "[2018-07-27 15:49:38,598] [TfPoseEstimator-Video] [DEBUG] initialization mobilenet_thin : /home/MPLab/mplab006/tf_action_recognition/models/graph/mobilenet_thin/graph_opt.pb\n"
     ]
    },
    {
     "name": "stdout",
     "output_type": "stream",
     "text": [
      "video  v_PlayingPiano_g01_c04.avi  inferenced done.\n",
      "# of finished videos:  4\n",
      "# of finished directories:  5\n",
      "inferencing video:  v_PlayingPiano_g02_c01.avi  from  PlayingPiano  directory\n"
     ]
    },
    {
     "name": "stderr",
     "output_type": "stream",
     "text": [
      "[2018-07-27 15:49:39,441] [TfPoseEstimator-Video] [DEBUG] initialization mobilenet_thin : /home/MPLab/mplab006/tf_action_recognition/models/graph/mobilenet_thin/graph_opt.pb\n"
     ]
    },
    {
     "name": "stdout",
     "output_type": "stream",
     "text": [
      "video  v_PlayingPiano_g02_c01.avi  inferenced done.\n",
      "# of finished videos:  5\n",
      "# of finished directories:  5\n",
      "inferencing video:  v_PlayingPiano_g02_c02.avi  from  PlayingPiano  directory\n"
     ]
    },
    {
     "name": "stderr",
     "output_type": "stream",
     "text": [
      "[2018-07-27 15:49:40,313] [TfPoseEstimator-Video] [DEBUG] initialization mobilenet_thin : /home/MPLab/mplab006/tf_action_recognition/models/graph/mobilenet_thin/graph_opt.pb\n"
     ]
    },
    {
     "name": "stdout",
     "output_type": "stream",
     "text": [
      "video  v_PlayingPiano_g02_c02.avi  inferenced done.\n",
      "# of finished videos:  6\n",
      "# of finished directories:  5\n",
      "inferencing video:  v_PlayingPiano_g02_c03.avi  from  PlayingPiano  directory\n"
     ]
    },
    {
     "name": "stderr",
     "output_type": "stream",
     "text": [
      "[2018-07-27 15:49:41,193] [TfPoseEstimator-Video] [DEBUG] initialization mobilenet_thin : /home/MPLab/mplab006/tf_action_recognition/models/graph/mobilenet_thin/graph_opt.pb\n"
     ]
    },
    {
     "name": "stdout",
     "output_type": "stream",
     "text": [
      "video  v_PlayingPiano_g02_c03.avi  inferenced done.\n",
      "# of finished videos:  7\n",
      "# of finished directories:  5\n",
      "inferencing video:  v_PlayingPiano_g02_c04.avi  from  PlayingPiano  directory\n"
     ]
    },
    {
     "name": "stderr",
     "output_type": "stream",
     "text": [
      "[2018-07-27 15:49:42,046] [TfPoseEstimator-Video] [DEBUG] initialization mobilenet_thin : /home/MPLab/mplab006/tf_action_recognition/models/graph/mobilenet_thin/graph_opt.pb\n"
     ]
    },
    {
     "name": "stdout",
     "output_type": "stream",
     "text": [
      "video  v_PlayingPiano_g02_c04.avi  inferenced done.\n",
      "# of finished videos:  8\n",
      "# of finished directories:  5\n",
      "inferencing video:  v_PlayingPiano_g03_c01.avi  from  PlayingPiano  directory\n"
     ]
    },
    {
     "name": "stderr",
     "output_type": "stream",
     "text": [
      "[2018-07-27 15:49:42,898] [TfPoseEstimator-Video] [DEBUG] initialization mobilenet_thin : /home/MPLab/mplab006/tf_action_recognition/models/graph/mobilenet_thin/graph_opt.pb\n"
     ]
    },
    {
     "name": "stdout",
     "output_type": "stream",
     "text": [
      "video  v_PlayingPiano_g03_c01.avi  inferenced done.\n",
      "# of finished videos:  9\n",
      "# of finished directories:  5\n",
      "inferencing video:  v_PlayingPiano_g03_c02.avi  from  PlayingPiano  directory\n"
     ]
    },
    {
     "name": "stderr",
     "output_type": "stream",
     "text": [
      "[2018-07-27 15:49:43,787] [TfPoseEstimator-Video] [DEBUG] initialization mobilenet_thin : /home/MPLab/mplab006/tf_action_recognition/models/graph/mobilenet_thin/graph_opt.pb\n"
     ]
    },
    {
     "name": "stdout",
     "output_type": "stream",
     "text": [
      "video  v_PlayingPiano_g03_c02.avi  inferenced done.\n",
      "# of finished videos:  10\n",
      "# of finished directories:  5\n",
      "inferencing video:  v_PlayingPiano_g03_c03.avi  from  PlayingPiano  directory\n"
     ]
    },
    {
     "name": "stderr",
     "output_type": "stream",
     "text": [
      "[2018-07-27 15:49:44,613] [TfPoseEstimator-Video] [DEBUG] initialization mobilenet_thin : /home/MPLab/mplab006/tf_action_recognition/models/graph/mobilenet_thin/graph_opt.pb\n"
     ]
    },
    {
     "name": "stdout",
     "output_type": "stream",
     "text": [
      "video  v_PlayingPiano_g03_c03.avi  inferenced done.\n",
      "# of finished videos:  11\n",
      "# of finished directories:  5\n",
      "inferencing video:  v_PlayingPiano_g03_c04.avi  from  PlayingPiano  directory\n"
     ]
    },
    {
     "name": "stderr",
     "output_type": "stream",
     "text": [
      "[2018-07-27 15:49:45,458] [TfPoseEstimator-Video] [DEBUG] initialization mobilenet_thin : /home/MPLab/mplab006/tf_action_recognition/models/graph/mobilenet_thin/graph_opt.pb\n"
     ]
    },
    {
     "name": "stdout",
     "output_type": "stream",
     "text": [
      "video  v_PlayingPiano_g03_c04.avi  inferenced done.\n",
      "# of finished videos:  12\n",
      "# of finished directories:  5\n",
      "inferencing video:  v_PlayingPiano_g04_c01.avi  from  PlayingPiano  directory\n"
     ]
    },
    {
     "name": "stderr",
     "output_type": "stream",
     "text": [
      "[2018-07-27 15:49:46,366] [TfPoseEstimator-Video] [DEBUG] initialization mobilenet_thin : /home/MPLab/mplab006/tf_action_recognition/models/graph/mobilenet_thin/graph_opt.pb\n"
     ]
    },
    {
     "name": "stdout",
     "output_type": "stream",
     "text": [
      "video  v_PlayingPiano_g04_c01.avi  inferenced done.\n",
      "# of finished videos:  13\n",
      "# of finished directories:  5\n",
      "inferencing video:  v_PlayingPiano_g04_c02.avi  from  PlayingPiano  directory\n"
     ]
    },
    {
     "name": "stderr",
     "output_type": "stream",
     "text": [
      "[2018-07-27 15:49:47,210] [TfPoseEstimator-Video] [DEBUG] initialization mobilenet_thin : /home/MPLab/mplab006/tf_action_recognition/models/graph/mobilenet_thin/graph_opt.pb\n"
     ]
    },
    {
     "name": "stdout",
     "output_type": "stream",
     "text": [
      "video  v_PlayingPiano_g04_c02.avi  inferenced done.\n",
      "# of finished videos:  14\n",
      "# of finished directories:  5\n",
      "inferencing video:  v_PlayingPiano_g04_c03.avi  from  PlayingPiano  directory\n"
     ]
    },
    {
     "name": "stderr",
     "output_type": "stream",
     "text": [
      "[2018-07-27 15:49:48,074] [TfPoseEstimator-Video] [DEBUG] initialization mobilenet_thin : /home/MPLab/mplab006/tf_action_recognition/models/graph/mobilenet_thin/graph_opt.pb\n"
     ]
    },
    {
     "name": "stdout",
     "output_type": "stream",
     "text": [
      "video  v_PlayingPiano_g04_c03.avi  inferenced done.\n",
      "# of finished videos:  15\n",
      "# of finished directories:  5\n",
      "inferencing video:  v_PlayingPiano_g04_c04.avi  from  PlayingPiano  directory\n"
     ]
    },
    {
     "name": "stderr",
     "output_type": "stream",
     "text": [
      "[2018-07-27 15:49:48,917] [TfPoseEstimator-Video] [DEBUG] initialization mobilenet_thin : /home/MPLab/mplab006/tf_action_recognition/models/graph/mobilenet_thin/graph_opt.pb\n"
     ]
    },
    {
     "name": "stdout",
     "output_type": "stream",
     "text": [
      "video  v_PlayingPiano_g04_c04.avi  inferenced done.\n",
      "# of finished videos:  16\n",
      "# of finished directories:  5\n",
      "inferencing video:  v_PlayingPiano_g05_c01.avi  from  PlayingPiano  directory\n"
     ]
    },
    {
     "name": "stderr",
     "output_type": "stream",
     "text": [
      "[2018-07-27 15:49:49,782] [TfPoseEstimator-Video] [DEBUG] initialization mobilenet_thin : /home/MPLab/mplab006/tf_action_recognition/models/graph/mobilenet_thin/graph_opt.pb\n"
     ]
    },
    {
     "name": "stdout",
     "output_type": "stream",
     "text": [
      "video  v_PlayingPiano_g05_c01.avi  inferenced done.\n",
      "# of finished videos:  17\n",
      "# of finished directories:  5\n",
      "inferencing video:  v_PlayingPiano_g05_c02.avi  from  PlayingPiano  directory\n"
     ]
    },
    {
     "name": "stderr",
     "output_type": "stream",
     "text": [
      "[2018-07-27 15:49:50,599] [TfPoseEstimator-Video] [DEBUG] initialization mobilenet_thin : /home/MPLab/mplab006/tf_action_recognition/models/graph/mobilenet_thin/graph_opt.pb\n"
     ]
    },
    {
     "name": "stdout",
     "output_type": "stream",
     "text": [
      "video  v_PlayingPiano_g05_c02.avi  inferenced done.\n",
      "# of finished videos:  18\n",
      "# of finished directories:  5\n",
      "inferencing video:  v_PlayingPiano_g05_c03.avi  from  PlayingPiano  directory\n"
     ]
    },
    {
     "name": "stderr",
     "output_type": "stream",
     "text": [
      "[2018-07-27 15:49:51,443] [TfPoseEstimator-Video] [DEBUG] initialization mobilenet_thin : /home/MPLab/mplab006/tf_action_recognition/models/graph/mobilenet_thin/graph_opt.pb\n"
     ]
    },
    {
     "name": "stdout",
     "output_type": "stream",
     "text": [
      "video  v_PlayingPiano_g05_c03.avi  inferenced done.\n",
      "# of finished videos:  19\n",
      "# of finished directories:  5\n",
      "inferencing video:  v_PlayingPiano_g05_c04.avi  from  PlayingPiano  directory\n"
     ]
    },
    {
     "name": "stderr",
     "output_type": "stream",
     "text": [
      "[2018-07-27 15:49:52,298] [TfPoseEstimator-Video] [DEBUG] initialization mobilenet_thin : /home/MPLab/mplab006/tf_action_recognition/models/graph/mobilenet_thin/graph_opt.pb\n"
     ]
    },
    {
     "name": "stdout",
     "output_type": "stream",
     "text": [
      "video  v_PlayingPiano_g05_c04.avi  inferenced done.\n",
      "# of finished videos:  20\n",
      "# of finished directories:  5\n",
      "inferencing video:  v_PlayingPiano_g06_c01.avi  from  PlayingPiano  directory\n"
     ]
    },
    {
     "name": "stderr",
     "output_type": "stream",
     "text": [
      "[2018-07-27 15:49:53,236] [TfPoseEstimator-Video] [DEBUG] initialization mobilenet_thin : /home/MPLab/mplab006/tf_action_recognition/models/graph/mobilenet_thin/graph_opt.pb\n"
     ]
    },
    {
     "name": "stdout",
     "output_type": "stream",
     "text": [
      "video  v_PlayingPiano_g06_c01.avi  inferenced done.\n",
      "# of finished videos:  21\n",
      "# of finished directories:  5\n",
      "inferencing video:  v_PlayingPiano_g06_c02.avi  from  PlayingPiano  directory\n"
     ]
    },
    {
     "name": "stderr",
     "output_type": "stream",
     "text": [
      "[2018-07-27 15:49:54,120] [TfPoseEstimator-Video] [DEBUG] initialization mobilenet_thin : /home/MPLab/mplab006/tf_action_recognition/models/graph/mobilenet_thin/graph_opt.pb\n"
     ]
    },
    {
     "name": "stdout",
     "output_type": "stream",
     "text": [
      "video  v_PlayingPiano_g06_c02.avi  inferenced done.\n",
      "# of finished videos:  22\n",
      "# of finished directories:  5\n",
      "inferencing video:  v_PlayingPiano_g06_c03.avi  from  PlayingPiano  directory\n"
     ]
    },
    {
     "name": "stderr",
     "output_type": "stream",
     "text": [
      "[2018-07-27 15:49:55,002] [TfPoseEstimator-Video] [DEBUG] initialization mobilenet_thin : /home/MPLab/mplab006/tf_action_recognition/models/graph/mobilenet_thin/graph_opt.pb\n"
     ]
    },
    {
     "name": "stdout",
     "output_type": "stream",
     "text": [
      "video  v_PlayingPiano_g06_c03.avi  inferenced done.\n",
      "# of finished videos:  23\n",
      "# of finished directories:  5\n",
      "inferencing video:  v_PlayingPiano_g06_c04.avi  from  PlayingPiano  directory\n"
     ]
    },
    {
     "name": "stderr",
     "output_type": "stream",
     "text": [
      "[2018-07-27 15:49:55,865] [TfPoseEstimator-Video] [DEBUG] initialization mobilenet_thin : /home/MPLab/mplab006/tf_action_recognition/models/graph/mobilenet_thin/graph_opt.pb\n"
     ]
    },
    {
     "name": "stdout",
     "output_type": "stream",
     "text": [
      "video  v_PlayingPiano_g06_c04.avi  inferenced done.\n",
      "# of finished videos:  24\n",
      "# of finished directories:  5\n",
      "inferencing video:  v_PlayingPiano_g07_c01.avi  from  PlayingPiano  directory\n"
     ]
    },
    {
     "name": "stderr",
     "output_type": "stream",
     "text": [
      "[2018-07-27 15:49:56,752] [TfPoseEstimator-Video] [DEBUG] initialization mobilenet_thin : /home/MPLab/mplab006/tf_action_recognition/models/graph/mobilenet_thin/graph_opt.pb\n"
     ]
    },
    {
     "name": "stdout",
     "output_type": "stream",
     "text": [
      "video  v_PlayingPiano_g07_c01.avi  inferenced done.\n",
      "# of finished videos:  25\n",
      "# of finished directories:  5\n",
      "inferencing video:  v_PlayingPiano_g07_c02.avi  from  PlayingPiano  directory\n"
     ]
    },
    {
     "name": "stderr",
     "output_type": "stream",
     "text": [
      "[2018-07-27 15:49:57,594] [TfPoseEstimator-Video] [DEBUG] initialization mobilenet_thin : /home/MPLab/mplab006/tf_action_recognition/models/graph/mobilenet_thin/graph_opt.pb\n"
     ]
    },
    {
     "name": "stdout",
     "output_type": "stream",
     "text": [
      "video  v_PlayingPiano_g07_c02.avi  inferenced done.\n",
      "# of finished videos:  26\n",
      "# of finished directories:  5\n",
      "inferencing video:  v_PlayingPiano_g07_c03.avi  from  PlayingPiano  directory\n"
     ]
    },
    {
     "name": "stderr",
     "output_type": "stream",
     "text": [
      "[2018-07-27 15:49:58,455] [TfPoseEstimator-Video] [DEBUG] initialization mobilenet_thin : /home/MPLab/mplab006/tf_action_recognition/models/graph/mobilenet_thin/graph_opt.pb\n"
     ]
    },
    {
     "name": "stdout",
     "output_type": "stream",
     "text": [
      "video  v_PlayingPiano_g07_c03.avi  inferenced done.\n",
      "# of finished videos:  27\n",
      "# of finished directories:  5\n",
      "inferencing video:  v_PlayingPiano_g07_c04.avi  from  PlayingPiano  directory\n"
     ]
    },
    {
     "name": "stderr",
     "output_type": "stream",
     "text": [
      "[2018-07-27 15:49:59,319] [TfPoseEstimator-Video] [DEBUG] initialization mobilenet_thin : /home/MPLab/mplab006/tf_action_recognition/models/graph/mobilenet_thin/graph_opt.pb\n"
     ]
    },
    {
     "name": "stdout",
     "output_type": "stream",
     "text": [
      "video  v_PlayingPiano_g07_c04.avi  inferenced done.\n",
      "# of finished videos:  28\n",
      "# of finished directories:  5\n",
      "inferencing video:  v_PlayingPiano_g08_c01.avi  from  PlayingPiano  directory\n"
     ]
    },
    {
     "name": "stderr",
     "output_type": "stream",
     "text": [
      "[2018-07-27 15:50:00,206] [TfPoseEstimator-Video] [DEBUG] initialization mobilenet_thin : /home/MPLab/mplab006/tf_action_recognition/models/graph/mobilenet_thin/graph_opt.pb\n"
     ]
    },
    {
     "name": "stdout",
     "output_type": "stream",
     "text": [
      "video  v_PlayingPiano_g08_c01.avi  inferenced done.\n",
      "# of finished videos:  29\n",
      "# of finished directories:  5\n",
      "inferencing video:  v_PlayingPiano_g08_c02.avi  from  PlayingPiano  directory\n"
     ]
    },
    {
     "name": "stderr",
     "output_type": "stream",
     "text": [
      "[2018-07-27 15:50:01,055] [TfPoseEstimator-Video] [DEBUG] initialization mobilenet_thin : /home/MPLab/mplab006/tf_action_recognition/models/graph/mobilenet_thin/graph_opt.pb\n"
     ]
    },
    {
     "name": "stdout",
     "output_type": "stream",
     "text": [
      "video  v_PlayingPiano_g08_c02.avi  inferenced done.\n",
      "# of finished videos:  30\n",
      "# of finished directories:  5\n",
      "inferencing video:  v_PlayingPiano_g08_c03.avi  from  PlayingPiano  directory\n"
     ]
    },
    {
     "name": "stderr",
     "output_type": "stream",
     "text": [
      "[2018-07-27 15:50:01,935] [TfPoseEstimator-Video] [DEBUG] initialization mobilenet_thin : /home/MPLab/mplab006/tf_action_recognition/models/graph/mobilenet_thin/graph_opt.pb\n"
     ]
    },
    {
     "name": "stdout",
     "output_type": "stream",
     "text": [
      "video  v_PlayingPiano_g08_c03.avi  inferenced done.\n",
      "# of finished videos:  31\n",
      "# of finished directories:  5\n",
      "inferencing video:  v_PlayingPiano_g08_c04.avi  from  PlayingPiano  directory\n"
     ]
    },
    {
     "name": "stderr",
     "output_type": "stream",
     "text": [
      "[2018-07-27 15:50:02,803] [TfPoseEstimator-Video] [DEBUG] initialization mobilenet_thin : /home/MPLab/mplab006/tf_action_recognition/models/graph/mobilenet_thin/graph_opt.pb\n"
     ]
    },
    {
     "name": "stdout",
     "output_type": "stream",
     "text": [
      "video  v_PlayingPiano_g08_c04.avi  inferenced done.\n",
      "# of finished videos:  32\n",
      "# of finished directories:  5\n",
      "inferencing video:  v_PlayingPiano_g09_c01.avi  from  PlayingPiano  directory\n"
     ]
    },
    {
     "name": "stderr",
     "output_type": "stream",
     "text": [
      "[2018-07-27 15:50:03,635] [TfPoseEstimator-Video] [DEBUG] initialization mobilenet_thin : /home/MPLab/mplab006/tf_action_recognition/models/graph/mobilenet_thin/graph_opt.pb\n"
     ]
    },
    {
     "name": "stdout",
     "output_type": "stream",
     "text": [
      "video  v_PlayingPiano_g09_c01.avi  inferenced done.\n",
      "# of finished videos:  33\n",
      "# of finished directories:  5\n",
      "inferencing video:  v_PlayingPiano_g09_c02.avi  from  PlayingPiano  directory\n"
     ]
    },
    {
     "name": "stderr",
     "output_type": "stream",
     "text": [
      "[2018-07-27 15:50:04,484] [TfPoseEstimator-Video] [DEBUG] initialization mobilenet_thin : /home/MPLab/mplab006/tf_action_recognition/models/graph/mobilenet_thin/graph_opt.pb\n"
     ]
    },
    {
     "name": "stdout",
     "output_type": "stream",
     "text": [
      "video  v_PlayingPiano_g09_c02.avi  inferenced done.\n",
      "# of finished videos:  34\n",
      "# of finished directories:  5\n",
      "inferencing video:  v_PlayingPiano_g09_c03.avi  from  PlayingPiano  directory\n"
     ]
    },
    {
     "name": "stderr",
     "output_type": "stream",
     "text": [
      "[2018-07-27 15:50:05,320] [TfPoseEstimator-Video] [DEBUG] initialization mobilenet_thin : /home/MPLab/mplab006/tf_action_recognition/models/graph/mobilenet_thin/graph_opt.pb\n"
     ]
    },
    {
     "name": "stdout",
     "output_type": "stream",
     "text": [
      "video  v_PlayingPiano_g09_c03.avi  inferenced done.\n",
      "# of finished videos:  35\n",
      "# of finished directories:  5\n",
      "inferencing video:  v_PlayingPiano_g09_c04.avi  from  PlayingPiano  directory\n"
     ]
    },
    {
     "name": "stderr",
     "output_type": "stream",
     "text": [
      "[2018-07-27 15:50:06,179] [TfPoseEstimator-Video] [DEBUG] initialization mobilenet_thin : /home/MPLab/mplab006/tf_action_recognition/models/graph/mobilenet_thin/graph_opt.pb\n"
     ]
    },
    {
     "name": "stdout",
     "output_type": "stream",
     "text": [
      "video  v_PlayingPiano_g09_c04.avi  inferenced done.\n",
      "# of finished videos:  36\n",
      "# of finished directories:  5\n",
      "inferencing video:  v_PlayingPiano_g10_c01.avi  from  PlayingPiano  directory\n"
     ]
    },
    {
     "name": "stderr",
     "output_type": "stream",
     "text": [
      "[2018-07-27 15:50:07,063] [TfPoseEstimator-Video] [DEBUG] initialization mobilenet_thin : /home/MPLab/mplab006/tf_action_recognition/models/graph/mobilenet_thin/graph_opt.pb\n"
     ]
    },
    {
     "name": "stdout",
     "output_type": "stream",
     "text": [
      "video  v_PlayingPiano_g10_c01.avi  inferenced done.\n",
      "# of finished videos:  37\n",
      "# of finished directories:  5\n",
      "inferencing video:  v_PlayingPiano_g10_c02.avi  from  PlayingPiano  directory\n"
     ]
    },
    {
     "name": "stderr",
     "output_type": "stream",
     "text": [
      "[2018-07-27 15:50:07,964] [TfPoseEstimator-Video] [DEBUG] initialization mobilenet_thin : /home/MPLab/mplab006/tf_action_recognition/models/graph/mobilenet_thin/graph_opt.pb\n"
     ]
    },
    {
     "name": "stdout",
     "output_type": "stream",
     "text": [
      "video  v_PlayingPiano_g10_c02.avi  inferenced done.\n",
      "# of finished videos:  38\n",
      "# of finished directories:  5\n",
      "inferencing video:  v_PlayingPiano_g10_c03.avi  from  PlayingPiano  directory\n"
     ]
    },
    {
     "name": "stderr",
     "output_type": "stream",
     "text": [
      "[2018-07-27 15:50:08,857] [TfPoseEstimator-Video] [DEBUG] initialization mobilenet_thin : /home/MPLab/mplab006/tf_action_recognition/models/graph/mobilenet_thin/graph_opt.pb\n"
     ]
    },
    {
     "name": "stdout",
     "output_type": "stream",
     "text": [
      "video  v_PlayingPiano_g10_c03.avi  inferenced done.\n",
      "# of finished videos:  39\n",
      "# of finished directories:  5\n",
      "inferencing video:  v_PlayingPiano_g10_c04.avi  from  PlayingPiano  directory\n"
     ]
    },
    {
     "name": "stderr",
     "output_type": "stream",
     "text": [
      "[2018-07-27 15:50:09,736] [TfPoseEstimator-Video] [DEBUG] initialization mobilenet_thin : /home/MPLab/mplab006/tf_action_recognition/models/graph/mobilenet_thin/graph_opt.pb\n"
     ]
    },
    {
     "name": "stdout",
     "output_type": "stream",
     "text": [
      "video  v_PlayingPiano_g10_c04.avi  inferenced done.\n",
      "# of finished videos:  40\n",
      "# of finished directories:  5\n",
      "inferencing video:  v_PlayingPiano_g11_c01.avi  from  PlayingPiano  directory\n"
     ]
    },
    {
     "name": "stderr",
     "output_type": "stream",
     "text": [
      "[2018-07-27 15:50:10,605] [TfPoseEstimator-Video] [DEBUG] initialization mobilenet_thin : /home/MPLab/mplab006/tf_action_recognition/models/graph/mobilenet_thin/graph_opt.pb\n"
     ]
    },
    {
     "name": "stdout",
     "output_type": "stream",
     "text": [
      "video  v_PlayingPiano_g11_c01.avi  inferenced done.\n",
      "# of finished videos:  41\n",
      "# of finished directories:  5\n",
      "inferencing video:  v_PlayingPiano_g11_c02.avi  from  PlayingPiano  directory\n"
     ]
    },
    {
     "name": "stderr",
     "output_type": "stream",
     "text": [
      "[2018-07-27 15:50:11,500] [TfPoseEstimator-Video] [DEBUG] initialization mobilenet_thin : /home/MPLab/mplab006/tf_action_recognition/models/graph/mobilenet_thin/graph_opt.pb\n"
     ]
    },
    {
     "name": "stdout",
     "output_type": "stream",
     "text": [
      "video  v_PlayingPiano_g11_c02.avi  inferenced done.\n",
      "# of finished videos:  42\n",
      "# of finished directories:  5\n",
      "inferencing video:  v_PlayingPiano_g11_c03.avi  from  PlayingPiano  directory\n"
     ]
    },
    {
     "name": "stderr",
     "output_type": "stream",
     "text": [
      "[2018-07-27 15:50:12,333] [TfPoseEstimator-Video] [DEBUG] initialization mobilenet_thin : /home/MPLab/mplab006/tf_action_recognition/models/graph/mobilenet_thin/graph_opt.pb\n"
     ]
    },
    {
     "name": "stdout",
     "output_type": "stream",
     "text": [
      "video  v_PlayingPiano_g11_c03.avi  inferenced done.\n",
      "# of finished videos:  43\n",
      "# of finished directories:  5\n",
      "inferencing video:  v_PlayingPiano_g11_c04.avi  from  PlayingPiano  directory\n"
     ]
    },
    {
     "name": "stderr",
     "output_type": "stream",
     "text": [
      "[2018-07-27 15:50:13,226] [TfPoseEstimator-Video] [DEBUG] initialization mobilenet_thin : /home/MPLab/mplab006/tf_action_recognition/models/graph/mobilenet_thin/graph_opt.pb\n"
     ]
    },
    {
     "name": "stdout",
     "output_type": "stream",
     "text": [
      "video  v_PlayingPiano_g11_c04.avi  inferenced done.\n",
      "# of finished videos:  44\n",
      "# of finished directories:  5\n",
      "inferencing video:  v_PlayingPiano_g12_c01.avi  from  PlayingPiano  directory\n"
     ]
    },
    {
     "name": "stderr",
     "output_type": "stream",
     "text": [
      "[2018-07-27 15:50:14,084] [TfPoseEstimator-Video] [DEBUG] initialization mobilenet_thin : /home/MPLab/mplab006/tf_action_recognition/models/graph/mobilenet_thin/graph_opt.pb\n"
     ]
    },
    {
     "name": "stdout",
     "output_type": "stream",
     "text": [
      "video  v_PlayingPiano_g12_c01.avi  inferenced done.\n",
      "# of finished videos:  45\n",
      "# of finished directories:  5\n",
      "inferencing video:  v_PlayingPiano_g12_c02.avi  from  PlayingPiano  directory\n"
     ]
    },
    {
     "name": "stderr",
     "output_type": "stream",
     "text": [
      "[2018-07-27 15:50:14,979] [TfPoseEstimator-Video] [DEBUG] initialization mobilenet_thin : /home/MPLab/mplab006/tf_action_recognition/models/graph/mobilenet_thin/graph_opt.pb\n"
     ]
    },
    {
     "name": "stdout",
     "output_type": "stream",
     "text": [
      "video  v_PlayingPiano_g12_c02.avi  inferenced done.\n",
      "# of finished videos:  46\n",
      "# of finished directories:  5\n",
      "inferencing video:  v_PlayingPiano_g12_c03.avi  from  PlayingPiano  directory\n"
     ]
    },
    {
     "name": "stderr",
     "output_type": "stream",
     "text": [
      "[2018-07-27 15:50:15,812] [TfPoseEstimator-Video] [DEBUG] initialization mobilenet_thin : /home/MPLab/mplab006/tf_action_recognition/models/graph/mobilenet_thin/graph_opt.pb\n"
     ]
    },
    {
     "name": "stdout",
     "output_type": "stream",
     "text": [
      "video  v_PlayingPiano_g12_c03.avi  inferenced done.\n",
      "# of finished videos:  47\n",
      "# of finished directories:  5\n",
      "inferencing video:  v_PlayingPiano_g12_c04.avi  from  PlayingPiano  directory\n"
     ]
    },
    {
     "name": "stderr",
     "output_type": "stream",
     "text": [
      "[2018-07-27 15:50:16,695] [TfPoseEstimator-Video] [DEBUG] initialization mobilenet_thin : /home/MPLab/mplab006/tf_action_recognition/models/graph/mobilenet_thin/graph_opt.pb\n"
     ]
    },
    {
     "name": "stdout",
     "output_type": "stream",
     "text": [
      "video  v_PlayingPiano_g12_c04.avi  inferenced done.\n",
      "# of finished videos:  48\n",
      "# of finished directories:  5\n",
      "inferencing video:  v_PlayingPiano_g13_c01.avi  from  PlayingPiano  directory\n"
     ]
    },
    {
     "name": "stderr",
     "output_type": "stream",
     "text": [
      "[2018-07-27 15:50:17,556] [TfPoseEstimator-Video] [DEBUG] initialization mobilenet_thin : /home/MPLab/mplab006/tf_action_recognition/models/graph/mobilenet_thin/graph_opt.pb\n"
     ]
    },
    {
     "name": "stdout",
     "output_type": "stream",
     "text": [
      "video  v_PlayingPiano_g13_c01.avi  inferenced done.\n",
      "# of finished videos:  49\n",
      "# of finished directories:  5\n",
      "inferencing video:  v_PlayingPiano_g13_c02.avi  from  PlayingPiano  directory\n"
     ]
    },
    {
     "name": "stderr",
     "output_type": "stream",
     "text": [
      "[2018-07-27 15:50:18,395] [TfPoseEstimator-Video] [DEBUG] initialization mobilenet_thin : /home/MPLab/mplab006/tf_action_recognition/models/graph/mobilenet_thin/graph_opt.pb\n"
     ]
    },
    {
     "name": "stdout",
     "output_type": "stream",
     "text": [
      "video  v_PlayingPiano_g13_c02.avi  inferenced done.\n",
      "# of finished videos:  50\n",
      "# of finished directories:  5\n",
      "inferencing video:  v_PlayingPiano_g13_c03.avi  from  PlayingPiano  directory\n"
     ]
    },
    {
     "name": "stderr",
     "output_type": "stream",
     "text": [
      "[2018-07-27 15:50:19,238] [TfPoseEstimator-Video] [DEBUG] initialization mobilenet_thin : /home/MPLab/mplab006/tf_action_recognition/models/graph/mobilenet_thin/graph_opt.pb\n"
     ]
    },
    {
     "name": "stdout",
     "output_type": "stream",
     "text": [
      "video  v_PlayingPiano_g13_c03.avi  inferenced done.\n",
      "# of finished videos:  51\n",
      "# of finished directories:  5\n",
      "inferencing video:  v_PlayingPiano_g13_c04.avi  from  PlayingPiano  directory\n"
     ]
    },
    {
     "name": "stderr",
     "output_type": "stream",
     "text": [
      "[2018-07-27 15:50:20,072] [TfPoseEstimator-Video] [DEBUG] initialization mobilenet_thin : /home/MPLab/mplab006/tf_action_recognition/models/graph/mobilenet_thin/graph_opt.pb\n"
     ]
    },
    {
     "name": "stdout",
     "output_type": "stream",
     "text": [
      "video  v_PlayingPiano_g13_c04.avi  inferenced done.\n",
      "# of finished videos:  52\n",
      "# of finished directories:  5\n",
      "inferencing video:  v_PlayingPiano_g14_c01.avi  from  PlayingPiano  directory\n"
     ]
    },
    {
     "name": "stderr",
     "output_type": "stream",
     "text": [
      "[2018-07-27 15:50:20,970] [TfPoseEstimator-Video] [DEBUG] initialization mobilenet_thin : /home/MPLab/mplab006/tf_action_recognition/models/graph/mobilenet_thin/graph_opt.pb\n"
     ]
    },
    {
     "name": "stdout",
     "output_type": "stream",
     "text": [
      "video  v_PlayingPiano_g14_c01.avi  inferenced done.\n",
      "# of finished videos:  53\n",
      "# of finished directories:  5\n",
      "inferencing video:  v_PlayingPiano_g14_c02.avi  from  PlayingPiano  directory\n"
     ]
    },
    {
     "name": "stderr",
     "output_type": "stream",
     "text": [
      "[2018-07-27 15:50:21,868] [TfPoseEstimator-Video] [DEBUG] initialization mobilenet_thin : /home/MPLab/mplab006/tf_action_recognition/models/graph/mobilenet_thin/graph_opt.pb\n"
     ]
    },
    {
     "name": "stdout",
     "output_type": "stream",
     "text": [
      "video  v_PlayingPiano_g14_c02.avi  inferenced done.\n",
      "# of finished videos:  54\n",
      "# of finished directories:  5\n",
      "inferencing video:  v_PlayingPiano_g14_c03.avi  from  PlayingPiano  directory\n"
     ]
    },
    {
     "name": "stderr",
     "output_type": "stream",
     "text": [
      "[2018-07-27 15:50:22,755] [TfPoseEstimator-Video] [DEBUG] initialization mobilenet_thin : /home/MPLab/mplab006/tf_action_recognition/models/graph/mobilenet_thin/graph_opt.pb\n"
     ]
    },
    {
     "name": "stdout",
     "output_type": "stream",
     "text": [
      "video  v_PlayingPiano_g14_c03.avi  inferenced done.\n",
      "# of finished videos:  55\n",
      "# of finished directories:  5\n",
      "inferencing video:  v_PlayingPiano_g14_c04.avi  from  PlayingPiano  directory\n"
     ]
    },
    {
     "name": "stderr",
     "output_type": "stream",
     "text": [
      "[2018-07-27 15:50:23,636] [TfPoseEstimator-Video] [DEBUG] initialization mobilenet_thin : /home/MPLab/mplab006/tf_action_recognition/models/graph/mobilenet_thin/graph_opt.pb\n"
     ]
    },
    {
     "name": "stdout",
     "output_type": "stream",
     "text": [
      "video  v_PlayingPiano_g14_c04.avi  inferenced done.\n",
      "# of finished videos:  56\n",
      "# of finished directories:  5\n",
      "inferencing video:  v_PlayingPiano_g15_c01.avi  from  PlayingPiano  directory\n"
     ]
    },
    {
     "name": "stderr",
     "output_type": "stream",
     "text": [
      "[2018-07-27 15:50:24,531] [TfPoseEstimator-Video] [DEBUG] initialization mobilenet_thin : /home/MPLab/mplab006/tf_action_recognition/models/graph/mobilenet_thin/graph_opt.pb\n"
     ]
    },
    {
     "name": "stdout",
     "output_type": "stream",
     "text": [
      "video  v_PlayingPiano_g15_c01.avi  inferenced done.\n",
      "# of finished videos:  57\n",
      "# of finished directories:  5\n",
      "inferencing video:  v_PlayingPiano_g15_c02.avi  from  PlayingPiano  directory\n"
     ]
    },
    {
     "name": "stderr",
     "output_type": "stream",
     "text": [
      "[2018-07-27 15:50:25,390] [TfPoseEstimator-Video] [DEBUG] initialization mobilenet_thin : /home/MPLab/mplab006/tf_action_recognition/models/graph/mobilenet_thin/graph_opt.pb\n"
     ]
    },
    {
     "name": "stdout",
     "output_type": "stream",
     "text": [
      "video  v_PlayingPiano_g15_c02.avi  inferenced done.\n",
      "# of finished videos:  58\n",
      "# of finished directories:  5\n",
      "inferencing video:  v_PlayingPiano_g15_c03.avi  from  PlayingPiano  directory\n"
     ]
    },
    {
     "name": "stderr",
     "output_type": "stream",
     "text": [
      "[2018-07-27 15:50:26,243] [TfPoseEstimator-Video] [DEBUG] initialization mobilenet_thin : /home/MPLab/mplab006/tf_action_recognition/models/graph/mobilenet_thin/graph_opt.pb\n"
     ]
    },
    {
     "name": "stdout",
     "output_type": "stream",
     "text": [
      "video  v_PlayingPiano_g15_c03.avi  inferenced done.\n",
      "# of finished videos:  59\n",
      "# of finished directories:  5\n",
      "inferencing video:  v_PlayingPiano_g15_c04.avi  from  PlayingPiano  directory\n"
     ]
    },
    {
     "name": "stderr",
     "output_type": "stream",
     "text": [
      "[2018-07-27 15:50:27,164] [TfPoseEstimator-Video] [DEBUG] initialization mobilenet_thin : /home/MPLab/mplab006/tf_action_recognition/models/graph/mobilenet_thin/graph_opt.pb\n"
     ]
    },
    {
     "name": "stdout",
     "output_type": "stream",
     "text": [
      "video  v_PlayingPiano_g15_c04.avi  inferenced done.\n",
      "# of finished videos:  60\n",
      "# of finished directories:  5\n",
      "inferencing video:  v_PlayingPiano_g16_c01.avi  from  PlayingPiano  directory\n"
     ]
    },
    {
     "name": "stderr",
     "output_type": "stream",
     "text": [
      "[2018-07-27 15:50:28,002] [TfPoseEstimator-Video] [DEBUG] initialization mobilenet_thin : /home/MPLab/mplab006/tf_action_recognition/models/graph/mobilenet_thin/graph_opt.pb\n"
     ]
    },
    {
     "name": "stdout",
     "output_type": "stream",
     "text": [
      "video  v_PlayingPiano_g16_c01.avi  inferenced done.\n",
      "# of finished videos:  61\n",
      "# of finished directories:  5\n",
      "inferencing video:  v_PlayingPiano_g16_c02.avi  from  PlayingPiano  directory\n"
     ]
    },
    {
     "name": "stderr",
     "output_type": "stream",
     "text": [
      "[2018-07-27 15:50:28,859] [TfPoseEstimator-Video] [DEBUG] initialization mobilenet_thin : /home/MPLab/mplab006/tf_action_recognition/models/graph/mobilenet_thin/graph_opt.pb\n"
     ]
    },
    {
     "name": "stdout",
     "output_type": "stream",
     "text": [
      "video  v_PlayingPiano_g16_c02.avi  inferenced done.\n",
      "# of finished videos:  62\n",
      "# of finished directories:  5\n",
      "inferencing video:  v_PlayingPiano_g16_c03.avi  from  PlayingPiano  directory\n"
     ]
    },
    {
     "name": "stderr",
     "output_type": "stream",
     "text": [
      "[2018-07-27 15:50:29,716] [TfPoseEstimator-Video] [DEBUG] initialization mobilenet_thin : /home/MPLab/mplab006/tf_action_recognition/models/graph/mobilenet_thin/graph_opt.pb\n"
     ]
    },
    {
     "name": "stdout",
     "output_type": "stream",
     "text": [
      "video  v_PlayingPiano_g16_c03.avi  inferenced done.\n",
      "# of finished videos:  63\n",
      "# of finished directories:  5\n",
      "inferencing video:  v_PlayingPiano_g16_c04.avi  from  PlayingPiano  directory\n"
     ]
    },
    {
     "name": "stderr",
     "output_type": "stream",
     "text": [
      "[2018-07-27 15:50:30,570] [TfPoseEstimator-Video] [DEBUG] initialization mobilenet_thin : /home/MPLab/mplab006/tf_action_recognition/models/graph/mobilenet_thin/graph_opt.pb\n"
     ]
    },
    {
     "name": "stdout",
     "output_type": "stream",
     "text": [
      "video  v_PlayingPiano_g16_c04.avi  inferenced done.\n",
      "# of finished videos:  64\n",
      "# of finished directories:  5\n",
      "inferencing video:  v_PlayingPiano_g16_c05.avi  from  PlayingPiano  directory\n"
     ]
    },
    {
     "name": "stderr",
     "output_type": "stream",
     "text": [
      "[2018-07-27 15:50:31,721] [TfPoseEstimator-Video] [DEBUG] initialization mobilenet_thin : /home/MPLab/mplab006/tf_action_recognition/models/graph/mobilenet_thin/graph_opt.pb\n"
     ]
    },
    {
     "name": "stdout",
     "output_type": "stream",
     "text": [
      "video  v_PlayingPiano_g16_c05.avi  inferenced done.\n",
      "# of finished videos:  65\n",
      "# of finished directories:  5\n",
      "inferencing video:  v_PlayingPiano_g16_c06.avi  from  PlayingPiano  directory\n"
     ]
    },
    {
     "name": "stderr",
     "output_type": "stream",
     "text": [
      "[2018-07-27 15:50:32,897] [TfPoseEstimator-Video] [DEBUG] initialization mobilenet_thin : /home/MPLab/mplab006/tf_action_recognition/models/graph/mobilenet_thin/graph_opt.pb\n"
     ]
    },
    {
     "name": "stdout",
     "output_type": "stream",
     "text": [
      "video  v_PlayingPiano_g16_c06.avi  inferenced done.\n",
      "# of finished videos:  66\n",
      "# of finished directories:  5\n",
      "inferencing video:  v_PlayingPiano_g16_c07.avi  from  PlayingPiano  directory\n"
     ]
    },
    {
     "name": "stderr",
     "output_type": "stream",
     "text": [
      "[2018-07-27 15:50:33,909] [TfPoseEstimator-Video] [DEBUG] initialization mobilenet_thin : /home/MPLab/mplab006/tf_action_recognition/models/graph/mobilenet_thin/graph_opt.pb\n"
     ]
    },
    {
     "name": "stdout",
     "output_type": "stream",
     "text": [
      "video  v_PlayingPiano_g16_c07.avi  inferenced done.\n",
      "# of finished videos:  67\n",
      "# of finished directories:  5\n",
      "inferencing video:  v_PlayingPiano_g17_c01.avi  from  PlayingPiano  directory\n"
     ]
    },
    {
     "name": "stderr",
     "output_type": "stream",
     "text": [
      "[2018-07-27 15:50:34,721] [TfPoseEstimator-Video] [DEBUG] initialization mobilenet_thin : /home/MPLab/mplab006/tf_action_recognition/models/graph/mobilenet_thin/graph_opt.pb\n"
     ]
    },
    {
     "name": "stdout",
     "output_type": "stream",
     "text": [
      "video  v_PlayingPiano_g17_c01.avi  inferenced done.\n",
      "# of finished videos:  68\n",
      "# of finished directories:  5\n",
      "inferencing video:  v_PlayingPiano_g17_c02.avi  from  PlayingPiano  directory\n"
     ]
    },
    {
     "name": "stderr",
     "output_type": "stream",
     "text": [
      "[2018-07-27 15:50:35,562] [TfPoseEstimator-Video] [DEBUG] initialization mobilenet_thin : /home/MPLab/mplab006/tf_action_recognition/models/graph/mobilenet_thin/graph_opt.pb\n"
     ]
    },
    {
     "name": "stdout",
     "output_type": "stream",
     "text": [
      "video  v_PlayingPiano_g17_c02.avi  inferenced done.\n",
      "# of finished videos:  69\n",
      "# of finished directories:  5\n",
      "inferencing video:  v_PlayingPiano_g17_c03.avi  from  PlayingPiano  directory\n"
     ]
    },
    {
     "name": "stderr",
     "output_type": "stream",
     "text": [
      "[2018-07-27 15:50:36,431] [TfPoseEstimator-Video] [DEBUG] initialization mobilenet_thin : /home/MPLab/mplab006/tf_action_recognition/models/graph/mobilenet_thin/graph_opt.pb\n"
     ]
    },
    {
     "name": "stdout",
     "output_type": "stream",
     "text": [
      "video  v_PlayingPiano_g17_c03.avi  inferenced done.\n",
      "# of finished videos:  70\n",
      "# of finished directories:  5\n",
      "inferencing video:  v_PlayingPiano_g17_c04.avi  from  PlayingPiano  directory\n"
     ]
    },
    {
     "name": "stderr",
     "output_type": "stream",
     "text": [
      "[2018-07-27 15:50:37,281] [TfPoseEstimator-Video] [DEBUG] initialization mobilenet_thin : /home/MPLab/mplab006/tf_action_recognition/models/graph/mobilenet_thin/graph_opt.pb\n"
     ]
    },
    {
     "name": "stdout",
     "output_type": "stream",
     "text": [
      "video  v_PlayingPiano_g17_c04.avi  inferenced done.\n",
      "# of finished videos:  71\n",
      "# of finished directories:  5\n",
      "inferencing video:  v_PlayingPiano_g17_c05.avi  from  PlayingPiano  directory\n"
     ]
    },
    {
     "name": "stderr",
     "output_type": "stream",
     "text": [
      "[2018-07-27 15:50:38,138] [TfPoseEstimator-Video] [DEBUG] initialization mobilenet_thin : /home/MPLab/mplab006/tf_action_recognition/models/graph/mobilenet_thin/graph_opt.pb\n"
     ]
    },
    {
     "name": "stdout",
     "output_type": "stream",
     "text": [
      "video  v_PlayingPiano_g17_c05.avi  inferenced done.\n",
      "# of finished videos:  72\n",
      "# of finished directories:  5\n",
      "inferencing video:  v_PlayingPiano_g17_c06.avi  from  PlayingPiano  directory\n"
     ]
    },
    {
     "name": "stderr",
     "output_type": "stream",
     "text": [
      "[2018-07-27 15:50:38,991] [TfPoseEstimator-Video] [DEBUG] initialization mobilenet_thin : /home/MPLab/mplab006/tf_action_recognition/models/graph/mobilenet_thin/graph_opt.pb\n"
     ]
    },
    {
     "name": "stdout",
     "output_type": "stream",
     "text": [
      "video  v_PlayingPiano_g17_c06.avi  inferenced done.\n",
      "# of finished videos:  73\n",
      "# of finished directories:  5\n",
      "inferencing video:  v_PlayingPiano_g18_c01.avi  from  PlayingPiano  directory\n"
     ]
    },
    {
     "name": "stderr",
     "output_type": "stream",
     "text": [
      "[2018-07-27 15:50:39,800] [TfPoseEstimator-Video] [DEBUG] initialization mobilenet_thin : /home/MPLab/mplab006/tf_action_recognition/models/graph/mobilenet_thin/graph_opt.pb\n"
     ]
    },
    {
     "name": "stdout",
     "output_type": "stream",
     "text": [
      "video  v_PlayingPiano_g18_c01.avi  inferenced done.\n",
      "# of finished videos:  74\n",
      "# of finished directories:  5\n",
      "inferencing video:  v_PlayingPiano_g18_c02.avi  from  PlayingPiano  directory\n"
     ]
    },
    {
     "name": "stderr",
     "output_type": "stream",
     "text": [
      "[2018-07-27 15:50:40,639] [TfPoseEstimator-Video] [DEBUG] initialization mobilenet_thin : /home/MPLab/mplab006/tf_action_recognition/models/graph/mobilenet_thin/graph_opt.pb\n"
     ]
    },
    {
     "name": "stdout",
     "output_type": "stream",
     "text": [
      "video  v_PlayingPiano_g18_c02.avi  inferenced done.\n",
      "# of finished videos:  75\n",
      "# of finished directories:  5\n",
      "inferencing video:  v_PlayingPiano_g18_c03.avi  from  PlayingPiano  directory\n"
     ]
    },
    {
     "name": "stderr",
     "output_type": "stream",
     "text": [
      "[2018-07-27 15:50:41,523] [TfPoseEstimator-Video] [DEBUG] initialization mobilenet_thin : /home/MPLab/mplab006/tf_action_recognition/models/graph/mobilenet_thin/graph_opt.pb\n"
     ]
    },
    {
     "name": "stdout",
     "output_type": "stream",
     "text": [
      "video  v_PlayingPiano_g18_c03.avi  inferenced done.\n",
      "# of finished videos:  76\n",
      "# of finished directories:  5\n",
      "inferencing video:  v_PlayingPiano_g18_c04.avi  from  PlayingPiano  directory\n"
     ]
    },
    {
     "name": "stderr",
     "output_type": "stream",
     "text": [
      "[2018-07-27 15:50:42,375] [TfPoseEstimator-Video] [DEBUG] initialization mobilenet_thin : /home/MPLab/mplab006/tf_action_recognition/models/graph/mobilenet_thin/graph_opt.pb\n"
     ]
    },
    {
     "name": "stdout",
     "output_type": "stream",
     "text": [
      "video  v_PlayingPiano_g18_c04.avi  inferenced done.\n",
      "# of finished videos:  77\n",
      "# of finished directories:  5\n",
      "inferencing video:  v_PlayingPiano_g19_c01.avi  from  PlayingPiano  directory\n"
     ]
    },
    {
     "name": "stderr",
     "output_type": "stream",
     "text": [
      "[2018-07-27 15:50:43,265] [TfPoseEstimator-Video] [DEBUG] initialization mobilenet_thin : /home/MPLab/mplab006/tf_action_recognition/models/graph/mobilenet_thin/graph_opt.pb\n"
     ]
    },
    {
     "name": "stdout",
     "output_type": "stream",
     "text": [
      "video  v_PlayingPiano_g19_c01.avi  inferenced done.\n",
      "# of finished videos:  78\n",
      "# of finished directories:  5\n",
      "inferencing video:  v_PlayingPiano_g19_c02.avi  from  PlayingPiano  directory\n"
     ]
    },
    {
     "name": "stderr",
     "output_type": "stream",
     "text": [
      "[2018-07-27 15:50:44,128] [TfPoseEstimator-Video] [DEBUG] initialization mobilenet_thin : /home/MPLab/mplab006/tf_action_recognition/models/graph/mobilenet_thin/graph_opt.pb\n"
     ]
    },
    {
     "name": "stdout",
     "output_type": "stream",
     "text": [
      "video  v_PlayingPiano_g19_c02.avi  inferenced done.\n",
      "# of finished videos:  79\n",
      "# of finished directories:  5\n",
      "inferencing video:  v_PlayingPiano_g19_c03.avi  from  PlayingPiano  directory\n"
     ]
    },
    {
     "name": "stderr",
     "output_type": "stream",
     "text": [
      "[2018-07-27 15:50:44,977] [TfPoseEstimator-Video] [DEBUG] initialization mobilenet_thin : /home/MPLab/mplab006/tf_action_recognition/models/graph/mobilenet_thin/graph_opt.pb\n"
     ]
    },
    {
     "name": "stdout",
     "output_type": "stream",
     "text": [
      "video  v_PlayingPiano_g19_c03.avi  inferenced done.\n",
      "# of finished videos:  80\n",
      "# of finished directories:  5\n",
      "inferencing video:  v_PlayingPiano_g19_c04.avi  from  PlayingPiano  directory\n"
     ]
    },
    {
     "name": "stderr",
     "output_type": "stream",
     "text": [
      "[2018-07-27 15:50:45,833] [TfPoseEstimator-Video] [DEBUG] initialization mobilenet_thin : /home/MPLab/mplab006/tf_action_recognition/models/graph/mobilenet_thin/graph_opt.pb\n"
     ]
    },
    {
     "name": "stdout",
     "output_type": "stream",
     "text": [
      "video  v_PlayingPiano_g19_c04.avi  inferenced done.\n",
      "# of finished videos:  81\n",
      "# of finished directories:  5\n",
      "inferencing video:  v_PlayingPiano_g20_c01.avi  from  PlayingPiano  directory\n"
     ]
    },
    {
     "name": "stderr",
     "output_type": "stream",
     "text": [
      "[2018-07-27 15:50:46,728] [TfPoseEstimator-Video] [DEBUG] initialization mobilenet_thin : /home/MPLab/mplab006/tf_action_recognition/models/graph/mobilenet_thin/graph_opt.pb\n"
     ]
    },
    {
     "name": "stdout",
     "output_type": "stream",
     "text": [
      "video  v_PlayingPiano_g20_c01.avi  inferenced done.\n",
      "# of finished videos:  82\n",
      "# of finished directories:  5\n",
      "inferencing video:  v_PlayingPiano_g20_c02.avi  from  PlayingPiano  directory\n"
     ]
    },
    {
     "name": "stderr",
     "output_type": "stream",
     "text": [
      "[2018-07-27 15:50:47,592] [TfPoseEstimator-Video] [DEBUG] initialization mobilenet_thin : /home/MPLab/mplab006/tf_action_recognition/models/graph/mobilenet_thin/graph_opt.pb\n"
     ]
    },
    {
     "name": "stdout",
     "output_type": "stream",
     "text": [
      "video  v_PlayingPiano_g20_c02.avi  inferenced done.\n",
      "# of finished videos:  83\n",
      "# of finished directories:  5\n",
      "inferencing video:  v_PlayingPiano_g20_c03.avi  from  PlayingPiano  directory\n"
     ]
    },
    {
     "name": "stderr",
     "output_type": "stream",
     "text": [
      "[2018-07-27 15:50:48,461] [TfPoseEstimator-Video] [DEBUG] initialization mobilenet_thin : /home/MPLab/mplab006/tf_action_recognition/models/graph/mobilenet_thin/graph_opt.pb\n"
     ]
    },
    {
     "name": "stdout",
     "output_type": "stream",
     "text": [
      "video  v_PlayingPiano_g20_c03.avi  inferenced done.\n",
      "# of finished videos:  84\n",
      "# of finished directories:  5\n",
      "inferencing video:  v_PlayingPiano_g20_c04.avi  from  PlayingPiano  directory\n"
     ]
    },
    {
     "name": "stderr",
     "output_type": "stream",
     "text": [
      "[2018-07-27 15:50:49,358] [TfPoseEstimator-Video] [DEBUG] initialization mobilenet_thin : /home/MPLab/mplab006/tf_action_recognition/models/graph/mobilenet_thin/graph_opt.pb\n"
     ]
    },
    {
     "name": "stdout",
     "output_type": "stream",
     "text": [
      "video  v_PlayingPiano_g20_c04.avi  inferenced done.\n",
      "# of finished videos:  85\n",
      "# of finished directories:  5\n",
      "inferencing video:  v_PlayingPiano_g21_c01.avi  from  PlayingPiano  directory\n"
     ]
    },
    {
     "name": "stderr",
     "output_type": "stream",
     "text": [
      "[2018-07-27 15:50:50,222] [TfPoseEstimator-Video] [DEBUG] initialization mobilenet_thin : /home/MPLab/mplab006/tf_action_recognition/models/graph/mobilenet_thin/graph_opt.pb\n"
     ]
    },
    {
     "name": "stdout",
     "output_type": "stream",
     "text": [
      "video  v_PlayingPiano_g21_c01.avi  inferenced done.\n",
      "# of finished videos:  86\n",
      "# of finished directories:  5\n",
      "inferencing video:  v_PlayingPiano_g21_c02.avi  from  PlayingPiano  directory\n"
     ]
    },
    {
     "name": "stderr",
     "output_type": "stream",
     "text": [
      "[2018-07-27 15:50:51,076] [TfPoseEstimator-Video] [DEBUG] initialization mobilenet_thin : /home/MPLab/mplab006/tf_action_recognition/models/graph/mobilenet_thin/graph_opt.pb\n"
     ]
    },
    {
     "name": "stdout",
     "output_type": "stream",
     "text": [
      "video  v_PlayingPiano_g21_c02.avi  inferenced done.\n",
      "# of finished videos:  87\n",
      "# of finished directories:  5\n",
      "inferencing video:  v_PlayingPiano_g21_c03.avi  from  PlayingPiano  directory\n"
     ]
    },
    {
     "name": "stderr",
     "output_type": "stream",
     "text": [
      "[2018-07-27 15:50:51,910] [TfPoseEstimator-Video] [DEBUG] initialization mobilenet_thin : /home/MPLab/mplab006/tf_action_recognition/models/graph/mobilenet_thin/graph_opt.pb\n"
     ]
    },
    {
     "name": "stdout",
     "output_type": "stream",
     "text": [
      "video  v_PlayingPiano_g21_c03.avi  inferenced done.\n",
      "# of finished videos:  88\n",
      "# of finished directories:  5\n",
      "inferencing video:  v_PlayingPiano_g21_c04.avi  from  PlayingPiano  directory\n"
     ]
    },
    {
     "name": "stderr",
     "output_type": "stream",
     "text": [
      "[2018-07-27 15:50:52,811] [TfPoseEstimator-Video] [DEBUG] initialization mobilenet_thin : /home/MPLab/mplab006/tf_action_recognition/models/graph/mobilenet_thin/graph_opt.pb\n"
     ]
    },
    {
     "name": "stdout",
     "output_type": "stream",
     "text": [
      "video  v_PlayingPiano_g21_c04.avi  inferenced done.\n",
      "# of finished videos:  89\n",
      "# of finished directories:  5\n",
      "inferencing video:  v_PlayingPiano_g22_c01.avi  from  PlayingPiano  directory\n"
     ]
    },
    {
     "name": "stderr",
     "output_type": "stream",
     "text": [
      "[2018-07-27 15:50:53,678] [TfPoseEstimator-Video] [DEBUG] initialization mobilenet_thin : /home/MPLab/mplab006/tf_action_recognition/models/graph/mobilenet_thin/graph_opt.pb\n"
     ]
    },
    {
     "name": "stdout",
     "output_type": "stream",
     "text": [
      "video  v_PlayingPiano_g22_c01.avi  inferenced done.\n",
      "# of finished videos:  90\n",
      "# of finished directories:  5\n",
      "inferencing video:  v_PlayingPiano_g22_c02.avi  from  PlayingPiano  directory\n"
     ]
    },
    {
     "name": "stderr",
     "output_type": "stream",
     "text": [
      "[2018-07-27 15:50:54,568] [TfPoseEstimator-Video] [DEBUG] initialization mobilenet_thin : /home/MPLab/mplab006/tf_action_recognition/models/graph/mobilenet_thin/graph_opt.pb\n"
     ]
    },
    {
     "name": "stdout",
     "output_type": "stream",
     "text": [
      "video  v_PlayingPiano_g22_c02.avi  inferenced done.\n",
      "# of finished videos:  91\n",
      "# of finished directories:  5\n",
      "inferencing video:  v_PlayingPiano_g22_c03.avi  from  PlayingPiano  directory\n"
     ]
    },
    {
     "name": "stderr",
     "output_type": "stream",
     "text": [
      "[2018-07-27 15:50:55,426] [TfPoseEstimator-Video] [DEBUG] initialization mobilenet_thin : /home/MPLab/mplab006/tf_action_recognition/models/graph/mobilenet_thin/graph_opt.pb\n"
     ]
    },
    {
     "name": "stdout",
     "output_type": "stream",
     "text": [
      "video  v_PlayingPiano_g22_c03.avi  inferenced done.\n",
      "# of finished videos:  92\n",
      "# of finished directories:  5\n",
      "inferencing video:  v_PlayingPiano_g22_c04.avi  from  PlayingPiano  directory\n"
     ]
    },
    {
     "name": "stderr",
     "output_type": "stream",
     "text": [
      "[2018-07-27 15:50:56,271] [TfPoseEstimator-Video] [DEBUG] initialization mobilenet_thin : /home/MPLab/mplab006/tf_action_recognition/models/graph/mobilenet_thin/graph_opt.pb\n"
     ]
    },
    {
     "name": "stdout",
     "output_type": "stream",
     "text": [
      "video  v_PlayingPiano_g22_c04.avi  inferenced done.\n",
      "# of finished videos:  93\n",
      "# of finished directories:  5\n",
      "inferencing video:  v_PlayingPiano_g23_c01.avi  from  PlayingPiano  directory\n"
     ]
    },
    {
     "name": "stderr",
     "output_type": "stream",
     "text": [
      "[2018-07-27 15:50:57,120] [TfPoseEstimator-Video] [DEBUG] initialization mobilenet_thin : /home/MPLab/mplab006/tf_action_recognition/models/graph/mobilenet_thin/graph_opt.pb\n"
     ]
    },
    {
     "name": "stdout",
     "output_type": "stream",
     "text": [
      "video  v_PlayingPiano_g23_c01.avi  inferenced done.\n",
      "# of finished videos:  94\n",
      "# of finished directories:  5\n",
      "inferencing video:  v_PlayingPiano_g23_c02.avi  from  PlayingPiano  directory\n"
     ]
    },
    {
     "name": "stderr",
     "output_type": "stream",
     "text": [
      "[2018-07-27 15:50:57,931] [TfPoseEstimator-Video] [DEBUG] initialization mobilenet_thin : /home/MPLab/mplab006/tf_action_recognition/models/graph/mobilenet_thin/graph_opt.pb\n"
     ]
    },
    {
     "name": "stdout",
     "output_type": "stream",
     "text": [
      "video  v_PlayingPiano_g23_c02.avi  inferenced done.\n",
      "# of finished videos:  95\n",
      "# of finished directories:  5\n",
      "inferencing video:  v_PlayingPiano_g23_c03.avi  from  PlayingPiano  directory\n"
     ]
    },
    {
     "name": "stderr",
     "output_type": "stream",
     "text": [
      "[2018-07-27 15:50:58,825] [TfPoseEstimator-Video] [DEBUG] initialization mobilenet_thin : /home/MPLab/mplab006/tf_action_recognition/models/graph/mobilenet_thin/graph_opt.pb\n"
     ]
    },
    {
     "name": "stdout",
     "output_type": "stream",
     "text": [
      "video  v_PlayingPiano_g23_c03.avi  inferenced done.\n",
      "# of finished videos:  96\n",
      "# of finished directories:  5\n",
      "inferencing video:  v_PlayingPiano_g23_c04.avi  from  PlayingPiano  directory\n"
     ]
    },
    {
     "name": "stderr",
     "output_type": "stream",
     "text": [
      "[2018-07-27 15:50:59,654] [TfPoseEstimator-Video] [DEBUG] initialization mobilenet_thin : /home/MPLab/mplab006/tf_action_recognition/models/graph/mobilenet_thin/graph_opt.pb\n"
     ]
    },
    {
     "name": "stdout",
     "output_type": "stream",
     "text": [
      "video  v_PlayingPiano_g23_c04.avi  inferenced done.\n",
      "# of finished videos:  97\n",
      "# of finished directories:  5\n",
      "inferencing video:  v_PlayingPiano_g24_c01.avi  from  PlayingPiano  directory\n"
     ]
    },
    {
     "name": "stderr",
     "output_type": "stream",
     "text": [
      "[2018-07-27 15:51:00,539] [TfPoseEstimator-Video] [DEBUG] initialization mobilenet_thin : /home/MPLab/mplab006/tf_action_recognition/models/graph/mobilenet_thin/graph_opt.pb\n"
     ]
    },
    {
     "name": "stdout",
     "output_type": "stream",
     "text": [
      "video  v_PlayingPiano_g24_c01.avi  inferenced done.\n",
      "# of finished videos:  98\n",
      "# of finished directories:  5\n",
      "inferencing video:  v_PlayingPiano_g24_c02.avi  from  PlayingPiano  directory\n"
     ]
    },
    {
     "name": "stderr",
     "output_type": "stream",
     "text": [
      "[2018-07-27 15:51:01,381] [TfPoseEstimator-Video] [DEBUG] initialization mobilenet_thin : /home/MPLab/mplab006/tf_action_recognition/models/graph/mobilenet_thin/graph_opt.pb\n"
     ]
    },
    {
     "name": "stdout",
     "output_type": "stream",
     "text": [
      "video  v_PlayingPiano_g24_c02.avi  inferenced done.\n",
      "# of finished videos:  99\n",
      "# of finished directories:  5\n",
      "inferencing video:  v_PlayingPiano_g24_c03.avi  from  PlayingPiano  directory\n"
     ]
    },
    {
     "name": "stderr",
     "output_type": "stream",
     "text": [
      "[2018-07-27 15:51:02,236] [TfPoseEstimator-Video] [DEBUG] initialization mobilenet_thin : /home/MPLab/mplab006/tf_action_recognition/models/graph/mobilenet_thin/graph_opt.pb\n"
     ]
    },
    {
     "name": "stdout",
     "output_type": "stream",
     "text": [
      "video  v_PlayingPiano_g24_c03.avi  inferenced done.\n",
      "# of finished videos:  100\n",
      "# of finished directories:  5\n",
      "inferencing video:  v_PlayingPiano_g24_c04.avi  from  PlayingPiano  directory\n"
     ]
    },
    {
     "name": "stderr",
     "output_type": "stream",
     "text": [
      "[2018-07-27 15:51:03,066] [TfPoseEstimator-Video] [DEBUG] initialization mobilenet_thin : /home/MPLab/mplab006/tf_action_recognition/models/graph/mobilenet_thin/graph_opt.pb\n"
     ]
    },
    {
     "name": "stdout",
     "output_type": "stream",
     "text": [
      "video  v_PlayingPiano_g24_c04.avi  inferenced done.\n",
      "# of finished videos:  101\n",
      "# of finished directories:  5\n",
      "inferencing video:  v_PlayingPiano_g25_c01.avi  from  PlayingPiano  directory\n"
     ]
    },
    {
     "name": "stderr",
     "output_type": "stream",
     "text": [
      "[2018-07-27 15:51:03,938] [TfPoseEstimator-Video] [DEBUG] initialization mobilenet_thin : /home/MPLab/mplab006/tf_action_recognition/models/graph/mobilenet_thin/graph_opt.pb\n"
     ]
    },
    {
     "name": "stdout",
     "output_type": "stream",
     "text": [
      "video  v_PlayingPiano_g25_c01.avi  inferenced done.\n",
      "# of finished videos:  102\n",
      "# of finished directories:  5\n",
      "inferencing video:  v_PlayingPiano_g25_c02.avi  from  PlayingPiano  directory\n"
     ]
    },
    {
     "name": "stderr",
     "output_type": "stream",
     "text": [
      "[2018-07-27 15:51:04,791] [TfPoseEstimator-Video] [DEBUG] initialization mobilenet_thin : /home/MPLab/mplab006/tf_action_recognition/models/graph/mobilenet_thin/graph_opt.pb\n"
     ]
    },
    {
     "name": "stdout",
     "output_type": "stream",
     "text": [
      "video  v_PlayingPiano_g25_c02.avi  inferenced done.\n",
      "# of finished videos:  103\n",
      "# of finished directories:  5\n",
      "inferencing video:  v_PlayingPiano_g25_c03.avi  from  PlayingPiano  directory\n"
     ]
    },
    {
     "name": "stderr",
     "output_type": "stream",
     "text": [
      "[2018-07-27 15:51:05,637] [TfPoseEstimator-Video] [DEBUG] initialization mobilenet_thin : /home/MPLab/mplab006/tf_action_recognition/models/graph/mobilenet_thin/graph_opt.pb\n"
     ]
    },
    {
     "name": "stdout",
     "output_type": "stream",
     "text": [
      "video  v_PlayingPiano_g25_c03.avi  inferenced done.\n",
      "# of finished videos:  104\n",
      "# of finished directories:  5\n",
      "inferencing video:  v_PlayingPiano_g25_c04.avi  from  PlayingPiano  directory\n"
     ]
    },
    {
     "name": "stderr",
     "output_type": "stream",
     "text": [
      "[2018-07-27 15:51:06,534] [TfPoseEstimator-Video] [DEBUG] initialization mobilenet_thin : /home/MPLab/mplab006/tf_action_recognition/models/graph/mobilenet_thin/graph_opt.pb\n"
     ]
    },
    {
     "name": "stdout",
     "output_type": "stream",
     "text": [
      "video  v_PlayingPiano_g25_c04.avi  inferenced done.\n",
      "# of finished videos:  105\n",
      "# of finished directories:  5\n",
      "inferencing video:  v_PlayingSitar_g01_c01.avi  from  PlayingSitar  directory\n"
     ]
    },
    {
     "name": "stderr",
     "output_type": "stream",
     "text": [
      "[2018-07-27 15:51:07,379] [TfPoseEstimator-Video] [DEBUG] initialization mobilenet_thin : /home/MPLab/mplab006/tf_action_recognition/models/graph/mobilenet_thin/graph_opt.pb\n"
     ]
    },
    {
     "name": "stdout",
     "output_type": "stream",
     "text": [
      "video  v_PlayingSitar_g01_c01.avi  inferenced done.\n",
      "# of finished videos:  1\n",
      "# of finished directories:  6\n",
      "inferencing video:  v_PlayingSitar_g01_c02.avi  from  PlayingSitar  directory\n"
     ]
    },
    {
     "name": "stderr",
     "output_type": "stream",
     "text": [
      "[2018-07-27 15:51:08,274] [TfPoseEstimator-Video] [DEBUG] initialization mobilenet_thin : /home/MPLab/mplab006/tf_action_recognition/models/graph/mobilenet_thin/graph_opt.pb\n"
     ]
    },
    {
     "name": "stdout",
     "output_type": "stream",
     "text": [
      "video  v_PlayingSitar_g01_c02.avi  inferenced done.\n",
      "# of finished videos:  2\n",
      "# of finished directories:  6\n",
      "inferencing video:  v_PlayingSitar_g01_c03.avi  from  PlayingSitar  directory\n"
     ]
    },
    {
     "name": "stderr",
     "output_type": "stream",
     "text": [
      "[2018-07-27 15:51:09,135] [TfPoseEstimator-Video] [DEBUG] initialization mobilenet_thin : /home/MPLab/mplab006/tf_action_recognition/models/graph/mobilenet_thin/graph_opt.pb\n"
     ]
    },
    {
     "name": "stdout",
     "output_type": "stream",
     "text": [
      "video  v_PlayingSitar_g01_c03.avi  inferenced done.\n",
      "# of finished videos:  3\n",
      "# of finished directories:  6\n",
      "inferencing video:  v_PlayingSitar_g01_c04.avi  from  PlayingSitar  directory\n"
     ]
    },
    {
     "name": "stderr",
     "output_type": "stream",
     "text": [
      "[2018-07-27 15:51:09,996] [TfPoseEstimator-Video] [DEBUG] initialization mobilenet_thin : /home/MPLab/mplab006/tf_action_recognition/models/graph/mobilenet_thin/graph_opt.pb\n"
     ]
    },
    {
     "name": "stdout",
     "output_type": "stream",
     "text": [
      "video  v_PlayingSitar_g01_c04.avi  inferenced done.\n",
      "# of finished videos:  4\n",
      "# of finished directories:  6\n",
      "inferencing video:  v_PlayingSitar_g02_c01.avi  from  PlayingSitar  directory\n"
     ]
    },
    {
     "name": "stderr",
     "output_type": "stream",
     "text": [
      "[2018-07-27 15:51:10,828] [TfPoseEstimator-Video] [DEBUG] initialization mobilenet_thin : /home/MPLab/mplab006/tf_action_recognition/models/graph/mobilenet_thin/graph_opt.pb\n"
     ]
    },
    {
     "name": "stdout",
     "output_type": "stream",
     "text": [
      "video  v_PlayingSitar_g02_c01.avi  inferenced done.\n",
      "# of finished videos:  5\n",
      "# of finished directories:  6\n",
      "inferencing video:  v_PlayingSitar_g02_c02.avi  from  PlayingSitar  directory\n"
     ]
    },
    {
     "name": "stderr",
     "output_type": "stream",
     "text": [
      "[2018-07-27 15:51:11,699] [TfPoseEstimator-Video] [DEBUG] initialization mobilenet_thin : /home/MPLab/mplab006/tf_action_recognition/models/graph/mobilenet_thin/graph_opt.pb\n"
     ]
    },
    {
     "name": "stdout",
     "output_type": "stream",
     "text": [
      "video  v_PlayingSitar_g02_c02.avi  inferenced done.\n",
      "# of finished videos:  6\n",
      "# of finished directories:  6\n",
      "inferencing video:  v_PlayingSitar_g02_c03.avi  from  PlayingSitar  directory\n"
     ]
    },
    {
     "name": "stderr",
     "output_type": "stream",
     "text": [
      "[2018-07-27 15:51:12,531] [TfPoseEstimator-Video] [DEBUG] initialization mobilenet_thin : /home/MPLab/mplab006/tf_action_recognition/models/graph/mobilenet_thin/graph_opt.pb\n"
     ]
    },
    {
     "name": "stdout",
     "output_type": "stream",
     "text": [
      "video  v_PlayingSitar_g02_c03.avi  inferenced done.\n",
      "# of finished videos:  7\n",
      "# of finished directories:  6\n",
      "inferencing video:  v_PlayingSitar_g02_c04.avi  from  PlayingSitar  directory\n"
     ]
    },
    {
     "name": "stderr",
     "output_type": "stream",
     "text": [
      "[2018-07-27 15:51:13,399] [TfPoseEstimator-Video] [DEBUG] initialization mobilenet_thin : /home/MPLab/mplab006/tf_action_recognition/models/graph/mobilenet_thin/graph_opt.pb\n"
     ]
    },
    {
     "name": "stdout",
     "output_type": "stream",
     "text": [
      "video  v_PlayingSitar_g02_c04.avi  inferenced done.\n",
      "# of finished videos:  8\n",
      "# of finished directories:  6\n",
      "inferencing video:  v_PlayingSitar_g02_c05.avi  from  PlayingSitar  directory\n"
     ]
    },
    {
     "name": "stderr",
     "output_type": "stream",
     "text": [
      "[2018-07-27 15:51:14,256] [TfPoseEstimator-Video] [DEBUG] initialization mobilenet_thin : /home/MPLab/mplab006/tf_action_recognition/models/graph/mobilenet_thin/graph_opt.pb\n"
     ]
    },
    {
     "name": "stdout",
     "output_type": "stream",
     "text": [
      "video  v_PlayingSitar_g02_c05.avi  inferenced done.\n",
      "# of finished videos:  9\n",
      "# of finished directories:  6\n",
      "inferencing video:  v_PlayingSitar_g02_c06.avi  from  PlayingSitar  directory\n"
     ]
    },
    {
     "name": "stderr",
     "output_type": "stream",
     "text": [
      "[2018-07-27 15:51:15,098] [TfPoseEstimator-Video] [DEBUG] initialization mobilenet_thin : /home/MPLab/mplab006/tf_action_recognition/models/graph/mobilenet_thin/graph_opt.pb\n"
     ]
    },
    {
     "name": "stdout",
     "output_type": "stream",
     "text": [
      "video  v_PlayingSitar_g02_c06.avi  inferenced done.\n",
      "# of finished videos:  10\n",
      "# of finished directories:  6\n",
      "inferencing video:  v_PlayingSitar_g03_c01.avi  from  PlayingSitar  directory\n"
     ]
    },
    {
     "name": "stderr",
     "output_type": "stream",
     "text": [
      "[2018-07-27 15:51:15,951] [TfPoseEstimator-Video] [DEBUG] initialization mobilenet_thin : /home/MPLab/mplab006/tf_action_recognition/models/graph/mobilenet_thin/graph_opt.pb\n"
     ]
    },
    {
     "name": "stdout",
     "output_type": "stream",
     "text": [
      "video  v_PlayingSitar_g03_c01.avi  inferenced done.\n",
      "# of finished videos:  11\n",
      "# of finished directories:  6\n",
      "inferencing video:  v_PlayingSitar_g03_c02.avi  from  PlayingSitar  directory\n"
     ]
    },
    {
     "name": "stderr",
     "output_type": "stream",
     "text": [
      "[2018-07-27 15:51:16,795] [TfPoseEstimator-Video] [DEBUG] initialization mobilenet_thin : /home/MPLab/mplab006/tf_action_recognition/models/graph/mobilenet_thin/graph_opt.pb\n"
     ]
    },
    {
     "name": "stdout",
     "output_type": "stream",
     "text": [
      "video  v_PlayingSitar_g03_c02.avi  inferenced done.\n",
      "# of finished videos:  12\n",
      "# of finished directories:  6\n",
      "inferencing video:  v_PlayingSitar_g03_c03.avi  from  PlayingSitar  directory\n"
     ]
    },
    {
     "name": "stderr",
     "output_type": "stream",
     "text": [
      "[2018-07-27 15:51:17,681] [TfPoseEstimator-Video] [DEBUG] initialization mobilenet_thin : /home/MPLab/mplab006/tf_action_recognition/models/graph/mobilenet_thin/graph_opt.pb\n"
     ]
    },
    {
     "name": "stdout",
     "output_type": "stream",
     "text": [
      "video  v_PlayingSitar_g03_c03.avi  inferenced done.\n",
      "# of finished videos:  13\n",
      "# of finished directories:  6\n",
      "inferencing video:  v_PlayingSitar_g03_c04.avi  from  PlayingSitar  directory\n"
     ]
    },
    {
     "name": "stderr",
     "output_type": "stream",
     "text": [
      "[2018-07-27 15:51:18,529] [TfPoseEstimator-Video] [DEBUG] initialization mobilenet_thin : /home/MPLab/mplab006/tf_action_recognition/models/graph/mobilenet_thin/graph_opt.pb\n"
     ]
    },
    {
     "name": "stdout",
     "output_type": "stream",
     "text": [
      "video  v_PlayingSitar_g03_c04.avi  inferenced done.\n",
      "# of finished videos:  14\n",
      "# of finished directories:  6\n",
      "inferencing video:  v_PlayingSitar_g03_c05.avi  from  PlayingSitar  directory\n"
     ]
    },
    {
     "name": "stderr",
     "output_type": "stream",
     "text": [
      "[2018-07-27 15:51:19,420] [TfPoseEstimator-Video] [DEBUG] initialization mobilenet_thin : /home/MPLab/mplab006/tf_action_recognition/models/graph/mobilenet_thin/graph_opt.pb\n"
     ]
    },
    {
     "name": "stdout",
     "output_type": "stream",
     "text": [
      "video  v_PlayingSitar_g03_c05.avi  inferenced done.\n",
      "# of finished videos:  15\n",
      "# of finished directories:  6\n",
      "inferencing video:  v_PlayingSitar_g03_c06.avi  from  PlayingSitar  directory\n"
     ]
    },
    {
     "name": "stderr",
     "output_type": "stream",
     "text": [
      "[2018-07-27 15:51:20,282] [TfPoseEstimator-Video] [DEBUG] initialization mobilenet_thin : /home/MPLab/mplab006/tf_action_recognition/models/graph/mobilenet_thin/graph_opt.pb\n"
     ]
    },
    {
     "name": "stdout",
     "output_type": "stream",
     "text": [
      "video  v_PlayingSitar_g03_c06.avi  inferenced done.\n",
      "# of finished videos:  16\n",
      "# of finished directories:  6\n",
      "inferencing video:  v_PlayingSitar_g03_c07.avi  from  PlayingSitar  directory\n"
     ]
    },
    {
     "name": "stderr",
     "output_type": "stream",
     "text": [
      "[2018-07-27 15:51:21,111] [TfPoseEstimator-Video] [DEBUG] initialization mobilenet_thin : /home/MPLab/mplab006/tf_action_recognition/models/graph/mobilenet_thin/graph_opt.pb\n"
     ]
    },
    {
     "name": "stdout",
     "output_type": "stream",
     "text": [
      "video  v_PlayingSitar_g03_c07.avi  inferenced done.\n",
      "# of finished videos:  17\n",
      "# of finished directories:  6\n",
      "inferencing video:  v_PlayingSitar_g04_c01.avi  from  PlayingSitar  directory\n"
     ]
    },
    {
     "name": "stderr",
     "output_type": "stream",
     "text": [
      "[2018-07-27 15:51:22,001] [TfPoseEstimator-Video] [DEBUG] initialization mobilenet_thin : /home/MPLab/mplab006/tf_action_recognition/models/graph/mobilenet_thin/graph_opt.pb\n"
     ]
    },
    {
     "name": "stdout",
     "output_type": "stream",
     "text": [
      "video  v_PlayingSitar_g04_c01.avi  inferenced done.\n",
      "# of finished videos:  18\n",
      "# of finished directories:  6\n",
      "inferencing video:  v_PlayingSitar_g04_c02.avi  from  PlayingSitar  directory\n"
     ]
    },
    {
     "name": "stderr",
     "output_type": "stream",
     "text": [
      "[2018-07-27 15:51:22,886] [TfPoseEstimator-Video] [DEBUG] initialization mobilenet_thin : /home/MPLab/mplab006/tf_action_recognition/models/graph/mobilenet_thin/graph_opt.pb\n"
     ]
    },
    {
     "name": "stdout",
     "output_type": "stream",
     "text": [
      "video  v_PlayingSitar_g04_c02.avi  inferenced done.\n",
      "# of finished videos:  19\n",
      "# of finished directories:  6\n",
      "inferencing video:  v_PlayingSitar_g04_c03.avi  from  PlayingSitar  directory\n"
     ]
    },
    {
     "name": "stderr",
     "output_type": "stream",
     "text": [
      "[2018-07-27 15:51:23,742] [TfPoseEstimator-Video] [DEBUG] initialization mobilenet_thin : /home/MPLab/mplab006/tf_action_recognition/models/graph/mobilenet_thin/graph_opt.pb\n"
     ]
    },
    {
     "name": "stdout",
     "output_type": "stream",
     "text": [
      "video  v_PlayingSitar_g04_c03.avi  inferenced done.\n",
      "# of finished videos:  20\n",
      "# of finished directories:  6\n",
      "inferencing video:  v_PlayingSitar_g04_c04.avi  from  PlayingSitar  directory\n"
     ]
    },
    {
     "name": "stderr",
     "output_type": "stream",
     "text": [
      "[2018-07-27 15:51:24,611] [TfPoseEstimator-Video] [DEBUG] initialization mobilenet_thin : /home/MPLab/mplab006/tf_action_recognition/models/graph/mobilenet_thin/graph_opt.pb\n"
     ]
    },
    {
     "name": "stdout",
     "output_type": "stream",
     "text": [
      "video  v_PlayingSitar_g04_c04.avi  inferenced done.\n",
      "# of finished videos:  21\n",
      "# of finished directories:  6\n",
      "inferencing video:  v_PlayingSitar_g04_c05.avi  from  PlayingSitar  directory\n"
     ]
    },
    {
     "name": "stderr",
     "output_type": "stream",
     "text": [
      "[2018-07-27 15:51:25,478] [TfPoseEstimator-Video] [DEBUG] initialization mobilenet_thin : /home/MPLab/mplab006/tf_action_recognition/models/graph/mobilenet_thin/graph_opt.pb\n"
     ]
    },
    {
     "name": "stdout",
     "output_type": "stream",
     "text": [
      "video  v_PlayingSitar_g04_c05.avi  inferenced done.\n",
      "# of finished videos:  22\n",
      "# of finished directories:  6\n",
      "inferencing video:  v_PlayingSitar_g04_c06.avi  from  PlayingSitar  directory\n"
     ]
    },
    {
     "name": "stderr",
     "output_type": "stream",
     "text": [
      "[2018-07-27 15:51:26,353] [TfPoseEstimator-Video] [DEBUG] initialization mobilenet_thin : /home/MPLab/mplab006/tf_action_recognition/models/graph/mobilenet_thin/graph_opt.pb\n"
     ]
    },
    {
     "name": "stdout",
     "output_type": "stream",
     "text": [
      "video  v_PlayingSitar_g04_c06.avi  inferenced done.\n",
      "# of finished videos:  23\n",
      "# of finished directories:  6\n",
      "inferencing video:  v_PlayingSitar_g04_c07.avi  from  PlayingSitar  directory\n"
     ]
    },
    {
     "name": "stderr",
     "output_type": "stream",
     "text": [
      "[2018-07-27 15:51:27,238] [TfPoseEstimator-Video] [DEBUG] initialization mobilenet_thin : /home/MPLab/mplab006/tf_action_recognition/models/graph/mobilenet_thin/graph_opt.pb\n"
     ]
    },
    {
     "name": "stdout",
     "output_type": "stream",
     "text": [
      "video  v_PlayingSitar_g04_c07.avi  inferenced done.\n",
      "# of finished videos:  24\n",
      "# of finished directories:  6\n",
      "inferencing video:  v_PlayingSitar_g05_c01.avi  from  PlayingSitar  directory\n"
     ]
    },
    {
     "name": "stderr",
     "output_type": "stream",
     "text": [
      "[2018-07-27 15:51:28,112] [TfPoseEstimator-Video] [DEBUG] initialization mobilenet_thin : /home/MPLab/mplab006/tf_action_recognition/models/graph/mobilenet_thin/graph_opt.pb\n"
     ]
    },
    {
     "name": "stdout",
     "output_type": "stream",
     "text": [
      "video  v_PlayingSitar_g05_c01.avi  inferenced done.\n",
      "# of finished videos:  25\n",
      "# of finished directories:  6\n",
      "inferencing video:  v_PlayingSitar_g05_c02.avi  from  PlayingSitar  directory\n"
     ]
    },
    {
     "name": "stderr",
     "output_type": "stream",
     "text": [
      "[2018-07-27 15:51:29,005] [TfPoseEstimator-Video] [DEBUG] initialization mobilenet_thin : /home/MPLab/mplab006/tf_action_recognition/models/graph/mobilenet_thin/graph_opt.pb\n"
     ]
    },
    {
     "name": "stdout",
     "output_type": "stream",
     "text": [
      "video  v_PlayingSitar_g05_c02.avi  inferenced done.\n",
      "# of finished videos:  26\n",
      "# of finished directories:  6\n",
      "inferencing video:  v_PlayingSitar_g05_c03.avi  from  PlayingSitar  directory\n"
     ]
    },
    {
     "name": "stderr",
     "output_type": "stream",
     "text": [
      "[2018-07-27 15:51:29,910] [TfPoseEstimator-Video] [DEBUG] initialization mobilenet_thin : /home/MPLab/mplab006/tf_action_recognition/models/graph/mobilenet_thin/graph_opt.pb\n"
     ]
    },
    {
     "name": "stdout",
     "output_type": "stream",
     "text": [
      "video  v_PlayingSitar_g05_c03.avi  inferenced done.\n",
      "# of finished videos:  27\n",
      "# of finished directories:  6\n",
      "inferencing video:  v_PlayingSitar_g05_c04.avi  from  PlayingSitar  directory\n"
     ]
    },
    {
     "name": "stderr",
     "output_type": "stream",
     "text": [
      "[2018-07-27 15:51:30,784] [TfPoseEstimator-Video] [DEBUG] initialization mobilenet_thin : /home/MPLab/mplab006/tf_action_recognition/models/graph/mobilenet_thin/graph_opt.pb\n"
     ]
    },
    {
     "name": "stdout",
     "output_type": "stream",
     "text": [
      "video  v_PlayingSitar_g05_c04.avi  inferenced done.\n",
      "# of finished videos:  28\n",
      "# of finished directories:  6\n",
      "inferencing video:  v_PlayingSitar_g05_c05.avi  from  PlayingSitar  directory\n"
     ]
    },
    {
     "name": "stderr",
     "output_type": "stream",
     "text": [
      "[2018-07-27 15:51:31,651] [TfPoseEstimator-Video] [DEBUG] initialization mobilenet_thin : /home/MPLab/mplab006/tf_action_recognition/models/graph/mobilenet_thin/graph_opt.pb\n"
     ]
    },
    {
     "name": "stdout",
     "output_type": "stream",
     "text": [
      "video  v_PlayingSitar_g05_c05.avi  inferenced done.\n",
      "# of finished videos:  29\n",
      "# of finished directories:  6\n",
      "inferencing video:  v_PlayingSitar_g05_c06.avi  from  PlayingSitar  directory\n"
     ]
    },
    {
     "name": "stderr",
     "output_type": "stream",
     "text": [
      "[2018-07-27 15:51:32,552] [TfPoseEstimator-Video] [DEBUG] initialization mobilenet_thin : /home/MPLab/mplab006/tf_action_recognition/models/graph/mobilenet_thin/graph_opt.pb\n"
     ]
    },
    {
     "name": "stdout",
     "output_type": "stream",
     "text": [
      "video  v_PlayingSitar_g05_c06.avi  inferenced done.\n",
      "# of finished videos:  30\n",
      "# of finished directories:  6\n",
      "inferencing video:  v_PlayingSitar_g05_c07.avi  from  PlayingSitar  directory\n"
     ]
    },
    {
     "name": "stderr",
     "output_type": "stream",
     "text": [
      "[2018-07-27 15:51:33,433] [TfPoseEstimator-Video] [DEBUG] initialization mobilenet_thin : /home/MPLab/mplab006/tf_action_recognition/models/graph/mobilenet_thin/graph_opt.pb\n"
     ]
    },
    {
     "name": "stdout",
     "output_type": "stream",
     "text": [
      "video  v_PlayingSitar_g05_c07.avi  inferenced done.\n",
      "# of finished videos:  31\n",
      "# of finished directories:  6\n",
      "inferencing video:  v_PlayingSitar_g06_c01.avi  from  PlayingSitar  directory\n"
     ]
    },
    {
     "name": "stderr",
     "output_type": "stream",
     "text": [
      "[2018-07-27 15:51:34,312] [TfPoseEstimator-Video] [DEBUG] initialization mobilenet_thin : /home/MPLab/mplab006/tf_action_recognition/models/graph/mobilenet_thin/graph_opt.pb\n"
     ]
    },
    {
     "name": "stdout",
     "output_type": "stream",
     "text": [
      "video  v_PlayingSitar_g06_c01.avi  inferenced done.\n",
      "# of finished videos:  32\n",
      "# of finished directories:  6\n",
      "inferencing video:  v_PlayingSitar_g06_c02.avi  from  PlayingSitar  directory\n"
     ]
    },
    {
     "name": "stderr",
     "output_type": "stream",
     "text": [
      "[2018-07-27 15:51:35,179] [TfPoseEstimator-Video] [DEBUG] initialization mobilenet_thin : /home/MPLab/mplab006/tf_action_recognition/models/graph/mobilenet_thin/graph_opt.pb\n"
     ]
    },
    {
     "name": "stdout",
     "output_type": "stream",
     "text": [
      "video  v_PlayingSitar_g06_c02.avi  inferenced done.\n",
      "# of finished videos:  33\n",
      "# of finished directories:  6\n",
      "inferencing video:  v_PlayingSitar_g06_c03.avi  from  PlayingSitar  directory\n"
     ]
    },
    {
     "name": "stderr",
     "output_type": "stream",
     "text": [
      "[2018-07-27 15:51:36,057] [TfPoseEstimator-Video] [DEBUG] initialization mobilenet_thin : /home/MPLab/mplab006/tf_action_recognition/models/graph/mobilenet_thin/graph_opt.pb\n"
     ]
    },
    {
     "name": "stdout",
     "output_type": "stream",
     "text": [
      "video  v_PlayingSitar_g06_c03.avi  inferenced done.\n",
      "# of finished videos:  34\n",
      "# of finished directories:  6\n",
      "inferencing video:  v_PlayingSitar_g06_c04.avi  from  PlayingSitar  directory\n"
     ]
    },
    {
     "name": "stderr",
     "output_type": "stream",
     "text": [
      "[2018-07-27 15:51:36,953] [TfPoseEstimator-Video] [DEBUG] initialization mobilenet_thin : /home/MPLab/mplab006/tf_action_recognition/models/graph/mobilenet_thin/graph_opt.pb\n"
     ]
    },
    {
     "name": "stdout",
     "output_type": "stream",
     "text": [
      "video  v_PlayingSitar_g06_c04.avi  inferenced done.\n",
      "# of finished videos:  35\n",
      "# of finished directories:  6\n",
      "inferencing video:  v_PlayingSitar_g06_c05.avi  from  PlayingSitar  directory\n"
     ]
    },
    {
     "name": "stderr",
     "output_type": "stream",
     "text": [
      "[2018-07-27 15:51:37,824] [TfPoseEstimator-Video] [DEBUG] initialization mobilenet_thin : /home/MPLab/mplab006/tf_action_recognition/models/graph/mobilenet_thin/graph_opt.pb\n"
     ]
    },
    {
     "name": "stdout",
     "output_type": "stream",
     "text": [
      "video  v_PlayingSitar_g06_c05.avi  inferenced done.\n",
      "# of finished videos:  36\n",
      "# of finished directories:  6\n",
      "inferencing video:  v_PlayingSitar_g06_c06.avi  from  PlayingSitar  directory\n"
     ]
    },
    {
     "name": "stderr",
     "output_type": "stream",
     "text": [
      "[2018-07-27 15:51:38,711] [TfPoseEstimator-Video] [DEBUG] initialization mobilenet_thin : /home/MPLab/mplab006/tf_action_recognition/models/graph/mobilenet_thin/graph_opt.pb\n"
     ]
    },
    {
     "name": "stdout",
     "output_type": "stream",
     "text": [
      "video  v_PlayingSitar_g06_c06.avi  inferenced done.\n",
      "# of finished videos:  37\n",
      "# of finished directories:  6\n",
      "inferencing video:  v_PlayingSitar_g07_c01.avi  from  PlayingSitar  directory\n"
     ]
    },
    {
     "name": "stderr",
     "output_type": "stream",
     "text": [
      "[2018-07-27 15:51:39,570] [TfPoseEstimator-Video] [DEBUG] initialization mobilenet_thin : /home/MPLab/mplab006/tf_action_recognition/models/graph/mobilenet_thin/graph_opt.pb\n"
     ]
    },
    {
     "name": "stdout",
     "output_type": "stream",
     "text": [
      "video  v_PlayingSitar_g07_c01.avi  inferenced done.\n",
      "# of finished videos:  38\n",
      "# of finished directories:  6\n",
      "inferencing video:  v_PlayingSitar_g07_c02.avi  from  PlayingSitar  directory\n"
     ]
    },
    {
     "name": "stderr",
     "output_type": "stream",
     "text": [
      "[2018-07-27 15:51:40,477] [TfPoseEstimator-Video] [DEBUG] initialization mobilenet_thin : /home/MPLab/mplab006/tf_action_recognition/models/graph/mobilenet_thin/graph_opt.pb\n"
     ]
    },
    {
     "name": "stdout",
     "output_type": "stream",
     "text": [
      "video  v_PlayingSitar_g07_c02.avi  inferenced done.\n",
      "# of finished videos:  39\n",
      "# of finished directories:  6\n",
      "inferencing video:  v_PlayingSitar_g07_c03.avi  from  PlayingSitar  directory\n"
     ]
    },
    {
     "name": "stderr",
     "output_type": "stream",
     "text": [
      "[2018-07-27 15:51:41,316] [TfPoseEstimator-Video] [DEBUG] initialization mobilenet_thin : /home/MPLab/mplab006/tf_action_recognition/models/graph/mobilenet_thin/graph_opt.pb\n"
     ]
    },
    {
     "name": "stdout",
     "output_type": "stream",
     "text": [
      "video  v_PlayingSitar_g07_c03.avi  inferenced done.\n",
      "# of finished videos:  40\n",
      "# of finished directories:  6\n",
      "inferencing video:  v_PlayingSitar_g07_c04.avi  from  PlayingSitar  directory\n"
     ]
    },
    {
     "name": "stderr",
     "output_type": "stream",
     "text": [
      "[2018-07-27 15:51:42,175] [TfPoseEstimator-Video] [DEBUG] initialization mobilenet_thin : /home/MPLab/mplab006/tf_action_recognition/models/graph/mobilenet_thin/graph_opt.pb\n"
     ]
    },
    {
     "name": "stdout",
     "output_type": "stream",
     "text": [
      "video  v_PlayingSitar_g07_c04.avi  inferenced done.\n",
      "# of finished videos:  41\n",
      "# of finished directories:  6\n",
      "inferencing video:  v_PlayingSitar_g07_c05.avi  from  PlayingSitar  directory\n"
     ]
    },
    {
     "name": "stderr",
     "output_type": "stream",
     "text": [
      "[2018-07-27 15:51:43,023] [TfPoseEstimator-Video] [DEBUG] initialization mobilenet_thin : /home/MPLab/mplab006/tf_action_recognition/models/graph/mobilenet_thin/graph_opt.pb\n"
     ]
    },
    {
     "name": "stdout",
     "output_type": "stream",
     "text": [
      "video  v_PlayingSitar_g07_c05.avi  inferenced done.\n",
      "# of finished videos:  42\n",
      "# of finished directories:  6\n",
      "inferencing video:  v_PlayingSitar_g07_c06.avi  from  PlayingSitar  directory\n"
     ]
    },
    {
     "name": "stderr",
     "output_type": "stream",
     "text": [
      "[2018-07-27 15:51:43,888] [TfPoseEstimator-Video] [DEBUG] initialization mobilenet_thin : /home/MPLab/mplab006/tf_action_recognition/models/graph/mobilenet_thin/graph_opt.pb\n"
     ]
    },
    {
     "name": "stdout",
     "output_type": "stream",
     "text": [
      "video  v_PlayingSitar_g07_c06.avi  inferenced done.\n",
      "# of finished videos:  43\n",
      "# of finished directories:  6\n",
      "inferencing video:  v_PlayingSitar_g07_c07.avi  from  PlayingSitar  directory\n"
     ]
    },
    {
     "name": "stderr",
     "output_type": "stream",
     "text": [
      "[2018-07-27 15:51:44,735] [TfPoseEstimator-Video] [DEBUG] initialization mobilenet_thin : /home/MPLab/mplab006/tf_action_recognition/models/graph/mobilenet_thin/graph_opt.pb\n"
     ]
    },
    {
     "name": "stdout",
     "output_type": "stream",
     "text": [
      "video  v_PlayingSitar_g07_c07.avi  inferenced done.\n",
      "# of finished videos:  44\n",
      "# of finished directories:  6\n",
      "inferencing video:  v_PlayingSitar_g08_c01.avi  from  PlayingSitar  directory\n"
     ]
    },
    {
     "name": "stderr",
     "output_type": "stream",
     "text": [
      "[2018-07-27 15:51:45,638] [TfPoseEstimator-Video] [DEBUG] initialization mobilenet_thin : /home/MPLab/mplab006/tf_action_recognition/models/graph/mobilenet_thin/graph_opt.pb\n"
     ]
    },
    {
     "name": "stdout",
     "output_type": "stream",
     "text": [
      "video  v_PlayingSitar_g08_c01.avi  inferenced done.\n",
      "# of finished videos:  45\n",
      "# of finished directories:  6\n",
      "inferencing video:  v_PlayingSitar_g08_c02.avi  from  PlayingSitar  directory\n"
     ]
    },
    {
     "name": "stderr",
     "output_type": "stream",
     "text": [
      "[2018-07-27 15:51:46,513] [TfPoseEstimator-Video] [DEBUG] initialization mobilenet_thin : /home/MPLab/mplab006/tf_action_recognition/models/graph/mobilenet_thin/graph_opt.pb\n"
     ]
    },
    {
     "name": "stdout",
     "output_type": "stream",
     "text": [
      "video  v_PlayingSitar_g08_c02.avi  inferenced done.\n",
      "# of finished videos:  46\n",
      "# of finished directories:  6\n",
      "inferencing video:  v_PlayingSitar_g08_c03.avi  from  PlayingSitar  directory\n"
     ]
    },
    {
     "name": "stderr",
     "output_type": "stream",
     "text": [
      "[2018-07-27 15:51:47,386] [TfPoseEstimator-Video] [DEBUG] initialization mobilenet_thin : /home/MPLab/mplab006/tf_action_recognition/models/graph/mobilenet_thin/graph_opt.pb\n"
     ]
    },
    {
     "name": "stdout",
     "output_type": "stream",
     "text": [
      "video  v_PlayingSitar_g08_c03.avi  inferenced done.\n",
      "# of finished videos:  47\n",
      "# of finished directories:  6\n",
      "inferencing video:  v_PlayingSitar_g08_c04.avi  from  PlayingSitar  directory\n"
     ]
    },
    {
     "name": "stderr",
     "output_type": "stream",
     "text": [
      "[2018-07-27 15:51:48,295] [TfPoseEstimator-Video] [DEBUG] initialization mobilenet_thin : /home/MPLab/mplab006/tf_action_recognition/models/graph/mobilenet_thin/graph_opt.pb\n"
     ]
    },
    {
     "name": "stdout",
     "output_type": "stream",
     "text": [
      "video  v_PlayingSitar_g08_c04.avi  inferenced done.\n",
      "# of finished videos:  48\n",
      "# of finished directories:  6\n",
      "inferencing video:  v_PlayingSitar_g08_c05.avi  from  PlayingSitar  directory\n"
     ]
    },
    {
     "name": "stderr",
     "output_type": "stream",
     "text": [
      "[2018-07-27 15:51:49,150] [TfPoseEstimator-Video] [DEBUG] initialization mobilenet_thin : /home/MPLab/mplab006/tf_action_recognition/models/graph/mobilenet_thin/graph_opt.pb\n"
     ]
    },
    {
     "name": "stdout",
     "output_type": "stream",
     "text": [
      "video  v_PlayingSitar_g08_c05.avi  inferenced done.\n",
      "# of finished videos:  49\n",
      "# of finished directories:  6\n",
      "inferencing video:  v_PlayingSitar_g08_c06.avi  from  PlayingSitar  directory\n"
     ]
    },
    {
     "name": "stderr",
     "output_type": "stream",
     "text": [
      "[2018-07-27 15:51:50,035] [TfPoseEstimator-Video] [DEBUG] initialization mobilenet_thin : /home/MPLab/mplab006/tf_action_recognition/models/graph/mobilenet_thin/graph_opt.pb\n"
     ]
    },
    {
     "name": "stdout",
     "output_type": "stream",
     "text": [
      "video  v_PlayingSitar_g08_c06.avi  inferenced done.\n",
      "# of finished videos:  50\n",
      "# of finished directories:  6\n",
      "inferencing video:  v_PlayingSitar_g08_c07.avi  from  PlayingSitar  directory\n"
     ]
    },
    {
     "name": "stderr",
     "output_type": "stream",
     "text": [
      "[2018-07-27 15:51:50,935] [TfPoseEstimator-Video] [DEBUG] initialization mobilenet_thin : /home/MPLab/mplab006/tf_action_recognition/models/graph/mobilenet_thin/graph_opt.pb\n"
     ]
    },
    {
     "name": "stdout",
     "output_type": "stream",
     "text": [
      "video  v_PlayingSitar_g08_c07.avi  inferenced done.\n",
      "# of finished videos:  51\n",
      "# of finished directories:  6\n",
      "inferencing video:  v_PlayingSitar_g09_c01.avi  from  PlayingSitar  directory\n"
     ]
    },
    {
     "name": "stderr",
     "output_type": "stream",
     "text": [
      "[2018-07-27 15:51:51,822] [TfPoseEstimator-Video] [DEBUG] initialization mobilenet_thin : /home/MPLab/mplab006/tf_action_recognition/models/graph/mobilenet_thin/graph_opt.pb\n"
     ]
    },
    {
     "name": "stdout",
     "output_type": "stream",
     "text": [
      "video  v_PlayingSitar_g09_c01.avi  inferenced done.\n",
      "# of finished videos:  52\n",
      "# of finished directories:  6\n",
      "inferencing video:  v_PlayingSitar_g09_c02.avi  from  PlayingSitar  directory\n"
     ]
    },
    {
     "name": "stderr",
     "output_type": "stream",
     "text": [
      "[2018-07-27 15:51:52,677] [TfPoseEstimator-Video] [DEBUG] initialization mobilenet_thin : /home/MPLab/mplab006/tf_action_recognition/models/graph/mobilenet_thin/graph_opt.pb\n"
     ]
    },
    {
     "name": "stdout",
     "output_type": "stream",
     "text": [
      "video  v_PlayingSitar_g09_c02.avi  inferenced done.\n",
      "# of finished videos:  53\n",
      "# of finished directories:  6\n",
      "inferencing video:  v_PlayingSitar_g09_c03.avi  from  PlayingSitar  directory\n"
     ]
    },
    {
     "name": "stderr",
     "output_type": "stream",
     "text": [
      "[2018-07-27 15:51:53,541] [TfPoseEstimator-Video] [DEBUG] initialization mobilenet_thin : /home/MPLab/mplab006/tf_action_recognition/models/graph/mobilenet_thin/graph_opt.pb\n"
     ]
    },
    {
     "name": "stdout",
     "output_type": "stream",
     "text": [
      "video  v_PlayingSitar_g09_c03.avi  inferenced done.\n",
      "# of finished videos:  54\n",
      "# of finished directories:  6\n",
      "inferencing video:  v_PlayingSitar_g09_c04.avi  from  PlayingSitar  directory\n"
     ]
    },
    {
     "name": "stderr",
     "output_type": "stream",
     "text": [
      "[2018-07-27 15:51:54,416] [TfPoseEstimator-Video] [DEBUG] initialization mobilenet_thin : /home/MPLab/mplab006/tf_action_recognition/models/graph/mobilenet_thin/graph_opt.pb\n"
     ]
    },
    {
     "name": "stdout",
     "output_type": "stream",
     "text": [
      "video  v_PlayingSitar_g09_c04.avi  inferenced done.\n",
      "# of finished videos:  55\n",
      "# of finished directories:  6\n",
      "inferencing video:  v_PlayingSitar_g09_c05.avi  from  PlayingSitar  directory\n"
     ]
    },
    {
     "name": "stderr",
     "output_type": "stream",
     "text": [
      "[2018-07-27 15:51:55,283] [TfPoseEstimator-Video] [DEBUG] initialization mobilenet_thin : /home/MPLab/mplab006/tf_action_recognition/models/graph/mobilenet_thin/graph_opt.pb\n"
     ]
    },
    {
     "name": "stdout",
     "output_type": "stream",
     "text": [
      "video  v_PlayingSitar_g09_c05.avi  inferenced done.\n",
      "# of finished videos:  56\n",
      "# of finished directories:  6\n",
      "inferencing video:  v_PlayingSitar_g09_c06.avi  from  PlayingSitar  directory\n"
     ]
    },
    {
     "name": "stderr",
     "output_type": "stream",
     "text": [
      "[2018-07-27 15:51:56,162] [TfPoseEstimator-Video] [DEBUG] initialization mobilenet_thin : /home/MPLab/mplab006/tf_action_recognition/models/graph/mobilenet_thin/graph_opt.pb\n"
     ]
    },
    {
     "name": "stdout",
     "output_type": "stream",
     "text": [
      "video  v_PlayingSitar_g09_c06.avi  inferenced done.\n",
      "# of finished videos:  57\n",
      "# of finished directories:  6\n",
      "inferencing video:  v_PlayingSitar_g09_c07.avi  from  PlayingSitar  directory\n"
     ]
    },
    {
     "name": "stderr",
     "output_type": "stream",
     "text": [
      "[2018-07-27 15:51:57,046] [TfPoseEstimator-Video] [DEBUG] initialization mobilenet_thin : /home/MPLab/mplab006/tf_action_recognition/models/graph/mobilenet_thin/graph_opt.pb\n"
     ]
    },
    {
     "name": "stdout",
     "output_type": "stream",
     "text": [
      "video  v_PlayingSitar_g09_c07.avi  inferenced done.\n",
      "# of finished videos:  58\n",
      "# of finished directories:  6\n",
      "inferencing video:  v_PlayingSitar_g10_c01.avi  from  PlayingSitar  directory\n"
     ]
    },
    {
     "name": "stderr",
     "output_type": "stream",
     "text": [
      "[2018-07-27 15:51:57,945] [TfPoseEstimator-Video] [DEBUG] initialization mobilenet_thin : /home/MPLab/mplab006/tf_action_recognition/models/graph/mobilenet_thin/graph_opt.pb\n"
     ]
    },
    {
     "name": "stdout",
     "output_type": "stream",
     "text": [
      "video  v_PlayingSitar_g10_c01.avi  inferenced done.\n",
      "# of finished videos:  59\n",
      "# of finished directories:  6\n",
      "inferencing video:  v_PlayingSitar_g10_c02.avi  from  PlayingSitar  directory\n"
     ]
    },
    {
     "name": "stderr",
     "output_type": "stream",
     "text": [
      "[2018-07-27 15:51:58,853] [TfPoseEstimator-Video] [DEBUG] initialization mobilenet_thin : /home/MPLab/mplab006/tf_action_recognition/models/graph/mobilenet_thin/graph_opt.pb\n"
     ]
    },
    {
     "name": "stdout",
     "output_type": "stream",
     "text": [
      "video  v_PlayingSitar_g10_c02.avi  inferenced done.\n",
      "# of finished videos:  60\n",
      "# of finished directories:  6\n",
      "inferencing video:  v_PlayingSitar_g10_c03.avi  from  PlayingSitar  directory\n"
     ]
    },
    {
     "name": "stderr",
     "output_type": "stream",
     "text": [
      "[2018-07-27 15:51:59,689] [TfPoseEstimator-Video] [DEBUG] initialization mobilenet_thin : /home/MPLab/mplab006/tf_action_recognition/models/graph/mobilenet_thin/graph_opt.pb\n"
     ]
    },
    {
     "name": "stdout",
     "output_type": "stream",
     "text": [
      "video  v_PlayingSitar_g10_c03.avi  inferenced done.\n",
      "# of finished videos:  61\n",
      "# of finished directories:  6\n",
      "inferencing video:  v_PlayingSitar_g10_c04.avi  from  PlayingSitar  directory\n"
     ]
    },
    {
     "name": "stderr",
     "output_type": "stream",
     "text": [
      "[2018-07-27 15:52:00,588] [TfPoseEstimator-Video] [DEBUG] initialization mobilenet_thin : /home/MPLab/mplab006/tf_action_recognition/models/graph/mobilenet_thin/graph_opt.pb\n"
     ]
    },
    {
     "name": "stdout",
     "output_type": "stream",
     "text": [
      "video  v_PlayingSitar_g10_c04.avi  inferenced done.\n",
      "# of finished videos:  62\n",
      "# of finished directories:  6\n",
      "inferencing video:  v_PlayingSitar_g10_c05.avi  from  PlayingSitar  directory\n"
     ]
    },
    {
     "name": "stderr",
     "output_type": "stream",
     "text": [
      "[2018-07-27 15:52:01,426] [TfPoseEstimator-Video] [DEBUG] initialization mobilenet_thin : /home/MPLab/mplab006/tf_action_recognition/models/graph/mobilenet_thin/graph_opt.pb\n"
     ]
    },
    {
     "name": "stdout",
     "output_type": "stream",
     "text": [
      "video  v_PlayingSitar_g10_c05.avi  inferenced done.\n",
      "# of finished videos:  63\n",
      "# of finished directories:  6\n",
      "inferencing video:  v_PlayingSitar_g10_c06.avi  from  PlayingSitar  directory\n"
     ]
    },
    {
     "name": "stderr",
     "output_type": "stream",
     "text": [
      "[2018-07-27 15:52:02,249] [TfPoseEstimator-Video] [DEBUG] initialization mobilenet_thin : /home/MPLab/mplab006/tf_action_recognition/models/graph/mobilenet_thin/graph_opt.pb\n"
     ]
    },
    {
     "name": "stdout",
     "output_type": "stream",
     "text": [
      "video  v_PlayingSitar_g10_c06.avi  inferenced done.\n",
      "# of finished videos:  64\n",
      "# of finished directories:  6\n",
      "inferencing video:  v_PlayingSitar_g10_c07.avi  from  PlayingSitar  directory\n"
     ]
    },
    {
     "name": "stderr",
     "output_type": "stream",
     "text": [
      "[2018-07-27 15:52:03,146] [TfPoseEstimator-Video] [DEBUG] initialization mobilenet_thin : /home/MPLab/mplab006/tf_action_recognition/models/graph/mobilenet_thin/graph_opt.pb\n"
     ]
    },
    {
     "name": "stdout",
     "output_type": "stream",
     "text": [
      "video  v_PlayingSitar_g10_c07.avi  inferenced done.\n",
      "# of finished videos:  65\n",
      "# of finished directories:  6\n",
      "inferencing video:  v_PlayingSitar_g11_c01.avi  from  PlayingSitar  directory\n"
     ]
    },
    {
     "name": "stderr",
     "output_type": "stream",
     "text": [
      "[2018-07-27 15:52:04,027] [TfPoseEstimator-Video] [DEBUG] initialization mobilenet_thin : /home/MPLab/mplab006/tf_action_recognition/models/graph/mobilenet_thin/graph_opt.pb\n"
     ]
    },
    {
     "name": "stdout",
     "output_type": "stream",
     "text": [
      "video  v_PlayingSitar_g11_c01.avi  inferenced done.\n",
      "# of finished videos:  66\n",
      "# of finished directories:  6\n",
      "inferencing video:  v_PlayingSitar_g11_c02.avi  from  PlayingSitar  directory\n"
     ]
    },
    {
     "name": "stderr",
     "output_type": "stream",
     "text": [
      "[2018-07-27 15:52:04,864] [TfPoseEstimator-Video] [DEBUG] initialization mobilenet_thin : /home/MPLab/mplab006/tf_action_recognition/models/graph/mobilenet_thin/graph_opt.pb\n"
     ]
    },
    {
     "name": "stdout",
     "output_type": "stream",
     "text": [
      "video  v_PlayingSitar_g11_c02.avi  inferenced done.\n",
      "# of finished videos:  67\n",
      "# of finished directories:  6\n",
      "inferencing video:  v_PlayingSitar_g11_c03.avi  from  PlayingSitar  directory\n"
     ]
    },
    {
     "name": "stderr",
     "output_type": "stream",
     "text": [
      "[2018-07-27 15:52:05,740] [TfPoseEstimator-Video] [DEBUG] initialization mobilenet_thin : /home/MPLab/mplab006/tf_action_recognition/models/graph/mobilenet_thin/graph_opt.pb\n"
     ]
    },
    {
     "name": "stdout",
     "output_type": "stream",
     "text": [
      "video  v_PlayingSitar_g11_c03.avi  inferenced done.\n",
      "# of finished videos:  68\n",
      "# of finished directories:  6\n",
      "inferencing video:  v_PlayingSitar_g11_c04.avi  from  PlayingSitar  directory\n"
     ]
    },
    {
     "name": "stderr",
     "output_type": "stream",
     "text": [
      "[2018-07-27 15:52:06,632] [TfPoseEstimator-Video] [DEBUG] initialization mobilenet_thin : /home/MPLab/mplab006/tf_action_recognition/models/graph/mobilenet_thin/graph_opt.pb\n"
     ]
    },
    {
     "name": "stdout",
     "output_type": "stream",
     "text": [
      "video  v_PlayingSitar_g11_c04.avi  inferenced done.\n",
      "# of finished videos:  69\n",
      "# of finished directories:  6\n",
      "inferencing video:  v_PlayingSitar_g11_c05.avi  from  PlayingSitar  directory\n"
     ]
    },
    {
     "name": "stderr",
     "output_type": "stream",
     "text": [
      "[2018-07-27 15:52:07,485] [TfPoseEstimator-Video] [DEBUG] initialization mobilenet_thin : /home/MPLab/mplab006/tf_action_recognition/models/graph/mobilenet_thin/graph_opt.pb\n"
     ]
    },
    {
     "name": "stdout",
     "output_type": "stream",
     "text": [
      "video  v_PlayingSitar_g11_c05.avi  inferenced done.\n",
      "# of finished videos:  70\n",
      "# of finished directories:  6\n",
      "inferencing video:  v_PlayingSitar_g11_c06.avi  from  PlayingSitar  directory\n"
     ]
    },
    {
     "name": "stderr",
     "output_type": "stream",
     "text": [
      "[2018-07-27 15:52:08,335] [TfPoseEstimator-Video] [DEBUG] initialization mobilenet_thin : /home/MPLab/mplab006/tf_action_recognition/models/graph/mobilenet_thin/graph_opt.pb\n"
     ]
    },
    {
     "name": "stdout",
     "output_type": "stream",
     "text": [
      "video  v_PlayingSitar_g11_c06.avi  inferenced done.\n",
      "# of finished videos:  71\n",
      "# of finished directories:  6\n",
      "inferencing video:  v_PlayingSitar_g11_c07.avi  from  PlayingSitar  directory\n"
     ]
    },
    {
     "name": "stderr",
     "output_type": "stream",
     "text": [
      "[2018-07-27 15:52:09,182] [TfPoseEstimator-Video] [DEBUG] initialization mobilenet_thin : /home/MPLab/mplab006/tf_action_recognition/models/graph/mobilenet_thin/graph_opt.pb\n"
     ]
    },
    {
     "name": "stdout",
     "output_type": "stream",
     "text": [
      "video  v_PlayingSitar_g11_c07.avi  inferenced done.\n",
      "# of finished videos:  72\n",
      "# of finished directories:  6\n",
      "inferencing video:  v_PlayingSitar_g12_c01.avi  from  PlayingSitar  directory\n"
     ]
    },
    {
     "name": "stderr",
     "output_type": "stream",
     "text": [
      "[2018-07-27 15:52:10,055] [TfPoseEstimator-Video] [DEBUG] initialization mobilenet_thin : /home/MPLab/mplab006/tf_action_recognition/models/graph/mobilenet_thin/graph_opt.pb\n"
     ]
    },
    {
     "name": "stdout",
     "output_type": "stream",
     "text": [
      "video  v_PlayingSitar_g12_c01.avi  inferenced done.\n",
      "# of finished videos:  73\n",
      "# of finished directories:  6\n",
      "inferencing video:  v_PlayingSitar_g12_c02.avi  from  PlayingSitar  directory\n"
     ]
    },
    {
     "name": "stderr",
     "output_type": "stream",
     "text": [
      "[2018-07-27 15:52:10,970] [TfPoseEstimator-Video] [DEBUG] initialization mobilenet_thin : /home/MPLab/mplab006/tf_action_recognition/models/graph/mobilenet_thin/graph_opt.pb\n"
     ]
    },
    {
     "name": "stdout",
     "output_type": "stream",
     "text": [
      "video  v_PlayingSitar_g12_c02.avi  inferenced done.\n",
      "# of finished videos:  74\n",
      "# of finished directories:  6\n",
      "inferencing video:  v_PlayingSitar_g12_c03.avi  from  PlayingSitar  directory\n"
     ]
    },
    {
     "name": "stderr",
     "output_type": "stream",
     "text": [
      "[2018-07-27 15:52:11,860] [TfPoseEstimator-Video] [DEBUG] initialization mobilenet_thin : /home/MPLab/mplab006/tf_action_recognition/models/graph/mobilenet_thin/graph_opt.pb\n"
     ]
    },
    {
     "name": "stdout",
     "output_type": "stream",
     "text": [
      "video  v_PlayingSitar_g12_c03.avi  inferenced done.\n",
      "# of finished videos:  75\n",
      "# of finished directories:  6\n",
      "inferencing video:  v_PlayingSitar_g12_c04.avi  from  PlayingSitar  directory\n"
     ]
    },
    {
     "name": "stderr",
     "output_type": "stream",
     "text": [
      "[2018-07-27 15:52:12,722] [TfPoseEstimator-Video] [DEBUG] initialization mobilenet_thin : /home/MPLab/mplab006/tf_action_recognition/models/graph/mobilenet_thin/graph_opt.pb\n"
     ]
    },
    {
     "name": "stdout",
     "output_type": "stream",
     "text": [
      "video  v_PlayingSitar_g12_c04.avi  inferenced done.\n",
      "# of finished videos:  76\n",
      "# of finished directories:  6\n",
      "inferencing video:  v_PlayingSitar_g13_c01.avi  from  PlayingSitar  directory\n"
     ]
    },
    {
     "name": "stderr",
     "output_type": "stream",
     "text": [
      "[2018-07-27 15:52:13,613] [TfPoseEstimator-Video] [DEBUG] initialization mobilenet_thin : /home/MPLab/mplab006/tf_action_recognition/models/graph/mobilenet_thin/graph_opt.pb\n"
     ]
    },
    {
     "name": "stdout",
     "output_type": "stream",
     "text": [
      "video  v_PlayingSitar_g13_c01.avi  inferenced done.\n",
      "# of finished videos:  77\n",
      "# of finished directories:  6\n",
      "inferencing video:  v_PlayingSitar_g13_c02.avi  from  PlayingSitar  directory\n"
     ]
    },
    {
     "name": "stderr",
     "output_type": "stream",
     "text": [
      "[2018-07-27 15:52:14,497] [TfPoseEstimator-Video] [DEBUG] initialization mobilenet_thin : /home/MPLab/mplab006/tf_action_recognition/models/graph/mobilenet_thin/graph_opt.pb\n"
     ]
    },
    {
     "name": "stdout",
     "output_type": "stream",
     "text": [
      "video  v_PlayingSitar_g13_c02.avi  inferenced done.\n",
      "# of finished videos:  78\n",
      "# of finished directories:  6\n",
      "inferencing video:  v_PlayingSitar_g13_c03.avi  from  PlayingSitar  directory\n"
     ]
    },
    {
     "name": "stderr",
     "output_type": "stream",
     "text": [
      "[2018-07-27 15:52:15,383] [TfPoseEstimator-Video] [DEBUG] initialization mobilenet_thin : /home/MPLab/mplab006/tf_action_recognition/models/graph/mobilenet_thin/graph_opt.pb\n"
     ]
    },
    {
     "name": "stdout",
     "output_type": "stream",
     "text": [
      "video  v_PlayingSitar_g13_c03.avi  inferenced done.\n",
      "# of finished videos:  79\n",
      "# of finished directories:  6\n",
      "inferencing video:  v_PlayingSitar_g13_c04.avi  from  PlayingSitar  directory\n"
     ]
    },
    {
     "name": "stderr",
     "output_type": "stream",
     "text": [
      "[2018-07-27 15:52:16,225] [TfPoseEstimator-Video] [DEBUG] initialization mobilenet_thin : /home/MPLab/mplab006/tf_action_recognition/models/graph/mobilenet_thin/graph_opt.pb\n"
     ]
    },
    {
     "name": "stdout",
     "output_type": "stream",
     "text": [
      "video  v_PlayingSitar_g13_c04.avi  inferenced done.\n",
      "# of finished videos:  80\n",
      "# of finished directories:  6\n",
      "inferencing video:  v_PlayingSitar_g14_c01.avi  from  PlayingSitar  directory\n"
     ]
    },
    {
     "name": "stderr",
     "output_type": "stream",
     "text": [
      "[2018-07-27 15:52:17,118] [TfPoseEstimator-Video] [DEBUG] initialization mobilenet_thin : /home/MPLab/mplab006/tf_action_recognition/models/graph/mobilenet_thin/graph_opt.pb\n"
     ]
    },
    {
     "name": "stdout",
     "output_type": "stream",
     "text": [
      "video  v_PlayingSitar_g14_c01.avi  inferenced done.\n",
      "# of finished videos:  81\n",
      "# of finished directories:  6\n",
      "inferencing video:  v_PlayingSitar_g14_c02.avi  from  PlayingSitar  directory\n"
     ]
    },
    {
     "name": "stderr",
     "output_type": "stream",
     "text": [
      "[2018-07-27 15:52:17,983] [TfPoseEstimator-Video] [DEBUG] initialization mobilenet_thin : /home/MPLab/mplab006/tf_action_recognition/models/graph/mobilenet_thin/graph_opt.pb\n"
     ]
    },
    {
     "name": "stdout",
     "output_type": "stream",
     "text": [
      "video  v_PlayingSitar_g14_c02.avi  inferenced done.\n",
      "# of finished videos:  82\n",
      "# of finished directories:  6\n",
      "inferencing video:  v_PlayingSitar_g14_c03.avi  from  PlayingSitar  directory\n"
     ]
    },
    {
     "name": "stderr",
     "output_type": "stream",
     "text": [
      "[2018-07-27 15:52:18,817] [TfPoseEstimator-Video] [DEBUG] initialization mobilenet_thin : /home/MPLab/mplab006/tf_action_recognition/models/graph/mobilenet_thin/graph_opt.pb\n"
     ]
    },
    {
     "name": "stdout",
     "output_type": "stream",
     "text": [
      "video  v_PlayingSitar_g14_c03.avi  inferenced done.\n",
      "# of finished videos:  83\n",
      "# of finished directories:  6\n",
      "inferencing video:  v_PlayingSitar_g14_c04.avi  from  PlayingSitar  directory\n"
     ]
    },
    {
     "name": "stderr",
     "output_type": "stream",
     "text": [
      "[2018-07-27 15:52:19,718] [TfPoseEstimator-Video] [DEBUG] initialization mobilenet_thin : /home/MPLab/mplab006/tf_action_recognition/models/graph/mobilenet_thin/graph_opt.pb\n"
     ]
    },
    {
     "name": "stdout",
     "output_type": "stream",
     "text": [
      "video  v_PlayingSitar_g14_c04.avi  inferenced done.\n",
      "# of finished videos:  84\n",
      "# of finished directories:  6\n",
      "inferencing video:  v_PlayingSitar_g14_c05.avi  from  PlayingSitar  directory\n"
     ]
    },
    {
     "name": "stderr",
     "output_type": "stream",
     "text": [
      "[2018-07-27 15:52:20,578] [TfPoseEstimator-Video] [DEBUG] initialization mobilenet_thin : /home/MPLab/mplab006/tf_action_recognition/models/graph/mobilenet_thin/graph_opt.pb\n"
     ]
    },
    {
     "name": "stdout",
     "output_type": "stream",
     "text": [
      "video  v_PlayingSitar_g14_c05.avi  inferenced done.\n",
      "# of finished videos:  85\n",
      "# of finished directories:  6\n",
      "inferencing video:  v_PlayingSitar_g14_c06.avi  from  PlayingSitar  directory\n"
     ]
    },
    {
     "name": "stderr",
     "output_type": "stream",
     "text": [
      "[2018-07-27 15:52:21,446] [TfPoseEstimator-Video] [DEBUG] initialization mobilenet_thin : /home/MPLab/mplab006/tf_action_recognition/models/graph/mobilenet_thin/graph_opt.pb\n"
     ]
    },
    {
     "name": "stdout",
     "output_type": "stream",
     "text": [
      "video  v_PlayingSitar_g14_c06.avi  inferenced done.\n",
      "# of finished videos:  86\n",
      "# of finished directories:  6\n",
      "inferencing video:  v_PlayingSitar_g14_c07.avi  from  PlayingSitar  directory\n"
     ]
    },
    {
     "name": "stderr",
     "output_type": "stream",
     "text": [
      "[2018-07-27 15:52:22,324] [TfPoseEstimator-Video] [DEBUG] initialization mobilenet_thin : /home/MPLab/mplab006/tf_action_recognition/models/graph/mobilenet_thin/graph_opt.pb\n"
     ]
    },
    {
     "name": "stdout",
     "output_type": "stream",
     "text": [
      "video  v_PlayingSitar_g14_c07.avi  inferenced done.\n",
      "# of finished videos:  87\n",
      "# of finished directories:  6\n",
      "inferencing video:  v_PlayingSitar_g15_c01.avi  from  PlayingSitar  directory\n"
     ]
    },
    {
     "name": "stderr",
     "output_type": "stream",
     "text": [
      "[2018-07-27 15:52:23,237] [TfPoseEstimator-Video] [DEBUG] initialization mobilenet_thin : /home/MPLab/mplab006/tf_action_recognition/models/graph/mobilenet_thin/graph_opt.pb\n"
     ]
    },
    {
     "name": "stdout",
     "output_type": "stream",
     "text": [
      "video  v_PlayingSitar_g15_c01.avi  inferenced done.\n",
      "# of finished videos:  88\n",
      "# of finished directories:  6\n",
      "inferencing video:  v_PlayingSitar_g15_c02.avi  from  PlayingSitar  directory\n"
     ]
    },
    {
     "name": "stderr",
     "output_type": "stream",
     "text": [
      "[2018-07-27 15:52:24,125] [TfPoseEstimator-Video] [DEBUG] initialization mobilenet_thin : /home/MPLab/mplab006/tf_action_recognition/models/graph/mobilenet_thin/graph_opt.pb\n"
     ]
    },
    {
     "name": "stdout",
     "output_type": "stream",
     "text": [
      "video  v_PlayingSitar_g15_c02.avi  inferenced done.\n",
      "# of finished videos:  89\n",
      "# of finished directories:  6\n",
      "inferencing video:  v_PlayingSitar_g15_c03.avi  from  PlayingSitar  directory\n"
     ]
    },
    {
     "name": "stderr",
     "output_type": "stream",
     "text": [
      "[2018-07-27 15:52:25,023] [TfPoseEstimator-Video] [DEBUG] initialization mobilenet_thin : /home/MPLab/mplab006/tf_action_recognition/models/graph/mobilenet_thin/graph_opt.pb\n"
     ]
    },
    {
     "name": "stdout",
     "output_type": "stream",
     "text": [
      "video  v_PlayingSitar_g15_c03.avi  inferenced done.\n",
      "# of finished videos:  90\n",
      "# of finished directories:  6\n",
      "inferencing video:  v_PlayingSitar_g15_c04.avi  from  PlayingSitar  directory\n"
     ]
    },
    {
     "name": "stderr",
     "output_type": "stream",
     "text": [
      "[2018-07-27 15:52:25,889] [TfPoseEstimator-Video] [DEBUG] initialization mobilenet_thin : /home/MPLab/mplab006/tf_action_recognition/models/graph/mobilenet_thin/graph_opt.pb\n"
     ]
    },
    {
     "name": "stdout",
     "output_type": "stream",
     "text": [
      "video  v_PlayingSitar_g15_c04.avi  inferenced done.\n",
      "# of finished videos:  91\n",
      "# of finished directories:  6\n",
      "inferencing video:  v_PlayingSitar_g16_c01.avi  from  PlayingSitar  directory\n"
     ]
    },
    {
     "name": "stderr",
     "output_type": "stream",
     "text": [
      "[2018-07-27 15:52:26,770] [TfPoseEstimator-Video] [DEBUG] initialization mobilenet_thin : /home/MPLab/mplab006/tf_action_recognition/models/graph/mobilenet_thin/graph_opt.pb\n"
     ]
    },
    {
     "name": "stdout",
     "output_type": "stream",
     "text": [
      "video  v_PlayingSitar_g16_c01.avi  inferenced done.\n",
      "# of finished videos:  92\n",
      "# of finished directories:  6\n",
      "inferencing video:  v_PlayingSitar_g16_c02.avi  from  PlayingSitar  directory\n"
     ]
    },
    {
     "name": "stderr",
     "output_type": "stream",
     "text": [
      "[2018-07-27 15:52:27,686] [TfPoseEstimator-Video] [DEBUG] initialization mobilenet_thin : /home/MPLab/mplab006/tf_action_recognition/models/graph/mobilenet_thin/graph_opt.pb\n"
     ]
    },
    {
     "name": "stdout",
     "output_type": "stream",
     "text": [
      "video  v_PlayingSitar_g16_c02.avi  inferenced done.\n",
      "# of finished videos:  93\n",
      "# of finished directories:  6\n",
      "inferencing video:  v_PlayingSitar_g16_c03.avi  from  PlayingSitar  directory\n"
     ]
    },
    {
     "name": "stderr",
     "output_type": "stream",
     "text": [
      "[2018-07-27 15:52:28,593] [TfPoseEstimator-Video] [DEBUG] initialization mobilenet_thin : /home/MPLab/mplab006/tf_action_recognition/models/graph/mobilenet_thin/graph_opt.pb\n"
     ]
    },
    {
     "name": "stdout",
     "output_type": "stream",
     "text": [
      "video  v_PlayingSitar_g16_c03.avi  inferenced done.\n",
      "# of finished videos:  94\n",
      "# of finished directories:  6\n",
      "inferencing video:  v_PlayingSitar_g16_c04.avi  from  PlayingSitar  directory\n"
     ]
    },
    {
     "name": "stderr",
     "output_type": "stream",
     "text": [
      "[2018-07-27 15:52:29,520] [TfPoseEstimator-Video] [DEBUG] initialization mobilenet_thin : /home/MPLab/mplab006/tf_action_recognition/models/graph/mobilenet_thin/graph_opt.pb\n"
     ]
    },
    {
     "name": "stdout",
     "output_type": "stream",
     "text": [
      "video  v_PlayingSitar_g16_c04.avi  inferenced done.\n",
      "# of finished videos:  95\n",
      "# of finished directories:  6\n",
      "inferencing video:  v_PlayingSitar_g16_c05.avi  from  PlayingSitar  directory\n"
     ]
    },
    {
     "name": "stderr",
     "output_type": "stream",
     "text": [
      "[2018-07-27 15:52:30,411] [TfPoseEstimator-Video] [DEBUG] initialization mobilenet_thin : /home/MPLab/mplab006/tf_action_recognition/models/graph/mobilenet_thin/graph_opt.pb\n"
     ]
    },
    {
     "name": "stdout",
     "output_type": "stream",
     "text": [
      "video  v_PlayingSitar_g16_c05.avi  inferenced done.\n",
      "# of finished videos:  96\n",
      "# of finished directories:  6\n",
      "inferencing video:  v_PlayingSitar_g16_c06.avi  from  PlayingSitar  directory\n"
     ]
    },
    {
     "name": "stderr",
     "output_type": "stream",
     "text": [
      "[2018-07-27 15:52:31,498] [TfPoseEstimator-Video] [DEBUG] initialization mobilenet_thin : /home/MPLab/mplab006/tf_action_recognition/models/graph/mobilenet_thin/graph_opt.pb\n"
     ]
    },
    {
     "name": "stdout",
     "output_type": "stream",
     "text": [
      "video  v_PlayingSitar_g16_c06.avi  inferenced done.\n",
      "# of finished videos:  97\n",
      "# of finished directories:  6\n",
      "inferencing video:  v_PlayingSitar_g16_c07.avi  from  PlayingSitar  directory\n"
     ]
    },
    {
     "name": "stderr",
     "output_type": "stream",
     "text": [
      "[2018-07-27 15:52:32,634] [TfPoseEstimator-Video] [DEBUG] initialization mobilenet_thin : /home/MPLab/mplab006/tf_action_recognition/models/graph/mobilenet_thin/graph_opt.pb\n"
     ]
    },
    {
     "name": "stdout",
     "output_type": "stream",
     "text": [
      "video  v_PlayingSitar_g16_c07.avi  inferenced done.\n",
      "# of finished videos:  98\n",
      "# of finished directories:  6\n",
      "inferencing video:  v_PlayingSitar_g17_c01.avi  from  PlayingSitar  directory\n"
     ]
    },
    {
     "name": "stderr",
     "output_type": "stream",
     "text": [
      "[2018-07-27 15:52:33,786] [TfPoseEstimator-Video] [DEBUG] initialization mobilenet_thin : /home/MPLab/mplab006/tf_action_recognition/models/graph/mobilenet_thin/graph_opt.pb\n"
     ]
    },
    {
     "name": "stdout",
     "output_type": "stream",
     "text": [
      "video  v_PlayingSitar_g17_c01.avi  inferenced done.\n",
      "# of finished videos:  99\n",
      "# of finished directories:  6\n",
      "inferencing video:  v_PlayingSitar_g17_c02.avi  from  PlayingSitar  directory\n"
     ]
    },
    {
     "name": "stderr",
     "output_type": "stream",
     "text": [
      "[2018-07-27 15:52:34,772] [TfPoseEstimator-Video] [DEBUG] initialization mobilenet_thin : /home/MPLab/mplab006/tf_action_recognition/models/graph/mobilenet_thin/graph_opt.pb\n"
     ]
    },
    {
     "name": "stdout",
     "output_type": "stream",
     "text": [
      "video  v_PlayingSitar_g17_c02.avi  inferenced done.\n",
      "# of finished videos:  100\n",
      "# of finished directories:  6\n",
      "inferencing video:  v_PlayingSitar_g17_c03.avi  from  PlayingSitar  directory\n"
     ]
    },
    {
     "name": "stderr",
     "output_type": "stream",
     "text": [
      "[2018-07-27 15:52:35,665] [TfPoseEstimator-Video] [DEBUG] initialization mobilenet_thin : /home/MPLab/mplab006/tf_action_recognition/models/graph/mobilenet_thin/graph_opt.pb\n"
     ]
    },
    {
     "name": "stdout",
     "output_type": "stream",
     "text": [
      "video  v_PlayingSitar_g17_c03.avi  inferenced done.\n",
      "# of finished videos:  101\n",
      "# of finished directories:  6\n",
      "inferencing video:  v_PlayingSitar_g17_c04.avi  from  PlayingSitar  directory\n"
     ]
    },
    {
     "name": "stderr",
     "output_type": "stream",
     "text": [
      "[2018-07-27 15:52:36,558] [TfPoseEstimator-Video] [DEBUG] initialization mobilenet_thin : /home/MPLab/mplab006/tf_action_recognition/models/graph/mobilenet_thin/graph_opt.pb\n"
     ]
    },
    {
     "name": "stdout",
     "output_type": "stream",
     "text": [
      "video  v_PlayingSitar_g17_c04.avi  inferenced done.\n",
      "# of finished videos:  102\n",
      "# of finished directories:  6\n",
      "inferencing video:  v_PlayingSitar_g17_c05.avi  from  PlayingSitar  directory\n"
     ]
    },
    {
     "name": "stderr",
     "output_type": "stream",
     "text": [
      "[2018-07-27 15:52:37,433] [TfPoseEstimator-Video] [DEBUG] initialization mobilenet_thin : /home/MPLab/mplab006/tf_action_recognition/models/graph/mobilenet_thin/graph_opt.pb\n"
     ]
    },
    {
     "name": "stdout",
     "output_type": "stream",
     "text": [
      "video  v_PlayingSitar_g17_c05.avi  inferenced done.\n",
      "# of finished videos:  103\n",
      "# of finished directories:  6\n",
      "inferencing video:  v_PlayingSitar_g17_c06.avi  from  PlayingSitar  directory\n"
     ]
    },
    {
     "name": "stderr",
     "output_type": "stream",
     "text": [
      "[2018-07-27 15:52:38,361] [TfPoseEstimator-Video] [DEBUG] initialization mobilenet_thin : /home/MPLab/mplab006/tf_action_recognition/models/graph/mobilenet_thin/graph_opt.pb\n"
     ]
    },
    {
     "name": "stdout",
     "output_type": "stream",
     "text": [
      "video  v_PlayingSitar_g17_c06.avi  inferenced done.\n",
      "# of finished videos:  104\n",
      "# of finished directories:  6\n",
      "inferencing video:  v_PlayingSitar_g17_c07.avi  from  PlayingSitar  directory\n"
     ]
    },
    {
     "name": "stderr",
     "output_type": "stream",
     "text": [
      "[2018-07-27 15:52:39,276] [TfPoseEstimator-Video] [DEBUG] initialization mobilenet_thin : /home/MPLab/mplab006/tf_action_recognition/models/graph/mobilenet_thin/graph_opt.pb\n"
     ]
    },
    {
     "name": "stdout",
     "output_type": "stream",
     "text": [
      "video  v_PlayingSitar_g17_c07.avi  inferenced done.\n",
      "# of finished videos:  105\n",
      "# of finished directories:  6\n",
      "inferencing video:  v_PlayingSitar_g18_c01.avi  from  PlayingSitar  directory\n"
     ]
    },
    {
     "name": "stderr",
     "output_type": "stream",
     "text": [
      "[2018-07-27 15:52:40,182] [TfPoseEstimator-Video] [DEBUG] initialization mobilenet_thin : /home/MPLab/mplab006/tf_action_recognition/models/graph/mobilenet_thin/graph_opt.pb\n"
     ]
    },
    {
     "name": "stdout",
     "output_type": "stream",
     "text": [
      "video  v_PlayingSitar_g18_c01.avi  inferenced done.\n",
      "# of finished videos:  106\n",
      "# of finished directories:  6\n",
      "inferencing video:  v_PlayingSitar_g18_c02.avi  from  PlayingSitar  directory\n"
     ]
    },
    {
     "name": "stderr",
     "output_type": "stream",
     "text": [
      "[2018-07-27 15:52:41,033] [TfPoseEstimator-Video] [DEBUG] initialization mobilenet_thin : /home/MPLab/mplab006/tf_action_recognition/models/graph/mobilenet_thin/graph_opt.pb\n"
     ]
    },
    {
     "name": "stdout",
     "output_type": "stream",
     "text": [
      "video  v_PlayingSitar_g18_c02.avi  inferenced done.\n",
      "# of finished videos:  107\n",
      "# of finished directories:  6\n",
      "inferencing video:  v_PlayingSitar_g18_c03.avi  from  PlayingSitar  directory\n"
     ]
    },
    {
     "name": "stderr",
     "output_type": "stream",
     "text": [
      "[2018-07-27 15:52:41,865] [TfPoseEstimator-Video] [DEBUG] initialization mobilenet_thin : /home/MPLab/mplab006/tf_action_recognition/models/graph/mobilenet_thin/graph_opt.pb\n"
     ]
    },
    {
     "name": "stdout",
     "output_type": "stream",
     "text": [
      "video  v_PlayingSitar_g18_c03.avi  inferenced done.\n",
      "# of finished videos:  108\n",
      "# of finished directories:  6\n",
      "inferencing video:  v_PlayingSitar_g18_c04.avi  from  PlayingSitar  directory\n"
     ]
    },
    {
     "name": "stderr",
     "output_type": "stream",
     "text": [
      "[2018-07-27 15:52:42,760] [TfPoseEstimator-Video] [DEBUG] initialization mobilenet_thin : /home/MPLab/mplab006/tf_action_recognition/models/graph/mobilenet_thin/graph_opt.pb\n"
     ]
    },
    {
     "name": "stdout",
     "output_type": "stream",
     "text": [
      "video  v_PlayingSitar_g18_c04.avi  inferenced done.\n",
      "# of finished videos:  109\n",
      "# of finished directories:  6\n",
      "inferencing video:  v_PlayingSitar_g18_c05.avi  from  PlayingSitar  directory\n"
     ]
    },
    {
     "name": "stderr",
     "output_type": "stream",
     "text": [
      "[2018-07-27 15:52:43,650] [TfPoseEstimator-Video] [DEBUG] initialization mobilenet_thin : /home/MPLab/mplab006/tf_action_recognition/models/graph/mobilenet_thin/graph_opt.pb\n"
     ]
    },
    {
     "name": "stdout",
     "output_type": "stream",
     "text": [
      "video  v_PlayingSitar_g18_c05.avi  inferenced done.\n",
      "# of finished videos:  110\n",
      "# of finished directories:  6\n",
      "inferencing video:  v_PlayingSitar_g18_c06.avi  from  PlayingSitar  directory\n"
     ]
    },
    {
     "name": "stderr",
     "output_type": "stream",
     "text": [
      "[2018-07-27 15:52:44,503] [TfPoseEstimator-Video] [DEBUG] initialization mobilenet_thin : /home/MPLab/mplab006/tf_action_recognition/models/graph/mobilenet_thin/graph_opt.pb\n"
     ]
    },
    {
     "name": "stdout",
     "output_type": "stream",
     "text": [
      "video  v_PlayingSitar_g18_c06.avi  inferenced done.\n",
      "# of finished videos:  111\n",
      "# of finished directories:  6\n",
      "inferencing video:  v_PlayingSitar_g18_c07.avi  from  PlayingSitar  directory\n"
     ]
    },
    {
     "name": "stderr",
     "output_type": "stream",
     "text": [
      "[2018-07-27 15:52:45,343] [TfPoseEstimator-Video] [DEBUG] initialization mobilenet_thin : /home/MPLab/mplab006/tf_action_recognition/models/graph/mobilenet_thin/graph_opt.pb\n"
     ]
    },
    {
     "name": "stdout",
     "output_type": "stream",
     "text": [
      "video  v_PlayingSitar_g18_c07.avi  inferenced done.\n",
      "# of finished videos:  112\n",
      "# of finished directories:  6\n",
      "inferencing video:  v_PlayingSitar_g19_c01.avi  from  PlayingSitar  directory\n"
     ]
    },
    {
     "name": "stderr",
     "output_type": "stream",
     "text": [
      "[2018-07-27 15:52:46,249] [TfPoseEstimator-Video] [DEBUG] initialization mobilenet_thin : /home/MPLab/mplab006/tf_action_recognition/models/graph/mobilenet_thin/graph_opt.pb\n"
     ]
    },
    {
     "name": "stdout",
     "output_type": "stream",
     "text": [
      "video  v_PlayingSitar_g19_c01.avi  inferenced done.\n",
      "# of finished videos:  113\n",
      "# of finished directories:  6\n",
      "inferencing video:  v_PlayingSitar_g19_c02.avi  from  PlayingSitar  directory\n"
     ]
    },
    {
     "name": "stderr",
     "output_type": "stream",
     "text": [
      "[2018-07-27 15:52:47,087] [TfPoseEstimator-Video] [DEBUG] initialization mobilenet_thin : /home/MPLab/mplab006/tf_action_recognition/models/graph/mobilenet_thin/graph_opt.pb\n"
     ]
    },
    {
     "name": "stdout",
     "output_type": "stream",
     "text": [
      "video  v_PlayingSitar_g19_c02.avi  inferenced done.\n",
      "# of finished videos:  114\n",
      "# of finished directories:  6\n",
      "inferencing video:  v_PlayingSitar_g19_c03.avi  from  PlayingSitar  directory\n"
     ]
    },
    {
     "name": "stderr",
     "output_type": "stream",
     "text": [
      "[2018-07-27 15:52:48,008] [TfPoseEstimator-Video] [DEBUG] initialization mobilenet_thin : /home/MPLab/mplab006/tf_action_recognition/models/graph/mobilenet_thin/graph_opt.pb\n"
     ]
    },
    {
     "name": "stdout",
     "output_type": "stream",
     "text": [
      "video  v_PlayingSitar_g19_c03.avi  inferenced done.\n",
      "# of finished videos:  115\n",
      "# of finished directories:  6\n",
      "inferencing video:  v_PlayingSitar_g19_c04.avi  from  PlayingSitar  directory\n"
     ]
    },
    {
     "name": "stderr",
     "output_type": "stream",
     "text": [
      "[2018-07-27 15:52:48,914] [TfPoseEstimator-Video] [DEBUG] initialization mobilenet_thin : /home/MPLab/mplab006/tf_action_recognition/models/graph/mobilenet_thin/graph_opt.pb\n"
     ]
    },
    {
     "name": "stdout",
     "output_type": "stream",
     "text": [
      "video  v_PlayingSitar_g19_c04.avi  inferenced done.\n",
      "# of finished videos:  116\n",
      "# of finished directories:  6\n",
      "inferencing video:  v_PlayingSitar_g19_c05.avi  from  PlayingSitar  directory\n"
     ]
    },
    {
     "name": "stderr",
     "output_type": "stream",
     "text": [
      "[2018-07-27 15:52:49,753] [TfPoseEstimator-Video] [DEBUG] initialization mobilenet_thin : /home/MPLab/mplab006/tf_action_recognition/models/graph/mobilenet_thin/graph_opt.pb\n"
     ]
    },
    {
     "name": "stdout",
     "output_type": "stream",
     "text": [
      "video  v_PlayingSitar_g19_c05.avi  inferenced done.\n",
      "# of finished videos:  117\n",
      "# of finished directories:  6\n",
      "inferencing video:  v_PlayingSitar_g19_c06.avi  from  PlayingSitar  directory\n"
     ]
    },
    {
     "name": "stderr",
     "output_type": "stream",
     "text": [
      "[2018-07-27 15:52:50,592] [TfPoseEstimator-Video] [DEBUG] initialization mobilenet_thin : /home/MPLab/mplab006/tf_action_recognition/models/graph/mobilenet_thin/graph_opt.pb\n"
     ]
    },
    {
     "name": "stdout",
     "output_type": "stream",
     "text": [
      "video  v_PlayingSitar_g19_c06.avi  inferenced done.\n",
      "# of finished videos:  118\n",
      "# of finished directories:  6\n",
      "inferencing video:  v_PlayingSitar_g19_c07.avi  from  PlayingSitar  directory\n"
     ]
    },
    {
     "name": "stderr",
     "output_type": "stream",
     "text": [
      "[2018-07-27 15:52:51,457] [TfPoseEstimator-Video] [DEBUG] initialization mobilenet_thin : /home/MPLab/mplab006/tf_action_recognition/models/graph/mobilenet_thin/graph_opt.pb\n"
     ]
    },
    {
     "name": "stdout",
     "output_type": "stream",
     "text": [
      "video  v_PlayingSitar_g19_c07.avi  inferenced done.\n",
      "# of finished videos:  119\n",
      "# of finished directories:  6\n",
      "inferencing video:  v_PlayingSitar_g20_c01.avi  from  PlayingSitar  directory\n"
     ]
    },
    {
     "name": "stderr",
     "output_type": "stream",
     "text": [
      "[2018-07-27 15:52:52,317] [TfPoseEstimator-Video] [DEBUG] initialization mobilenet_thin : /home/MPLab/mplab006/tf_action_recognition/models/graph/mobilenet_thin/graph_opt.pb\n"
     ]
    },
    {
     "name": "stdout",
     "output_type": "stream",
     "text": [
      "video  v_PlayingSitar_g20_c01.avi  inferenced done.\n",
      "# of finished videos:  120\n",
      "# of finished directories:  6\n",
      "inferencing video:  v_PlayingSitar_g20_c02.avi  from  PlayingSitar  directory\n"
     ]
    },
    {
     "name": "stderr",
     "output_type": "stream",
     "text": [
      "[2018-07-27 15:52:53,220] [TfPoseEstimator-Video] [DEBUG] initialization mobilenet_thin : /home/MPLab/mplab006/tf_action_recognition/models/graph/mobilenet_thin/graph_opt.pb\n"
     ]
    },
    {
     "name": "stdout",
     "output_type": "stream",
     "text": [
      "video  v_PlayingSitar_g20_c02.avi  inferenced done.\n",
      "# of finished videos:  121\n",
      "# of finished directories:  6\n",
      "inferencing video:  v_PlayingSitar_g20_c03.avi  from  PlayingSitar  directory\n"
     ]
    },
    {
     "name": "stderr",
     "output_type": "stream",
     "text": [
      "[2018-07-27 15:52:54,066] [TfPoseEstimator-Video] [DEBUG] initialization mobilenet_thin : /home/MPLab/mplab006/tf_action_recognition/models/graph/mobilenet_thin/graph_opt.pb\n"
     ]
    },
    {
     "name": "stdout",
     "output_type": "stream",
     "text": [
      "video  v_PlayingSitar_g20_c03.avi  inferenced done.\n",
      "# of finished videos:  122\n",
      "# of finished directories:  6\n",
      "inferencing video:  v_PlayingSitar_g20_c04.avi  from  PlayingSitar  directory\n"
     ]
    },
    {
     "name": "stderr",
     "output_type": "stream",
     "text": [
      "[2018-07-27 15:52:54,931] [TfPoseEstimator-Video] [DEBUG] initialization mobilenet_thin : /home/MPLab/mplab006/tf_action_recognition/models/graph/mobilenet_thin/graph_opt.pb\n"
     ]
    },
    {
     "name": "stdout",
     "output_type": "stream",
     "text": [
      "video  v_PlayingSitar_g20_c04.avi  inferenced done.\n",
      "# of finished videos:  123\n",
      "# of finished directories:  6\n",
      "inferencing video:  v_PlayingSitar_g20_c05.avi  from  PlayingSitar  directory\n"
     ]
    },
    {
     "name": "stderr",
     "output_type": "stream",
     "text": [
      "[2018-07-27 15:52:55,817] [TfPoseEstimator-Video] [DEBUG] initialization mobilenet_thin : /home/MPLab/mplab006/tf_action_recognition/models/graph/mobilenet_thin/graph_opt.pb\n"
     ]
    },
    {
     "name": "stdout",
     "output_type": "stream",
     "text": [
      "video  v_PlayingSitar_g20_c05.avi  inferenced done.\n",
      "# of finished videos:  124\n",
      "# of finished directories:  6\n",
      "inferencing video:  v_PlayingSitar_g20_c06.avi  from  PlayingSitar  directory\n"
     ]
    },
    {
     "name": "stderr",
     "output_type": "stream",
     "text": [
      "[2018-07-27 15:52:56,715] [TfPoseEstimator-Video] [DEBUG] initialization mobilenet_thin : /home/MPLab/mplab006/tf_action_recognition/models/graph/mobilenet_thin/graph_opt.pb\n"
     ]
    },
    {
     "name": "stdout",
     "output_type": "stream",
     "text": [
      "video  v_PlayingSitar_g20_c06.avi  inferenced done.\n",
      "# of finished videos:  125\n",
      "# of finished directories:  6\n",
      "inferencing video:  v_PlayingSitar_g20_c07.avi  from  PlayingSitar  directory\n"
     ]
    },
    {
     "name": "stderr",
     "output_type": "stream",
     "text": [
      "[2018-07-27 15:52:57,603] [TfPoseEstimator-Video] [DEBUG] initialization mobilenet_thin : /home/MPLab/mplab006/tf_action_recognition/models/graph/mobilenet_thin/graph_opt.pb\n"
     ]
    },
    {
     "name": "stdout",
     "output_type": "stream",
     "text": [
      "video  v_PlayingSitar_g20_c07.avi  inferenced done.\n",
      "# of finished videos:  126\n",
      "# of finished directories:  6\n",
      "inferencing video:  v_PlayingSitar_g21_c01.avi  from  PlayingSitar  directory\n"
     ]
    },
    {
     "name": "stderr",
     "output_type": "stream",
     "text": [
      "[2018-07-27 15:52:58,433] [TfPoseEstimator-Video] [DEBUG] initialization mobilenet_thin : /home/MPLab/mplab006/tf_action_recognition/models/graph/mobilenet_thin/graph_opt.pb\n"
     ]
    },
    {
     "name": "stdout",
     "output_type": "stream",
     "text": [
      "video  v_PlayingSitar_g21_c01.avi  inferenced done.\n",
      "# of finished videos:  127\n",
      "# of finished directories:  6\n",
      "inferencing video:  v_PlayingSitar_g21_c02.avi  from  PlayingSitar  directory\n"
     ]
    },
    {
     "name": "stderr",
     "output_type": "stream",
     "text": [
      "[2018-07-27 15:52:59,326] [TfPoseEstimator-Video] [DEBUG] initialization mobilenet_thin : /home/MPLab/mplab006/tf_action_recognition/models/graph/mobilenet_thin/graph_opt.pb\n"
     ]
    },
    {
     "name": "stdout",
     "output_type": "stream",
     "text": [
      "video  v_PlayingSitar_g21_c02.avi  inferenced done.\n",
      "# of finished videos:  128\n",
      "# of finished directories:  6\n",
      "inferencing video:  v_PlayingSitar_g21_c03.avi  from  PlayingSitar  directory\n"
     ]
    },
    {
     "name": "stderr",
     "output_type": "stream",
     "text": [
      "[2018-07-27 15:53:00,213] [TfPoseEstimator-Video] [DEBUG] initialization mobilenet_thin : /home/MPLab/mplab006/tf_action_recognition/models/graph/mobilenet_thin/graph_opt.pb\n"
     ]
    },
    {
     "name": "stdout",
     "output_type": "stream",
     "text": [
      "video  v_PlayingSitar_g21_c03.avi  inferenced done.\n",
      "# of finished videos:  129\n",
      "# of finished directories:  6\n",
      "inferencing video:  v_PlayingSitar_g21_c04.avi  from  PlayingSitar  directory\n"
     ]
    },
    {
     "name": "stderr",
     "output_type": "stream",
     "text": [
      "[2018-07-27 15:53:01,035] [TfPoseEstimator-Video] [DEBUG] initialization mobilenet_thin : /home/MPLab/mplab006/tf_action_recognition/models/graph/mobilenet_thin/graph_opt.pb\n"
     ]
    },
    {
     "name": "stdout",
     "output_type": "stream",
     "text": [
      "video  v_PlayingSitar_g21_c04.avi  inferenced done.\n",
      "# of finished videos:  130\n",
      "# of finished directories:  6\n",
      "inferencing video:  v_PlayingSitar_g21_c05.avi  from  PlayingSitar  directory\n"
     ]
    },
    {
     "name": "stderr",
     "output_type": "stream",
     "text": [
      "[2018-07-27 15:53:01,910] [TfPoseEstimator-Video] [DEBUG] initialization mobilenet_thin : /home/MPLab/mplab006/tf_action_recognition/models/graph/mobilenet_thin/graph_opt.pb\n"
     ]
    },
    {
     "name": "stdout",
     "output_type": "stream",
     "text": [
      "video  v_PlayingSitar_g21_c05.avi  inferenced done.\n",
      "# of finished videos:  131\n",
      "# of finished directories:  6\n",
      "inferencing video:  v_PlayingSitar_g21_c06.avi  from  PlayingSitar  directory\n"
     ]
    },
    {
     "name": "stderr",
     "output_type": "stream",
     "text": [
      "[2018-07-27 15:53:02,733] [TfPoseEstimator-Video] [DEBUG] initialization mobilenet_thin : /home/MPLab/mplab006/tf_action_recognition/models/graph/mobilenet_thin/graph_opt.pb\n"
     ]
    },
    {
     "name": "stdout",
     "output_type": "stream",
     "text": [
      "video  v_PlayingSitar_g21_c06.avi  inferenced done.\n",
      "# of finished videos:  132\n",
      "# of finished directories:  6\n",
      "inferencing video:  v_PlayingSitar_g21_c07.avi  from  PlayingSitar  directory\n"
     ]
    },
    {
     "name": "stderr",
     "output_type": "stream",
     "text": [
      "[2018-07-27 15:53:03,604] [TfPoseEstimator-Video] [DEBUG] initialization mobilenet_thin : /home/MPLab/mplab006/tf_action_recognition/models/graph/mobilenet_thin/graph_opt.pb\n"
     ]
    },
    {
     "name": "stdout",
     "output_type": "stream",
     "text": [
      "video  v_PlayingSitar_g21_c07.avi  inferenced done.\n",
      "# of finished videos:  133\n",
      "# of finished directories:  6\n",
      "inferencing video:  v_PlayingSitar_g22_c01.avi  from  PlayingSitar  directory\n"
     ]
    },
    {
     "name": "stderr",
     "output_type": "stream",
     "text": [
      "[2018-07-27 15:53:04,440] [TfPoseEstimator-Video] [DEBUG] initialization mobilenet_thin : /home/MPLab/mplab006/tf_action_recognition/models/graph/mobilenet_thin/graph_opt.pb\n"
     ]
    },
    {
     "name": "stdout",
     "output_type": "stream",
     "text": [
      "video  v_PlayingSitar_g22_c01.avi  inferenced done.\n",
      "# of finished videos:  134\n",
      "# of finished directories:  6\n",
      "inferencing video:  v_PlayingSitar_g22_c02.avi  from  PlayingSitar  directory\n"
     ]
    },
    {
     "name": "stderr",
     "output_type": "stream",
     "text": [
      "[2018-07-27 15:53:05,286] [TfPoseEstimator-Video] [DEBUG] initialization mobilenet_thin : /home/MPLab/mplab006/tf_action_recognition/models/graph/mobilenet_thin/graph_opt.pb\n"
     ]
    },
    {
     "name": "stdout",
     "output_type": "stream",
     "text": [
      "video  v_PlayingSitar_g22_c02.avi  inferenced done.\n",
      "# of finished videos:  135\n",
      "# of finished directories:  6\n",
      "inferencing video:  v_PlayingSitar_g22_c03.avi  from  PlayingSitar  directory\n"
     ]
    },
    {
     "name": "stderr",
     "output_type": "stream",
     "text": [
      "[2018-07-27 15:53:06,154] [TfPoseEstimator-Video] [DEBUG] initialization mobilenet_thin : /home/MPLab/mplab006/tf_action_recognition/models/graph/mobilenet_thin/graph_opt.pb\n"
     ]
    },
    {
     "name": "stdout",
     "output_type": "stream",
     "text": [
      "video  v_PlayingSitar_g22_c03.avi  inferenced done.\n",
      "# of finished videos:  136\n",
      "# of finished directories:  6\n",
      "inferencing video:  v_PlayingSitar_g22_c04.avi  from  PlayingSitar  directory\n"
     ]
    },
    {
     "name": "stderr",
     "output_type": "stream",
     "text": [
      "[2018-07-27 15:53:07,051] [TfPoseEstimator-Video] [DEBUG] initialization mobilenet_thin : /home/MPLab/mplab006/tf_action_recognition/models/graph/mobilenet_thin/graph_opt.pb\n"
     ]
    },
    {
     "name": "stdout",
     "output_type": "stream",
     "text": [
      "video  v_PlayingSitar_g22_c04.avi  inferenced done.\n",
      "# of finished videos:  137\n",
      "# of finished directories:  6\n",
      "inferencing video:  v_PlayingSitar_g22_c05.avi  from  PlayingSitar  directory\n"
     ]
    },
    {
     "name": "stderr",
     "output_type": "stream",
     "text": [
      "[2018-07-27 15:53:07,887] [TfPoseEstimator-Video] [DEBUG] initialization mobilenet_thin : /home/MPLab/mplab006/tf_action_recognition/models/graph/mobilenet_thin/graph_opt.pb\n"
     ]
    },
    {
     "name": "stdout",
     "output_type": "stream",
     "text": [
      "video  v_PlayingSitar_g22_c05.avi  inferenced done.\n",
      "# of finished videos:  138\n",
      "# of finished directories:  6\n",
      "inferencing video:  v_PlayingSitar_g22_c06.avi  from  PlayingSitar  directory\n"
     ]
    },
    {
     "name": "stderr",
     "output_type": "stream",
     "text": [
      "[2018-07-27 15:53:08,792] [TfPoseEstimator-Video] [DEBUG] initialization mobilenet_thin : /home/MPLab/mplab006/tf_action_recognition/models/graph/mobilenet_thin/graph_opt.pb\n"
     ]
    },
    {
     "name": "stdout",
     "output_type": "stream",
     "text": [
      "video  v_PlayingSitar_g22_c06.avi  inferenced done.\n",
      "# of finished videos:  139\n",
      "# of finished directories:  6\n",
      "inferencing video:  v_PlayingSitar_g23_c01.avi  from  PlayingSitar  directory\n"
     ]
    },
    {
     "name": "stderr",
     "output_type": "stream",
     "text": [
      "[2018-07-27 15:53:09,676] [TfPoseEstimator-Video] [DEBUG] initialization mobilenet_thin : /home/MPLab/mplab006/tf_action_recognition/models/graph/mobilenet_thin/graph_opt.pb\n"
     ]
    },
    {
     "name": "stdout",
     "output_type": "stream",
     "text": [
      "video  v_PlayingSitar_g23_c01.avi  inferenced done.\n",
      "# of finished videos:  140\n",
      "# of finished directories:  6\n",
      "inferencing video:  v_PlayingSitar_g23_c02.avi  from  PlayingSitar  directory\n"
     ]
    },
    {
     "name": "stderr",
     "output_type": "stream",
     "text": [
      "[2018-07-27 15:53:10,523] [TfPoseEstimator-Video] [DEBUG] initialization mobilenet_thin : /home/MPLab/mplab006/tf_action_recognition/models/graph/mobilenet_thin/graph_opt.pb\n"
     ]
    },
    {
     "name": "stdout",
     "output_type": "stream",
     "text": [
      "video  v_PlayingSitar_g23_c02.avi  inferenced done.\n",
      "# of finished videos:  141\n",
      "# of finished directories:  6\n",
      "inferencing video:  v_PlayingSitar_g23_c03.avi  from  PlayingSitar  directory\n"
     ]
    },
    {
     "name": "stderr",
     "output_type": "stream",
     "text": [
      "[2018-07-27 15:53:11,430] [TfPoseEstimator-Video] [DEBUG] initialization mobilenet_thin : /home/MPLab/mplab006/tf_action_recognition/models/graph/mobilenet_thin/graph_opt.pb\n"
     ]
    },
    {
     "name": "stdout",
     "output_type": "stream",
     "text": [
      "video  v_PlayingSitar_g23_c03.avi  inferenced done.\n",
      "# of finished videos:  142\n",
      "# of finished directories:  6\n",
      "inferencing video:  v_PlayingSitar_g23_c04.avi  from  PlayingSitar  directory\n"
     ]
    },
    {
     "name": "stderr",
     "output_type": "stream",
     "text": [
      "[2018-07-27 15:53:12,277] [TfPoseEstimator-Video] [DEBUG] initialization mobilenet_thin : /home/MPLab/mplab006/tf_action_recognition/models/graph/mobilenet_thin/graph_opt.pb\n"
     ]
    },
    {
     "name": "stdout",
     "output_type": "stream",
     "text": [
      "video  v_PlayingSitar_g23_c04.avi  inferenced done.\n",
      "# of finished videos:  143\n",
      "# of finished directories:  6\n",
      "inferencing video:  v_PlayingSitar_g23_c05.avi  from  PlayingSitar  directory\n"
     ]
    },
    {
     "name": "stderr",
     "output_type": "stream",
     "text": [
      "[2018-07-27 15:53:13,119] [TfPoseEstimator-Video] [DEBUG] initialization mobilenet_thin : /home/MPLab/mplab006/tf_action_recognition/models/graph/mobilenet_thin/graph_opt.pb\n"
     ]
    },
    {
     "name": "stdout",
     "output_type": "stream",
     "text": [
      "video  v_PlayingSitar_g23_c05.avi  inferenced done.\n",
      "# of finished videos:  144\n",
      "# of finished directories:  6\n",
      "inferencing video:  v_PlayingSitar_g23_c06.avi  from  PlayingSitar  directory\n"
     ]
    },
    {
     "name": "stderr",
     "output_type": "stream",
     "text": [
      "[2018-07-27 15:53:14,040] [TfPoseEstimator-Video] [DEBUG] initialization mobilenet_thin : /home/MPLab/mplab006/tf_action_recognition/models/graph/mobilenet_thin/graph_opt.pb\n"
     ]
    },
    {
     "name": "stdout",
     "output_type": "stream",
     "text": [
      "video  v_PlayingSitar_g23_c06.avi  inferenced done.\n",
      "# of finished videos:  145\n",
      "# of finished directories:  6\n",
      "inferencing video:  v_PlayingSitar_g23_c07.avi  from  PlayingSitar  directory\n"
     ]
    },
    {
     "name": "stderr",
     "output_type": "stream",
     "text": [
      "[2018-07-27 15:53:14,893] [TfPoseEstimator-Video] [DEBUG] initialization mobilenet_thin : /home/MPLab/mplab006/tf_action_recognition/models/graph/mobilenet_thin/graph_opt.pb\n"
     ]
    },
    {
     "name": "stdout",
     "output_type": "stream",
     "text": [
      "video  v_PlayingSitar_g23_c07.avi  inferenced done.\n",
      "# of finished videos:  146\n",
      "# of finished directories:  6\n",
      "inferencing video:  v_PlayingSitar_g24_c01.avi  from  PlayingSitar  directory\n"
     ]
    },
    {
     "name": "stderr",
     "output_type": "stream",
     "text": [
      "[2018-07-27 15:53:15,746] [TfPoseEstimator-Video] [DEBUG] initialization mobilenet_thin : /home/MPLab/mplab006/tf_action_recognition/models/graph/mobilenet_thin/graph_opt.pb\n"
     ]
    },
    {
     "name": "stdout",
     "output_type": "stream",
     "text": [
      "video  v_PlayingSitar_g24_c01.avi  inferenced done.\n",
      "# of finished videos:  147\n",
      "# of finished directories:  6\n",
      "inferencing video:  v_PlayingSitar_g24_c02.avi  from  PlayingSitar  directory\n"
     ]
    },
    {
     "name": "stderr",
     "output_type": "stream",
     "text": [
      "[2018-07-27 15:53:16,588] [TfPoseEstimator-Video] [DEBUG] initialization mobilenet_thin : /home/MPLab/mplab006/tf_action_recognition/models/graph/mobilenet_thin/graph_opt.pb\n"
     ]
    },
    {
     "name": "stdout",
     "output_type": "stream",
     "text": [
      "video  v_PlayingSitar_g24_c02.avi  inferenced done.\n",
      "# of finished videos:  148\n",
      "# of finished directories:  6\n",
      "inferencing video:  v_PlayingSitar_g24_c03.avi  from  PlayingSitar  directory\n"
     ]
    },
    {
     "name": "stderr",
     "output_type": "stream",
     "text": [
      "[2018-07-27 15:53:17,428] [TfPoseEstimator-Video] [DEBUG] initialization mobilenet_thin : /home/MPLab/mplab006/tf_action_recognition/models/graph/mobilenet_thin/graph_opt.pb\n"
     ]
    },
    {
     "name": "stdout",
     "output_type": "stream",
     "text": [
      "video  v_PlayingSitar_g24_c03.avi  inferenced done.\n",
      "# of finished videos:  149\n",
      "# of finished directories:  6\n",
      "inferencing video:  v_PlayingSitar_g24_c04.avi  from  PlayingSitar  directory\n"
     ]
    },
    {
     "name": "stderr",
     "output_type": "stream",
     "text": [
      "[2018-07-27 15:53:18,288] [TfPoseEstimator-Video] [DEBUG] initialization mobilenet_thin : /home/MPLab/mplab006/tf_action_recognition/models/graph/mobilenet_thin/graph_opt.pb\n"
     ]
    },
    {
     "name": "stdout",
     "output_type": "stream",
     "text": [
      "video  v_PlayingSitar_g24_c04.avi  inferenced done.\n",
      "# of finished videos:  150\n",
      "# of finished directories:  6\n",
      "inferencing video:  v_PlayingSitar_g24_c05.avi  from  PlayingSitar  directory\n"
     ]
    },
    {
     "name": "stderr",
     "output_type": "stream",
     "text": [
      "[2018-07-27 15:53:19,173] [TfPoseEstimator-Video] [DEBUG] initialization mobilenet_thin : /home/MPLab/mplab006/tf_action_recognition/models/graph/mobilenet_thin/graph_opt.pb\n"
     ]
    },
    {
     "name": "stdout",
     "output_type": "stream",
     "text": [
      "video  v_PlayingSitar_g24_c05.avi  inferenced done.\n",
      "# of finished videos:  151\n",
      "# of finished directories:  6\n",
      "inferencing video:  v_PlayingSitar_g24_c06.avi  from  PlayingSitar  directory\n"
     ]
    },
    {
     "name": "stderr",
     "output_type": "stream",
     "text": [
      "[2018-07-27 15:53:20,019] [TfPoseEstimator-Video] [DEBUG] initialization mobilenet_thin : /home/MPLab/mplab006/tf_action_recognition/models/graph/mobilenet_thin/graph_opt.pb\n"
     ]
    },
    {
     "name": "stdout",
     "output_type": "stream",
     "text": [
      "video  v_PlayingSitar_g24_c06.avi  inferenced done.\n",
      "# of finished videos:  152\n",
      "# of finished directories:  6\n",
      "inferencing video:  v_PlayingSitar_g24_c07.avi  from  PlayingSitar  directory\n"
     ]
    },
    {
     "name": "stderr",
     "output_type": "stream",
     "text": [
      "[2018-07-27 15:53:20,871] [TfPoseEstimator-Video] [DEBUG] initialization mobilenet_thin : /home/MPLab/mplab006/tf_action_recognition/models/graph/mobilenet_thin/graph_opt.pb\n"
     ]
    },
    {
     "name": "stdout",
     "output_type": "stream",
     "text": [
      "video  v_PlayingSitar_g24_c07.avi  inferenced done.\n",
      "# of finished videos:  153\n",
      "# of finished directories:  6\n",
      "inferencing video:  v_PlayingSitar_g25_c01.avi  from  PlayingSitar  directory\n"
     ]
    },
    {
     "name": "stderr",
     "output_type": "stream",
     "text": [
      "[2018-07-27 15:53:21,731] [TfPoseEstimator-Video] [DEBUG] initialization mobilenet_thin : /home/MPLab/mplab006/tf_action_recognition/models/graph/mobilenet_thin/graph_opt.pb\n"
     ]
    },
    {
     "name": "stdout",
     "output_type": "stream",
     "text": [
      "video  v_PlayingSitar_g25_c01.avi  inferenced done.\n",
      "# of finished videos:  154\n",
      "# of finished directories:  6\n",
      "inferencing video:  v_PlayingSitar_g25_c02.avi  from  PlayingSitar  directory\n"
     ]
    },
    {
     "name": "stderr",
     "output_type": "stream",
     "text": [
      "[2018-07-27 15:53:22,593] [TfPoseEstimator-Video] [DEBUG] initialization mobilenet_thin : /home/MPLab/mplab006/tf_action_recognition/models/graph/mobilenet_thin/graph_opt.pb\n"
     ]
    },
    {
     "name": "stdout",
     "output_type": "stream",
     "text": [
      "video  v_PlayingSitar_g25_c02.avi  inferenced done.\n",
      "# of finished videos:  155\n",
      "# of finished directories:  6\n",
      "inferencing video:  v_PlayingSitar_g25_c03.avi  from  PlayingSitar  directory\n"
     ]
    },
    {
     "name": "stderr",
     "output_type": "stream",
     "text": [
      "[2018-07-27 15:53:23,452] [TfPoseEstimator-Video] [DEBUG] initialization mobilenet_thin : /home/MPLab/mplab006/tf_action_recognition/models/graph/mobilenet_thin/graph_opt.pb\n"
     ]
    },
    {
     "name": "stdout",
     "output_type": "stream",
     "text": [
      "video  v_PlayingSitar_g25_c03.avi  inferenced done.\n",
      "# of finished videos:  156\n",
      "# of finished directories:  6\n",
      "inferencing video:  v_PlayingSitar_g25_c04.avi  from  PlayingSitar  directory\n"
     ]
    },
    {
     "name": "stderr",
     "output_type": "stream",
     "text": [
      "[2018-07-27 15:53:24,300] [TfPoseEstimator-Video] [DEBUG] initialization mobilenet_thin : /home/MPLab/mplab006/tf_action_recognition/models/graph/mobilenet_thin/graph_opt.pb\n"
     ]
    },
    {
     "name": "stdout",
     "output_type": "stream",
     "text": [
      "video  v_PlayingSitar_g25_c04.avi  inferenced done.\n",
      "# of finished videos:  157\n",
      "# of finished directories:  6\n",
      "inferencing video:  v_PlayingTabla_g01_c01.avi  from  PlayingTabla  directory\n"
     ]
    },
    {
     "name": "stderr",
     "output_type": "stream",
     "text": [
      "[2018-07-27 15:53:25,172] [TfPoseEstimator-Video] [DEBUG] initialization mobilenet_thin : /home/MPLab/mplab006/tf_action_recognition/models/graph/mobilenet_thin/graph_opt.pb\n"
     ]
    },
    {
     "name": "stdout",
     "output_type": "stream",
     "text": [
      "video  v_PlayingTabla_g01_c01.avi  inferenced done.\n",
      "# of finished videos:  1\n",
      "# of finished directories:  7\n",
      "inferencing video:  v_PlayingTabla_g01_c02.avi  from  PlayingTabla  directory\n"
     ]
    },
    {
     "name": "stderr",
     "output_type": "stream",
     "text": [
      "[2018-07-27 15:53:26,034] [TfPoseEstimator-Video] [DEBUG] initialization mobilenet_thin : /home/MPLab/mplab006/tf_action_recognition/models/graph/mobilenet_thin/graph_opt.pb\n"
     ]
    },
    {
     "name": "stdout",
     "output_type": "stream",
     "text": [
      "video  v_PlayingTabla_g01_c02.avi  inferenced done.\n",
      "# of finished videos:  2\n",
      "# of finished directories:  7\n",
      "inferencing video:  v_PlayingTabla_g01_c03.avi  from  PlayingTabla  directory\n"
     ]
    },
    {
     "name": "stderr",
     "output_type": "stream",
     "text": [
      "[2018-07-27 15:53:26,910] [TfPoseEstimator-Video] [DEBUG] initialization mobilenet_thin : /home/MPLab/mplab006/tf_action_recognition/models/graph/mobilenet_thin/graph_opt.pb\n"
     ]
    },
    {
     "name": "stdout",
     "output_type": "stream",
     "text": [
      "video  v_PlayingTabla_g01_c03.avi  inferenced done.\n",
      "# of finished videos:  3\n",
      "# of finished directories:  7\n",
      "inferencing video:  v_PlayingTabla_g01_c04.avi  from  PlayingTabla  directory\n"
     ]
    },
    {
     "name": "stderr",
     "output_type": "stream",
     "text": [
      "[2018-07-27 15:53:27,787] [TfPoseEstimator-Video] [DEBUG] initialization mobilenet_thin : /home/MPLab/mplab006/tf_action_recognition/models/graph/mobilenet_thin/graph_opt.pb\n"
     ]
    },
    {
     "name": "stdout",
     "output_type": "stream",
     "text": [
      "video  v_PlayingTabla_g01_c04.avi  inferenced done.\n",
      "# of finished videos:  4\n",
      "# of finished directories:  7\n",
      "inferencing video:  v_PlayingTabla_g02_c01.avi  from  PlayingTabla  directory\n"
     ]
    },
    {
     "name": "stderr",
     "output_type": "stream",
     "text": [
      "[2018-07-27 15:53:28,629] [TfPoseEstimator-Video] [DEBUG] initialization mobilenet_thin : /home/MPLab/mplab006/tf_action_recognition/models/graph/mobilenet_thin/graph_opt.pb\n"
     ]
    },
    {
     "name": "stdout",
     "output_type": "stream",
     "text": [
      "video  v_PlayingTabla_g02_c01.avi  inferenced done.\n",
      "# of finished videos:  5\n",
      "# of finished directories:  7\n",
      "inferencing video:  v_PlayingTabla_g02_c02.avi  from  PlayingTabla  directory\n"
     ]
    },
    {
     "name": "stderr",
     "output_type": "stream",
     "text": [
      "[2018-07-27 15:53:29,463] [TfPoseEstimator-Video] [DEBUG] initialization mobilenet_thin : /home/MPLab/mplab006/tf_action_recognition/models/graph/mobilenet_thin/graph_opt.pb\n"
     ]
    },
    {
     "name": "stdout",
     "output_type": "stream",
     "text": [
      "video  v_PlayingTabla_g02_c02.avi  inferenced done.\n",
      "# of finished videos:  6\n",
      "# of finished directories:  7\n",
      "inferencing video:  v_PlayingTabla_g02_c03.avi  from  PlayingTabla  directory\n"
     ]
    },
    {
     "name": "stderr",
     "output_type": "stream",
     "text": [
      "[2018-07-27 15:53:30,326] [TfPoseEstimator-Video] [DEBUG] initialization mobilenet_thin : /home/MPLab/mplab006/tf_action_recognition/models/graph/mobilenet_thin/graph_opt.pb\n"
     ]
    },
    {
     "name": "stdout",
     "output_type": "stream",
     "text": [
      "video  v_PlayingTabla_g02_c03.avi  inferenced done.\n",
      "# of finished videos:  7\n",
      "# of finished directories:  7\n",
      "inferencing video:  v_PlayingTabla_g02_c04.avi  from  PlayingTabla  directory\n"
     ]
    },
    {
     "name": "stderr",
     "output_type": "stream",
     "text": [
      "[2018-07-27 15:53:31,171] [TfPoseEstimator-Video] [DEBUG] initialization mobilenet_thin : /home/MPLab/mplab006/tf_action_recognition/models/graph/mobilenet_thin/graph_opt.pb\n"
     ]
    },
    {
     "name": "stdout",
     "output_type": "stream",
     "text": [
      "video  v_PlayingTabla_g02_c04.avi  inferenced done.\n",
      "# of finished videos:  8\n",
      "# of finished directories:  7\n",
      "inferencing video:  v_PlayingTabla_g03_c01.avi  from  PlayingTabla  directory\n"
     ]
    },
    {
     "name": "stderr",
     "output_type": "stream",
     "text": [
      "[2018-07-27 15:53:32,021] [TfPoseEstimator-Video] [DEBUG] initialization mobilenet_thin : /home/MPLab/mplab006/tf_action_recognition/models/graph/mobilenet_thin/graph_opt.pb\n"
     ]
    },
    {
     "name": "stdout",
     "output_type": "stream",
     "text": [
      "video  v_PlayingTabla_g03_c01.avi  inferenced done.\n",
      "# of finished videos:  9\n",
      "# of finished directories:  7\n",
      "inferencing video:  v_PlayingTabla_g03_c02.avi  from  PlayingTabla  directory\n"
     ]
    },
    {
     "name": "stderr",
     "output_type": "stream",
     "text": [
      "[2018-07-27 15:53:32,871] [TfPoseEstimator-Video] [DEBUG] initialization mobilenet_thin : /home/MPLab/mplab006/tf_action_recognition/models/graph/mobilenet_thin/graph_opt.pb\n"
     ]
    },
    {
     "name": "stdout",
     "output_type": "stream",
     "text": [
      "video  v_PlayingTabla_g03_c02.avi  inferenced done.\n",
      "# of finished videos:  10\n",
      "# of finished directories:  7\n",
      "inferencing video:  v_PlayingTabla_g03_c03.avi  from  PlayingTabla  directory\n"
     ]
    },
    {
     "name": "stderr",
     "output_type": "stream",
     "text": [
      "[2018-07-27 15:53:33,695] [TfPoseEstimator-Video] [DEBUG] initialization mobilenet_thin : /home/MPLab/mplab006/tf_action_recognition/models/graph/mobilenet_thin/graph_opt.pb\n"
     ]
    },
    {
     "name": "stdout",
     "output_type": "stream",
     "text": [
      "video  v_PlayingTabla_g03_c03.avi  inferenced done.\n",
      "# of finished videos:  11\n",
      "# of finished directories:  7\n",
      "inferencing video:  v_PlayingTabla_g03_c04.avi  from  PlayingTabla  directory\n"
     ]
    },
    {
     "name": "stderr",
     "output_type": "stream",
     "text": [
      "[2018-07-27 15:53:34,539] [TfPoseEstimator-Video] [DEBUG] initialization mobilenet_thin : /home/MPLab/mplab006/tf_action_recognition/models/graph/mobilenet_thin/graph_opt.pb\n"
     ]
    },
    {
     "name": "stdout",
     "output_type": "stream",
     "text": [
      "video  v_PlayingTabla_g03_c04.avi  inferenced done.\n",
      "# of finished videos:  12\n",
      "# of finished directories:  7\n",
      "inferencing video:  v_PlayingTabla_g03_c05.avi  from  PlayingTabla  directory\n"
     ]
    },
    {
     "name": "stderr",
     "output_type": "stream",
     "text": [
      "[2018-07-27 15:53:35,409] [TfPoseEstimator-Video] [DEBUG] initialization mobilenet_thin : /home/MPLab/mplab006/tf_action_recognition/models/graph/mobilenet_thin/graph_opt.pb\n"
     ]
    },
    {
     "name": "stdout",
     "output_type": "stream",
     "text": [
      "video  v_PlayingTabla_g03_c05.avi  inferenced done.\n",
      "# of finished videos:  13\n",
      "# of finished directories:  7\n",
      "inferencing video:  v_PlayingTabla_g04_c01.avi  from  PlayingTabla  directory\n"
     ]
    },
    {
     "name": "stderr",
     "output_type": "stream",
     "text": [
      "[2018-07-27 15:53:36,300] [TfPoseEstimator-Video] [DEBUG] initialization mobilenet_thin : /home/MPLab/mplab006/tf_action_recognition/models/graph/mobilenet_thin/graph_opt.pb\n"
     ]
    },
    {
     "name": "stdout",
     "output_type": "stream",
     "text": [
      "video  v_PlayingTabla_g04_c01.avi  inferenced done.\n",
      "# of finished videos:  14\n",
      "# of finished directories:  7\n",
      "inferencing video:  v_PlayingTabla_g04_c02.avi  from  PlayingTabla  directory\n"
     ]
    },
    {
     "name": "stderr",
     "output_type": "stream",
     "text": [
      "[2018-07-27 15:53:37,156] [TfPoseEstimator-Video] [DEBUG] initialization mobilenet_thin : /home/MPLab/mplab006/tf_action_recognition/models/graph/mobilenet_thin/graph_opt.pb\n"
     ]
    },
    {
     "name": "stdout",
     "output_type": "stream",
     "text": [
      "video  v_PlayingTabla_g04_c02.avi  inferenced done.\n",
      "# of finished videos:  15\n",
      "# of finished directories:  7\n",
      "inferencing video:  v_PlayingTabla_g04_c03.avi  from  PlayingTabla  directory\n"
     ]
    },
    {
     "name": "stderr",
     "output_type": "stream",
     "text": [
      "[2018-07-27 15:53:37,986] [TfPoseEstimator-Video] [DEBUG] initialization mobilenet_thin : /home/MPLab/mplab006/tf_action_recognition/models/graph/mobilenet_thin/graph_opt.pb\n"
     ]
    },
    {
     "name": "stdout",
     "output_type": "stream",
     "text": [
      "video  v_PlayingTabla_g04_c03.avi  inferenced done.\n",
      "# of finished videos:  16\n",
      "# of finished directories:  7\n",
      "inferencing video:  v_PlayingTabla_g04_c04.avi  from  PlayingTabla  directory\n"
     ]
    },
    {
     "name": "stderr",
     "output_type": "stream",
     "text": [
      "[2018-07-27 15:53:38,862] [TfPoseEstimator-Video] [DEBUG] initialization mobilenet_thin : /home/MPLab/mplab006/tf_action_recognition/models/graph/mobilenet_thin/graph_opt.pb\n"
     ]
    },
    {
     "name": "stdout",
     "output_type": "stream",
     "text": [
      "video  v_PlayingTabla_g04_c04.avi  inferenced done.\n",
      "# of finished videos:  17\n",
      "# of finished directories:  7\n",
      "inferencing video:  v_PlayingTabla_g04_c05.avi  from  PlayingTabla  directory\n"
     ]
    },
    {
     "name": "stderr",
     "output_type": "stream",
     "text": [
      "[2018-07-27 15:53:39,754] [TfPoseEstimator-Video] [DEBUG] initialization mobilenet_thin : /home/MPLab/mplab006/tf_action_recognition/models/graph/mobilenet_thin/graph_opt.pb\n"
     ]
    },
    {
     "name": "stdout",
     "output_type": "stream",
     "text": [
      "video  v_PlayingTabla_g04_c05.avi  inferenced done.\n",
      "# of finished videos:  18\n",
      "# of finished directories:  7\n",
      "inferencing video:  v_PlayingTabla_g04_c06.avi  from  PlayingTabla  directory\n"
     ]
    },
    {
     "name": "stderr",
     "output_type": "stream",
     "text": [
      "[2018-07-27 15:53:40,608] [TfPoseEstimator-Video] [DEBUG] initialization mobilenet_thin : /home/MPLab/mplab006/tf_action_recognition/models/graph/mobilenet_thin/graph_opt.pb\n"
     ]
    },
    {
     "name": "stdout",
     "output_type": "stream",
     "text": [
      "video  v_PlayingTabla_g04_c06.avi  inferenced done.\n",
      "# of finished videos:  19\n",
      "# of finished directories:  7\n",
      "inferencing video:  v_PlayingTabla_g05_c01.avi  from  PlayingTabla  directory\n"
     ]
    },
    {
     "name": "stderr",
     "output_type": "stream",
     "text": [
      "[2018-07-27 15:53:41,472] [TfPoseEstimator-Video] [DEBUG] initialization mobilenet_thin : /home/MPLab/mplab006/tf_action_recognition/models/graph/mobilenet_thin/graph_opt.pb\n"
     ]
    },
    {
     "name": "stdout",
     "output_type": "stream",
     "text": [
      "video  v_PlayingTabla_g05_c01.avi  inferenced done.\n",
      "# of finished videos:  20\n",
      "# of finished directories:  7\n",
      "inferencing video:  v_PlayingTabla_g05_c02.avi  from  PlayingTabla  directory\n"
     ]
    },
    {
     "name": "stderr",
     "output_type": "stream",
     "text": [
      "[2018-07-27 15:53:42,364] [TfPoseEstimator-Video] [DEBUG] initialization mobilenet_thin : /home/MPLab/mplab006/tf_action_recognition/models/graph/mobilenet_thin/graph_opt.pb\n"
     ]
    },
    {
     "name": "stdout",
     "output_type": "stream",
     "text": [
      "video  v_PlayingTabla_g05_c02.avi  inferenced done.\n",
      "# of finished videos:  21\n",
      "# of finished directories:  7\n",
      "inferencing video:  v_PlayingTabla_g05_c03.avi  from  PlayingTabla  directory\n"
     ]
    },
    {
     "name": "stderr",
     "output_type": "stream",
     "text": [
      "[2018-07-27 15:53:43,254] [TfPoseEstimator-Video] [DEBUG] initialization mobilenet_thin : /home/MPLab/mplab006/tf_action_recognition/models/graph/mobilenet_thin/graph_opt.pb\n"
     ]
    },
    {
     "name": "stdout",
     "output_type": "stream",
     "text": [
      "video  v_PlayingTabla_g05_c03.avi  inferenced done.\n",
      "# of finished videos:  22\n",
      "# of finished directories:  7\n",
      "inferencing video:  v_PlayingTabla_g05_c04.avi  from  PlayingTabla  directory\n"
     ]
    },
    {
     "name": "stderr",
     "output_type": "stream",
     "text": [
      "[2018-07-27 15:53:44,178] [TfPoseEstimator-Video] [DEBUG] initialization mobilenet_thin : /home/MPLab/mplab006/tf_action_recognition/models/graph/mobilenet_thin/graph_opt.pb\n"
     ]
    },
    {
     "name": "stdout",
     "output_type": "stream",
     "text": [
      "video  v_PlayingTabla_g05_c04.avi  inferenced done.\n",
      "# of finished videos:  23\n",
      "# of finished directories:  7\n",
      "inferencing video:  v_PlayingTabla_g06_c01.avi  from  PlayingTabla  directory\n"
     ]
    },
    {
     "name": "stderr",
     "output_type": "stream",
     "text": [
      "[2018-07-27 15:53:45,094] [TfPoseEstimator-Video] [DEBUG] initialization mobilenet_thin : /home/MPLab/mplab006/tf_action_recognition/models/graph/mobilenet_thin/graph_opt.pb\n"
     ]
    },
    {
     "name": "stdout",
     "output_type": "stream",
     "text": [
      "video  v_PlayingTabla_g06_c01.avi  inferenced done.\n",
      "# of finished videos:  24\n",
      "# of finished directories:  7\n",
      "inferencing video:  v_PlayingTabla_g06_c02.avi  from  PlayingTabla  directory\n"
     ]
    },
    {
     "name": "stderr",
     "output_type": "stream",
     "text": [
      "[2018-07-27 15:53:45,948] [TfPoseEstimator-Video] [DEBUG] initialization mobilenet_thin : /home/MPLab/mplab006/tf_action_recognition/models/graph/mobilenet_thin/graph_opt.pb\n"
     ]
    },
    {
     "name": "stdout",
     "output_type": "stream",
     "text": [
      "video  v_PlayingTabla_g06_c02.avi  inferenced done.\n",
      "# of finished videos:  25\n",
      "# of finished directories:  7\n",
      "inferencing video:  v_PlayingTabla_g06_c03.avi  from  PlayingTabla  directory\n"
     ]
    },
    {
     "name": "stderr",
     "output_type": "stream",
     "text": [
      "[2018-07-27 15:53:46,839] [TfPoseEstimator-Video] [DEBUG] initialization mobilenet_thin : /home/MPLab/mplab006/tf_action_recognition/models/graph/mobilenet_thin/graph_opt.pb\n"
     ]
    },
    {
     "name": "stdout",
     "output_type": "stream",
     "text": [
      "video  v_PlayingTabla_g06_c03.avi  inferenced done.\n",
      "# of finished videos:  26\n",
      "# of finished directories:  7\n",
      "inferencing video:  v_PlayingTabla_g06_c04.avi  from  PlayingTabla  directory\n"
     ]
    },
    {
     "name": "stderr",
     "output_type": "stream",
     "text": [
      "[2018-07-27 15:53:47,727] [TfPoseEstimator-Video] [DEBUG] initialization mobilenet_thin : /home/MPLab/mplab006/tf_action_recognition/models/graph/mobilenet_thin/graph_opt.pb\n"
     ]
    },
    {
     "name": "stdout",
     "output_type": "stream",
     "text": [
      "video  v_PlayingTabla_g06_c04.avi  inferenced done.\n",
      "# of finished videos:  27\n",
      "# of finished directories:  7\n",
      "inferencing video:  v_PlayingTabla_g07_c01.avi  from  PlayingTabla  directory\n"
     ]
    },
    {
     "name": "stderr",
     "output_type": "stream",
     "text": [
      "[2018-07-27 15:53:48,572] [TfPoseEstimator-Video] [DEBUG] initialization mobilenet_thin : /home/MPLab/mplab006/tf_action_recognition/models/graph/mobilenet_thin/graph_opt.pb\n"
     ]
    },
    {
     "name": "stdout",
     "output_type": "stream",
     "text": [
      "video  v_PlayingTabla_g07_c01.avi  inferenced done.\n",
      "# of finished videos:  28\n",
      "# of finished directories:  7\n",
      "inferencing video:  v_PlayingTabla_g07_c02.avi  from  PlayingTabla  directory\n"
     ]
    },
    {
     "name": "stderr",
     "output_type": "stream",
     "text": [
      "[2018-07-27 15:53:49,452] [TfPoseEstimator-Video] [DEBUG] initialization mobilenet_thin : /home/MPLab/mplab006/tf_action_recognition/models/graph/mobilenet_thin/graph_opt.pb\n"
     ]
    },
    {
     "name": "stdout",
     "output_type": "stream",
     "text": [
      "video  v_PlayingTabla_g07_c02.avi  inferenced done.\n",
      "# of finished videos:  29\n",
      "# of finished directories:  7\n",
      "inferencing video:  v_PlayingTabla_g07_c03.avi  from  PlayingTabla  directory\n"
     ]
    },
    {
     "name": "stderr",
     "output_type": "stream",
     "text": [
      "[2018-07-27 15:53:50,323] [TfPoseEstimator-Video] [DEBUG] initialization mobilenet_thin : /home/MPLab/mplab006/tf_action_recognition/models/graph/mobilenet_thin/graph_opt.pb\n"
     ]
    },
    {
     "name": "stdout",
     "output_type": "stream",
     "text": [
      "video  v_PlayingTabla_g07_c03.avi  inferenced done.\n",
      "# of finished videos:  30\n",
      "# of finished directories:  7\n",
      "inferencing video:  v_PlayingTabla_g07_c04.avi  from  PlayingTabla  directory\n"
     ]
    },
    {
     "name": "stderr",
     "output_type": "stream",
     "text": [
      "[2018-07-27 15:53:51,167] [TfPoseEstimator-Video] [DEBUG] initialization mobilenet_thin : /home/MPLab/mplab006/tf_action_recognition/models/graph/mobilenet_thin/graph_opt.pb\n"
     ]
    },
    {
     "name": "stdout",
     "output_type": "stream",
     "text": [
      "video  v_PlayingTabla_g07_c04.avi  inferenced done.\n",
      "# of finished videos:  31\n",
      "# of finished directories:  7\n",
      "inferencing video:  v_PlayingTabla_g08_c01.avi  from  PlayingTabla  directory\n"
     ]
    },
    {
     "name": "stderr",
     "output_type": "stream",
     "text": [
      "[2018-07-27 15:53:52,017] [TfPoseEstimator-Video] [DEBUG] initialization mobilenet_thin : /home/MPLab/mplab006/tf_action_recognition/models/graph/mobilenet_thin/graph_opt.pb\n"
     ]
    },
    {
     "name": "stdout",
     "output_type": "stream",
     "text": [
      "video  v_PlayingTabla_g08_c01.avi  inferenced done.\n",
      "# of finished videos:  32\n",
      "# of finished directories:  7\n",
      "inferencing video:  v_PlayingTabla_g08_c02.avi  from  PlayingTabla  directory\n"
     ]
    },
    {
     "name": "stderr",
     "output_type": "stream",
     "text": [
      "[2018-07-27 15:53:52,911] [TfPoseEstimator-Video] [DEBUG] initialization mobilenet_thin : /home/MPLab/mplab006/tf_action_recognition/models/graph/mobilenet_thin/graph_opt.pb\n"
     ]
    },
    {
     "name": "stdout",
     "output_type": "stream",
     "text": [
      "video  v_PlayingTabla_g08_c02.avi  inferenced done.\n",
      "# of finished videos:  33\n",
      "# of finished directories:  7\n",
      "inferencing video:  v_PlayingTabla_g08_c03.avi  from  PlayingTabla  directory\n"
     ]
    },
    {
     "name": "stderr",
     "output_type": "stream",
     "text": [
      "[2018-07-27 15:53:53,758] [TfPoseEstimator-Video] [DEBUG] initialization mobilenet_thin : /home/MPLab/mplab006/tf_action_recognition/models/graph/mobilenet_thin/graph_opt.pb\n"
     ]
    },
    {
     "name": "stdout",
     "output_type": "stream",
     "text": [
      "video  v_PlayingTabla_g08_c03.avi  inferenced done.\n",
      "# of finished videos:  34\n",
      "# of finished directories:  7\n",
      "inferencing video:  v_PlayingTabla_g08_c04.avi  from  PlayingTabla  directory\n"
     ]
    },
    {
     "name": "stderr",
     "output_type": "stream",
     "text": [
      "[2018-07-27 15:53:54,591] [TfPoseEstimator-Video] [DEBUG] initialization mobilenet_thin : /home/MPLab/mplab006/tf_action_recognition/models/graph/mobilenet_thin/graph_opt.pb\n"
     ]
    },
    {
     "name": "stdout",
     "output_type": "stream",
     "text": [
      "video  v_PlayingTabla_g08_c04.avi  inferenced done.\n",
      "# of finished videos:  35\n",
      "# of finished directories:  7\n",
      "inferencing video:  v_PlayingTabla_g09_c01.avi  from  PlayingTabla  directory\n"
     ]
    },
    {
     "name": "stderr",
     "output_type": "stream",
     "text": [
      "[2018-07-27 15:53:55,479] [TfPoseEstimator-Video] [DEBUG] initialization mobilenet_thin : /home/MPLab/mplab006/tf_action_recognition/models/graph/mobilenet_thin/graph_opt.pb\n"
     ]
    },
    {
     "name": "stdout",
     "output_type": "stream",
     "text": [
      "video  v_PlayingTabla_g09_c01.avi  inferenced done.\n",
      "# of finished videos:  36\n",
      "# of finished directories:  7\n",
      "inferencing video:  v_PlayingTabla_g09_c02.avi  from  PlayingTabla  directory\n"
     ]
    },
    {
     "name": "stderr",
     "output_type": "stream",
     "text": [
      "[2018-07-27 15:53:56,343] [TfPoseEstimator-Video] [DEBUG] initialization mobilenet_thin : /home/MPLab/mplab006/tf_action_recognition/models/graph/mobilenet_thin/graph_opt.pb\n"
     ]
    },
    {
     "name": "stdout",
     "output_type": "stream",
     "text": [
      "video  v_PlayingTabla_g09_c02.avi  inferenced done.\n",
      "# of finished videos:  37\n",
      "# of finished directories:  7\n",
      "inferencing video:  v_PlayingTabla_g09_c03.avi  from  PlayingTabla  directory\n"
     ]
    },
    {
     "name": "stderr",
     "output_type": "stream",
     "text": [
      "[2018-07-27 15:53:57,230] [TfPoseEstimator-Video] [DEBUG] initialization mobilenet_thin : /home/MPLab/mplab006/tf_action_recognition/models/graph/mobilenet_thin/graph_opt.pb\n"
     ]
    },
    {
     "name": "stdout",
     "output_type": "stream",
     "text": [
      "video  v_PlayingTabla_g09_c03.avi  inferenced done.\n",
      "# of finished videos:  38\n",
      "# of finished directories:  7\n",
      "inferencing video:  v_PlayingTabla_g09_c04.avi  from  PlayingTabla  directory\n"
     ]
    },
    {
     "name": "stderr",
     "output_type": "stream",
     "text": [
      "[2018-07-27 15:53:58,075] [TfPoseEstimator-Video] [DEBUG] initialization mobilenet_thin : /home/MPLab/mplab006/tf_action_recognition/models/graph/mobilenet_thin/graph_opt.pb\n"
     ]
    },
    {
     "name": "stdout",
     "output_type": "stream",
     "text": [
      "video  v_PlayingTabla_g09_c04.avi  inferenced done.\n",
      "# of finished videos:  39\n",
      "# of finished directories:  7\n",
      "inferencing video:  v_PlayingTabla_g09_c05.avi  from  PlayingTabla  directory\n"
     ]
    },
    {
     "name": "stderr",
     "output_type": "stream",
     "text": [
      "[2018-07-27 15:53:58,958] [TfPoseEstimator-Video] [DEBUG] initialization mobilenet_thin : /home/MPLab/mplab006/tf_action_recognition/models/graph/mobilenet_thin/graph_opt.pb\n"
     ]
    },
    {
     "name": "stdout",
     "output_type": "stream",
     "text": [
      "video  v_PlayingTabla_g09_c05.avi  inferenced done.\n",
      "# of finished videos:  40\n",
      "# of finished directories:  7\n",
      "inferencing video:  v_PlayingTabla_g10_c01.avi  from  PlayingTabla  directory\n"
     ]
    },
    {
     "name": "stderr",
     "output_type": "stream",
     "text": [
      "[2018-07-27 15:53:59,870] [TfPoseEstimator-Video] [DEBUG] initialization mobilenet_thin : /home/MPLab/mplab006/tf_action_recognition/models/graph/mobilenet_thin/graph_opt.pb\n"
     ]
    },
    {
     "name": "stdout",
     "output_type": "stream",
     "text": [
      "video  v_PlayingTabla_g10_c01.avi  inferenced done.\n",
      "# of finished videos:  41\n",
      "# of finished directories:  7\n",
      "inferencing video:  v_PlayingTabla_g10_c02.avi  from  PlayingTabla  directory\n"
     ]
    },
    {
     "name": "stderr",
     "output_type": "stream",
     "text": [
      "[2018-07-27 15:54:00,801] [TfPoseEstimator-Video] [DEBUG] initialization mobilenet_thin : /home/MPLab/mplab006/tf_action_recognition/models/graph/mobilenet_thin/graph_opt.pb\n"
     ]
    },
    {
     "name": "stdout",
     "output_type": "stream",
     "text": [
      "video  v_PlayingTabla_g10_c02.avi  inferenced done.\n",
      "# of finished videos:  42\n",
      "# of finished directories:  7\n",
      "inferencing video:  v_PlayingTabla_g10_c03.avi  from  PlayingTabla  directory\n"
     ]
    },
    {
     "name": "stderr",
     "output_type": "stream",
     "text": [
      "[2018-07-27 15:54:01,664] [TfPoseEstimator-Video] [DEBUG] initialization mobilenet_thin : /home/MPLab/mplab006/tf_action_recognition/models/graph/mobilenet_thin/graph_opt.pb\n"
     ]
    },
    {
     "name": "stdout",
     "output_type": "stream",
     "text": [
      "video  v_PlayingTabla_g10_c03.avi  inferenced done.\n",
      "# of finished videos:  43\n",
      "# of finished directories:  7\n",
      "inferencing video:  v_PlayingTabla_g10_c04.avi  from  PlayingTabla  directory\n"
     ]
    },
    {
     "name": "stderr",
     "output_type": "stream",
     "text": [
      "[2018-07-27 15:54:02,572] [TfPoseEstimator-Video] [DEBUG] initialization mobilenet_thin : /home/MPLab/mplab006/tf_action_recognition/models/graph/mobilenet_thin/graph_opt.pb\n"
     ]
    },
    {
     "name": "stdout",
     "output_type": "stream",
     "text": [
      "video  v_PlayingTabla_g10_c04.avi  inferenced done.\n",
      "# of finished videos:  44\n",
      "# of finished directories:  7\n",
      "inferencing video:  v_PlayingTabla_g10_c05.avi  from  PlayingTabla  directory\n"
     ]
    },
    {
     "name": "stderr",
     "output_type": "stream",
     "text": [
      "[2018-07-27 15:54:03,475] [TfPoseEstimator-Video] [DEBUG] initialization mobilenet_thin : /home/MPLab/mplab006/tf_action_recognition/models/graph/mobilenet_thin/graph_opt.pb\n"
     ]
    },
    {
     "name": "stdout",
     "output_type": "stream",
     "text": [
      "video  v_PlayingTabla_g10_c05.avi  inferenced done.\n",
      "# of finished videos:  45\n",
      "# of finished directories:  7\n",
      "inferencing video:  v_PlayingTabla_g11_c01.avi  from  PlayingTabla  directory\n"
     ]
    },
    {
     "name": "stderr",
     "output_type": "stream",
     "text": [
      "[2018-07-27 15:54:04,313] [TfPoseEstimator-Video] [DEBUG] initialization mobilenet_thin : /home/MPLab/mplab006/tf_action_recognition/models/graph/mobilenet_thin/graph_opt.pb\n"
     ]
    },
    {
     "name": "stdout",
     "output_type": "stream",
     "text": [
      "video  v_PlayingTabla_g11_c01.avi  inferenced done.\n",
      "# of finished videos:  46\n",
      "# of finished directories:  7\n",
      "inferencing video:  v_PlayingTabla_g11_c02.avi  from  PlayingTabla  directory\n"
     ]
    },
    {
     "name": "stderr",
     "output_type": "stream",
     "text": [
      "[2018-07-27 15:54:05,186] [TfPoseEstimator-Video] [DEBUG] initialization mobilenet_thin : /home/MPLab/mplab006/tf_action_recognition/models/graph/mobilenet_thin/graph_opt.pb\n"
     ]
    },
    {
     "name": "stdout",
     "output_type": "stream",
     "text": [
      "video  v_PlayingTabla_g11_c02.avi  inferenced done.\n",
      "# of finished videos:  47\n",
      "# of finished directories:  7\n",
      "inferencing video:  v_PlayingTabla_g11_c03.avi  from  PlayingTabla  directory\n"
     ]
    },
    {
     "name": "stderr",
     "output_type": "stream",
     "text": [
      "[2018-07-27 15:54:06,071] [TfPoseEstimator-Video] [DEBUG] initialization mobilenet_thin : /home/MPLab/mplab006/tf_action_recognition/models/graph/mobilenet_thin/graph_opt.pb\n"
     ]
    },
    {
     "name": "stdout",
     "output_type": "stream",
     "text": [
      "video  v_PlayingTabla_g11_c03.avi  inferenced done.\n",
      "# of finished videos:  48\n",
      "# of finished directories:  7\n",
      "inferencing video:  v_PlayingTabla_g11_c04.avi  from  PlayingTabla  directory\n"
     ]
    },
    {
     "name": "stderr",
     "output_type": "stream",
     "text": [
      "[2018-07-27 15:54:06,931] [TfPoseEstimator-Video] [DEBUG] initialization mobilenet_thin : /home/MPLab/mplab006/tf_action_recognition/models/graph/mobilenet_thin/graph_opt.pb\n"
     ]
    },
    {
     "name": "stdout",
     "output_type": "stream",
     "text": [
      "video  v_PlayingTabla_g11_c04.avi  inferenced done.\n",
      "# of finished videos:  49\n",
      "# of finished directories:  7\n",
      "inferencing video:  v_PlayingTabla_g12_c01.avi  from  PlayingTabla  directory\n"
     ]
    },
    {
     "name": "stderr",
     "output_type": "stream",
     "text": [
      "[2018-07-27 15:54:07,796] [TfPoseEstimator-Video] [DEBUG] initialization mobilenet_thin : /home/MPLab/mplab006/tf_action_recognition/models/graph/mobilenet_thin/graph_opt.pb\n"
     ]
    },
    {
     "name": "stdout",
     "output_type": "stream",
     "text": [
      "video  v_PlayingTabla_g12_c01.avi  inferenced done.\n",
      "# of finished videos:  50\n",
      "# of finished directories:  7\n",
      "inferencing video:  v_PlayingTabla_g12_c02.avi  from  PlayingTabla  directory\n"
     ]
    },
    {
     "name": "stderr",
     "output_type": "stream",
     "text": [
      "[2018-07-27 15:54:08,712] [TfPoseEstimator-Video] [DEBUG] initialization mobilenet_thin : /home/MPLab/mplab006/tf_action_recognition/models/graph/mobilenet_thin/graph_opt.pb\n"
     ]
    },
    {
     "name": "stdout",
     "output_type": "stream",
     "text": [
      "video  v_PlayingTabla_g12_c02.avi  inferenced done.\n",
      "# of finished videos:  51\n",
      "# of finished directories:  7\n",
      "inferencing video:  v_PlayingTabla_g12_c03.avi  from  PlayingTabla  directory\n"
     ]
    },
    {
     "name": "stderr",
     "output_type": "stream",
     "text": [
      "[2018-07-27 15:54:09,582] [TfPoseEstimator-Video] [DEBUG] initialization mobilenet_thin : /home/MPLab/mplab006/tf_action_recognition/models/graph/mobilenet_thin/graph_opt.pb\n"
     ]
    },
    {
     "name": "stdout",
     "output_type": "stream",
     "text": [
      "video  v_PlayingTabla_g12_c03.avi  inferenced done.\n",
      "# of finished videos:  52\n",
      "# of finished directories:  7\n",
      "inferencing video:  v_PlayingTabla_g12_c04.avi  from  PlayingTabla  directory\n"
     ]
    },
    {
     "name": "stderr",
     "output_type": "stream",
     "text": [
      "[2018-07-27 15:54:10,444] [TfPoseEstimator-Video] [DEBUG] initialization mobilenet_thin : /home/MPLab/mplab006/tf_action_recognition/models/graph/mobilenet_thin/graph_opt.pb\n"
     ]
    },
    {
     "name": "stdout",
     "output_type": "stream",
     "text": [
      "video  v_PlayingTabla_g12_c04.avi  inferenced done.\n",
      "# of finished videos:  53\n",
      "# of finished directories:  7\n",
      "inferencing video:  v_PlayingTabla_g12_c05.avi  from  PlayingTabla  directory\n"
     ]
    },
    {
     "name": "stderr",
     "output_type": "stream",
     "text": [
      "[2018-07-27 15:54:11,309] [TfPoseEstimator-Video] [DEBUG] initialization mobilenet_thin : /home/MPLab/mplab006/tf_action_recognition/models/graph/mobilenet_thin/graph_opt.pb\n"
     ]
    },
    {
     "name": "stdout",
     "output_type": "stream",
     "text": [
      "video  v_PlayingTabla_g12_c05.avi  inferenced done.\n",
      "# of finished videos:  54\n",
      "# of finished directories:  7\n",
      "inferencing video:  v_PlayingTabla_g13_c01.avi  from  PlayingTabla  directory\n"
     ]
    },
    {
     "name": "stderr",
     "output_type": "stream",
     "text": [
      "[2018-07-27 15:54:12,187] [TfPoseEstimator-Video] [DEBUG] initialization mobilenet_thin : /home/MPLab/mplab006/tf_action_recognition/models/graph/mobilenet_thin/graph_opt.pb\n"
     ]
    },
    {
     "name": "stdout",
     "output_type": "stream",
     "text": [
      "video  v_PlayingTabla_g13_c01.avi  inferenced done.\n",
      "# of finished videos:  55\n",
      "# of finished directories:  7\n",
      "inferencing video:  v_PlayingTabla_g13_c02.avi  from  PlayingTabla  directory\n"
     ]
    },
    {
     "name": "stderr",
     "output_type": "stream",
     "text": [
      "[2018-07-27 15:54:13,074] [TfPoseEstimator-Video] [DEBUG] initialization mobilenet_thin : /home/MPLab/mplab006/tf_action_recognition/models/graph/mobilenet_thin/graph_opt.pb\n"
     ]
    },
    {
     "name": "stdout",
     "output_type": "stream",
     "text": [
      "video  v_PlayingTabla_g13_c02.avi  inferenced done.\n",
      "# of finished videos:  56\n",
      "# of finished directories:  7\n",
      "inferencing video:  v_PlayingTabla_g13_c03.avi  from  PlayingTabla  directory\n"
     ]
    },
    {
     "name": "stderr",
     "output_type": "stream",
     "text": [
      "[2018-07-27 15:54:13,949] [TfPoseEstimator-Video] [DEBUG] initialization mobilenet_thin : /home/MPLab/mplab006/tf_action_recognition/models/graph/mobilenet_thin/graph_opt.pb\n"
     ]
    },
    {
     "name": "stdout",
     "output_type": "stream",
     "text": [
      "video  v_PlayingTabla_g13_c03.avi  inferenced done.\n",
      "# of finished videos:  57\n",
      "# of finished directories:  7\n",
      "inferencing video:  v_PlayingTabla_g13_c04.avi  from  PlayingTabla  directory\n"
     ]
    },
    {
     "name": "stderr",
     "output_type": "stream",
     "text": [
      "[2018-07-27 15:54:14,815] [TfPoseEstimator-Video] [DEBUG] initialization mobilenet_thin : /home/MPLab/mplab006/tf_action_recognition/models/graph/mobilenet_thin/graph_opt.pb\n"
     ]
    },
    {
     "name": "stdout",
     "output_type": "stream",
     "text": [
      "video  v_PlayingTabla_g13_c04.avi  inferenced done.\n",
      "# of finished videos:  58\n",
      "# of finished directories:  7\n",
      "inferencing video:  v_PlayingTabla_g13_c05.avi  from  PlayingTabla  directory\n"
     ]
    },
    {
     "name": "stderr",
     "output_type": "stream",
     "text": [
      "[2018-07-27 15:54:15,686] [TfPoseEstimator-Video] [DEBUG] initialization mobilenet_thin : /home/MPLab/mplab006/tf_action_recognition/models/graph/mobilenet_thin/graph_opt.pb\n"
     ]
    },
    {
     "name": "stdout",
     "output_type": "stream",
     "text": [
      "video  v_PlayingTabla_g13_c05.avi  inferenced done.\n",
      "# of finished videos:  59\n",
      "# of finished directories:  7\n",
      "inferencing video:  v_PlayingTabla_g14_c01.avi  from  PlayingTabla  directory\n"
     ]
    },
    {
     "name": "stderr",
     "output_type": "stream",
     "text": [
      "[2018-07-27 15:54:16,592] [TfPoseEstimator-Video] [DEBUG] initialization mobilenet_thin : /home/MPLab/mplab006/tf_action_recognition/models/graph/mobilenet_thin/graph_opt.pb\n"
     ]
    },
    {
     "name": "stdout",
     "output_type": "stream",
     "text": [
      "video  v_PlayingTabla_g14_c01.avi  inferenced done.\n",
      "# of finished videos:  60\n",
      "# of finished directories:  7\n",
      "inferencing video:  v_PlayingTabla_g14_c02.avi  from  PlayingTabla  directory\n"
     ]
    },
    {
     "name": "stderr",
     "output_type": "stream",
     "text": [
      "[2018-07-27 15:54:17,444] [TfPoseEstimator-Video] [DEBUG] initialization mobilenet_thin : /home/MPLab/mplab006/tf_action_recognition/models/graph/mobilenet_thin/graph_opt.pb\n"
     ]
    },
    {
     "name": "stdout",
     "output_type": "stream",
     "text": [
      "video  v_PlayingTabla_g14_c02.avi  inferenced done.\n",
      "# of finished videos:  61\n",
      "# of finished directories:  7\n",
      "inferencing video:  v_PlayingTabla_g14_c03.avi  from  PlayingTabla  directory\n"
     ]
    },
    {
     "name": "stderr",
     "output_type": "stream",
     "text": [
      "[2018-07-27 15:54:18,297] [TfPoseEstimator-Video] [DEBUG] initialization mobilenet_thin : /home/MPLab/mplab006/tf_action_recognition/models/graph/mobilenet_thin/graph_opt.pb\n"
     ]
    },
    {
     "name": "stdout",
     "output_type": "stream",
     "text": [
      "video  v_PlayingTabla_g14_c03.avi  inferenced done.\n",
      "# of finished videos:  62\n",
      "# of finished directories:  7\n",
      "inferencing video:  v_PlayingTabla_g14_c04.avi  from  PlayingTabla  directory\n"
     ]
    },
    {
     "name": "stderr",
     "output_type": "stream",
     "text": [
      "[2018-07-27 15:54:19,157] [TfPoseEstimator-Video] [DEBUG] initialization mobilenet_thin : /home/MPLab/mplab006/tf_action_recognition/models/graph/mobilenet_thin/graph_opt.pb\n"
     ]
    },
    {
     "name": "stdout",
     "output_type": "stream",
     "text": [
      "video  v_PlayingTabla_g14_c04.avi  inferenced done.\n",
      "# of finished videos:  63\n",
      "# of finished directories:  7\n",
      "inferencing video:  v_PlayingTabla_g15_c01.avi  from  PlayingTabla  directory\n"
     ]
    },
    {
     "name": "stderr",
     "output_type": "stream",
     "text": [
      "[2018-07-27 15:54:20,002] [TfPoseEstimator-Video] [DEBUG] initialization mobilenet_thin : /home/MPLab/mplab006/tf_action_recognition/models/graph/mobilenet_thin/graph_opt.pb\n"
     ]
    },
    {
     "name": "stdout",
     "output_type": "stream",
     "text": [
      "video  v_PlayingTabla_g15_c01.avi  inferenced done.\n",
      "# of finished videos:  64\n",
      "# of finished directories:  7\n",
      "inferencing video:  v_PlayingTabla_g15_c02.avi  from  PlayingTabla  directory\n"
     ]
    },
    {
     "name": "stderr",
     "output_type": "stream",
     "text": [
      "[2018-07-27 15:54:20,864] [TfPoseEstimator-Video] [DEBUG] initialization mobilenet_thin : /home/MPLab/mplab006/tf_action_recognition/models/graph/mobilenet_thin/graph_opt.pb\n"
     ]
    },
    {
     "name": "stdout",
     "output_type": "stream",
     "text": [
      "video  v_PlayingTabla_g15_c02.avi  inferenced done.\n",
      "# of finished videos:  65\n",
      "# of finished directories:  7\n",
      "inferencing video:  v_PlayingTabla_g15_c03.avi  from  PlayingTabla  directory\n"
     ]
    },
    {
     "name": "stderr",
     "output_type": "stream",
     "text": [
      "[2018-07-27 15:54:21,735] [TfPoseEstimator-Video] [DEBUG] initialization mobilenet_thin : /home/MPLab/mplab006/tf_action_recognition/models/graph/mobilenet_thin/graph_opt.pb\n"
     ]
    },
    {
     "name": "stdout",
     "output_type": "stream",
     "text": [
      "video  v_PlayingTabla_g15_c03.avi  inferenced done.\n",
      "# of finished videos:  66\n",
      "# of finished directories:  7\n",
      "inferencing video:  v_PlayingTabla_g15_c04.avi  from  PlayingTabla  directory\n"
     ]
    },
    {
     "name": "stderr",
     "output_type": "stream",
     "text": [
      "[2018-07-27 15:54:22,594] [TfPoseEstimator-Video] [DEBUG] initialization mobilenet_thin : /home/MPLab/mplab006/tf_action_recognition/models/graph/mobilenet_thin/graph_opt.pb\n"
     ]
    },
    {
     "name": "stdout",
     "output_type": "stream",
     "text": [
      "video  v_PlayingTabla_g15_c04.avi  inferenced done.\n",
      "# of finished videos:  67\n",
      "# of finished directories:  7\n",
      "inferencing video:  v_PlayingTabla_g16_c01.avi  from  PlayingTabla  directory\n"
     ]
    },
    {
     "name": "stderr",
     "output_type": "stream",
     "text": [
      "[2018-07-27 15:54:23,470] [TfPoseEstimator-Video] [DEBUG] initialization mobilenet_thin : /home/MPLab/mplab006/tf_action_recognition/models/graph/mobilenet_thin/graph_opt.pb\n"
     ]
    },
    {
     "name": "stdout",
     "output_type": "stream",
     "text": [
      "video  v_PlayingTabla_g16_c01.avi  inferenced done.\n",
      "# of finished videos:  68\n",
      "# of finished directories:  7\n",
      "inferencing video:  v_PlayingTabla_g16_c02.avi  from  PlayingTabla  directory\n"
     ]
    },
    {
     "name": "stderr",
     "output_type": "stream",
     "text": [
      "[2018-07-27 15:54:24,360] [TfPoseEstimator-Video] [DEBUG] initialization mobilenet_thin : /home/MPLab/mplab006/tf_action_recognition/models/graph/mobilenet_thin/graph_opt.pb\n"
     ]
    },
    {
     "name": "stdout",
     "output_type": "stream",
     "text": [
      "video  v_PlayingTabla_g16_c02.avi  inferenced done.\n",
      "# of finished videos:  69\n",
      "# of finished directories:  7\n",
      "inferencing video:  v_PlayingTabla_g16_c03.avi  from  PlayingTabla  directory\n"
     ]
    },
    {
     "name": "stderr",
     "output_type": "stream",
     "text": [
      "[2018-07-27 15:54:25,231] [TfPoseEstimator-Video] [DEBUG] initialization mobilenet_thin : /home/MPLab/mplab006/tf_action_recognition/models/graph/mobilenet_thin/graph_opt.pb\n"
     ]
    },
    {
     "name": "stdout",
     "output_type": "stream",
     "text": [
      "video  v_PlayingTabla_g16_c03.avi  inferenced done.\n",
      "# of finished videos:  70\n",
      "# of finished directories:  7\n",
      "inferencing video:  v_PlayingTabla_g16_c04.avi  from  PlayingTabla  directory\n"
     ]
    },
    {
     "name": "stderr",
     "output_type": "stream",
     "text": [
      "[2018-07-27 15:54:26,153] [TfPoseEstimator-Video] [DEBUG] initialization mobilenet_thin : /home/MPLab/mplab006/tf_action_recognition/models/graph/mobilenet_thin/graph_opt.pb\n"
     ]
    },
    {
     "name": "stdout",
     "output_type": "stream",
     "text": [
      "video  v_PlayingTabla_g16_c04.avi  inferenced done.\n",
      "# of finished videos:  71\n",
      "# of finished directories:  7\n",
      "inferencing video:  v_PlayingTabla_g16_c05.avi  from  PlayingTabla  directory\n"
     ]
    },
    {
     "name": "stderr",
     "output_type": "stream",
     "text": [
      "[2018-07-27 15:54:27,047] [TfPoseEstimator-Video] [DEBUG] initialization mobilenet_thin : /home/MPLab/mplab006/tf_action_recognition/models/graph/mobilenet_thin/graph_opt.pb\n"
     ]
    },
    {
     "name": "stdout",
     "output_type": "stream",
     "text": [
      "video  v_PlayingTabla_g16_c05.avi  inferenced done.\n",
      "# of finished videos:  72\n",
      "# of finished directories:  7\n",
      "inferencing video:  v_PlayingTabla_g17_c01.avi  from  PlayingTabla  directory\n"
     ]
    },
    {
     "name": "stderr",
     "output_type": "stream",
     "text": [
      "[2018-07-27 15:54:27,942] [TfPoseEstimator-Video] [DEBUG] initialization mobilenet_thin : /home/MPLab/mplab006/tf_action_recognition/models/graph/mobilenet_thin/graph_opt.pb\n"
     ]
    },
    {
     "name": "stdout",
     "output_type": "stream",
     "text": [
      "video  v_PlayingTabla_g17_c01.avi  inferenced done.\n",
      "# of finished videos:  73\n",
      "# of finished directories:  7\n",
      "inferencing video:  v_PlayingTabla_g17_c02.avi  from  PlayingTabla  directory\n"
     ]
    },
    {
     "name": "stderr",
     "output_type": "stream",
     "text": [
      "[2018-07-27 15:54:28,791] [TfPoseEstimator-Video] [DEBUG] initialization mobilenet_thin : /home/MPLab/mplab006/tf_action_recognition/models/graph/mobilenet_thin/graph_opt.pb\n"
     ]
    },
    {
     "name": "stdout",
     "output_type": "stream",
     "text": [
      "video  v_PlayingTabla_g17_c02.avi  inferenced done.\n",
      "# of finished videos:  74\n",
      "# of finished directories:  7\n",
      "inferencing video:  v_PlayingTabla_g17_c03.avi  from  PlayingTabla  directory\n"
     ]
    },
    {
     "name": "stderr",
     "output_type": "stream",
     "text": [
      "[2018-07-27 15:54:29,673] [TfPoseEstimator-Video] [DEBUG] initialization mobilenet_thin : /home/MPLab/mplab006/tf_action_recognition/models/graph/mobilenet_thin/graph_opt.pb\n"
     ]
    },
    {
     "name": "stdout",
     "output_type": "stream",
     "text": [
      "video  v_PlayingTabla_g17_c03.avi  inferenced done.\n",
      "# of finished videos:  75\n",
      "# of finished directories:  7\n",
      "inferencing video:  v_PlayingTabla_g17_c04.avi  from  PlayingTabla  directory\n"
     ]
    },
    {
     "name": "stderr",
     "output_type": "stream",
     "text": [
      "[2018-07-27 15:54:30,578] [TfPoseEstimator-Video] [DEBUG] initialization mobilenet_thin : /home/MPLab/mplab006/tf_action_recognition/models/graph/mobilenet_thin/graph_opt.pb\n"
     ]
    },
    {
     "name": "stdout",
     "output_type": "stream",
     "text": [
      "video  v_PlayingTabla_g17_c04.avi  inferenced done.\n",
      "# of finished videos:  76\n",
      "# of finished directories:  7\n",
      "inferencing video:  v_PlayingTabla_g18_c01.avi  from  PlayingTabla  directory\n"
     ]
    },
    {
     "name": "stderr",
     "output_type": "stream",
     "text": [
      "[2018-07-27 15:54:31,617] [TfPoseEstimator-Video] [DEBUG] initialization mobilenet_thin : /home/MPLab/mplab006/tf_action_recognition/models/graph/mobilenet_thin/graph_opt.pb\n"
     ]
    },
    {
     "name": "stdout",
     "output_type": "stream",
     "text": [
      "video  v_PlayingTabla_g18_c01.avi  inferenced done.\n",
      "# of finished videos:  77\n",
      "# of finished directories:  7\n",
      "inferencing video:  v_PlayingTabla_g18_c02.avi  from  PlayingTabla  directory\n"
     ]
    },
    {
     "name": "stderr",
     "output_type": "stream",
     "text": [
      "[2018-07-27 15:54:32,771] [TfPoseEstimator-Video] [DEBUG] initialization mobilenet_thin : /home/MPLab/mplab006/tf_action_recognition/models/graph/mobilenet_thin/graph_opt.pb\n"
     ]
    },
    {
     "name": "stdout",
     "output_type": "stream",
     "text": [
      "video  v_PlayingTabla_g18_c02.avi  inferenced done.\n",
      "# of finished videos:  78\n",
      "# of finished directories:  7\n",
      "inferencing video:  v_PlayingTabla_g18_c03.avi  from  PlayingTabla  directory\n"
     ]
    },
    {
     "name": "stderr",
     "output_type": "stream",
     "text": [
      "[2018-07-27 15:54:33,897] [TfPoseEstimator-Video] [DEBUG] initialization mobilenet_thin : /home/MPLab/mplab006/tf_action_recognition/models/graph/mobilenet_thin/graph_opt.pb\n"
     ]
    },
    {
     "name": "stdout",
     "output_type": "stream",
     "text": [
      "video  v_PlayingTabla_g18_c03.avi  inferenced done.\n",
      "# of finished videos:  79\n",
      "# of finished directories:  7\n",
      "inferencing video:  v_PlayingTabla_g18_c04.avi  from  PlayingTabla  directory\n"
     ]
    },
    {
     "name": "stderr",
     "output_type": "stream",
     "text": [
      "[2018-07-27 15:54:35,005] [TfPoseEstimator-Video] [DEBUG] initialization mobilenet_thin : /home/MPLab/mplab006/tf_action_recognition/models/graph/mobilenet_thin/graph_opt.pb\n"
     ]
    },
    {
     "name": "stdout",
     "output_type": "stream",
     "text": [
      "video  v_PlayingTabla_g18_c04.avi  inferenced done.\n",
      "# of finished videos:  80\n",
      "# of finished directories:  7\n",
      "inferencing video:  v_PlayingTabla_g18_c05.avi  from  PlayingTabla  directory\n"
     ]
    },
    {
     "name": "stderr",
     "output_type": "stream",
     "text": [
      "[2018-07-27 15:54:35,919] [TfPoseEstimator-Video] [DEBUG] initialization mobilenet_thin : /home/MPLab/mplab006/tf_action_recognition/models/graph/mobilenet_thin/graph_opt.pb\n"
     ]
    },
    {
     "name": "stdout",
     "output_type": "stream",
     "text": [
      "video  v_PlayingTabla_g18_c05.avi  inferenced done.\n",
      "# of finished videos:  81\n",
      "# of finished directories:  7\n",
      "inferencing video:  v_PlayingTabla_g18_c06.avi  from  PlayingTabla  directory\n"
     ]
    },
    {
     "name": "stderr",
     "output_type": "stream",
     "text": [
      "[2018-07-27 15:54:36,794] [TfPoseEstimator-Video] [DEBUG] initialization mobilenet_thin : /home/MPLab/mplab006/tf_action_recognition/models/graph/mobilenet_thin/graph_opt.pb\n"
     ]
    },
    {
     "name": "stdout",
     "output_type": "stream",
     "text": [
      "video  v_PlayingTabla_g18_c06.avi  inferenced done.\n",
      "# of finished videos:  82\n",
      "# of finished directories:  7\n",
      "inferencing video:  v_PlayingTabla_g19_c01.avi  from  PlayingTabla  directory\n"
     ]
    },
    {
     "name": "stderr",
     "output_type": "stream",
     "text": [
      "[2018-07-27 15:54:37,679] [TfPoseEstimator-Video] [DEBUG] initialization mobilenet_thin : /home/MPLab/mplab006/tf_action_recognition/models/graph/mobilenet_thin/graph_opt.pb\n"
     ]
    },
    {
     "name": "stdout",
     "output_type": "stream",
     "text": [
      "video  v_PlayingTabla_g19_c01.avi  inferenced done.\n",
      "# of finished videos:  83\n",
      "# of finished directories:  7\n",
      "inferencing video:  v_PlayingTabla_g19_c02.avi  from  PlayingTabla  directory\n"
     ]
    },
    {
     "name": "stderr",
     "output_type": "stream",
     "text": [
      "[2018-07-27 15:54:38,555] [TfPoseEstimator-Video] [DEBUG] initialization mobilenet_thin : /home/MPLab/mplab006/tf_action_recognition/models/graph/mobilenet_thin/graph_opt.pb\n"
     ]
    },
    {
     "name": "stdout",
     "output_type": "stream",
     "text": [
      "video  v_PlayingTabla_g19_c02.avi  inferenced done.\n",
      "# of finished videos:  84\n",
      "# of finished directories:  7\n",
      "inferencing video:  v_PlayingTabla_g19_c03.avi  from  PlayingTabla  directory\n"
     ]
    },
    {
     "name": "stderr",
     "output_type": "stream",
     "text": [
      "[2018-07-27 15:54:39,403] [TfPoseEstimator-Video] [DEBUG] initialization mobilenet_thin : /home/MPLab/mplab006/tf_action_recognition/models/graph/mobilenet_thin/graph_opt.pb\n"
     ]
    },
    {
     "name": "stdout",
     "output_type": "stream",
     "text": [
      "video  v_PlayingTabla_g19_c03.avi  inferenced done.\n",
      "# of finished videos:  85\n",
      "# of finished directories:  7\n",
      "inferencing video:  v_PlayingTabla_g19_c04.avi  from  PlayingTabla  directory\n"
     ]
    },
    {
     "name": "stderr",
     "output_type": "stream",
     "text": [
      "[2018-07-27 15:54:40,282] [TfPoseEstimator-Video] [DEBUG] initialization mobilenet_thin : /home/MPLab/mplab006/tf_action_recognition/models/graph/mobilenet_thin/graph_opt.pb\n"
     ]
    },
    {
     "name": "stdout",
     "output_type": "stream",
     "text": [
      "video  v_PlayingTabla_g19_c04.avi  inferenced done.\n",
      "# of finished videos:  86\n",
      "# of finished directories:  7\n",
      "inferencing video:  v_PlayingTabla_g20_c01.avi  from  PlayingTabla  directory\n"
     ]
    },
    {
     "name": "stderr",
     "output_type": "stream",
     "text": [
      "[2018-07-27 15:54:41,148] [TfPoseEstimator-Video] [DEBUG] initialization mobilenet_thin : /home/MPLab/mplab006/tf_action_recognition/models/graph/mobilenet_thin/graph_opt.pb\n"
     ]
    },
    {
     "name": "stdout",
     "output_type": "stream",
     "text": [
      "video  v_PlayingTabla_g20_c01.avi  inferenced done.\n",
      "# of finished videos:  87\n",
      "# of finished directories:  7\n",
      "inferencing video:  v_PlayingTabla_g20_c02.avi  from  PlayingTabla  directory\n"
     ]
    },
    {
     "name": "stderr",
     "output_type": "stream",
     "text": [
      "[2018-07-27 15:54:42,003] [TfPoseEstimator-Video] [DEBUG] initialization mobilenet_thin : /home/MPLab/mplab006/tf_action_recognition/models/graph/mobilenet_thin/graph_opt.pb\n"
     ]
    },
    {
     "name": "stdout",
     "output_type": "stream",
     "text": [
      "video  v_PlayingTabla_g20_c02.avi  inferenced done.\n",
      "# of finished videos:  88\n",
      "# of finished directories:  7\n",
      "inferencing video:  v_PlayingTabla_g20_c03.avi  from  PlayingTabla  directory\n"
     ]
    },
    {
     "name": "stderr",
     "output_type": "stream",
     "text": [
      "[2018-07-27 15:54:42,877] [TfPoseEstimator-Video] [DEBUG] initialization mobilenet_thin : /home/MPLab/mplab006/tf_action_recognition/models/graph/mobilenet_thin/graph_opt.pb\n"
     ]
    },
    {
     "name": "stdout",
     "output_type": "stream",
     "text": [
      "video  v_PlayingTabla_g20_c03.avi  inferenced done.\n",
      "# of finished videos:  89\n",
      "# of finished directories:  7\n",
      "inferencing video:  v_PlayingTabla_g20_c04.avi  from  PlayingTabla  directory\n"
     ]
    },
    {
     "name": "stderr",
     "output_type": "stream",
     "text": [
      "[2018-07-27 15:54:43,699] [TfPoseEstimator-Video] [DEBUG] initialization mobilenet_thin : /home/MPLab/mplab006/tf_action_recognition/models/graph/mobilenet_thin/graph_opt.pb\n"
     ]
    },
    {
     "name": "stdout",
     "output_type": "stream",
     "text": [
      "video  v_PlayingTabla_g20_c04.avi  inferenced done.\n",
      "# of finished videos:  90\n",
      "# of finished directories:  7\n",
      "inferencing video:  v_PlayingTabla_g21_c01.avi  from  PlayingTabla  directory\n"
     ]
    },
    {
     "name": "stderr",
     "output_type": "stream",
     "text": [
      "[2018-07-27 15:54:44,557] [TfPoseEstimator-Video] [DEBUG] initialization mobilenet_thin : /home/MPLab/mplab006/tf_action_recognition/models/graph/mobilenet_thin/graph_opt.pb\n"
     ]
    },
    {
     "name": "stdout",
     "output_type": "stream",
     "text": [
      "video  v_PlayingTabla_g21_c01.avi  inferenced done.\n",
      "# of finished videos:  91\n",
      "# of finished directories:  7\n",
      "inferencing video:  v_PlayingTabla_g21_c02.avi  from  PlayingTabla  directory\n"
     ]
    },
    {
     "name": "stderr",
     "output_type": "stream",
     "text": [
      "[2018-07-27 15:54:45,469] [TfPoseEstimator-Video] [DEBUG] initialization mobilenet_thin : /home/MPLab/mplab006/tf_action_recognition/models/graph/mobilenet_thin/graph_opt.pb\n"
     ]
    },
    {
     "name": "stdout",
     "output_type": "stream",
     "text": [
      "video  v_PlayingTabla_g21_c02.avi  inferenced done.\n",
      "# of finished videos:  92\n",
      "# of finished directories:  7\n",
      "inferencing video:  v_PlayingTabla_g21_c03.avi  from  PlayingTabla  directory\n"
     ]
    },
    {
     "name": "stderr",
     "output_type": "stream",
     "text": [
      "[2018-07-27 15:54:46,344] [TfPoseEstimator-Video] [DEBUG] initialization mobilenet_thin : /home/MPLab/mplab006/tf_action_recognition/models/graph/mobilenet_thin/graph_opt.pb\n"
     ]
    },
    {
     "name": "stdout",
     "output_type": "stream",
     "text": [
      "video  v_PlayingTabla_g21_c03.avi  inferenced done.\n",
      "# of finished videos:  93\n",
      "# of finished directories:  7\n",
      "inferencing video:  v_PlayingTabla_g21_c04.avi  from  PlayingTabla  directory\n"
     ]
    },
    {
     "name": "stderr",
     "output_type": "stream",
     "text": [
      "[2018-07-27 15:54:47,194] [TfPoseEstimator-Video] [DEBUG] initialization mobilenet_thin : /home/MPLab/mplab006/tf_action_recognition/models/graph/mobilenet_thin/graph_opt.pb\n"
     ]
    },
    {
     "name": "stdout",
     "output_type": "stream",
     "text": [
      "video  v_PlayingTabla_g21_c04.avi  inferenced done.\n",
      "# of finished videos:  94\n",
      "# of finished directories:  7\n",
      "inferencing video:  v_PlayingTabla_g22_c01.avi  from  PlayingTabla  directory\n"
     ]
    },
    {
     "name": "stderr",
     "output_type": "stream",
     "text": [
      "[2018-07-27 15:54:48,026] [TfPoseEstimator-Video] [DEBUG] initialization mobilenet_thin : /home/MPLab/mplab006/tf_action_recognition/models/graph/mobilenet_thin/graph_opt.pb\n"
     ]
    },
    {
     "name": "stdout",
     "output_type": "stream",
     "text": [
      "video  v_PlayingTabla_g22_c01.avi  inferenced done.\n",
      "# of finished videos:  95\n",
      "# of finished directories:  7\n",
      "inferencing video:  v_PlayingTabla_g22_c02.avi  from  PlayingTabla  directory\n"
     ]
    },
    {
     "name": "stderr",
     "output_type": "stream",
     "text": [
      "[2018-07-27 15:54:48,886] [TfPoseEstimator-Video] [DEBUG] initialization mobilenet_thin : /home/MPLab/mplab006/tf_action_recognition/models/graph/mobilenet_thin/graph_opt.pb\n"
     ]
    },
    {
     "name": "stdout",
     "output_type": "stream",
     "text": [
      "video  v_PlayingTabla_g22_c02.avi  inferenced done.\n",
      "# of finished videos:  96\n",
      "# of finished directories:  7\n",
      "inferencing video:  v_PlayingTabla_g22_c03.avi  from  PlayingTabla  directory\n"
     ]
    },
    {
     "name": "stderr",
     "output_type": "stream",
     "text": [
      "[2018-07-27 15:54:49,727] [TfPoseEstimator-Video] [DEBUG] initialization mobilenet_thin : /home/MPLab/mplab006/tf_action_recognition/models/graph/mobilenet_thin/graph_opt.pb\n"
     ]
    },
    {
     "name": "stdout",
     "output_type": "stream",
     "text": [
      "video  v_PlayingTabla_g22_c03.avi  inferenced done.\n",
      "# of finished videos:  97\n",
      "# of finished directories:  7\n",
      "inferencing video:  v_PlayingTabla_g22_c04.avi  from  PlayingTabla  directory\n"
     ]
    },
    {
     "name": "stderr",
     "output_type": "stream",
     "text": [
      "[2018-07-27 15:54:50,588] [TfPoseEstimator-Video] [DEBUG] initialization mobilenet_thin : /home/MPLab/mplab006/tf_action_recognition/models/graph/mobilenet_thin/graph_opt.pb\n"
     ]
    },
    {
     "name": "stdout",
     "output_type": "stream",
     "text": [
      "video  v_PlayingTabla_g22_c04.avi  inferenced done.\n",
      "# of finished videos:  98\n",
      "# of finished directories:  7\n",
      "inferencing video:  v_PlayingTabla_g23_c01.avi  from  PlayingTabla  directory\n"
     ]
    },
    {
     "name": "stderr",
     "output_type": "stream",
     "text": [
      "[2018-07-27 15:54:51,517] [TfPoseEstimator-Video] [DEBUG] initialization mobilenet_thin : /home/MPLab/mplab006/tf_action_recognition/models/graph/mobilenet_thin/graph_opt.pb\n"
     ]
    },
    {
     "name": "stdout",
     "output_type": "stream",
     "text": [
      "video  v_PlayingTabla_g23_c01.avi  inferenced done.\n",
      "# of finished videos:  99\n",
      "# of finished directories:  7\n",
      "inferencing video:  v_PlayingTabla_g23_c02.avi  from  PlayingTabla  directory\n"
     ]
    },
    {
     "name": "stderr",
     "output_type": "stream",
     "text": [
      "[2018-07-27 15:54:52,391] [TfPoseEstimator-Video] [DEBUG] initialization mobilenet_thin : /home/MPLab/mplab006/tf_action_recognition/models/graph/mobilenet_thin/graph_opt.pb\n"
     ]
    },
    {
     "name": "stdout",
     "output_type": "stream",
     "text": [
      "video  v_PlayingTabla_g23_c02.avi  inferenced done.\n",
      "# of finished videos:  100\n",
      "# of finished directories:  7\n",
      "inferencing video:  v_PlayingTabla_g23_c03.avi  from  PlayingTabla  directory\n"
     ]
    },
    {
     "name": "stderr",
     "output_type": "stream",
     "text": [
      "[2018-07-27 15:54:53,248] [TfPoseEstimator-Video] [DEBUG] initialization mobilenet_thin : /home/MPLab/mplab006/tf_action_recognition/models/graph/mobilenet_thin/graph_opt.pb\n"
     ]
    },
    {
     "name": "stdout",
     "output_type": "stream",
     "text": [
      "video  v_PlayingTabla_g23_c03.avi  inferenced done.\n",
      "# of finished videos:  101\n",
      "# of finished directories:  7\n",
      "inferencing video:  v_PlayingTabla_g23_c04.avi  from  PlayingTabla  directory\n"
     ]
    },
    {
     "name": "stderr",
     "output_type": "stream",
     "text": [
      "[2018-07-27 15:54:54,105] [TfPoseEstimator-Video] [DEBUG] initialization mobilenet_thin : /home/MPLab/mplab006/tf_action_recognition/models/graph/mobilenet_thin/graph_opt.pb\n"
     ]
    },
    {
     "name": "stdout",
     "output_type": "stream",
     "text": [
      "video  v_PlayingTabla_g23_c04.avi  inferenced done.\n",
      "# of finished videos:  102\n",
      "# of finished directories:  7\n",
      "inferencing video:  v_PlayingTabla_g24_c01.avi  from  PlayingTabla  directory\n"
     ]
    },
    {
     "name": "stderr",
     "output_type": "stream",
     "text": [
      "[2018-07-27 15:54:54,960] [TfPoseEstimator-Video] [DEBUG] initialization mobilenet_thin : /home/MPLab/mplab006/tf_action_recognition/models/graph/mobilenet_thin/graph_opt.pb\n"
     ]
    },
    {
     "name": "stdout",
     "output_type": "stream",
     "text": [
      "video  v_PlayingTabla_g24_c01.avi  inferenced done.\n",
      "# of finished videos:  103\n",
      "# of finished directories:  7\n",
      "inferencing video:  v_PlayingTabla_g24_c02.avi  from  PlayingTabla  directory\n"
     ]
    },
    {
     "name": "stderr",
     "output_type": "stream",
     "text": [
      "[2018-07-27 15:54:55,795] [TfPoseEstimator-Video] [DEBUG] initialization mobilenet_thin : /home/MPLab/mplab006/tf_action_recognition/models/graph/mobilenet_thin/graph_opt.pb\n"
     ]
    },
    {
     "name": "stdout",
     "output_type": "stream",
     "text": [
      "video  v_PlayingTabla_g24_c02.avi  inferenced done.\n",
      "# of finished videos:  104\n",
      "# of finished directories:  7\n",
      "inferencing video:  v_PlayingTabla_g24_c03.avi  from  PlayingTabla  directory\n"
     ]
    },
    {
     "name": "stderr",
     "output_type": "stream",
     "text": [
      "[2018-07-27 15:54:56,666] [TfPoseEstimator-Video] [DEBUG] initialization mobilenet_thin : /home/MPLab/mplab006/tf_action_recognition/models/graph/mobilenet_thin/graph_opt.pb\n"
     ]
    },
    {
     "name": "stdout",
     "output_type": "stream",
     "text": [
      "video  v_PlayingTabla_g24_c03.avi  inferenced done.\n",
      "# of finished videos:  105\n",
      "# of finished directories:  7\n",
      "inferencing video:  v_PlayingTabla_g24_c04.avi  from  PlayingTabla  directory\n"
     ]
    },
    {
     "name": "stderr",
     "output_type": "stream",
     "text": [
      "[2018-07-27 15:54:57,567] [TfPoseEstimator-Video] [DEBUG] initialization mobilenet_thin : /home/MPLab/mplab006/tf_action_recognition/models/graph/mobilenet_thin/graph_opt.pb\n"
     ]
    },
    {
     "name": "stdout",
     "output_type": "stream",
     "text": [
      "video  v_PlayingTabla_g24_c04.avi  inferenced done.\n",
      "# of finished videos:  106\n",
      "# of finished directories:  7\n",
      "inferencing video:  v_PlayingTabla_g25_c01.avi  from  PlayingTabla  directory\n"
     ]
    },
    {
     "name": "stderr",
     "output_type": "stream",
     "text": [
      "[2018-07-27 15:54:58,405] [TfPoseEstimator-Video] [DEBUG] initialization mobilenet_thin : /home/MPLab/mplab006/tf_action_recognition/models/graph/mobilenet_thin/graph_opt.pb\n"
     ]
    },
    {
     "name": "stdout",
     "output_type": "stream",
     "text": [
      "video  v_PlayingTabla_g25_c01.avi  inferenced done.\n",
      "# of finished videos:  107\n",
      "# of finished directories:  7\n",
      "inferencing video:  v_PlayingTabla_g25_c02.avi  from  PlayingTabla  directory\n"
     ]
    },
    {
     "name": "stderr",
     "output_type": "stream",
     "text": [
      "[2018-07-27 15:54:59,236] [TfPoseEstimator-Video] [DEBUG] initialization mobilenet_thin : /home/MPLab/mplab006/tf_action_recognition/models/graph/mobilenet_thin/graph_opt.pb\n"
     ]
    },
    {
     "name": "stdout",
     "output_type": "stream",
     "text": [
      "video  v_PlayingTabla_g25_c02.avi  inferenced done.\n",
      "# of finished videos:  108\n",
      "# of finished directories:  7\n",
      "inferencing video:  v_PlayingTabla_g25_c03.avi  from  PlayingTabla  directory\n"
     ]
    },
    {
     "name": "stderr",
     "output_type": "stream",
     "text": [
      "[2018-07-27 15:55:00,079] [TfPoseEstimator-Video] [DEBUG] initialization mobilenet_thin : /home/MPLab/mplab006/tf_action_recognition/models/graph/mobilenet_thin/graph_opt.pb\n"
     ]
    },
    {
     "name": "stdout",
     "output_type": "stream",
     "text": [
      "video  v_PlayingTabla_g25_c03.avi  inferenced done.\n",
      "# of finished videos:  109\n",
      "# of finished directories:  7\n",
      "inferencing video:  v_PlayingTabla_g25_c04.avi  from  PlayingTabla  directory\n"
     ]
    },
    {
     "name": "stderr",
     "output_type": "stream",
     "text": [
      "[2018-07-27 15:55:00,913] [TfPoseEstimator-Video] [DEBUG] initialization mobilenet_thin : /home/MPLab/mplab006/tf_action_recognition/models/graph/mobilenet_thin/graph_opt.pb\n"
     ]
    },
    {
     "name": "stdout",
     "output_type": "stream",
     "text": [
      "video  v_PlayingTabla_g25_c04.avi  inferenced done.\n",
      "# of finished videos:  110\n",
      "# of finished directories:  7\n",
      "inferencing video:  v_PlayingTabla_g25_c05.avi  from  PlayingTabla  directory\n"
     ]
    },
    {
     "name": "stderr",
     "output_type": "stream",
     "text": [
      "[2018-07-27 15:55:01,762] [TfPoseEstimator-Video] [DEBUG] initialization mobilenet_thin : /home/MPLab/mplab006/tf_action_recognition/models/graph/mobilenet_thin/graph_opt.pb\n"
     ]
    },
    {
     "name": "stdout",
     "output_type": "stream",
     "text": [
      "video  v_PlayingTabla_g25_c05.avi  inferenced done.\n",
      "# of finished videos:  111\n",
      "# of finished directories:  7\n",
      "inferencing video:  v_PlayingViolin_g01_c01.avi  from  PlayingViolin  directory\n"
     ]
    },
    {
     "name": "stderr",
     "output_type": "stream",
     "text": [
      "[2018-07-27 15:55:02,590] [TfPoseEstimator-Video] [DEBUG] initialization mobilenet_thin : /home/MPLab/mplab006/tf_action_recognition/models/graph/mobilenet_thin/graph_opt.pb\n"
     ]
    },
    {
     "name": "stdout",
     "output_type": "stream",
     "text": [
      "video  v_PlayingViolin_g01_c01.avi  inferenced done.\n",
      "# of finished videos:  1\n",
      "# of finished directories:  8\n",
      "inferencing video:  v_PlayingViolin_g01_c02.avi  from  PlayingViolin  directory\n"
     ]
    },
    {
     "name": "stderr",
     "output_type": "stream",
     "text": [
      "[2018-07-27 15:55:03,460] [TfPoseEstimator-Video] [DEBUG] initialization mobilenet_thin : /home/MPLab/mplab006/tf_action_recognition/models/graph/mobilenet_thin/graph_opt.pb\n"
     ]
    },
    {
     "name": "stdout",
     "output_type": "stream",
     "text": [
      "video  v_PlayingViolin_g01_c02.avi  inferenced done.\n",
      "# of finished videos:  2\n",
      "# of finished directories:  8\n",
      "inferencing video:  v_PlayingViolin_g01_c03.avi  from  PlayingViolin  directory\n"
     ]
    },
    {
     "name": "stderr",
     "output_type": "stream",
     "text": [
      "[2018-07-27 15:55:04,296] [TfPoseEstimator-Video] [DEBUG] initialization mobilenet_thin : /home/MPLab/mplab006/tf_action_recognition/models/graph/mobilenet_thin/graph_opt.pb\n"
     ]
    },
    {
     "name": "stdout",
     "output_type": "stream",
     "text": [
      "video  v_PlayingViolin_g01_c03.avi  inferenced done.\n",
      "# of finished videos:  3\n",
      "# of finished directories:  8\n",
      "inferencing video:  v_PlayingViolin_g01_c04.avi  from  PlayingViolin  directory\n"
     ]
    },
    {
     "name": "stderr",
     "output_type": "stream",
     "text": [
      "[2018-07-27 15:55:05,135] [TfPoseEstimator-Video] [DEBUG] initialization mobilenet_thin : /home/MPLab/mplab006/tf_action_recognition/models/graph/mobilenet_thin/graph_opt.pb\n"
     ]
    },
    {
     "name": "stdout",
     "output_type": "stream",
     "text": [
      "video  v_PlayingViolin_g01_c04.avi  inferenced done.\n",
      "# of finished videos:  4\n",
      "# of finished directories:  8\n",
      "inferencing video:  v_PlayingViolin_g02_c01.avi  from  PlayingViolin  directory\n"
     ]
    },
    {
     "name": "stderr",
     "output_type": "stream",
     "text": [
      "[2018-07-27 15:55:06,029] [TfPoseEstimator-Video] [DEBUG] initialization mobilenet_thin : /home/MPLab/mplab006/tf_action_recognition/models/graph/mobilenet_thin/graph_opt.pb\n"
     ]
    },
    {
     "name": "stdout",
     "output_type": "stream",
     "text": [
      "video  v_PlayingViolin_g02_c01.avi  inferenced done.\n",
      "# of finished videos:  5\n",
      "# of finished directories:  8\n",
      "inferencing video:  v_PlayingViolin_g02_c02.avi  from  PlayingViolin  directory\n"
     ]
    },
    {
     "name": "stderr",
     "output_type": "stream",
     "text": [
      "[2018-07-27 15:55:06,923] [TfPoseEstimator-Video] [DEBUG] initialization mobilenet_thin : /home/MPLab/mplab006/tf_action_recognition/models/graph/mobilenet_thin/graph_opt.pb\n"
     ]
    },
    {
     "name": "stdout",
     "output_type": "stream",
     "text": [
      "video  v_PlayingViolin_g02_c02.avi  inferenced done.\n",
      "# of finished videos:  6\n",
      "# of finished directories:  8\n",
      "inferencing video:  v_PlayingViolin_g02_c03.avi  from  PlayingViolin  directory\n"
     ]
    },
    {
     "name": "stderr",
     "output_type": "stream",
     "text": [
      "[2018-07-27 15:55:07,814] [TfPoseEstimator-Video] [DEBUG] initialization mobilenet_thin : /home/MPLab/mplab006/tf_action_recognition/models/graph/mobilenet_thin/graph_opt.pb\n"
     ]
    },
    {
     "name": "stdout",
     "output_type": "stream",
     "text": [
      "video  v_PlayingViolin_g02_c03.avi  inferenced done.\n",
      "# of finished videos:  7\n",
      "# of finished directories:  8\n",
      "inferencing video:  v_PlayingViolin_g02_c04.avi  from  PlayingViolin  directory\n"
     ]
    },
    {
     "name": "stderr",
     "output_type": "stream",
     "text": [
      "[2018-07-27 15:55:08,673] [TfPoseEstimator-Video] [DEBUG] initialization mobilenet_thin : /home/MPLab/mplab006/tf_action_recognition/models/graph/mobilenet_thin/graph_opt.pb\n"
     ]
    },
    {
     "name": "stdout",
     "output_type": "stream",
     "text": [
      "video  v_PlayingViolin_g02_c04.avi  inferenced done.\n",
      "# of finished videos:  8\n",
      "# of finished directories:  8\n",
      "inferencing video:  v_PlayingViolin_g03_c01.avi  from  PlayingViolin  directory\n"
     ]
    },
    {
     "name": "stderr",
     "output_type": "stream",
     "text": [
      "[2018-07-27 15:55:09,531] [TfPoseEstimator-Video] [DEBUG] initialization mobilenet_thin : /home/MPLab/mplab006/tf_action_recognition/models/graph/mobilenet_thin/graph_opt.pb\n"
     ]
    },
    {
     "name": "stdout",
     "output_type": "stream",
     "text": [
      "video  v_PlayingViolin_g03_c01.avi  inferenced done.\n",
      "# of finished videos:  9\n",
      "# of finished directories:  8\n",
      "inferencing video:  v_PlayingViolin_g03_c02.avi  from  PlayingViolin  directory\n"
     ]
    },
    {
     "name": "stderr",
     "output_type": "stream",
     "text": [
      "[2018-07-27 15:55:10,395] [TfPoseEstimator-Video] [DEBUG] initialization mobilenet_thin : /home/MPLab/mplab006/tf_action_recognition/models/graph/mobilenet_thin/graph_opt.pb\n"
     ]
    },
    {
     "name": "stdout",
     "output_type": "stream",
     "text": [
      "video  v_PlayingViolin_g03_c02.avi  inferenced done.\n",
      "# of finished videos:  10\n",
      "# of finished directories:  8\n",
      "inferencing video:  v_PlayingViolin_g03_c03.avi  from  PlayingViolin  directory\n"
     ]
    },
    {
     "name": "stderr",
     "output_type": "stream",
     "text": [
      "[2018-07-27 15:55:11,266] [TfPoseEstimator-Video] [DEBUG] initialization mobilenet_thin : /home/MPLab/mplab006/tf_action_recognition/models/graph/mobilenet_thin/graph_opt.pb\n"
     ]
    },
    {
     "name": "stdout",
     "output_type": "stream",
     "text": [
      "video  v_PlayingViolin_g03_c03.avi  inferenced done.\n",
      "# of finished videos:  11\n",
      "# of finished directories:  8\n",
      "inferencing video:  v_PlayingViolin_g03_c04.avi  from  PlayingViolin  directory\n"
     ]
    },
    {
     "name": "stderr",
     "output_type": "stream",
     "text": [
      "[2018-07-27 15:55:12,139] [TfPoseEstimator-Video] [DEBUG] initialization mobilenet_thin : /home/MPLab/mplab006/tf_action_recognition/models/graph/mobilenet_thin/graph_opt.pb\n"
     ]
    },
    {
     "name": "stdout",
     "output_type": "stream",
     "text": [
      "video  v_PlayingViolin_g03_c04.avi  inferenced done.\n",
      "# of finished videos:  12\n",
      "# of finished directories:  8\n",
      "inferencing video:  v_PlayingViolin_g04_c01.avi  from  PlayingViolin  directory\n"
     ]
    },
    {
     "name": "stderr",
     "output_type": "stream",
     "text": [
      "[2018-07-27 15:55:12,984] [TfPoseEstimator-Video] [DEBUG] initialization mobilenet_thin : /home/MPLab/mplab006/tf_action_recognition/models/graph/mobilenet_thin/graph_opt.pb\n"
     ]
    },
    {
     "name": "stdout",
     "output_type": "stream",
     "text": [
      "video  v_PlayingViolin_g04_c01.avi  inferenced done.\n",
      "# of finished videos:  13\n",
      "# of finished directories:  8\n",
      "inferencing video:  v_PlayingViolin_g04_c02.avi  from  PlayingViolin  directory\n"
     ]
    },
    {
     "name": "stderr",
     "output_type": "stream",
     "text": [
      "[2018-07-27 15:55:13,889] [TfPoseEstimator-Video] [DEBUG] initialization mobilenet_thin : /home/MPLab/mplab006/tf_action_recognition/models/graph/mobilenet_thin/graph_opt.pb\n"
     ]
    },
    {
     "name": "stdout",
     "output_type": "stream",
     "text": [
      "video  v_PlayingViolin_g04_c02.avi  inferenced done.\n",
      "# of finished videos:  14\n",
      "# of finished directories:  8\n",
      "inferencing video:  v_PlayingViolin_g04_c03.avi  from  PlayingViolin  directory\n"
     ]
    },
    {
     "name": "stderr",
     "output_type": "stream",
     "text": [
      "[2018-07-27 15:55:14,800] [TfPoseEstimator-Video] [DEBUG] initialization mobilenet_thin : /home/MPLab/mplab006/tf_action_recognition/models/graph/mobilenet_thin/graph_opt.pb\n"
     ]
    },
    {
     "name": "stdout",
     "output_type": "stream",
     "text": [
      "video  v_PlayingViolin_g04_c03.avi  inferenced done.\n",
      "# of finished videos:  15\n",
      "# of finished directories:  8\n",
      "inferencing video:  v_PlayingViolin_g04_c04.avi  from  PlayingViolin  directory\n"
     ]
    },
    {
     "name": "stderr",
     "output_type": "stream",
     "text": [
      "[2018-07-27 15:55:15,686] [TfPoseEstimator-Video] [DEBUG] initialization mobilenet_thin : /home/MPLab/mplab006/tf_action_recognition/models/graph/mobilenet_thin/graph_opt.pb\n"
     ]
    },
    {
     "name": "stdout",
     "output_type": "stream",
     "text": [
      "video  v_PlayingViolin_g04_c04.avi  inferenced done.\n",
      "# of finished videos:  16\n",
      "# of finished directories:  8\n",
      "inferencing video:  v_PlayingViolin_g05_c01.avi  from  PlayingViolin  directory\n"
     ]
    },
    {
     "name": "stderr",
     "output_type": "stream",
     "text": [
      "[2018-07-27 15:55:16,536] [TfPoseEstimator-Video] [DEBUG] initialization mobilenet_thin : /home/MPLab/mplab006/tf_action_recognition/models/graph/mobilenet_thin/graph_opt.pb\n"
     ]
    },
    {
     "name": "stdout",
     "output_type": "stream",
     "text": [
      "video  v_PlayingViolin_g05_c01.avi  inferenced done.\n",
      "# of finished videos:  17\n",
      "# of finished directories:  8\n",
      "inferencing video:  v_PlayingViolin_g05_c02.avi  from  PlayingViolin  directory\n"
     ]
    },
    {
     "name": "stderr",
     "output_type": "stream",
     "text": [
      "[2018-07-27 15:55:17,385] [TfPoseEstimator-Video] [DEBUG] initialization mobilenet_thin : /home/MPLab/mplab006/tf_action_recognition/models/graph/mobilenet_thin/graph_opt.pb\n"
     ]
    },
    {
     "name": "stdout",
     "output_type": "stream",
     "text": [
      "video  v_PlayingViolin_g05_c02.avi  inferenced done.\n",
      "# of finished videos:  18\n",
      "# of finished directories:  8\n",
      "inferencing video:  v_PlayingViolin_g05_c03.avi  from  PlayingViolin  directory\n"
     ]
    },
    {
     "name": "stderr",
     "output_type": "stream",
     "text": [
      "[2018-07-27 15:55:18,274] [TfPoseEstimator-Video] [DEBUG] initialization mobilenet_thin : /home/MPLab/mplab006/tf_action_recognition/models/graph/mobilenet_thin/graph_opt.pb\n"
     ]
    },
    {
     "name": "stdout",
     "output_type": "stream",
     "text": [
      "video  v_PlayingViolin_g05_c03.avi  inferenced done.\n",
      "# of finished videos:  19\n",
      "# of finished directories:  8\n",
      "inferencing video:  v_PlayingViolin_g05_c04.avi  from  PlayingViolin  directory\n"
     ]
    },
    {
     "name": "stderr",
     "output_type": "stream",
     "text": [
      "[2018-07-27 15:55:19,140] [TfPoseEstimator-Video] [DEBUG] initialization mobilenet_thin : /home/MPLab/mplab006/tf_action_recognition/models/graph/mobilenet_thin/graph_opt.pb\n"
     ]
    },
    {
     "name": "stdout",
     "output_type": "stream",
     "text": [
      "video  v_PlayingViolin_g05_c04.avi  inferenced done.\n",
      "# of finished videos:  20\n",
      "# of finished directories:  8\n",
      "inferencing video:  v_PlayingViolin_g06_c01.avi  from  PlayingViolin  directory\n"
     ]
    },
    {
     "name": "stderr",
     "output_type": "stream",
     "text": [
      "[2018-07-27 15:55:20,029] [TfPoseEstimator-Video] [DEBUG] initialization mobilenet_thin : /home/MPLab/mplab006/tf_action_recognition/models/graph/mobilenet_thin/graph_opt.pb\n"
     ]
    },
    {
     "name": "stdout",
     "output_type": "stream",
     "text": [
      "video  v_PlayingViolin_g06_c01.avi  inferenced done.\n",
      "# of finished videos:  21\n",
      "# of finished directories:  8\n",
      "inferencing video:  v_PlayingViolin_g06_c02.avi  from  PlayingViolin  directory\n"
     ]
    },
    {
     "name": "stderr",
     "output_type": "stream",
     "text": [
      "[2018-07-27 15:55:20,872] [TfPoseEstimator-Video] [DEBUG] initialization mobilenet_thin : /home/MPLab/mplab006/tf_action_recognition/models/graph/mobilenet_thin/graph_opt.pb\n"
     ]
    },
    {
     "name": "stdout",
     "output_type": "stream",
     "text": [
      "video  v_PlayingViolin_g06_c02.avi  inferenced done.\n",
      "# of finished videos:  22\n",
      "# of finished directories:  8\n",
      "inferencing video:  v_PlayingViolin_g06_c03.avi  from  PlayingViolin  directory\n"
     ]
    },
    {
     "name": "stderr",
     "output_type": "stream",
     "text": [
      "[2018-07-27 15:55:21,770] [TfPoseEstimator-Video] [DEBUG] initialization mobilenet_thin : /home/MPLab/mplab006/tf_action_recognition/models/graph/mobilenet_thin/graph_opt.pb\n"
     ]
    },
    {
     "name": "stdout",
     "output_type": "stream",
     "text": [
      "video  v_PlayingViolin_g06_c03.avi  inferenced done.\n",
      "# of finished videos:  23\n",
      "# of finished directories:  8\n",
      "inferencing video:  v_PlayingViolin_g06_c04.avi  from  PlayingViolin  directory\n"
     ]
    },
    {
     "name": "stderr",
     "output_type": "stream",
     "text": [
      "[2018-07-27 15:55:22,666] [TfPoseEstimator-Video] [DEBUG] initialization mobilenet_thin : /home/MPLab/mplab006/tf_action_recognition/models/graph/mobilenet_thin/graph_opt.pb\n"
     ]
    },
    {
     "name": "stdout",
     "output_type": "stream",
     "text": [
      "video  v_PlayingViolin_g06_c04.avi  inferenced done.\n",
      "# of finished videos:  24\n",
      "# of finished directories:  8\n",
      "inferencing video:  v_PlayingViolin_g07_c01.avi  from  PlayingViolin  directory\n"
     ]
    },
    {
     "name": "stderr",
     "output_type": "stream",
     "text": [
      "[2018-07-27 15:55:23,531] [TfPoseEstimator-Video] [DEBUG] initialization mobilenet_thin : /home/MPLab/mplab006/tf_action_recognition/models/graph/mobilenet_thin/graph_opt.pb\n"
     ]
    },
    {
     "name": "stdout",
     "output_type": "stream",
     "text": [
      "video  v_PlayingViolin_g07_c01.avi  inferenced done.\n",
      "# of finished videos:  25\n",
      "# of finished directories:  8\n",
      "inferencing video:  v_PlayingViolin_g07_c02.avi  from  PlayingViolin  directory\n"
     ]
    },
    {
     "name": "stderr",
     "output_type": "stream",
     "text": [
      "[2018-07-27 15:55:24,422] [TfPoseEstimator-Video] [DEBUG] initialization mobilenet_thin : /home/MPLab/mplab006/tf_action_recognition/models/graph/mobilenet_thin/graph_opt.pb\n"
     ]
    },
    {
     "name": "stdout",
     "output_type": "stream",
     "text": [
      "video  v_PlayingViolin_g07_c02.avi  inferenced done.\n",
      "# of finished videos:  26\n",
      "# of finished directories:  8\n",
      "inferencing video:  v_PlayingViolin_g07_c03.avi  from  PlayingViolin  directory\n"
     ]
    },
    {
     "name": "stderr",
     "output_type": "stream",
     "text": [
      "[2018-07-27 15:55:25,282] [TfPoseEstimator-Video] [DEBUG] initialization mobilenet_thin : /home/MPLab/mplab006/tf_action_recognition/models/graph/mobilenet_thin/graph_opt.pb\n"
     ]
    },
    {
     "name": "stdout",
     "output_type": "stream",
     "text": [
      "video  v_PlayingViolin_g07_c03.avi  inferenced done.\n",
      "# of finished videos:  27\n",
      "# of finished directories:  8\n",
      "inferencing video:  v_PlayingViolin_g07_c04.avi  from  PlayingViolin  directory\n"
     ]
    },
    {
     "name": "stderr",
     "output_type": "stream",
     "text": [
      "[2018-07-27 15:55:26,166] [TfPoseEstimator-Video] [DEBUG] initialization mobilenet_thin : /home/MPLab/mplab006/tf_action_recognition/models/graph/mobilenet_thin/graph_opt.pb\n"
     ]
    },
    {
     "name": "stdout",
     "output_type": "stream",
     "text": [
      "video  v_PlayingViolin_g07_c04.avi  inferenced done.\n",
      "# of finished videos:  28\n",
      "# of finished directories:  8\n",
      "inferencing video:  v_PlayingViolin_g08_c01.avi  from  PlayingViolin  directory\n"
     ]
    },
    {
     "name": "stderr",
     "output_type": "stream",
     "text": [
      "[2018-07-27 15:55:27,020] [TfPoseEstimator-Video] [DEBUG] initialization mobilenet_thin : /home/MPLab/mplab006/tf_action_recognition/models/graph/mobilenet_thin/graph_opt.pb\n"
     ]
    },
    {
     "name": "stdout",
     "output_type": "stream",
     "text": [
      "video  v_PlayingViolin_g08_c01.avi  inferenced done.\n",
      "# of finished videos:  29\n",
      "# of finished directories:  8\n",
      "inferencing video:  v_PlayingViolin_g08_c02.avi  from  PlayingViolin  directory\n"
     ]
    },
    {
     "name": "stderr",
     "output_type": "stream",
     "text": [
      "[2018-07-27 15:55:27,921] [TfPoseEstimator-Video] [DEBUG] initialization mobilenet_thin : /home/MPLab/mplab006/tf_action_recognition/models/graph/mobilenet_thin/graph_opt.pb\n"
     ]
    },
    {
     "name": "stdout",
     "output_type": "stream",
     "text": [
      "video  v_PlayingViolin_g08_c02.avi  inferenced done.\n",
      "# of finished videos:  30\n",
      "# of finished directories:  8\n",
      "inferencing video:  v_PlayingViolin_g08_c03.avi  from  PlayingViolin  directory\n"
     ]
    },
    {
     "name": "stderr",
     "output_type": "stream",
     "text": [
      "[2018-07-27 15:55:28,786] [TfPoseEstimator-Video] [DEBUG] initialization mobilenet_thin : /home/MPLab/mplab006/tf_action_recognition/models/graph/mobilenet_thin/graph_opt.pb\n"
     ]
    },
    {
     "name": "stdout",
     "output_type": "stream",
     "text": [
      "video  v_PlayingViolin_g08_c03.avi  inferenced done.\n",
      "# of finished videos:  31\n",
      "# of finished directories:  8\n",
      "inferencing video:  v_PlayingViolin_g08_c04.avi  from  PlayingViolin  directory\n"
     ]
    },
    {
     "name": "stderr",
     "output_type": "stream",
     "text": [
      "[2018-07-27 15:55:29,619] [TfPoseEstimator-Video] [DEBUG] initialization mobilenet_thin : /home/MPLab/mplab006/tf_action_recognition/models/graph/mobilenet_thin/graph_opt.pb\n"
     ]
    },
    {
     "name": "stdout",
     "output_type": "stream",
     "text": [
      "video  v_PlayingViolin_g08_c04.avi  inferenced done.\n",
      "# of finished videos:  32\n",
      "# of finished directories:  8\n",
      "inferencing video:  v_PlayingViolin_g09_c01.avi  from  PlayingViolin  directory\n"
     ]
    },
    {
     "name": "stderr",
     "output_type": "stream",
     "text": [
      "[2018-07-27 15:55:30,479] [TfPoseEstimator-Video] [DEBUG] initialization mobilenet_thin : /home/MPLab/mplab006/tf_action_recognition/models/graph/mobilenet_thin/graph_opt.pb\n"
     ]
    },
    {
     "name": "stdout",
     "output_type": "stream",
     "text": [
      "video  v_PlayingViolin_g09_c01.avi  inferenced done.\n",
      "# of finished videos:  33\n",
      "# of finished directories:  8\n",
      "inferencing video:  v_PlayingViolin_g09_c02.avi  from  PlayingViolin  directory\n"
     ]
    },
    {
     "name": "stderr",
     "output_type": "stream",
     "text": [
      "[2018-07-27 15:55:31,348] [TfPoseEstimator-Video] [DEBUG] initialization mobilenet_thin : /home/MPLab/mplab006/tf_action_recognition/models/graph/mobilenet_thin/graph_opt.pb\n"
     ]
    },
    {
     "name": "stdout",
     "output_type": "stream",
     "text": [
      "video  v_PlayingViolin_g09_c02.avi  inferenced done.\n",
      "# of finished videos:  34\n",
      "# of finished directories:  8\n",
      "inferencing video:  v_PlayingViolin_g09_c03.avi  from  PlayingViolin  directory\n"
     ]
    },
    {
     "name": "stderr",
     "output_type": "stream",
     "text": [
      "[2018-07-27 15:55:32,221] [TfPoseEstimator-Video] [DEBUG] initialization mobilenet_thin : /home/MPLab/mplab006/tf_action_recognition/models/graph/mobilenet_thin/graph_opt.pb\n"
     ]
    },
    {
     "name": "stdout",
     "output_type": "stream",
     "text": [
      "video  v_PlayingViolin_g09_c03.avi  inferenced done.\n",
      "# of finished videos:  35\n",
      "# of finished directories:  8\n",
      "inferencing video:  v_PlayingViolin_g09_c04.avi  from  PlayingViolin  directory\n"
     ]
    },
    {
     "name": "stderr",
     "output_type": "stream",
     "text": [
      "[2018-07-27 15:55:33,119] [TfPoseEstimator-Video] [DEBUG] initialization mobilenet_thin : /home/MPLab/mplab006/tf_action_recognition/models/graph/mobilenet_thin/graph_opt.pb\n"
     ]
    },
    {
     "name": "stdout",
     "output_type": "stream",
     "text": [
      "video  v_PlayingViolin_g09_c04.avi  inferenced done.\n",
      "# of finished videos:  36\n",
      "# of finished directories:  8\n",
      "inferencing video:  v_PlayingViolin_g10_c01.avi  from  PlayingViolin  directory\n"
     ]
    },
    {
     "name": "stderr",
     "output_type": "stream",
     "text": [
      "[2018-07-27 15:55:34,028] [TfPoseEstimator-Video] [DEBUG] initialization mobilenet_thin : /home/MPLab/mplab006/tf_action_recognition/models/graph/mobilenet_thin/graph_opt.pb\n"
     ]
    },
    {
     "name": "stdout",
     "output_type": "stream",
     "text": [
      "video  v_PlayingViolin_g10_c01.avi  inferenced done.\n",
      "# of finished videos:  37\n",
      "# of finished directories:  8\n",
      "inferencing video:  v_PlayingViolin_g10_c02.avi  from  PlayingViolin  directory\n"
     ]
    },
    {
     "name": "stderr",
     "output_type": "stream",
     "text": [
      "[2018-07-27 15:55:34,900] [TfPoseEstimator-Video] [DEBUG] initialization mobilenet_thin : /home/MPLab/mplab006/tf_action_recognition/models/graph/mobilenet_thin/graph_opt.pb\n"
     ]
    },
    {
     "name": "stdout",
     "output_type": "stream",
     "text": [
      "video  v_PlayingViolin_g10_c02.avi  inferenced done.\n",
      "# of finished videos:  38\n",
      "# of finished directories:  8\n",
      "inferencing video:  v_PlayingViolin_g10_c03.avi  from  PlayingViolin  directory\n"
     ]
    },
    {
     "name": "stderr",
     "output_type": "stream",
     "text": [
      "[2018-07-27 15:55:35,742] [TfPoseEstimator-Video] [DEBUG] initialization mobilenet_thin : /home/MPLab/mplab006/tf_action_recognition/models/graph/mobilenet_thin/graph_opt.pb\n"
     ]
    },
    {
     "name": "stdout",
     "output_type": "stream",
     "text": [
      "video  v_PlayingViolin_g10_c03.avi  inferenced done.\n",
      "# of finished videos:  39\n",
      "# of finished directories:  8\n",
      "inferencing video:  v_PlayingViolin_g10_c04.avi  from  PlayingViolin  directory\n"
     ]
    },
    {
     "name": "stderr",
     "output_type": "stream",
     "text": [
      "[2018-07-27 15:55:36,584] [TfPoseEstimator-Video] [DEBUG] initialization mobilenet_thin : /home/MPLab/mplab006/tf_action_recognition/models/graph/mobilenet_thin/graph_opt.pb\n"
     ]
    },
    {
     "name": "stdout",
     "output_type": "stream",
     "text": [
      "video  v_PlayingViolin_g10_c04.avi  inferenced done.\n",
      "# of finished videos:  40\n",
      "# of finished directories:  8\n",
      "inferencing video:  v_PlayingViolin_g11_c01.avi  from  PlayingViolin  directory\n"
     ]
    },
    {
     "name": "stderr",
     "output_type": "stream",
     "text": [
      "[2018-07-27 15:55:37,442] [TfPoseEstimator-Video] [DEBUG] initialization mobilenet_thin : /home/MPLab/mplab006/tf_action_recognition/models/graph/mobilenet_thin/graph_opt.pb\n"
     ]
    },
    {
     "name": "stdout",
     "output_type": "stream",
     "text": [
      "video  v_PlayingViolin_g11_c01.avi  inferenced done.\n",
      "# of finished videos:  41\n",
      "# of finished directories:  8\n",
      "inferencing video:  v_PlayingViolin_g11_c02.avi  from  PlayingViolin  directory\n"
     ]
    },
    {
     "name": "stderr",
     "output_type": "stream",
     "text": [
      "[2018-07-27 15:55:38,312] [TfPoseEstimator-Video] [DEBUG] initialization mobilenet_thin : /home/MPLab/mplab006/tf_action_recognition/models/graph/mobilenet_thin/graph_opt.pb\n"
     ]
    },
    {
     "name": "stdout",
     "output_type": "stream",
     "text": [
      "video  v_PlayingViolin_g11_c02.avi  inferenced done.\n",
      "# of finished videos:  42\n",
      "# of finished directories:  8\n",
      "inferencing video:  v_PlayingViolin_g11_c03.avi  from  PlayingViolin  directory\n"
     ]
    },
    {
     "name": "stderr",
     "output_type": "stream",
     "text": [
      "[2018-07-27 15:55:39,178] [TfPoseEstimator-Video] [DEBUG] initialization mobilenet_thin : /home/MPLab/mplab006/tf_action_recognition/models/graph/mobilenet_thin/graph_opt.pb\n"
     ]
    },
    {
     "name": "stdout",
     "output_type": "stream",
     "text": [
      "video  v_PlayingViolin_g11_c03.avi  inferenced done.\n",
      "# of finished videos:  43\n",
      "# of finished directories:  8\n",
      "inferencing video:  v_PlayingViolin_g11_c04.avi  from  PlayingViolin  directory\n"
     ]
    },
    {
     "name": "stderr",
     "output_type": "stream",
     "text": [
      "[2018-07-27 15:55:40,044] [TfPoseEstimator-Video] [DEBUG] initialization mobilenet_thin : /home/MPLab/mplab006/tf_action_recognition/models/graph/mobilenet_thin/graph_opt.pb\n"
     ]
    },
    {
     "name": "stdout",
     "output_type": "stream",
     "text": [
      "video  v_PlayingViolin_g11_c04.avi  inferenced done.\n",
      "# of finished videos:  44\n",
      "# of finished directories:  8\n",
      "inferencing video:  v_PlayingViolin_g12_c01.avi  from  PlayingViolin  directory\n"
     ]
    },
    {
     "name": "stderr",
     "output_type": "stream",
     "text": [
      "[2018-07-27 15:55:40,906] [TfPoseEstimator-Video] [DEBUG] initialization mobilenet_thin : /home/MPLab/mplab006/tf_action_recognition/models/graph/mobilenet_thin/graph_opt.pb\n"
     ]
    },
    {
     "name": "stdout",
     "output_type": "stream",
     "text": [
      "video  v_PlayingViolin_g12_c01.avi  inferenced done.\n",
      "# of finished videos:  45\n",
      "# of finished directories:  8\n",
      "inferencing video:  v_PlayingViolin_g12_c02.avi  from  PlayingViolin  directory\n"
     ]
    },
    {
     "name": "stderr",
     "output_type": "stream",
     "text": [
      "[2018-07-27 15:55:41,745] [TfPoseEstimator-Video] [DEBUG] initialization mobilenet_thin : /home/MPLab/mplab006/tf_action_recognition/models/graph/mobilenet_thin/graph_opt.pb\n"
     ]
    },
    {
     "name": "stdout",
     "output_type": "stream",
     "text": [
      "video  v_PlayingViolin_g12_c02.avi  inferenced done.\n",
      "# of finished videos:  46\n",
      "# of finished directories:  8\n",
      "inferencing video:  v_PlayingViolin_g12_c03.avi  from  PlayingViolin  directory\n"
     ]
    },
    {
     "name": "stderr",
     "output_type": "stream",
     "text": [
      "[2018-07-27 15:55:42,626] [TfPoseEstimator-Video] [DEBUG] initialization mobilenet_thin : /home/MPLab/mplab006/tf_action_recognition/models/graph/mobilenet_thin/graph_opt.pb\n"
     ]
    },
    {
     "name": "stdout",
     "output_type": "stream",
     "text": [
      "video  v_PlayingViolin_g12_c03.avi  inferenced done.\n",
      "# of finished videos:  47\n",
      "# of finished directories:  8\n",
      "inferencing video:  v_PlayingViolin_g12_c04.avi  from  PlayingViolin  directory\n"
     ]
    },
    {
     "name": "stderr",
     "output_type": "stream",
     "text": [
      "[2018-07-27 15:55:43,449] [TfPoseEstimator-Video] [DEBUG] initialization mobilenet_thin : /home/MPLab/mplab006/tf_action_recognition/models/graph/mobilenet_thin/graph_opt.pb\n"
     ]
    },
    {
     "name": "stdout",
     "output_type": "stream",
     "text": [
      "video  v_PlayingViolin_g12_c04.avi  inferenced done.\n",
      "# of finished videos:  48\n",
      "# of finished directories:  8\n",
      "inferencing video:  v_PlayingViolin_g13_c01.avi  from  PlayingViolin  directory\n"
     ]
    },
    {
     "name": "stderr",
     "output_type": "stream",
     "text": [
      "[2018-07-27 15:55:44,278] [TfPoseEstimator-Video] [DEBUG] initialization mobilenet_thin : /home/MPLab/mplab006/tf_action_recognition/models/graph/mobilenet_thin/graph_opt.pb\n"
     ]
    },
    {
     "name": "stdout",
     "output_type": "stream",
     "text": [
      "video  v_PlayingViolin_g13_c01.avi  inferenced done.\n",
      "# of finished videos:  49\n",
      "# of finished directories:  8\n",
      "inferencing video:  v_PlayingViolin_g13_c02.avi  from  PlayingViolin  directory\n"
     ]
    },
    {
     "name": "stderr",
     "output_type": "stream",
     "text": [
      "[2018-07-27 15:55:45,126] [TfPoseEstimator-Video] [DEBUG] initialization mobilenet_thin : /home/MPLab/mplab006/tf_action_recognition/models/graph/mobilenet_thin/graph_opt.pb\n"
     ]
    },
    {
     "name": "stdout",
     "output_type": "stream",
     "text": [
      "video  v_PlayingViolin_g13_c02.avi  inferenced done.\n",
      "# of finished videos:  50\n",
      "# of finished directories:  8\n",
      "inferencing video:  v_PlayingViolin_g13_c03.avi  from  PlayingViolin  directory\n"
     ]
    },
    {
     "name": "stderr",
     "output_type": "stream",
     "text": [
      "[2018-07-27 15:55:46,001] [TfPoseEstimator-Video] [DEBUG] initialization mobilenet_thin : /home/MPLab/mplab006/tf_action_recognition/models/graph/mobilenet_thin/graph_opt.pb\n"
     ]
    },
    {
     "name": "stdout",
     "output_type": "stream",
     "text": [
      "video  v_PlayingViolin_g13_c03.avi  inferenced done.\n",
      "# of finished videos:  51\n",
      "# of finished directories:  8\n",
      "inferencing video:  v_PlayingViolin_g13_c04.avi  from  PlayingViolin  directory\n"
     ]
    },
    {
     "name": "stderr",
     "output_type": "stream",
     "text": [
      "[2018-07-27 15:55:46,869] [TfPoseEstimator-Video] [DEBUG] initialization mobilenet_thin : /home/MPLab/mplab006/tf_action_recognition/models/graph/mobilenet_thin/graph_opt.pb\n"
     ]
    },
    {
     "name": "stdout",
     "output_type": "stream",
     "text": [
      "video  v_PlayingViolin_g13_c04.avi  inferenced done.\n",
      "# of finished videos:  52\n",
      "# of finished directories:  8\n",
      "inferencing video:  v_PlayingViolin_g14_c01.avi  from  PlayingViolin  directory\n"
     ]
    },
    {
     "name": "stderr",
     "output_type": "stream",
     "text": [
      "[2018-07-27 15:55:47,702] [TfPoseEstimator-Video] [DEBUG] initialization mobilenet_thin : /home/MPLab/mplab006/tf_action_recognition/models/graph/mobilenet_thin/graph_opt.pb\n"
     ]
    },
    {
     "name": "stdout",
     "output_type": "stream",
     "text": [
      "video  v_PlayingViolin_g14_c01.avi  inferenced done.\n",
      "# of finished videos:  53\n",
      "# of finished directories:  8\n",
      "inferencing video:  v_PlayingViolin_g14_c02.avi  from  PlayingViolin  directory\n"
     ]
    },
    {
     "name": "stderr",
     "output_type": "stream",
     "text": [
      "[2018-07-27 15:55:48,627] [TfPoseEstimator-Video] [DEBUG] initialization mobilenet_thin : /home/MPLab/mplab006/tf_action_recognition/models/graph/mobilenet_thin/graph_opt.pb\n"
     ]
    },
    {
     "name": "stdout",
     "output_type": "stream",
     "text": [
      "video  v_PlayingViolin_g14_c02.avi  inferenced done.\n",
      "# of finished videos:  54\n",
      "# of finished directories:  8\n",
      "inferencing video:  v_PlayingViolin_g14_c03.avi  from  PlayingViolin  directory\n"
     ]
    },
    {
     "name": "stderr",
     "output_type": "stream",
     "text": [
      "[2018-07-27 15:55:49,522] [TfPoseEstimator-Video] [DEBUG] initialization mobilenet_thin : /home/MPLab/mplab006/tf_action_recognition/models/graph/mobilenet_thin/graph_opt.pb\n"
     ]
    },
    {
     "name": "stdout",
     "output_type": "stream",
     "text": [
      "video  v_PlayingViolin_g14_c03.avi  inferenced done.\n",
      "# of finished videos:  55\n",
      "# of finished directories:  8\n",
      "inferencing video:  v_PlayingViolin_g14_c04.avi  from  PlayingViolin  directory\n"
     ]
    },
    {
     "name": "stderr",
     "output_type": "stream",
     "text": [
      "[2018-07-27 15:55:50,402] [TfPoseEstimator-Video] [DEBUG] initialization mobilenet_thin : /home/MPLab/mplab006/tf_action_recognition/models/graph/mobilenet_thin/graph_opt.pb\n"
     ]
    },
    {
     "name": "stdout",
     "output_type": "stream",
     "text": [
      "video  v_PlayingViolin_g14_c04.avi  inferenced done.\n",
      "# of finished videos:  56\n",
      "# of finished directories:  8\n",
      "inferencing video:  v_PlayingViolin_g15_c01.avi  from  PlayingViolin  directory\n"
     ]
    },
    {
     "name": "stderr",
     "output_type": "stream",
     "text": [
      "[2018-07-27 15:55:51,319] [TfPoseEstimator-Video] [DEBUG] initialization mobilenet_thin : /home/MPLab/mplab006/tf_action_recognition/models/graph/mobilenet_thin/graph_opt.pb\n"
     ]
    },
    {
     "name": "stdout",
     "output_type": "stream",
     "text": [
      "video  v_PlayingViolin_g15_c01.avi  inferenced done.\n",
      "# of finished videos:  57\n",
      "# of finished directories:  8\n",
      "inferencing video:  v_PlayingViolin_g15_c02.avi  from  PlayingViolin  directory\n"
     ]
    },
    {
     "name": "stderr",
     "output_type": "stream",
     "text": [
      "[2018-07-27 15:55:52,191] [TfPoseEstimator-Video] [DEBUG] initialization mobilenet_thin : /home/MPLab/mplab006/tf_action_recognition/models/graph/mobilenet_thin/graph_opt.pb\n"
     ]
    },
    {
     "name": "stdout",
     "output_type": "stream",
     "text": [
      "video  v_PlayingViolin_g15_c02.avi  inferenced done.\n",
      "# of finished videos:  58\n",
      "# of finished directories:  8\n",
      "inferencing video:  v_PlayingViolin_g15_c03.avi  from  PlayingViolin  directory\n"
     ]
    },
    {
     "name": "stderr",
     "output_type": "stream",
     "text": [
      "[2018-07-27 15:55:53,051] [TfPoseEstimator-Video] [DEBUG] initialization mobilenet_thin : /home/MPLab/mplab006/tf_action_recognition/models/graph/mobilenet_thin/graph_opt.pb\n"
     ]
    },
    {
     "name": "stdout",
     "output_type": "stream",
     "text": [
      "video  v_PlayingViolin_g15_c03.avi  inferenced done.\n",
      "# of finished videos:  59\n",
      "# of finished directories:  8\n",
      "inferencing video:  v_PlayingViolin_g15_c04.avi  from  PlayingViolin  directory\n"
     ]
    },
    {
     "name": "stderr",
     "output_type": "stream",
     "text": [
      "[2018-07-27 15:55:53,920] [TfPoseEstimator-Video] [DEBUG] initialization mobilenet_thin : /home/MPLab/mplab006/tf_action_recognition/models/graph/mobilenet_thin/graph_opt.pb\n"
     ]
    },
    {
     "name": "stdout",
     "output_type": "stream",
     "text": [
      "video  v_PlayingViolin_g15_c04.avi  inferenced done.\n",
      "# of finished videos:  60\n",
      "# of finished directories:  8\n",
      "inferencing video:  v_PlayingViolin_g16_c01.avi  from  PlayingViolin  directory\n"
     ]
    },
    {
     "name": "stderr",
     "output_type": "stream",
     "text": [
      "[2018-07-27 15:55:54,813] [TfPoseEstimator-Video] [DEBUG] initialization mobilenet_thin : /home/MPLab/mplab006/tf_action_recognition/models/graph/mobilenet_thin/graph_opt.pb\n"
     ]
    },
    {
     "name": "stdout",
     "output_type": "stream",
     "text": [
      "video  v_PlayingViolin_g16_c01.avi  inferenced done.\n",
      "# of finished videos:  61\n",
      "# of finished directories:  8\n",
      "inferencing video:  v_PlayingViolin_g16_c02.avi  from  PlayingViolin  directory\n"
     ]
    },
    {
     "name": "stderr",
     "output_type": "stream",
     "text": [
      "[2018-07-27 15:55:55,649] [TfPoseEstimator-Video] [DEBUG] initialization mobilenet_thin : /home/MPLab/mplab006/tf_action_recognition/models/graph/mobilenet_thin/graph_opt.pb\n"
     ]
    },
    {
     "name": "stdout",
     "output_type": "stream",
     "text": [
      "video  v_PlayingViolin_g16_c02.avi  inferenced done.\n",
      "# of finished videos:  62\n",
      "# of finished directories:  8\n",
      "inferencing video:  v_PlayingViolin_g16_c03.avi  from  PlayingViolin  directory\n"
     ]
    },
    {
     "name": "stderr",
     "output_type": "stream",
     "text": [
      "[2018-07-27 15:55:56,494] [TfPoseEstimator-Video] [DEBUG] initialization mobilenet_thin : /home/MPLab/mplab006/tf_action_recognition/models/graph/mobilenet_thin/graph_opt.pb\n"
     ]
    },
    {
     "name": "stdout",
     "output_type": "stream",
     "text": [
      "video  v_PlayingViolin_g16_c03.avi  inferenced done.\n",
      "# of finished videos:  63\n",
      "# of finished directories:  8\n",
      "inferencing video:  v_PlayingViolin_g16_c04.avi  from  PlayingViolin  directory\n"
     ]
    },
    {
     "name": "stderr",
     "output_type": "stream",
     "text": [
      "[2018-07-27 15:55:57,348] [TfPoseEstimator-Video] [DEBUG] initialization mobilenet_thin : /home/MPLab/mplab006/tf_action_recognition/models/graph/mobilenet_thin/graph_opt.pb\n"
     ]
    },
    {
     "name": "stdout",
     "output_type": "stream",
     "text": [
      "video  v_PlayingViolin_g16_c04.avi  inferenced done.\n",
      "# of finished videos:  64\n",
      "# of finished directories:  8\n",
      "inferencing video:  v_PlayingViolin_g17_c01.avi  from  PlayingViolin  directory\n"
     ]
    },
    {
     "name": "stderr",
     "output_type": "stream",
     "text": [
      "[2018-07-27 15:55:58,214] [TfPoseEstimator-Video] [DEBUG] initialization mobilenet_thin : /home/MPLab/mplab006/tf_action_recognition/models/graph/mobilenet_thin/graph_opt.pb\n"
     ]
    },
    {
     "name": "stdout",
     "output_type": "stream",
     "text": [
      "video  v_PlayingViolin_g17_c01.avi  inferenced done.\n",
      "# of finished videos:  65\n",
      "# of finished directories:  8\n",
      "inferencing video:  v_PlayingViolin_g17_c02.avi  from  PlayingViolin  directory\n"
     ]
    },
    {
     "name": "stderr",
     "output_type": "stream",
     "text": [
      "[2018-07-27 15:55:59,048] [TfPoseEstimator-Video] [DEBUG] initialization mobilenet_thin : /home/MPLab/mplab006/tf_action_recognition/models/graph/mobilenet_thin/graph_opt.pb\n"
     ]
    },
    {
     "name": "stdout",
     "output_type": "stream",
     "text": [
      "video  v_PlayingViolin_g17_c02.avi  inferenced done.\n",
      "# of finished videos:  66\n",
      "# of finished directories:  8\n",
      "inferencing video:  v_PlayingViolin_g17_c03.avi  from  PlayingViolin  directory\n"
     ]
    },
    {
     "name": "stderr",
     "output_type": "stream",
     "text": [
      "[2018-07-27 15:55:59,925] [TfPoseEstimator-Video] [DEBUG] initialization mobilenet_thin : /home/MPLab/mplab006/tf_action_recognition/models/graph/mobilenet_thin/graph_opt.pb\n"
     ]
    },
    {
     "name": "stdout",
     "output_type": "stream",
     "text": [
      "video  v_PlayingViolin_g17_c03.avi  inferenced done.\n",
      "# of finished videos:  67\n",
      "# of finished directories:  8\n",
      "inferencing video:  v_PlayingViolin_g17_c04.avi  from  PlayingViolin  directory\n"
     ]
    },
    {
     "name": "stderr",
     "output_type": "stream",
     "text": [
      "[2018-07-27 15:56:00,749] [TfPoseEstimator-Video] [DEBUG] initialization mobilenet_thin : /home/MPLab/mplab006/tf_action_recognition/models/graph/mobilenet_thin/graph_opt.pb\n"
     ]
    },
    {
     "name": "stdout",
     "output_type": "stream",
     "text": [
      "video  v_PlayingViolin_g17_c04.avi  inferenced done.\n",
      "# of finished videos:  68\n",
      "# of finished directories:  8\n",
      "inferencing video:  v_PlayingViolin_g18_c01.avi  from  PlayingViolin  directory\n"
     ]
    },
    {
     "name": "stderr",
     "output_type": "stream",
     "text": [
      "[2018-07-27 15:56:01,604] [TfPoseEstimator-Video] [DEBUG] initialization mobilenet_thin : /home/MPLab/mplab006/tf_action_recognition/models/graph/mobilenet_thin/graph_opt.pb\n"
     ]
    },
    {
     "name": "stdout",
     "output_type": "stream",
     "text": [
      "video  v_PlayingViolin_g18_c01.avi  inferenced done.\n",
      "# of finished videos:  69\n",
      "# of finished directories:  8\n",
      "inferencing video:  v_PlayingViolin_g18_c02.avi  from  PlayingViolin  directory\n"
     ]
    },
    {
     "name": "stderr",
     "output_type": "stream",
     "text": [
      "[2018-07-27 15:56:02,490] [TfPoseEstimator-Video] [DEBUG] initialization mobilenet_thin : /home/MPLab/mplab006/tf_action_recognition/models/graph/mobilenet_thin/graph_opt.pb\n"
     ]
    },
    {
     "name": "stdout",
     "output_type": "stream",
     "text": [
      "video  v_PlayingViolin_g18_c02.avi  inferenced done.\n",
      "# of finished videos:  70\n",
      "# of finished directories:  8\n",
      "inferencing video:  v_PlayingViolin_g18_c03.avi  from  PlayingViolin  directory\n"
     ]
    },
    {
     "name": "stderr",
     "output_type": "stream",
     "text": [
      "[2018-07-27 15:56:03,342] [TfPoseEstimator-Video] [DEBUG] initialization mobilenet_thin : /home/MPLab/mplab006/tf_action_recognition/models/graph/mobilenet_thin/graph_opt.pb\n"
     ]
    },
    {
     "name": "stdout",
     "output_type": "stream",
     "text": [
      "video  v_PlayingViolin_g18_c03.avi  inferenced done.\n",
      "# of finished videos:  71\n",
      "# of finished directories:  8\n",
      "inferencing video:  v_PlayingViolin_g18_c04.avi  from  PlayingViolin  directory\n"
     ]
    },
    {
     "name": "stderr",
     "output_type": "stream",
     "text": [
      "[2018-07-27 15:56:04,185] [TfPoseEstimator-Video] [DEBUG] initialization mobilenet_thin : /home/MPLab/mplab006/tf_action_recognition/models/graph/mobilenet_thin/graph_opt.pb\n"
     ]
    },
    {
     "name": "stdout",
     "output_type": "stream",
     "text": [
      "video  v_PlayingViolin_g18_c04.avi  inferenced done.\n",
      "# of finished videos:  72\n",
      "# of finished directories:  8\n",
      "inferencing video:  v_PlayingViolin_g19_c01.avi  from  PlayingViolin  directory\n"
     ]
    },
    {
     "name": "stderr",
     "output_type": "stream",
     "text": [
      "[2018-07-27 15:56:05,068] [TfPoseEstimator-Video] [DEBUG] initialization mobilenet_thin : /home/MPLab/mplab006/tf_action_recognition/models/graph/mobilenet_thin/graph_opt.pb\n"
     ]
    },
    {
     "name": "stdout",
     "output_type": "stream",
     "text": [
      "video  v_PlayingViolin_g19_c01.avi  inferenced done.\n",
      "# of finished videos:  73\n",
      "# of finished directories:  8\n",
      "inferencing video:  v_PlayingViolin_g19_c02.avi  from  PlayingViolin  directory\n"
     ]
    },
    {
     "name": "stderr",
     "output_type": "stream",
     "text": [
      "[2018-07-27 15:56:05,959] [TfPoseEstimator-Video] [DEBUG] initialization mobilenet_thin : /home/MPLab/mplab006/tf_action_recognition/models/graph/mobilenet_thin/graph_opt.pb\n"
     ]
    },
    {
     "name": "stdout",
     "output_type": "stream",
     "text": [
      "video  v_PlayingViolin_g19_c02.avi  inferenced done.\n",
      "# of finished videos:  74\n",
      "# of finished directories:  8\n",
      "inferencing video:  v_PlayingViolin_g19_c03.avi  from  PlayingViolin  directory\n"
     ]
    },
    {
     "name": "stderr",
     "output_type": "stream",
     "text": [
      "[2018-07-27 15:56:06,844] [TfPoseEstimator-Video] [DEBUG] initialization mobilenet_thin : /home/MPLab/mplab006/tf_action_recognition/models/graph/mobilenet_thin/graph_opt.pb\n"
     ]
    },
    {
     "name": "stdout",
     "output_type": "stream",
     "text": [
      "video  v_PlayingViolin_g19_c03.avi  inferenced done.\n",
      "# of finished videos:  75\n",
      "# of finished directories:  8\n",
      "inferencing video:  v_PlayingViolin_g19_c04.avi  from  PlayingViolin  directory\n"
     ]
    },
    {
     "name": "stderr",
     "output_type": "stream",
     "text": [
      "[2018-07-27 15:56:07,728] [TfPoseEstimator-Video] [DEBUG] initialization mobilenet_thin : /home/MPLab/mplab006/tf_action_recognition/models/graph/mobilenet_thin/graph_opt.pb\n"
     ]
    },
    {
     "name": "stdout",
     "output_type": "stream",
     "text": [
      "video  v_PlayingViolin_g19_c04.avi  inferenced done.\n",
      "# of finished videos:  76\n",
      "# of finished directories:  8\n",
      "inferencing video:  v_PlayingViolin_g20_c01.avi  from  PlayingViolin  directory\n"
     ]
    },
    {
     "name": "stderr",
     "output_type": "stream",
     "text": [
      "[2018-07-27 15:56:08,623] [TfPoseEstimator-Video] [DEBUG] initialization mobilenet_thin : /home/MPLab/mplab006/tf_action_recognition/models/graph/mobilenet_thin/graph_opt.pb\n"
     ]
    },
    {
     "name": "stdout",
     "output_type": "stream",
     "text": [
      "video  v_PlayingViolin_g20_c01.avi  inferenced done.\n",
      "# of finished videos:  77\n",
      "# of finished directories:  8\n",
      "inferencing video:  v_PlayingViolin_g20_c02.avi  from  PlayingViolin  directory\n"
     ]
    },
    {
     "name": "stderr",
     "output_type": "stream",
     "text": [
      "[2018-07-27 15:56:09,465] [TfPoseEstimator-Video] [DEBUG] initialization mobilenet_thin : /home/MPLab/mplab006/tf_action_recognition/models/graph/mobilenet_thin/graph_opt.pb\n"
     ]
    },
    {
     "name": "stdout",
     "output_type": "stream",
     "text": [
      "video  v_PlayingViolin_g20_c02.avi  inferenced done.\n",
      "# of finished videos:  78\n",
      "# of finished directories:  8\n",
      "inferencing video:  v_PlayingViolin_g20_c03.avi  from  PlayingViolin  directory\n"
     ]
    },
    {
     "name": "stderr",
     "output_type": "stream",
     "text": [
      "[2018-07-27 15:56:10,324] [TfPoseEstimator-Video] [DEBUG] initialization mobilenet_thin : /home/MPLab/mplab006/tf_action_recognition/models/graph/mobilenet_thin/graph_opt.pb\n"
     ]
    },
    {
     "name": "stdout",
     "output_type": "stream",
     "text": [
      "video  v_PlayingViolin_g20_c03.avi  inferenced done.\n",
      "# of finished videos:  79\n",
      "# of finished directories:  8\n",
      "inferencing video:  v_PlayingViolin_g20_c04.avi  from  PlayingViolin  directory\n"
     ]
    },
    {
     "name": "stderr",
     "output_type": "stream",
     "text": [
      "[2018-07-27 15:56:11,213] [TfPoseEstimator-Video] [DEBUG] initialization mobilenet_thin : /home/MPLab/mplab006/tf_action_recognition/models/graph/mobilenet_thin/graph_opt.pb\n"
     ]
    },
    {
     "name": "stdout",
     "output_type": "stream",
     "text": [
      "video  v_PlayingViolin_g20_c04.avi  inferenced done.\n",
      "# of finished videos:  80\n",
      "# of finished directories:  8\n",
      "inferencing video:  v_PlayingViolin_g21_c01.avi  from  PlayingViolin  directory\n"
     ]
    },
    {
     "name": "stderr",
     "output_type": "stream",
     "text": [
      "[2018-07-27 15:56:12,090] [TfPoseEstimator-Video] [DEBUG] initialization mobilenet_thin : /home/MPLab/mplab006/tf_action_recognition/models/graph/mobilenet_thin/graph_opt.pb\n"
     ]
    },
    {
     "name": "stdout",
     "output_type": "stream",
     "text": [
      "video  v_PlayingViolin_g21_c01.avi  inferenced done.\n",
      "# of finished videos:  81\n",
      "# of finished directories:  8\n",
      "inferencing video:  v_PlayingViolin_g21_c02.avi  from  PlayingViolin  directory\n"
     ]
    },
    {
     "name": "stderr",
     "output_type": "stream",
     "text": [
      "[2018-07-27 15:56:12,983] [TfPoseEstimator-Video] [DEBUG] initialization mobilenet_thin : /home/MPLab/mplab006/tf_action_recognition/models/graph/mobilenet_thin/graph_opt.pb\n"
     ]
    },
    {
     "name": "stdout",
     "output_type": "stream",
     "text": [
      "video  v_PlayingViolin_g21_c02.avi  inferenced done.\n",
      "# of finished videos:  82\n",
      "# of finished directories:  8\n",
      "inferencing video:  v_PlayingViolin_g21_c03.avi  from  PlayingViolin  directory\n"
     ]
    },
    {
     "name": "stderr",
     "output_type": "stream",
     "text": [
      "[2018-07-27 15:56:13,834] [TfPoseEstimator-Video] [DEBUG] initialization mobilenet_thin : /home/MPLab/mplab006/tf_action_recognition/models/graph/mobilenet_thin/graph_opt.pb\n"
     ]
    },
    {
     "name": "stdout",
     "output_type": "stream",
     "text": [
      "video  v_PlayingViolin_g21_c03.avi  inferenced done.\n",
      "# of finished videos:  83\n",
      "# of finished directories:  8\n",
      "inferencing video:  v_PlayingViolin_g21_c04.avi  from  PlayingViolin  directory\n"
     ]
    },
    {
     "name": "stderr",
     "output_type": "stream",
     "text": [
      "[2018-07-27 15:56:14,709] [TfPoseEstimator-Video] [DEBUG] initialization mobilenet_thin : /home/MPLab/mplab006/tf_action_recognition/models/graph/mobilenet_thin/graph_opt.pb\n"
     ]
    },
    {
     "name": "stdout",
     "output_type": "stream",
     "text": [
      "video  v_PlayingViolin_g21_c04.avi  inferenced done.\n",
      "# of finished videos:  84\n",
      "# of finished directories:  8\n",
      "inferencing video:  v_PlayingViolin_g22_c01.avi  from  PlayingViolin  directory\n"
     ]
    },
    {
     "name": "stderr",
     "output_type": "stream",
     "text": [
      "[2018-07-27 15:56:15,538] [TfPoseEstimator-Video] [DEBUG] initialization mobilenet_thin : /home/MPLab/mplab006/tf_action_recognition/models/graph/mobilenet_thin/graph_opt.pb\n"
     ]
    },
    {
     "name": "stdout",
     "output_type": "stream",
     "text": [
      "video  v_PlayingViolin_g22_c01.avi  inferenced done.\n",
      "# of finished videos:  85\n",
      "# of finished directories:  8\n",
      "inferencing video:  v_PlayingViolin_g22_c02.avi  from  PlayingViolin  directory\n"
     ]
    },
    {
     "name": "stderr",
     "output_type": "stream",
     "text": [
      "[2018-07-27 15:56:16,451] [TfPoseEstimator-Video] [DEBUG] initialization mobilenet_thin : /home/MPLab/mplab006/tf_action_recognition/models/graph/mobilenet_thin/graph_opt.pb\n"
     ]
    },
    {
     "name": "stdout",
     "output_type": "stream",
     "text": [
      "video  v_PlayingViolin_g22_c02.avi  inferenced done.\n",
      "# of finished videos:  86\n",
      "# of finished directories:  8\n",
      "inferencing video:  v_PlayingViolin_g22_c03.avi  from  PlayingViolin  directory\n"
     ]
    },
    {
     "name": "stderr",
     "output_type": "stream",
     "text": [
      "[2018-07-27 15:56:17,335] [TfPoseEstimator-Video] [DEBUG] initialization mobilenet_thin : /home/MPLab/mplab006/tf_action_recognition/models/graph/mobilenet_thin/graph_opt.pb\n"
     ]
    },
    {
     "name": "stdout",
     "output_type": "stream",
     "text": [
      "video  v_PlayingViolin_g22_c03.avi  inferenced done.\n",
      "# of finished videos:  87\n",
      "# of finished directories:  8\n",
      "inferencing video:  v_PlayingViolin_g22_c04.avi  from  PlayingViolin  directory\n"
     ]
    },
    {
     "name": "stderr",
     "output_type": "stream",
     "text": [
      "[2018-07-27 15:56:18,201] [TfPoseEstimator-Video] [DEBUG] initialization mobilenet_thin : /home/MPLab/mplab006/tf_action_recognition/models/graph/mobilenet_thin/graph_opt.pb\n"
     ]
    },
    {
     "name": "stdout",
     "output_type": "stream",
     "text": [
      "video  v_PlayingViolin_g22_c04.avi  inferenced done.\n",
      "# of finished videos:  88\n",
      "# of finished directories:  8\n",
      "inferencing video:  v_PlayingViolin_g23_c01.avi  from  PlayingViolin  directory\n"
     ]
    },
    {
     "name": "stderr",
     "output_type": "stream",
     "text": [
      "[2018-07-27 15:56:19,039] [TfPoseEstimator-Video] [DEBUG] initialization mobilenet_thin : /home/MPLab/mplab006/tf_action_recognition/models/graph/mobilenet_thin/graph_opt.pb\n"
     ]
    },
    {
     "name": "stdout",
     "output_type": "stream",
     "text": [
      "video  v_PlayingViolin_g23_c01.avi  inferenced done.\n",
      "# of finished videos:  89\n",
      "# of finished directories:  8\n",
      "inferencing video:  v_PlayingViolin_g23_c02.avi  from  PlayingViolin  directory\n"
     ]
    },
    {
     "name": "stderr",
     "output_type": "stream",
     "text": [
      "[2018-07-27 15:56:19,892] [TfPoseEstimator-Video] [DEBUG] initialization mobilenet_thin : /home/MPLab/mplab006/tf_action_recognition/models/graph/mobilenet_thin/graph_opt.pb\n"
     ]
    },
    {
     "name": "stdout",
     "output_type": "stream",
     "text": [
      "video  v_PlayingViolin_g23_c02.avi  inferenced done.\n",
      "# of finished videos:  90\n",
      "# of finished directories:  8\n",
      "inferencing video:  v_PlayingViolin_g23_c03.avi  from  PlayingViolin  directory\n"
     ]
    },
    {
     "name": "stderr",
     "output_type": "stream",
     "text": [
      "[2018-07-27 15:56:20,758] [TfPoseEstimator-Video] [DEBUG] initialization mobilenet_thin : /home/MPLab/mplab006/tf_action_recognition/models/graph/mobilenet_thin/graph_opt.pb\n"
     ]
    },
    {
     "name": "stdout",
     "output_type": "stream",
     "text": [
      "video  v_PlayingViolin_g23_c03.avi  inferenced done.\n",
      "# of finished videos:  91\n",
      "# of finished directories:  8\n",
      "inferencing video:  v_PlayingViolin_g23_c04.avi  from  PlayingViolin  directory\n"
     ]
    },
    {
     "name": "stderr",
     "output_type": "stream",
     "text": [
      "[2018-07-27 15:56:21,591] [TfPoseEstimator-Video] [DEBUG] initialization mobilenet_thin : /home/MPLab/mplab006/tf_action_recognition/models/graph/mobilenet_thin/graph_opt.pb\n"
     ]
    },
    {
     "name": "stdout",
     "output_type": "stream",
     "text": [
      "video  v_PlayingViolin_g23_c04.avi  inferenced done.\n",
      "# of finished videos:  92\n",
      "# of finished directories:  8\n",
      "inferencing video:  v_PlayingViolin_g24_c01.avi  from  PlayingViolin  directory\n"
     ]
    },
    {
     "name": "stderr",
     "output_type": "stream",
     "text": [
      "[2018-07-27 15:56:22,457] [TfPoseEstimator-Video] [DEBUG] initialization mobilenet_thin : /home/MPLab/mplab006/tf_action_recognition/models/graph/mobilenet_thin/graph_opt.pb\n"
     ]
    },
    {
     "name": "stdout",
     "output_type": "stream",
     "text": [
      "video  v_PlayingViolin_g24_c01.avi  inferenced done.\n",
      "# of finished videos:  93\n",
      "# of finished directories:  8\n",
      "inferencing video:  v_PlayingViolin_g24_c02.avi  from  PlayingViolin  directory\n"
     ]
    },
    {
     "name": "stderr",
     "output_type": "stream",
     "text": [
      "[2018-07-27 15:56:23,285] [TfPoseEstimator-Video] [DEBUG] initialization mobilenet_thin : /home/MPLab/mplab006/tf_action_recognition/models/graph/mobilenet_thin/graph_opt.pb\n"
     ]
    },
    {
     "name": "stdout",
     "output_type": "stream",
     "text": [
      "video  v_PlayingViolin_g24_c02.avi  inferenced done.\n",
      "# of finished videos:  94\n",
      "# of finished directories:  8\n",
      "inferencing video:  v_PlayingViolin_g24_c03.avi  from  PlayingViolin  directory\n"
     ]
    },
    {
     "name": "stderr",
     "output_type": "stream",
     "text": [
      "[2018-07-27 15:56:24,150] [TfPoseEstimator-Video] [DEBUG] initialization mobilenet_thin : /home/MPLab/mplab006/tf_action_recognition/models/graph/mobilenet_thin/graph_opt.pb\n"
     ]
    },
    {
     "name": "stdout",
     "output_type": "stream",
     "text": [
      "video  v_PlayingViolin_g24_c03.avi  inferenced done.\n",
      "# of finished videos:  95\n",
      "# of finished directories:  8\n",
      "inferencing video:  v_PlayingViolin_g24_c04.avi  from  PlayingViolin  directory\n"
     ]
    },
    {
     "name": "stderr",
     "output_type": "stream",
     "text": [
      "[2018-07-27 15:56:25,038] [TfPoseEstimator-Video] [DEBUG] initialization mobilenet_thin : /home/MPLab/mplab006/tf_action_recognition/models/graph/mobilenet_thin/graph_opt.pb\n"
     ]
    },
    {
     "name": "stdout",
     "output_type": "stream",
     "text": [
      "video  v_PlayingViolin_g24_c04.avi  inferenced done.\n",
      "# of finished videos:  96\n",
      "# of finished directories:  8\n",
      "inferencing video:  v_PlayingViolin_g25_c01.avi  from  PlayingViolin  directory\n"
     ]
    },
    {
     "name": "stderr",
     "output_type": "stream",
     "text": [
      "[2018-07-27 15:56:25,934] [TfPoseEstimator-Video] [DEBUG] initialization mobilenet_thin : /home/MPLab/mplab006/tf_action_recognition/models/graph/mobilenet_thin/graph_opt.pb\n"
     ]
    },
    {
     "name": "stdout",
     "output_type": "stream",
     "text": [
      "video  v_PlayingViolin_g25_c01.avi  inferenced done.\n",
      "# of finished videos:  97\n",
      "# of finished directories:  8\n",
      "inferencing video:  v_PlayingViolin_g25_c02.avi  from  PlayingViolin  directory\n"
     ]
    },
    {
     "name": "stderr",
     "output_type": "stream",
     "text": [
      "[2018-07-27 15:56:26,793] [TfPoseEstimator-Video] [DEBUG] initialization mobilenet_thin : /home/MPLab/mplab006/tf_action_recognition/models/graph/mobilenet_thin/graph_opt.pb\n"
     ]
    },
    {
     "name": "stdout",
     "output_type": "stream",
     "text": [
      "video  v_PlayingViolin_g25_c02.avi  inferenced done.\n",
      "# of finished videos:  98\n",
      "# of finished directories:  8\n",
      "inferencing video:  v_PlayingViolin_g25_c03.avi  from  PlayingViolin  directory\n"
     ]
    },
    {
     "name": "stderr",
     "output_type": "stream",
     "text": [
      "[2018-07-27 15:56:27,654] [TfPoseEstimator-Video] [DEBUG] initialization mobilenet_thin : /home/MPLab/mplab006/tf_action_recognition/models/graph/mobilenet_thin/graph_opt.pb\n"
     ]
    },
    {
     "name": "stdout",
     "output_type": "stream",
     "text": [
      "video  v_PlayingViolin_g25_c03.avi  inferenced done.\n",
      "# of finished videos:  99\n",
      "# of finished directories:  8\n",
      "inferencing video:  v_PlayingViolin_g25_c04.avi  from  PlayingViolin  directory\n",
      "video  v_PlayingViolin_g25_c04.avi  inferenced done.\n",
      "# of finished videos:  100\n",
      "# of finished directories:  8\n",
      "writing data to pickle files.....\n"
     ]
    },
    {
     "data": {
      "text/plain": [
       "'feature_set_class_0_to8.pickle'"
      ]
     },
     "execution_count": 2,
     "metadata": {},
     "output_type": "execute_result"
    }
   ],
   "source": [
    "from data_processor import create_training_data\n",
    "\n",
    "create_training_data(0, 8)"
   ]
  },
  {
   "cell_type": "code",
   "execution_count": 1,
   "metadata": {},
   "outputs": [],
   "source": [
    "import pickle\n",
    "#with open('feature_set_class_6_6.pickle', 'rb') as handle:\n",
    " #   b = pickle.load(handle)\n",
    "#print(b)"
   ]
  },
  {
   "cell_type": "code",
   "execution_count": null,
   "metadata": {},
   "outputs": [],
   "source": []
  }
 ],
 "metadata": {
  "kernelspec": {
   "display_name": "Python 3",
   "language": "python",
   "name": "python3"
  },
  "language_info": {
   "codemirror_mode": {
    "name": "ipython",
    "version": 3
   },
   "file_extension": ".py",
   "mimetype": "text/x-python",
   "name": "python",
   "nbconvert_exporter": "python",
   "pygments_lexer": "ipython3",
   "version": "3.5.2"
  }
 },
 "nbformat": 4,
 "nbformat_minor": 2
}
