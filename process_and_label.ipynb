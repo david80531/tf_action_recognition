{
 "cells": [
  {
   "cell_type": "code",
   "execution_count": 100,
   "metadata": {},
   "outputs": [],
   "source": [
    "import argparse\n",
    "import logging\n",
    "import time\n",
    "import sys\n",
    "import cv2\n",
    "import numpy as np\n",
    "\n",
    "from tf_pose.estimator import BodyPart\n",
    "from tf_pose.estimator import TfPoseEstimator\n",
    "from tf_pose.networks import get_graph_path, model_wh"
   ]
  },
  {
   "cell_type": "code",
   "execution_count": 101,
   "metadata": {},
   "outputs": [],
   "source": [
    "logger = logging.getLogger('TfPoseEstimator-Video')\n",
    "logger.setLevel(logging.DEBUG)\n",
    "ch = logging.StreamHandler()\n",
    "ch.setLevel(logging.DEBUG)\n",
    "formatter = logging.Formatter('[%(asctime)s] [%(name)s] [%(levelname)s] %(message)s')\n",
    "ch.setFormatter(formatter)\n",
    "logger.addHandler(ch)\n",
    "\n",
    "fps_time = 0"
   ]
  },
  {
   "cell_type": "code",
   "execution_count": 102,
   "metadata": {},
   "outputs": [],
   "source": [
    "def process_human_data(humans):\n",
    "    \n",
    "    if (len(humans)==0):\n",
    "        return np.zeros(shape=(18,2))\n",
    "                        \n",
    "    feature = np.zeros(shape=(18,2))\n",
    "    for i in range(18):\n",
    "        if i not in humans[0].body_parts:\n",
    "            feature[i] = [0, 0]\n",
    "        else:\n",
    "            feature[i] = [bp[i].x, bp[i].y]\n",
    "    \n",
    "    return feature\n",
    "        "
   ]
  },
  {
   "cell_type": "code",
   "execution_count": 105,
   "metadata": {},
   "outputs": [
    {
     "name": "stderr",
     "output_type": "stream",
     "text": [
      "[2018-07-25 11:15:50,932] [TfPoseEstimator-Video] [DEBUG] initialization mobilenet_thin : /Users/david/Documents/system_implemetation/tf-openpose/models/graph/mobilenet_thin/graph_opt.pb\n",
      "[2018-07-25 11:15:50,932] [TfPoseEstimator-Video] [DEBUG] initialization mobilenet_thin : /Users/david/Documents/system_implemetation/tf-openpose/models/graph/mobilenet_thin/graph_opt.pb\n",
      "[2018-07-25 11:15:50,932] [TfPoseEstimator-Video] [DEBUG] initialization mobilenet_thin : /Users/david/Documents/system_implemetation/tf-openpose/models/graph/mobilenet_thin/graph_opt.pb\n",
      "[2018-07-25 11:15:50,932] [TfPoseEstimator-Video] [DEBUG] initialization mobilenet_thin : /Users/david/Documents/system_implemetation/tf-openpose/models/graph/mobilenet_thin/graph_opt.pb\n",
      "[2018-07-25 11:15:50,940] [TfPoseEstimator] [INFO] loading graph from /Users/david/Documents/system_implemetation/tf-openpose/models/graph/mobilenet_thin/graph_opt.pb(default size=320x240)\n"
     ]
    },
    {
     "name": "stdout",
     "output_type": "stream",
     "text": [
      "All Frames:  225.0\n",
      "Image Size: 320 x 240\n",
      "Frame no:  0.0\n",
      "Count:  0.0\n",
      "Frame no:  0.05\n",
      "Count:  11.25\n",
      "Frame no:  0.1\n",
      "Count:  22.5\n",
      "Frame no:  0.15\n",
      "Count:  33.75\n",
      "Frame no:  0.2\n",
      "Count:  45.0\n",
      "Frame no:  0.25\n",
      "Count:  56.25\n",
      "Frame no:  0.3\n",
      "Count:  67.5\n",
      "Frame no:  0.35\n",
      "Count:  78.75\n",
      "Frame no:  0.4\n",
      "Count:  90.0\n",
      "Frame no:  0.45\n",
      "Count:  101.25\n",
      "Frame no:  0.5\n",
      "Count:  112.5\n",
      "Frame no:  0.55\n",
      "Count:  123.75\n",
      "Frame no:  0.6\n",
      "Count:  135.0\n",
      "Frame no:  0.65\n",
      "Count:  146.25\n",
      "Frame no:  0.7\n",
      "Count:  157.5\n",
      "Frame no:  0.75\n",
      "Count:  168.75\n",
      "Frame no:  0.8\n",
      "Count:  180.0\n",
      "Frame no:  0.85\n",
      "Count:  191.25\n",
      "Frame no:  0.9\n",
      "Count:  202.5\n",
      "Frame no:  0.95\n",
      "Count:  213.75\n"
     ]
    },
    {
     "name": "stderr",
     "output_type": "stream",
     "text": [
      "[2018-07-25 11:16:43,161] [TfPoseEstimator-Video] [DEBUG] finished+\n",
      "[2018-07-25 11:16:43,161] [TfPoseEstimator-Video] [DEBUG] finished+\n",
      "[2018-07-25 11:16:43,161] [TfPoseEstimator-Video] [DEBUG] finished+\n",
      "[2018-07-25 11:16:43,161] [TfPoseEstimator-Video] [DEBUG] finished+\n"
     ]
    },
    {
     "name": "stdout",
     "output_type": "stream",
     "text": [
      "[0.475      0.22916667 0.403125   0.42916667 0.290625   0.40833333\n",
      " 0.08125    0.5125     0.         0.         0.528125   0.47083333\n",
      " 0.515625   0.72916667 0.         0.         0.3125     0.8125\n",
      " 0.         0.         0.         0.         0.459375   0.82916667\n",
      " 0.         0.         0.         0.         0.440625   0.19166667\n",
      " 0.49375    0.19166667 0.         0.         0.509375   0.20833333\n",
      " 0.475      0.22916667 0.403125   0.42916667 0.290625   0.40833333\n",
      " 0.08125    0.5125     0.         0.         0.528125   0.47083333\n",
      " 0.515625   0.72916667 0.         0.         0.3125     0.8125\n",
      " 0.         0.         0.         0.         0.459375   0.82916667\n",
      " 0.         0.         0.         0.         0.440625   0.19166667\n",
      " 0.49375    0.19166667 0.         0.         0.509375   0.20833333\n",
      " 0.475      0.22916667 0.403125   0.42916667 0.290625   0.40833333\n",
      " 0.08125    0.5125     0.         0.         0.528125   0.47083333\n",
      " 0.515625   0.72916667 0.         0.         0.3125     0.8125\n",
      " 0.         0.         0.         0.         0.459375   0.82916667\n",
      " 0.         0.         0.         0.         0.440625   0.19166667\n",
      " 0.49375    0.19166667 0.         0.         0.509375   0.20833333\n",
      " 0.475      0.22916667 0.403125   0.42916667 0.290625   0.40833333\n",
      " 0.08125    0.5125     0.         0.         0.528125   0.47083333\n",
      " 0.515625   0.72916667 0.         0.         0.3125     0.8125\n",
      " 0.         0.         0.         0.         0.459375   0.82916667\n",
      " 0.         0.         0.         0.         0.440625   0.19166667\n",
      " 0.49375    0.19166667 0.         0.         0.509375   0.20833333\n",
      " 0.475      0.22916667 0.403125   0.42916667 0.290625   0.40833333\n",
      " 0.08125    0.5125     0.         0.         0.528125   0.47083333\n",
      " 0.515625   0.72916667 0.         0.         0.3125     0.8125\n",
      " 0.         0.         0.         0.         0.459375   0.82916667\n",
      " 0.         0.         0.         0.         0.440625   0.19166667\n",
      " 0.49375    0.19166667 0.         0.         0.509375   0.20833333\n",
      " 0.475      0.22916667 0.403125   0.42916667 0.290625   0.40833333\n",
      " 0.08125    0.5125     0.         0.         0.528125   0.47083333\n",
      " 0.515625   0.72916667 0.         0.         0.3125     0.8125\n",
      " 0.         0.         0.         0.         0.459375   0.82916667\n",
      " 0.         0.         0.         0.         0.440625   0.19166667\n",
      " 0.49375    0.19166667 0.         0.         0.509375   0.20833333\n",
      " 0.475      0.22916667 0.403125   0.42916667 0.290625   0.40833333\n",
      " 0.08125    0.5125     0.         0.         0.528125   0.47083333\n",
      " 0.515625   0.72916667 0.         0.         0.3125     0.8125\n",
      " 0.         0.         0.         0.         0.459375   0.82916667\n",
      " 0.         0.         0.         0.         0.440625   0.19166667\n",
      " 0.49375    0.19166667 0.         0.         0.509375   0.20833333\n",
      " 0.475      0.22916667 0.403125   0.42916667 0.290625   0.40833333\n",
      " 0.08125    0.5125     0.         0.         0.528125   0.47083333\n",
      " 0.515625   0.72916667 0.         0.         0.3125     0.8125\n",
      " 0.         0.         0.         0.         0.459375   0.82916667\n",
      " 0.         0.         0.         0.         0.440625   0.19166667\n",
      " 0.49375    0.19166667 0.         0.         0.509375   0.20833333\n",
      " 0.475      0.22916667 0.403125   0.42916667 0.290625   0.40833333\n",
      " 0.08125    0.5125     0.         0.         0.528125   0.47083333\n",
      " 0.515625   0.72916667 0.         0.         0.3125     0.8125\n",
      " 0.         0.         0.         0.         0.459375   0.82916667\n",
      " 0.         0.         0.         0.         0.440625   0.19166667\n",
      " 0.49375    0.19166667 0.         0.         0.509375   0.20833333\n",
      " 0.475      0.22916667 0.403125   0.42916667 0.290625   0.40833333\n",
      " 0.08125    0.5125     0.         0.         0.528125   0.47083333\n",
      " 0.515625   0.72916667 0.         0.         0.3125     0.8125\n",
      " 0.         0.         0.         0.         0.459375   0.82916667\n",
      " 0.         0.         0.         0.         0.440625   0.19166667\n",
      " 0.49375    0.19166667 0.         0.         0.509375   0.20833333\n",
      " 0.475      0.22916667 0.403125   0.42916667 0.290625   0.40833333\n",
      " 0.08125    0.5125     0.         0.         0.528125   0.47083333\n",
      " 0.515625   0.72916667 0.         0.         0.3125     0.8125\n",
      " 0.         0.         0.         0.         0.459375   0.82916667\n",
      " 0.         0.         0.         0.         0.440625   0.19166667\n",
      " 0.49375    0.19166667 0.         0.         0.509375   0.20833333\n",
      " 0.475      0.22916667 0.403125   0.42916667 0.290625   0.40833333\n",
      " 0.08125    0.5125     0.         0.         0.528125   0.47083333\n",
      " 0.515625   0.72916667 0.         0.         0.3125     0.8125\n",
      " 0.         0.         0.         0.         0.459375   0.82916667\n",
      " 0.         0.         0.         0.         0.440625   0.19166667\n",
      " 0.49375    0.19166667 0.         0.         0.509375   0.20833333\n",
      " 0.475      0.22916667 0.403125   0.42916667 0.290625   0.40833333\n",
      " 0.08125    0.5125     0.         0.         0.528125   0.47083333\n",
      " 0.515625   0.72916667 0.         0.         0.3125     0.8125\n",
      " 0.         0.         0.         0.         0.459375   0.82916667\n",
      " 0.         0.         0.         0.         0.440625   0.19166667\n",
      " 0.49375    0.19166667 0.         0.         0.509375   0.20833333\n",
      " 0.475      0.22916667 0.403125   0.42916667 0.290625   0.40833333\n",
      " 0.08125    0.5125     0.         0.         0.528125   0.47083333\n",
      " 0.515625   0.72916667 0.         0.         0.3125     0.8125\n",
      " 0.         0.         0.         0.         0.459375   0.82916667\n",
      " 0.         0.         0.         0.         0.440625   0.19166667\n",
      " 0.49375    0.19166667 0.         0.         0.509375   0.20833333\n",
      " 0.475      0.22916667 0.403125   0.42916667 0.290625   0.40833333\n",
      " 0.08125    0.5125     0.         0.         0.528125   0.47083333\n",
      " 0.515625   0.72916667 0.         0.         0.3125     0.8125\n",
      " 0.         0.         0.         0.         0.459375   0.82916667\n",
      " 0.         0.         0.         0.         0.440625   0.19166667\n",
      " 0.49375    0.19166667 0.         0.         0.509375   0.20833333\n",
      " 0.475      0.22916667 0.403125   0.42916667 0.290625   0.40833333\n",
      " 0.08125    0.5125     0.         0.         0.528125   0.47083333\n",
      " 0.515625   0.72916667 0.         0.         0.3125     0.8125\n",
      " 0.         0.         0.         0.         0.459375   0.82916667\n",
      " 0.         0.         0.         0.         0.440625   0.19166667\n",
      " 0.49375    0.19166667 0.         0.         0.509375   0.20833333\n",
      " 0.475      0.22916667 0.403125   0.42916667 0.290625   0.40833333\n",
      " 0.08125    0.5125     0.         0.         0.528125   0.47083333\n",
      " 0.515625   0.72916667 0.         0.         0.3125     0.8125\n",
      " 0.         0.         0.         0.         0.459375   0.82916667\n",
      " 0.         0.         0.         0.         0.440625   0.19166667\n",
      " 0.49375    0.19166667 0.         0.         0.509375   0.20833333\n",
      " 0.475      0.22916667 0.403125   0.42916667 0.290625   0.40833333\n",
      " 0.08125    0.5125     0.         0.         0.528125   0.47083333\n",
      " 0.515625   0.72916667 0.         0.         0.3125     0.8125\n",
      " 0.         0.         0.         0.         0.459375   0.82916667\n",
      " 0.         0.         0.         0.         0.440625   0.19166667\n",
      " 0.49375    0.19166667 0.         0.         0.509375   0.20833333\n",
      " 0.475      0.22916667 0.403125   0.42916667 0.290625   0.40833333\n",
      " 0.08125    0.5125     0.         0.         0.528125   0.47083333\n",
      " 0.515625   0.72916667 0.         0.         0.3125     0.8125\n",
      " 0.         0.         0.         0.         0.459375   0.82916667\n",
      " 0.         0.         0.         0.         0.440625   0.19166667\n",
      " 0.49375    0.19166667 0.         0.         0.509375   0.20833333\n",
      " 0.475      0.22916667 0.403125   0.42916667 0.290625   0.40833333\n",
      " 0.08125    0.5125     0.         0.         0.528125   0.47083333\n",
      " 0.515625   0.72916667 0.         0.         0.3125     0.8125\n",
      " 0.         0.         0.         0.         0.459375   0.82916667\n",
      " 0.         0.         0.         0.         0.440625   0.19166667\n",
      " 0.49375    0.19166667 0.         0.         0.509375   0.20833333]\n"
     ]
    }
   ],
   "source": [
    "model_path='mobilenet_thin'\n",
    "resolution = '320x240'\n",
    "showBG=True\n",
    "    \n",
    "logger.debug('initialization %s : %s' % (model_path, get_graph_path(model_path)))\n",
    "w, h = model_wh(resolution)\n",
    "e = TfPoseEstimator(get_graph_path(model_path), target_size=(w, h))\n",
    "\n",
    "\n",
    "video = '../action_dataset/PlayingPiano/v_PlayingPiano_g02_c01.avi'\n",
    "cap = cv2.VideoCapture(video)\n",
    "\n",
    "#---------------modified----------------#\n",
    "num_frames = float(cap.get(cv2.CAP_PROP_FRAME_COUNT))\n",
    "print (\"All Frames: \" ,num_frames)\n",
    "cur_frames = 0.0\n",
    "step = (num_frames / 20.0) \n",
    "#---------------modified----------------#\n",
    "\n",
    "fourcc = cv2.VideoWriter_fourcc(*'XVID')\n",
    "width = cap.get(cv2.CAP_PROP_FRAME_WIDTH)\n",
    "height = cap.get(cv2.CAP_PROP_FRAME_HEIGHT)\n",
    "resize_out_ratio = 8.0\n",
    "print(\"Image Size: %d x %d\" % (width, height)) \n",
    "\n",
    "single_video_features = np.array([])\n",
    "if cap.isOpened() is False:\n",
    "    print(\"Error opening video stream or file\")\n",
    "\n",
    "while (cap.isOpened()):   \n",
    "    if(cur_frames >= num_frames):\n",
    "        break\n",
    "\n",
    "    frame_no = (cur_frames/num_frames)\n",
    "    cap.set(1,frame_no)\n",
    "    ret_val, image = cap.read()\n",
    "    \n",
    "    print(\"Frame no: \", frame_no)\n",
    "    print (\"Count: \", cur_frames)\n",
    "    \n",
    "    if ret_val == True:\n",
    "        humans = e.inference(image, resize_to_default=(w > 0 and h > 0), upsample_size=resize_out_ratio)\n",
    "        #print (\"Frame numbers: \", cur_frames, humans)\n",
    "        frame_feature = process_human_data(humans) \n",
    "        single_video_features = np.append(single_video_features, frame_feature) \n",
    "        \n",
    "    cur_frames+=step\n",
    "    if cv2.waitKey(1) == 27:\n",
    "        break\n",
    "print (single_video_features)\n",
    "cv2.destroyAllWindows()\n",
    "logger.debug('finished+')"
   ]
  },
  {
   "cell_type": "code",
   "execution_count": 27,
   "metadata": {},
   "outputs": [
    {
     "data": {
      "text/plain": [
       "[BodyPart:0-(0.47, 0.23) score=0.73 BodyPart:1-(0.40, 0.43) score=0.65 BodyPart:2-(0.29, 0.41) score=0.58 BodyPart:3-(0.08, 0.51) score=0.69 BodyPart:4-(0.19, 0.70) score=0.73 BodyPart:5-(0.53, 0.47) score=0.63 BodyPart:6-(0.52, 0.73) score=0.38 BodyPart:8-(0.31, 0.81) score=0.12 BodyPart:11-(0.46, 0.83) score=0.20 BodyPart:14-(0.44, 0.19) score=0.77 BodyPart:15-(0.49, 0.19) score=0.86 BodyPart:16-(0.38, 0.22) score=0.79 BodyPart:17-(0.51, 0.21) score=0.08]"
      ]
     },
     "execution_count": 27,
     "metadata": {},
     "output_type": "execute_result"
    }
   ],
   "source": [
    "humans"
   ]
  },
  {
   "cell_type": "code",
   "execution_count": 54,
   "metadata": {},
   "outputs": [
    {
     "data": {
      "text/plain": [
       "0.475"
      ]
     },
     "execution_count": 54,
     "metadata": {},
     "output_type": "execute_result"
    }
   ],
   "source": [
    "humans[0].body_parts[0].x"
   ]
  },
  {
   "cell_type": "code",
   "execution_count": 82,
   "metadata": {},
   "outputs": [
    {
     "name": "stdout",
     "output_type": "stream",
     "text": [
      "[0.475      0.22916667]\n"
     ]
    }
   ],
   "source": [
    "\n",
    "\n",
    "feature = np.zeros(shape=(18,2))\n",
    "for i in range(18):\n",
    "    if i not in humans[0].body_parts:\n",
    "        feature[i] = [0, 0]\n",
    "    else:\n",
    "        feature[i] = [bp[i].x, bp[i].y]\n",
    "feature = list(feature)\n",
    "\n",
    "print(feature[0])\n"
   ]
  },
  {
   "cell_type": "code",
   "execution_count": 104,
   "metadata": {},
   "outputs": [
    {
     "name": "stdout",
     "output_type": "stream",
     "text": [
      "720\n"
     ]
    }
   ],
   "source": [
    "print(len(single_video_features))"
   ]
  },
  {
   "cell_type": "code",
   "execution_count": null,
   "metadata": {},
   "outputs": [],
   "source": [
    "10*[18, 2]\n",
    "\n",
    "train_x[] train_y[label]"
   ]
  }
 ],
 "metadata": {
  "kernelspec": {
   "display_name": "Python 3",
   "language": "python",
   "name": "python3"
  },
  "language_info": {
   "codemirror_mode": {
    "name": "ipython",
    "version": 3
   },
   "file_extension": ".py",
   "mimetype": "text/x-python",
   "name": "python",
   "nbconvert_exporter": "python",
   "pygments_lexer": "ipython3",
   "version": "3.6.5"
  }
 },
 "nbformat": 4,
 "nbformat_minor": 2
}
