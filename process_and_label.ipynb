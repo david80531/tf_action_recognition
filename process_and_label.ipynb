{
 "cells": [
  {
   "cell_type": "code",
   "execution_count": 1,
   "metadata": {},
   "outputs": [
    {
     "name": "stderr",
     "output_type": "stream",
     "text": [
      "/Users/david/anaconda3/lib/python3.6/site-packages/h5py/__init__.py:36: FutureWarning: Conversion of the second argument of issubdtype from `float` to `np.floating` is deprecated. In future, it will be treated as `np.float64 == np.dtype(float).type`.\n",
      "  from ._conv import register_converters as _register_converters\n"
     ]
    }
   ],
   "source": [
    "import argparse\n",
    "import logging\n",
    "import time\n",
    "import sys\n",
    "import cv2\n",
    "import numpy as np\n",
    "import pickle\n",
    "import random\n",
    "\n",
    "from tf_pose.estimator import BodyPart\n",
    "from tf_pose.estimator import TfPoseEstimator\n",
    "from tf_pose.networks import get_graph_path, model_wh"
   ]
  },
  {
   "cell_type": "code",
   "execution_count": 2,
   "metadata": {},
   "outputs": [],
   "source": [
    "logger = logging.getLogger('TfPoseEstimator-Video')\n",
    "logger.setLevel(logging.DEBUG)\n",
    "ch = logging.StreamHandler()\n",
    "ch.setLevel(logging.DEBUG)\n",
    "formatter = logging.Formatter('[%(asctime)s] [%(name)s] [%(levelname)s] %(message)s')\n",
    "ch.setFormatter(formatter)\n",
    "logger.addHandler(ch)\n",
    "\n",
    "fps_time = 0"
   ]
  },
  {
   "cell_type": "code",
   "execution_count": 3,
   "metadata": {},
   "outputs": [],
   "source": [
    "def process_human_data(humans):\n",
    "    \n",
    "    if (len(humans)==0):\n",
    "        return np.zeros(shape=(18,2))\n",
    "                        \n",
    "    feature = np.zeros(shape=(18,2))\n",
    "    for i in range(18):\n",
    "        if i not in humans[0].body_parts:\n",
    "            feature[i] = [0, 0]\n",
    "        else:\n",
    "            feature[i] = [humans[0].body_parts[i].x, humans[0].body_parts[i].y]\n",
    "    \n",
    "    return feature\n",
    "        "
   ]
  },
  {
   "cell_type": "code",
   "execution_count": 4,
   "metadata": {},
   "outputs": [],
   "source": [
    "def inference_video(path):\n",
    "    model_path='mobilenet_thin'\n",
    "    resolution = '320x240'\n",
    "    showBG=True\n",
    "\n",
    "    logger.debug('initialization %s : %s' % (model_path, get_graph_path(model_path)))\n",
    "    w, h = model_wh(resolution)\n",
    "    e = TfPoseEstimator(get_graph_path(model_path), target_size=(w, h))\n",
    "\n",
    "\n",
    "    cap = cv2.VideoCapture(path)\n",
    "\n",
    "    #---------------modified----------------#\n",
    "    num_frames = float(cap.get(cv2.CAP_PROP_FRAME_COUNT))\n",
    "    #print (\"All Frames: \" ,num_frames)\n",
    "    cur_frames = 0.0\n",
    "    step = (num_frames / 20.0) \n",
    "    #---------------modified----------------#\n",
    "\n",
    "    fourcc = cv2.VideoWriter_fourcc(*'XVID')\n",
    "    width = cap.get(cv2.CAP_PROP_FRAME_WIDTH)\n",
    "    height = cap.get(cv2.CAP_PROP_FRAME_HEIGHT)\n",
    "    resize_out_ratio = 8.0\n",
    "    #print(\"Image Size: %d x %d\" % (width, height)) \n",
    "\n",
    "    single_video_features = np.array([])\n",
    "    if cap.isOpened() is False:\n",
    "        print(\"Error opening video stream or file\")\n",
    "\n",
    "    while (cap.isOpened()):   \n",
    "        if(cur_frames >= num_frames):\n",
    "            break\n",
    "\n",
    "        frame_no = (cur_frames/num_frames)\n",
    "        cap.set(1,frame_no)\n",
    "        ret_val, image = cap.read()\n",
    "\n",
    "        #print(\"Frame no: \", frame_no)\n",
    "        #print (\"Count: \", cur_frames)\n",
    "\n",
    "        if ret_val == True:\n",
    "            humans = e.inference(image, resize_to_default=(w > 0 and h > 0), upsample_size=resize_out_ratio)\n",
    "            #print (\"Frame numbers: \", cur_frames, humans)\n",
    "            frame_feature = process_human_data(humans) \n",
    "            single_video_features = np.append(single_video_features, frame_feature) \n",
    "\n",
    "        cur_frames+=step\n",
    "        if cv2.waitKey(1) == 27:\n",
    "            break\n",
    "    #print (single_video_features)\n",
    "    cv2.destroyAllWindows()\n",
    "    #logger.debug('finished+')\n",
    "    return single_video_features\n",
    "    "
   ]
  },
  {
   "cell_type": "code",
   "execution_count": 5,
   "metadata": {},
   "outputs": [],
   "source": [
    "def get_classification(filename):\n",
    "    label=np.zeros(shape=(9))\n",
    "    label[video_dict[filename]]=1\n",
    "    return label"
   ]
  },
  {
   "cell_type": "code",
   "execution_count": null,
   "metadata": {},
   "outputs": [
    {
     "name": "stderr",
     "output_type": "stream",
     "text": [
      "[2018-07-25 17:16:09,473] [TfPoseEstimator-Video] [DEBUG] initialization mobilenet_thin : /Users/david/Documents/system_implemetation/tf_action_recognition/models/graph/mobilenet_thin/graph_opt.pb\n",
      "[2018-07-25 17:16:09,474] [TfPoseEstimator] [INFO] loading graph from /Users/david/Documents/system_implemetation/tf_action_recognition/models/graph/mobilenet_thin/graph_opt.pb(default size=320x240)\n",
      "[2018-07-25 17:16:31,648] [TfPoseEstimator-Video] [DEBUG] initialization mobilenet_thin : /Users/david/Documents/system_implemetation/tf_action_recognition/models/graph/mobilenet_thin/graph_opt.pb\n",
      "[2018-07-25 17:16:31,648] [TfPoseEstimator] [INFO] loading graph from /Users/david/Documents/system_implemetation/tf_action_recognition/models/graph/mobilenet_thin/graph_opt.pb(default size=320x240)\n"
     ]
    },
    {
     "name": "stdout",
     "output_type": "stream",
     "text": [
      "Finish video:  1\n"
     ]
    },
    {
     "name": "stderr",
     "output_type": "stream",
     "text": [
      "[2018-07-25 17:16:49,401] [TfPoseEstimator-Video] [DEBUG] initialization mobilenet_thin : /Users/david/Documents/system_implemetation/tf_action_recognition/models/graph/mobilenet_thin/graph_opt.pb\n",
      "[2018-07-25 17:16:49,402] [TfPoseEstimator] [INFO] loading graph from /Users/david/Documents/system_implemetation/tf_action_recognition/models/graph/mobilenet_thin/graph_opt.pb(default size=320x240)\n"
     ]
    },
    {
     "name": "stdout",
     "output_type": "stream",
     "text": [
      "Finish video:  2\n"
     ]
    },
    {
     "name": "stderr",
     "output_type": "stream",
     "text": [
      "[2018-07-25 17:17:08,363] [TfPoseEstimator-Video] [DEBUG] initialization mobilenet_thin : /Users/david/Documents/system_implemetation/tf_action_recognition/models/graph/mobilenet_thin/graph_opt.pb\n",
      "[2018-07-25 17:17:08,364] [TfPoseEstimator] [INFO] loading graph from /Users/david/Documents/system_implemetation/tf_action_recognition/models/graph/mobilenet_thin/graph_opt.pb(default size=320x240)\n"
     ]
    },
    {
     "name": "stdout",
     "output_type": "stream",
     "text": [
      "Finish video:  3\n"
     ]
    },
    {
     "name": "stderr",
     "output_type": "stream",
     "text": [
      "[2018-07-25 17:17:27,632] [TfPoseEstimator-Video] [DEBUG] initialization mobilenet_thin : /Users/david/Documents/system_implemetation/tf_action_recognition/models/graph/mobilenet_thin/graph_opt.pb\n",
      "[2018-07-25 17:17:27,633] [TfPoseEstimator] [INFO] loading graph from /Users/david/Documents/system_implemetation/tf_action_recognition/models/graph/mobilenet_thin/graph_opt.pb(default size=320x240)\n"
     ]
    },
    {
     "name": "stdout",
     "output_type": "stream",
     "text": [
      "Finish video:  4\n"
     ]
    },
    {
     "name": "stderr",
     "output_type": "stream",
     "text": [
      "[2018-07-25 17:17:46,699] [TfPoseEstimator-Video] [DEBUG] initialization mobilenet_thin : /Users/david/Documents/system_implemetation/tf_action_recognition/models/graph/mobilenet_thin/graph_opt.pb\n",
      "[2018-07-25 17:17:46,699] [TfPoseEstimator] [INFO] loading graph from /Users/david/Documents/system_implemetation/tf_action_recognition/models/graph/mobilenet_thin/graph_opt.pb(default size=320x240)\n"
     ]
    },
    {
     "name": "stdout",
     "output_type": "stream",
     "text": [
      "Finish video:  5\n"
     ]
    },
    {
     "name": "stderr",
     "output_type": "stream",
     "text": [
      "[2018-07-25 17:18:05,627] [TfPoseEstimator-Video] [DEBUG] initialization mobilenet_thin : /Users/david/Documents/system_implemetation/tf_action_recognition/models/graph/mobilenet_thin/graph_opt.pb\n",
      "[2018-07-25 17:18:05,628] [TfPoseEstimator] [INFO] loading graph from /Users/david/Documents/system_implemetation/tf_action_recognition/models/graph/mobilenet_thin/graph_opt.pb(default size=320x240)\n"
     ]
    },
    {
     "name": "stdout",
     "output_type": "stream",
     "text": [
      "Finish video:  6\n"
     ]
    },
    {
     "name": "stderr",
     "output_type": "stream",
     "text": [
      "[2018-07-25 17:18:24,986] [TfPoseEstimator-Video] [DEBUG] initialization mobilenet_thin : /Users/david/Documents/system_implemetation/tf_action_recognition/models/graph/mobilenet_thin/graph_opt.pb\n",
      "[2018-07-25 17:18:24,986] [TfPoseEstimator] [INFO] loading graph from /Users/david/Documents/system_implemetation/tf_action_recognition/models/graph/mobilenet_thin/graph_opt.pb(default size=320x240)\n"
     ]
    },
    {
     "name": "stdout",
     "output_type": "stream",
     "text": [
      "Finish video:  7\n"
     ]
    },
    {
     "name": "stderr",
     "output_type": "stream",
     "text": [
      "[2018-07-25 17:18:46,498] [TfPoseEstimator-Video] [DEBUG] initialization mobilenet_thin : /Users/david/Documents/system_implemetation/tf_action_recognition/models/graph/mobilenet_thin/graph_opt.pb\n",
      "[2018-07-25 17:18:46,499] [TfPoseEstimator] [INFO] loading graph from /Users/david/Documents/system_implemetation/tf_action_recognition/models/graph/mobilenet_thin/graph_opt.pb(default size=320x240)\n"
     ]
    },
    {
     "name": "stdout",
     "output_type": "stream",
     "text": [
      "Finish video:  8\n"
     ]
    },
    {
     "name": "stderr",
     "output_type": "stream",
     "text": [
      "[2018-07-25 17:19:07,176] [TfPoseEstimator-Video] [DEBUG] initialization mobilenet_thin : /Users/david/Documents/system_implemetation/tf_action_recognition/models/graph/mobilenet_thin/graph_opt.pb\n",
      "[2018-07-25 17:19:07,177] [TfPoseEstimator] [INFO] loading graph from /Users/david/Documents/system_implemetation/tf_action_recognition/models/graph/mobilenet_thin/graph_opt.pb(default size=320x240)\n"
     ]
    },
    {
     "name": "stdout",
     "output_type": "stream",
     "text": [
      "Finish video:  9\n"
     ]
    },
    {
     "name": "stderr",
     "output_type": "stream",
     "text": [
      "[2018-07-25 17:19:28,631] [TfPoseEstimator-Video] [DEBUG] initialization mobilenet_thin : /Users/david/Documents/system_implemetation/tf_action_recognition/models/graph/mobilenet_thin/graph_opt.pb\n",
      "[2018-07-25 17:19:28,632] [TfPoseEstimator] [INFO] loading graph from /Users/david/Documents/system_implemetation/tf_action_recognition/models/graph/mobilenet_thin/graph_opt.pb(default size=320x240)\n"
     ]
    },
    {
     "name": "stdout",
     "output_type": "stream",
     "text": [
      "Finish video:  10\n"
     ]
    },
    {
     "name": "stderr",
     "output_type": "stream",
     "text": [
      "[2018-07-25 17:19:50,707] [TfPoseEstimator-Video] [DEBUG] initialization mobilenet_thin : /Users/david/Documents/system_implemetation/tf_action_recognition/models/graph/mobilenet_thin/graph_opt.pb\n",
      "[2018-07-25 17:19:50,708] [TfPoseEstimator] [INFO] loading graph from /Users/david/Documents/system_implemetation/tf_action_recognition/models/graph/mobilenet_thin/graph_opt.pb(default size=320x240)\n"
     ]
    },
    {
     "name": "stdout",
     "output_type": "stream",
     "text": [
      "Finish video:  11\n"
     ]
    },
    {
     "name": "stderr",
     "output_type": "stream",
     "text": [
      "[2018-07-25 17:20:14,696] [TfPoseEstimator-Video] [DEBUG] initialization mobilenet_thin : /Users/david/Documents/system_implemetation/tf_action_recognition/models/graph/mobilenet_thin/graph_opt.pb\n",
      "[2018-07-25 17:20:14,697] [TfPoseEstimator] [INFO] loading graph from /Users/david/Documents/system_implemetation/tf_action_recognition/models/graph/mobilenet_thin/graph_opt.pb(default size=320x240)\n"
     ]
    },
    {
     "name": "stdout",
     "output_type": "stream",
     "text": [
      "Finish video:  12\n"
     ]
    },
    {
     "name": "stderr",
     "output_type": "stream",
     "text": [
      "[2018-07-25 17:20:38,749] [TfPoseEstimator-Video] [DEBUG] initialization mobilenet_thin : /Users/david/Documents/system_implemetation/tf_action_recognition/models/graph/mobilenet_thin/graph_opt.pb\n",
      "[2018-07-25 17:20:38,750] [TfPoseEstimator] [INFO] loading graph from /Users/david/Documents/system_implemetation/tf_action_recognition/models/graph/mobilenet_thin/graph_opt.pb(default size=320x240)\n"
     ]
    },
    {
     "name": "stdout",
     "output_type": "stream",
     "text": [
      "Finish video:  13\n"
     ]
    },
    {
     "name": "stderr",
     "output_type": "stream",
     "text": [
      "[2018-07-25 17:21:05,905] [TfPoseEstimator-Video] [DEBUG] initialization mobilenet_thin : /Users/david/Documents/system_implemetation/tf_action_recognition/models/graph/mobilenet_thin/graph_opt.pb\n",
      "[2018-07-25 17:21:05,906] [TfPoseEstimator] [INFO] loading graph from /Users/david/Documents/system_implemetation/tf_action_recognition/models/graph/mobilenet_thin/graph_opt.pb(default size=320x240)\n"
     ]
    },
    {
     "name": "stdout",
     "output_type": "stream",
     "text": [
      "Finish video:  14\n"
     ]
    },
    {
     "name": "stderr",
     "output_type": "stream",
     "text": [
      "[2018-07-25 17:21:35,506] [TfPoseEstimator-Video] [DEBUG] initialization mobilenet_thin : /Users/david/Documents/system_implemetation/tf_action_recognition/models/graph/mobilenet_thin/graph_opt.pb\n",
      "[2018-07-25 17:21:35,507] [TfPoseEstimator] [INFO] loading graph from /Users/david/Documents/system_implemetation/tf_action_recognition/models/graph/mobilenet_thin/graph_opt.pb(default size=320x240)\n"
     ]
    },
    {
     "name": "stdout",
     "output_type": "stream",
     "text": [
      "Finish video:  15\n"
     ]
    },
    {
     "name": "stderr",
     "output_type": "stream",
     "text": [
      "[2018-07-25 17:22:04,078] [TfPoseEstimator-Video] [DEBUG] initialization mobilenet_thin : /Users/david/Documents/system_implemetation/tf_action_recognition/models/graph/mobilenet_thin/graph_opt.pb\n",
      "[2018-07-25 17:22:04,078] [TfPoseEstimator] [INFO] loading graph from /Users/david/Documents/system_implemetation/tf_action_recognition/models/graph/mobilenet_thin/graph_opt.pb(default size=320x240)\n"
     ]
    },
    {
     "name": "stdout",
     "output_type": "stream",
     "text": [
      "Finish video:  16\n"
     ]
    },
    {
     "name": "stderr",
     "output_type": "stream",
     "text": [
      "[2018-07-25 17:22:32,891] [TfPoseEstimator-Video] [DEBUG] initialization mobilenet_thin : /Users/david/Documents/system_implemetation/tf_action_recognition/models/graph/mobilenet_thin/graph_opt.pb\n",
      "[2018-07-25 17:22:32,892] [TfPoseEstimator] [INFO] loading graph from /Users/david/Documents/system_implemetation/tf_action_recognition/models/graph/mobilenet_thin/graph_opt.pb(default size=320x240)\n"
     ]
    },
    {
     "name": "stdout",
     "output_type": "stream",
     "text": [
      "Finish video:  17\n"
     ]
    },
    {
     "name": "stderr",
     "output_type": "stream",
     "text": [
      "[2018-07-25 17:23:05,738] [TfPoseEstimator-Video] [DEBUG] initialization mobilenet_thin : /Users/david/Documents/system_implemetation/tf_action_recognition/models/graph/mobilenet_thin/graph_opt.pb\n",
      "[2018-07-25 17:23:05,739] [TfPoseEstimator] [INFO] loading graph from /Users/david/Documents/system_implemetation/tf_action_recognition/models/graph/mobilenet_thin/graph_opt.pb(default size=320x240)\n"
     ]
    },
    {
     "name": "stdout",
     "output_type": "stream",
     "text": [
      "Finish video:  18\n"
     ]
    },
    {
     "name": "stderr",
     "output_type": "stream",
     "text": [
      "[2018-07-25 17:23:39,559] [TfPoseEstimator-Video] [DEBUG] initialization mobilenet_thin : /Users/david/Documents/system_implemetation/tf_action_recognition/models/graph/mobilenet_thin/graph_opt.pb\n",
      "[2018-07-25 17:23:39,560] [TfPoseEstimator] [INFO] loading graph from /Users/david/Documents/system_implemetation/tf_action_recognition/models/graph/mobilenet_thin/graph_opt.pb(default size=320x240)\n"
     ]
    },
    {
     "name": "stdout",
     "output_type": "stream",
     "text": [
      "Finish video:  19\n"
     ]
    },
    {
     "name": "stderr",
     "output_type": "stream",
     "text": [
      "[2018-07-25 17:24:16,402] [TfPoseEstimator-Video] [DEBUG] initialization mobilenet_thin : /Users/david/Documents/system_implemetation/tf_action_recognition/models/graph/mobilenet_thin/graph_opt.pb\n",
      "[2018-07-25 17:24:16,402] [TfPoseEstimator] [INFO] loading graph from /Users/david/Documents/system_implemetation/tf_action_recognition/models/graph/mobilenet_thin/graph_opt.pb(default size=320x240)\n"
     ]
    },
    {
     "name": "stdout",
     "output_type": "stream",
     "text": [
      "Finish video:  20\n"
     ]
    },
    {
     "name": "stderr",
     "output_type": "stream",
     "text": [
      "[2018-07-25 17:24:54,945] [TfPoseEstimator-Video] [DEBUG] initialization mobilenet_thin : /Users/david/Documents/system_implemetation/tf_action_recognition/models/graph/mobilenet_thin/graph_opt.pb\n",
      "[2018-07-25 17:24:54,946] [TfPoseEstimator] [INFO] loading graph from /Users/david/Documents/system_implemetation/tf_action_recognition/models/graph/mobilenet_thin/graph_opt.pb(default size=320x240)\n"
     ]
    },
    {
     "name": "stdout",
     "output_type": "stream",
     "text": [
      "Finish video:  21\n"
     ]
    },
    {
     "name": "stderr",
     "output_type": "stream",
     "text": [
      "[2018-07-25 17:25:34,400] [TfPoseEstimator-Video] [DEBUG] initialization mobilenet_thin : /Users/david/Documents/system_implemetation/tf_action_recognition/models/graph/mobilenet_thin/graph_opt.pb\n",
      "[2018-07-25 17:25:34,401] [TfPoseEstimator] [INFO] loading graph from /Users/david/Documents/system_implemetation/tf_action_recognition/models/graph/mobilenet_thin/graph_opt.pb(default size=320x240)\n"
     ]
    },
    {
     "name": "stdout",
     "output_type": "stream",
     "text": [
      "Finish video:  22\n"
     ]
    },
    {
     "name": "stderr",
     "output_type": "stream",
     "text": [
      "[2018-07-25 17:26:16,511] [TfPoseEstimator-Video] [DEBUG] initialization mobilenet_thin : /Users/david/Documents/system_implemetation/tf_action_recognition/models/graph/mobilenet_thin/graph_opt.pb\n",
      "[2018-07-25 17:26:16,512] [TfPoseEstimator] [INFO] loading graph from /Users/david/Documents/system_implemetation/tf_action_recognition/models/graph/mobilenet_thin/graph_opt.pb(default size=320x240)\n"
     ]
    },
    {
     "name": "stdout",
     "output_type": "stream",
     "text": [
      "Finish video:  23\n"
     ]
    },
    {
     "name": "stderr",
     "output_type": "stream",
     "text": [
      "[2018-07-25 17:27:15,479] [TfPoseEstimator-Video] [DEBUG] initialization mobilenet_thin : /Users/david/Documents/system_implemetation/tf_action_recognition/models/graph/mobilenet_thin/graph_opt.pb\n",
      "[2018-07-25 17:27:15,479] [TfPoseEstimator] [INFO] loading graph from /Users/david/Documents/system_implemetation/tf_action_recognition/models/graph/mobilenet_thin/graph_opt.pb(default size=320x240)\n"
     ]
    },
    {
     "name": "stdout",
     "output_type": "stream",
     "text": [
      "Finish video:  24\n"
     ]
    },
    {
     "name": "stderr",
     "output_type": "stream",
     "text": [
      "[2018-07-25 17:28:02,860] [TfPoseEstimator-Video] [DEBUG] initialization mobilenet_thin : /Users/david/Documents/system_implemetation/tf_action_recognition/models/graph/mobilenet_thin/graph_opt.pb\n",
      "[2018-07-25 17:28:02,860] [TfPoseEstimator] [INFO] loading graph from /Users/david/Documents/system_implemetation/tf_action_recognition/models/graph/mobilenet_thin/graph_opt.pb(default size=320x240)\n"
     ]
    },
    {
     "name": "stdout",
     "output_type": "stream",
     "text": [
      "Finish video:  25\n"
     ]
    },
    {
     "name": "stderr",
     "output_type": "stream",
     "text": [
      "[2018-07-25 17:28:56,841] [TfPoseEstimator-Video] [DEBUG] initialization mobilenet_thin : /Users/david/Documents/system_implemetation/tf_action_recognition/models/graph/mobilenet_thin/graph_opt.pb\n",
      "[2018-07-25 17:28:56,841] [TfPoseEstimator] [INFO] loading graph from /Users/david/Documents/system_implemetation/tf_action_recognition/models/graph/mobilenet_thin/graph_opt.pb(default size=320x240)\n"
     ]
    },
    {
     "name": "stdout",
     "output_type": "stream",
     "text": [
      "Finish video:  26\n"
     ]
    },
    {
     "name": "stderr",
     "output_type": "stream",
     "text": [
      "[2018-07-25 17:29:53,372] [TfPoseEstimator-Video] [DEBUG] initialization mobilenet_thin : /Users/david/Documents/system_implemetation/tf_action_recognition/models/graph/mobilenet_thin/graph_opt.pb\n",
      "[2018-07-25 17:29:53,373] [TfPoseEstimator] [INFO] loading graph from /Users/david/Documents/system_implemetation/tf_action_recognition/models/graph/mobilenet_thin/graph_opt.pb(default size=320x240)\n"
     ]
    },
    {
     "name": "stdout",
     "output_type": "stream",
     "text": [
      "Finish video:  27\n"
     ]
    },
    {
     "name": "stderr",
     "output_type": "stream",
     "text": [
      "[2018-07-25 17:30:57,198] [TfPoseEstimator-Video] [DEBUG] initialization mobilenet_thin : /Users/david/Documents/system_implemetation/tf_action_recognition/models/graph/mobilenet_thin/graph_opt.pb\n",
      "[2018-07-25 17:30:57,198] [TfPoseEstimator] [INFO] loading graph from /Users/david/Documents/system_implemetation/tf_action_recognition/models/graph/mobilenet_thin/graph_opt.pb(default size=320x240)\n"
     ]
    },
    {
     "name": "stdout",
     "output_type": "stream",
     "text": [
      "Finish video:  28\n"
     ]
    },
    {
     "name": "stderr",
     "output_type": "stream",
     "text": [
      "[2018-07-25 17:31:58,544] [TfPoseEstimator-Video] [DEBUG] initialization mobilenet_thin : /Users/david/Documents/system_implemetation/tf_action_recognition/models/graph/mobilenet_thin/graph_opt.pb\n",
      "[2018-07-25 17:31:58,544] [TfPoseEstimator] [INFO] loading graph from /Users/david/Documents/system_implemetation/tf_action_recognition/models/graph/mobilenet_thin/graph_opt.pb(default size=320x240)\n"
     ]
    },
    {
     "name": "stdout",
     "output_type": "stream",
     "text": [
      "Finish video:  29\n"
     ]
    },
    {
     "name": "stderr",
     "output_type": "stream",
     "text": [
      "[2018-07-25 17:32:58,951] [TfPoseEstimator-Video] [DEBUG] initialization mobilenet_thin : /Users/david/Documents/system_implemetation/tf_action_recognition/models/graph/mobilenet_thin/graph_opt.pb\n",
      "[2018-07-25 17:32:58,954] [TfPoseEstimator] [INFO] loading graph from /Users/david/Documents/system_implemetation/tf_action_recognition/models/graph/mobilenet_thin/graph_opt.pb(default size=320x240)\n"
     ]
    },
    {
     "name": "stdout",
     "output_type": "stream",
     "text": [
      "Finish video:  30\n"
     ]
    },
    {
     "name": "stderr",
     "output_type": "stream",
     "text": [
      "[2018-07-25 17:33:59,366] [TfPoseEstimator-Video] [DEBUG] initialization mobilenet_thin : /Users/david/Documents/system_implemetation/tf_action_recognition/models/graph/mobilenet_thin/graph_opt.pb\n",
      "[2018-07-25 17:33:59,367] [TfPoseEstimator] [INFO] loading graph from /Users/david/Documents/system_implemetation/tf_action_recognition/models/graph/mobilenet_thin/graph_opt.pb(default size=320x240)\n"
     ]
    },
    {
     "name": "stdout",
     "output_type": "stream",
     "text": [
      "Finish video:  31\n"
     ]
    },
    {
     "name": "stderr",
     "output_type": "stream",
     "text": [
      "[2018-07-25 17:35:00,541] [TfPoseEstimator-Video] [DEBUG] initialization mobilenet_thin : /Users/david/Documents/system_implemetation/tf_action_recognition/models/graph/mobilenet_thin/graph_opt.pb\n",
      "[2018-07-25 17:35:00,542] [TfPoseEstimator] [INFO] loading graph from /Users/david/Documents/system_implemetation/tf_action_recognition/models/graph/mobilenet_thin/graph_opt.pb(default size=320x240)\n"
     ]
    },
    {
     "name": "stdout",
     "output_type": "stream",
     "text": [
      "Finish video:  32\n"
     ]
    },
    {
     "name": "stderr",
     "output_type": "stream",
     "text": [
      "[2018-07-25 17:36:15,640] [TfPoseEstimator-Video] [DEBUG] initialization mobilenet_thin : /Users/david/Documents/system_implemetation/tf_action_recognition/models/graph/mobilenet_thin/graph_opt.pb\n",
      "[2018-07-25 17:36:15,645] [TfPoseEstimator] [INFO] loading graph from /Users/david/Documents/system_implemetation/tf_action_recognition/models/graph/mobilenet_thin/graph_opt.pb(default size=320x240)\n"
     ]
    },
    {
     "name": "stdout",
     "output_type": "stream",
     "text": [
      "Finish video:  33\n"
     ]
    },
    {
     "name": "stderr",
     "output_type": "stream",
     "text": [
      "[2018-07-25 17:38:06,320] [TfPoseEstimator-Video] [DEBUG] initialization mobilenet_thin : /Users/david/Documents/system_implemetation/tf_action_recognition/models/graph/mobilenet_thin/graph_opt.pb\n",
      "[2018-07-25 17:38:06,321] [TfPoseEstimator] [INFO] loading graph from /Users/david/Documents/system_implemetation/tf_action_recognition/models/graph/mobilenet_thin/graph_opt.pb(default size=320x240)\n"
     ]
    },
    {
     "name": "stdout",
     "output_type": "stream",
     "text": [
      "Finish video:  34\n"
     ]
    },
    {
     "name": "stderr",
     "output_type": "stream",
     "text": [
      "[2018-07-25 17:39:23,850] [TfPoseEstimator-Video] [DEBUG] initialization mobilenet_thin : /Users/david/Documents/system_implemetation/tf_action_recognition/models/graph/mobilenet_thin/graph_opt.pb\n",
      "[2018-07-25 17:39:23,856] [TfPoseEstimator] [INFO] loading graph from /Users/david/Documents/system_implemetation/tf_action_recognition/models/graph/mobilenet_thin/graph_opt.pb(default size=320x240)\n"
     ]
    },
    {
     "name": "stdout",
     "output_type": "stream",
     "text": [
      "Finish video:  35\n"
     ]
    },
    {
     "name": "stderr",
     "output_type": "stream",
     "text": [
      "[2018-07-25 17:40:45,248] [TfPoseEstimator-Video] [DEBUG] initialization mobilenet_thin : /Users/david/Documents/system_implemetation/tf_action_recognition/models/graph/mobilenet_thin/graph_opt.pb\n",
      "[2018-07-25 17:40:45,248] [TfPoseEstimator] [INFO] loading graph from /Users/david/Documents/system_implemetation/tf_action_recognition/models/graph/mobilenet_thin/graph_opt.pb(default size=320x240)\n"
     ]
    },
    {
     "name": "stdout",
     "output_type": "stream",
     "text": [
      "Finish video:  36\n"
     ]
    },
    {
     "name": "stderr",
     "output_type": "stream",
     "text": [
      "[2018-07-25 17:42:11,888] [TfPoseEstimator-Video] [DEBUG] initialization mobilenet_thin : /Users/david/Documents/system_implemetation/tf_action_recognition/models/graph/mobilenet_thin/graph_opt.pb\n",
      "[2018-07-25 17:42:11,888] [TfPoseEstimator] [INFO] loading graph from /Users/david/Documents/system_implemetation/tf_action_recognition/models/graph/mobilenet_thin/graph_opt.pb(default size=320x240)\n"
     ]
    },
    {
     "name": "stdout",
     "output_type": "stream",
     "text": [
      "Finish video:  37\n"
     ]
    },
    {
     "name": "stderr",
     "output_type": "stream",
     "text": [
      "[2018-07-25 17:43:42,472] [TfPoseEstimator-Video] [DEBUG] initialization mobilenet_thin : /Users/david/Documents/system_implemetation/tf_action_recognition/models/graph/mobilenet_thin/graph_opt.pb\n",
      "[2018-07-25 17:43:42,475] [TfPoseEstimator] [INFO] loading graph from /Users/david/Documents/system_implemetation/tf_action_recognition/models/graph/mobilenet_thin/graph_opt.pb(default size=320x240)\n"
     ]
    },
    {
     "name": "stdout",
     "output_type": "stream",
     "text": [
      "Finish video:  38\n"
     ]
    },
    {
     "name": "stderr",
     "output_type": "stream",
     "text": [
      "[2018-07-25 17:45:18,532] [TfPoseEstimator-Video] [DEBUG] initialization mobilenet_thin : /Users/david/Documents/system_implemetation/tf_action_recognition/models/graph/mobilenet_thin/graph_opt.pb\n",
      "[2018-07-25 17:45:18,533] [TfPoseEstimator] [INFO] loading graph from /Users/david/Documents/system_implemetation/tf_action_recognition/models/graph/mobilenet_thin/graph_opt.pb(default size=320x240)\n"
     ]
    },
    {
     "name": "stdout",
     "output_type": "stream",
     "text": [
      "Finish video:  39\n"
     ]
    },
    {
     "name": "stderr",
     "output_type": "stream",
     "text": [
      "[2018-07-25 17:47:05,445] [TfPoseEstimator-Video] [DEBUG] initialization mobilenet_thin : /Users/david/Documents/system_implemetation/tf_action_recognition/models/graph/mobilenet_thin/graph_opt.pb\n",
      "[2018-07-25 17:47:05,450] [TfPoseEstimator] [INFO] loading graph from /Users/david/Documents/system_implemetation/tf_action_recognition/models/graph/mobilenet_thin/graph_opt.pb(default size=320x240)\n"
     ]
    },
    {
     "name": "stdout",
     "output_type": "stream",
     "text": [
      "Finish video:  40\n"
     ]
    },
    {
     "name": "stderr",
     "output_type": "stream",
     "text": [
      "[2018-07-25 17:48:52,992] [TfPoseEstimator-Video] [DEBUG] initialization mobilenet_thin : /Users/david/Documents/system_implemetation/tf_action_recognition/models/graph/mobilenet_thin/graph_opt.pb\n",
      "[2018-07-25 17:48:52,993] [TfPoseEstimator] [INFO] loading graph from /Users/david/Documents/system_implemetation/tf_action_recognition/models/graph/mobilenet_thin/graph_opt.pb(default size=320x240)\n"
     ]
    },
    {
     "name": "stdout",
     "output_type": "stream",
     "text": [
      "Finish video:  41\n"
     ]
    },
    {
     "name": "stderr",
     "output_type": "stream",
     "text": [
      "[2018-07-25 17:50:49,914] [TfPoseEstimator-Video] [DEBUG] initialization mobilenet_thin : /Users/david/Documents/system_implemetation/tf_action_recognition/models/graph/mobilenet_thin/graph_opt.pb\n",
      "[2018-07-25 17:50:49,919] [TfPoseEstimator] [INFO] loading graph from /Users/david/Documents/system_implemetation/tf_action_recognition/models/graph/mobilenet_thin/graph_opt.pb(default size=320x240)\n"
     ]
    },
    {
     "name": "stdout",
     "output_type": "stream",
     "text": [
      "Finish video:  42\n"
     ]
    },
    {
     "name": "stderr",
     "output_type": "stream",
     "text": [
      "[2018-07-25 17:52:52,581] [TfPoseEstimator-Video] [DEBUG] initialization mobilenet_thin : /Users/david/Documents/system_implemetation/tf_action_recognition/models/graph/mobilenet_thin/graph_opt.pb\n",
      "[2018-07-25 17:52:52,581] [TfPoseEstimator] [INFO] loading graph from /Users/david/Documents/system_implemetation/tf_action_recognition/models/graph/mobilenet_thin/graph_opt.pb(default size=320x240)\n"
     ]
    },
    {
     "name": "stdout",
     "output_type": "stream",
     "text": [
      "Finish video:  43\n"
     ]
    },
    {
     "name": "stderr",
     "output_type": "stream",
     "text": [
      "[2018-07-25 17:54:59,293] [TfPoseEstimator-Video] [DEBUG] initialization mobilenet_thin : /Users/david/Documents/system_implemetation/tf_action_recognition/models/graph/mobilenet_thin/graph_opt.pb\n",
      "[2018-07-25 17:54:59,294] [TfPoseEstimator] [INFO] loading graph from /Users/david/Documents/system_implemetation/tf_action_recognition/models/graph/mobilenet_thin/graph_opt.pb(default size=320x240)\n"
     ]
    },
    {
     "name": "stdout",
     "output_type": "stream",
     "text": [
      "Finish video:  44\n"
     ]
    },
    {
     "name": "stderr",
     "output_type": "stream",
     "text": [
      "[2018-07-25 17:57:13,774] [TfPoseEstimator-Video] [DEBUG] initialization mobilenet_thin : /Users/david/Documents/system_implemetation/tf_action_recognition/models/graph/mobilenet_thin/graph_opt.pb\n",
      "[2018-07-25 17:57:13,779] [TfPoseEstimator] [INFO] loading graph from /Users/david/Documents/system_implemetation/tf_action_recognition/models/graph/mobilenet_thin/graph_opt.pb(default size=320x240)\n"
     ]
    },
    {
     "name": "stdout",
     "output_type": "stream",
     "text": [
      "Finish video:  45\n"
     ]
    },
    {
     "name": "stderr",
     "output_type": "stream",
     "text": [
      "[2018-07-25 17:59:33,882] [TfPoseEstimator-Video] [DEBUG] initialization mobilenet_thin : /Users/david/Documents/system_implemetation/tf_action_recognition/models/graph/mobilenet_thin/graph_opt.pb\n",
      "[2018-07-25 17:59:33,882] [TfPoseEstimator] [INFO] loading graph from /Users/david/Documents/system_implemetation/tf_action_recognition/models/graph/mobilenet_thin/graph_opt.pb(default size=320x240)\n"
     ]
    },
    {
     "name": "stdout",
     "output_type": "stream",
     "text": [
      "Finish video:  46\n"
     ]
    },
    {
     "name": "stderr",
     "output_type": "stream",
     "text": [
      "[2018-07-25 18:02:32,800] [TfPoseEstimator-Video] [DEBUG] initialization mobilenet_thin : /Users/david/Documents/system_implemetation/tf_action_recognition/models/graph/mobilenet_thin/graph_opt.pb\n",
      "[2018-07-25 18:02:32,804] [TfPoseEstimator] [INFO] loading graph from /Users/david/Documents/system_implemetation/tf_action_recognition/models/graph/mobilenet_thin/graph_opt.pb(default size=320x240)\n"
     ]
    },
    {
     "name": "stdout",
     "output_type": "stream",
     "text": [
      "Finish video:  47\n"
     ]
    },
    {
     "name": "stderr",
     "output_type": "stream",
     "text": [
      "[2018-07-25 18:05:26,281] [TfPoseEstimator-Video] [DEBUG] initialization mobilenet_thin : /Users/david/Documents/system_implemetation/tf_action_recognition/models/graph/mobilenet_thin/graph_opt.pb\n",
      "[2018-07-25 18:05:26,283] [TfPoseEstimator] [INFO] loading graph from /Users/david/Documents/system_implemetation/tf_action_recognition/models/graph/mobilenet_thin/graph_opt.pb(default size=320x240)\n"
     ]
    },
    {
     "name": "stdout",
     "output_type": "stream",
     "text": [
      "Finish video:  48\n"
     ]
    },
    {
     "name": "stderr",
     "output_type": "stream",
     "text": [
      "[2018-07-25 18:08:16,145] [TfPoseEstimator-Video] [DEBUG] initialization mobilenet_thin : /Users/david/Documents/system_implemetation/tf_action_recognition/models/graph/mobilenet_thin/graph_opt.pb\n",
      "[2018-07-25 18:08:16,148] [TfPoseEstimator] [INFO] loading graph from /Users/david/Documents/system_implemetation/tf_action_recognition/models/graph/mobilenet_thin/graph_opt.pb(default size=320x240)\n"
     ]
    },
    {
     "name": "stdout",
     "output_type": "stream",
     "text": [
      "Finish video:  49\n"
     ]
    },
    {
     "name": "stderr",
     "output_type": "stream",
     "text": [
      "[2018-07-25 18:11:10,680] [TfPoseEstimator-Video] [DEBUG] initialization mobilenet_thin : /Users/david/Documents/system_implemetation/tf_action_recognition/models/graph/mobilenet_thin/graph_opt.pb\n",
      "[2018-07-25 18:11:10,685] [TfPoseEstimator] [INFO] loading graph from /Users/david/Documents/system_implemetation/tf_action_recognition/models/graph/mobilenet_thin/graph_opt.pb(default size=320x240)\n"
     ]
    },
    {
     "name": "stdout",
     "output_type": "stream",
     "text": [
      "Finish video:  50\n"
     ]
    },
    {
     "name": "stderr",
     "output_type": "stream",
     "text": [
      "[2018-07-25 18:14:32,372] [TfPoseEstimator-Video] [DEBUG] initialization mobilenet_thin : /Users/david/Documents/system_implemetation/tf_action_recognition/models/graph/mobilenet_thin/graph_opt.pb\n",
      "[2018-07-25 18:14:32,375] [TfPoseEstimator] [INFO] loading graph from /Users/david/Documents/system_implemetation/tf_action_recognition/models/graph/mobilenet_thin/graph_opt.pb(default size=320x240)\n"
     ]
    },
    {
     "name": "stdout",
     "output_type": "stream",
     "text": [
      "Finish video:  51\n"
     ]
    },
    {
     "name": "stderr",
     "output_type": "stream",
     "text": [
      "[2018-07-25 18:17:54,315] [TfPoseEstimator-Video] [DEBUG] initialization mobilenet_thin : /Users/david/Documents/system_implemetation/tf_action_recognition/models/graph/mobilenet_thin/graph_opt.pb\n",
      "[2018-07-25 18:17:54,320] [TfPoseEstimator] [INFO] loading graph from /Users/david/Documents/system_implemetation/tf_action_recognition/models/graph/mobilenet_thin/graph_opt.pb(default size=320x240)\n"
     ]
    },
    {
     "name": "stdout",
     "output_type": "stream",
     "text": [
      "Finish video:  52\n"
     ]
    },
    {
     "name": "stderr",
     "output_type": "stream",
     "text": [
      "[2018-07-25 18:21:32,270] [TfPoseEstimator-Video] [DEBUG] initialization mobilenet_thin : /Users/david/Documents/system_implemetation/tf_action_recognition/models/graph/mobilenet_thin/graph_opt.pb\n",
      "[2018-07-25 18:21:32,275] [TfPoseEstimator] [INFO] loading graph from /Users/david/Documents/system_implemetation/tf_action_recognition/models/graph/mobilenet_thin/graph_opt.pb(default size=320x240)\n"
     ]
    },
    {
     "name": "stdout",
     "output_type": "stream",
     "text": [
      "Finish video:  53\n"
     ]
    },
    {
     "name": "stderr",
     "output_type": "stream",
     "text": [
      "[2018-07-25 18:25:56,797] [TfPoseEstimator-Video] [DEBUG] initialization mobilenet_thin : /Users/david/Documents/system_implemetation/tf_action_recognition/models/graph/mobilenet_thin/graph_opt.pb\n",
      "[2018-07-25 18:25:56,800] [TfPoseEstimator] [INFO] loading graph from /Users/david/Documents/system_implemetation/tf_action_recognition/models/graph/mobilenet_thin/graph_opt.pb(default size=320x240)\n"
     ]
    },
    {
     "name": "stdout",
     "output_type": "stream",
     "text": [
      "Finish video:  54\n"
     ]
    },
    {
     "name": "stderr",
     "output_type": "stream",
     "text": [
      "[2018-07-25 18:30:13,367] [TfPoseEstimator-Video] [DEBUG] initialization mobilenet_thin : /Users/david/Documents/system_implemetation/tf_action_recognition/models/graph/mobilenet_thin/graph_opt.pb\n",
      "[2018-07-25 18:30:13,371] [TfPoseEstimator] [INFO] loading graph from /Users/david/Documents/system_implemetation/tf_action_recognition/models/graph/mobilenet_thin/graph_opt.pb(default size=320x240)\n"
     ]
    },
    {
     "name": "stdout",
     "output_type": "stream",
     "text": [
      "Finish video:  55\n"
     ]
    },
    {
     "name": "stderr",
     "output_type": "stream",
     "text": [
      "[2018-07-25 18:34:44,100] [TfPoseEstimator-Video] [DEBUG] initialization mobilenet_thin : /Users/david/Documents/system_implemetation/tf_action_recognition/models/graph/mobilenet_thin/graph_opt.pb\n",
      "[2018-07-25 18:34:44,105] [TfPoseEstimator] [INFO] loading graph from /Users/david/Documents/system_implemetation/tf_action_recognition/models/graph/mobilenet_thin/graph_opt.pb(default size=320x240)\n"
     ]
    },
    {
     "name": "stdout",
     "output_type": "stream",
     "text": [
      "Finish video:  56\n"
     ]
    }
   ],
   "source": [
    "import os\n",
    "from pathlib import Path\n",
    "\n",
    "video_dict = { 'PlayingCello':0,'PlayingDaf':1,\n",
    "              'PlayingDhol':2,'PlayingFlute':3,\n",
    "              'PlayingGuitar':4,'PlayingPiano':5\n",
    "              , 'PlayingSitar':6,'PlayingTabla':7,'PlayingViolin':8}\n",
    "\n",
    "mypath = Path().absolute()\n",
    "dataset_path = os.path.abspath(os.path.join(mypath, os.pardir))+\"/action_dataset\"\n",
    "\n",
    "feature_set=[]\n",
    "\n",
    "for subdir, dirs, files in os.walk(dataset_path):\n",
    "    for dirss in dirs:\n",
    "        finished_video = 0\n",
    "        if (dirss in video_dict):\n",
    "            for filename in os.listdir(os.path.join(subdir,dirss)):\n",
    "                abs_path =os.path.join(subdir,dirss,filename)\n",
    "                feature =inference_video(abs_path)\n",
    "                classification = get_classification(dirss)\n",
    "                feature =list(feature)\n",
    "                feature_set.append([feature,classification])\n",
    "                print(\"Finish video: \", finished_video+1)\n",
    "                finished_video+=1\n",
    "with open('feature_set.pickle','wb') as file:\n",
    "    pickle.dump(feature_set,file)\n"
   ]
  },
  {
   "cell_type": "code",
   "execution_count": null,
   "metadata": {},
   "outputs": [],
   "source": [
    "import pickle\n",
    "import random\n",
    "\n",
    "def load_dataset_and_label:\n",
    "    with open('feature_set.pickle','rb') as f:\n",
    "\t\tfeatures_set = pickle.load(f)\n",
    "        random.shuffle(features_set)\n",
    "        features_set = np.array(features_set)\n",
    "        \n",
    "        testing_size_rate = 0.1\n",
    "        testing_size = int(testing_size_rate*len(features_set))\n",
    "        \n",
    "        \n",
    "        "
   ]
  },
  {
   "cell_type": "code",
   "execution_count": null,
   "metadata": {},
   "outputs": [],
   "source": []
  },
  {
   "cell_type": "code",
   "execution_count": null,
   "metadata": {},
   "outputs": [],
   "source": []
  }
 ],
 "metadata": {
  "kernelspec": {
   "display_name": "Python 3",
   "language": "python",
   "name": "python3"
  },
  "language_info": {
   "codemirror_mode": {
    "name": "ipython",
    "version": 3
   },
   "file_extension": ".py",
   "mimetype": "text/x-python",
   "name": "python",
   "nbconvert_exporter": "python",
   "pygments_lexer": "ipython3",
   "version": "3.6.5"
  }
 },
 "nbformat": 4,
 "nbformat_minor": 2
}
